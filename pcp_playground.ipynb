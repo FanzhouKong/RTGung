{
 "cells": [
  {
   "cell_type": "code",
   "execution_count": 27,
   "metadata": {
    "collapsed": true
   },
   "outputs": [],
   "source": [
    "import pubchempy as pcp\n",
    "import pandas as pd\n",
    "%load_ext autoreload\n",
    "\n",
    "%autoreload 2"
   ]
  },
  {
   "cell_type": "code",
   "execution_count": 28,
   "outputs": [],
   "source": [
    "import pka_lookup_pubchem as plp"
   ],
   "metadata": {
    "collapsed": false,
    "pycharm": {
     "name": "#%%\n"
    }
   }
  },
  {
   "cell_type": "code",
   "execution_count": 37,
   "outputs": [
    {
     "data": {
      "text/plain": "'CC1C(C(C(C(O1)OC2C(OC(C(C2O)O)OC(=O)C34CCC(C3C5CCC6C7(CCC(=O)C(C7CCC6(C5(CC4)C(=O)O)C)(C)C)C)C(=C)C)COC8C(C(C(C(O8)CO)O)O)O)O)O)O'"
     },
     "execution_count": 37,
     "metadata": {},
     "output_type": "execute_result"
    }
   ],
   "source": [
    "data.iloc[0]['Smi_code']"
   ],
   "metadata": {
    "collapsed": false,
    "pycharm": {
     "name": "#%%\n"
    }
   }
  },
  {
   "cell_type": "code",
   "execution_count": 47,
   "outputs": [
    {
     "name": "stdout",
     "output_type": "stream",
     "text": [
      "{'source': 'Pubchem', 'Pubchem_CID': '176', 'pKa': '4.55', 'reference': 'Tested as SID 103176092 in AID 781326: https://pubchem.ncbi.nlm.nih.gov/bioassay/781326#sid=103176092', 'Substance_CASRN': '64-19-7', 'Canonical_SMILES': 'CC(=O)O', 'Isomeric_SMILES': 'CC(=O)O', 'InChI': 'InChI=1S/C2H4O2/c1-2(3)4/h1H3,(H,3,4)', 'InChIKey': 'QTBSBXVTEAMEQO-UHFFFAOYSA-N', 'IUPAC_Name': 'acetic acid'}\n"
     ]
    }
   ],
   "source": [
    "print(plp.pka_lookup_pubchem(\"QTBSBXVTEAMEQO-UHFFFAOYSA-N\", \"inchikey\"))"
   ],
   "metadata": {
    "collapsed": false,
    "pycharm": {
     "name": "#%%\n"
    }
   }
  }
 ],
 "metadata": {
  "kernelspec": {
   "name": "conda-env-tensorflow-py",
   "language": "python",
   "display_name": "Python [conda env:tensorflow] *"
  },
  "language_info": {
   "codemirror_mode": {
    "name": "ipython",
    "version": 2
   },
   "file_extension": ".py",
   "mimetype": "text/x-python",
   "name": "python",
   "nbconvert_exporter": "python",
   "pygments_lexer": "ipython2",
   "version": "2.7.6"
  }
 },
 "nbformat": 4,
 "nbformat_minor": 0
}