{
 "cells": [
  {
   "cell_type": "code",
   "execution_count": 3,
   "metadata": {
    "collapsed": true,
    "pycharm": {
     "name": "#%%\n"
    }
   },
   "outputs": [],
   "source": [
    "import pandas\n",
    "import pandas as pd\n",
    "import pandas_datareader.io"
   ]
  },
  {
   "cell_type": "code",
   "execution_count": 4,
   "outputs": [
    {
     "name": "stderr",
     "output_type": "stream",
     "text": [
      "/var/folders/sq/fc0hszxn0q1_1cc187d_zjm80000gn/T/ipykernel_54427/3485344118.py:1: DtypeWarning: Columns (0) have mixed types. Specify dtype option on import or set low_memory=False.\n",
      "  data = pd.read_csv(\"~/Documents/GitHub/LC_binbase/all_data_info.csv\")\n"
     ]
    }
   ],
   "source": [
    "data = pd.read_csv(\"~/Documents/GitHub/LC_binbase/all_data_info.csv\")"
   ],
   "metadata": {
    "collapsed": false,
    "pycharm": {
     "name": "#%%\n"
    }
   }
  },
  {
   "cell_type": "code",
   "execution_count": 5,
   "outputs": [
    {
     "data": {
      "text/plain": "                db_id        inchikey  precursormz precursor_type   entropy  \\\n0  CCMSLIB00000001547  IYDKWWDUBYWQGF   981.540394         [M+H]+  4.468333   \n1  CCMSLIB00000001548  KNGPFNUOXXLKCN   940.459233         [M+H]+  2.665666   \n2  CCMSLIB00000001549  WXDBUBIFYCCNLE   456.251127         [M+H]+  0.525565   \n3  CCMSLIB00000001550  CGZKSPLDUIRCIO   545.149583         [M+H]+  1.862571   \n4  CCMSLIB00000001554  WCNJVJCYRBJSLC  1025.606467     [M+H-H2O]+  4.013931   \n\n                    name                                             smiles  \\\n0  3-Des-Microcystein_LR  CC1C(NC(=O)C(NC(=O)C(C(NC(=O)C(NC(=O)C(NC(=O)C...   \n1             Hoiamide B  CCCC(C)C(C(C)C1C(C(CC2=NC(=CS2)C3=NC(CS3)(C4=N...   \n2          Malyngamide C  CCCCCCCC(CC=CCCC(=O)NCC(=CCl)C12C(O1)C(CCC2=O)...   \n3             Scytonemin  C1=CC=C2C(=C1)C3=C(C(=O)C(=CC4=CC=C(C=C4)O)C3=...   \n4           Cyclomarin A  CC1C(=O)NC(C(=O)NC(C(=O)N(C(C(=O)NC(C(=O)NC(C(...   \n\n  db_name  \n0    gnps  \n1    gnps  \n2    gnps  \n3    gnps  \n4    gnps  ",
      "text/html": "<div>\n<style scoped>\n    .dataframe tbody tr th:only-of-type {\n        vertical-align: middle;\n    }\n\n    .dataframe tbody tr th {\n        vertical-align: top;\n    }\n\n    .dataframe thead th {\n        text-align: right;\n    }\n</style>\n<table border=\"1\" class=\"dataframe\">\n  <thead>\n    <tr style=\"text-align: right;\">\n      <th></th>\n      <th>db_id</th>\n      <th>inchikey</th>\n      <th>precursormz</th>\n      <th>precursor_type</th>\n      <th>entropy</th>\n      <th>name</th>\n      <th>smiles</th>\n      <th>db_name</th>\n    </tr>\n  </thead>\n  <tbody>\n    <tr>\n      <th>0</th>\n      <td>CCMSLIB00000001547</td>\n      <td>IYDKWWDUBYWQGF</td>\n      <td>981.540394</td>\n      <td>[M+H]+</td>\n      <td>4.468333</td>\n      <td>3-Des-Microcystein_LR</td>\n      <td>CC1C(NC(=O)C(NC(=O)C(C(NC(=O)C(NC(=O)C(NC(=O)C...</td>\n      <td>gnps</td>\n    </tr>\n    <tr>\n      <th>1</th>\n      <td>CCMSLIB00000001548</td>\n      <td>KNGPFNUOXXLKCN</td>\n      <td>940.459233</td>\n      <td>[M+H]+</td>\n      <td>2.665666</td>\n      <td>Hoiamide B</td>\n      <td>CCCC(C)C(C(C)C1C(C(CC2=NC(=CS2)C3=NC(CS3)(C4=N...</td>\n      <td>gnps</td>\n    </tr>\n    <tr>\n      <th>2</th>\n      <td>CCMSLIB00000001549</td>\n      <td>WXDBUBIFYCCNLE</td>\n      <td>456.251127</td>\n      <td>[M+H]+</td>\n      <td>0.525565</td>\n      <td>Malyngamide C</td>\n      <td>CCCCCCCC(CC=CCCC(=O)NCC(=CCl)C12C(O1)C(CCC2=O)...</td>\n      <td>gnps</td>\n    </tr>\n    <tr>\n      <th>3</th>\n      <td>CCMSLIB00000001550</td>\n      <td>CGZKSPLDUIRCIO</td>\n      <td>545.149583</td>\n      <td>[M+H]+</td>\n      <td>1.862571</td>\n      <td>Scytonemin</td>\n      <td>C1=CC=C2C(=C1)C3=C(C(=O)C(=CC4=CC=C(C=C4)O)C3=...</td>\n      <td>gnps</td>\n    </tr>\n    <tr>\n      <th>4</th>\n      <td>CCMSLIB00000001554</td>\n      <td>WCNJVJCYRBJSLC</td>\n      <td>1025.606467</td>\n      <td>[M+H-H2O]+</td>\n      <td>4.013931</td>\n      <td>Cyclomarin A</td>\n      <td>CC1C(=O)NC(C(=O)NC(C(=O)N(C(C(=O)NC(C(=O)NC(C(...</td>\n      <td>gnps</td>\n    </tr>\n  </tbody>\n</table>\n</div>"
     },
     "execution_count": 5,
     "metadata": {},
     "output_type": "execute_result"
    }
   ],
   "source": [
    "data.head()"
   ],
   "metadata": {
    "collapsed": false,
    "pycharm": {
     "name": "#%%\n"
    }
   }
  },
  {
   "cell_type": "code",
   "execution_count": 8,
   "outputs": [
    {
     "data": {
      "text/plain": "648793"
     },
     "execution_count": 8,
     "metadata": {},
     "output_type": "execute_result"
    }
   ],
   "source": [
    "len(data['smiles'].unique())"
   ],
   "metadata": {
    "collapsed": false,
    "pycharm": {
     "name": "#%%\n"
    }
   }
  }
 ],
 "metadata": {
  "kernelspec": {
   "name": "tensorflow",
   "language": "python",
   "display_name": "Python 3.9 (tensorflow)"
  },
  "language_info": {
   "codemirror_mode": {
    "name": "ipython",
    "version": 2
   },
   "file_extension": ".py",
   "mimetype": "text/x-python",
   "name": "python",
   "nbconvert_exporter": "python",
   "pygments_lexer": "ipython2",
   "version": "2.7.6"
  }
 },
 "nbformat": 4,
 "nbformat_minor": 0
}