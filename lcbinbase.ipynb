{
 "cells": [
  {
   "cell_type": "code",
   "execution_count": 27,
   "outputs": [
    {
     "name": "stdout",
     "output_type": "stream",
     "text": [
      "The autoreload extension is already loaded. To reload it, use:\n",
      "  %reload_ext autoreload\n"
     ]
    }
   ],
   "source": [
    "import numpy as np\n",
    "import pandas as pd\n",
    "import sklearn.ensemble\n",
    "from sklearn.ensemble import RandomForestClassifier, RandomForestRegressor\n",
    "from sklearn.preprocessing import StandardScaler\n",
    "import random\n",
    "import seaborn as sns\n",
    "from sklearn.linear_model import LogisticRegression\n",
    "from sklearn.model_selection import cross_val_predict, cross_validate\n",
    "from autogluon.tabular import TabularDataset, TabularPredictor\n",
    "import time\n",
    "\n",
    "import toolsets.feature_engineering as fe\n",
    "import toolsets.data_prep as data_prep\n",
    "import toolsets.auto_rt_pred as ap\n",
    "import seaborn as sns\n",
    "from tqdm import tqdm\n",
    "import toolsets.spectra_operations as so\n",
    "%load_ext autoreload\n",
    "%autoreload 2\n",
    "import toolsets.helpers as helper"
   ],
   "metadata": {
    "collapsed": false,
    "pycharm": {
     "name": "#%%\n"
    }
   }
  },
  {
   "cell_type": "markdown",
   "source": [
    "# below cell is for preprocessing"
   ],
   "metadata": {
    "collapsed": false,
    "pycharm": {
     "name": "#%% md\n"
    }
   }
  },
  {
   "cell_type": "code",
   "execution_count": 36,
   "outputs": [
    {
     "name": "stderr",
     "output_type": "stream",
     "text": [
      "100%|██████████| 2149/2149 [00:04<00:00, 523.25it/s]\n",
      "100%|██████████| 352/352 [02:39<00:00,  2.21it/s]\n"
     ]
    }
   ],
   "source": [
    "data_binbase = pd.read_csv(\"/Users/fanzhoukong/Documents/GitHub/LC_binbase/bins_shen_hilic_pos_neg_nist.csv\")\n",
    "data_original = pd.read_csv(\"/Users/fanzhoukong/Documents/GitHub/LC_binbase/bins_shen_hilic_pos_neg.csv\")\n",
    "result_filtered = helper.pick_results(data_binbase, data_original)\n",
    "result_filtered = helper.get_smiles(result_filtered)"
   ],
   "metadata": {
    "collapsed": false,
    "pycharm": {
     "name": "#%%\n"
    }
   }
  },
  {
   "cell_type": "code",
   "execution_count": 37,
   "outputs": [],
   "source": [
    "result_filtered.to_csv(\"data/lcbinbase/pdata_hilic_5m_orbitrap_beh_pos_neg.csv\", index = False)"
   ],
   "metadata": {
    "collapsed": false,
    "pycharm": {
     "name": "#%%\n"
    }
   }
  },
  {
   "cell_type": "code",
   "execution_count": 39,
   "outputs": [],
   "source": [
    "del(result_filtered)"
   ],
   "metadata": {
    "collapsed": false,
    "pycharm": {
     "name": "#%%\n"
    }
   }
  },
  {
   "cell_type": "code",
   "execution_count": 40,
   "outputs": [],
   "source": [
    "# data = pd.read_csv(\"data/lcbinbase/pdata_hilic_5m_orbitrap_beh_pos_neg.csv\")\n"
   ],
   "metadata": {
    "collapsed": false,
    "pycharm": {
     "name": "#%%\n"
    }
   }
  },
  {
   "cell_type": "code",
   "execution_count": 43,
   "outputs": [],
   "source": [
    "# from rdkit import Chem\n",
    "# from rdkit.Chem import Draw\n",
    "# Draw.MolToImage(Chem.MolFromSmarts(data.iloc[2]['SMILES']), molsPerRow=6, subImgSize=(180, 180))"
   ],
   "metadata": {
    "collapsed": false,
    "pycharm": {
     "name": "#%%\n"
    }
   }
  },
  {
   "cell_type": "code",
   "execution_count": null,
   "outputs": [],
   "source": [],
   "metadata": {
    "collapsed": false,
    "pycharm": {
     "name": "#%%\n"
    }
   }
  },
  {
   "cell_type": "code",
   "execution_count": 87,
   "outputs": [
    {
     "name": "stderr",
     "output_type": "stream",
     "text": [
      "100%|██████████| 352/352 [00:33<00:00, 10.38it/s]\n"
     ]
    }
   ],
   "source": [
    "# data = helper.get_class(data)"
   ],
   "metadata": {
    "collapsed": false,
    "pycharm": {
     "name": "#%%\n"
    }
   }
  },
  {
   "cell_type": "code",
   "execution_count": 97,
   "outputs": [],
   "source": [
    "data.to_csv(\"data/lcbinbase/pdata_hilic_5m_orbitrap_beh_pos_neg.csv\", index = False)"
   ],
   "metadata": {
    "collapsed": false,
    "pycharm": {
     "name": "#%%\n"
    }
   }
  },
  {
   "cell_type": "code",
   "execution_count": null,
   "outputs": [],
   "source": [],
   "metadata": {
    "collapsed": false,
    "pycharm": {
     "name": "#%%\n"
    }
   }
  },
  {
   "cell_type": "code",
   "execution_count": 93,
   "outputs": [
    {
     "data": {
      "text/plain": "82"
     },
     "execution_count": 93,
     "metadata": {},
     "output_type": "execute_result"
    }
   ],
   "source": [
    "len(organic_acids['library_inchi'].unique())"
   ],
   "metadata": {
    "collapsed": false,
    "pycharm": {
     "name": "#%%\n"
    }
   }
  },
  {
   "cell_type": "code",
   "execution_count": 79,
   "outputs": [],
   "source": [
    "from toolsets import classyfire"
   ],
   "metadata": {
    "collapsed": false,
    "pycharm": {
     "name": "#%%\n"
    }
   }
  },
  {
   "cell_type": "code",
   "execution_count": 41,
   "outputs": [
    {
     "data": {
      "text/plain": "      score             notes instrument_type  \\\n0  0.933503  04ef4c23cf5c0c60        orbitrap   \n1  0.861438  04ef4c23cf5c0c60        orbitrap   \n2  0.904654  04ef4c23cf5c0c60        orbitrap   \n3  0.875608  04ef4c23cf5c0c60        orbitrap   \n4  0.779220  04ef4c23cf5c0c60        orbitrap   \n\n                                     comments  \\\n0  5m hilic | orbitrap | beh amide | negative   \n1  5m hilic | orbitrap | beh amide | negative   \n2  5m hilic | orbitrap | beh amide | negative   \n3  5m hilic | orbitrap | beh amide | negative   \n4  5m hilic | orbitrap | beh amide | negative   \n\n                                          splash  precursormz  \\\n0  splash10-0a4i-2900000000-e2d4228d01eb088edb4c   187.006927   \n1  splash10-03di-0090000000-50c784f4d23edc26266a   339.265289   \n2  splash10-0059-9240000000-bdfa675ad1d767596591   212.002335   \n3  splash10-0k9i-0920000000-201c2ecaf1c7c631902e   182.045883   \n4  splash10-0059-0090000000-733db74da453b040b1db   830.590759   \n\n   normalized_entropy                library_inchi library_adduct  \\\n0            0.585092  WGNAKZGUSRVWRH-UHFFFAOYSA-N         [M-H]-   \n1            0.532720  HPTJABJPZMULFH-UHFFFAOYSA-N         [M-H]-   \n2            0.756018  BXFFHSIDQOFMLE-UHFFFAOYSA-N         [M-H]-   \n3            0.521532  HXACOUQIXZGNBF-UHFFFAOYSA-N         [M-H]-   \n4            0.635848  FORFDCPQKJHEBF-VPUSDGANSA-N      [M+CHO2]-   \n\n   retention_time   entropy  \\\n0        9.545269  0.642789   \n1       10.857703  0.954507   \n2       12.596388  1.354602   \n3       14.534856  1.084496   \n4       14.604331  1.630917   \n\n                                                msms  \\\n0  48.0717\\t450267.34\\n51.3891\\t393197.50\\n75.133...   \n1  59.3399\\t5257.62\\n68.3057\\t4320.52\\n75.1902\\t4...   \n2  48.2187\\t3133.33\\n54.4944\\t3158.54\\n62.1300\\t3...   \n3  53.8822\\t826.05\\n65.9996\\t987.83\\n92.0508\\t192...   \n4  152.9959\\t2948.56\\n168.0431\\t14618.28\\n202.078...   \n\n                                              SMILES  \n0                          CC1=CC=C(C=C1)OS(=O)(=O)O  \n1                 C1CCC(CC1)NC(=O)NCCCCCCCCCCCC(=O)O  \n2                   C1=CC=C2C(=C1)C(=CN2)OS(=O)(=O)O  \n3                          CC1=NC=C(C(=C1O)C(=O)O)CO  \n4  CCCCCCCCCCCCCCCCCC(=O)OCC(COP(=O)([O-])OCC[N+]...  ",
      "text/html": "<div>\n<style scoped>\n    .dataframe tbody tr th:only-of-type {\n        vertical-align: middle;\n    }\n\n    .dataframe tbody tr th {\n        vertical-align: top;\n    }\n\n    .dataframe thead th {\n        text-align: right;\n    }\n</style>\n<table border=\"1\" class=\"dataframe\">\n  <thead>\n    <tr style=\"text-align: right;\">\n      <th></th>\n      <th>score</th>\n      <th>notes</th>\n      <th>instrument_type</th>\n      <th>comments</th>\n      <th>splash</th>\n      <th>precursormz</th>\n      <th>normalized_entropy</th>\n      <th>library_inchi</th>\n      <th>library_adduct</th>\n      <th>retention_time</th>\n      <th>entropy</th>\n      <th>msms</th>\n      <th>SMILES</th>\n    </tr>\n  </thead>\n  <tbody>\n    <tr>\n      <th>0</th>\n      <td>0.933503</td>\n      <td>04ef4c23cf5c0c60</td>\n      <td>orbitrap</td>\n      <td>5m hilic | orbitrap | beh amide | negative</td>\n      <td>splash10-0a4i-2900000000-e2d4228d01eb088edb4c</td>\n      <td>187.006927</td>\n      <td>0.585092</td>\n      <td>WGNAKZGUSRVWRH-UHFFFAOYSA-N</td>\n      <td>[M-H]-</td>\n      <td>9.545269</td>\n      <td>0.642789</td>\n      <td>48.0717\\t450267.34\\n51.3891\\t393197.50\\n75.133...</td>\n      <td>CC1=CC=C(C=C1)OS(=O)(=O)O</td>\n    </tr>\n    <tr>\n      <th>1</th>\n      <td>0.861438</td>\n      <td>04ef4c23cf5c0c60</td>\n      <td>orbitrap</td>\n      <td>5m hilic | orbitrap | beh amide | negative</td>\n      <td>splash10-03di-0090000000-50c784f4d23edc26266a</td>\n      <td>339.265289</td>\n      <td>0.532720</td>\n      <td>HPTJABJPZMULFH-UHFFFAOYSA-N</td>\n      <td>[M-H]-</td>\n      <td>10.857703</td>\n      <td>0.954507</td>\n      <td>59.3399\\t5257.62\\n68.3057\\t4320.52\\n75.1902\\t4...</td>\n      <td>C1CCC(CC1)NC(=O)NCCCCCCCCCCCC(=O)O</td>\n    </tr>\n    <tr>\n      <th>2</th>\n      <td>0.904654</td>\n      <td>04ef4c23cf5c0c60</td>\n      <td>orbitrap</td>\n      <td>5m hilic | orbitrap | beh amide | negative</td>\n      <td>splash10-0059-9240000000-bdfa675ad1d767596591</td>\n      <td>212.002335</td>\n      <td>0.756018</td>\n      <td>BXFFHSIDQOFMLE-UHFFFAOYSA-N</td>\n      <td>[M-H]-</td>\n      <td>12.596388</td>\n      <td>1.354602</td>\n      <td>48.2187\\t3133.33\\n54.4944\\t3158.54\\n62.1300\\t3...</td>\n      <td>C1=CC=C2C(=C1)C(=CN2)OS(=O)(=O)O</td>\n    </tr>\n    <tr>\n      <th>3</th>\n      <td>0.875608</td>\n      <td>04ef4c23cf5c0c60</td>\n      <td>orbitrap</td>\n      <td>5m hilic | orbitrap | beh amide | negative</td>\n      <td>splash10-0k9i-0920000000-201c2ecaf1c7c631902e</td>\n      <td>182.045883</td>\n      <td>0.521532</td>\n      <td>HXACOUQIXZGNBF-UHFFFAOYSA-N</td>\n      <td>[M-H]-</td>\n      <td>14.534856</td>\n      <td>1.084496</td>\n      <td>53.8822\\t826.05\\n65.9996\\t987.83\\n92.0508\\t192...</td>\n      <td>CC1=NC=C(C(=C1O)C(=O)O)CO</td>\n    </tr>\n    <tr>\n      <th>4</th>\n      <td>0.779220</td>\n      <td>04ef4c23cf5c0c60</td>\n      <td>orbitrap</td>\n      <td>5m hilic | orbitrap | beh amide | negative</td>\n      <td>splash10-0059-0090000000-733db74da453b040b1db</td>\n      <td>830.590759</td>\n      <td>0.635848</td>\n      <td>FORFDCPQKJHEBF-VPUSDGANSA-N</td>\n      <td>[M+CHO2]-</td>\n      <td>14.604331</td>\n      <td>1.630917</td>\n      <td>152.9959\\t2948.56\\n168.0431\\t14618.28\\n202.078...</td>\n      <td>CCCCCCCCCCCCCCCCCC(=O)OCC(COP(=O)([O-])OCC[N+]...</td>\n    </tr>\n  </tbody>\n</table>\n</div>"
     },
     "execution_count": 41,
     "metadata": {},
     "output_type": "execute_result"
    }
   ],
   "source": [
    "data.head()"
   ],
   "metadata": {
    "collapsed": false,
    "pycharm": {
     "name": "#%%\n"
    }
   }
  },
  {
   "cell_type": "code",
   "execution_count": 20,
   "outputs": [
    {
     "name": "stdout",
     "output_type": "stream",
     "text": [
      "i am ms2 spectra plotter, and I have been sideloaded successfully\n",
      "I have 2 functions, head to tail plot and ms2 plot\n"
     ]
    }
   ],
   "source": [
    "import toolsets.ms2_spectra_plotter as ms2plotter"
   ],
   "metadata": {
    "collapsed": false,
    "pycharm": {
     "name": "#%%\n"
    }
   }
  },
  {
   "cell_type": "code",
   "execution_count": 39,
   "outputs": [
    {
     "data": {
      "text/plain": "<AxesSubplot:xlabel='retention_time', ylabel='Count'>"
     },
     "execution_count": 39,
     "metadata": {},
     "output_type": "execute_result"
    },
    {
     "data": {
      "text/plain": "<Figure size 432x288 with 1 Axes>",
      "image/png": "[encoded data removed]"
     },
     "metadata": {},
     "output_type": "display_data"
    }
   ],
   "source": [
    "sns.histplot(data_temp['retention_time'])"
   ],
   "metadata": {
    "collapsed": false,
    "pycharm": {
     "name": "#%%\n"
    }
   }
  },
  {
   "cell_type": "code",
   "execution_count": 40,
   "outputs": [
    {
     "data": {
      "text/plain": "13.891981820633164"
     },
     "execution_count": 40,
     "metadata": {},
     "output_type": "execute_result"
    }
   ],
   "source": [
    "data_temp['retention_time'].quantile(0.05)"
   ],
   "metadata": {
    "collapsed": false,
    "pycharm": {
     "name": "#%%\n"
    }
   }
  },
  {
   "cell_type": "code",
   "execution_count": 44,
   "outputs": [
    {
     "data": {
      "text/plain": "20.471460334265284"
     },
     "execution_count": 44,
     "metadata": {},
     "output_type": "execute_result"
    }
   ],
   "source": [
    "data_temp['retention_time'].describe()['mean']"
   ],
   "metadata": {
    "collapsed": false,
    "pycharm": {
     "name": "#%%\n"
    }
   }
  },
  {
   "cell_type": "code",
   "execution_count": 47,
   "outputs": [],
   "source": [
    "right_bound = data_temp['retention_time'].describe()['mean']+data_temp['retention_time'].describe()['std']\n",
    "left_bound = data_temp['retention_time'].describe()['mean']-data_temp['retention_time'].describe()['std']"
   ],
   "metadata": {
    "collapsed": false,
    "pycharm": {
     "name": "#%%\n"
    }
   }
  },
  {
   "cell_type": "code",
   "execution_count": 48,
   "outputs": [],
   "source": [
    "data_temp_include = data_temp.loc[data_temp['retention_time'].between(left_bound, right_bound, inclusive=\"both\")]"
   ],
   "metadata": {
    "collapsed": false,
    "pycharm": {
     "name": "#%%\n"
    }
   }
  },
  {
   "cell_type": "code",
   "execution_count": 49,
   "outputs": [],
   "source": [
    "data_temp_exclude = data_temp.loc[~data_temp['retention_time'].between(left_bound, right_bound, inclusive=\"both\")]"
   ],
   "metadata": {
    "collapsed": false,
    "pycharm": {
     "name": "#%%\n"
    }
   }
  },
  {
   "cell_type": "code",
   "execution_count": 50,
   "outputs": [
    {
     "data": {
      "text/plain": "(25, 1625)"
     },
     "execution_count": 50,
     "metadata": {},
     "output_type": "execute_result"
    }
   ],
   "source": [
    "data_temp_include.shape"
   ],
   "metadata": {
    "collapsed": false,
    "pycharm": {
     "name": "#%%\n"
    }
   }
  },
  {
   "cell_type": "code",
   "execution_count": 52,
   "outputs": [
    {
     "data": {
      "text/plain": "        score             notes instrument_type  \\\n47   0.934037  04ef4c23cf5c0c60        orbitrap   \n164  0.934291  04ef4c23cf5c0c60        orbitrap   \n\n                                       comments  \\\n47   5m hilic | orbitrap | beh amide | negative   \n164  5m hilic | orbitrap | beh amide | negative   \n\n                                            splash  precursormz  \\\n47   splash10-0a4i-2910000000-ac641457b7f3075f4ca1   187.006927   \n164  splash10-0a4i-2910000000-18c1d343e27d24d1c6a7   187.006882   \n\n     normalized_entropy                library_inchi library_adduct  \\\n47             0.591873  WGNAKZGUSRVWRH-UHFFFAOYSA-N         [M-H]-   \n164            0.592024  WGNAKZGUSRVWRH-UHFFFAOYSA-N         [M-H]-   \n\n     retention_time  ...     TSRW10         MW       AMW  WPath  WPol  \\\n47        79.434094  ...  42.369147  188.01433  9.400716    207    12   \n164       74.719501  ...  42.369147  188.01433  9.400716    207    12   \n\n     Zagreb1  Zagreb2  mZagreb1  mZagreb2  \\\n47      58.0     61.0  5.534722  2.541667   \n164     58.0     61.0  5.534722  2.541667   \n\n                                                  msms  \n47   43.4719\\t658597.44\\n55.5859\\t641756.81\\n56.126...  \n164  52.2323\\t588410.38\\n79.0183\\t417944.53\\n79.951...  \n\n[2 rows x 1625 columns]",
      "text/html": "<div>\n<style scoped>\n    .dataframe tbody tr th:only-of-type {\n        vertical-align: middle;\n    }\n\n    .dataframe tbody tr th {\n        vertical-align: top;\n    }\n\n    .dataframe thead th {\n        text-align: right;\n    }\n</style>\n<table border=\"1\" class=\"dataframe\">\n  <thead>\n    <tr style=\"text-align: right;\">\n      <th></th>\n      <th>score</th>\n      <th>notes</th>\n      <th>instrument_type</th>\n      <th>comments</th>\n      <th>splash</th>\n      <th>precursormz</th>\n      <th>normalized_entropy</th>\n      <th>library_inchi</th>\n      <th>library_adduct</th>\n      <th>retention_time</th>\n      <th>...</th>\n      <th>TSRW10</th>\n      <th>MW</th>\n      <th>AMW</th>\n      <th>WPath</th>\n      <th>WPol</th>\n      <th>Zagreb1</th>\n      <th>Zagreb2</th>\n      <th>mZagreb1</th>\n      <th>mZagreb2</th>\n      <th>msms</th>\n    </tr>\n  </thead>\n  <tbody>\n    <tr>\n      <th>47</th>\n      <td>0.934037</td>\n      <td>04ef4c23cf5c0c60</td>\n      <td>orbitrap</td>\n      <td>5m hilic | orbitrap | beh amide | negative</td>\n      <td>splash10-0a4i-2910000000-ac641457b7f3075f4ca1</td>\n      <td>187.006927</td>\n      <td>0.591873</td>\n      <td>WGNAKZGUSRVWRH-UHFFFAOYSA-N</td>\n      <td>[M-H]-</td>\n      <td>79.434094</td>\n      <td>...</td>\n      <td>42.369147</td>\n      <td>188.01433</td>\n      <td>9.400716</td>\n      <td>207</td>\n      <td>12</td>\n      <td>58.0</td>\n      <td>61.0</td>\n      <td>5.534722</td>\n      <td>2.541667</td>\n      <td>43.4719\\t658597.44\\n55.5859\\t641756.81\\n56.126...</td>\n    </tr>\n    <tr>\n      <th>164</th>\n      <td>0.934291</td>\n      <td>04ef4c23cf5c0c60</td>\n      <td>orbitrap</td>\n      <td>5m hilic | orbitrap | beh amide | negative</td>\n      <td>splash10-0a4i-2910000000-18c1d343e27d24d1c6a7</td>\n      <td>187.006882</td>\n      <td>0.592024</td>\n      <td>WGNAKZGUSRVWRH-UHFFFAOYSA-N</td>\n      <td>[M-H]-</td>\n      <td>74.719501</td>\n      <td>...</td>\n      <td>42.369147</td>\n      <td>188.01433</td>\n      <td>9.400716</td>\n      <td>207</td>\n      <td>12</td>\n      <td>58.0</td>\n      <td>61.0</td>\n      <td>5.534722</td>\n      <td>2.541667</td>\n      <td>52.2323\\t588410.38\\n79.0183\\t417944.53\\n79.951...</td>\n    </tr>\n  </tbody>\n</table>\n<p>2 rows × 1625 columns</p>\n</div>"
     },
     "execution_count": 52,
     "metadata": {},
     "output_type": "execute_result"
    }
   ],
   "source": [
    "data_temp_exclude"
   ],
   "metadata": {
    "collapsed": false,
    "pycharm": {
     "name": "#%%\n"
    }
   }
  },
  {
   "cell_type": "code",
   "execution_count": 56,
   "outputs": [
    {
     "data": {
      "text/plain": "count    25.000000\nmean     15.943033\nstd       5.224142\nmin       9.545269\n25%      14.324961\n50%      14.454435\n75%      14.759411\nmax      34.647135\nName: retention_time, dtype: float64"
     },
     "execution_count": 56,
     "metadata": {},
     "output_type": "execute_result"
    }
   ],
   "source": [
    "data_temp_include['retention_time'].describe()"
   ],
   "metadata": {
    "collapsed": false,
    "pycharm": {
     "name": "#%%\n"
    }
   }
  },
  {
   "cell_type": "code",
   "execution_count": 62,
   "outputs": [
    {
     "data": {
      "text/plain": "<module 'matplotlib.pyplot' from '/opt/homebrew/Caskroom/miniforge/base/envs/tensorflow/lib/python3.9/site-packages/matplotlib/pyplot.py'>"
     },
     "execution_count": 62,
     "metadata": {},
     "output_type": "execute_result"
    },
    {
     "data": {
      "text/plain": "<Figure size 504x360 with 1 Axes>",
      "image/png": "[encoded data removed]"
     },
     "metadata": {},
     "output_type": "display_data"
    }
   ],
   "source": [
    "ms2plotter.head_to_tail_plot(data_temp_include.iloc[0]['msms'],data_temp_exclude.iloc[1]['msms'])"
   ],
   "metadata": {
    "collapsed": false,
    "pycharm": {
     "name": "#%%\n"
    }
   }
  },
  {
   "cell_type": "code",
   "execution_count": 323,
   "outputs": [],
   "source": [
    "data_hilic = pd.concat([data['retention_time'],descriptors_imputed], axis=1)"
   ],
   "metadata": {
    "collapsed": false,
    "pycharm": {
     "name": "#%%\n"
    }
   }
  },
  {
   "cell_type": "code",
   "execution_count": 351,
   "outputs": [
    {
     "data": {
      "text/plain": "        score             notes instrument_type  \\\n0    0.933503  04ef4c23cf5c0c60        orbitrap   \n26   0.932428  04ef4c23cf5c0c60        orbitrap   \n47   0.934037  04ef4c23cf5c0c60        orbitrap   \n164  0.934291  04ef4c23cf5c0c60        orbitrap   \n411  0.932785  04ef4c23cf5c0c60        orbitrap   \n460  0.933005  04ef4c23cf5c0c60        orbitrap   \n521  0.932851  04ef4c23cf5c0c60        orbitrap   \n543  0.933147  04ef4c23cf5c0c60        orbitrap   \n558  0.932969  04ef4c23cf5c0c60        orbitrap   \n598  0.932845  04ef4c23cf5c0c60        orbitrap   \n635  0.932770  04ef4c23cf5c0c60        orbitrap   \n669  0.933076  04ef4c23cf5c0c60        orbitrap   \n674  0.933044  04ef4c23cf5c0c60        orbitrap   \n684  0.932638  04ef4c23cf5c0c60        orbitrap   \n688  0.932820  04ef4c23cf5c0c60        orbitrap   \n710  0.932993  04ef4c23cf5c0c60        orbitrap   \n715  0.933130  04ef4c23cf5c0c60        orbitrap   \n746  0.932967  04ef4c23cf5c0c60        orbitrap   \n782  0.932859  04ef4c23cf5c0c60        orbitrap   \n796  0.932990  04ef4c23cf5c0c60        orbitrap   \n828  0.933020  04ef4c23cf5c0c60        orbitrap   \n835  0.932881  04ef4c23cf5c0c60        orbitrap   \n862  0.932999  04ef4c23cf5c0c60        orbitrap   \n886  0.932796  04ef4c23cf5c0c60        orbitrap   \n981  0.932961  04ef4c23cf5c0c60        orbitrap   \n990  0.933004  04ef4c23cf5c0c60        orbitrap   \n999  0.932859  04ef4c23cf5c0c60        orbitrap   \n\n                                       comments  \\\n0    5m hilic | orbitrap | beh amide | negative   \n26   5m hilic | orbitrap | beh amide | negative   \n47   5m hilic | orbitrap | beh amide | negative   \n164  5m hilic | orbitrap | beh amide | negative   \n411  5m hilic | orbitrap | beh amide | negative   \n460  5m hilic | orbitrap | beh amide | negative   \n521  5m hilic | orbitrap | beh amide | negative   \n543  5m hilic | orbitrap | beh amide | negative   \n558  5m hilic | orbitrap | beh amide | negative   \n598  5m hilic | orbitrap | beh amide | negative   \n635  5m hilic | orbitrap | beh amide | negative   \n669  5m hilic | orbitrap | beh amide | negative   \n674  5m hilic | orbitrap | beh amide | negative   \n684  5m hilic | orbitrap | beh amide | negative   \n688  5m hilic | orbitrap | beh amide | negative   \n710  5m hilic | orbitrap | beh amide | negative   \n715  5m hilic | orbitrap | beh amide | negative   \n746  5m hilic | orbitrap | beh amide | negative   \n782  5m hilic | orbitrap | beh amide | negative   \n796  5m hilic | orbitrap | beh amide | negative   \n828  5m hilic | orbitrap | beh amide | negative   \n835  5m hilic | orbitrap | beh amide | negative   \n862  5m hilic | orbitrap | beh amide | negative   \n886  5m hilic | orbitrap | beh amide | negative   \n981  5m hilic | orbitrap | beh amide | negative   \n990  5m hilic | orbitrap | beh amide | negative   \n999  5m hilic | orbitrap | beh amide | negative   \n\n                                            splash  precursormz  \\\n0    splash10-0a4i-2900000000-e2d4228d01eb088edb4c   187.006927   \n26   splash10-0a4i-1900000000-aeebd4cee644bd147192   187.006866   \n47   splash10-0a4i-2910000000-ac641457b7f3075f4ca1   187.006927   \n164  splash10-0a4i-2910000000-18c1d343e27d24d1c6a7   187.006882   \n411  splash10-0a4i-1900000000-1c9fd20dfbcd8728612a   187.006864   \n460  splash10-0a4i-1910000000-ffe04d0521840fd1223f   187.006784   \n521  splash10-0a4i-1900000000-4dce8a6c5dcc87c01aa3   187.006842   \n543  splash10-0a4i-2910000000-a3f765faa32975203647   187.006780   \n558  splash10-0a4i-1900000000-758349a6f2f269950d15   187.006783   \n598  splash10-0a4i-1910000000-312f4f8aba73f9e6cf12   187.006812   \n635  splash10-0a4i-1900000000-89b0de61e7a780309833   187.006827   \n669  splash10-0a4i-2910000000-5946f61d3bf8fd1800a6   187.006847   \n674  splash10-0a4i-1900000000-55576dc8645a9d87fb0c   187.006813   \n684  splash10-0a4i-2900000000-acc2d4d5150763aa31b6   187.006853   \n688  splash10-0a4i-2900000000-dcc03a09bf304ea038dc   187.006848   \n710  splash10-0a4i-2910000000-995aff764f70a95de800   187.006810   \n715  splash10-0a4i-2910000000-3683473b021f54983f89   187.006606   \n746  splash10-0a4i-1900000000-a142d38df79d8c655fea   187.006875   \n782  splash10-0a4i-1900000000-b872f88f909515945229   187.006826   \n796  splash10-0a4i-1900000000-6aaf11a4117d7ff205e6   187.006578   \n828  splash10-0a4i-2910000000-07a746e52f97355a1bb0   187.006605   \n835  splash10-0a4i-2900000000-3124b34e77bbd696d633   187.006866   \n862  splash10-0a4i-1900000000-0f8627229673edd3d4a7   187.006862   \n886  splash10-0a4i-1900000000-db61317a0616ba5fd352   187.006820   \n981  splash10-0a4i-1910000000-462fa0cb4421da3eb05a   187.006846   \n990  splash10-0a4i-1900000000-9ce47d5c59a9a78260ed   187.006671   \n999  splash10-0a4i-2900000000-15d776764e5d09e2ec63   187.006788   \n\n     normalized_entropy                library_inchi library_adduct  \\\n0              0.585092  WGNAKZGUSRVWRH-UHFFFAOYSA-N         [M-H]-   \n26             0.565701  WGNAKZGUSRVWRH-UHFFFAOYSA-N         [M-H]-   \n47             0.591873  WGNAKZGUSRVWRH-UHFFFAOYSA-N         [M-H]-   \n164            0.592024  WGNAKZGUSRVWRH-UHFFFAOYSA-N         [M-H]-   \n411            0.570274  WGNAKZGUSRVWRH-UHFFFAOYSA-N         [M-H]-   \n460            0.573083  WGNAKZGUSRVWRH-UHFFFAOYSA-N         [M-H]-   \n521            0.572360  WGNAKZGUSRVWRH-UHFFFAOYSA-N         [M-H]-   \n543            0.573399  WGNAKZGUSRVWRH-UHFFFAOYSA-N         [M-H]-   \n558            0.577678  WGNAKZGUSRVWRH-UHFFFAOYSA-N         [M-H]-   \n598            0.571618  WGNAKZGUSRVWRH-UHFFFAOYSA-N         [M-H]-   \n635            0.571580  WGNAKZGUSRVWRH-UHFFFAOYSA-N         [M-H]-   \n669            0.577388  WGNAKZGUSRVWRH-UHFFFAOYSA-N         [M-H]-   \n674            0.575040  WGNAKZGUSRVWRH-UHFFFAOYSA-N         [M-H]-   \n684            0.570117  WGNAKZGUSRVWRH-UHFFFAOYSA-N         [M-H]-   \n688            0.571577  WGNAKZGUSRVWRH-UHFFFAOYSA-N         [M-H]-   \n710            0.573290  WGNAKZGUSRVWRH-UHFFFAOYSA-N         [M-H]-   \n715            0.575674  WGNAKZGUSRVWRH-UHFFFAOYSA-N         [M-H]-   \n746            0.576205  WGNAKZGUSRVWRH-UHFFFAOYSA-N         [M-H]-   \n782            0.572828  WGNAKZGUSRVWRH-UHFFFAOYSA-N         [M-H]-   \n796            0.578168  WGNAKZGUSRVWRH-UHFFFAOYSA-N         [M-H]-   \n828            0.578110  WGNAKZGUSRVWRH-UHFFFAOYSA-N         [M-H]-   \n835            0.571544  WGNAKZGUSRVWRH-UHFFFAOYSA-N         [M-H]-   \n862            0.575076  WGNAKZGUSRVWRH-UHFFFAOYSA-N         [M-H]-   \n886            0.572677  WGNAKZGUSRVWRH-UHFFFAOYSA-N         [M-H]-   \n981            0.574382  WGNAKZGUSRVWRH-UHFFFAOYSA-N         [M-H]-   \n990            0.576343  WGNAKZGUSRVWRH-UHFFFAOYSA-N         [M-H]-   \n999            0.573584  WGNAKZGUSRVWRH-UHFFFAOYSA-N         [M-H]-   \n\n     retention_time  ...   MAXdssC      MAXdO  MINssCH2   MINdssC      MINdO  \\\n0          9.545269  ...  0.043426  10.218913  0.107917 -0.003430  10.218913   \n26        34.647135  ...  0.050926  10.218913  0.069444 -0.003430  10.218913   \n47        79.434094  ...  0.050926  10.218913  0.184308 -0.003430  10.218913   \n164       74.719501  ...  0.043426  10.218913  0.041879 -0.003430  10.218913   \n411       14.547311  ...  0.050926  10.218913  0.107917 -0.003430  10.218913   \n460       14.105863  ...  0.050926  10.218913  0.041667 -0.003430  10.218913   \n521       14.454435  ...  0.050926  10.218913  0.107917 -0.003430  10.218913   \n543       14.558808  ...  0.050926  10.218913  0.085532 -0.065463  10.218913   \n558       29.551713  ...  0.043426  10.218913  0.041879 -0.003430  10.218913   \n598       14.298367  ...  0.043426  10.218913  0.107917 -0.003430  10.218913   \n635       14.427144  ...  0.050926  10.218913  0.041667 -0.003430  10.218913   \n669       21.473810  ...  0.050926  10.218913  0.107917 -0.065463  10.218913   \n674       14.392904  ...  0.050926  10.218913  0.107917 -0.003430  10.218913   \n684       14.408232  ...  0.043426  10.218913  0.085532 -0.003430  10.218913   \n688       14.324961  ...  0.050926  10.218913  0.107917 -0.003430  10.218913   \n710       14.144196  ...  0.043426  10.218913  0.041879 -0.003430  10.218913   \n715       14.862159  ...  0.043426  10.218913  0.085532 -0.003430  10.218913   \n746       14.527564  ...  0.050926  10.218913  0.041879 -0.003430  10.218913   \n782       14.485562  ...  0.050926  10.218913  0.085532 -0.003430  10.218913   \n796       14.820066  ...  0.050926  10.218913  0.085532 -0.003430  10.218913   \n828       14.839964  ...  0.050926  10.218913  0.107917 -0.003430  10.218913   \n835       14.374187  ...  0.043426  10.218913  0.184308 -0.065463  10.218913   \n862       14.350486  ...  0.043426  10.218913  0.085532 -0.003430  10.218913   \n886       14.244403  ...  0.043426  10.218913  0.085532 -0.003430  10.218913   \n981       13.800318  ...  0.043426  10.218913  0.069444 -0.003430  10.218913   \n990       14.759411  ...  0.043426  10.218913  0.041879 -0.003430  10.218913   \n999       14.631565  ...  0.043426  10.218913  0.184308 -0.003430  10.218913   \n\n     Kier3   MDEC-22   MDEC-23   MDEC-33  MDEO-11  \n0      4.0  3.301927  5.656854  0.333333      1.5  \n26     4.0  3.301927  5.656854  0.333333      1.5  \n47     4.0  3.301927  5.656854  0.333333      1.5  \n164    4.0  3.301927  5.656854  0.333333      1.5  \n411    4.0  3.301927  5.656854  0.333333      1.5  \n460    4.0  3.301927  5.656854  0.333333      1.5  \n521    4.0  3.301927  5.656854  0.333333      1.5  \n543    4.0  3.301927  5.656854  0.333333      1.5  \n558    4.0  3.301927  5.656854  0.333333      1.5  \n598    4.0  3.301927  5.656854  0.333333      1.5  \n635    4.0  3.301927  5.656854  0.333333      1.5  \n669    4.0  3.301927  5.656854  0.333333      1.5  \n674    4.0  3.301927  5.656854  0.333333      1.5  \n684    4.0  3.301927  5.656854  0.333333      1.5  \n688    4.0  3.301927  5.656854  0.333333      1.5  \n710    4.0  3.301927  5.656854  0.333333      1.5  \n715    4.0  3.301927  5.656854  0.333333      1.5  \n746    4.0  3.301927  5.656854  0.333333      1.5  \n782    4.0  3.301927  5.656854  0.333333      1.5  \n796    4.0  3.301927  5.656854  0.333333      1.5  \n828    4.0  3.301927  5.656854  0.333333      1.5  \n835    4.0  3.301927  5.656854  0.333333      1.5  \n862    4.0  3.301927  5.656854  0.333333      1.5  \n886    4.0  3.301927  5.656854  0.333333      1.5  \n981    4.0  3.301927  5.656854  0.333333      1.5  \n990    4.0  3.301927  5.656854  0.333333      1.5  \n999    4.0  3.301927  5.656854  0.333333      1.5  \n\n[27 rows x 1443 columns]",
      "text/html": "<div>\n<style scoped>\n    .dataframe tbody tr th:only-of-type {\n        vertical-align: middle;\n    }\n\n    .dataframe tbody tr th {\n        vertical-align: top;\n    }\n\n    .dataframe thead th {\n        text-align: right;\n    }\n</style>\n<table border=\"1\" class=\"dataframe\">\n  <thead>\n    <tr style=\"text-align: right;\">\n      <th></th>\n      <th>score</th>\n      <th>notes</th>\n      <th>instrument_type</th>\n      <th>comments</th>\n      <th>splash</th>\n      <th>precursormz</th>\n      <th>normalized_entropy</th>\n      <th>library_inchi</th>\n      <th>library_adduct</th>\n      <th>retention_time</th>\n      <th>...</th>\n      <th>MAXdssC</th>\n      <th>MAXdO</th>\n      <th>MINssCH2</th>\n      <th>MINdssC</th>\n      <th>MINdO</th>\n      <th>Kier3</th>\n      <th>MDEC-22</th>\n      <th>MDEC-23</th>\n      <th>MDEC-33</th>\n      <th>MDEO-11</th>\n    </tr>\n  </thead>\n  <tbody>\n    <tr>\n      <th>0</th>\n      <td>0.933503</td>\n      <td>04ef4c23cf5c0c60</td>\n      <td>orbitrap</td>\n      <td>5m hilic | orbitrap | beh amide | negative</td>\n      <td>splash10-0a4i-2900000000-e2d4228d01eb088edb4c</td>\n      <td>187.006927</td>\n      <td>0.585092</td>\n      <td>WGNAKZGUSRVWRH-UHFFFAOYSA-N</td>\n      <td>[M-H]-</td>\n      <td>9.545269</td>\n      <td>...</td>\n      <td>0.043426</td>\n      <td>10.218913</td>\n      <td>0.107917</td>\n      <td>-0.003430</td>\n      <td>10.218913</td>\n      <td>4.0</td>\n      <td>3.301927</td>\n      <td>5.656854</td>\n      <td>0.333333</td>\n      <td>1.5</td>\n    </tr>\n    <tr>\n      <th>26</th>\n      <td>0.932428</td>\n      <td>04ef4c23cf5c0c60</td>\n      <td>orbitrap</td>\n      <td>5m hilic | orbitrap | beh amide | negative</td>\n      <td>splash10-0a4i-1900000000-aeebd4cee644bd147192</td>\n      <td>187.006866</td>\n      <td>0.565701</td>\n      <td>WGNAKZGUSRVWRH-UHFFFAOYSA-N</td>\n      <td>[M-H]-</td>\n      <td>34.647135</td>\n      <td>...</td>\n      <td>0.050926</td>\n      <td>10.218913</td>\n      <td>0.069444</td>\n      <td>-0.003430</td>\n      <td>10.218913</td>\n      <td>4.0</td>\n      <td>3.301927</td>\n      <td>5.656854</td>\n      <td>0.333333</td>\n      <td>1.5</td>\n    </tr>\n    <tr>\n      <th>47</th>\n      <td>0.934037</td>\n      <td>04ef4c23cf5c0c60</td>\n      <td>orbitrap</td>\n      <td>5m hilic | orbitrap | beh amide | negative</td>\n      <td>splash10-0a4i-2910000000-ac641457b7f3075f4ca1</td>\n      <td>187.006927</td>\n      <td>0.591873</td>\n      <td>WGNAKZGUSRVWRH-UHFFFAOYSA-N</td>\n      <td>[M-H]-</td>\n      <td>79.434094</td>\n      <td>...</td>\n      <td>0.050926</td>\n      <td>10.218913</td>\n      <td>0.184308</td>\n      <td>-0.003430</td>\n      <td>10.218913</td>\n      <td>4.0</td>\n      <td>3.301927</td>\n      <td>5.656854</td>\n      <td>0.333333</td>\n      <td>1.5</td>\n    </tr>\n    <tr>\n      <th>164</th>\n      <td>0.934291</td>\n      <td>04ef4c23cf5c0c60</td>\n      <td>orbitrap</td>\n      <td>5m hilic | orbitrap | beh amide | negative</td>\n      <td>splash10-0a4i-2910000000-18c1d343e27d24d1c6a7</td>\n      <td>187.006882</td>\n      <td>0.592024</td>\n      <td>WGNAKZGUSRVWRH-UHFFFAOYSA-N</td>\n      <td>[M-H]-</td>\n      <td>74.719501</td>\n      <td>...</td>\n      <td>0.043426</td>\n      <td>10.218913</td>\n      <td>0.041879</td>\n      <td>-0.003430</td>\n      <td>10.218913</td>\n      <td>4.0</td>\n      <td>3.301927</td>\n      <td>5.656854</td>\n      <td>0.333333</td>\n      <td>1.5</td>\n    </tr>\n    <tr>\n      <th>411</th>\n      <td>0.932785</td>\n      <td>04ef4c23cf5c0c60</td>\n      <td>orbitrap</td>\n      <td>5m hilic | orbitrap | beh amide | negative</td>\n      <td>splash10-0a4i-1900000000-1c9fd20dfbcd8728612a</td>\n      <td>187.006864</td>\n      <td>0.570274</td>\n      <td>WGNAKZGUSRVWRH-UHFFFAOYSA-N</td>\n      <td>[M-H]-</td>\n      <td>14.547311</td>\n      <td>...</td>\n      <td>0.050926</td>\n      <td>10.218913</td>\n      <td>0.107917</td>\n      <td>-0.003430</td>\n      <td>10.218913</td>\n      <td>4.0</td>\n      <td>3.301927</td>\n      <td>5.656854</td>\n      <td>0.333333</td>\n      <td>1.5</td>\n    </tr>\n    <tr>\n      <th>460</th>\n      <td>0.933005</td>\n      <td>04ef4c23cf5c0c60</td>\n      <td>orbitrap</td>\n      <td>5m hilic | orbitrap | beh amide | negative</td>\n      <td>splash10-0a4i-1910000000-ffe04d0521840fd1223f</td>\n      <td>187.006784</td>\n      <td>0.573083</td>\n      <td>WGNAKZGUSRVWRH-UHFFFAOYSA-N</td>\n      <td>[M-H]-</td>\n      <td>14.105863</td>\n      <td>...</td>\n      <td>0.050926</td>\n      <td>10.218913</td>\n      <td>0.041667</td>\n      <td>-0.003430</td>\n      <td>10.218913</td>\n      <td>4.0</td>\n      <td>3.301927</td>\n      <td>5.656854</td>\n      <td>0.333333</td>\n      <td>1.5</td>\n    </tr>\n    <tr>\n      <th>521</th>\n      <td>0.932851</td>\n      <td>04ef4c23cf5c0c60</td>\n      <td>orbitrap</td>\n      <td>5m hilic | orbitrap | beh amide | negative</td>\n      <td>splash10-0a4i-1900000000-4dce8a6c5dcc87c01aa3</td>\n      <td>187.006842</td>\n      <td>0.572360</td>\n      <td>WGNAKZGUSRVWRH-UHFFFAOYSA-N</td>\n      <td>[M-H]-</td>\n      <td>14.454435</td>\n      <td>...</td>\n      <td>0.050926</td>\n      <td>10.218913</td>\n      <td>0.107917</td>\n      <td>-0.003430</td>\n      <td>10.218913</td>\n      <td>4.0</td>\n      <td>3.301927</td>\n      <td>5.656854</td>\n      <td>0.333333</td>\n      <td>1.5</td>\n    </tr>\n    <tr>\n      <th>543</th>\n      <td>0.933147</td>\n      <td>04ef4c23cf5c0c60</td>\n      <td>orbitrap</td>\n      <td>5m hilic | orbitrap | beh amide | negative</td>\n      <td>splash10-0a4i-2910000000-a3f765faa32975203647</td>\n      <td>187.006780</td>\n      <td>0.573399</td>\n      <td>WGNAKZGUSRVWRH-UHFFFAOYSA-N</td>\n      <td>[M-H]-</td>\n      <td>14.558808</td>\n      <td>...</td>\n      <td>0.050926</td>\n      <td>10.218913</td>\n      <td>0.085532</td>\n      <td>-0.065463</td>\n      <td>10.218913</td>\n      <td>4.0</td>\n      <td>3.301927</td>\n      <td>5.656854</td>\n      <td>0.333333</td>\n      <td>1.5</td>\n    </tr>\n    <tr>\n      <th>558</th>\n      <td>0.932969</td>\n      <td>04ef4c23cf5c0c60</td>\n      <td>orbitrap</td>\n      <td>5m hilic | orbitrap | beh amide | negative</td>\n      <td>splash10-0a4i-1900000000-758349a6f2f269950d15</td>\n      <td>187.006783</td>\n      <td>0.577678</td>\n      <td>WGNAKZGUSRVWRH-UHFFFAOYSA-N</td>\n      <td>[M-H]-</td>\n      <td>29.551713</td>\n      <td>...</td>\n      <td>0.043426</td>\n      <td>10.218913</td>\n      <td>0.041879</td>\n      <td>-0.003430</td>\n      <td>10.218913</td>\n      <td>4.0</td>\n      <td>3.301927</td>\n      <td>5.656854</td>\n      <td>0.333333</td>\n      <td>1.5</td>\n    </tr>\n    <tr>\n      <th>598</th>\n      <td>0.932845</td>\n      <td>04ef4c23cf5c0c60</td>\n      <td>orbitrap</td>\n      <td>5m hilic | orbitrap | beh amide | negative</td>\n      <td>splash10-0a4i-1910000000-312f4f8aba73f9e6cf12</td>\n      <td>187.006812</td>\n      <td>0.571618</td>\n      <td>WGNAKZGUSRVWRH-UHFFFAOYSA-N</td>\n      <td>[M-H]-</td>\n      <td>14.298367</td>\n      <td>...</td>\n      <td>0.043426</td>\n      <td>10.218913</td>\n      <td>0.107917</td>\n      <td>-0.003430</td>\n      <td>10.218913</td>\n      <td>4.0</td>\n      <td>3.301927</td>\n      <td>5.656854</td>\n      <td>0.333333</td>\n      <td>1.5</td>\n    </tr>\n    <tr>\n      <th>635</th>\n      <td>0.932770</td>\n      <td>04ef4c23cf5c0c60</td>\n      <td>orbitrap</td>\n      <td>5m hilic | orbitrap | beh amide | negative</td>\n      <td>splash10-0a4i-1900000000-89b0de61e7a780309833</td>\n      <td>187.006827</td>\n      <td>0.571580</td>\n      <td>WGNAKZGUSRVWRH-UHFFFAOYSA-N</td>\n      <td>[M-H]-</td>\n      <td>14.427144</td>\n      <td>...</td>\n      <td>0.050926</td>\n      <td>10.218913</td>\n      <td>0.041667</td>\n      <td>-0.003430</td>\n      <td>10.218913</td>\n      <td>4.0</td>\n      <td>3.301927</td>\n      <td>5.656854</td>\n      <td>0.333333</td>\n      <td>1.5</td>\n    </tr>\n    <tr>\n      <th>669</th>\n      <td>0.933076</td>\n      <td>04ef4c23cf5c0c60</td>\n      <td>orbitrap</td>\n      <td>5m hilic | orbitrap | beh amide | negative</td>\n      <td>splash10-0a4i-2910000000-5946f61d3bf8fd1800a6</td>\n      <td>187.006847</td>\n      <td>0.577388</td>\n      <td>WGNAKZGUSRVWRH-UHFFFAOYSA-N</td>\n      <td>[M-H]-</td>\n      <td>21.473810</td>\n      <td>...</td>\n      <td>0.050926</td>\n      <td>10.218913</td>\n      <td>0.107917</td>\n      <td>-0.065463</td>\n      <td>10.218913</td>\n      <td>4.0</td>\n      <td>3.301927</td>\n      <td>5.656854</td>\n      <td>0.333333</td>\n      <td>1.5</td>\n    </tr>\n    <tr>\n      <th>674</th>\n      <td>0.933044</td>\n      <td>04ef4c23cf5c0c60</td>\n      <td>orbitrap</td>\n      <td>5m hilic | orbitrap | beh amide | negative</td>\n      <td>splash10-0a4i-1900000000-55576dc8645a9d87fb0c</td>\n      <td>187.006813</td>\n      <td>0.575040</td>\n      <td>WGNAKZGUSRVWRH-UHFFFAOYSA-N</td>\n      <td>[M-H]-</td>\n      <td>14.392904</td>\n      <td>...</td>\n      <td>0.050926</td>\n      <td>10.218913</td>\n      <td>0.107917</td>\n      <td>-0.003430</td>\n      <td>10.218913</td>\n      <td>4.0</td>\n      <td>3.301927</td>\n      <td>5.656854</td>\n      <td>0.333333</td>\n      <td>1.5</td>\n    </tr>\n    <tr>\n      <th>684</th>\n      <td>0.932638</td>\n      <td>04ef4c23cf5c0c60</td>\n      <td>orbitrap</td>\n      <td>5m hilic | orbitrap | beh amide | negative</td>\n      <td>splash10-0a4i-2900000000-acc2d4d5150763aa31b6</td>\n      <td>187.006853</td>\n      <td>0.570117</td>\n      <td>WGNAKZGUSRVWRH-UHFFFAOYSA-N</td>\n      <td>[M-H]-</td>\n      <td>14.408232</td>\n      <td>...</td>\n      <td>0.043426</td>\n      <td>10.218913</td>\n      <td>0.085532</td>\n      <td>-0.003430</td>\n      <td>10.218913</td>\n      <td>4.0</td>\n      <td>3.301927</td>\n      <td>5.656854</td>\n      <td>0.333333</td>\n      <td>1.5</td>\n    </tr>\n    <tr>\n      <th>688</th>\n      <td>0.932820</td>\n      <td>04ef4c23cf5c0c60</td>\n      <td>orbitrap</td>\n      <td>5m hilic | orbitrap | beh amide | negative</td>\n      <td>splash10-0a4i-2900000000-dcc03a09bf304ea038dc</td>\n      <td>187.006848</td>\n      <td>0.571577</td>\n      <td>WGNAKZGUSRVWRH-UHFFFAOYSA-N</td>\n      <td>[M-H]-</td>\n      <td>14.324961</td>\n      <td>...</td>\n      <td>0.050926</td>\n      <td>10.218913</td>\n      <td>0.107917</td>\n      <td>-0.003430</td>\n      <td>10.218913</td>\n      <td>4.0</td>\n      <td>3.301927</td>\n      <td>5.656854</td>\n      <td>0.333333</td>\n      <td>1.5</td>\n    </tr>\n    <tr>\n      <th>710</th>\n      <td>0.932993</td>\n      <td>04ef4c23cf5c0c60</td>\n      <td>orbitrap</td>\n      <td>5m hilic | orbitrap | beh amide | negative</td>\n      <td>splash10-0a4i-2910000000-995aff764f70a95de800</td>\n      <td>187.006810</td>\n      <td>0.573290</td>\n      <td>WGNAKZGUSRVWRH-UHFFFAOYSA-N</td>\n      <td>[M-H]-</td>\n      <td>14.144196</td>\n      <td>...</td>\n      <td>0.043426</td>\n      <td>10.218913</td>\n      <td>0.041879</td>\n      <td>-0.003430</td>\n      <td>10.218913</td>\n      <td>4.0</td>\n      <td>3.301927</td>\n      <td>5.656854</td>\n      <td>0.333333</td>\n      <td>1.5</td>\n    </tr>\n    <tr>\n      <th>715</th>\n      <td>0.933130</td>\n      <td>04ef4c23cf5c0c60</td>\n      <td>orbitrap</td>\n      <td>5m hilic | orbitrap | beh amide | negative</td>\n      <td>splash10-0a4i-2910000000-3683473b021f54983f89</td>\n      <td>187.006606</td>\n      <td>0.575674</td>\n      <td>WGNAKZGUSRVWRH-UHFFFAOYSA-N</td>\n      <td>[M-H]-</td>\n      <td>14.862159</td>\n      <td>...</td>\n      <td>0.043426</td>\n      <td>10.218913</td>\n      <td>0.085532</td>\n      <td>-0.003430</td>\n      <td>10.218913</td>\n      <td>4.0</td>\n      <td>3.301927</td>\n      <td>5.656854</td>\n      <td>0.333333</td>\n      <td>1.5</td>\n    </tr>\n    <tr>\n      <th>746</th>\n      <td>0.932967</td>\n      <td>04ef4c23cf5c0c60</td>\n      <td>orbitrap</td>\n      <td>5m hilic | orbitrap | beh amide | negative</td>\n      <td>splash10-0a4i-1900000000-a142d38df79d8c655fea</td>\n      <td>187.006875</td>\n      <td>0.576205</td>\n      <td>WGNAKZGUSRVWRH-UHFFFAOYSA-N</td>\n      <td>[M-H]-</td>\n      <td>14.527564</td>\n      <td>...</td>\n      <td>0.050926</td>\n      <td>10.218913</td>\n      <td>0.041879</td>\n      <td>-0.003430</td>\n      <td>10.218913</td>\n      <td>4.0</td>\n      <td>3.301927</td>\n      <td>5.656854</td>\n      <td>0.333333</td>\n      <td>1.5</td>\n    </tr>\n    <tr>\n      <th>782</th>\n      <td>0.932859</td>\n      <td>04ef4c23cf5c0c60</td>\n      <td>orbitrap</td>\n      <td>5m hilic | orbitrap | beh amide | negative</td>\n      <td>splash10-0a4i-1900000000-b872f88f909515945229</td>\n      <td>187.006826</td>\n      <td>0.572828</td>\n      <td>WGNAKZGUSRVWRH-UHFFFAOYSA-N</td>\n      <td>[M-H]-</td>\n      <td>14.485562</td>\n      <td>...</td>\n      <td>0.050926</td>\n      <td>10.218913</td>\n      <td>0.085532</td>\n      <td>-0.003430</td>\n      <td>10.218913</td>\n      <td>4.0</td>\n      <td>3.301927</td>\n      <td>5.656854</td>\n      <td>0.333333</td>\n      <td>1.5</td>\n    </tr>\n    <tr>\n      <th>796</th>\n      <td>0.932990</td>\n      <td>04ef4c23cf5c0c60</td>\n      <td>orbitrap</td>\n      <td>5m hilic | orbitrap | beh amide | negative</td>\n      <td>splash10-0a4i-1900000000-6aaf11a4117d7ff205e6</td>\n      <td>187.006578</td>\n      <td>0.578168</td>\n      <td>WGNAKZGUSRVWRH-UHFFFAOYSA-N</td>\n      <td>[M-H]-</td>\n      <td>14.820066</td>\n      <td>...</td>\n      <td>0.050926</td>\n      <td>10.218913</td>\n      <td>0.085532</td>\n      <td>-0.003430</td>\n      <td>10.218913</td>\n      <td>4.0</td>\n      <td>3.301927</td>\n      <td>5.656854</td>\n      <td>0.333333</td>\n      <td>1.5</td>\n    </tr>\n    <tr>\n      <th>828</th>\n      <td>0.933020</td>\n      <td>04ef4c23cf5c0c60</td>\n      <td>orbitrap</td>\n      <td>5m hilic | orbitrap | beh amide | negative</td>\n      <td>splash10-0a4i-2910000000-07a746e52f97355a1bb0</td>\n      <td>187.006605</td>\n      <td>0.578110</td>\n      <td>WGNAKZGUSRVWRH-UHFFFAOYSA-N</td>\n      <td>[M-H]-</td>\n      <td>14.839964</td>\n      <td>...</td>\n      <td>0.050926</td>\n      <td>10.218913</td>\n      <td>0.107917</td>\n      <td>-0.003430</td>\n      <td>10.218913</td>\n      <td>4.0</td>\n      <td>3.301927</td>\n      <td>5.656854</td>\n      <td>0.333333</td>\n      <td>1.5</td>\n    </tr>\n    <tr>\n      <th>835</th>\n      <td>0.932881</td>\n      <td>04ef4c23cf5c0c60</td>\n      <td>orbitrap</td>\n      <td>5m hilic | orbitrap | beh amide | negative</td>\n      <td>splash10-0a4i-2900000000-3124b34e77bbd696d633</td>\n      <td>187.006866</td>\n      <td>0.571544</td>\n      <td>WGNAKZGUSRVWRH-UHFFFAOYSA-N</td>\n      <td>[M-H]-</td>\n      <td>14.374187</td>\n      <td>...</td>\n      <td>0.043426</td>\n      <td>10.218913</td>\n      <td>0.184308</td>\n      <td>-0.065463</td>\n      <td>10.218913</td>\n      <td>4.0</td>\n      <td>3.301927</td>\n      <td>5.656854</td>\n      <td>0.333333</td>\n      <td>1.5</td>\n    </tr>\n    <tr>\n      <th>862</th>\n      <td>0.932999</td>\n      <td>04ef4c23cf5c0c60</td>\n      <td>orbitrap</td>\n      <td>5m hilic | orbitrap | beh amide | negative</td>\n      <td>splash10-0a4i-1900000000-0f8627229673edd3d4a7</td>\n      <td>187.006862</td>\n      <td>0.575076</td>\n      <td>WGNAKZGUSRVWRH-UHFFFAOYSA-N</td>\n      <td>[M-H]-</td>\n      <td>14.350486</td>\n      <td>...</td>\n      <td>0.043426</td>\n      <td>10.218913</td>\n      <td>0.085532</td>\n      <td>-0.003430</td>\n      <td>10.218913</td>\n      <td>4.0</td>\n      <td>3.301927</td>\n      <td>5.656854</td>\n      <td>0.333333</td>\n      <td>1.5</td>\n    </tr>\n    <tr>\n      <th>886</th>\n      <td>0.932796</td>\n      <td>04ef4c23cf5c0c60</td>\n      <td>orbitrap</td>\n      <td>5m hilic | orbitrap | beh amide | negative</td>\n      <td>splash10-0a4i-1900000000-db61317a0616ba5fd352</td>\n      <td>187.006820</td>\n      <td>0.572677</td>\n      <td>WGNAKZGUSRVWRH-UHFFFAOYSA-N</td>\n      <td>[M-H]-</td>\n      <td>14.244403</td>\n      <td>...</td>\n      <td>0.043426</td>\n      <td>10.218913</td>\n      <td>0.085532</td>\n      <td>-0.003430</td>\n      <td>10.218913</td>\n      <td>4.0</td>\n      <td>3.301927</td>\n      <td>5.656854</td>\n      <td>0.333333</td>\n      <td>1.5</td>\n    </tr>\n    <tr>\n      <th>981</th>\n      <td>0.932961</td>\n      <td>04ef4c23cf5c0c60</td>\n      <td>orbitrap</td>\n      <td>5m hilic | orbitrap | beh amide | negative</td>\n      <td>splash10-0a4i-1910000000-462fa0cb4421da3eb05a</td>\n      <td>187.006846</td>\n      <td>0.574382</td>\n      <td>WGNAKZGUSRVWRH-UHFFFAOYSA-N</td>\n      <td>[M-H]-</td>\n      <td>13.800318</td>\n      <td>...</td>\n      <td>0.043426</td>\n      <td>10.218913</td>\n      <td>0.069444</td>\n      <td>-0.003430</td>\n      <td>10.218913</td>\n      <td>4.0</td>\n      <td>3.301927</td>\n      <td>5.656854</td>\n      <td>0.333333</td>\n      <td>1.5</td>\n    </tr>\n    <tr>\n      <th>990</th>\n      <td>0.933004</td>\n      <td>04ef4c23cf5c0c60</td>\n      <td>orbitrap</td>\n      <td>5m hilic | orbitrap | beh amide | negative</td>\n      <td>splash10-0a4i-1900000000-9ce47d5c59a9a78260ed</td>\n      <td>187.006671</td>\n      <td>0.576343</td>\n      <td>WGNAKZGUSRVWRH-UHFFFAOYSA-N</td>\n      <td>[M-H]-</td>\n      <td>14.759411</td>\n      <td>...</td>\n      <td>0.043426</td>\n      <td>10.218913</td>\n      <td>0.041879</td>\n      <td>-0.003430</td>\n      <td>10.218913</td>\n      <td>4.0</td>\n      <td>3.301927</td>\n      <td>5.656854</td>\n      <td>0.333333</td>\n      <td>1.5</td>\n    </tr>\n    <tr>\n      <th>999</th>\n      <td>0.932859</td>\n      <td>04ef4c23cf5c0c60</td>\n      <td>orbitrap</td>\n      <td>5m hilic | orbitrap | beh amide | negative</td>\n      <td>splash10-0a4i-2900000000-15d776764e5d09e2ec63</td>\n      <td>187.006788</td>\n      <td>0.573584</td>\n      <td>WGNAKZGUSRVWRH-UHFFFAOYSA-N</td>\n      <td>[M-H]-</td>\n      <td>14.631565</td>\n      <td>...</td>\n      <td>0.043426</td>\n      <td>10.218913</td>\n      <td>0.184308</td>\n      <td>-0.003430</td>\n      <td>10.218913</td>\n      <td>4.0</td>\n      <td>3.301927</td>\n      <td>5.656854</td>\n      <td>0.333333</td>\n      <td>1.5</td>\n    </tr>\n  </tbody>\n</table>\n<p>27 rows × 1443 columns</p>\n</div>"
     },
     "execution_count": 351,
     "metadata": {},
     "output_type": "execute_result"
    }
   ],
   "source": [
    "data_temp"
   ],
   "metadata": {
    "collapsed": false,
    "pycharm": {
     "name": "#%%\n"
    }
   }
  },
  {
   "cell_type": "code",
   "execution_count": 341,
   "outputs": [],
   "source": [
    "# inchi = []\n",
    "# max = []\n",
    "# min = []\n",
    "for inchi in data_hilic_full['library_inchi'].unique():\n",
    "    data_temp = data_hilic_full.loc[data_hilic_full['library_inchi']==inchi]\n",
    "    break"
   ],
   "metadata": {
    "collapsed": false,
    "pycharm": {
     "name": "#%%\n"
    }
   }
  },
  {
   "cell_type": "code",
   "execution_count": 343,
   "outputs": [
    {
     "data": {
      "text/plain": "        score             notes instrument_type  \\\n0    0.933503  04ef4c23cf5c0c60        orbitrap   \n26   0.932428  04ef4c23cf5c0c60        orbitrap   \n47   0.934037  04ef4c23cf5c0c60        orbitrap   \n164  0.934291  04ef4c23cf5c0c60        orbitrap   \n411  0.932785  04ef4c23cf5c0c60        orbitrap   \n460  0.933005  04ef4c23cf5c0c60        orbitrap   \n521  0.932851  04ef4c23cf5c0c60        orbitrap   \n543  0.933147  04ef4c23cf5c0c60        orbitrap   \n558  0.932969  04ef4c23cf5c0c60        orbitrap   \n598  0.932845  04ef4c23cf5c0c60        orbitrap   \n635  0.932770  04ef4c23cf5c0c60        orbitrap   \n669  0.933076  04ef4c23cf5c0c60        orbitrap   \n674  0.933044  04ef4c23cf5c0c60        orbitrap   \n684  0.932638  04ef4c23cf5c0c60        orbitrap   \n688  0.932820  04ef4c23cf5c0c60        orbitrap   \n710  0.932993  04ef4c23cf5c0c60        orbitrap   \n715  0.933130  04ef4c23cf5c0c60        orbitrap   \n746  0.932967  04ef4c23cf5c0c60        orbitrap   \n782  0.932859  04ef4c23cf5c0c60        orbitrap   \n796  0.932990  04ef4c23cf5c0c60        orbitrap   \n828  0.933020  04ef4c23cf5c0c60        orbitrap   \n835  0.932881  04ef4c23cf5c0c60        orbitrap   \n862  0.932999  04ef4c23cf5c0c60        orbitrap   \n886  0.932796  04ef4c23cf5c0c60        orbitrap   \n981  0.932961  04ef4c23cf5c0c60        orbitrap   \n990  0.933004  04ef4c23cf5c0c60        orbitrap   \n999  0.932859  04ef4c23cf5c0c60        orbitrap   \n\n                                       comments  \\\n0    5m hilic | orbitrap | beh amide | negative   \n26   5m hilic | orbitrap | beh amide | negative   \n47   5m hilic | orbitrap | beh amide | negative   \n164  5m hilic | orbitrap | beh amide | negative   \n411  5m hilic | orbitrap | beh amide | negative   \n460  5m hilic | orbitrap | beh amide | negative   \n521  5m hilic | orbitrap | beh amide | negative   \n543  5m hilic | orbitrap | beh amide | negative   \n558  5m hilic | orbitrap | beh amide | negative   \n598  5m hilic | orbitrap | beh amide | negative   \n635  5m hilic | orbitrap | beh amide | negative   \n669  5m hilic | orbitrap | beh amide | negative   \n674  5m hilic | orbitrap | beh amide | negative   \n684  5m hilic | orbitrap | beh amide | negative   \n688  5m hilic | orbitrap | beh amide | negative   \n710  5m hilic | orbitrap | beh amide | negative   \n715  5m hilic | orbitrap | beh amide | negative   \n746  5m hilic | orbitrap | beh amide | negative   \n782  5m hilic | orbitrap | beh amide | negative   \n796  5m hilic | orbitrap | beh amide | negative   \n828  5m hilic | orbitrap | beh amide | negative   \n835  5m hilic | orbitrap | beh amide | negative   \n862  5m hilic | orbitrap | beh amide | negative   \n886  5m hilic | orbitrap | beh amide | negative   \n981  5m hilic | orbitrap | beh amide | negative   \n990  5m hilic | orbitrap | beh amide | negative   \n999  5m hilic | orbitrap | beh amide | negative   \n\n                                            splash  precursormz  \\\n0    splash10-0a4i-2900000000-e2d4228d01eb088edb4c   187.006927   \n26   splash10-0a4i-1900000000-aeebd4cee644bd147192   187.006866   \n47   splash10-0a4i-2910000000-ac641457b7f3075f4ca1   187.006927   \n164  splash10-0a4i-2910000000-18c1d343e27d24d1c6a7   187.006882   \n411  splash10-0a4i-1900000000-1c9fd20dfbcd8728612a   187.006864   \n460  splash10-0a4i-1910000000-ffe04d0521840fd1223f   187.006784   \n521  splash10-0a4i-1900000000-4dce8a6c5dcc87c01aa3   187.006842   \n543  splash10-0a4i-2910000000-a3f765faa32975203647   187.006780   \n558  splash10-0a4i-1900000000-758349a6f2f269950d15   187.006783   \n598  splash10-0a4i-1910000000-312f4f8aba73f9e6cf12   187.006812   \n635  splash10-0a4i-1900000000-89b0de61e7a780309833   187.006827   \n669  splash10-0a4i-2910000000-5946f61d3bf8fd1800a6   187.006847   \n674  splash10-0a4i-1900000000-55576dc8645a9d87fb0c   187.006813   \n684  splash10-0a4i-2900000000-acc2d4d5150763aa31b6   187.006853   \n688  splash10-0a4i-2900000000-dcc03a09bf304ea038dc   187.006848   \n710  splash10-0a4i-2910000000-995aff764f70a95de800   187.006810   \n715  splash10-0a4i-2910000000-3683473b021f54983f89   187.006606   \n746  splash10-0a4i-1900000000-a142d38df79d8c655fea   187.006875   \n782  splash10-0a4i-1900000000-b872f88f909515945229   187.006826   \n796  splash10-0a4i-1900000000-6aaf11a4117d7ff205e6   187.006578   \n828  splash10-0a4i-2910000000-07a746e52f97355a1bb0   187.006605   \n835  splash10-0a4i-2900000000-3124b34e77bbd696d633   187.006866   \n862  splash10-0a4i-1900000000-0f8627229673edd3d4a7   187.006862   \n886  splash10-0a4i-1900000000-db61317a0616ba5fd352   187.006820   \n981  splash10-0a4i-1910000000-462fa0cb4421da3eb05a   187.006846   \n990  splash10-0a4i-1900000000-9ce47d5c59a9a78260ed   187.006671   \n999  splash10-0a4i-2900000000-15d776764e5d09e2ec63   187.006788   \n\n     normalized_entropy                library_inchi library_adduct  \\\n0              0.585092  WGNAKZGUSRVWRH-UHFFFAOYSA-N         [M-H]-   \n26             0.565701  WGNAKZGUSRVWRH-UHFFFAOYSA-N         [M-H]-   \n47             0.591873  WGNAKZGUSRVWRH-UHFFFAOYSA-N         [M-H]-   \n164            0.592024  WGNAKZGUSRVWRH-UHFFFAOYSA-N         [M-H]-   \n411            0.570274  WGNAKZGUSRVWRH-UHFFFAOYSA-N         [M-H]-   \n460            0.573083  WGNAKZGUSRVWRH-UHFFFAOYSA-N         [M-H]-   \n521            0.572360  WGNAKZGUSRVWRH-UHFFFAOYSA-N         [M-H]-   \n543            0.573399  WGNAKZGUSRVWRH-UHFFFAOYSA-N         [M-H]-   \n558            0.577678  WGNAKZGUSRVWRH-UHFFFAOYSA-N         [M-H]-   \n598            0.571618  WGNAKZGUSRVWRH-UHFFFAOYSA-N         [M-H]-   \n635            0.571580  WGNAKZGUSRVWRH-UHFFFAOYSA-N         [M-H]-   \n669            0.577388  WGNAKZGUSRVWRH-UHFFFAOYSA-N         [M-H]-   \n674            0.575040  WGNAKZGUSRVWRH-UHFFFAOYSA-N         [M-H]-   \n684            0.570117  WGNAKZGUSRVWRH-UHFFFAOYSA-N         [M-H]-   \n688            0.571577  WGNAKZGUSRVWRH-UHFFFAOYSA-N         [M-H]-   \n710            0.573290  WGNAKZGUSRVWRH-UHFFFAOYSA-N         [M-H]-   \n715            0.575674  WGNAKZGUSRVWRH-UHFFFAOYSA-N         [M-H]-   \n746            0.576205  WGNAKZGUSRVWRH-UHFFFAOYSA-N         [M-H]-   \n782            0.572828  WGNAKZGUSRVWRH-UHFFFAOYSA-N         [M-H]-   \n796            0.578168  WGNAKZGUSRVWRH-UHFFFAOYSA-N         [M-H]-   \n828            0.578110  WGNAKZGUSRVWRH-UHFFFAOYSA-N         [M-H]-   \n835            0.571544  WGNAKZGUSRVWRH-UHFFFAOYSA-N         [M-H]-   \n862            0.575076  WGNAKZGUSRVWRH-UHFFFAOYSA-N         [M-H]-   \n886            0.572677  WGNAKZGUSRVWRH-UHFFFAOYSA-N         [M-H]-   \n981            0.574382  WGNAKZGUSRVWRH-UHFFFAOYSA-N         [M-H]-   \n990            0.576343  WGNAKZGUSRVWRH-UHFFFAOYSA-N         [M-H]-   \n999            0.573584  WGNAKZGUSRVWRH-UHFFFAOYSA-N         [M-H]-   \n\n     retention_time  ...   MAXdssC      MAXdO  MINssCH2   MINdssC      MINdO  \\\n0          9.545269  ...  0.043426  10.218913  0.107917 -0.003430  10.218913   \n26        34.647135  ...  0.050926  10.218913  0.069444 -0.003430  10.218913   \n47        79.434094  ...  0.050926  10.218913  0.184308 -0.003430  10.218913   \n164       74.719501  ...  0.043426  10.218913  0.041879 -0.003430  10.218913   \n411       14.547311  ...  0.050926  10.218913  0.107917 -0.003430  10.218913   \n460       14.105863  ...  0.050926  10.218913  0.041667 -0.003430  10.218913   \n521       14.454435  ...  0.050926  10.218913  0.107917 -0.003430  10.218913   \n543       14.558808  ...  0.050926  10.218913  0.085532 -0.065463  10.218913   \n558       29.551713  ...  0.043426  10.218913  0.041879 -0.003430  10.218913   \n598       14.298367  ...  0.043426  10.218913  0.107917 -0.003430  10.218913   \n635       14.427144  ...  0.050926  10.218913  0.041667 -0.003430  10.218913   \n669       21.473810  ...  0.050926  10.218913  0.107917 -0.065463  10.218913   \n674       14.392904  ...  0.050926  10.218913  0.107917 -0.003430  10.218913   \n684       14.408232  ...  0.043426  10.218913  0.085532 -0.003430  10.218913   \n688       14.324961  ...  0.050926  10.218913  0.107917 -0.003430  10.218913   \n710       14.144196  ...  0.043426  10.218913  0.041879 -0.003430  10.218913   \n715       14.862159  ...  0.043426  10.218913  0.085532 -0.003430  10.218913   \n746       14.527564  ...  0.050926  10.218913  0.041879 -0.003430  10.218913   \n782       14.485562  ...  0.050926  10.218913  0.085532 -0.003430  10.218913   \n796       14.820066  ...  0.050926  10.218913  0.085532 -0.003430  10.218913   \n828       14.839964  ...  0.050926  10.218913  0.107917 -0.003430  10.218913   \n835       14.374187  ...  0.043426  10.218913  0.184308 -0.065463  10.218913   \n862       14.350486  ...  0.043426  10.218913  0.085532 -0.003430  10.218913   \n886       14.244403  ...  0.043426  10.218913  0.085532 -0.003430  10.218913   \n981       13.800318  ...  0.043426  10.218913  0.069444 -0.003430  10.218913   \n990       14.759411  ...  0.043426  10.218913  0.041879 -0.003430  10.218913   \n999       14.631565  ...  0.043426  10.218913  0.184308 -0.003430  10.218913   \n\n     Kier3   MDEC-22   MDEC-23   MDEC-33  MDEO-11  \n0      4.0  3.301927  5.656854  0.333333      1.5  \n26     4.0  3.301927  5.656854  0.333333      1.5  \n47     4.0  3.301927  5.656854  0.333333      1.5  \n164    4.0  3.301927  5.656854  0.333333      1.5  \n411    4.0  3.301927  5.656854  0.333333      1.5  \n460    4.0  3.301927  5.656854  0.333333      1.5  \n521    4.0  3.301927  5.656854  0.333333      1.5  \n543    4.0  3.301927  5.656854  0.333333      1.5  \n558    4.0  3.301927  5.656854  0.333333      1.5  \n598    4.0  3.301927  5.656854  0.333333      1.5  \n635    4.0  3.301927  5.656854  0.333333      1.5  \n669    4.0  3.301927  5.656854  0.333333      1.5  \n674    4.0  3.301927  5.656854  0.333333      1.5  \n684    4.0  3.301927  5.656854  0.333333      1.5  \n688    4.0  3.301927  5.656854  0.333333      1.5  \n710    4.0  3.301927  5.656854  0.333333      1.5  \n715    4.0  3.301927  5.656854  0.333333      1.5  \n746    4.0  3.301927  5.656854  0.333333      1.5  \n782    4.0  3.301927  5.656854  0.333333      1.5  \n796    4.0  3.301927  5.656854  0.333333      1.5  \n828    4.0  3.301927  5.656854  0.333333      1.5  \n835    4.0  3.301927  5.656854  0.333333      1.5  \n862    4.0  3.301927  5.656854  0.333333      1.5  \n886    4.0  3.301927  5.656854  0.333333      1.5  \n981    4.0  3.301927  5.656854  0.333333      1.5  \n990    4.0  3.301927  5.656854  0.333333      1.5  \n999    4.0  3.301927  5.656854  0.333333      1.5  \n\n[27 rows x 1443 columns]",
      "text/html": "<div>\n<style scoped>\n    .dataframe tbody tr th:only-of-type {\n        vertical-align: middle;\n    }\n\n    .dataframe tbody tr th {\n        vertical-align: top;\n    }\n\n    .dataframe thead th {\n        text-align: right;\n    }\n</style>\n<table border=\"1\" class=\"dataframe\">\n  <thead>\n    <tr style=\"text-align: right;\">\n      <th></th>\n      <th>score</th>\n      <th>notes</th>\n      <th>instrument_type</th>\n      <th>comments</th>\n      <th>splash</th>\n      <th>precursormz</th>\n      <th>normalized_entropy</th>\n      <th>library_inchi</th>\n      <th>library_adduct</th>\n      <th>retention_time</th>\n      <th>...</th>\n      <th>MAXdssC</th>\n      <th>MAXdO</th>\n      <th>MINssCH2</th>\n      <th>MINdssC</th>\n      <th>MINdO</th>\n      <th>Kier3</th>\n      <th>MDEC-22</th>\n      <th>MDEC-23</th>\n      <th>MDEC-33</th>\n      <th>MDEO-11</th>\n    </tr>\n  </thead>\n  <tbody>\n    <tr>\n      <th>0</th>\n      <td>0.933503</td>\n      <td>04ef4c23cf5c0c60</td>\n      <td>orbitrap</td>\n      <td>5m hilic | orbitrap | beh amide | negative</td>\n      <td>splash10-0a4i-2900000000-e2d4228d01eb088edb4c</td>\n      <td>187.006927</td>\n      <td>0.585092</td>\n      <td>WGNAKZGUSRVWRH-UHFFFAOYSA-N</td>\n      <td>[M-H]-</td>\n      <td>9.545269</td>\n      <td>...</td>\n      <td>0.043426</td>\n      <td>10.218913</td>\n      <td>0.107917</td>\n      <td>-0.003430</td>\n      <td>10.218913</td>\n      <td>4.0</td>\n      <td>3.301927</td>\n      <td>5.656854</td>\n      <td>0.333333</td>\n      <td>1.5</td>\n    </tr>\n    <tr>\n      <th>26</th>\n      <td>0.932428</td>\n      <td>04ef4c23cf5c0c60</td>\n      <td>orbitrap</td>\n      <td>5m hilic | orbitrap | beh amide | negative</td>\n      <td>splash10-0a4i-1900000000-aeebd4cee644bd147192</td>\n      <td>187.006866</td>\n      <td>0.565701</td>\n      <td>WGNAKZGUSRVWRH-UHFFFAOYSA-N</td>\n      <td>[M-H]-</td>\n      <td>34.647135</td>\n      <td>...</td>\n      <td>0.050926</td>\n      <td>10.218913</td>\n      <td>0.069444</td>\n      <td>-0.003430</td>\n      <td>10.218913</td>\n      <td>4.0</td>\n      <td>3.301927</td>\n      <td>5.656854</td>\n      <td>0.333333</td>\n      <td>1.5</td>\n    </tr>\n    <tr>\n      <th>47</th>\n      <td>0.934037</td>\n      <td>04ef4c23cf5c0c60</td>\n      <td>orbitrap</td>\n      <td>5m hilic | orbitrap | beh amide | negative</td>\n      <td>splash10-0a4i-2910000000-ac641457b7f3075f4ca1</td>\n      <td>187.006927</td>\n      <td>0.591873</td>\n      <td>WGNAKZGUSRVWRH-UHFFFAOYSA-N</td>\n      <td>[M-H]-</td>\n      <td>79.434094</td>\n      <td>...</td>\n      <td>0.050926</td>\n      <td>10.218913</td>\n      <td>0.184308</td>\n      <td>-0.003430</td>\n      <td>10.218913</td>\n      <td>4.0</td>\n      <td>3.301927</td>\n      <td>5.656854</td>\n      <td>0.333333</td>\n      <td>1.5</td>\n    </tr>\n    <tr>\n      <th>164</th>\n      <td>0.934291</td>\n      <td>04ef4c23cf5c0c60</td>\n      <td>orbitrap</td>\n      <td>5m hilic | orbitrap | beh amide | negative</td>\n      <td>splash10-0a4i-2910000000-18c1d343e27d24d1c6a7</td>\n      <td>187.006882</td>\n      <td>0.592024</td>\n      <td>WGNAKZGUSRVWRH-UHFFFAOYSA-N</td>\n      <td>[M-H]-</td>\n      <td>74.719501</td>\n      <td>...</td>\n      <td>0.043426</td>\n      <td>10.218913</td>\n      <td>0.041879</td>\n      <td>-0.003430</td>\n      <td>10.218913</td>\n      <td>4.0</td>\n      <td>3.301927</td>\n      <td>5.656854</td>\n      <td>0.333333</td>\n      <td>1.5</td>\n    </tr>\n    <tr>\n      <th>411</th>\n      <td>0.932785</td>\n      <td>04ef4c23cf5c0c60</td>\n      <td>orbitrap</td>\n      <td>5m hilic | orbitrap | beh amide | negative</td>\n      <td>splash10-0a4i-1900000000-1c9fd20dfbcd8728612a</td>\n      <td>187.006864</td>\n      <td>0.570274</td>\n      <td>WGNAKZGUSRVWRH-UHFFFAOYSA-N</td>\n      <td>[M-H]-</td>\n      <td>14.547311</td>\n      <td>...</td>\n      <td>0.050926</td>\n      <td>10.218913</td>\n      <td>0.107917</td>\n      <td>-0.003430</td>\n      <td>10.218913</td>\n      <td>4.0</td>\n      <td>3.301927</td>\n      <td>5.656854</td>\n      <td>0.333333</td>\n      <td>1.5</td>\n    </tr>\n    <tr>\n      <th>460</th>\n      <td>0.933005</td>\n      <td>04ef4c23cf5c0c60</td>\n      <td>orbitrap</td>\n      <td>5m hilic | orbitrap | beh amide | negative</td>\n      <td>splash10-0a4i-1910000000-ffe04d0521840fd1223f</td>\n      <td>187.006784</td>\n      <td>0.573083</td>\n      <td>WGNAKZGUSRVWRH-UHFFFAOYSA-N</td>\n      <td>[M-H]-</td>\n      <td>14.105863</td>\n      <td>...</td>\n      <td>0.050926</td>\n      <td>10.218913</td>\n      <td>0.041667</td>\n      <td>-0.003430</td>\n      <td>10.218913</td>\n      <td>4.0</td>\n      <td>3.301927</td>\n      <td>5.656854</td>\n      <td>0.333333</td>\n      <td>1.5</td>\n    </tr>\n    <tr>\n      <th>521</th>\n      <td>0.932851</td>\n      <td>04ef4c23cf5c0c60</td>\n      <td>orbitrap</td>\n      <td>5m hilic | orbitrap | beh amide | negative</td>\n      <td>splash10-0a4i-1900000000-4dce8a6c5dcc87c01aa3</td>\n      <td>187.006842</td>\n      <td>0.572360</td>\n      <td>WGNAKZGUSRVWRH-UHFFFAOYSA-N</td>\n      <td>[M-H]-</td>\n      <td>14.454435</td>\n      <td>...</td>\n      <td>0.050926</td>\n      <td>10.218913</td>\n      <td>0.107917</td>\n      <td>-0.003430</td>\n      <td>10.218913</td>\n      <td>4.0</td>\n      <td>3.301927</td>\n      <td>5.656854</td>\n      <td>0.333333</td>\n      <td>1.5</td>\n    </tr>\n    <tr>\n      <th>543</th>\n      <td>0.933147</td>\n      <td>04ef4c23cf5c0c60</td>\n      <td>orbitrap</td>\n      <td>5m hilic | orbitrap | beh amide | negative</td>\n      <td>splash10-0a4i-2910000000-a3f765faa32975203647</td>\n      <td>187.006780</td>\n      <td>0.573399</td>\n      <td>WGNAKZGUSRVWRH-UHFFFAOYSA-N</td>\n      <td>[M-H]-</td>\n      <td>14.558808</td>\n      <td>...</td>\n      <td>0.050926</td>\n      <td>10.218913</td>\n      <td>0.085532</td>\n      <td>-0.065463</td>\n      <td>10.218913</td>\n      <td>4.0</td>\n      <td>3.301927</td>\n      <td>5.656854</td>\n      <td>0.333333</td>\n      <td>1.5</td>\n    </tr>\n    <tr>\n      <th>558</th>\n      <td>0.932969</td>\n      <td>04ef4c23cf5c0c60</td>\n      <td>orbitrap</td>\n      <td>5m hilic | orbitrap | beh amide | negative</td>\n      <td>splash10-0a4i-1900000000-758349a6f2f269950d15</td>\n      <td>187.006783</td>\n      <td>0.577678</td>\n      <td>WGNAKZGUSRVWRH-UHFFFAOYSA-N</td>\n      <td>[M-H]-</td>\n      <td>29.551713</td>\n      <td>...</td>\n      <td>0.043426</td>\n      <td>10.218913</td>\n      <td>0.041879</td>\n      <td>-0.003430</td>\n      <td>10.218913</td>\n      <td>4.0</td>\n      <td>3.301927</td>\n      <td>5.656854</td>\n      <td>0.333333</td>\n      <td>1.5</td>\n    </tr>\n    <tr>\n      <th>598</th>\n      <td>0.932845</td>\n      <td>04ef4c23cf5c0c60</td>\n      <td>orbitrap</td>\n      <td>5m hilic | orbitrap | beh amide | negative</td>\n      <td>splash10-0a4i-1910000000-312f4f8aba73f9e6cf12</td>\n      <td>187.006812</td>\n      <td>0.571618</td>\n      <td>WGNAKZGUSRVWRH-UHFFFAOYSA-N</td>\n      <td>[M-H]-</td>\n      <td>14.298367</td>\n      <td>...</td>\n      <td>0.043426</td>\n      <td>10.218913</td>\n      <td>0.107917</td>\n      <td>-0.003430</td>\n      <td>10.218913</td>\n      <td>4.0</td>\n      <td>3.301927</td>\n      <td>5.656854</td>\n      <td>0.333333</td>\n      <td>1.5</td>\n    </tr>\n    <tr>\n      <th>635</th>\n      <td>0.932770</td>\n      <td>04ef4c23cf5c0c60</td>\n      <td>orbitrap</td>\n      <td>5m hilic | orbitrap | beh amide | negative</td>\n      <td>splash10-0a4i-1900000000-89b0de61e7a780309833</td>\n      <td>187.006827</td>\n      <td>0.571580</td>\n      <td>WGNAKZGUSRVWRH-UHFFFAOYSA-N</td>\n      <td>[M-H]-</td>\n      <td>14.427144</td>\n      <td>...</td>\n      <td>0.050926</td>\n      <td>10.218913</td>\n      <td>0.041667</td>\n      <td>-0.003430</td>\n      <td>10.218913</td>\n      <td>4.0</td>\n      <td>3.301927</td>\n      <td>5.656854</td>\n      <td>0.333333</td>\n      <td>1.5</td>\n    </tr>\n    <tr>\n      <th>669</th>\n      <td>0.933076</td>\n      <td>04ef4c23cf5c0c60</td>\n      <td>orbitrap</td>\n      <td>5m hilic | orbitrap | beh amide | negative</td>\n      <td>splash10-0a4i-2910000000-5946f61d3bf8fd1800a6</td>\n      <td>187.006847</td>\n      <td>0.577388</td>\n      <td>WGNAKZGUSRVWRH-UHFFFAOYSA-N</td>\n      <td>[M-H]-</td>\n      <td>21.473810</td>\n      <td>...</td>\n      <td>0.050926</td>\n      <td>10.218913</td>\n      <td>0.107917</td>\n      <td>-0.065463</td>\n      <td>10.218913</td>\n      <td>4.0</td>\n      <td>3.301927</td>\n      <td>5.656854</td>\n      <td>0.333333</td>\n      <td>1.5</td>\n    </tr>\n    <tr>\n      <th>674</th>\n      <td>0.933044</td>\n      <td>04ef4c23cf5c0c60</td>\n      <td>orbitrap</td>\n      <td>5m hilic | orbitrap | beh amide | negative</td>\n      <td>splash10-0a4i-1900000000-55576dc8645a9d87fb0c</td>\n      <td>187.006813</td>\n      <td>0.575040</td>\n      <td>WGNAKZGUSRVWRH-UHFFFAOYSA-N</td>\n      <td>[M-H]-</td>\n      <td>14.392904</td>\n      <td>...</td>\n      <td>0.050926</td>\n      <td>10.218913</td>\n      <td>0.107917</td>\n      <td>-0.003430</td>\n      <td>10.218913</td>\n      <td>4.0</td>\n      <td>3.301927</td>\n      <td>5.656854</td>\n      <td>0.333333</td>\n      <td>1.5</td>\n    </tr>\n    <tr>\n      <th>684</th>\n      <td>0.932638</td>\n      <td>04ef4c23cf5c0c60</td>\n      <td>orbitrap</td>\n      <td>5m hilic | orbitrap | beh amide | negative</td>\n      <td>splash10-0a4i-2900000000-acc2d4d5150763aa31b6</td>\n      <td>187.006853</td>\n      <td>0.570117</td>\n      <td>WGNAKZGUSRVWRH-UHFFFAOYSA-N</td>\n      <td>[M-H]-</td>\n      <td>14.408232</td>\n      <td>...</td>\n      <td>0.043426</td>\n      <td>10.218913</td>\n      <td>0.085532</td>\n      <td>-0.003430</td>\n      <td>10.218913</td>\n      <td>4.0</td>\n      <td>3.301927</td>\n      <td>5.656854</td>\n      <td>0.333333</td>\n      <td>1.5</td>\n    </tr>\n    <tr>\n      <th>688</th>\n      <td>0.932820</td>\n      <td>04ef4c23cf5c0c60</td>\n      <td>orbitrap</td>\n      <td>5m hilic | orbitrap | beh amide | negative</td>\n      <td>splash10-0a4i-2900000000-dcc03a09bf304ea038dc</td>\n      <td>187.006848</td>\n      <td>0.571577</td>\n      <td>WGNAKZGUSRVWRH-UHFFFAOYSA-N</td>\n      <td>[M-H]-</td>\n      <td>14.324961</td>\n      <td>...</td>\n      <td>0.050926</td>\n      <td>10.218913</td>\n      <td>0.107917</td>\n      <td>-0.003430</td>\n      <td>10.218913</td>\n      <td>4.0</td>\n      <td>3.301927</td>\n      <td>5.656854</td>\n      <td>0.333333</td>\n      <td>1.5</td>\n    </tr>\n    <tr>\n      <th>710</th>\n      <td>0.932993</td>\n      <td>04ef4c23cf5c0c60</td>\n      <td>orbitrap</td>\n      <td>5m hilic | orbitrap | beh amide | negative</td>\n      <td>splash10-0a4i-2910000000-995aff764f70a95de800</td>\n      <td>187.006810</td>\n      <td>0.573290</td>\n      <td>WGNAKZGUSRVWRH-UHFFFAOYSA-N</td>\n      <td>[M-H]-</td>\n      <td>14.144196</td>\n      <td>...</td>\n      <td>0.043426</td>\n      <td>10.218913</td>\n      <td>0.041879</td>\n      <td>-0.003430</td>\n      <td>10.218913</td>\n      <td>4.0</td>\n      <td>3.301927</td>\n      <td>5.656854</td>\n      <td>0.333333</td>\n      <td>1.5</td>\n    </tr>\n    <tr>\n      <th>715</th>\n      <td>0.933130</td>\n      <td>04ef4c23cf5c0c60</td>\n      <td>orbitrap</td>\n      <td>5m hilic | orbitrap | beh amide | negative</td>\n      <td>splash10-0a4i-2910000000-3683473b021f54983f89</td>\n      <td>187.006606</td>\n      <td>0.575674</td>\n      <td>WGNAKZGUSRVWRH-UHFFFAOYSA-N</td>\n      <td>[M-H]-</td>\n      <td>14.862159</td>\n      <td>...</td>\n      <td>0.043426</td>\n      <td>10.218913</td>\n      <td>0.085532</td>\n      <td>-0.003430</td>\n      <td>10.218913</td>\n      <td>4.0</td>\n      <td>3.301927</td>\n      <td>5.656854</td>\n      <td>0.333333</td>\n      <td>1.5</td>\n    </tr>\n    <tr>\n      <th>746</th>\n      <td>0.932967</td>\n      <td>04ef4c23cf5c0c60</td>\n      <td>orbitrap</td>\n      <td>5m hilic | orbitrap | beh amide | negative</td>\n      <td>splash10-0a4i-1900000000-a142d38df79d8c655fea</td>\n      <td>187.006875</td>\n      <td>0.576205</td>\n      <td>WGNAKZGUSRVWRH-UHFFFAOYSA-N</td>\n      <td>[M-H]-</td>\n      <td>14.527564</td>\n      <td>...</td>\n      <td>0.050926</td>\n      <td>10.218913</td>\n      <td>0.041879</td>\n      <td>-0.003430</td>\n      <td>10.218913</td>\n      <td>4.0</td>\n      <td>3.301927</td>\n      <td>5.656854</td>\n      <td>0.333333</td>\n      <td>1.5</td>\n    </tr>\n    <tr>\n      <th>782</th>\n      <td>0.932859</td>\n      <td>04ef4c23cf5c0c60</td>\n      <td>orbitrap</td>\n      <td>5m hilic | orbitrap | beh amide | negative</td>\n      <td>splash10-0a4i-1900000000-b872f88f909515945229</td>\n      <td>187.006826</td>\n      <td>0.572828</td>\n      <td>WGNAKZGUSRVWRH-UHFFFAOYSA-N</td>\n      <td>[M-H]-</td>\n      <td>14.485562</td>\n      <td>...</td>\n      <td>0.050926</td>\n      <td>10.218913</td>\n      <td>0.085532</td>\n      <td>-0.003430</td>\n      <td>10.218913</td>\n      <td>4.0</td>\n      <td>3.301927</td>\n      <td>5.656854</td>\n      <td>0.333333</td>\n      <td>1.5</td>\n    </tr>\n    <tr>\n      <th>796</th>\n      <td>0.932990</td>\n      <td>04ef4c23cf5c0c60</td>\n      <td>orbitrap</td>\n      <td>5m hilic | orbitrap | beh amide | negative</td>\n      <td>splash10-0a4i-1900000000-6aaf11a4117d7ff205e6</td>\n      <td>187.006578</td>\n      <td>0.578168</td>\n      <td>WGNAKZGUSRVWRH-UHFFFAOYSA-N</td>\n      <td>[M-H]-</td>\n      <td>14.820066</td>\n      <td>...</td>\n      <td>0.050926</td>\n      <td>10.218913</td>\n      <td>0.085532</td>\n      <td>-0.003430</td>\n      <td>10.218913</td>\n      <td>4.0</td>\n      <td>3.301927</td>\n      <td>5.656854</td>\n      <td>0.333333</td>\n      <td>1.5</td>\n    </tr>\n    <tr>\n      <th>828</th>\n      <td>0.933020</td>\n      <td>04ef4c23cf5c0c60</td>\n      <td>orbitrap</td>\n      <td>5m hilic | orbitrap | beh amide | negative</td>\n      <td>splash10-0a4i-2910000000-07a746e52f97355a1bb0</td>\n      <td>187.006605</td>\n      <td>0.578110</td>\n      <td>WGNAKZGUSRVWRH-UHFFFAOYSA-N</td>\n      <td>[M-H]-</td>\n      <td>14.839964</td>\n      <td>...</td>\n      <td>0.050926</td>\n      <td>10.218913</td>\n      <td>0.107917</td>\n      <td>-0.003430</td>\n      <td>10.218913</td>\n      <td>4.0</td>\n      <td>3.301927</td>\n      <td>5.656854</td>\n      <td>0.333333</td>\n      <td>1.5</td>\n    </tr>\n    <tr>\n      <th>835</th>\n      <td>0.932881</td>\n      <td>04ef4c23cf5c0c60</td>\n      <td>orbitrap</td>\n      <td>5m hilic | orbitrap | beh amide | negative</td>\n      <td>splash10-0a4i-2900000000-3124b34e77bbd696d633</td>\n      <td>187.006866</td>\n      <td>0.571544</td>\n      <td>WGNAKZGUSRVWRH-UHFFFAOYSA-N</td>\n      <td>[M-H]-</td>\n      <td>14.374187</td>\n      <td>...</td>\n      <td>0.043426</td>\n      <td>10.218913</td>\n      <td>0.184308</td>\n      <td>-0.065463</td>\n      <td>10.218913</td>\n      <td>4.0</td>\n      <td>3.301927</td>\n      <td>5.656854</td>\n      <td>0.333333</td>\n      <td>1.5</td>\n    </tr>\n    <tr>\n      <th>862</th>\n      <td>0.932999</td>\n      <td>04ef4c23cf5c0c60</td>\n      <td>orbitrap</td>\n      <td>5m hilic | orbitrap | beh amide | negative</td>\n      <td>splash10-0a4i-1900000000-0f8627229673edd3d4a7</td>\n      <td>187.006862</td>\n      <td>0.575076</td>\n      <td>WGNAKZGUSRVWRH-UHFFFAOYSA-N</td>\n      <td>[M-H]-</td>\n      <td>14.350486</td>\n      <td>...</td>\n      <td>0.043426</td>\n      <td>10.218913</td>\n      <td>0.085532</td>\n      <td>-0.003430</td>\n      <td>10.218913</td>\n      <td>4.0</td>\n      <td>3.301927</td>\n      <td>5.656854</td>\n      <td>0.333333</td>\n      <td>1.5</td>\n    </tr>\n    <tr>\n      <th>886</th>\n      <td>0.932796</td>\n      <td>04ef4c23cf5c0c60</td>\n      <td>orbitrap</td>\n      <td>5m hilic | orbitrap | beh amide | negative</td>\n      <td>splash10-0a4i-1900000000-db61317a0616ba5fd352</td>\n      <td>187.006820</td>\n      <td>0.572677</td>\n      <td>WGNAKZGUSRVWRH-UHFFFAOYSA-N</td>\n      <td>[M-H]-</td>\n      <td>14.244403</td>\n      <td>...</td>\n      <td>0.043426</td>\n      <td>10.218913</td>\n      <td>0.085532</td>\n      <td>-0.003430</td>\n      <td>10.218913</td>\n      <td>4.0</td>\n      <td>3.301927</td>\n      <td>5.656854</td>\n      <td>0.333333</td>\n      <td>1.5</td>\n    </tr>\n    <tr>\n      <th>981</th>\n      <td>0.932961</td>\n      <td>04ef4c23cf5c0c60</td>\n      <td>orbitrap</td>\n      <td>5m hilic | orbitrap | beh amide | negative</td>\n      <td>splash10-0a4i-1910000000-462fa0cb4421da3eb05a</td>\n      <td>187.006846</td>\n      <td>0.574382</td>\n      <td>WGNAKZGUSRVWRH-UHFFFAOYSA-N</td>\n      <td>[M-H]-</td>\n      <td>13.800318</td>\n      <td>...</td>\n      <td>0.043426</td>\n      <td>10.218913</td>\n      <td>0.069444</td>\n      <td>-0.003430</td>\n      <td>10.218913</td>\n      <td>4.0</td>\n      <td>3.301927</td>\n      <td>5.656854</td>\n      <td>0.333333</td>\n      <td>1.5</td>\n    </tr>\n    <tr>\n      <th>990</th>\n      <td>0.933004</td>\n      <td>04ef4c23cf5c0c60</td>\n      <td>orbitrap</td>\n      <td>5m hilic | orbitrap | beh amide | negative</td>\n      <td>splash10-0a4i-1900000000-9ce47d5c59a9a78260ed</td>\n      <td>187.006671</td>\n      <td>0.576343</td>\n      <td>WGNAKZGUSRVWRH-UHFFFAOYSA-N</td>\n      <td>[M-H]-</td>\n      <td>14.759411</td>\n      <td>...</td>\n      <td>0.043426</td>\n      <td>10.218913</td>\n      <td>0.041879</td>\n      <td>-0.003430</td>\n      <td>10.218913</td>\n      <td>4.0</td>\n      <td>3.301927</td>\n      <td>5.656854</td>\n      <td>0.333333</td>\n      <td>1.5</td>\n    </tr>\n    <tr>\n      <th>999</th>\n      <td>0.932859</td>\n      <td>04ef4c23cf5c0c60</td>\n      <td>orbitrap</td>\n      <td>5m hilic | orbitrap | beh amide | negative</td>\n      <td>splash10-0a4i-2900000000-15d776764e5d09e2ec63</td>\n      <td>187.006788</td>\n      <td>0.573584</td>\n      <td>WGNAKZGUSRVWRH-UHFFFAOYSA-N</td>\n      <td>[M-H]-</td>\n      <td>14.631565</td>\n      <td>...</td>\n      <td>0.043426</td>\n      <td>10.218913</td>\n      <td>0.184308</td>\n      <td>-0.003430</td>\n      <td>10.218913</td>\n      <td>4.0</td>\n      <td>3.301927</td>\n      <td>5.656854</td>\n      <td>0.333333</td>\n      <td>1.5</td>\n    </tr>\n  </tbody>\n</table>\n<p>27 rows × 1443 columns</p>\n</div>"
     },
     "execution_count": 343,
     "metadata": {},
     "output_type": "execute_result"
    }
   ],
   "source": [
    "data_temp"
   ],
   "metadata": {
    "collapsed": false,
    "pycharm": {
     "name": "#%%\n"
    }
   }
  },
  {
   "cell_type": "code",
   "execution_count": null,
   "outputs": [],
   "source": [
    "data_temp"
   ],
   "metadata": {
    "collapsed": false,
    "pycharm": {
     "name": "#%%\n"
    }
   }
  },
  {
   "cell_type": "code",
   "execution_count": 324,
   "outputs": [],
   "source": [
    "train, test = data_prep.make_train_test(data_hilic)"
   ],
   "metadata": {
    "collapsed": false,
    "pycharm": {
     "name": "#%%\n"
    }
   }
  },
  {
   "cell_type": "code",
   "execution_count": 325,
   "outputs": [
    {
     "name": "stderr",
     "output_type": "stream",
     "text": [
      "Beginning AutoGluon training ...\n",
      "AutoGluon will save models to \"seconds/\"\n",
      "AutoGluon Version:  0.4.1b20220423\n",
      "Python Version:     3.9.0\n",
      "Operating System:   Darwin\n",
      "Train Data Rows:    880\n",
      "Train Data Columns: 1433\n",
      "Label Column: retention_time\n",
      "Preprocessing data ...\n",
      "AutoGluon infers your prediction problem is: 'regression' (because dtype of label-column == float and many unique label-values observed).\n",
      "\tLabel info (max, min, mean, stddev): (191.3169236948993, 0.0563704715822627, 67.18683, 45.02227)\n",
      "\tIf 'regression' is not the correct problem_type, please manually specify the problem_type parameter during predictor init (You may specify problem_type as one of: ['binary', 'multiclass', 'regression'])\n",
      "Using Feature Generators to preprocess the data ...\n",
      "Fitting AutoMLPipelineFeatureGenerator...\n",
      "\tAvailable Memory:                    2875.93 MB\n",
      "\tTrain Data (Original)  Memory Usage: 9.35 MB (0.3% of available memory)\n",
      "\tInferring data type of each feature based on column values. Set feature_metadata_in to manually specify special dtypes of the features.\n",
      "\tStage 1 Generators:\n",
      "\t\tFitting AsTypeFeatureGenerator...\n",
      "\t\t\tNote: Converting 71 features to boolean dtype as they only contain 2 unique values.\n",
      "\tStage 2 Generators:\n",
      "\t\tFitting FillNaFeatureGenerator...\n",
      "\tStage 3 Generators:\n",
      "\t\tFitting IdentityFeatureGenerator...\n",
      "\tStage 4 Generators:\n",
      "\t\tFitting DropUniqueFeatureGenerator...\n",
      "\tUseless Original Features (Count: 157): ['nB', 'nI', 'C2SP1', 'NsLi', 'NssBe', 'NssssBe', 'NssBH', 'NsssB', 'NssssB', 'NtCH', 'NddC', 'NssNH2', 'NsssNH', 'NsSiH3', 'NssSiH2', 'NsssSiH', 'NssssSi', 'NsPH2', 'NssPH', 'NsssP', 'NsssssP', 'NsSH', 'NdS', 'NsGeH3', 'NssGeH2', 'NsssGeH', 'NssssGe', 'NsAsH2', 'NssAsH', 'NsssAs', 'NsssdAs', 'NsssssAs', 'NsSeH', 'NdSe', 'NssSe', 'NaaSe', 'NdssSe', 'NddssSe', 'NsSnH3', 'NssSnH2', 'NsssSnH', 'NssssSn', 'NsI', 'NsPbH3', 'NssPbH2', 'NsssPbH', 'NssssPb', 'SsLi', 'SssBe', 'SssssBe', 'SssBH', 'SsssB', 'SssssB', 'StCH', 'SddC', 'SssNH2', 'SsssNH', 'SsSiH3', 'SssSiH2', 'SsssSiH', 'SssssSi', 'SsPH2', 'SssPH', 'SsssP', 'SsssssP', 'SsSH', 'SdS', 'SsGeH3', 'SssGeH2', 'SsssGeH', 'SssssGe', 'SsAsH2', 'SssAsH', 'SsssAs', 'SsssdAs', 'SsssssAs', 'SsSeH', 'SdSe', 'SssSe', 'SaaSe', 'SdssSe', 'SddssSe', 'SsSnH3', 'SssSnH2', 'SsssSnH', 'SssssSn', 'SsI', 'SsPbH3', 'SssPbH2', 'SsssPbH', 'SssssPb', 'ETA_dPsi_B', 'SMR_VSA8', 'SlogP_VSA9', 'n8Ring', 'n9Ring', 'n11Ring', 'n12Ring', 'n8HRing', 'n9HRing', 'n10HRing', 'n11HRing', 'n12HRing', 'n3aRing', 'n4aRing', 'n7aRing', 'n8aRing', 'n9aRing', 'n10aRing', 'n11aRing', 'n12aRing', 'nG12aRing', 'n3aHRing', 'n4aHRing', 'n7aHRing', 'n8aHRing', 'n9aHRing', 'n10aHRing', 'n11aHRing', 'n12aHRing', 'nG12aHRing', 'n8ARing', 'n9ARing', 'n11ARing', 'n12ARing', 'n8AHRing', 'n9AHRing', 'n10AHRing', 'n11AHRing', 'n12AHRing', 'n4FRing', 'n5FRing', 'n6FRing', 'n4FHRing', 'n5FHRing', 'n6FHRing', 'n4FaRing', 'n5FaRing', 'n6FaRing', 'n7FaRing', 'n8FaRing', 'n11FaRing', 'n12FaRing', 'n4FaHRing', 'n5FaHRing', 'n6FaHRing', 'n7FaHRing', 'n8FaHRing', 'n11FaHRing', 'n12FaHRing', 'n4FARing', 'n5FARing', 'n6FARing', 'n4FAHRing', 'n5FAHRing', 'n6FAHRing', 'split_index']\n",
      "\t\tThese features carry no predictive signal and should be manually investigated.\n",
      "\t\tThis is typically a feature which has the same value for all rows.\n",
      "\t\tThese features do not need to be present at inference time.\n",
      "\tTypes of features in original data (raw dtype, special dtypes):\n",
      "\t\t('float', []) : 1109 | ['ABC', 'ABCGG', 'SpAbs_A', 'SpMax_A', 'SpDiam_A', ...]\n",
      "\t\t('int', [])   :  167 | ['nAcid', 'nBase', 'nAromAtom', 'nAromBond', 'nAtom', ...]\n",
      "\tTypes of features in processed data (raw dtype, special dtypes):\n",
      "\t\t('float', [])     : 1109 | ['ABC', 'ABCGG', 'SpAbs_A', 'SpMax_A', 'SpDiam_A', ...]\n",
      "\t\t('int', [])       :   96 | ['nAcid', 'nBase', 'nAromAtom', 'nAromBond', 'nAtom', ...]\n",
      "\t\t('int', ['bool']) :   71 | ['nSpiro', 'nP', 'nBr', 'nBondsT', 'C1SP1', ...]\n",
      "\t0.6s = Fit runtime\n",
      "\t1276 features in original data used to generate 1276 features in processed data.\n",
      "\tTrain Data (Processed) Memory Usage: 7.81 MB (0.3% of available memory)\n",
      "Data preprocessing and feature engineering runtime = 0.7s ...\n",
      "AutoGluon will gauge predictive performance using evaluation metric: 'root_mean_squared_error'\n",
      "\tTo change this, specify the eval_metric parameter of Predictor()\n",
      "Automatically generating train/validation split with holdout_frac=0.2, Train Rows: 704, Val Rows: 176\n",
      "Fitting 11 L1 models ...\n",
      "Fitting model: KNeighborsUnif ...\n",
      "\t-33.8011\t = Validation score   (root_mean_squared_error)\n",
      "\t0.09s\t = Training   runtime\n",
      "\t0.06s\t = Validation runtime\n",
      "Fitting model: KNeighborsDist ...\n",
      "\t-32.7313\t = Validation score   (root_mean_squared_error)\n",
      "\t0.11s\t = Training   runtime\n",
      "\t0.05s\t = Validation runtime\n",
      "Fitting model: LightGBMXT ...\n",
      "\t-26.5184\t = Validation score   (root_mean_squared_error)\n",
      "\t9.51s\t = Training   runtime\n",
      "\t0.01s\t = Validation runtime\n",
      "Fitting model: LightGBM ...\n",
      "\t-27.5971\t = Validation score   (root_mean_squared_error)\n",
      "\t10.71s\t = Training   runtime\n",
      "\t0.0s\t = Validation runtime\n",
      "Fitting model: RandomForestMSE ...\n",
      "\t-26.9524\t = Validation score   (root_mean_squared_error)\n",
      "\t7.76s\t = Training   runtime\n",
      "\t0.03s\t = Validation runtime\n",
      "Fitting model: CatBoost ...\n",
      "\t-27.3861\t = Validation score   (root_mean_squared_error)\n",
      "\t14.33s\t = Training   runtime\n",
      "\t0.02s\t = Validation runtime\n",
      "Fitting model: ExtraTreesMSE ...\n",
      "\t-26.3525\t = Validation score   (root_mean_squared_error)\n",
      "\t2.16s\t = Training   runtime\n",
      "\t0.02s\t = Validation runtime\n",
      "Fitting model: NeuralNetFastAI ...\n",
      "\tWarning: Exception caused NeuralNetFastAI to fail during training (ImportError)... Skipping this model.\n",
      "\t\tImport fastai failed. A quick tip is to install via `pip install fastai==2.*`. If you are using Mac OSX, please use this torch version to avoid compatibility issues: `pip install torch==1.6.0`.\n",
      "Fitting model: XGBoost ...\n",
      "\t-27.2364\t = Validation score   (root_mean_squared_error)\n",
      "\t13.11s\t = Training   runtime\n",
      "\t0.01s\t = Validation runtime\n",
      "Fitting model: NeuralNetTorch ...\n",
      "\t-26.2469\t = Validation score   (root_mean_squared_error)\n",
      "\t12.58s\t = Training   runtime\n",
      "\t0.13s\t = Validation runtime\n",
      "Fitting model: LightGBMLarge ...\n",
      "\t-29.528\t = Validation score   (root_mean_squared_error)\n",
      "\t43.08s\t = Training   runtime\n",
      "\t0.02s\t = Validation runtime\n",
      "Fitting model: WeightedEnsemble_L2 ...\n",
      "\t-25.8524\t = Validation score   (root_mean_squared_error)\n",
      "\t0.09s\t = Training   runtime\n",
      "\t0.0s\t = Validation runtime\n",
      "AutoGluon training complete, total runtime = 115.56s ... Best model: \"WeightedEnsemble_L2\"\n",
      "TabularPredictor saved. To load, use: predictor = TabularPredictor.load(\"seconds/\")\n"
     ]
    },
    {
     "name": "stdout",
     "output_type": "stream",
     "text": [
      "*** Summary of fit() ***\n",
      "Estimated performance of each model:\n",
      "                  model  score_val  pred_time_val   fit_time  pred_time_val_marginal  fit_time_marginal  stack_level  can_infer  fit_order\n",
      "0   WeightedEnsemble_L2 -25.852373       0.169272  37.443374                0.000635           0.092099            2       True         11\n",
      "1        NeuralNetTorch -26.246926       0.131982  12.577155                0.131982          12.577155            1       True          9\n",
      "2         ExtraTreesMSE -26.352513       0.020352   2.156488                0.020352           2.156488            1       True          7\n",
      "3            LightGBMXT -26.518385       0.005928   9.507687                0.005928           9.507687            1       True          3\n",
      "4       RandomForestMSE -26.952427       0.034670   7.760448                0.034670           7.760448            1       True          5\n",
      "5               XGBoost -27.236397       0.010375  13.109945                0.010375          13.109945            1       True          8\n",
      "6              CatBoost -27.386082       0.020258  14.325682                0.020258          14.325682            1       True          6\n",
      "7              LightGBM -27.597103       0.004873  10.713322                0.004873          10.713322            1       True          4\n",
      "8         LightGBMLarge -29.528048       0.017477  43.075706                0.017477          43.075706            1       True         10\n",
      "9        KNeighborsDist -32.731343       0.048510   0.107913                0.048510           0.107913            1       True          2\n",
      "10       KNeighborsUnif -33.801097       0.064542   0.085071                0.064542           0.085071            1       True          1\n",
      "Number of models trained: 11\n",
      "Types of models trained:\n",
      "{'KNNModel', 'XGBoostModel', 'TabularNeuralNetTorchModel', 'XTModel', 'LGBModel', 'WeightedEnsembleModel', 'RFModel', 'CatBoostModel'}\n",
      "Bagging used: False \n",
      "Multi-layer stack-ensembling used: False \n",
      "Feature Metadata (Processed):\n",
      "(raw dtype, special dtypes):\n",
      "('float', [])     : 1109 | ['ABC', 'ABCGG', 'SpAbs_A', 'SpMax_A', 'SpDiam_A', ...]\n",
      "('int', [])       :   96 | ['nAcid', 'nBase', 'nAromAtom', 'nAromBond', 'nAtom', ...]\n",
      "('int', ['bool']) :   71 | ['nSpiro', 'nP', 'nBr', 'nBondsT', 'C1SP1', ...]\n",
      "*** End of fit() summary ***\n",
      "{'model_types': {'KNeighborsUnif': 'KNNModel', 'KNeighborsDist': 'KNNModel', 'LightGBMXT': 'LGBModel', 'LightGBM': 'LGBModel', 'RandomForestMSE': 'RFModel', 'CatBoost': 'CatBoostModel', 'ExtraTreesMSE': 'XTModel', 'XGBoost': 'XGBoostModel', 'NeuralNetTorch': 'TabularNeuralNetTorchModel', 'LightGBMLarge': 'LGBModel', 'WeightedEnsemble_L2': 'WeightedEnsembleModel'}, 'model_performance': {'KNeighborsUnif': -33.80109663022687, 'KNeighborsDist': -32.73134289450203, 'LightGBMXT': -26.51838513919697, 'LightGBM': -27.59710282392211, 'RandomForestMSE': -26.952426714842463, 'CatBoost': -27.38608218204595, 'ExtraTreesMSE': -26.352513158304976, 'XGBoost': -27.236396699910856, 'NeuralNetTorch': -26.24692627851275, 'LightGBMLarge': -29.528047561058163, 'WeightedEnsemble_L2': -25.852372540978955}, 'model_best': 'WeightedEnsemble_L2', 'model_paths': {'KNeighborsUnif': 'seconds/models/KNeighborsUnif/', 'KNeighborsDist': 'seconds/models/KNeighborsDist/', 'LightGBMXT': 'seconds/models/LightGBMXT/', 'LightGBM': 'seconds/models/LightGBM/', 'RandomForestMSE': 'seconds/models/RandomForestMSE/', 'CatBoost': 'seconds/models/CatBoost/', 'ExtraTreesMSE': 'seconds/models/ExtraTreesMSE/', 'XGBoost': 'seconds/models/XGBoost/', 'NeuralNetTorch': 'seconds/models/NeuralNetTorch/', 'LightGBMLarge': 'seconds/models/LightGBMLarge/', 'WeightedEnsemble_L2': 'seconds/models/WeightedEnsemble_L2/'}, 'model_fit_times': {'KNeighborsUnif': 0.08507108688354492, 'KNeighborsDist': 0.10791277885437012, 'LightGBMXT': 9.507686853408813, 'LightGBM': 10.713321924209595, 'RandomForestMSE': 7.760447978973389, 'CatBoost': 14.325682163238525, 'ExtraTreesMSE': 2.1564879417419434, 'XGBoost': 13.109945297241211, 'NeuralNetTorch': 12.577155113220215, 'LightGBMLarge': 43.075706005096436, 'WeightedEnsemble_L2': 0.09209918975830078}, 'model_pred_times': {'KNeighborsUnif': 0.06454205513000488, 'KNeighborsDist': 0.048510074615478516, 'LightGBMXT': 0.0059282779693603516, 'LightGBM': 0.004873037338256836, 'RandomForestMSE': 0.03466963768005371, 'CatBoost': 0.020257949829101562, 'ExtraTreesMSE': 0.02035212516784668, 'XGBoost': 0.010374784469604492, 'NeuralNetTorch': 0.13198208808898926, 'LightGBMLarge': 0.017477035522460938, 'WeightedEnsemble_L2': 0.0006349086761474609}, 'num_bag_folds': 0, 'max_stack_level': 2, 'model_hyperparams': {'KNeighborsUnif': {'weights': 'uniform'}, 'KNeighborsDist': {'weights': 'distance'}, 'LightGBMXT': {'learning_rate': 0.05, 'extra_trees': True}, 'LightGBM': {'learning_rate': 0.05}, 'RandomForestMSE': {'n_estimators': 300, 'n_jobs': -1, 'random_state': 0, 'bootstrap': True, 'criterion': 'squared_error'}, 'CatBoost': {'iterations': 10000, 'learning_rate': 0.05, 'random_seed': 0, 'allow_writing_files': False, 'eval_metric': 'RMSE'}, 'ExtraTreesMSE': {'n_estimators': 300, 'n_jobs': -1, 'random_state': 0, 'bootstrap': True, 'criterion': 'squared_error'}, 'XGBoost': {'n_estimators': 10000, 'learning_rate': 0.1, 'n_jobs': -1, 'proc.max_category_levels': 100, 'objective': 'reg:squarederror', 'booster': 'gbtree'}, 'NeuralNetTorch': {'num_epochs': 500, 'epochs_wo_improve': 20, 'activation': 'relu', 'embedding_size_factor': 1.0, 'embed_exponent': 0.56, 'max_embedding_dim': 100, 'y_range': None, 'y_range_extend': 0.05, 'dropout_prob': 0.1, 'optimizer': 'adam', 'learning_rate': 0.0003, 'weight_decay': 1e-06, 'proc.embed_min_categories': 4, 'proc.impute_strategy': 'median', 'proc.max_category_levels': 100, 'proc.skew_threshold': 0.99, 'use_ngram_features': False, 'num_layers': 4, 'hidden_size': 128, 'max_batch_size': 512, 'use_batchnorm': False, 'loss_function': 'auto'}, 'LightGBMLarge': {'learning_rate': 0.03, 'num_leaves': 128, 'feature_fraction': 0.9, 'min_data_in_leaf': 5}, 'WeightedEnsemble_L2': {'use_orig_features': False, 'max_base_models': 25, 'max_base_models_per_type': 5, 'save_bag_folds': True}}, 'leaderboard':                   model  score_val  pred_time_val   fit_time  \\\n",
      "0   WeightedEnsemble_L2 -25.852373       0.169272  37.443374   \n",
      "1        NeuralNetTorch -26.246926       0.131982  12.577155   \n",
      "2         ExtraTreesMSE -26.352513       0.020352   2.156488   \n",
      "3            LightGBMXT -26.518385       0.005928   9.507687   \n",
      "4       RandomForestMSE -26.952427       0.034670   7.760448   \n",
      "5               XGBoost -27.236397       0.010375  13.109945   \n",
      "6              CatBoost -27.386082       0.020258  14.325682   \n",
      "7              LightGBM -27.597103       0.004873  10.713322   \n",
      "8         LightGBMLarge -29.528048       0.017477  43.075706   \n",
      "9        KNeighborsDist -32.731343       0.048510   0.107913   \n",
      "10       KNeighborsUnif -33.801097       0.064542   0.085071   \n",
      "\n",
      "    pred_time_val_marginal  fit_time_marginal  stack_level  can_infer  \\\n",
      "0                 0.000635           0.092099            2       True   \n",
      "1                 0.131982          12.577155            1       True   \n",
      "2                 0.020352           2.156488            1       True   \n",
      "3                 0.005928           9.507687            1       True   \n",
      "4                 0.034670           7.760448            1       True   \n",
      "5                 0.010375          13.109945            1       True   \n",
      "6                 0.020258          14.325682            1       True   \n",
      "7                 0.004873          10.713322            1       True   \n",
      "8                 0.017477          43.075706            1       True   \n",
      "9                 0.048510           0.107913            1       True   \n",
      "10                0.064542           0.085071            1       True   \n",
      "\n",
      "    fit_order  \n",
      "0          11  \n",
      "1           9  \n",
      "2           7  \n",
      "3           3  \n",
      "4           5  \n",
      "5           8  \n",
      "6           6  \n",
      "7           4  \n",
      "8          10  \n",
      "9           2  \n",
      "10          1  }\n"
     ]
    },
    {
     "name": "stderr",
     "output_type": "stream",
     "text": [
      "Evaluation: root_mean_squared_error on test data: -27.947757508437043\n",
      "\tNote: Scores are always higher_is_better. This metric score can be multiplied by -1 to get the metric value.\n",
      "Evaluations on test data:\n",
      "{\n",
      "    \"root_mean_squared_error\": -27.947757508437043,\n",
      "    \"mean_squared_error\": -781.077149750399,\n",
      "    \"mean_absolute_error\": -16.499267436924896,\n",
      "    \"r2\": 0.5927499795435118,\n",
      "    \"pearsonr\": 0.7753560832861947,\n",
      "    \"median_absolute_error\": -6.8259540676633605\n",
      "}\n"
     ]
    },
    {
     "name": "stdout",
     "output_type": "stream",
     "text": [
      "{'root_mean_squared_error': -27.947757508437043, 'mean_squared_error': -781.077149750399, 'mean_absolute_error': -16.499267436924896, 'r2': 0.5927499795435118, 'pearsonr': 0.7753560832861947, 'median_absolute_error': -6.8259540676633605}\n"
     ]
    },
    {
     "data": {
      "text/plain": "<autogluon.tabular.predictor.predictor.TabularPredictor at 0x43ec86280>"
     },
     "execution_count": 325,
     "metadata": {},
     "output_type": "execute_result"
    }
   ],
   "source": [
    "ap.autogluon_fit_train_test(train,test, \"seconds\")"
   ],
   "metadata": {
    "collapsed": false,
    "pycharm": {
     "name": "#%%\n"
    }
   }
  },
  {
   "cell_type": "code",
   "execution_count": null,
   "outputs": [],
   "source": [
    "# filter only query normalized entropy >0.5"
   ],
   "metadata": {
    "collapsed": false,
    "pycharm": {
     "name": "#%%\n"
    }
   }
  },
  {
   "cell_type": "code",
   "execution_count": 328,
   "outputs": [],
   "source": [
    "from autogluon.tabular import TabularPredictor"
   ],
   "metadata": {
    "collapsed": false,
    "pycharm": {
     "name": "#%%\n"
    }
   }
  },
  {
   "cell_type": "code",
   "execution_count": 57,
   "outputs": [],
   "source": [
    "model = TabularPredictor.load(\"seconds\")"
   ],
   "metadata": {
    "collapsed": false,
    "pycharm": {
     "name": "#%%\n"
    }
   }
  },
  {
   "cell_type": "code",
   "execution_count": 281,
   "outputs": [
    {
     "name": "stderr",
     "output_type": "stream",
     "text": [
      "These features in provided data are not utilized by the predictor and will be ignored: ['nB', 'nI', 'C2SP1', 'NsLi', 'NssBe', 'NssssBe', 'NssBH', 'NsssB', 'NssssB', 'NtCH', 'NddC', 'NssNH2', 'NsssNH', 'NsSiH3', 'NssSiH2', 'NsssSiH', 'NssssSi', 'NsPH2', 'NssPH', 'NsssP', 'NsssssP', 'NsSH', 'NdS', 'NsGeH3', 'NssGeH2', 'NsssGeH', 'NssssGe', 'NsAsH2', 'NssAsH', 'NsssAs', 'NsssdAs', 'NsssssAs', 'NsSeH', 'NdSe', 'NssSe', 'NaaSe', 'NdssSe', 'NddssSe', 'NsSnH3', 'NssSnH2', 'NsssSnH', 'NssssSn', 'NsI', 'NsPbH3', 'NssPbH2', 'NsssPbH', 'NssssPb', 'SsLi', 'SssBe', 'SssssBe', 'SssBH', 'SsssB', 'SssssB', 'StCH', 'SddC', 'SssNH2', 'SsssNH', 'SsSiH3', 'SssSiH2', 'SsssSiH', 'SssssSi', 'SsPH2', 'SssPH', 'SsssP', 'SsssssP', 'SsSH', 'SdS', 'SsGeH3', 'SssGeH2', 'SsssGeH', 'SssssGe', 'SsAsH2', 'SssAsH', 'SsssAs', 'SsssdAs', 'SsssssAs', 'SsSeH', 'SdSe', 'SssSe', 'SaaSe', 'SdssSe', 'SddssSe', 'SsSnH3', 'SssSnH2', 'SsssSnH', 'SssssSn', 'SsI', 'SsPbH3', 'SssPbH2', 'SsssPbH', 'SssssPb', 'ETA_dPsi_B', 'SMR_VSA8', 'SlogP_VSA9', 'n8Ring', 'n9Ring', 'n11Ring', 'n12Ring', 'n8HRing', 'n9HRing', 'n10HRing', 'n11HRing', 'n12HRing', 'n3aRing', 'n4aRing', 'n7aRing', 'n8aRing', 'n9aRing', 'n10aRing', 'n11aRing', 'n12aRing', 'nG12aRing', 'n3aHRing', 'n4aHRing', 'n7aHRing', 'n8aHRing', 'n9aHRing', 'n10aHRing', 'n11aHRing', 'n12aHRing', 'nG12aHRing', 'n8ARing', 'n9ARing', 'n11ARing', 'n12ARing', 'n8AHRing', 'n9AHRing', 'n10AHRing', 'n11AHRing', 'n12AHRing', 'n4FRing', 'n5FRing', 'n6FRing', 'n4FHRing', 'n5FHRing', 'n6FHRing', 'n4FaRing', 'n5FaRing', 'n6FaRing', 'n7FaRing', 'n8FaRing', 'n11FaRing', 'n12FaRing', 'n4FaHRing', 'n5FaHRing', 'n6FaHRing', 'n7FaHRing', 'n8FaHRing', 'n11FaHRing', 'n12FaHRing', 'n4FARing', 'n5FARing', 'n6FARing', 'n4FAHRing', 'n5FAHRing', 'n6FAHRing', 'split_index']\n",
      "Computing feature importance via permutation shuffling for 1276 features using 235 rows with 3 shuffle sets...\n",
      "\t889.45s\t= Expected runtime (296.48s per shuffle set)\n",
      "\t122.89s\t= Actual runtime (Completed 3 of 3 shuffle sets)\n"
     ]
    },
    {
     "data": {
      "text/plain": "                importance    stddev   p_value  n  p99_high   p99_low\nVSA_EState4       0.001678  0.000616  0.021054  3  0.005207 -0.001852\nGGI9              0.001649  0.000129  0.001015  3  0.002388  0.000910\nAATS4i            0.001616  0.002554  0.193660  3  0.016249 -0.013016\nETA_epsilon_5     0.001501  0.000757  0.037638  3  0.005838 -0.002836\nC2SP3             0.001430  0.000529  0.021336  3  0.004460 -0.001600\n...                    ...       ...       ... ..       ...       ...\nPetitjeanIndex   -0.001311  0.000240  0.994494  3  0.000066 -0.002688\nAATS8i           -0.001331  0.000247  0.994341  3  0.000086 -0.002747\nSddsN            -0.001721  0.000329  0.994014  3  0.000165 -0.003606\nSlogP_VSA5       -0.002098  0.000435  0.992996  3  0.000393 -0.004588\nPEOE_VSA6        -0.004647  0.000734  0.995892  3 -0.000440 -0.008853\n\n[1276 rows x 6 columns]",
      "text/html": "<div>\n<style scoped>\n    .dataframe tbody tr th:only-of-type {\n        vertical-align: middle;\n    }\n\n    .dataframe tbody tr th {\n        vertical-align: top;\n    }\n\n    .dataframe thead th {\n        text-align: right;\n    }\n</style>\n<table border=\"1\" class=\"dataframe\">\n  <thead>\n    <tr style=\"text-align: right;\">\n      <th></th>\n      <th>importance</th>\n      <th>stddev</th>\n      <th>p_value</th>\n      <th>n</th>\n      <th>p99_high</th>\n      <th>p99_low</th>\n    </tr>\n  </thead>\n  <tbody>\n    <tr>\n      <th>VSA_EState4</th>\n      <td>0.001678</td>\n      <td>0.000616</td>\n      <td>0.021054</td>\n      <td>3</td>\n      <td>0.005207</td>\n      <td>-0.001852</td>\n    </tr>\n    <tr>\n      <th>GGI9</th>\n      <td>0.001649</td>\n      <td>0.000129</td>\n      <td>0.001015</td>\n      <td>3</td>\n      <td>0.002388</td>\n      <td>0.000910</td>\n    </tr>\n    <tr>\n      <th>AATS4i</th>\n      <td>0.001616</td>\n      <td>0.002554</td>\n      <td>0.193660</td>\n      <td>3</td>\n      <td>0.016249</td>\n      <td>-0.013016</td>\n    </tr>\n    <tr>\n      <th>ETA_epsilon_5</th>\n      <td>0.001501</td>\n      <td>0.000757</td>\n      <td>0.037638</td>\n      <td>3</td>\n      <td>0.005838</td>\n      <td>-0.002836</td>\n    </tr>\n    <tr>\n      <th>C2SP3</th>\n      <td>0.001430</td>\n      <td>0.000529</td>\n      <td>0.021336</td>\n      <td>3</td>\n      <td>0.004460</td>\n      <td>-0.001600</td>\n    </tr>\n    <tr>\n      <th>...</th>\n      <td>...</td>\n      <td>...</td>\n      <td>...</td>\n      <td>...</td>\n      <td>...</td>\n      <td>...</td>\n    </tr>\n    <tr>\n      <th>PetitjeanIndex</th>\n      <td>-0.001311</td>\n      <td>0.000240</td>\n      <td>0.994494</td>\n      <td>3</td>\n      <td>0.000066</td>\n      <td>-0.002688</td>\n    </tr>\n    <tr>\n      <th>AATS8i</th>\n      <td>-0.001331</td>\n      <td>0.000247</td>\n      <td>0.994341</td>\n      <td>3</td>\n      <td>0.000086</td>\n      <td>-0.002747</td>\n    </tr>\n    <tr>\n      <th>SddsN</th>\n      <td>-0.001721</td>\n      <td>0.000329</td>\n      <td>0.994014</td>\n      <td>3</td>\n      <td>0.000165</td>\n      <td>-0.003606</td>\n    </tr>\n    <tr>\n      <th>SlogP_VSA5</th>\n      <td>-0.002098</td>\n      <td>0.000435</td>\n      <td>0.992996</td>\n      <td>3</td>\n      <td>0.000393</td>\n      <td>-0.004588</td>\n    </tr>\n    <tr>\n      <th>PEOE_VSA6</th>\n      <td>-0.004647</td>\n      <td>0.000734</td>\n      <td>0.995892</td>\n      <td>3</td>\n      <td>-0.000440</td>\n      <td>-0.008853</td>\n    </tr>\n  </tbody>\n</table>\n<p>1276 rows × 6 columns</p>\n</div>"
     },
     "execution_count": 281,
     "metadata": {},
     "output_type": "execute_result"
    }
   ],
   "source": [
    "model.feature_importance(test)"
   ],
   "metadata": {
    "collapsed": false,
    "pycharm": {
     "name": "#%%\n"
    }
   }
  },
  {
   "cell_type": "code",
   "execution_count": 277,
   "outputs": [],
   "source": [
    "x_train=train.drop(['retention_time'], axis=1)\n",
    "y_train = train['retention_time']"
   ],
   "metadata": {
    "collapsed": false,
    "pycharm": {
     "name": "#%%\n"
    }
   }
  },
  {
   "cell_type": "code",
   "execution_count": 330,
   "outputs": [],
   "source": [
    "x_test = test.drop(['retention_time'], axis=1)\n",
    "y_test = test['retention_time']"
   ],
   "metadata": {
    "collapsed": false,
    "pycharm": {
     "name": "#%%\n"
    }
   }
  },
  {
   "cell_type": "code",
   "execution_count": 331,
   "outputs": [],
   "source": [
    "y_pred = model.predict(x_test)"
   ],
   "metadata": {
    "collapsed": false,
    "pycharm": {
     "name": "#%%\n"
    }
   }
  },
  {
   "cell_type": "code",
   "execution_count": 278,
   "outputs": [],
   "source": [
    "y_train_pred = model.predict(x_train)"
   ],
   "metadata": {
    "collapsed": false,
    "pycharm": {
     "name": "#%%\n"
    }
   }
  },
  {
   "cell_type": "code",
   "execution_count": 332,
   "outputs": [
    {
     "data": {
      "text/plain": "<AxesSubplot:xlabel='retention_time', ylabel='retention_time'>"
     },
     "execution_count": 332,
     "metadata": {},
     "output_type": "execute_result"
    },
    {
     "data": {
      "text/plain": "<Figure size 432x288 with 1 Axes>",
      "image/png": "[encoded data removed]"
     },
     "metadata": {},
     "output_type": "display_data"
    }
   ],
   "source": [
    "sns.scatterplot(y_test, y_pred)\n",
    "# sns.scatterplot(y_train, y_train_pred)"
   ],
   "metadata": {
    "collapsed": false,
    "pycharm": {
     "name": "#%%\n"
    }
   }
  },
  {
   "cell_type": "code",
   "execution_count": 334,
   "outputs": [],
   "source": [
    "import math\n",
    "MSE = np.square(np.subtract(y_test,y_pred)).mean()\n",
    "\n",
    "RMSE = math.sqrt(MSE)"
   ],
   "metadata": {
    "collapsed": false,
    "pycharm": {
     "name": "#%%\n"
    }
   }
  },
  {
   "cell_type": "code",
   "execution_count": 335,
   "outputs": [
    {
     "name": "stdout",
     "output_type": "stream",
     "text": [
      "781.077149750399 27.947757508437043\n"
     ]
    }
   ],
   "source": [
    "print(MSE, RMSE)"
   ],
   "metadata": {
    "collapsed": false,
    "pycharm": {
     "name": "#%%\n"
    }
   }
  }
 ],
 "metadata": {
  "kernelspec": {
   "name": "tensorflow",
   "language": "python",
   "display_name": "Python 3.9 (tensorflow)"
  },
  "language_info": {
   "codemirror_mode": {
    "name": "ipython",
    "version": 2
   },
   "file_extension": ".py",
   "mimetype": "text/x-python",
   "name": "python",
   "nbconvert_exporter": "python",
   "pygments_lexer": "ipython2",
   "version": "2.7.6"
  }
 },
 "nbformat": 4,
 "nbformat_minor": 0
}