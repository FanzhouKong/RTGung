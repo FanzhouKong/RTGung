{
 "cells": [
  {
   "cell_type": "code",
   "execution_count": 8,
   "outputs": [
    {
     "name": "stdout",
     "output_type": "stream",
     "text": [
      "Hi I am compiled version of the rt prediction using autogluon and mordred descriptor calculator\n",
      "the usage is auto_rt_pred_with_autogluon(data, ignore_3d_label, savepath)\n",
      "the data is a dataframe with columns smiles, retention_time, and split split_index (1 training, 2 test)\n",
      "this function will returns a model\n",
      "The autoreload extension is already loaded. To reload it, use:\n",
      "  %reload_ext autoreload\n"
     ]
    }
   ],
   "source": [
    "import pandas as pd\n",
    "from rdkit import Chem\n",
    "from mordred import Calculator, descriptors\n",
    "import warnings\n",
    "warnings.filterwarnings(\"ignore\")\n",
    "%load_ext autoreload\n",
    "%autoreload 2\n",
    "import auto_rt_pred as arp"
   ],
   "metadata": {
    "collapsed": false,
    "pycharm": {
     "name": "#%%\n"
    }
   }
  },
  {
   "cell_type": "code",
   "execution_count": 2,
   "outputs": [],
   "source": [
    "df = pd.read_csv(\"data_pfp_with_drip.csv\")"
   ],
   "metadata": {
    "collapsed": false,
    "pycharm": {
     "name": "#%%\n"
    }
   }
  },
  {
   "cell_type": "code",
   "execution_count": 5,
   "outputs": [],
   "source": [
    "df = df.rename({'Smi_code': 'smiles'}, axis=1)  # new method"
   ],
   "metadata": {
    "collapsed": false,
    "pycharm": {
     "name": "#%%\n"
    }
   }
  },
  {
   "cell_type": "code",
   "execution_count": 6,
   "outputs": [
    {
     "data": {
      "text/plain": "                                              smiles  retention_time  \\\n0  CC1C(C(C(C(O1)OC2C(OC(C(C2O)O)OC(=O)C34CCC(C3C...           4.698   \n1            CC(C)(C(CC1=C(C=CC2=C1OC(=O)C=C2)OC)O)O           2.801   \n2  CC(=O)/C=C/[C@@H]1[C@]2(CCCC(C2[C@H]([C@@H]([C...           3.907   \n3  CC(=CCC[C@@](C)([C@H]1CC[C@@]2([C@@H]1[C@@H](C...           4.410   \n4  COC(=O)C1=C[C@H]([C@H]([C@@H](C1)O[C@H]2[C@@H]...           3.008   \n\n   split_index        ABC      ABCGG  nAcid  nBase    SpAbs_A   SpMax_A  \\\n0            2  53.346601  39.877147      1      0  84.547542  2.735936   \n1            1  15.361848  13.421903      0      0  24.365139  2.447054   \n2            2  17.106680  15.468742      0      0  25.234080  2.631977   \n3            1  42.885836  33.565709      0      0  66.749110  2.728079   \n4            1  25.938492  20.372524      0      0  43.505650  2.437816   \n\n   SpDiam_A  ...      SRW10      TSRW10          MW       AMW  WPath  WPol  \\\n0  5.454882  ...  11.669322  122.404157  954.482430  6.769379  20233   154   \n1  4.894108  ...   9.989344   53.842497  278.115424  7.318827    763    32   \n2  5.263954  ...  10.540250   57.336429  310.214409  5.965662    888    45   \n3  5.427230  ...  11.427030  108.258079  770.481642  6.213562  10668   118   \n4  4.875633  ...  10.367316   70.107172  480.163162  7.744567   3873    55   \n\n   Zagreb1  Zagreb2   mZagreb1   mZagreb2  \n0    388.0    494.0  27.479167  14.104167  \n1    104.0    121.0   8.479167   4.333333  \n2    122.0    150.0  10.993056   4.555556  \n3    310.0    389.0  22.951389  11.256944  \n4    172.0    200.0  12.833333   7.611111  \n\n[5 rows x 1616 columns]",
      "text/html": "<div>\n<style scoped>\n    .dataframe tbody tr th:only-of-type {\n        vertical-align: middle;\n    }\n\n    .dataframe tbody tr th {\n        vertical-align: top;\n    }\n\n    .dataframe thead th {\n        text-align: right;\n    }\n</style>\n<table border=\"1\" class=\"dataframe\">\n  <thead>\n    <tr style=\"text-align: right;\">\n      <th></th>\n      <th>smiles</th>\n      <th>retention_time</th>\n      <th>split_index</th>\n      <th>ABC</th>\n      <th>ABCGG</th>\n      <th>nAcid</th>\n      <th>nBase</th>\n      <th>SpAbs_A</th>\n      <th>SpMax_A</th>\n      <th>SpDiam_A</th>\n      <th>...</th>\n      <th>SRW10</th>\n      <th>TSRW10</th>\n      <th>MW</th>\n      <th>AMW</th>\n      <th>WPath</th>\n      <th>WPol</th>\n      <th>Zagreb1</th>\n      <th>Zagreb2</th>\n      <th>mZagreb1</th>\n      <th>mZagreb2</th>\n    </tr>\n  </thead>\n  <tbody>\n    <tr>\n      <th>0</th>\n      <td>CC1C(C(C(C(O1)OC2C(OC(C(C2O)O)OC(=O)C34CCC(C3C...</td>\n      <td>4.698</td>\n      <td>2</td>\n      <td>53.346601</td>\n      <td>39.877147</td>\n      <td>1</td>\n      <td>0</td>\n      <td>84.547542</td>\n      <td>2.735936</td>\n      <td>5.454882</td>\n      <td>...</td>\n      <td>11.669322</td>\n      <td>122.404157</td>\n      <td>954.482430</td>\n      <td>6.769379</td>\n      <td>20233</td>\n      <td>154</td>\n      <td>388.0</td>\n      <td>494.0</td>\n      <td>27.479167</td>\n      <td>14.104167</td>\n    </tr>\n    <tr>\n      <th>1</th>\n      <td>CC(C)(C(CC1=C(C=CC2=C1OC(=O)C=C2)OC)O)O</td>\n      <td>2.801</td>\n      <td>1</td>\n      <td>15.361848</td>\n      <td>13.421903</td>\n      <td>0</td>\n      <td>0</td>\n      <td>24.365139</td>\n      <td>2.447054</td>\n      <td>4.894108</td>\n      <td>...</td>\n      <td>9.989344</td>\n      <td>53.842497</td>\n      <td>278.115424</td>\n      <td>7.318827</td>\n      <td>763</td>\n      <td>32</td>\n      <td>104.0</td>\n      <td>121.0</td>\n      <td>8.479167</td>\n      <td>4.333333</td>\n    </tr>\n    <tr>\n      <th>2</th>\n      <td>CC(=O)/C=C/[C@@H]1[C@]2(CCCC(C2[C@H]([C@@H]([C...</td>\n      <td>3.907</td>\n      <td>2</td>\n      <td>17.106680</td>\n      <td>15.468742</td>\n      <td>0</td>\n      <td>0</td>\n      <td>25.234080</td>\n      <td>2.631977</td>\n      <td>5.263954</td>\n      <td>...</td>\n      <td>10.540250</td>\n      <td>57.336429</td>\n      <td>310.214409</td>\n      <td>5.965662</td>\n      <td>888</td>\n      <td>45</td>\n      <td>122.0</td>\n      <td>150.0</td>\n      <td>10.993056</td>\n      <td>4.555556</td>\n    </tr>\n    <tr>\n      <th>3</th>\n      <td>CC(=CCC[C@@](C)([C@H]1CC[C@@]2([C@@H]1[C@@H](C...</td>\n      <td>4.410</td>\n      <td>1</td>\n      <td>42.885836</td>\n      <td>33.565709</td>\n      <td>0</td>\n      <td>0</td>\n      <td>66.749110</td>\n      <td>2.728079</td>\n      <td>5.427230</td>\n      <td>...</td>\n      <td>11.427030</td>\n      <td>108.258079</td>\n      <td>770.481642</td>\n      <td>6.213562</td>\n      <td>10668</td>\n      <td>118</td>\n      <td>310.0</td>\n      <td>389.0</td>\n      <td>22.951389</td>\n      <td>11.256944</td>\n    </tr>\n    <tr>\n      <th>4</th>\n      <td>COC(=O)C1=C[C@H]([C@H]([C@@H](C1)O[C@H]2[C@@H]...</td>\n      <td>3.008</td>\n      <td>1</td>\n      <td>25.938492</td>\n      <td>20.372524</td>\n      <td>0</td>\n      <td>0</td>\n      <td>43.505650</td>\n      <td>2.437816</td>\n      <td>4.875633</td>\n      <td>...</td>\n      <td>10.367316</td>\n      <td>70.107172</td>\n      <td>480.163162</td>\n      <td>7.744567</td>\n      <td>3873</td>\n      <td>55</td>\n      <td>172.0</td>\n      <td>200.0</td>\n      <td>12.833333</td>\n      <td>7.611111</td>\n    </tr>\n  </tbody>\n</table>\n<p>5 rows × 1616 columns</p>\n</div>"
     },
     "execution_count": 6,
     "metadata": {},
     "output_type": "execute_result"
    }
   ],
   "source": [
    "df.head()"
   ],
   "metadata": {
    "collapsed": false,
    "pycharm": {
     "name": "#%%\n"
    }
   }
  },
  {
   "cell_type": "code",
   "execution_count": 9,
   "outputs": [
    {
     "name": "stderr",
     "output_type": "stream",
     "text": [
      "Warning: Training may take a very long time because `time_limit` was not specified and `train_data` is large (1391 samples, 57.91 MB).\n",
      "\tConsider setting `time_limit` to ensure training finishes within an expected duration or experiment with a small portion of `train_data` to identify an ideal `presets` and `hyperparameters` configuration.\n",
      "Beginning AutoGluon training ...\n",
      "AutoGluon will save models to \"testplace/\"\n",
      "AutoGluon Version:  0.4.1b20220404\n",
      "Python Version:     3.9.10\n",
      "Operating System:   Darwin\n",
      "Train Data Rows:    1391\n",
      "Train Data Columns: 1613\n",
      "Label Column: retention_time\n",
      "Preprocessing data ...\n",
      "AutoGluon infers your prediction problem is: 'regression' (because dtype of label-column == float and many unique label-values observed).\n",
      "\tLabel info (max, min, mean, stddev): (8.56, 0.212, 3.84872, 1.80528)\n",
      "\tIf 'regression' is not the correct problem_type, please manually specify the problem_type parameter during predictor init (You may specify problem_type as one of: ['binary', 'multiclass', 'regression'])\n",
      "Using Feature Generators to preprocess the data ...\n",
      "Fitting AutoMLPipelineFeatureGenerator...\n",
      "\tAvailable Memory:                    6755.39 MB\n",
      "\tTrain Data (Original)  Memory Usage: 57.85 MB (0.9% of available memory)\n",
      "\tInferring data type of each feature based on column values. Set feature_metadata_in to manually specify special dtypes of the features.\n",
      "\tStage 1 Generators:\n",
      "\t\tFitting AsTypeFeatureGenerator...\n",
      "\t\t\tNote: Converting 79 features to boolean dtype as they only contain 2 unique values.\n",
      "\tStage 2 Generators:\n",
      "\t\tFitting FillNaFeatureGenerator...\n",
      "\tStage 3 Generators:\n",
      "\t\tFitting IdentityFeatureGenerator...\n",
      "\t\tFitting CategoryFeatureGenerator...\n",
      "\t\t\tFitting CategoryMemoryMinimizeFeatureGenerator...\n",
      "\t\tFitting DatetimeFeatureGenerator...\n",
      "\tStage 4 Generators:\n",
      "\t\tFitting DropUniqueFeatureGenerator...\n",
      "\tUseless Original Features (Count: 241): ['nB', 'nF', 'nBr', 'nI', 'SpAbs_Dt', 'SpMax_Dt', 'SpDiam_Dt', 'SpAD_Dt', 'SpMAD_Dt', 'LogEE_Dt', 'SM1_Dt', 'VE1_Dt', 'VE2_Dt', 'VE3_Dt', 'VR1_Dt', 'VR2_Dt', 'VR3_Dt', 'DetourIndex', 'NsLi', 'NssBe', 'NssssBe', 'NssBH', 'NsssB', 'NssssB', 'NddC', 'NssNH2', 'NsF', 'NsSiH3', 'NssSiH2', 'NsssSiH', 'NssssSi', 'NsPH2', 'NssPH', 'NsssP', 'NsssssP', 'NsSH', 'NdS', 'NdssS', 'NsGeH3', 'NssGeH2', 'NsssGeH', 'NssssGe', 'NsAsH2', 'NssAsH', 'NsssAs', 'NsssdAs', 'NsssssAs', 'NsSeH', 'NdSe', 'NssSe', 'NaaSe', 'NdssSe', 'NddssSe', 'NsBr', 'NsSnH3', 'NssSnH2', 'NsssSnH', 'NssssSn', 'NsI', 'NsPbH3', 'NssPbH2', 'NsssPbH', 'NssssPb', 'SsLi', 'SssBe', 'SssssBe', 'SssBH', 'SsssB', 'SssssB', 'SddC', 'SssNH2', 'SsF', 'SsSiH3', 'SssSiH2', 'SsssSiH', 'SssssSi', 'SsPH2', 'SssPH', 'SsssP', 'SsssssP', 'SsSH', 'SdS', 'SdssS', 'SsGeH3', 'SssGeH2', 'SsssGeH', 'SssssGe', 'SsAsH2', 'SssAsH', 'SsssAs', 'SsssdAs', 'SsssssAs', 'SsSeH', 'SdSe', 'SssSe', 'SaaSe', 'SdssSe', 'SddssSe', 'SsBr', 'SsSnH3', 'SssSnH2', 'SsssSnH', 'SssssSn', 'SsI', 'SsPbH3', 'SssPbH2', 'SsssPbH', 'SssssPb', 'MAXsLi', 'MAXssBe', 'MAXssssBe', 'MAXssBH', 'MAXsssB', 'MAXssssB', 'MAXddC', 'MAXssNH2', 'MAXsF', 'MAXsSiH3', 'MAXssSiH2', 'MAXsssSiH', 'MAXssssSi', 'MAXsPH2', 'MAXssPH', 'MAXsssP', 'MAXsssssP', 'MAXsSH', 'MAXdS', 'MAXdssS', 'MAXsGeH3', 'MAXssGeH2', 'MAXsssGeH', 'MAXssssGe', 'MAXsAsH2', 'MAXssAsH', 'MAXsssAs', 'MAXsssdAs', 'MAXsssssAs', 'MAXsSeH', 'MAXdSe', 'MAXssSe', 'MAXaaSe', 'MAXdssSe', 'MAXddssSe', 'MAXsBr', 'MAXsSnH3', 'MAXssSnH2', 'MAXsssSnH', 'MAXssssSn', 'MAXsI', 'MAXsPbH3', 'MAXssPbH2', 'MAXsssPbH', 'MAXssssPb', 'MINsLi', 'MINssBe', 'MINssssBe', 'MINssBH', 'MINsssB', 'MINssssB', 'MINddC', 'MINssNH2', 'MINsF', 'MINsSiH3', 'MINssSiH2', 'MINsssSiH', 'MINssssSi', 'MINsPH2', 'MINssPH', 'MINsssP', 'MINsssssP', 'MINsSH', 'MINdS', 'MINdssS', 'MINsGeH3', 'MINssGeH2', 'MINsssGeH', 'MINssssGe', 'MINsAsH2', 'MINssAsH', 'MINsssAs', 'MINsssdAs', 'MINsssssAs', 'MINsSeH', 'MINdSe', 'MINssSe', 'MINaaSe', 'MINdssSe', 'MINddssSe', 'MINsBr', 'MINsSnH3', 'MINssSnH2', 'MINsssSnH', 'MINssssSn', 'MINsI', 'MINsPbH3', 'MINssPbH2', 'MINsssPbH', 'MINssssPb', 'ETA_dPsi_B', 'SMR_VSA8', 'SlogP_VSA9', 'n4HRing', 'n8HRing', 'n3aRing', 'n4aRing', 'n8aRing', 'n9aRing', 'n10aRing', 'n11aRing', 'n12aRing', 'n3aHRing', 'n4aHRing', 'n7aHRing', 'n8aHRing', 'n9aHRing', 'n10aHRing', 'n11aHRing', 'n12aHRing', 'n4AHRing', 'n8AHRing', 'n4FRing', 'n5FRing', 'n4FHRing', 'n5FHRing', 'n4FaRing', 'n5FaRing', 'n6FaRing', 'n7FaRing', 'n8FaRing', 'n12FaRing', 'n4FaHRing', 'n5FaHRing', 'n6FaHRing', 'n7FaHRing', 'n8FaHRing', 'n11FaHRing', 'n12FaHRing', 'n4FARing', 'n5FARing', 'n4FAHRing', 'n5FAHRing']\n",
      "\t\tThese features carry no predictive signal and should be manually investigated.\n",
      "\t\tThis is typically a feature which has the same value for all rows.\n",
      "\t\tThese features do not need to be present at inference time.\n",
      "\tTypes of features in original data (raw dtype, special dtypes):\n",
      "\t\t('bool', [])                       :   2 | ['Lipinski', 'GhoseFilter']\n",
      "\t\t('float', [])                      : 949 | ['ABC', 'ABCGG', 'SpAbs_A', 'SpMax_A', 'SpDiam_A', ...]\n",
      "\t\t('int', [])                        : 185 | ['nAcid', 'nBase', 'nAromAtom', 'nAromBond', 'nAtom', ...]\n",
      "\t\t('object', [])                     : 135 | ['AATS8dv', 'AATS8d', 'AATS8s', 'AATS8Z', 'AATS8m', ...]\n",
      "\t\t('object', ['datetime_as_object']) : 101 | ['AATS6dv', 'AATS7dv', 'AATS6d', 'AATS7d', 'AATS6s', ...]\n",
      "\tTypes of features in processed data (raw dtype, special dtypes):\n",
      "\t\t('category', [])             : 125 | ['AATS8dv', 'AATS8d', 'AATS8s', 'AATS8Z', 'AATS8m', ...]\n",
      "\t\t('float', [])                : 944 | ['ABC', 'ABCGG', 'SpAbs_A', 'SpMax_A', 'SpDiam_A', ...]\n",
      "\t\t('int', [])                  : 123 | ['nAcid', 'nBase', 'nAromAtom', 'nAromBond', 'nAtom', ...]\n",
      "\t\t('int', ['bool'])            :  79 | ['nP', 'nBondsT', 'C1SP1', 'NtCH', 'NsNH3', ...]\n",
      "\t\t('int', ['datetime_as_int']) : 176 | ['AATS6dv', 'AATS7dv', 'AATS6d', 'AATS7d', 'AATS6s', ...]\n",
      "\t3.3s = Fit runtime\n",
      "\t1372 features in original data used to generate 1447 features in processed data.\n",
      "\tTrain Data (Processed) Memory Usage: 14.18 MB (0.2% of available memory)\n",
      "Data preprocessing and feature engineering runtime = 3.42s ...\n",
      "AutoGluon will gauge predictive performance using evaluation metric: 'root_mean_squared_error'\n",
      "\tTo change this, specify the eval_metric parameter of Predictor()\n",
      "Automatically generating train/validation split with holdout_frac=0.2, Train Rows: 1112, Val Rows: 279\n",
      "Fitting 11 L1 models ...\n",
      "Fitting model: KNeighborsUnif ...\n",
      "\t-1.262\t = Validation score   (root_mean_squared_error)\n",
      "\t0.12s\t = Training   runtime\n",
      "\t0.1s\t = Validation runtime\n",
      "Fitting model: KNeighborsDist ...\n",
      "\t-1.2229\t = Validation score   (root_mean_squared_error)\n",
      "\t0.15s\t = Training   runtime\n",
      "\t0.05s\t = Validation runtime\n",
      "Fitting model: LightGBMXT ...\n",
      "\t-0.6903\t = Validation score   (root_mean_squared_error)\n",
      "\t16.46s\t = Training   runtime\n",
      "\t0.02s\t = Validation runtime\n",
      "Fitting model: LightGBM ...\n",
      "\t-0.7186\t = Validation score   (root_mean_squared_error)\n",
      "\t14.44s\t = Training   runtime\n",
      "\t0.03s\t = Validation runtime\n",
      "Fitting model: RandomForestMSE ...\n",
      "\t-0.7714\t = Validation score   (root_mean_squared_error)\n",
      "\t15.97s\t = Training   runtime\n",
      "\t0.04s\t = Validation runtime\n",
      "Fitting model: CatBoost ...\n",
      "\tWarning: Exception caused CatBoost to fail during training (ImportError)... Skipping this model.\n",
      "\t\t`import catboost` failed.A quick tip is to install via `pip install catboost`.\n",
      "Fitting model: ExtraTreesMSE ...\n",
      "\t-0.7499\t = Validation score   (root_mean_squared_error)\n",
      "\t4.84s\t = Training   runtime\n",
      "\t0.04s\t = Validation runtime\n",
      "Fitting model: NeuralNetFastAI ...\n",
      "\t-0.7091\t = Validation score   (root_mean_squared_error)\n",
      "\t9.18s\t = Training   runtime\n",
      "\t0.16s\t = Validation runtime\n",
      "Fitting model: XGBoost ...\n",
      "\t-0.779\t = Validation score   (root_mean_squared_error)\n",
      "\t25.71s\t = Training   runtime\n",
      "\t0.05s\t = Validation runtime\n",
      "Fitting model: NeuralNetTorch ...\n",
      "\t-0.5867\t = Validation score   (root_mean_squared_error)\n",
      "\t39.0s\t = Training   runtime\n",
      "\t0.18s\t = Validation runtime\n",
      "Fitting model: LightGBMLarge ...\n",
      "\t-0.7441\t = Validation score   (root_mean_squared_error)\n",
      "\t80.36s\t = Training   runtime\n",
      "\t0.03s\t = Validation runtime\n",
      "Fitting model: WeightedEnsemble_L2 ...\n",
      "\t-0.5837\t = Validation score   (root_mean_squared_error)\n",
      "\t0.09s\t = Training   runtime\n",
      "\t0.0s\t = Validation runtime\n",
      "AutoGluon training complete, total runtime = 211.81s ... Best model: \"WeightedEnsemble_L2\"\n",
      "TabularPredictor saved. To load, use: predictor = TabularPredictor.load(\"testplace/\")\n"
     ]
    },
    {
     "name": "stdout",
     "output_type": "stream",
     "text": [
      "*** Summary of fit() ***\n",
      "Estimated performance of each model:\n",
      "                  model  score_val  pred_time_val   fit_time  pred_time_val_marginal  fit_time_marginal  stack_level  can_infer  fit_order\n",
      "0   WeightedEnsemble_L2  -0.583667       0.399825  79.180104                0.000419           0.093231            2       True         11\n",
      "1        NeuralNetTorch  -0.586656       0.183403  39.004216                0.183403          39.004216            1       True          9\n",
      "2            LightGBMXT  -0.690311       0.022973  16.460499                0.022973          16.460499            1       True          3\n",
      "3       NeuralNetFastAI  -0.709097       0.163543   9.177437                0.163543           9.177437            1       True          7\n",
      "4              LightGBM  -0.718595       0.029488  14.444721                0.029488          14.444721            1       True          4\n",
      "5         LightGBMLarge  -0.744094       0.025050  80.355235                0.025050          80.355235            1       True         10\n",
      "6         ExtraTreesMSE  -0.749945       0.037924   4.841873                0.037924           4.841873            1       True          6\n",
      "7       RandomForestMSE  -0.771438       0.040722  15.971740                0.040722          15.971740            1       True          5\n",
      "8               XGBoost  -0.778988       0.054751  25.706673                0.054751          25.706673            1       True          8\n",
      "9        KNeighborsDist  -1.222929       0.047220   0.150256                0.047220           0.150256            1       True          2\n",
      "10       KNeighborsUnif  -1.262021       0.098785   0.122968                0.098785           0.122968            1       True          1\n",
      "Number of models trained: 11\n",
      "Types of models trained:\n",
      "{'LGBModel', 'NNFastAiTabularModel', 'RFModel', 'TabularNeuralNetTorchModel', 'KNNModel', 'XGBoostModel', 'XTModel', 'WeightedEnsembleModel'}\n",
      "Bagging used: False \n",
      "Multi-layer stack-ensembling used: False \n",
      "Feature Metadata (Processed):\n",
      "(raw dtype, special dtypes):\n",
      "('category', [])             : 125 | ['AATS8dv', 'AATS8d', 'AATS8s', 'AATS8Z', 'AATS8m', ...]\n",
      "('float', [])                : 944 | ['ABC', 'ABCGG', 'SpAbs_A', 'SpMax_A', 'SpDiam_A', ...]\n",
      "('int', [])                  : 123 | ['nAcid', 'nBase', 'nAromAtom', 'nAromBond', 'nAtom', ...]\n",
      "('int', ['bool'])            :  79 | ['nP', 'nBondsT', 'C1SP1', 'NtCH', 'NsNH3', ...]\n",
      "('int', ['datetime_as_int']) : 176 | ['AATS6dv', 'AATS7dv', 'AATS6d', 'AATS7d', 'AATS6s', ...]\n",
      "*** End of fit() summary ***\n",
      "{'model_types': {'KNeighborsUnif': 'KNNModel', 'KNeighborsDist': 'KNNModel', 'LightGBMXT': 'LGBModel', 'LightGBM': 'LGBModel', 'RandomForestMSE': 'RFModel', 'ExtraTreesMSE': 'XTModel', 'NeuralNetFastAI': 'NNFastAiTabularModel', 'XGBoost': 'XGBoostModel', 'NeuralNetTorch': 'TabularNeuralNetTorchModel', 'LightGBMLarge': 'LGBModel', 'WeightedEnsemble_L2': 'WeightedEnsembleModel'}, 'model_performance': {'KNeighborsUnif': -1.2620207601836244, 'KNeighborsDist': -1.2229293558735101, 'LightGBMXT': -0.6903112647125615, 'LightGBM': -0.7185950910327347, 'RandomForestMSE': -0.7714383562681942, 'ExtraTreesMSE': -0.7499447545427614, 'NeuralNetFastAI': -0.7090968491569316, 'XGBoost': -0.7789876507830727, 'NeuralNetTorch': -0.5866555961897072, 'LightGBMLarge': -0.7440939849117896, 'WeightedEnsemble_L2': -0.5836670075377647}, 'model_best': 'WeightedEnsemble_L2', 'model_paths': {'KNeighborsUnif': 'testplace/models/KNeighborsUnif/', 'KNeighborsDist': 'testplace/models/KNeighborsDist/', 'LightGBMXT': 'testplace/models/LightGBMXT/', 'LightGBM': 'testplace/models/LightGBM/', 'RandomForestMSE': 'testplace/models/RandomForestMSE/', 'ExtraTreesMSE': 'testplace/models/ExtraTreesMSE/', 'NeuralNetFastAI': 'testplace/models/NeuralNetFastAI/', 'XGBoost': 'testplace/models/XGBoost/', 'NeuralNetTorch': 'testplace/models/NeuralNetTorch/', 'LightGBMLarge': 'testplace/models/LightGBMLarge/', 'WeightedEnsemble_L2': 'testplace/models/WeightedEnsemble_L2/'}, 'model_fit_times': {'KNeighborsUnif': 0.12296819686889648, 'KNeighborsDist': 0.15025615692138672, 'LightGBMXT': 16.460499048233032, 'LightGBM': 14.444721221923828, 'RandomForestMSE': 15.971740007400513, 'ExtraTreesMSE': 4.8418731689453125, 'NeuralNetFastAI': 9.17743730545044, 'XGBoost': 25.70667314529419, 'NeuralNetTorch': 39.00421595573425, 'LightGBMLarge': 80.3552348613739, 'WeightedEnsemble_L2': 0.0932307243347168}, 'model_pred_times': {'KNeighborsUnif': 0.0987849235534668, 'KNeighborsDist': 0.04721999168395996, 'LightGBMXT': 0.022972822189331055, 'LightGBM': 0.02948784828186035, 'RandomForestMSE': 0.040721893310546875, 'ExtraTreesMSE': 0.03792381286621094, 'NeuralNetFastAI': 0.1635427474975586, 'XGBoost': 0.054750919342041016, 'NeuralNetTorch': 0.18340301513671875, 'LightGBMLarge': 0.02505016326904297, 'WeightedEnsemble_L2': 0.0004189014434814453}, 'num_bag_folds': 0, 'max_stack_level': 2, 'model_hyperparams': {'KNeighborsUnif': {'weights': 'uniform'}, 'KNeighborsDist': {'weights': 'distance'}, 'LightGBMXT': {'learning_rate': 0.05, 'extra_trees': True}, 'LightGBM': {'learning_rate': 0.05}, 'RandomForestMSE': {'n_estimators': 300, 'n_jobs': -1, 'random_state': 0, 'bootstrap': True, 'criterion': 'squared_error'}, 'ExtraTreesMSE': {'n_estimators': 300, 'n_jobs': -1, 'random_state': 0, 'bootstrap': True, 'criterion': 'squared_error'}, 'NeuralNetFastAI': {'layers': None, 'emb_drop': 0.1, 'ps': 0.1, 'bs': 'auto', 'lr': 0.01, 'epochs': 'auto', 'early.stopping.min_delta': 0.0001, 'early.stopping.patience': 20, 'smoothing': 0.0}, 'XGBoost': {'n_estimators': 10000, 'learning_rate': 0.1, 'n_jobs': -1, 'proc.max_category_levels': 100, 'objective': 'reg:squarederror', 'booster': 'gbtree'}, 'NeuralNetTorch': {'num_epochs': 500, 'epochs_wo_improve': 20, 'activation': 'relu', 'embedding_size_factor': 1.0, 'embed_exponent': 0.56, 'max_embedding_dim': 100, 'y_range': None, 'y_range_extend': 0.05, 'dropout_prob': 0.1, 'optimizer': 'adam', 'learning_rate': 0.0003, 'weight_decay': 1e-06, 'proc.embed_min_categories': 4, 'proc.impute_strategy': 'median', 'proc.max_category_levels': 100, 'proc.skew_threshold': 0.99, 'use_ngram_features': False, 'num_layers': 4, 'hidden_size': 128, 'max_batch_size': 512, 'use_batchnorm': False, 'loss_function': 'auto'}, 'LightGBMLarge': {'learning_rate': 0.03, 'num_leaves': 128, 'feature_fraction': 0.9, 'min_data_in_leaf': 5}, 'WeightedEnsemble_L2': {'use_orig_features': False, 'max_base_models': 25, 'max_base_models_per_type': 5, 'save_bag_folds': True}}, 'leaderboard':                   model  score_val  pred_time_val   fit_time  \\\n",
      "0   WeightedEnsemble_L2  -0.583667       0.399825  79.180104   \n",
      "1        NeuralNetTorch  -0.586656       0.183403  39.004216   \n",
      "2            LightGBMXT  -0.690311       0.022973  16.460499   \n",
      "3       NeuralNetFastAI  -0.709097       0.163543   9.177437   \n",
      "4              LightGBM  -0.718595       0.029488  14.444721   \n",
      "5         LightGBMLarge  -0.744094       0.025050  80.355235   \n",
      "6         ExtraTreesMSE  -0.749945       0.037924   4.841873   \n",
      "7       RandomForestMSE  -0.771438       0.040722  15.971740   \n",
      "8               XGBoost  -0.778988       0.054751  25.706673   \n",
      "9        KNeighborsDist  -1.222929       0.047220   0.150256   \n",
      "10       KNeighborsUnif  -1.262021       0.098785   0.122968   \n",
      "\n",
      "    pred_time_val_marginal  fit_time_marginal  stack_level  can_infer  \\\n",
      "0                 0.000419           0.093231            2       True   \n",
      "1                 0.183403          39.004216            1       True   \n",
      "2                 0.022973          16.460499            1       True   \n",
      "3                 0.163543           9.177437            1       True   \n",
      "4                 0.029488          14.444721            1       True   \n",
      "5                 0.025050          80.355235            1       True   \n",
      "6                 0.037924           4.841873            1       True   \n",
      "7                 0.040722          15.971740            1       True   \n",
      "8                 0.054751          25.706673            1       True   \n",
      "9                 0.047220           0.150256            1       True   \n",
      "10                0.098785           0.122968            1       True   \n",
      "\n",
      "    fit_order  \n",
      "0          11  \n",
      "1           9  \n",
      "2           3  \n",
      "3           7  \n",
      "4           4  \n",
      "5          10  \n",
      "6           6  \n",
      "7           5  \n",
      "8           8  \n",
      "9           2  \n",
      "10          1  }\n"
     ]
    },
    {
     "name": "stderr",
     "output_type": "stream",
     "text": [
      "Evaluation: root_mean_squared_error on test data: -0.5782428929922612\n",
      "\tNote: Scores are always higher_is_better. This metric score can be multiplied by -1 to get the metric value.\n",
      "Evaluations on test data:\n",
      "{\n",
      "    \"root_mean_squared_error\": -0.5782428929922612\n",
      "}\n"
     ]
    },
    {
     "name": "stdout",
     "output_type": "stream",
     "text": [
      "{'root_mean_squared_error': -0.5782428929922612}\n"
     ]
    }
   ],
   "source": [
    "model = arp.auto_rt_pred_with_autogluon_with_descriptor(df, 'testplace')"
   ],
   "metadata": {
    "collapsed": false,
    "pycharm": {
     "name": "#%%\n"
    }
   }
  }
 ],
 "metadata": {
  "kernelspec": {
   "name": "conda-env-tensorflow-py",
   "language": "python",
   "display_name": "Python [conda env:tensorflow] *"
  },
  "language_info": {
   "codemirror_mode": {
    "name": "ipython",
    "version": 2
   },
   "file_extension": ".py",
   "mimetype": "text/x-python",
   "name": "python",
   "nbconvert_exporter": "python",
   "pygments_lexer": "ipython2",
   "version": "2.7.6"
  }
 },
 "nbformat": 4,
 "nbformat_minor": 0
}