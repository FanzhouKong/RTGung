{
 "cells": [
  {
   "cell_type": "code",
   "execution_count": 5,
   "metadata": {
    "collapsed": true
   },
   "outputs": [
    {
     "name": "stdout",
     "output_type": "stream",
     "text": [
      "Hi I am compiled version of the rt prediction using autogluon and mordred descriptor calculator\n",
      "the usage is auto_rt_pred_with_autogluon(data, ignore_3d_label, savepath)\n",
      "the data is a dataframe with columns smiles, retention_time, and split split_index (1 training, 2 test)\n",
      "this function will returns a model\n"
     ]
    },
    {
     "data": {
      "text/plain": "      Compound_name Column Organic_modifier   pH       Buffer  \\\n22  1-hydroxypyrene  HILIC     Acetonitrile  2.7  Formic acid   \n23  1-hydroxypyrene  HILIC     Acetonitrile  3.0  Acetic acid   \n24  1-hydroxypyrene  HILIC     Acetonitrile  3.0  Formic acid   \n25  1-hydroxypyrene  HILIC     Acetonitrile  5.0  Acetic acid   \n26  1-hydroxypyrene  HILIC     Acetonitrile  5.0  Formic acid   \n\n                           SMILES         RT  \n22  c1cc2ccc3ccc(c4ccc(c1)c2c34)O   1.822857  \n23  c1cc2ccc3ccc(c4ccc(c1)c2c34)O  12.321429  \n24  c1cc2ccc3ccc(c4ccc(c1)c2c34)O   1.857143  \n25  c1cc2ccc3ccc(c4ccc(c1)c2c34)O   1.850000  \n26  c1cc2ccc3ccc(c4ccc(c1)c2c34)O   1.851429  ",
      "text/html": "<div>\n<style scoped>\n    .dataframe tbody tr th:only-of-type {\n        vertical-align: middle;\n    }\n\n    .dataframe tbody tr th {\n        vertical-align: top;\n    }\n\n    .dataframe thead th {\n        text-align: right;\n    }\n</style>\n<table border=\"1\" class=\"dataframe\">\n  <thead>\n    <tr style=\"text-align: right;\">\n      <th></th>\n      <th>Compound_name</th>\n      <th>Column</th>\n      <th>Organic_modifier</th>\n      <th>pH</th>\n      <th>Buffer</th>\n      <th>SMILES</th>\n      <th>RT</th>\n    </tr>\n  </thead>\n  <tbody>\n    <tr>\n      <th>22</th>\n      <td>1-hydroxypyrene</td>\n      <td>HILIC</td>\n      <td>Acetonitrile</td>\n      <td>2.7</td>\n      <td>Formic acid</td>\n      <td>c1cc2ccc3ccc(c4ccc(c1)c2c34)O</td>\n      <td>1.822857</td>\n    </tr>\n    <tr>\n      <th>23</th>\n      <td>1-hydroxypyrene</td>\n      <td>HILIC</td>\n      <td>Acetonitrile</td>\n      <td>3.0</td>\n      <td>Acetic acid</td>\n      <td>c1cc2ccc3ccc(c4ccc(c1)c2c34)O</td>\n      <td>12.321429</td>\n    </tr>\n    <tr>\n      <th>24</th>\n      <td>1-hydroxypyrene</td>\n      <td>HILIC</td>\n      <td>Acetonitrile</td>\n      <td>3.0</td>\n      <td>Formic acid</td>\n      <td>c1cc2ccc3ccc(c4ccc(c1)c2c34)O</td>\n      <td>1.857143</td>\n    </tr>\n    <tr>\n      <th>25</th>\n      <td>1-hydroxypyrene</td>\n      <td>HILIC</td>\n      <td>Acetonitrile</td>\n      <td>5.0</td>\n      <td>Acetic acid</td>\n      <td>c1cc2ccc3ccc(c4ccc(c1)c2c34)O</td>\n      <td>1.850000</td>\n    </tr>\n    <tr>\n      <th>26</th>\n      <td>1-hydroxypyrene</td>\n      <td>HILIC</td>\n      <td>Acetonitrile</td>\n      <td>5.0</td>\n      <td>Formic acid</td>\n      <td>c1cc2ccc3ccc(c4ccc(c1)c2c34)O</td>\n      <td>1.851429</td>\n    </tr>\n  </tbody>\n</table>\n</div>"
     },
     "execution_count": 5,
     "metadata": {},
     "output_type": "execute_result"
    }
   ],
   "source": [
    "import toolsets.auto_rt_pred as auto_fit\n",
    "import numpy as np\n",
    "import pandas as pd\n",
    "%load_ext autoreload\n",
    "%autoreload 2\n",
    "test_data = pd.read_csv(\"Combined dataset.csv\")\n",
    "data_hilic = test_data.loc[test_data['Column'] == 'HILIC']\n",
    "data_hilic.head()"
   ]
  },
  {
   "cell_type": "code",
   "execution_count": 6,
   "outputs": [
    {
     "data": {
      "text/plain": "        Compound_name Column Organic_modifier   pH       Buffer  \\\n22    1-hydroxypyrene  HILIC     Acetonitrile  2.7  Formic acid   \n23    1-hydroxypyrene  HILIC     Acetonitrile  3.0  Acetic acid   \n24    1-hydroxypyrene  HILIC     Acetonitrile  3.0  Formic acid   \n25    1-hydroxypyrene  HILIC     Acetonitrile  5.0  Acetic acid   \n26    1-hydroxypyrene  HILIC     Acetonitrile  5.0  Formic acid   \n...               ...    ...              ...  ...          ...   \n2956        Valsartan  HILIC     Acetonitrile  5.0  Formic acid   \n2957        Valsartan  HILIC         Methanol  2.7  Formic acid   \n2958        Valsartan  HILIC         Methanol  3.0  Formic acid   \n2959        Valsartan  HILIC         Methanol  5.0  Acetic acid   \n2960        Valsartan  HILIC         Methanol  5.0  Formic acid   \n\n                                                 SMILES         RT  \\\n22                        c1cc2ccc3ccc(c4ccc(c1)c2c34)O   1.822857   \n23                        c1cc2ccc3ccc(c4ccc(c1)c2c34)O  12.321429   \n24                        c1cc2ccc3ccc(c4ccc(c1)c2c34)O   1.857143   \n25                        c1cc2ccc3ccc(c4ccc(c1)c2c34)O   1.850000   \n26                        c1cc2ccc3ccc(c4ccc(c1)c2c34)O   1.851429   \n...                                                 ...        ...   \n2956  CCCCC(=O)N(Cc1ccc(cc1)c1ccccc1c1n[nH]nn1)[C@@H...   3.177143   \n2957  CCCCC(=O)N(Cc1ccc(cc1)c1ccccc1c1n[nH]nn1)[C@@H...   1.808571   \n2958  CCCCC(=O)N(Cc1ccc(cc1)c1ccccc1c1n[nH]nn1)[C@@H...   1.790000   \n2959  CCCCC(=O)N(Cc1ccc(cc1)c1ccccc1c1n[nH]nn1)[C@@H...   1.433333   \n2960  CCCCC(=O)N(Cc1ccc(cc1)c1ccccc1c1n[nH]nn1)[C@@H...   1.463333   \n\n      split_index  \n22              1  \n23              1  \n24              1  \n25              1  \n26              1  \n...           ...  \n2956            1  \n2957            1  \n2958            1  \n2959            1  \n2960            1  \n\n[836 rows x 8 columns]",
      "text/html": "<div>\n<style scoped>\n    .dataframe tbody tr th:only-of-type {\n        vertical-align: middle;\n    }\n\n    .dataframe tbody tr th {\n        vertical-align: top;\n    }\n\n    .dataframe thead th {\n        text-align: right;\n    }\n</style>\n<table border=\"1\" class=\"dataframe\">\n  <thead>\n    <tr style=\"text-align: right;\">\n      <th></th>\n      <th>Compound_name</th>\n      <th>Column</th>\n      <th>Organic_modifier</th>\n      <th>pH</th>\n      <th>Buffer</th>\n      <th>SMILES</th>\n      <th>RT</th>\n      <th>split_index</th>\n    </tr>\n  </thead>\n  <tbody>\n    <tr>\n      <th>22</th>\n      <td>1-hydroxypyrene</td>\n      <td>HILIC</td>\n      <td>Acetonitrile</td>\n      <td>2.7</td>\n      <td>Formic acid</td>\n      <td>c1cc2ccc3ccc(c4ccc(c1)c2c34)O</td>\n      <td>1.822857</td>\n      <td>1</td>\n    </tr>\n    <tr>\n      <th>23</th>\n      <td>1-hydroxypyrene</td>\n      <td>HILIC</td>\n      <td>Acetonitrile</td>\n      <td>3.0</td>\n      <td>Acetic acid</td>\n      <td>c1cc2ccc3ccc(c4ccc(c1)c2c34)O</td>\n      <td>12.321429</td>\n      <td>1</td>\n    </tr>\n    <tr>\n      <th>24</th>\n      <td>1-hydroxypyrene</td>\n      <td>HILIC</td>\n      <td>Acetonitrile</td>\n      <td>3.0</td>\n      <td>Formic acid</td>\n      <td>c1cc2ccc3ccc(c4ccc(c1)c2c34)O</td>\n      <td>1.857143</td>\n      <td>1</td>\n    </tr>\n    <tr>\n      <th>25</th>\n      <td>1-hydroxypyrene</td>\n      <td>HILIC</td>\n      <td>Acetonitrile</td>\n      <td>5.0</td>\n      <td>Acetic acid</td>\n      <td>c1cc2ccc3ccc(c4ccc(c1)c2c34)O</td>\n      <td>1.850000</td>\n      <td>1</td>\n    </tr>\n    <tr>\n      <th>26</th>\n      <td>1-hydroxypyrene</td>\n      <td>HILIC</td>\n      <td>Acetonitrile</td>\n      <td>5.0</td>\n      <td>Formic acid</td>\n      <td>c1cc2ccc3ccc(c4ccc(c1)c2c34)O</td>\n      <td>1.851429</td>\n      <td>1</td>\n    </tr>\n    <tr>\n      <th>...</th>\n      <td>...</td>\n      <td>...</td>\n      <td>...</td>\n      <td>...</td>\n      <td>...</td>\n      <td>...</td>\n      <td>...</td>\n      <td>...</td>\n    </tr>\n    <tr>\n      <th>2956</th>\n      <td>Valsartan</td>\n      <td>HILIC</td>\n      <td>Acetonitrile</td>\n      <td>5.0</td>\n      <td>Formic acid</td>\n      <td>CCCCC(=O)N(Cc1ccc(cc1)c1ccccc1c1n[nH]nn1)[C@@H...</td>\n      <td>3.177143</td>\n      <td>1</td>\n    </tr>\n    <tr>\n      <th>2957</th>\n      <td>Valsartan</td>\n      <td>HILIC</td>\n      <td>Methanol</td>\n      <td>2.7</td>\n      <td>Formic acid</td>\n      <td>CCCCC(=O)N(Cc1ccc(cc1)c1ccccc1c1n[nH]nn1)[C@@H...</td>\n      <td>1.808571</td>\n      <td>1</td>\n    </tr>\n    <tr>\n      <th>2958</th>\n      <td>Valsartan</td>\n      <td>HILIC</td>\n      <td>Methanol</td>\n      <td>3.0</td>\n      <td>Formic acid</td>\n      <td>CCCCC(=O)N(Cc1ccc(cc1)c1ccccc1c1n[nH]nn1)[C@@H...</td>\n      <td>1.790000</td>\n      <td>1</td>\n    </tr>\n    <tr>\n      <th>2959</th>\n      <td>Valsartan</td>\n      <td>HILIC</td>\n      <td>Methanol</td>\n      <td>5.0</td>\n      <td>Acetic acid</td>\n      <td>CCCCC(=O)N(Cc1ccc(cc1)c1ccccc1c1n[nH]nn1)[C@@H...</td>\n      <td>1.433333</td>\n      <td>1</td>\n    </tr>\n    <tr>\n      <th>2960</th>\n      <td>Valsartan</td>\n      <td>HILIC</td>\n      <td>Methanol</td>\n      <td>5.0</td>\n      <td>Formic acid</td>\n      <td>CCCCC(=O)N(Cc1ccc(cc1)c1ccccc1c1n[nH]nn1)[C@@H...</td>\n      <td>1.463333</td>\n      <td>1</td>\n    </tr>\n  </tbody>\n</table>\n<p>836 rows × 8 columns</p>\n</div>"
     },
     "execution_count": 6,
     "metadata": {},
     "output_type": "execute_result"
    }
   ],
   "source": [
    "auto_fit.make_split_index(data_hilic)"
   ],
   "metadata": {
    "collapsed": false,
    "pycharm": {
     "name": "#%%\n"
    }
   }
  },
  {
   "cell_type": "code",
   "execution_count": 7,
   "outputs": [
    {
     "name": "stdout",
     "output_type": "stream",
     "text": [
      "no smiles code in this dataset\n"
     ]
    },
    {
     "data": {
      "text/plain": "        compound_name column organic_modifier   ph       buffer  \\\n22    1-hydroxypyrene  HILIC     Acetonitrile  2.7  Formic acid   \n23    1-hydroxypyrene  HILIC     Acetonitrile  3.0  Acetic acid   \n24    1-hydroxypyrene  HILIC     Acetonitrile  3.0  Formic acid   \n25    1-hydroxypyrene  HILIC     Acetonitrile  5.0  Acetic acid   \n26    1-hydroxypyrene  HILIC     Acetonitrile  5.0  Formic acid   \n...               ...    ...              ...  ...          ...   \n2956        Valsartan  HILIC     Acetonitrile  5.0  Formic acid   \n2957        Valsartan  HILIC         Methanol  2.7  Formic acid   \n2958        Valsartan  HILIC         Methanol  3.0  Formic acid   \n2959        Valsartan  HILIC         Methanol  5.0  Acetic acid   \n2960        Valsartan  HILIC         Methanol  5.0  Formic acid   \n\n                                                 smiles         rt  \\\n22                        c1cc2ccc3ccc(c4ccc(c1)c2c34)O   1.822857   \n23                        c1cc2ccc3ccc(c4ccc(c1)c2c34)O  12.321429   \n24                        c1cc2ccc3ccc(c4ccc(c1)c2c34)O   1.857143   \n25                        c1cc2ccc3ccc(c4ccc(c1)c2c34)O   1.850000   \n26                        c1cc2ccc3ccc(c4ccc(c1)c2c34)O   1.851429   \n...                                                 ...        ...   \n2956  CCCCC(=O)N(Cc1ccc(cc1)c1ccccc1c1n[nH]nn1)[C@@H...   3.177143   \n2957  CCCCC(=O)N(Cc1ccc(cc1)c1ccccc1c1n[nH]nn1)[C@@H...   1.808571   \n2958  CCCCC(=O)N(Cc1ccc(cc1)c1ccccc1c1n[nH]nn1)[C@@H...   1.790000   \n2959  CCCCC(=O)N(Cc1ccc(cc1)c1ccccc1c1n[nH]nn1)[C@@H...   1.433333   \n2960  CCCCC(=O)N(Cc1ccc(cc1)c1ccccc1c1n[nH]nn1)[C@@H...   1.463333   \n\n      split_index  \n22              1  \n23              1  \n24              1  \n25              1  \n26              1  \n...           ...  \n2956            1  \n2957            1  \n2958            1  \n2959            1  \n2960            1  \n\n[836 rows x 8 columns]",
      "text/html": "<div>\n<style scoped>\n    .dataframe tbody tr th:only-of-type {\n        vertical-align: middle;\n    }\n\n    .dataframe tbody tr th {\n        vertical-align: top;\n    }\n\n    .dataframe thead th {\n        text-align: right;\n    }\n</style>\n<table border=\"1\" class=\"dataframe\">\n  <thead>\n    <tr style=\"text-align: right;\">\n      <th></th>\n      <th>compound_name</th>\n      <th>column</th>\n      <th>organic_modifier</th>\n      <th>ph</th>\n      <th>buffer</th>\n      <th>smiles</th>\n      <th>rt</th>\n      <th>split_index</th>\n    </tr>\n  </thead>\n  <tbody>\n    <tr>\n      <th>22</th>\n      <td>1-hydroxypyrene</td>\n      <td>HILIC</td>\n      <td>Acetonitrile</td>\n      <td>2.7</td>\n      <td>Formic acid</td>\n      <td>c1cc2ccc3ccc(c4ccc(c1)c2c34)O</td>\n      <td>1.822857</td>\n      <td>1</td>\n    </tr>\n    <tr>\n      <th>23</th>\n      <td>1-hydroxypyrene</td>\n      <td>HILIC</td>\n      <td>Acetonitrile</td>\n      <td>3.0</td>\n      <td>Acetic acid</td>\n      <td>c1cc2ccc3ccc(c4ccc(c1)c2c34)O</td>\n      <td>12.321429</td>\n      <td>1</td>\n    </tr>\n    <tr>\n      <th>24</th>\n      <td>1-hydroxypyrene</td>\n      <td>HILIC</td>\n      <td>Acetonitrile</td>\n      <td>3.0</td>\n      <td>Formic acid</td>\n      <td>c1cc2ccc3ccc(c4ccc(c1)c2c34)O</td>\n      <td>1.857143</td>\n      <td>1</td>\n    </tr>\n    <tr>\n      <th>25</th>\n      <td>1-hydroxypyrene</td>\n      <td>HILIC</td>\n      <td>Acetonitrile</td>\n      <td>5.0</td>\n      <td>Acetic acid</td>\n      <td>c1cc2ccc3ccc(c4ccc(c1)c2c34)O</td>\n      <td>1.850000</td>\n      <td>1</td>\n    </tr>\n    <tr>\n      <th>26</th>\n      <td>1-hydroxypyrene</td>\n      <td>HILIC</td>\n      <td>Acetonitrile</td>\n      <td>5.0</td>\n      <td>Formic acid</td>\n      <td>c1cc2ccc3ccc(c4ccc(c1)c2c34)O</td>\n      <td>1.851429</td>\n      <td>1</td>\n    </tr>\n    <tr>\n      <th>...</th>\n      <td>...</td>\n      <td>...</td>\n      <td>...</td>\n      <td>...</td>\n      <td>...</td>\n      <td>...</td>\n      <td>...</td>\n      <td>...</td>\n    </tr>\n    <tr>\n      <th>2956</th>\n      <td>Valsartan</td>\n      <td>HILIC</td>\n      <td>Acetonitrile</td>\n      <td>5.0</td>\n      <td>Formic acid</td>\n      <td>CCCCC(=O)N(Cc1ccc(cc1)c1ccccc1c1n[nH]nn1)[C@@H...</td>\n      <td>3.177143</td>\n      <td>1</td>\n    </tr>\n    <tr>\n      <th>2957</th>\n      <td>Valsartan</td>\n      <td>HILIC</td>\n      <td>Methanol</td>\n      <td>2.7</td>\n      <td>Formic acid</td>\n      <td>CCCCC(=O)N(Cc1ccc(cc1)c1ccccc1c1n[nH]nn1)[C@@H...</td>\n      <td>1.808571</td>\n      <td>1</td>\n    </tr>\n    <tr>\n      <th>2958</th>\n      <td>Valsartan</td>\n      <td>HILIC</td>\n      <td>Methanol</td>\n      <td>3.0</td>\n      <td>Formic acid</td>\n      <td>CCCCC(=O)N(Cc1ccc(cc1)c1ccccc1c1n[nH]nn1)[C@@H...</td>\n      <td>1.790000</td>\n      <td>1</td>\n    </tr>\n    <tr>\n      <th>2959</th>\n      <td>Valsartan</td>\n      <td>HILIC</td>\n      <td>Methanol</td>\n      <td>5.0</td>\n      <td>Acetic acid</td>\n      <td>CCCCC(=O)N(Cc1ccc(cc1)c1ccccc1c1n[nH]nn1)[C@@H...</td>\n      <td>1.433333</td>\n      <td>1</td>\n    </tr>\n    <tr>\n      <th>2960</th>\n      <td>Valsartan</td>\n      <td>HILIC</td>\n      <td>Methanol</td>\n      <td>5.0</td>\n      <td>Formic acid</td>\n      <td>CCCCC(=O)N(Cc1ccc(cc1)c1ccccc1c1n[nH]nn1)[C@@H...</td>\n      <td>1.463333</td>\n      <td>1</td>\n    </tr>\n  </tbody>\n</table>\n<p>836 rows × 8 columns</p>\n</div>"
     },
     "execution_count": 7,
     "metadata": {},
     "output_type": "execute_result"
    }
   ],
   "source": [
    "auto_fit.pre_process_data(data_hilic)"
   ],
   "metadata": {
    "collapsed": false,
    "pycharm": {
     "name": "#%%\n"
    }
   }
  },
  {
   "cell_type": "code",
   "execution_count": 8,
   "outputs": [
    {
     "data": {
      "text/plain": "         ABC      ABCGG  nAcid  nBase    SpAbs_A  SpMax_A  SpDiam_A  \\\n0  14.008885  10.537147      0      0  23.372976  2.54742   5.09484   \n1  14.008885  10.537147      0      0  23.372976  2.54742   5.09484   \n2  14.008885  10.537147      0      0  23.372976  2.54742   5.09484   \n3  14.008885  10.537147      0      0  23.372976  2.54742   5.09484   \n4  14.008885  10.537147      0      0  23.372976  2.54742   5.09484   \n\n      SpAD_A   SpMAD_A   LogEE_A  ...      SRW10     TSRW10          MW  \\\n0  23.372976  1.374881  3.826456  ...  10.190582  51.083298  218.073165   \n1  23.372976  1.374881  3.826456  ...  10.190582  51.083298  218.073165   \n2  23.372976  1.374881  3.826456  ...  10.190582  51.083298  218.073165   \n3  23.372976  1.374881  3.826456  ...  10.190582  51.083298  218.073165   \n4  23.372976  1.374881  3.826456  ...  10.190582  51.083298  218.073165   \n\n        AMW  WPath  WPol  Zagreb1  Zagreb2  mZagreb1  mZagreb2  \n0  8.076784    428    33    100.0    125.0  4.027778  3.583333  \n1  8.076784    428    33    100.0    125.0  4.027778  3.583333  \n2  8.076784    428    33    100.0    125.0  4.027778  3.583333  \n3  8.076784    428    33    100.0    125.0  4.027778  3.583333  \n4  8.076784    428    33    100.0    125.0  4.027778  3.583333  \n\n[5 rows x 1613 columns]",
      "text/html": "<div>\n<style scoped>\n    .dataframe tbody tr th:only-of-type {\n        vertical-align: middle;\n    }\n\n    .dataframe tbody tr th {\n        vertical-align: top;\n    }\n\n    .dataframe thead th {\n        text-align: right;\n    }\n</style>\n<table border=\"1\" class=\"dataframe\">\n  <thead>\n    <tr style=\"text-align: right;\">\n      <th></th>\n      <th>ABC</th>\n      <th>ABCGG</th>\n      <th>nAcid</th>\n      <th>nBase</th>\n      <th>SpAbs_A</th>\n      <th>SpMax_A</th>\n      <th>SpDiam_A</th>\n      <th>SpAD_A</th>\n      <th>SpMAD_A</th>\n      <th>LogEE_A</th>\n      <th>...</th>\n      <th>SRW10</th>\n      <th>TSRW10</th>\n      <th>MW</th>\n      <th>AMW</th>\n      <th>WPath</th>\n      <th>WPol</th>\n      <th>Zagreb1</th>\n      <th>Zagreb2</th>\n      <th>mZagreb1</th>\n      <th>mZagreb2</th>\n    </tr>\n  </thead>\n  <tbody>\n    <tr>\n      <th>0</th>\n      <td>14.008885</td>\n      <td>10.537147</td>\n      <td>0</td>\n      <td>0</td>\n      <td>23.372976</td>\n      <td>2.54742</td>\n      <td>5.09484</td>\n      <td>23.372976</td>\n      <td>1.374881</td>\n      <td>3.826456</td>\n      <td>...</td>\n      <td>10.190582</td>\n      <td>51.083298</td>\n      <td>218.073165</td>\n      <td>8.076784</td>\n      <td>428</td>\n      <td>33</td>\n      <td>100.0</td>\n      <td>125.0</td>\n      <td>4.027778</td>\n      <td>3.583333</td>\n    </tr>\n    <tr>\n      <th>1</th>\n      <td>14.008885</td>\n      <td>10.537147</td>\n      <td>0</td>\n      <td>0</td>\n      <td>23.372976</td>\n      <td>2.54742</td>\n      <td>5.09484</td>\n      <td>23.372976</td>\n      <td>1.374881</td>\n      <td>3.826456</td>\n      <td>...</td>\n      <td>10.190582</td>\n      <td>51.083298</td>\n      <td>218.073165</td>\n      <td>8.076784</td>\n      <td>428</td>\n      <td>33</td>\n      <td>100.0</td>\n      <td>125.0</td>\n      <td>4.027778</td>\n      <td>3.583333</td>\n    </tr>\n    <tr>\n      <th>2</th>\n      <td>14.008885</td>\n      <td>10.537147</td>\n      <td>0</td>\n      <td>0</td>\n      <td>23.372976</td>\n      <td>2.54742</td>\n      <td>5.09484</td>\n      <td>23.372976</td>\n      <td>1.374881</td>\n      <td>3.826456</td>\n      <td>...</td>\n      <td>10.190582</td>\n      <td>51.083298</td>\n      <td>218.073165</td>\n      <td>8.076784</td>\n      <td>428</td>\n      <td>33</td>\n      <td>100.0</td>\n      <td>125.0</td>\n      <td>4.027778</td>\n      <td>3.583333</td>\n    </tr>\n    <tr>\n      <th>3</th>\n      <td>14.008885</td>\n      <td>10.537147</td>\n      <td>0</td>\n      <td>0</td>\n      <td>23.372976</td>\n      <td>2.54742</td>\n      <td>5.09484</td>\n      <td>23.372976</td>\n      <td>1.374881</td>\n      <td>3.826456</td>\n      <td>...</td>\n      <td>10.190582</td>\n      <td>51.083298</td>\n      <td>218.073165</td>\n      <td>8.076784</td>\n      <td>428</td>\n      <td>33</td>\n      <td>100.0</td>\n      <td>125.0</td>\n      <td>4.027778</td>\n      <td>3.583333</td>\n    </tr>\n    <tr>\n      <th>4</th>\n      <td>14.008885</td>\n      <td>10.537147</td>\n      <td>0</td>\n      <td>0</td>\n      <td>23.372976</td>\n      <td>2.54742</td>\n      <td>5.09484</td>\n      <td>23.372976</td>\n      <td>1.374881</td>\n      <td>3.826456</td>\n      <td>...</td>\n      <td>10.190582</td>\n      <td>51.083298</td>\n      <td>218.073165</td>\n      <td>8.076784</td>\n      <td>428</td>\n      <td>33</td>\n      <td>100.0</td>\n      <td>125.0</td>\n      <td>4.027778</td>\n      <td>3.583333</td>\n    </tr>\n  </tbody>\n</table>\n<p>5 rows × 1613 columns</p>\n</div>"
     },
     "execution_count": 8,
     "metadata": {},
     "output_type": "execute_result"
    }
   ],
   "source": [
    "hilic_descriptors = auto_fit.make_descriptors(data_hilic)\n",
    "hilic_descriptors.head()"
   ],
   "metadata": {
    "collapsed": false,
    "pycharm": {
     "name": "#%%\n"
    }
   }
  },
  {
   "cell_type": "code",
   "execution_count": 9,
   "outputs": [
    {
     "data": {
      "text/plain": "  smiles  retention_time  split_index        ABC      ABCGG  nAcid  nBase  \\\n0    NaN             NaN          NaN  14.008885  10.537147      0      0   \n1    NaN             NaN          NaN  14.008885  10.537147      0      0   \n2    NaN             NaN          NaN  14.008885  10.537147      0      0   \n3    NaN             NaN          NaN  14.008885  10.537147      0      0   \n4    NaN             NaN          NaN  14.008885  10.537147      0      0   \n\n     SpAbs_A  SpMax_A  SpDiam_A  ...      SRW10     TSRW10          MW  \\\n0  23.372976  2.54742   5.09484  ...  10.190582  51.083298  218.073165   \n1  23.372976  2.54742   5.09484  ...  10.190582  51.083298  218.073165   \n2  23.372976  2.54742   5.09484  ...  10.190582  51.083298  218.073165   \n3  23.372976  2.54742   5.09484  ...  10.190582  51.083298  218.073165   \n4  23.372976  2.54742   5.09484  ...  10.190582  51.083298  218.073165   \n\n        AMW  WPath  WPol  Zagreb1  Zagreb2  mZagreb1  mZagreb2  \n0  8.076784    428    33    100.0    125.0  4.027778  3.583333  \n1  8.076784    428    33    100.0    125.0  4.027778  3.583333  \n2  8.076784    428    33    100.0    125.0  4.027778  3.583333  \n3  8.076784    428    33    100.0    125.0  4.027778  3.583333  \n4  8.076784    428    33    100.0    125.0  4.027778  3.583333  \n\n[5 rows x 1616 columns]",
      "text/html": "<div>\n<style scoped>\n    .dataframe tbody tr th:only-of-type {\n        vertical-align: middle;\n    }\n\n    .dataframe tbody tr th {\n        vertical-align: top;\n    }\n\n    .dataframe thead th {\n        text-align: right;\n    }\n</style>\n<table border=\"1\" class=\"dataframe\">\n  <thead>\n    <tr style=\"text-align: right;\">\n      <th></th>\n      <th>smiles</th>\n      <th>retention_time</th>\n      <th>split_index</th>\n      <th>ABC</th>\n      <th>ABCGG</th>\n      <th>nAcid</th>\n      <th>nBase</th>\n      <th>SpAbs_A</th>\n      <th>SpMax_A</th>\n      <th>SpDiam_A</th>\n      <th>...</th>\n      <th>SRW10</th>\n      <th>TSRW10</th>\n      <th>MW</th>\n      <th>AMW</th>\n      <th>WPath</th>\n      <th>WPol</th>\n      <th>Zagreb1</th>\n      <th>Zagreb2</th>\n      <th>mZagreb1</th>\n      <th>mZagreb2</th>\n    </tr>\n  </thead>\n  <tbody>\n    <tr>\n      <th>0</th>\n      <td>NaN</td>\n      <td>NaN</td>\n      <td>NaN</td>\n      <td>14.008885</td>\n      <td>10.537147</td>\n      <td>0</td>\n      <td>0</td>\n      <td>23.372976</td>\n      <td>2.54742</td>\n      <td>5.09484</td>\n      <td>...</td>\n      <td>10.190582</td>\n      <td>51.083298</td>\n      <td>218.073165</td>\n      <td>8.076784</td>\n      <td>428</td>\n      <td>33</td>\n      <td>100.0</td>\n      <td>125.0</td>\n      <td>4.027778</td>\n      <td>3.583333</td>\n    </tr>\n    <tr>\n      <th>1</th>\n      <td>NaN</td>\n      <td>NaN</td>\n      <td>NaN</td>\n      <td>14.008885</td>\n      <td>10.537147</td>\n      <td>0</td>\n      <td>0</td>\n      <td>23.372976</td>\n      <td>2.54742</td>\n      <td>5.09484</td>\n      <td>...</td>\n      <td>10.190582</td>\n      <td>51.083298</td>\n      <td>218.073165</td>\n      <td>8.076784</td>\n      <td>428</td>\n      <td>33</td>\n      <td>100.0</td>\n      <td>125.0</td>\n      <td>4.027778</td>\n      <td>3.583333</td>\n    </tr>\n    <tr>\n      <th>2</th>\n      <td>NaN</td>\n      <td>NaN</td>\n      <td>NaN</td>\n      <td>14.008885</td>\n      <td>10.537147</td>\n      <td>0</td>\n      <td>0</td>\n      <td>23.372976</td>\n      <td>2.54742</td>\n      <td>5.09484</td>\n      <td>...</td>\n      <td>10.190582</td>\n      <td>51.083298</td>\n      <td>218.073165</td>\n      <td>8.076784</td>\n      <td>428</td>\n      <td>33</td>\n      <td>100.0</td>\n      <td>125.0</td>\n      <td>4.027778</td>\n      <td>3.583333</td>\n    </tr>\n    <tr>\n      <th>3</th>\n      <td>NaN</td>\n      <td>NaN</td>\n      <td>NaN</td>\n      <td>14.008885</td>\n      <td>10.537147</td>\n      <td>0</td>\n      <td>0</td>\n      <td>23.372976</td>\n      <td>2.54742</td>\n      <td>5.09484</td>\n      <td>...</td>\n      <td>10.190582</td>\n      <td>51.083298</td>\n      <td>218.073165</td>\n      <td>8.076784</td>\n      <td>428</td>\n      <td>33</td>\n      <td>100.0</td>\n      <td>125.0</td>\n      <td>4.027778</td>\n      <td>3.583333</td>\n    </tr>\n    <tr>\n      <th>4</th>\n      <td>NaN</td>\n      <td>NaN</td>\n      <td>NaN</td>\n      <td>14.008885</td>\n      <td>10.537147</td>\n      <td>0</td>\n      <td>0</td>\n      <td>23.372976</td>\n      <td>2.54742</td>\n      <td>5.09484</td>\n      <td>...</td>\n      <td>10.190582</td>\n      <td>51.083298</td>\n      <td>218.073165</td>\n      <td>8.076784</td>\n      <td>428</td>\n      <td>33</td>\n      <td>100.0</td>\n      <td>125.0</td>\n      <td>4.027778</td>\n      <td>3.583333</td>\n    </tr>\n  </tbody>\n</table>\n<p>5 rows × 1616 columns</p>\n</div>"
     },
     "execution_count": 9,
     "metadata": {},
     "output_type": "execute_result"
    }
   ],
   "source": [
    "# data_hilic.set_index(hilic_descriptors.index)\n",
    "hilic_descriptors.insert(0, \"smiles\", data_hilic['smiles'])\n",
    "hilic_descriptors.insert(1, \"retention_time\", data_hilic['rt'])\n",
    "hilic_descriptors.insert(2, \"split_index\", data_hilic['split_index'])\n",
    "hilic_descriptors.head()"
   ],
   "metadata": {
    "collapsed": false,
    "pycharm": {
     "name": "#%%\n"
    }
   }
  },
  {
   "cell_type": "code",
   "execution_count": null,
   "outputs": [],
   "source": [],
   "metadata": {
    "collapsed": false,
    "pycharm": {
     "name": "#%%\n"
    }
   }
  }
 ],
 "metadata": {
  "kernelspec": {
   "name": "my-rdkit-env",
   "language": "python",
   "display_name": "my-rdkit-env"
  },
  "language_info": {
   "codemirror_mode": {
    "name": "ipython",
    "version": 2
   },
   "file_extension": ".py",
   "mimetype": "text/x-python",
   "name": "python",
   "nbconvert_exporter": "python",
   "pygments_lexer": "ipython2",
   "version": "2.7.6"
  }
 },
 "nbformat": 4,
 "nbformat_minor": 0
}