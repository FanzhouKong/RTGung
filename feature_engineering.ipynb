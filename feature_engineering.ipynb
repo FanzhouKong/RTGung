{
 "cells": [
  {
   "cell_type": "code",
   "execution_count": 96,
   "metadata": {
    "collapsed": true
   },
   "outputs": [
    {
     "name": "stdout",
     "output_type": "stream",
     "text": [
      "i am updated!\n",
      "The autoreload extension is already loaded. To reload it, use:\n",
      "  %reload_ext autoreload\n"
     ]
    }
   ],
   "source": [
    "import pandas as pd\n",
    "import numpy as np\n",
    "import random\n",
    "import toolsets.data_prep as data_prep\n",
    "%load_ext autoreload\n",
    "%autoreload 2\n",
    "descriptors = pd.read_csv(\"data/multiRT/MultiRT_hilic_descriptors.csv\", low_memory=False)\n",
    "descriptors = descriptors.select_dtypes(exclude=['object'])"
   ]
  },
  {
   "cell_type": "code",
   "execution_count": 89,
   "outputs": [],
   "source": [
    "combined_data = pd.read_csv(\"data/multiRT/Combined dataset.csv\")\n",
    "hilic = combined_data.loc[combined_data['Column']=='HILIC']\n",
    "hilic.reset_index(inplace=True, drop=True)\n",
    "# hilic=data_prep.dataset_prep(hilic)\n",
    "# hilic = data_prep.make_split_index(hilic)"
   ],
   "metadata": {
    "collapsed": false,
    "pycharm": {
     "name": "#%%\n"
    }
   }
  },
  {
   "cell_type": "code",
   "execution_count": 103,
   "outputs": [],
   "source": [
    "data = pd.concat([hilic, descriptors],axis =1)"
   ],
   "metadata": {
    "collapsed": false,
    "pycharm": {
     "name": "#%%\n"
    }
   }
  },
  {
   "cell_type": "code",
   "execution_count": 104,
   "outputs": [],
   "source": [
    "data = data_prep.dataset_prep(data)"
   ],
   "metadata": {
    "collapsed": false,
    "pycharm": {
     "name": "#%%\n"
    }
   }
  },
  {
   "cell_type": "code",
   "execution_count": 105,
   "outputs": [],
   "source": [
    "train, test = data_prep.make_train_test(data, 0.8,0.2)"
   ],
   "metadata": {
    "collapsed": false,
    "pycharm": {
     "name": "#%%\n"
    }
   }
  },
  {
   "cell_type": "code",
   "execution_count": 116,
   "outputs": [],
   "source": [
    "num_features = train.select_dtypes(include = [\"float64\", \"int64\"]).columns"
   ],
   "metadata": {
    "collapsed": false,
    "pycharm": {
     "name": "#%%\n"
    }
   }
  },
  {
   "cell_type": "code",
   "execution_count": 138,
   "outputs": [
    {
     "name": "stdout",
     "output_type": "stream",
     "text": [
      "i am updated!\n"
     ]
    }
   ],
   "source": [
    "non_cat_features = train.select_dtypes(include = [ \"bool\",'object']).columns\n",
    "# x[non_cat_features]=x[non_cat_features].astype('category')"
   ],
   "metadata": {
    "collapsed": false,
    "pycharm": {
     "name": "#%%\n"
    }
   }
  },
  {
   "cell_type": "code",
   "execution_count": 148,
   "outputs": [],
   "source": [
    "num_features = train.select_dtypes(include = [\"float64\"]).columns"
   ],
   "metadata": {
    "collapsed": false,
    "pycharm": {
     "name": "#%%\n"
    }
   }
  },
  {
   "cell_type": "code",
   "execution_count": 154,
   "outputs": [
    {
     "name": "stdout",
     "output_type": "stream",
     "text": [
      "i am updated!\n"
     ]
    }
   ],
   "source": [
    "x, y = data_prep.make_x_y(train)"
   ],
   "metadata": {
    "collapsed": false,
    "pycharm": {
     "name": "#%%\n"
    }
   }
  },
  {
   "cell_type": "code",
   "execution_count": 155,
   "outputs": [
    {
     "data": {
      "text/plain": "      pH       ABC   ABCGG  nAcid  nBase   SpAbs_A   SpMax_A  SpDiam_A  \\\n0    2.7 -0.034908 -0.4068      0      0  0.020457  1.272155  1.455625   \n1    3.0 -0.034908 -0.4068      0      0  0.020457  1.272155  1.455625   \n2    3.0 -0.034908 -0.4068      0      0  0.020457  1.272155  1.455625   \n3    5.0 -0.034908 -0.4068      0      0  0.020457  1.272155  1.455625   \n4    5.0 -0.034908 -0.4068      0      0  0.020457  1.272155  1.455625   \n..   ...       ...     ...    ...    ...       ...       ...       ...   \n831  5.0  1.758561  1.9274      3      0  1.873284  0.144229  0.221831   \n832  2.7  1.758561  1.9274      3      0  1.873284  0.144229  0.221831   \n833  3.0  1.758561  1.9274      3      0  1.873284  0.144229  0.221831   \n834  5.0  1.758561  1.9274      3      0  1.873284  0.144229  0.221831   \n835  5.0  1.758561  1.9274      3      0  1.873284  0.144229  0.221831   \n\n       SpAD_A   SpMAD_A  ...  WPath  WPol   Zagreb1   Zagreb2  mZagreb1  \\\n0    0.020457  1.894151  ...    428    33  0.117533  0.275060 -1.054626   \n1    0.020457  1.894151  ...    428    33  0.117533  0.275060 -1.054626   \n2    0.020457  1.894151  ...    428    33  0.117533  0.275060 -1.054626   \n3    0.020457  1.894151  ...    428    33  0.117533  0.275060 -1.054626   \n4    0.020457  1.894151  ...    428    33  0.117533  0.275060 -1.054626   \n..        ...       ...  ...    ...   ...       ...       ...       ...   \n831  1.873284  0.376195  ...   3122    49  1.577985  1.463666  1.547606   \n832  1.873284  0.376195  ...   3122    49  1.577985  1.463666  1.547606   \n833  1.873284  0.376195  ...   3122    49  1.577985  1.463666  1.547606   \n834  1.873284  0.376195  ...   3122    49  1.577985  1.463666  1.547606   \n835  1.873284  0.376195  ...   3122    49  1.577985  1.463666  1.547606   \n\n     mZagreb2  Organic_modifier_Methanol  Buffer_Formic acid  Lipinski_True  \\\n0   -0.361782                          0                   1              1   \n1   -0.361782                          0                   0              1   \n2   -0.361782                          0                   1              1   \n3   -0.361782                          0                   0              1   \n4   -0.361782                          0                   1              1   \n..        ...                        ...                 ...            ...   \n831  2.068563                          0                   1              1   \n832  2.068563                          1                   1              1   \n833  2.068563                          1                   1              1   \n834  2.068563                          1                   0              1   \n835  2.068563                          1                   1              1   \n\n     GhoseFilter_True  \n0                   1  \n1                   1  \n2                   1  \n3                   1  \n4                   1  \n..                ...  \n831                 1  \n832                 1  \n833                 1  \n834                 1  \n835                 1  \n\n[671 rows x 1329 columns]",
      "text/html": "<div>\n<style scoped>\n    .dataframe tbody tr th:only-of-type {\n        vertical-align: middle;\n    }\n\n    .dataframe tbody tr th {\n        vertical-align: top;\n    }\n\n    .dataframe thead th {\n        text-align: right;\n    }\n</style>\n<table border=\"1\" class=\"dataframe\">\n  <thead>\n    <tr style=\"text-align: right;\">\n      <th></th>\n      <th>pH</th>\n      <th>ABC</th>\n      <th>ABCGG</th>\n      <th>nAcid</th>\n      <th>nBase</th>\n      <th>SpAbs_A</th>\n      <th>SpMax_A</th>\n      <th>SpDiam_A</th>\n      <th>SpAD_A</th>\n      <th>SpMAD_A</th>\n      <th>...</th>\n      <th>WPath</th>\n      <th>WPol</th>\n      <th>Zagreb1</th>\n      <th>Zagreb2</th>\n      <th>mZagreb1</th>\n      <th>mZagreb2</th>\n      <th>Organic_modifier_Methanol</th>\n      <th>Buffer_Formic acid</th>\n      <th>Lipinski_True</th>\n      <th>GhoseFilter_True</th>\n    </tr>\n  </thead>\n  <tbody>\n    <tr>\n      <th>0</th>\n      <td>2.7</td>\n      <td>-0.034908</td>\n      <td>-0.4068</td>\n      <td>0</td>\n      <td>0</td>\n      <td>0.020457</td>\n      <td>1.272155</td>\n      <td>1.455625</td>\n      <td>0.020457</td>\n      <td>1.894151</td>\n      <td>...</td>\n      <td>428</td>\n      <td>33</td>\n      <td>0.117533</td>\n      <td>0.275060</td>\n      <td>-1.054626</td>\n      <td>-0.361782</td>\n      <td>0</td>\n      <td>1</td>\n      <td>1</td>\n      <td>1</td>\n    </tr>\n    <tr>\n      <th>1</th>\n      <td>3.0</td>\n      <td>-0.034908</td>\n      <td>-0.4068</td>\n      <td>0</td>\n      <td>0</td>\n      <td>0.020457</td>\n      <td>1.272155</td>\n      <td>1.455625</td>\n      <td>0.020457</td>\n      <td>1.894151</td>\n      <td>...</td>\n      <td>428</td>\n      <td>33</td>\n      <td>0.117533</td>\n      <td>0.275060</td>\n      <td>-1.054626</td>\n      <td>-0.361782</td>\n      <td>0</td>\n      <td>0</td>\n      <td>1</td>\n      <td>1</td>\n    </tr>\n    <tr>\n      <th>2</th>\n      <td>3.0</td>\n      <td>-0.034908</td>\n      <td>-0.4068</td>\n      <td>0</td>\n      <td>0</td>\n      <td>0.020457</td>\n      <td>1.272155</td>\n      <td>1.455625</td>\n      <td>0.020457</td>\n      <td>1.894151</td>\n      <td>...</td>\n      <td>428</td>\n      <td>33</td>\n      <td>0.117533</td>\n      <td>0.275060</td>\n      <td>-1.054626</td>\n      <td>-0.361782</td>\n      <td>0</td>\n      <td>1</td>\n      <td>1</td>\n      <td>1</td>\n    </tr>\n    <tr>\n      <th>3</th>\n      <td>5.0</td>\n      <td>-0.034908</td>\n      <td>-0.4068</td>\n      <td>0</td>\n      <td>0</td>\n      <td>0.020457</td>\n      <td>1.272155</td>\n      <td>1.455625</td>\n      <td>0.020457</td>\n      <td>1.894151</td>\n      <td>...</td>\n      <td>428</td>\n      <td>33</td>\n      <td>0.117533</td>\n      <td>0.275060</td>\n      <td>-1.054626</td>\n      <td>-0.361782</td>\n      <td>0</td>\n      <td>0</td>\n      <td>1</td>\n      <td>1</td>\n    </tr>\n    <tr>\n      <th>4</th>\n      <td>5.0</td>\n      <td>-0.034908</td>\n      <td>-0.4068</td>\n      <td>0</td>\n      <td>0</td>\n      <td>0.020457</td>\n      <td>1.272155</td>\n      <td>1.455625</td>\n      <td>0.020457</td>\n      <td>1.894151</td>\n      <td>...</td>\n      <td>428</td>\n      <td>33</td>\n      <td>0.117533</td>\n      <td>0.275060</td>\n      <td>-1.054626</td>\n      <td>-0.361782</td>\n      <td>0</td>\n      <td>1</td>\n      <td>1</td>\n      <td>1</td>\n    </tr>\n    <tr>\n      <th>...</th>\n      <td>...</td>\n      <td>...</td>\n      <td>...</td>\n      <td>...</td>\n      <td>...</td>\n      <td>...</td>\n      <td>...</td>\n      <td>...</td>\n      <td>...</td>\n      <td>...</td>\n      <td>...</td>\n      <td>...</td>\n      <td>...</td>\n      <td>...</td>\n      <td>...</td>\n      <td>...</td>\n      <td>...</td>\n      <td>...</td>\n      <td>...</td>\n      <td>...</td>\n      <td>...</td>\n    </tr>\n    <tr>\n      <th>831</th>\n      <td>5.0</td>\n      <td>1.758561</td>\n      <td>1.9274</td>\n      <td>3</td>\n      <td>0</td>\n      <td>1.873284</td>\n      <td>0.144229</td>\n      <td>0.221831</td>\n      <td>1.873284</td>\n      <td>0.376195</td>\n      <td>...</td>\n      <td>3122</td>\n      <td>49</td>\n      <td>1.577985</td>\n      <td>1.463666</td>\n      <td>1.547606</td>\n      <td>2.068563</td>\n      <td>0</td>\n      <td>1</td>\n      <td>1</td>\n      <td>1</td>\n    </tr>\n    <tr>\n      <th>832</th>\n      <td>2.7</td>\n      <td>1.758561</td>\n      <td>1.9274</td>\n      <td>3</td>\n      <td>0</td>\n      <td>1.873284</td>\n      <td>0.144229</td>\n      <td>0.221831</td>\n      <td>1.873284</td>\n      <td>0.376195</td>\n      <td>...</td>\n      <td>3122</td>\n      <td>49</td>\n      <td>1.577985</td>\n      <td>1.463666</td>\n      <td>1.547606</td>\n      <td>2.068563</td>\n      <td>1</td>\n      <td>1</td>\n      <td>1</td>\n      <td>1</td>\n    </tr>\n    <tr>\n      <th>833</th>\n      <td>3.0</td>\n      <td>1.758561</td>\n      <td>1.9274</td>\n      <td>3</td>\n      <td>0</td>\n      <td>1.873284</td>\n      <td>0.144229</td>\n      <td>0.221831</td>\n      <td>1.873284</td>\n      <td>0.376195</td>\n      <td>...</td>\n      <td>3122</td>\n      <td>49</td>\n      <td>1.577985</td>\n      <td>1.463666</td>\n      <td>1.547606</td>\n      <td>2.068563</td>\n      <td>1</td>\n      <td>1</td>\n      <td>1</td>\n      <td>1</td>\n    </tr>\n    <tr>\n      <th>834</th>\n      <td>5.0</td>\n      <td>1.758561</td>\n      <td>1.9274</td>\n      <td>3</td>\n      <td>0</td>\n      <td>1.873284</td>\n      <td>0.144229</td>\n      <td>0.221831</td>\n      <td>1.873284</td>\n      <td>0.376195</td>\n      <td>...</td>\n      <td>3122</td>\n      <td>49</td>\n      <td>1.577985</td>\n      <td>1.463666</td>\n      <td>1.547606</td>\n      <td>2.068563</td>\n      <td>1</td>\n      <td>0</td>\n      <td>1</td>\n      <td>1</td>\n    </tr>\n    <tr>\n      <th>835</th>\n      <td>5.0</td>\n      <td>1.758561</td>\n      <td>1.9274</td>\n      <td>3</td>\n      <td>0</td>\n      <td>1.873284</td>\n      <td>0.144229</td>\n      <td>0.221831</td>\n      <td>1.873284</td>\n      <td>0.376195</td>\n      <td>...</td>\n      <td>3122</td>\n      <td>49</td>\n      <td>1.577985</td>\n      <td>1.463666</td>\n      <td>1.547606</td>\n      <td>2.068563</td>\n      <td>1</td>\n      <td>1</td>\n      <td>1</td>\n      <td>1</td>\n    </tr>\n  </tbody>\n</table>\n<p>671 rows × 1329 columns</p>\n</div>"
     },
     "execution_count": 155,
     "metadata": {},
     "output_type": "execute_result"
    }
   ],
   "source": [
    "x"
   ],
   "metadata": {
    "collapsed": false,
    "pycharm": {
     "name": "#%%\n"
    }
   }
  },
  {
   "cell_type": "markdown",
   "source": [
    "# start of reproducing clean lab code"
   ],
   "metadata": {
    "collapsed": false,
    "pycharm": {
     "name": "#%% md\n"
    }
   }
  },
  {
   "cell_type": "code",
   "execution_count": 16,
   "outputs": [],
   "source": [
    "SEED = 123456\n",
    "np.random.seed(SEED)\n",
    "random.seed(SEED)"
   ],
   "metadata": {
    "collapsed": false,
    "pycharm": {
     "name": "#%%\n"
    }
   }
  },
  {
   "cell_type": "code",
   "execution_count": 17,
   "outputs": [
    {
     "name": "stderr",
     "output_type": "stream",
     "text": [
      "<frozen importlib._bootstrap>:228: RuntimeWarning: scipy._lib.messagestream.MessageStream size changed, may indicate binary incompatibility. Expected 56 from C header, got 64 from PyObject\n"
     ]
    }
   ],
   "source": [
    "from sklearn.datasets import fetch_openml\n",
    "\n",
    "data = fetch_openml(\"credit-g\")  # get the credit data from OpenML\n",
    "X_raw = data.data  # features (pandas DataFrame)\n",
    "y_raw = data.target  # labels (pandas Series)"
   ],
   "metadata": {
    "collapsed": false,
    "pycharm": {
     "name": "#%%\n"
    }
   }
  },
  {
   "cell_type": "code",
   "execution_count": 135,
   "outputs": [
    {
     "data": {
      "text/plain": "0      good\n1       bad\n2      good\n3      good\n4       bad\n       ... \n995    good\n996    good\n997    good\n998     bad\n999    good\nName: class, Length: 1000, dtype: category\nCategories (2, object): ['good', 'bad']"
     },
     "execution_count": 135,
     "metadata": {},
     "output_type": "execute_result"
    }
   ],
   "source": [
    "(y_raw)"
   ],
   "metadata": {
    "collapsed": false,
    "pycharm": {
     "name": "#%%\n"
    }
   }
  },
  {
   "cell_type": "code",
   "execution_count": 72,
   "outputs": [],
   "source": [
    "from sklearn.preprocessing import StandardScaler"
   ],
   "metadata": {
    "collapsed": false,
    "pycharm": {
     "name": "#%%\n"
    }
   }
  },
  {
   "cell_type": "code",
   "execution_count": 79,
   "outputs": [],
   "source": [
    "cat_features = X_raw.select_dtypes(\"category\").columns\n",
    "X_encoded = pd.get_dummies(X_raw, columns=cat_features, drop_first=True)"
   ],
   "metadata": {
    "collapsed": false,
    "pycharm": {
     "name": "#%%\n"
    }
   }
  },
  {
   "cell_type": "code",
   "execution_count": 81,
   "outputs": [],
   "source": [
    "num_features = X_raw.select_dtypes(\"float64\").columns\n",
    "scaler = StandardScaler()\n",
    "X_scaled = X_encoded.copy()\n",
    "X_scaled[num_features] = scaler.fit_transform(X_encoded[num_features])\n",
    "\n",
    "y = y_raw.map({\"bad\": 0, \"good\": 1})  # encode labels as integers"
   ],
   "metadata": {
    "collapsed": false,
    "pycharm": {
     "name": "#%%\n"
    }
   }
  },
  {
   "cell_type": "code",
   "execution_count": 130,
   "outputs": [
    {
     "data": {
      "text/plain": "0      1\n1      0\n2      1\n3      1\n4      0\n      ..\n995    1\n996    1\n997    1\n998    0\n999    1\nName: class, Length: 1000, dtype: category\nCategories (2, int64): [1, 0]"
     },
     "execution_count": 130,
     "metadata": {},
     "output_type": "execute_result"
    }
   ],
   "source": [
    "y"
   ],
   "metadata": {
    "collapsed": false,
    "pycharm": {
     "name": "#%%\n"
    }
   }
  },
  {
   "cell_type": "code",
   "execution_count": 86,
   "outputs": [
    {
     "data": {
      "text/plain": "0       6.0\n1      48.0\n2      12.0\n3      42.0\n4      24.0\n       ... \n995    12.0\n996    30.0\n997    12.0\n998    45.0\n999    45.0\nName: duration, Length: 1000, dtype: float64"
     },
     "execution_count": 86,
     "metadata": {},
     "output_type": "execute_result"
    }
   ],
   "source": [
    "X_raw['duration']"
   ],
   "metadata": {
    "collapsed": false,
    "pycharm": {
     "name": "#%%\n"
    }
   }
  },
  {
   "cell_type": "code",
   "execution_count": null,
   "outputs": [],
   "source": [
    "from sklearn.linear_model import LogisticRegression\n",
    "\n",
    "clf = LogisticRegression()\n",
    "from sklearn.model_selection import cross_val_predict\n",
    "\n",
    "num_crossval_folds = 3  # for efficiency; values like 5 or 10 will generally work better\n",
    "pred_probs = cross_val_predict(\n",
    "    clf,\n",
    "    X_scaled,\n",
    "    y,\n",
    "    cv=num_crossval_folds,\n",
    "    method=\"predict_proba\",\n",
    ")"
   ],
   "metadata": {
    "collapsed": false,
    "pycharm": {
     "name": "#%%\n"
    }
   }
  }
 ],
 "metadata": {
  "kernelspec": {
   "name": "tensorflow",
   "language": "python",
   "display_name": "Python 3.9 (tensorflow)"
  },
  "language_info": {
   "codemirror_mode": {
    "name": "ipython",
    "version": 2
   },
   "file_extension": ".py",
   "mimetype": "text/x-python",
   "name": "python",
   "nbconvert_exporter": "python",
   "pygments_lexer": "ipython2",
   "version": "2.7.6"
  }
 },
 "nbformat": 4,
 "nbformat_minor": 0
}