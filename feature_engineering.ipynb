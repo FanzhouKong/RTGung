{
 "cells": [
  {
   "cell_type": "code",
   "execution_count": 96,
   "metadata": {
    "collapsed": true
   },
   "outputs": [
    {
     "name": "stdout",
     "output_type": "stream",
     "text": [
      "i am updated!\n",
      "The autoreload extension is already loaded. To reload it, use:\n",
      "  %reload_ext autoreload\n"
     ]
    }
   ],
   "source": [
    "import pandas as pd\n",
    "import numpy as np\n",
    "import random\n",
    "import toolsets.data_prep as data_prep\n",
    "%load_ext autoreload\n",
    "%autoreload 2\n",
    "descriptors = pd.read_csv(\"data/multiRT/MultiRT_hilic_descriptors.csv\", low_memory=False)\n",
    "descriptors = descriptors.select_dtypes(exclude=['object'])"
   ]
  },
  {
   "cell_type": "code",
   "execution_count": 89,
   "outputs": [],
   "source": [
    "combined_data = pd.read_csv(\"data/multiRT/Combined dataset.csv\")\n",
    "hilic = combined_data.loc[combined_data['Column']=='HILIC']\n",
    "hilic.reset_index(inplace=True, drop=True)\n",
    "# hilic=data_prep.dataset_prep(hilic)\n",
    "# hilic = data_prep.make_split_index(hilic)"
   ],
   "metadata": {
    "collapsed": false,
    "pycharm": {
     "name": "#%%\n"
    }
   }
  },
  {
   "cell_type": "code",
   "execution_count": 103,
   "outputs": [],
   "source": [
    "data = pd.concat([hilic, descriptors],axis =1)"
   ],
   "metadata": {
    "collapsed": false,
    "pycharm": {
     "name": "#%%\n"
    }
   }
  },
  {
   "cell_type": "code",
   "execution_count": 104,
   "outputs": [],
   "source": [
    "data = data_prep.dataset_prep(data)"
   ],
   "metadata": {
    "collapsed": false,
    "pycharm": {
     "name": "#%%\n"
    }
   }
  },
  {
   "cell_type": "code",
   "execution_count": 105,
   "outputs": [],
   "source": [
    "train, test = data_prep.make_train_test(data, 0.8,0.2)"
   ],
   "metadata": {
    "collapsed": false,
    "pycharm": {
     "name": "#%%\n"
    }
   }
  },
  {
   "cell_type": "code",
   "execution_count": 106,
   "outputs": [
    {
     "data": {
      "text/plain": "  Organic_modifier   pH       Buffer  retention_time        ABC      ABCGG  \\\n0     Acetonitrile  2.7  Formic acid        1.822857  14.008885  10.537147   \n1     Acetonitrile  3.0  Acetic acid       12.321429  14.008885  10.537147   \n2     Acetonitrile  3.0  Formic acid        1.857143  14.008885  10.537147   \n3     Acetonitrile  5.0  Acetic acid        1.850000  14.008885  10.537147   \n4     Acetonitrile  5.0  Formic acid        1.851429  14.008885  10.537147   \n\n   nAcid  nBase    SpAbs_A  SpMax_A  ...      SRW10     TSRW10          MW  \\\n0      0      0  23.372976  2.54742  ...  10.190582  51.083298  218.073165   \n1      0      0  23.372976  2.54742  ...  10.190582  51.083298  218.073165   \n2      0      0  23.372976  2.54742  ...  10.190582  51.083298  218.073165   \n3      0      0  23.372976  2.54742  ...  10.190582  51.083298  218.073165   \n4      0      0  23.372976  2.54742  ...  10.190582  51.083298  218.073165   \n\n        AMW  WPath  WPol  Zagreb1  Zagreb2  mZagreb1  mZagreb2  \n0  8.076784    428    33    100.0    125.0  4.027778  3.583333  \n1  8.076784    428    33    100.0    125.0  4.027778  3.583333  \n2  8.076784    428    33    100.0    125.0  4.027778  3.583333  \n3  8.076784    428    33    100.0    125.0  4.027778  3.583333  \n4  8.076784    428    33    100.0    125.0  4.027778  3.583333  \n\n[5 rows x 1330 columns]",
      "text/html": "<div>\n<style scoped>\n    .dataframe tbody tr th:only-of-type {\n        vertical-align: middle;\n    }\n\n    .dataframe tbody tr th {\n        vertical-align: top;\n    }\n\n    .dataframe thead th {\n        text-align: right;\n    }\n</style>\n<table border=\"1\" class=\"dataframe\">\n  <thead>\n    <tr style=\"text-align: right;\">\n      <th></th>\n      <th>Organic_modifier</th>\n      <th>pH</th>\n      <th>Buffer</th>\n      <th>retention_time</th>\n      <th>ABC</th>\n      <th>ABCGG</th>\n      <th>nAcid</th>\n      <th>nBase</th>\n      <th>SpAbs_A</th>\n      <th>SpMax_A</th>\n      <th>...</th>\n      <th>SRW10</th>\n      <th>TSRW10</th>\n      <th>MW</th>\n      <th>AMW</th>\n      <th>WPath</th>\n      <th>WPol</th>\n      <th>Zagreb1</th>\n      <th>Zagreb2</th>\n      <th>mZagreb1</th>\n      <th>mZagreb2</th>\n    </tr>\n  </thead>\n  <tbody>\n    <tr>\n      <th>0</th>\n      <td>Acetonitrile</td>\n      <td>2.7</td>\n      <td>Formic acid</td>\n      <td>1.822857</td>\n      <td>14.008885</td>\n      <td>10.537147</td>\n      <td>0</td>\n      <td>0</td>\n      <td>23.372976</td>\n      <td>2.54742</td>\n      <td>...</td>\n      <td>10.190582</td>\n      <td>51.083298</td>\n      <td>218.073165</td>\n      <td>8.076784</td>\n      <td>428</td>\n      <td>33</td>\n      <td>100.0</td>\n      <td>125.0</td>\n      <td>4.027778</td>\n      <td>3.583333</td>\n    </tr>\n    <tr>\n      <th>1</th>\n      <td>Acetonitrile</td>\n      <td>3.0</td>\n      <td>Acetic acid</td>\n      <td>12.321429</td>\n      <td>14.008885</td>\n      <td>10.537147</td>\n      <td>0</td>\n      <td>0</td>\n      <td>23.372976</td>\n      <td>2.54742</td>\n      <td>...</td>\n      <td>10.190582</td>\n      <td>51.083298</td>\n      <td>218.073165</td>\n      <td>8.076784</td>\n      <td>428</td>\n      <td>33</td>\n      <td>100.0</td>\n      <td>125.0</td>\n      <td>4.027778</td>\n      <td>3.583333</td>\n    </tr>\n    <tr>\n      <th>2</th>\n      <td>Acetonitrile</td>\n      <td>3.0</td>\n      <td>Formic acid</td>\n      <td>1.857143</td>\n      <td>14.008885</td>\n      <td>10.537147</td>\n      <td>0</td>\n      <td>0</td>\n      <td>23.372976</td>\n      <td>2.54742</td>\n      <td>...</td>\n      <td>10.190582</td>\n      <td>51.083298</td>\n      <td>218.073165</td>\n      <td>8.076784</td>\n      <td>428</td>\n      <td>33</td>\n      <td>100.0</td>\n      <td>125.0</td>\n      <td>4.027778</td>\n      <td>3.583333</td>\n    </tr>\n    <tr>\n      <th>3</th>\n      <td>Acetonitrile</td>\n      <td>5.0</td>\n      <td>Acetic acid</td>\n      <td>1.850000</td>\n      <td>14.008885</td>\n      <td>10.537147</td>\n      <td>0</td>\n      <td>0</td>\n      <td>23.372976</td>\n      <td>2.54742</td>\n      <td>...</td>\n      <td>10.190582</td>\n      <td>51.083298</td>\n      <td>218.073165</td>\n      <td>8.076784</td>\n      <td>428</td>\n      <td>33</td>\n      <td>100.0</td>\n      <td>125.0</td>\n      <td>4.027778</td>\n      <td>3.583333</td>\n    </tr>\n    <tr>\n      <th>4</th>\n      <td>Acetonitrile</td>\n      <td>5.0</td>\n      <td>Formic acid</td>\n      <td>1.851429</td>\n      <td>14.008885</td>\n      <td>10.537147</td>\n      <td>0</td>\n      <td>0</td>\n      <td>23.372976</td>\n      <td>2.54742</td>\n      <td>...</td>\n      <td>10.190582</td>\n      <td>51.083298</td>\n      <td>218.073165</td>\n      <td>8.076784</td>\n      <td>428</td>\n      <td>33</td>\n      <td>100.0</td>\n      <td>125.0</td>\n      <td>4.027778</td>\n      <td>3.583333</td>\n    </tr>\n  </tbody>\n</table>\n<p>5 rows × 1330 columns</p>\n</div>"
     },
     "execution_count": 106,
     "metadata": {},
     "output_type": "execute_result"
    }
   ],
   "source": [
    "train.head()"
   ],
   "metadata": {
    "collapsed": false,
    "pycharm": {
     "name": "#%%\n"
    }
   }
  },
  {
   "cell_type": "code",
   "execution_count": 69,
   "outputs": [],
   "source": [
    "hilic = hilic.drop(['Compound_name', 'Column','SMILES'], axis=1)"
   ],
   "metadata": {
    "collapsed": false,
    "pycharm": {
     "name": "#%%\n"
    }
   }
  },
  {
   "cell_type": "code",
   "execution_count": 70,
   "outputs": [],
   "source": [],
   "metadata": {
    "collapsed": false,
    "pycharm": {
     "name": "#%%\n"
    }
   }
  },
  {
   "cell_type": "code",
   "execution_count": 71,
   "outputs": [
    {
     "data": {
      "text/plain": "(836, 1331)"
     },
     "execution_count": 71,
     "metadata": {},
     "output_type": "execute_result"
    }
   ],
   "source": [
    "data.shape"
   ],
   "metadata": {
    "collapsed": false,
    "pycharm": {
     "name": "#%%\n"
    }
   }
  },
  {
   "cell_type": "code",
   "execution_count": 78,
   "outputs": [
    {
     "name": "stdout",
     "output_type": "stream",
     "text": [
      "<class 'pandas.core.frame.DataFrame'>\n",
      "RangeIndex: 836 entries, 0 to 835\n",
      "Columns: 1331 entries, Organic_modifier to mZagreb2\n",
      "dtypes: bool(2), float64(1007), int64(320), object(2)\n",
      "memory usage: 8.5+ MB\n"
     ]
    }
   ],
   "source": [
    "data.info()"
   ],
   "metadata": {
    "collapsed": false,
    "pycharm": {
     "name": "#%%\n"
    }
   }
  },
  {
   "cell_type": "markdown",
   "source": [
    "# start of reproducing clean lab code"
   ],
   "metadata": {
    "collapsed": false,
    "pycharm": {
     "name": "#%% md\n"
    }
   }
  },
  {
   "cell_type": "code",
   "execution_count": 16,
   "outputs": [],
   "source": [
    "SEED = 123456\n",
    "np.random.seed(SEED)\n",
    "random.seed(SEED)"
   ],
   "metadata": {
    "collapsed": false,
    "pycharm": {
     "name": "#%%\n"
    }
   }
  },
  {
   "cell_type": "code",
   "execution_count": 17,
   "outputs": [
    {
     "name": "stderr",
     "output_type": "stream",
     "text": [
      "<frozen importlib._bootstrap>:228: RuntimeWarning: scipy._lib.messagestream.MessageStream size changed, may indicate binary incompatibility. Expected 56 from C header, got 64 from PyObject\n"
     ]
    }
   ],
   "source": [
    "from sklearn.datasets import fetch_openml\n",
    "\n",
    "data = fetch_openml(\"credit-g\")  # get the credit data from OpenML\n",
    "X_raw = data.data  # features (pandas DataFrame)\n",
    "y_raw = data.target  # labels (pandas Series)"
   ],
   "metadata": {
    "collapsed": false,
    "pycharm": {
     "name": "#%%\n"
    }
   }
  },
  {
   "cell_type": "code",
   "execution_count": 77,
   "outputs": [
    {
     "name": "stdout",
     "output_type": "stream",
     "text": [
      "<class 'pandas.core.frame.DataFrame'>\n",
      "RangeIndex: 1000 entries, 0 to 999\n",
      "Data columns (total 20 columns):\n",
      " #   Column                  Non-Null Count  Dtype   \n",
      "---  ------                  --------------  -----   \n",
      " 0   checking_status         1000 non-null   category\n",
      " 1   duration                1000 non-null   float64 \n",
      " 2   credit_history          1000 non-null   category\n",
      " 3   purpose                 1000 non-null   category\n",
      " 4   credit_amount           1000 non-null   float64 \n",
      " 5   savings_status          1000 non-null   category\n",
      " 6   employment              1000 non-null   category\n",
      " 7   installment_commitment  1000 non-null   float64 \n",
      " 8   personal_status         1000 non-null   category\n",
      " 9   other_parties           1000 non-null   category\n",
      " 10  residence_since         1000 non-null   float64 \n",
      " 11  property_magnitude      1000 non-null   category\n",
      " 12  age                     1000 non-null   float64 \n",
      " 13  other_payment_plans     1000 non-null   category\n",
      " 14  housing                 1000 non-null   category\n",
      " 15  existing_credits        1000 non-null   float64 \n",
      " 16  job                     1000 non-null   category\n",
      " 17  num_dependents          1000 non-null   float64 \n",
      " 18  own_telephone           1000 non-null   category\n",
      " 19  foreign_worker          1000 non-null   category\n",
      "dtypes: category(13), float64(7)\n",
      "memory usage: 69.9 KB\n"
     ]
    }
   ],
   "source": [
    "X_raw.info()"
   ],
   "metadata": {
    "collapsed": false,
    "pycharm": {
     "name": "#%%\n"
    }
   }
  },
  {
   "cell_type": "code",
   "execution_count": 72,
   "outputs": [],
   "source": [
    "from sklearn.preprocessing import StandardScaler"
   ],
   "metadata": {
    "collapsed": false,
    "pycharm": {
     "name": "#%%\n"
    }
   }
  },
  {
   "cell_type": "code",
   "execution_count": 79,
   "outputs": [],
   "source": [
    "cat_features = X_raw.select_dtypes(\"category\").columns\n",
    "X_encoded = pd.get_dummies(X_raw, columns=cat_features, drop_first=True)"
   ],
   "metadata": {
    "collapsed": false,
    "pycharm": {
     "name": "#%%\n"
    }
   }
  },
  {
   "cell_type": "code",
   "execution_count": 81,
   "outputs": [],
   "source": [
    "num_features = X_raw.select_dtypes(\"float64\").columns\n",
    "scaler = StandardScaler()\n",
    "X_scaled = X_encoded.copy()\n",
    "X_scaled[num_features] = scaler.fit_transform(X_encoded[num_features])\n",
    "\n",
    "y = y_raw.map({\"bad\": 0, \"good\": 1})  # encode labels as integers"
   ],
   "metadata": {
    "collapsed": false,
    "pycharm": {
     "name": "#%%\n"
    }
   }
  },
  {
   "cell_type": "code",
   "execution_count": 86,
   "outputs": [
    {
     "data": {
      "text/plain": "0       6.0\n1      48.0\n2      12.0\n3      42.0\n4      24.0\n       ... \n995    12.0\n996    30.0\n997    12.0\n998    45.0\n999    45.0\nName: duration, Length: 1000, dtype: float64"
     },
     "execution_count": 86,
     "metadata": {},
     "output_type": "execute_result"
    }
   ],
   "source": [
    "X_raw['duration']"
   ],
   "metadata": {
    "collapsed": false,
    "pycharm": {
     "name": "#%%\n"
    }
   }
  },
  {
   "cell_type": "code",
   "execution_count": null,
   "outputs": [],
   "source": [
    "from sklearn.linear_model import LogisticRegression\n",
    "\n",
    "clf = LogisticRegression()\n",
    "from sklearn.model_selection import cross_val_predict\n",
    "\n",
    "num_crossval_folds = 3  # for efficiency; values like 5 or 10 will generally work better\n",
    "pred_probs = cross_val_predict(\n",
    "    clf,\n",
    "    X_scaled,\n",
    "    y,\n",
    "    cv=num_crossval_folds,\n",
    "    method=\"predict_proba\",\n",
    ")"
   ],
   "metadata": {
    "collapsed": false,
    "pycharm": {
     "name": "#%%\n"
    }
   }
  }
 ],
 "metadata": {
  "kernelspec": {
   "name": "tensorflow",
   "language": "python",
   "display_name": "Python 3.9 (tensorflow)"
  },
  "language_info": {
   "codemirror_mode": {
    "name": "ipython",
    "version": 2
   },
   "file_extension": ".py",
   "mimetype": "text/x-python",
   "name": "python",
   "nbconvert_exporter": "python",
   "pygments_lexer": "ipython2",
   "version": "2.7.6"
  }
 },
 "nbformat": 4,
 "nbformat_minor": 0
}