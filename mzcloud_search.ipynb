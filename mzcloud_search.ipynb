{
 "cells": [
  {
   "cell_type": "code",
   "execution_count": 63,
   "metadata": {
    "collapsed": true,
    "pycharm": {
     "name": "#%%\n"
    }
   },
   "outputs": [],
   "source": [
    "import mzcloud_search.mzcloud_search as mzsearch\n",
    "%load_ext autoreload\n",
    "%autoreload 2"
   ]
  },
  {
   "cell_type": "code",
   "execution_count": 84,
   "outputs": [
    {
     "name": "stdout",
     "output_type": "stream",
     "text": [
      "https://beta.mzcloud.org/api/file/fb27fdb35bf84bac863f48907fd7c397/asSpectrumDto\n",
      "422\n",
      "{\"errors\":{\"metadataFilter.textConditions[0]\":[\"Error converting value \\\"InChI Key\\\" to type 'LibraryIndexes.BasicMetadata.Dto.FilterConditionDto'. Path 'metadataFilter.textConditions[0]', line 1, position 308.\"]},\"type\":\"https://httpstatuses.com/422\",\"title\":\"One or more validation errors occurred.\",\"status\":422,\"traceId\":\"00-f013fa068c443ddd5b5d6a08e20b4f80-964c95fe182511ae-00\"}\n"
     ]
    }
   ],
   "source": [
    "if(__name__ == '__main__'):\n",
    "    cloud = mzsearch.MzCloudFinder()\n",
    "    spectrum = cloud.create_payload(\"data/mzcloud_search/AU101802.msp\")\n",
    "    results = cloud.get_results(spectrum, 'positive')\n"
   ],
   "metadata": {
    "collapsed": false,
    "pycharm": {
     "name": "#%%\n"
    }
   }
  },
  {
   "cell_type": "code",
   "execution_count": 83,
   "outputs": [
    {
     "data": {
      "text/plain": "{'libraryName': 'LC/MS Reference',\n 'libraryKey': 'hPqDettnTP',\n 'recordId': 'c667f36a-09b0-473e-bd4e-8487e81622c6',\n 'spectraCollectionId': '5c399b52-df25-4732-b346-332550bf9f88',\n 'spectrumId': '11dc177d-f88b-4aab-bf88-42fa4b1f0179',\n 'compoundId': '5df725d4-06c3-4086-a5b2-ddc6ede55d51',\n 'compoundName': 'Sulfamethoxazole',\n 'cosineMatch': 0.8757478366844321,\n 'denverMatch': 0.7945376722246571,\n 'nistMatch': 0.8566738449830837,\n 'ionActivation': ['HCD', 'CID'],\n 'polarity': 1,\n 'maxTreeDepth': 4,\n 'spectraCount': 244,\n 'massRangeMiss': None,\n 'mergedPeakScore': None,\n 'additionalHits': [{'recordId': 'c667f36a-09b0-473e-bd4e-8487e81622c6',\n   'spectraCollectionId': '5c399b52-df25-4732-b346-332550bf9f88',\n   'spectrumId': '11dc177d-f88b-4aab-bf88-42fa4b1f0179',\n   'cosineMatch': 0.8757478366844321,\n   'denverMatch': 0.7945376722246571,\n   'nistMatch': 0.8566738449830837},\n  {'recordId': 'c667f36a-09b0-473e-bd4e-8487e81622c6',\n   'spectraCollectionId': '5c399b52-df25-4732-b346-332550bf9f88',\n   'spectrumId': '2c726ef5-fde7-4d9e-87e3-2feee3f191f6',\n   'cosineMatch': 0.8704315357547183,\n   'denverMatch': 0.7861849855635363,\n   'nistMatch': 0.7280446033800948},\n  {'recordId': 'c667f36a-09b0-473e-bd4e-8487e81622c6',\n   'spectraCollectionId': '5c399b52-df25-4732-b346-332550bf9f88',\n   'spectrumId': '87412c7e-8acc-4b9d-981d-0ed5d0f17f1f',\n   'cosineMatch': 0.7515273738246615,\n   'denverMatch': 0.761244712671486,\n   'nistMatch': 0.6474012663603893}]}"
     },
     "execution_count": 83,
     "metadata": {},
     "output_type": "execute_result"
    }
   ],
   "source": [
    "results[1]"
   ],
   "metadata": {
    "collapsed": false,
    "pycharm": {
     "name": "#%%\n"
    }
   }
  }
 ],
 "metadata": {
  "kernelspec": {
   "name": "tensorflow",
   "language": "python",
   "display_name": "Python 3.9 (tensorflow)"
  },
  "language_info": {
   "codemirror_mode": {
    "name": "ipython",
    "version": 2
   },
   "file_extension": ".py",
   "mimetype": "text/x-python",
   "name": "python",
   "nbconvert_exporter": "python",
   "pygments_lexer": "ipython2",
   "version": "2.7.6"
  }
 },
 "nbformat": 4,
 "nbformat_minor": 0
}