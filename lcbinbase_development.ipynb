{
 "cells": [
  {
   "cell_type": "code",
   "execution_count": 1,
   "outputs": [
    {
     "name": "stdout",
     "output_type": "stream",
     "text": [
      "i am updated!\n",
      "Compile the cython code is highly recommended!\n"
     ]
    }
   ],
   "source": [
    "import numpy as np\n",
    "import pandas as pd\n",
    "import sklearn.ensemble\n",
    "from sklearn.ensemble import RandomForestClassifier, RandomForestRegressor\n",
    "from sklearn.preprocessing import StandardScaler\n",
    "import random\n",
    "import seaborn as sns\n",
    "from sklearn.linear_model import LogisticRegression\n",
    "from sklearn.model_selection import cross_val_predict, cross_validate\n",
    "from autogluon.tabular import TabularDataset, TabularPredictor\n",
    "import time\n",
    "\n",
    "import toolsets.feature_engineering as fe\n",
    "import toolsets.data_prep as data_prep\n",
    "import toolsets.auto_rt_pred as ap\n",
    "import seaborn as sns\n",
    "from tqdm import tqdm\n",
    "import toolsets.spectra_operations as so\n",
    "%load_ext autoreload\n",
    "%autoreload 2\n",
    "import toolsets.helpers as helper"
   ],
   "metadata": {
    "collapsed": false,
    "pycharm": {
     "name": "#%%\n"
    }
   }
  },
  {
   "cell_type": "markdown",
   "source": [
    "# below cell is for preprocessing"
   ],
   "metadata": {
    "collapsed": false,
    "pycharm": {
     "name": "#%% md\n"
    }
   }
  },
  {
   "cell_type": "code",
   "execution_count": 2,
   "outputs": [
    {
     "name": "stderr",
     "output_type": "stream",
     "text": [
      "100%|██████████| 2149/2149 [00:05<00:00, 359.04it/s]\n",
      "100%|██████████| 352/352 [02:24<00:00,  2.43it/s]\n",
      "100%|██████████| 350/350 [00:31<00:00, 11.10it/s]\n"
     ]
    }
   ],
   "source": [
    "data_binbase = pd.read_csv(\"/Users/fanzhoukong/Documents/GitHub/LC_binbase/bins_shen_hilic_pos_neg_nist.csv\")\n",
    "data_original = pd.read_csv(\"/Users/fanzhoukong/Documents/GitHub/LC_binbase/bins_shen_hilic_pos_neg.csv\")\n",
    "data = helper.pick_results(data_binbase, data_original,lowest_entropy_allowed = 0.5)\n",
    "data = helper.get_smiles(data)\n",
    "data = helper.get_class(data)\n",
    "data = data[~data['SMILES'].isnull()]"
   ],
   "metadata": {
    "collapsed": false,
    "pycharm": {
     "name": "#%%\n"
    }
   }
  },
  {
   "cell_type": "code",
   "execution_count": 43,
   "outputs": [],
   "source": [
    "# data = pd.read_csv(\"data/lcbinbase/pdata_hilic_5m_orbitrap_beh_pos_neg.csv\")\n"
   ],
   "metadata": {
    "collapsed": false,
    "pycharm": {
     "name": "#%%\n"
    }
   }
  },
  {
   "cell_type": "code",
   "execution_count": 4,
   "outputs": [
    {
     "name": "stdout",
     "output_type": "stream",
     "text": [
      "/opt/homebrew/Caskroom/miniforge/base/envs/tensorflow/lib/python3.9/site-packages/numpy/core/fromnumeric.py:86: RuntimeWarning: overflow encountered in reduce\n",
      "  return ufunc.reduce(obj, axis, dtype, out, **passkwargs)\n",
      "/opt/homebrew/Caskroom/miniforge/base/envs/tensorflow/lib/python3.9/site-packages/numpy/core/fromnumeric.py:86: RuntimeWarning: overflow encountered in reduce\n",
      "  return ufunc.reduce(obj, axis, dtype, out, **passkwargs)\n",
      "/opt/homebrew/Caskroom/miniforge/base/envs/tensorflow/lib/python3.9/site-packages/numpy/core/fromnumeric.py:86: RuntimeWarning: overflow encountered in reduce\n",
      "  return ufunc.reduce(obj, axis, dtype, out, **passkwargs)\n",
      "/opt/homebrew/Caskroom/miniforge/base/envs/tensorflow/lib/python3.9/site-packages/numpy/core/fromnumeric.py:86: RuntimeWarning: overflow encountered in reduce\n",
      "  return ufunc.reduce(obj, axis, dtype, out, **passkwargs)\n",
      "/opt/homebrew/Caskroom/miniforge/base/envs/tensorflow/lib/python3.9/site-packages/numpy/core/fromnumeric.py:86: RuntimeWarning: overflow encountered in reduce\n",
      "  return ufunc.reduce(obj, axis, dtype, out, **passkwargs)\n",
      "/opt/homebrew/Caskroom/miniforge/base/envs/tensorflow/lib/python3.9/site-packages/numpy/core/fromnumeric.py:86: RuntimeWarning: overflow encountered in reduce\n",
      "  return ufunc.reduce(obj, axis, dtype, out, **passkwargs)\n",
      "/opt/homebrew/Caskroom/miniforge/base/envs/tensorflow/lib/python3.9/site-packages/numpy/core/fromnumeric.py:86: RuntimeWarning: overflow encountered in reduce\n",
      "  return ufunc.reduce(obj, axis, dtype, out, **passkwargs)\n",
      "/opt/homebrew/Caskroom/miniforge/base/envs/tensorflow/lib/python3.9/site-packages/numpy/core/fromnumeric.py:86: RuntimeWarning: overflow encountered in reduce\n",
      "  return ufunc.reduce(obj, axis, dtype, out, **passkwargs)\n"
     ]
    }
   ],
   "source": [
    "start = time.time()\n",
    "descriptors_table = helper.make_descriptors(data)\n",
    "end = time.time()"
   ],
   "metadata": {
    "collapsed": false,
    "pycharm": {
     "name": "#%%\n"
    }
   }
  },
  {
   "cell_type": "code",
   "execution_count": 5,
   "outputs": [
    {
     "name": "stdout",
     "output_type": "stream",
     "text": [
      "3.6067447503407797\n"
     ]
    }
   ],
   "source": [
    "print((end-start)/60)"
   ],
   "metadata": {
    "collapsed": false,
    "pycharm": {
     "name": "#%%\n"
    }
   }
  },
  {
   "cell_type": "code",
   "execution_count": 74,
   "outputs": [],
   "source": [
    "# features_all= fe.descriptors_prep(descriptors_table)"
   ],
   "metadata": {
    "collapsed": false,
    "pycharm": {
     "name": "#%%\n"
    }
   }
  },
  {
   "cell_type": "code",
   "execution_count": 30,
   "outputs": [],
   "source": [
    "descriptors_table_complete = fe.descriptors_prep(descriptors_table, ifconcat=False)"
   ],
   "metadata": {
    "collapsed": false,
    "pycharm": {
     "name": "#%%\n"
    }
   }
  },
  {
   "cell_type": "code",
   "execution_count": 86,
   "outputs": [],
   "source": [
    "features_complete = pd.DataFrame()\n",
    "for index, row in data.iterrows():\n",
    "    # print(row['SMILES'])\n",
    "    temp = descriptors_table_complete.loc[descriptors_table_complete['SMILES'] == row['SMILES']]\n",
    "    features_complete = pd.concat([features_complete, temp], axis=0)\n",
    "    # break\n",
    "features_complete = features_complete.drop(['SMILES'], axis=1)\n",
    "features_complete.reset_index(inplace=True, drop=True)\n",
    "data.reset_index(inplace=True, drop=True)\n",
    "data_hilic = pd.concat([data['retention_time'],data['comments'],data['SMILES'],features_complete], axis=1)"
   ],
   "metadata": {
    "collapsed": false,
    "pycharm": {
     "name": "#%%\n"
    }
   }
  },
  {
   "cell_type": "code",
   "execution_count": 89,
   "outputs": [
    {
     "data": {
      "text/plain": "      retention_time                                    comments  \\\n0           9.545269  5m hilic | orbitrap | beh amide | negative   \n30         34.647135  5m hilic | orbitrap | beh amide | negative   \n54         79.434094  5m hilic | orbitrap | beh amide | negative   \n177        74.719501  5m hilic | orbitrap | beh amide | negative   \n456        14.547311  5m hilic | orbitrap | beh amide | negative   \n509        14.105863  5m hilic | orbitrap | beh amide | negative   \n574        14.454435  5m hilic | orbitrap | beh amide | negative   \n596        14.558808  5m hilic | orbitrap | beh amide | negative   \n611        29.551713  5m hilic | orbitrap | beh amide | negative   \n655        14.298367  5m hilic | orbitrap | beh amide | negative   \n694        14.427144  5m hilic | orbitrap | beh amide | negative   \n729        21.473810  5m hilic | orbitrap | beh amide | negative   \n734        14.392904  5m hilic | orbitrap | beh amide | negative   \n744        14.408232  5m hilic | orbitrap | beh amide | negative   \n749        14.324961  5m hilic | orbitrap | beh amide | negative   \n774        14.144196  5m hilic | orbitrap | beh amide | negative   \n779        14.862159  5m hilic | orbitrap | beh amide | negative   \n812        14.527564  5m hilic | orbitrap | beh amide | negative   \n850        14.485562  5m hilic | orbitrap | beh amide | negative   \n865        14.820066  5m hilic | orbitrap | beh amide | negative   \n898        14.839964  5m hilic | orbitrap | beh amide | negative   \n905        14.374187  5m hilic | orbitrap | beh amide | negative   \n934        14.350486  5m hilic | orbitrap | beh amide | negative   \n960        14.244403  5m hilic | orbitrap | beh amide | negative   \n966        14.899399  5m hilic | orbitrap | beh amide | negative   \n1062       13.800318  5m hilic | orbitrap | beh amide | negative   \n1071       14.759411  5m hilic | orbitrap | beh amide | negative   \n1080       14.631565  5m hilic | orbitrap | beh amide | negative   \n1106       15.744989  5m hilic | orbitrap | beh amide | negative   \n1126       15.327549  5m hilic | orbitrap | beh amide | negative   \n1129       15.022123  5m hilic | orbitrap | beh amide | negative   \n1138       15.536482  5m hilic | orbitrap | beh amide | negative   \n1186       16.335955  5m hilic | orbitrap | beh amide | negative   \n\n                         SMILES       ABC     ABCGG  nAcid  nBase    SpAbs_A  \\\n0     CC1=CC=C(C=C1)OS(=O)(=O)O  9.071427  8.261492      1      0  13.796637   \n30    CC1=CC=C(C=C1)OS(=O)(=O)O  9.071427  8.261492      1      0  13.796637   \n54    CC1=CC=C(C=C1)OS(=O)(=O)O  9.071427  8.261492      1      0  13.796637   \n177   CC1=CC=C(C=C1)OS(=O)(=O)O  9.071427  8.261492      1      0  13.796637   \n456   CC1=CC=C(C=C1)OS(=O)(=O)O  9.071427  8.261492      1      0  13.796637   \n509   CC1=CC=C(C=C1)OS(=O)(=O)O  9.071427  8.261492      1      0  13.796637   \n574   CC1=CC=C(C=C1)OS(=O)(=O)O  9.071427  8.261492      1      0  13.796637   \n596   CC1=CC=C(C=C1)OS(=O)(=O)O  9.071427  8.261492      1      0  13.796637   \n611   CC1=CC=C(C=C1)OS(=O)(=O)O  9.071427  8.261492      1      0  13.796637   \n655   CC1=CC=C(C=C1)OS(=O)(=O)O  9.071427  8.261492      1      0  13.796637   \n694   CC1=CC=C(C=C1)OS(=O)(=O)O  9.071427  8.261492      1      0  13.796637   \n729   CC1=CC=C(C=C1)OS(=O)(=O)O  9.071427  8.261492      1      0  13.796637   \n734   CC1=CC=C(C=C1)OS(=O)(=O)O  9.071427  8.261492      1      0  13.796637   \n744   CC1=CC=C(C=C1)OS(=O)(=O)O  9.071427  8.261492      1      0  13.796637   \n749   CC1=CC=C(C=C1)OS(=O)(=O)O  9.071427  8.261492      1      0  13.796637   \n774   CC1=CC=C(C=C1)OS(=O)(=O)O  9.071427  8.261492      1      0  13.796637   \n779   CC1=CC=C(C=C1)OS(=O)(=O)O  9.071427  8.261492      1      0  13.796637   \n812   CC1=CC=C(C=C1)OS(=O)(=O)O  9.071427  8.261492      1      0  13.796637   \n850   CC1=CC=C(C=C1)OS(=O)(=O)O  9.071427  8.261492      1      0  13.796637   \n865   CC1=CC=C(C=C1)OS(=O)(=O)O  9.071427  8.261492      1      0  13.796637   \n898   CC1=CC=C(C=C1)OS(=O)(=O)O  9.071427  8.261492      1      0  13.796637   \n905   CC1=CC=C(C=C1)OS(=O)(=O)O  9.071427  8.261492      1      0  13.796637   \n934   CC1=CC=C(C=C1)OS(=O)(=O)O  9.071427  8.261492      1      0  13.796637   \n960   CC1=CC=C(C=C1)OS(=O)(=O)O  9.071427  8.261492      1      0  13.796637   \n966   CC1=CC=C(C=C1)OS(=O)(=O)O  9.071427  8.261492      1      0  13.796637   \n1062  CC1=CC=C(C=C1)OS(=O)(=O)O  9.071427  8.261492      1      0  13.796637   \n1071  CC1=CC=C(C=C1)OS(=O)(=O)O  9.071427  8.261492      1      0  13.796637   \n1080  CC1=CC=C(C=C1)OS(=O)(=O)O  9.071427  8.261492      1      0  13.796637   \n1106  CC1=CC=C(C=C1)OS(=O)(=O)O  9.071427  8.261492      1      0  13.796637   \n1126  CC1=CC=C(C=C1)OS(=O)(=O)O  9.071427  8.261492      1      0  13.796637   \n1129  CC1=CC=C(C=C1)OS(=O)(=O)O  9.071427  8.261492      1      0  13.796637   \n1138  CC1=CC=C(C=C1)OS(=O)(=O)O  9.071427  8.261492      1      0  13.796637   \n1186  CC1=CC=C(C=C1)OS(=O)(=O)O  9.071427  8.261492      1      0  13.796637   \n\n       SpMax_A  SpDiam_A  ...     SRW10     TSRW10         MW       AMW  \\\n0     2.262442  4.524884  ...  9.089866  42.369147  188.01433  9.400716   \n30    2.262442  4.524884  ...  9.089866  42.369147  188.01433  9.400716   \n54    2.262442  4.524884  ...  9.089866  42.369147  188.01433  9.400716   \n177   2.262442  4.524884  ...  9.089866  42.369147  188.01433  9.400716   \n456   2.262442  4.524884  ...  9.089866  42.369147  188.01433  9.400716   \n509   2.262442  4.524884  ...  9.089866  42.369147  188.01433  9.400716   \n574   2.262442  4.524884  ...  9.089866  42.369147  188.01433  9.400716   \n596   2.262442  4.524884  ...  9.089866  42.369147  188.01433  9.400716   \n611   2.262442  4.524884  ...  9.089866  42.369147  188.01433  9.400716   \n655   2.262442  4.524884  ...  9.089866  42.369147  188.01433  9.400716   \n694   2.262442  4.524884  ...  9.089866  42.369147  188.01433  9.400716   \n729   2.262442  4.524884  ...  9.089866  42.369147  188.01433  9.400716   \n734   2.262442  4.524884  ...  9.089866  42.369147  188.01433  9.400716   \n744   2.262442  4.524884  ...  9.089866  42.369147  188.01433  9.400716   \n749   2.262442  4.524884  ...  9.089866  42.369147  188.01433  9.400716   \n774   2.262442  4.524884  ...  9.089866  42.369147  188.01433  9.400716   \n779   2.262442  4.524884  ...  9.089866  42.369147  188.01433  9.400716   \n812   2.262442  4.524884  ...  9.089866  42.369147  188.01433  9.400716   \n850   2.262442  4.524884  ...  9.089866  42.369147  188.01433  9.400716   \n865   2.262442  4.524884  ...  9.089866  42.369147  188.01433  9.400716   \n898   2.262442  4.524884  ...  9.089866  42.369147  188.01433  9.400716   \n905   2.262442  4.524884  ...  9.089866  42.369147  188.01433  9.400716   \n934   2.262442  4.524884  ...  9.089866  42.369147  188.01433  9.400716   \n960   2.262442  4.524884  ...  9.089866  42.369147  188.01433  9.400716   \n966   2.262442  4.524884  ...  9.089866  42.369147  188.01433  9.400716   \n1062  2.262442  4.524884  ...  9.089866  42.369147  188.01433  9.400716   \n1071  2.262442  4.524884  ...  9.089866  42.369147  188.01433  9.400716   \n1080  2.262442  4.524884  ...  9.089866  42.369147  188.01433  9.400716   \n1106  2.262442  4.524884  ...  9.089866  42.369147  188.01433  9.400716   \n1126  2.262442  4.524884  ...  9.089866  42.369147  188.01433  9.400716   \n1129  2.262442  4.524884  ...  9.089866  42.369147  188.01433  9.400716   \n1138  2.262442  4.524884  ...  9.089866  42.369147  188.01433  9.400716   \n1186  2.262442  4.524884  ...  9.089866  42.369147  188.01433  9.400716   \n\n      WPath  WPol  Zagreb1  Zagreb2  mZagreb1  mZagreb2  \n0       207    12     58.0     61.0  5.534722  2.541667  \n30      207    12     58.0     61.0  5.534722  2.541667  \n54      207    12     58.0     61.0  5.534722  2.541667  \n177     207    12     58.0     61.0  5.534722  2.541667  \n456     207    12     58.0     61.0  5.534722  2.541667  \n509     207    12     58.0     61.0  5.534722  2.541667  \n574     207    12     58.0     61.0  5.534722  2.541667  \n596     207    12     58.0     61.0  5.534722  2.541667  \n611     207    12     58.0     61.0  5.534722  2.541667  \n655     207    12     58.0     61.0  5.534722  2.541667  \n694     207    12     58.0     61.0  5.534722  2.541667  \n729     207    12     58.0     61.0  5.534722  2.541667  \n734     207    12     58.0     61.0  5.534722  2.541667  \n744     207    12     58.0     61.0  5.534722  2.541667  \n749     207    12     58.0     61.0  5.534722  2.541667  \n774     207    12     58.0     61.0  5.534722  2.541667  \n779     207    12     58.0     61.0  5.534722  2.541667  \n812     207    12     58.0     61.0  5.534722  2.541667  \n850     207    12     58.0     61.0  5.534722  2.541667  \n865     207    12     58.0     61.0  5.534722  2.541667  \n898     207    12     58.0     61.0  5.534722  2.541667  \n905     207    12     58.0     61.0  5.534722  2.541667  \n934     207    12     58.0     61.0  5.534722  2.541667  \n960     207    12     58.0     61.0  5.534722  2.541667  \n966     207    12     58.0     61.0  5.534722  2.541667  \n1062    207    12     58.0     61.0  5.534722  2.541667  \n1071    207    12     58.0     61.0  5.534722  2.541667  \n1080    207    12     58.0     61.0  5.534722  2.541667  \n1106    207    12     58.0     61.0  5.534722  2.541667  \n1126    207    12     58.0     61.0  5.534722  2.541667  \n1129    207    12     58.0     61.0  5.534722  2.541667  \n1138    207    12     58.0     61.0  5.534722  2.541667  \n1186    207    12     58.0     61.0  5.534722  2.541667  \n\n[33 rows x 1226 columns]",
      "text/html": "<div>\n<style scoped>\n    .dataframe tbody tr th:only-of-type {\n        vertical-align: middle;\n    }\n\n    .dataframe tbody tr th {\n        vertical-align: top;\n    }\n\n    .dataframe thead th {\n        text-align: right;\n    }\n</style>\n<table border=\"1\" class=\"dataframe\">\n  <thead>\n    <tr style=\"text-align: right;\">\n      <th></th>\n      <th>retention_time</th>\n      <th>comments</th>\n      <th>SMILES</th>\n      <th>ABC</th>\n      <th>ABCGG</th>\n      <th>nAcid</th>\n      <th>nBase</th>\n      <th>SpAbs_A</th>\n      <th>SpMax_A</th>\n      <th>SpDiam_A</th>\n      <th>...</th>\n      <th>SRW10</th>\n      <th>TSRW10</th>\n      <th>MW</th>\n      <th>AMW</th>\n      <th>WPath</th>\n      <th>WPol</th>\n      <th>Zagreb1</th>\n      <th>Zagreb2</th>\n      <th>mZagreb1</th>\n      <th>mZagreb2</th>\n    </tr>\n  </thead>\n  <tbody>\n    <tr>\n      <th>0</th>\n      <td>9.545269</td>\n      <td>5m hilic | orbitrap | beh amide | negative</td>\n      <td>CC1=CC=C(C=C1)OS(=O)(=O)O</td>\n      <td>9.071427</td>\n      <td>8.261492</td>\n      <td>1</td>\n      <td>0</td>\n      <td>13.796637</td>\n      <td>2.262442</td>\n      <td>4.524884</td>\n      <td>...</td>\n      <td>9.089866</td>\n      <td>42.369147</td>\n      <td>188.01433</td>\n      <td>9.400716</td>\n      <td>207</td>\n      <td>12</td>\n      <td>58.0</td>\n      <td>61.0</td>\n      <td>5.534722</td>\n      <td>2.541667</td>\n    </tr>\n    <tr>\n      <th>30</th>\n      <td>34.647135</td>\n      <td>5m hilic | orbitrap | beh amide | negative</td>\n      <td>CC1=CC=C(C=C1)OS(=O)(=O)O</td>\n      <td>9.071427</td>\n      <td>8.261492</td>\n      <td>1</td>\n      <td>0</td>\n      <td>13.796637</td>\n      <td>2.262442</td>\n      <td>4.524884</td>\n      <td>...</td>\n      <td>9.089866</td>\n      <td>42.369147</td>\n      <td>188.01433</td>\n      <td>9.400716</td>\n      <td>207</td>\n      <td>12</td>\n      <td>58.0</td>\n      <td>61.0</td>\n      <td>5.534722</td>\n      <td>2.541667</td>\n    </tr>\n    <tr>\n      <th>54</th>\n      <td>79.434094</td>\n      <td>5m hilic | orbitrap | beh amide | negative</td>\n      <td>CC1=CC=C(C=C1)OS(=O)(=O)O</td>\n      <td>9.071427</td>\n      <td>8.261492</td>\n      <td>1</td>\n      <td>0</td>\n      <td>13.796637</td>\n      <td>2.262442</td>\n      <td>4.524884</td>\n      <td>...</td>\n      <td>9.089866</td>\n      <td>42.369147</td>\n      <td>188.01433</td>\n      <td>9.400716</td>\n      <td>207</td>\n      <td>12</td>\n      <td>58.0</td>\n      <td>61.0</td>\n      <td>5.534722</td>\n      <td>2.541667</td>\n    </tr>\n    <tr>\n      <th>177</th>\n      <td>74.719501</td>\n      <td>5m hilic | orbitrap | beh amide | negative</td>\n      <td>CC1=CC=C(C=C1)OS(=O)(=O)O</td>\n      <td>9.071427</td>\n      <td>8.261492</td>\n      <td>1</td>\n      <td>0</td>\n      <td>13.796637</td>\n      <td>2.262442</td>\n      <td>4.524884</td>\n      <td>...</td>\n      <td>9.089866</td>\n      <td>42.369147</td>\n      <td>188.01433</td>\n      <td>9.400716</td>\n      <td>207</td>\n      <td>12</td>\n      <td>58.0</td>\n      <td>61.0</td>\n      <td>5.534722</td>\n      <td>2.541667</td>\n    </tr>\n    <tr>\n      <th>456</th>\n      <td>14.547311</td>\n      <td>5m hilic | orbitrap | beh amide | negative</td>\n      <td>CC1=CC=C(C=C1)OS(=O)(=O)O</td>\n      <td>9.071427</td>\n      <td>8.261492</td>\n      <td>1</td>\n      <td>0</td>\n      <td>13.796637</td>\n      <td>2.262442</td>\n      <td>4.524884</td>\n      <td>...</td>\n      <td>9.089866</td>\n      <td>42.369147</td>\n      <td>188.01433</td>\n      <td>9.400716</td>\n      <td>207</td>\n      <td>12</td>\n      <td>58.0</td>\n      <td>61.0</td>\n      <td>5.534722</td>\n      <td>2.541667</td>\n    </tr>\n    <tr>\n      <th>509</th>\n      <td>14.105863</td>\n      <td>5m hilic | orbitrap | beh amide | negative</td>\n      <td>CC1=CC=C(C=C1)OS(=O)(=O)O</td>\n      <td>9.071427</td>\n      <td>8.261492</td>\n      <td>1</td>\n      <td>0</td>\n      <td>13.796637</td>\n      <td>2.262442</td>\n      <td>4.524884</td>\n      <td>...</td>\n      <td>9.089866</td>\n      <td>42.369147</td>\n      <td>188.01433</td>\n      <td>9.400716</td>\n      <td>207</td>\n      <td>12</td>\n      <td>58.0</td>\n      <td>61.0</td>\n      <td>5.534722</td>\n      <td>2.541667</td>\n    </tr>\n    <tr>\n      <th>574</th>\n      <td>14.454435</td>\n      <td>5m hilic | orbitrap | beh amide | negative</td>\n      <td>CC1=CC=C(C=C1)OS(=O)(=O)O</td>\n      <td>9.071427</td>\n      <td>8.261492</td>\n      <td>1</td>\n      <td>0</td>\n      <td>13.796637</td>\n      <td>2.262442</td>\n      <td>4.524884</td>\n      <td>...</td>\n      <td>9.089866</td>\n      <td>42.369147</td>\n      <td>188.01433</td>\n      <td>9.400716</td>\n      <td>207</td>\n      <td>12</td>\n      <td>58.0</td>\n      <td>61.0</td>\n      <td>5.534722</td>\n      <td>2.541667</td>\n    </tr>\n    <tr>\n      <th>596</th>\n      <td>14.558808</td>\n      <td>5m hilic | orbitrap | beh amide | negative</td>\n      <td>CC1=CC=C(C=C1)OS(=O)(=O)O</td>\n      <td>9.071427</td>\n      <td>8.261492</td>\n      <td>1</td>\n      <td>0</td>\n      <td>13.796637</td>\n      <td>2.262442</td>\n      <td>4.524884</td>\n      <td>...</td>\n      <td>9.089866</td>\n      <td>42.369147</td>\n      <td>188.01433</td>\n      <td>9.400716</td>\n      <td>207</td>\n      <td>12</td>\n      <td>58.0</td>\n      <td>61.0</td>\n      <td>5.534722</td>\n      <td>2.541667</td>\n    </tr>\n    <tr>\n      <th>611</th>\n      <td>29.551713</td>\n      <td>5m hilic | orbitrap | beh amide | negative</td>\n      <td>CC1=CC=C(C=C1)OS(=O)(=O)O</td>\n      <td>9.071427</td>\n      <td>8.261492</td>\n      <td>1</td>\n      <td>0</td>\n      <td>13.796637</td>\n      <td>2.262442</td>\n      <td>4.524884</td>\n      <td>...</td>\n      <td>9.089866</td>\n      <td>42.369147</td>\n      <td>188.01433</td>\n      <td>9.400716</td>\n      <td>207</td>\n      <td>12</td>\n      <td>58.0</td>\n      <td>61.0</td>\n      <td>5.534722</td>\n      <td>2.541667</td>\n    </tr>\n    <tr>\n      <th>655</th>\n      <td>14.298367</td>\n      <td>5m hilic | orbitrap | beh amide | negative</td>\n      <td>CC1=CC=C(C=C1)OS(=O)(=O)O</td>\n      <td>9.071427</td>\n      <td>8.261492</td>\n      <td>1</td>\n      <td>0</td>\n      <td>13.796637</td>\n      <td>2.262442</td>\n      <td>4.524884</td>\n      <td>...</td>\n      <td>9.089866</td>\n      <td>42.369147</td>\n      <td>188.01433</td>\n      <td>9.400716</td>\n      <td>207</td>\n      <td>12</td>\n      <td>58.0</td>\n      <td>61.0</td>\n      <td>5.534722</td>\n      <td>2.541667</td>\n    </tr>\n    <tr>\n      <th>694</th>\n      <td>14.427144</td>\n      <td>5m hilic | orbitrap | beh amide | negative</td>\n      <td>CC1=CC=C(C=C1)OS(=O)(=O)O</td>\n      <td>9.071427</td>\n      <td>8.261492</td>\n      <td>1</td>\n      <td>0</td>\n      <td>13.796637</td>\n      <td>2.262442</td>\n      <td>4.524884</td>\n      <td>...</td>\n      <td>9.089866</td>\n      <td>42.369147</td>\n      <td>188.01433</td>\n      <td>9.400716</td>\n      <td>207</td>\n      <td>12</td>\n      <td>58.0</td>\n      <td>61.0</td>\n      <td>5.534722</td>\n      <td>2.541667</td>\n    </tr>\n    <tr>\n      <th>729</th>\n      <td>21.473810</td>\n      <td>5m hilic | orbitrap | beh amide | negative</td>\n      <td>CC1=CC=C(C=C1)OS(=O)(=O)O</td>\n      <td>9.071427</td>\n      <td>8.261492</td>\n      <td>1</td>\n      <td>0</td>\n      <td>13.796637</td>\n      <td>2.262442</td>\n      <td>4.524884</td>\n      <td>...</td>\n      <td>9.089866</td>\n      <td>42.369147</td>\n      <td>188.01433</td>\n      <td>9.400716</td>\n      <td>207</td>\n      <td>12</td>\n      <td>58.0</td>\n      <td>61.0</td>\n      <td>5.534722</td>\n      <td>2.541667</td>\n    </tr>\n    <tr>\n      <th>734</th>\n      <td>14.392904</td>\n      <td>5m hilic | orbitrap | beh amide | negative</td>\n      <td>CC1=CC=C(C=C1)OS(=O)(=O)O</td>\n      <td>9.071427</td>\n      <td>8.261492</td>\n      <td>1</td>\n      <td>0</td>\n      <td>13.796637</td>\n      <td>2.262442</td>\n      <td>4.524884</td>\n      <td>...</td>\n      <td>9.089866</td>\n      <td>42.369147</td>\n      <td>188.01433</td>\n      <td>9.400716</td>\n      <td>207</td>\n      <td>12</td>\n      <td>58.0</td>\n      <td>61.0</td>\n      <td>5.534722</td>\n      <td>2.541667</td>\n    </tr>\n    <tr>\n      <th>744</th>\n      <td>14.408232</td>\n      <td>5m hilic | orbitrap | beh amide | negative</td>\n      <td>CC1=CC=C(C=C1)OS(=O)(=O)O</td>\n      <td>9.071427</td>\n      <td>8.261492</td>\n      <td>1</td>\n      <td>0</td>\n      <td>13.796637</td>\n      <td>2.262442</td>\n      <td>4.524884</td>\n      <td>...</td>\n      <td>9.089866</td>\n      <td>42.369147</td>\n      <td>188.01433</td>\n      <td>9.400716</td>\n      <td>207</td>\n      <td>12</td>\n      <td>58.0</td>\n      <td>61.0</td>\n      <td>5.534722</td>\n      <td>2.541667</td>\n    </tr>\n    <tr>\n      <th>749</th>\n      <td>14.324961</td>\n      <td>5m hilic | orbitrap | beh amide | negative</td>\n      <td>CC1=CC=C(C=C1)OS(=O)(=O)O</td>\n      <td>9.071427</td>\n      <td>8.261492</td>\n      <td>1</td>\n      <td>0</td>\n      <td>13.796637</td>\n      <td>2.262442</td>\n      <td>4.524884</td>\n      <td>...</td>\n      <td>9.089866</td>\n      <td>42.369147</td>\n      <td>188.01433</td>\n      <td>9.400716</td>\n      <td>207</td>\n      <td>12</td>\n      <td>58.0</td>\n      <td>61.0</td>\n      <td>5.534722</td>\n      <td>2.541667</td>\n    </tr>\n    <tr>\n      <th>774</th>\n      <td>14.144196</td>\n      <td>5m hilic | orbitrap | beh amide | negative</td>\n      <td>CC1=CC=C(C=C1)OS(=O)(=O)O</td>\n      <td>9.071427</td>\n      <td>8.261492</td>\n      <td>1</td>\n      <td>0</td>\n      <td>13.796637</td>\n      <td>2.262442</td>\n      <td>4.524884</td>\n      <td>...</td>\n      <td>9.089866</td>\n      <td>42.369147</td>\n      <td>188.01433</td>\n      <td>9.400716</td>\n      <td>207</td>\n      <td>12</td>\n      <td>58.0</td>\n      <td>61.0</td>\n      <td>5.534722</td>\n      <td>2.541667</td>\n    </tr>\n    <tr>\n      <th>779</th>\n      <td>14.862159</td>\n      <td>5m hilic | orbitrap | beh amide | negative</td>\n      <td>CC1=CC=C(C=C1)OS(=O)(=O)O</td>\n      <td>9.071427</td>\n      <td>8.261492</td>\n      <td>1</td>\n      <td>0</td>\n      <td>13.796637</td>\n      <td>2.262442</td>\n      <td>4.524884</td>\n      <td>...</td>\n      <td>9.089866</td>\n      <td>42.369147</td>\n      <td>188.01433</td>\n      <td>9.400716</td>\n      <td>207</td>\n      <td>12</td>\n      <td>58.0</td>\n      <td>61.0</td>\n      <td>5.534722</td>\n      <td>2.541667</td>\n    </tr>\n    <tr>\n      <th>812</th>\n      <td>14.527564</td>\n      <td>5m hilic | orbitrap | beh amide | negative</td>\n      <td>CC1=CC=C(C=C1)OS(=O)(=O)O</td>\n      <td>9.071427</td>\n      <td>8.261492</td>\n      <td>1</td>\n      <td>0</td>\n      <td>13.796637</td>\n      <td>2.262442</td>\n      <td>4.524884</td>\n      <td>...</td>\n      <td>9.089866</td>\n      <td>42.369147</td>\n      <td>188.01433</td>\n      <td>9.400716</td>\n      <td>207</td>\n      <td>12</td>\n      <td>58.0</td>\n      <td>61.0</td>\n      <td>5.534722</td>\n      <td>2.541667</td>\n    </tr>\n    <tr>\n      <th>850</th>\n      <td>14.485562</td>\n      <td>5m hilic | orbitrap | beh amide | negative</td>\n      <td>CC1=CC=C(C=C1)OS(=O)(=O)O</td>\n      <td>9.071427</td>\n      <td>8.261492</td>\n      <td>1</td>\n      <td>0</td>\n      <td>13.796637</td>\n      <td>2.262442</td>\n      <td>4.524884</td>\n      <td>...</td>\n      <td>9.089866</td>\n      <td>42.369147</td>\n      <td>188.01433</td>\n      <td>9.400716</td>\n      <td>207</td>\n      <td>12</td>\n      <td>58.0</td>\n      <td>61.0</td>\n      <td>5.534722</td>\n      <td>2.541667</td>\n    </tr>\n    <tr>\n      <th>865</th>\n      <td>14.820066</td>\n      <td>5m hilic | orbitrap | beh amide | negative</td>\n      <td>CC1=CC=C(C=C1)OS(=O)(=O)O</td>\n      <td>9.071427</td>\n      <td>8.261492</td>\n      <td>1</td>\n      <td>0</td>\n      <td>13.796637</td>\n      <td>2.262442</td>\n      <td>4.524884</td>\n      <td>...</td>\n      <td>9.089866</td>\n      <td>42.369147</td>\n      <td>188.01433</td>\n      <td>9.400716</td>\n      <td>207</td>\n      <td>12</td>\n      <td>58.0</td>\n      <td>61.0</td>\n      <td>5.534722</td>\n      <td>2.541667</td>\n    </tr>\n    <tr>\n      <th>898</th>\n      <td>14.839964</td>\n      <td>5m hilic | orbitrap | beh amide | negative</td>\n      <td>CC1=CC=C(C=C1)OS(=O)(=O)O</td>\n      <td>9.071427</td>\n      <td>8.261492</td>\n      <td>1</td>\n      <td>0</td>\n      <td>13.796637</td>\n      <td>2.262442</td>\n      <td>4.524884</td>\n      <td>...</td>\n      <td>9.089866</td>\n      <td>42.369147</td>\n      <td>188.01433</td>\n      <td>9.400716</td>\n      <td>207</td>\n      <td>12</td>\n      <td>58.0</td>\n      <td>61.0</td>\n      <td>5.534722</td>\n      <td>2.541667</td>\n    </tr>\n    <tr>\n      <th>905</th>\n      <td>14.374187</td>\n      <td>5m hilic | orbitrap | beh amide | negative</td>\n      <td>CC1=CC=C(C=C1)OS(=O)(=O)O</td>\n      <td>9.071427</td>\n      <td>8.261492</td>\n      <td>1</td>\n      <td>0</td>\n      <td>13.796637</td>\n      <td>2.262442</td>\n      <td>4.524884</td>\n      <td>...</td>\n      <td>9.089866</td>\n      <td>42.369147</td>\n      <td>188.01433</td>\n      <td>9.400716</td>\n      <td>207</td>\n      <td>12</td>\n      <td>58.0</td>\n      <td>61.0</td>\n      <td>5.534722</td>\n      <td>2.541667</td>\n    </tr>\n    <tr>\n      <th>934</th>\n      <td>14.350486</td>\n      <td>5m hilic | orbitrap | beh amide | negative</td>\n      <td>CC1=CC=C(C=C1)OS(=O)(=O)O</td>\n      <td>9.071427</td>\n      <td>8.261492</td>\n      <td>1</td>\n      <td>0</td>\n      <td>13.796637</td>\n      <td>2.262442</td>\n      <td>4.524884</td>\n      <td>...</td>\n      <td>9.089866</td>\n      <td>42.369147</td>\n      <td>188.01433</td>\n      <td>9.400716</td>\n      <td>207</td>\n      <td>12</td>\n      <td>58.0</td>\n      <td>61.0</td>\n      <td>5.534722</td>\n      <td>2.541667</td>\n    </tr>\n    <tr>\n      <th>960</th>\n      <td>14.244403</td>\n      <td>5m hilic | orbitrap | beh amide | negative</td>\n      <td>CC1=CC=C(C=C1)OS(=O)(=O)O</td>\n      <td>9.071427</td>\n      <td>8.261492</td>\n      <td>1</td>\n      <td>0</td>\n      <td>13.796637</td>\n      <td>2.262442</td>\n      <td>4.524884</td>\n      <td>...</td>\n      <td>9.089866</td>\n      <td>42.369147</td>\n      <td>188.01433</td>\n      <td>9.400716</td>\n      <td>207</td>\n      <td>12</td>\n      <td>58.0</td>\n      <td>61.0</td>\n      <td>5.534722</td>\n      <td>2.541667</td>\n    </tr>\n    <tr>\n      <th>966</th>\n      <td>14.899399</td>\n      <td>5m hilic | orbitrap | beh amide | negative</td>\n      <td>CC1=CC=C(C=C1)OS(=O)(=O)O</td>\n      <td>9.071427</td>\n      <td>8.261492</td>\n      <td>1</td>\n      <td>0</td>\n      <td>13.796637</td>\n      <td>2.262442</td>\n      <td>4.524884</td>\n      <td>...</td>\n      <td>9.089866</td>\n      <td>42.369147</td>\n      <td>188.01433</td>\n      <td>9.400716</td>\n      <td>207</td>\n      <td>12</td>\n      <td>58.0</td>\n      <td>61.0</td>\n      <td>5.534722</td>\n      <td>2.541667</td>\n    </tr>\n    <tr>\n      <th>1062</th>\n      <td>13.800318</td>\n      <td>5m hilic | orbitrap | beh amide | negative</td>\n      <td>CC1=CC=C(C=C1)OS(=O)(=O)O</td>\n      <td>9.071427</td>\n      <td>8.261492</td>\n      <td>1</td>\n      <td>0</td>\n      <td>13.796637</td>\n      <td>2.262442</td>\n      <td>4.524884</td>\n      <td>...</td>\n      <td>9.089866</td>\n      <td>42.369147</td>\n      <td>188.01433</td>\n      <td>9.400716</td>\n      <td>207</td>\n      <td>12</td>\n      <td>58.0</td>\n      <td>61.0</td>\n      <td>5.534722</td>\n      <td>2.541667</td>\n    </tr>\n    <tr>\n      <th>1071</th>\n      <td>14.759411</td>\n      <td>5m hilic | orbitrap | beh amide | negative</td>\n      <td>CC1=CC=C(C=C1)OS(=O)(=O)O</td>\n      <td>9.071427</td>\n      <td>8.261492</td>\n      <td>1</td>\n      <td>0</td>\n      <td>13.796637</td>\n      <td>2.262442</td>\n      <td>4.524884</td>\n      <td>...</td>\n      <td>9.089866</td>\n      <td>42.369147</td>\n      <td>188.01433</td>\n      <td>9.400716</td>\n      <td>207</td>\n      <td>12</td>\n      <td>58.0</td>\n      <td>61.0</td>\n      <td>5.534722</td>\n      <td>2.541667</td>\n    </tr>\n    <tr>\n      <th>1080</th>\n      <td>14.631565</td>\n      <td>5m hilic | orbitrap | beh amide | negative</td>\n      <td>CC1=CC=C(C=C1)OS(=O)(=O)O</td>\n      <td>9.071427</td>\n      <td>8.261492</td>\n      <td>1</td>\n      <td>0</td>\n      <td>13.796637</td>\n      <td>2.262442</td>\n      <td>4.524884</td>\n      <td>...</td>\n      <td>9.089866</td>\n      <td>42.369147</td>\n      <td>188.01433</td>\n      <td>9.400716</td>\n      <td>207</td>\n      <td>12</td>\n      <td>58.0</td>\n      <td>61.0</td>\n      <td>5.534722</td>\n      <td>2.541667</td>\n    </tr>\n    <tr>\n      <th>1106</th>\n      <td>15.744989</td>\n      <td>5m hilic | orbitrap | beh amide | negative</td>\n      <td>CC1=CC=C(C=C1)OS(=O)(=O)O</td>\n      <td>9.071427</td>\n      <td>8.261492</td>\n      <td>1</td>\n      <td>0</td>\n      <td>13.796637</td>\n      <td>2.262442</td>\n      <td>4.524884</td>\n      <td>...</td>\n      <td>9.089866</td>\n      <td>42.369147</td>\n      <td>188.01433</td>\n      <td>9.400716</td>\n      <td>207</td>\n      <td>12</td>\n      <td>58.0</td>\n      <td>61.0</td>\n      <td>5.534722</td>\n      <td>2.541667</td>\n    </tr>\n    <tr>\n      <th>1126</th>\n      <td>15.327549</td>\n      <td>5m hilic | orbitrap | beh amide | negative</td>\n      <td>CC1=CC=C(C=C1)OS(=O)(=O)O</td>\n      <td>9.071427</td>\n      <td>8.261492</td>\n      <td>1</td>\n      <td>0</td>\n      <td>13.796637</td>\n      <td>2.262442</td>\n      <td>4.524884</td>\n      <td>...</td>\n      <td>9.089866</td>\n      <td>42.369147</td>\n      <td>188.01433</td>\n      <td>9.400716</td>\n      <td>207</td>\n      <td>12</td>\n      <td>58.0</td>\n      <td>61.0</td>\n      <td>5.534722</td>\n      <td>2.541667</td>\n    </tr>\n    <tr>\n      <th>1129</th>\n      <td>15.022123</td>\n      <td>5m hilic | orbitrap | beh amide | negative</td>\n      <td>CC1=CC=C(C=C1)OS(=O)(=O)O</td>\n      <td>9.071427</td>\n      <td>8.261492</td>\n      <td>1</td>\n      <td>0</td>\n      <td>13.796637</td>\n      <td>2.262442</td>\n      <td>4.524884</td>\n      <td>...</td>\n      <td>9.089866</td>\n      <td>42.369147</td>\n      <td>188.01433</td>\n      <td>9.400716</td>\n      <td>207</td>\n      <td>12</td>\n      <td>58.0</td>\n      <td>61.0</td>\n      <td>5.534722</td>\n      <td>2.541667</td>\n    </tr>\n    <tr>\n      <th>1138</th>\n      <td>15.536482</td>\n      <td>5m hilic | orbitrap | beh amide | negative</td>\n      <td>CC1=CC=C(C=C1)OS(=O)(=O)O</td>\n      <td>9.071427</td>\n      <td>8.261492</td>\n      <td>1</td>\n      <td>0</td>\n      <td>13.796637</td>\n      <td>2.262442</td>\n      <td>4.524884</td>\n      <td>...</td>\n      <td>9.089866</td>\n      <td>42.369147</td>\n      <td>188.01433</td>\n      <td>9.400716</td>\n      <td>207</td>\n      <td>12</td>\n      <td>58.0</td>\n      <td>61.0</td>\n      <td>5.534722</td>\n      <td>2.541667</td>\n    </tr>\n    <tr>\n      <th>1186</th>\n      <td>16.335955</td>\n      <td>5m hilic | orbitrap | beh amide | negative</td>\n      <td>CC1=CC=C(C=C1)OS(=O)(=O)O</td>\n      <td>9.071427</td>\n      <td>8.261492</td>\n      <td>1</td>\n      <td>0</td>\n      <td>13.796637</td>\n      <td>2.262442</td>\n      <td>4.524884</td>\n      <td>...</td>\n      <td>9.089866</td>\n      <td>42.369147</td>\n      <td>188.01433</td>\n      <td>9.400716</td>\n      <td>207</td>\n      <td>12</td>\n      <td>58.0</td>\n      <td>61.0</td>\n      <td>5.534722</td>\n      <td>2.541667</td>\n    </tr>\n  </tbody>\n</table>\n<p>33 rows × 1226 columns</p>\n</div>"
     },
     "execution_count": 89,
     "metadata": {},
     "output_type": "execute_result"
    }
   ],
   "source": [
    "data_hilic.loc[data_hilic['SMILES']=='CC1=CC=C(C=C1)OS(=O)(=O)O']"
   ],
   "metadata": {
    "collapsed": false,
    "pycharm": {
     "name": "#%%\n"
    }
   }
  },
  {
   "cell_type": "code",
   "execution_count": 90,
   "outputs": [],
   "source": [
    "# data_hilic=data_hilic[data_hilic['comments'].isin(['5m hilic | orbitrap | beh amide | negative', '5m hilic | orbitrap | beh amide | positive']) ]"
   ],
   "metadata": {
    "collapsed": false,
    "pycharm": {
     "name": "#%%\n"
    }
   }
  },
  {
   "cell_type": "code",
   "execution_count": 99,
   "outputs": [
    {
     "data": {
      "text/plain": "<AxesSubplot:xlabel='retention_time', ylabel='Count'>"
     },
     "execution_count": 99,
     "metadata": {},
     "output_type": "execute_result"
    },
    {
     "data": {
      "text/plain": "<Figure size 432x288 with 1 Axes>",
      "image/png": "[encoded data removed]"
     },
     "metadata": {},
     "output_type": "display_data"
    }
   ],
   "source": [
    "# sns.histplot(data_hilic.loc[data_hilic['SMILES']=='CC1=CC=C(C=C1)OS(=O)(=O)O']['retention_time'])"
   ],
   "metadata": {
    "collapsed": false,
    "pycharm": {
     "name": "#%%\n"
    }
   }
  },
  {
   "cell_type": "code",
   "execution_count": 161,
   "outputs": [
    {
     "data": {
      "text/plain": "<PIL.PngImagePlugin.PngImageFile image mode=RGB size=300x300>",
      "image/png": "[encoded data removed]"
     },
     "execution_count": 161,
     "metadata": {},
     "output_type": "execute_result"
    }
   ],
   "source": [
    "from rdkit import Chem\n",
    "from rdkit.Chem import Draw\n",
    "Draw.MolToImage(Chem.MolFromSmarts('CC1=CC=C(C=C1)OS(=O)(=O)O'), molsPerRow=6, subImgSize=(180, 180))"
   ],
   "metadata": {
    "collapsed": false,
    "pycharm": {
     "name": "#%%\n"
    }
   }
  },
  {
   "cell_type": "code",
   "execution_count": null,
   "outputs": [],
   "source": [
    "data_hilic['comments'].value_counts()"
   ],
   "metadata": {
    "collapsed": false,
    "pycharm": {
     "name": "#%%\n"
    }
   }
  },
  {
   "cell_type": "code",
   "execution_count": 96,
   "outputs": [
    {
     "data": {
      "text/plain": "350"
     },
     "execution_count": 96,
     "metadata": {},
     "output_type": "execute_result"
    }
   ],
   "source": [
    "len(data_hilic['SMILES'].unique())"
   ],
   "metadata": {
    "collapsed": false,
    "pycharm": {
     "name": "#%%\n"
    }
   }
  },
  {
   "cell_type": "code",
   "execution_count": 26,
   "outputs": [],
   "source": [
    "# features_complete= features_complete.drop(['SMILES'], axis = 1)"
   ],
   "metadata": {
    "collapsed": false,
    "pycharm": {
     "name": "#%%\n"
    }
   }
  },
  {
   "cell_type": "code",
   "execution_count": 117,
   "outputs": [
    {
     "name": "stderr",
     "output_type": "stream",
     "text": [
      "k-fold: 100%|██████████| 100/100 [01:17<00:00,  1.29it/s]\n",
      "k-fold: 100%|██████████| 100/100 [02:32<00:00,  1.52s/it]\n"
     ]
    }
   ],
   "source": [
    "data_hilic_confirmed = fe.mislable_exclusion(data_hilic, 'comments',features_complete.columns, 0.05)"
   ],
   "metadata": {
    "collapsed": false,
    "pycharm": {
     "name": "#%%\n"
    }
   }
  },
  {
   "cell_type": "code",
   "execution_count": 118,
   "outputs": [],
   "source": [
    "unique_smiles = data_hilic_confirmed['SMILES'].unique()\n",
    "# team1 =  set(random.sample(all_players, 6))\n",
    "# team2 = all_players - team1"
   ],
   "metadata": {
    "collapsed": false,
    "pycharm": {
     "name": "#%%\n"
    }
   }
  },
  {
   "cell_type": "code",
   "execution_count": 122,
   "outputs": [],
   "source": [
    "from sklearn.model_selection import train_test_split"
   ],
   "metadata": {
    "collapsed": false,
    "pycharm": {
     "name": "#%%\n"
    }
   }
  },
  {
   "cell_type": "code",
   "execution_count": 137,
   "outputs": [],
   "source": [
    "X1, X2 = train_test_split(unique_smiles, test_size=0.2)"
   ],
   "metadata": {
    "collapsed": false,
    "pycharm": {
     "name": "#%%\n"
    }
   }
  },
  {
   "cell_type": "code",
   "execution_count": null,
   "outputs": [],
   "source": [
    "data_hilic_confirmed"
   ],
   "metadata": {
    "collapsed": false,
    "pycharm": {
     "name": "#%%\n"
    }
   }
  },
  {
   "cell_type": "code",
   "execution_count": 145,
   "outputs": [],
   "source": [
    "data_hilic_model = pd.concat([data_hilic_confirmed['SMILES'], data_hilic_confirmed['retention_time'], data_hilic_confirmed[feature_importance.index[0:100]]], axis=1)"
   ],
   "metadata": {
    "collapsed": false,
    "pycharm": {
     "name": "#%%\n"
    }
   }
  },
  {
   "cell_type": "code",
   "execution_count": 149,
   "outputs": [],
   "source": [
    "train = data_hilic_model[data_hilic_model['SMILES'].isin(X1)]\n",
    "train = train.drop(['SMILES'], axis=1)"
   ],
   "metadata": {
    "collapsed": false,
    "pycharm": {
     "name": "#%%\n"
    }
   }
  },
  {
   "cell_type": "code",
   "execution_count": 150,
   "outputs": [],
   "source": [
    "test = data_hilic_model[~data_hilic_model['SMILES'].isin(X1)]\n",
    "test = test.drop(['SMILES'], axis=1)"
   ],
   "metadata": {
    "collapsed": false,
    "pycharm": {
     "name": "#%%\n"
    }
   }
  },
  {
   "cell_type": "code",
   "execution_count": 151,
   "outputs": [
    {
     "name": "stderr",
     "output_type": "stream",
     "text": [
      "Warning: path already exists! This predictor may overwrite an existing predictor! path=\"subset_by_compounds\"\n",
      "Beginning AutoGluon training ...\n",
      "AutoGluon will save models to \"subset_by_compounds/\"\n",
      "AutoGluon Version:  0.4.1b20220423\n",
      "Python Version:     3.9.0\n",
      "Operating System:   Darwin\n",
      "Train Data Rows:    856\n",
      "Train Data Columns: 100\n",
      "Label Column: retention_time\n",
      "Preprocessing data ...\n",
      "AutoGluon infers your prediction problem is: 'regression' (because dtype of label-column == float and many unique label-values observed).\n",
      "\tLabel info (max, min, mean, stddev): (164.40302041275078, 0.0563704715822627, 61.5696, 40.2796)\n",
      "\tIf 'regression' is not the correct problem_type, please manually specify the problem_type parameter during predictor init (You may specify problem_type as one of: ['binary', 'multiclass', 'regression'])\n",
      "Using Feature Generators to preprocess the data ...\n",
      "Fitting AutoMLPipelineFeatureGenerator...\n",
      "\tAvailable Memory:                    4891.47 MB\n",
      "\tTrain Data (Original)  Memory Usage: 0.68 MB (0.0% of available memory)\n",
      "\tInferring data type of each feature based on column values. Set feature_metadata_in to manually specify special dtypes of the features.\n",
      "\tStage 1 Generators:\n",
      "\t\tFitting AsTypeFeatureGenerator...\n",
      "\tStage 2 Generators:\n",
      "\t\tFitting FillNaFeatureGenerator...\n",
      "\tStage 3 Generators:\n",
      "\t\tFitting IdentityFeatureGenerator...\n",
      "\tStage 4 Generators:\n",
      "\t\tFitting DropUniqueFeatureGenerator...\n",
      "\tTypes of features in original data (raw dtype, special dtypes):\n",
      "\t\t('float', []) : 80 | ['AATS4i', 'Mi', 'AATS0i', 'AATSC2d', 'PEOE_VSA1', ...]\n",
      "\t\t('int', [])   : 20 | ['nBase', 'NssO', 'nHBDon', 'NsNH2', 'MPC9', ...]\n",
      "\tTypes of features in processed data (raw dtype, special dtypes):\n",
      "\t\t('float', []) : 80 | ['AATS4i', 'Mi', 'AATS0i', 'AATSC2d', 'PEOE_VSA1', ...]\n",
      "\t\t('int', [])   : 20 | ['nBase', 'NssO', 'nHBDon', 'NsNH2', 'MPC9', ...]\n",
      "\t0.0s = Fit runtime\n",
      "\t100 features in original data used to generate 100 features in processed data.\n",
      "\tTrain Data (Processed) Memory Usage: 0.68 MB (0.0% of available memory)\n",
      "Data preprocessing and feature engineering runtime = 0.06s ...\n",
      "AutoGluon will gauge predictive performance using evaluation metric: 'root_mean_squared_error'\n",
      "\tTo change this, specify the eval_metric parameter of Predictor()\n",
      "Automatically generating train/validation split with holdout_frac=0.2, Train Rows: 684, Val Rows: 172\n",
      "Fitting 11 L1 models ...\n",
      "Fitting model: KNeighborsUnif ...\n",
      "\t-24.1406\t = Validation score   (root_mean_squared_error)\n",
      "\t0.01s\t = Training   runtime\n",
      "\t0.05s\t = Validation runtime\n",
      "Fitting model: KNeighborsDist ...\n",
      "\t-18.728\t = Validation score   (root_mean_squared_error)\n",
      "\t0.02s\t = Training   runtime\n",
      "\t0.07s\t = Validation runtime\n",
      "Fitting model: LightGBMXT ...\n",
      "\t-15.3566\t = Validation score   (root_mean_squared_error)\n",
      "\t9.03s\t = Training   runtime\n",
      "\t0.01s\t = Validation runtime\n",
      "Fitting model: LightGBM ...\n",
      "\t-15.7645\t = Validation score   (root_mean_squared_error)\n",
      "\t7.87s\t = Training   runtime\n",
      "\t0.0s\t = Validation runtime\n",
      "Fitting model: RandomForestMSE ...\n",
      "\t-15.7038\t = Validation score   (root_mean_squared_error)\n",
      "\t0.47s\t = Training   runtime\n",
      "\t0.02s\t = Validation runtime\n",
      "Fitting model: CatBoost ...\n",
      "\t-15.6921\t = Validation score   (root_mean_squared_error)\n",
      "\t2.69s\t = Training   runtime\n",
      "\t0.0s\t = Validation runtime\n",
      "Fitting model: ExtraTreesMSE ...\n",
      "\t-15.6083\t = Validation score   (root_mean_squared_error)\n",
      "\t0.28s\t = Training   runtime\n",
      "\t0.02s\t = Validation runtime\n",
      "Fitting model: NeuralNetFastAI ...\n",
      "\tWarning: Exception caused NeuralNetFastAI to fail during training (ImportError)... Skipping this model.\n",
      "\t\tImport fastai failed. A quick tip is to install via `pip install fastai==2.*`. If you are using Mac OSX, please use this torch version to avoid compatibility issues: `pip install torch==1.6.0`.\n",
      "Fitting model: XGBoost ...\n",
      "\t-15.4672\t = Validation score   (root_mean_squared_error)\n",
      "\t10.74s\t = Training   runtime\n",
      "\t0.01s\t = Validation runtime\n",
      "Fitting model: NeuralNetTorch ...\n",
      "\t-13.3999\t = Validation score   (root_mean_squared_error)\n",
      "\t26.22s\t = Training   runtime\n",
      "\t0.03s\t = Validation runtime\n",
      "Fitting model: LightGBMLarge ...\n",
      "\t-15.2263\t = Validation score   (root_mean_squared_error)\n",
      "\t20.17s\t = Training   runtime\n",
      "\t0.0s\t = Validation runtime\n",
      "Fitting model: WeightedEnsemble_L2 ...\n",
      "\t-13.3999\t = Validation score   (root_mean_squared_error)\n",
      "\t0.09s\t = Training   runtime\n",
      "\t0.0s\t = Validation runtime\n",
      "AutoGluon training complete, total runtime = 78.4s ... Best model: \"WeightedEnsemble_L2\"\n",
      "TabularPredictor saved. To load, use: predictor = TabularPredictor.load(\"subset_by_compounds/\")\n",
      "Evaluation: root_mean_squared_error on test data: -21.323930985101796\n",
      "\tNote: Scores are always higher_is_better. This metric score can be multiplied by -1 to get the metric value.\n",
      "Evaluations on test data:\n",
      "{\n",
      "    \"root_mean_squared_error\": -21.323930985101796,\n",
      "    \"mean_squared_error\": -454.7100326573845,\n",
      "    \"mean_absolute_error\": -13.383183704306992,\n",
      "    \"r2\": 0.7357659035413127,\n",
      "    \"pearsonr\": 0.8586048789007501,\n",
      "    \"median_absolute_error\": -6.542015220789395\n",
      "}\n"
     ]
    },
    {
     "name": "stdout",
     "output_type": "stream",
     "text": [
      "*** Summary of fit() ***\n",
      "Estimated performance of each model:\n",
      "                  model  score_val  pred_time_val   fit_time  pred_time_val_marginal  fit_time_marginal  stack_level  can_infer  fit_order\n",
      "0        NeuralNetTorch -13.399883       0.033879  26.215434                0.033879          26.215434            1       True          9\n",
      "1   WeightedEnsemble_L2 -13.399883       0.034024  26.304160                0.000145           0.088726            2       True         11\n",
      "2         LightGBMLarge -15.226330       0.003202  20.172023                0.003202          20.172023            1       True         10\n",
      "3            LightGBMXT -15.356639       0.006837   9.031007                0.006837           9.031007            1       True          3\n",
      "4               XGBoost -15.467186       0.007888  10.741487                0.007888          10.741487            1       True          8\n",
      "5         ExtraTreesMSE -15.608342       0.019951   0.280854                0.019951           0.280854            1       True          7\n",
      "6              CatBoost -15.692147       0.001967   2.687621                0.001967           2.687621            1       True          6\n",
      "7       RandomForestMSE -15.703751       0.019622   0.472031                0.019622           0.472031            1       True          5\n",
      "8              LightGBM -15.764450       0.002887   7.871959                0.002887           7.871959            1       True          4\n",
      "9        KNeighborsDist -18.727981       0.074954   0.017282                0.074954           0.017282            1       True          2\n",
      "10       KNeighborsUnif -24.140612       0.048047   0.006552                0.048047           0.006552            1       True          1\n",
      "Number of models trained: 11\n",
      "Types of models trained:\n",
      "{'WeightedEnsembleModel', 'RFModel', 'XTModel', 'TabularNeuralNetTorchModel', 'LGBModel', 'KNNModel', 'XGBoostModel', 'CatBoostModel'}\n",
      "Bagging used: False \n",
      "Multi-layer stack-ensembling used: False \n",
      "Feature Metadata (Processed):\n",
      "(raw dtype, special dtypes):\n",
      "('float', []) : 80 | ['AATS4i', 'Mi', 'AATS0i', 'AATSC2d', 'PEOE_VSA1', ...]\n",
      "('int', [])   : 20 | ['nBase', 'NssO', 'nHBDon', 'NsNH2', 'MPC9', ...]\n",
      "*** End of fit() summary ***\n",
      "{'model_types': {'KNeighborsUnif': 'KNNModel', 'KNeighborsDist': 'KNNModel', 'LightGBMXT': 'LGBModel', 'LightGBM': 'LGBModel', 'RandomForestMSE': 'RFModel', 'CatBoost': 'CatBoostModel', 'ExtraTreesMSE': 'XTModel', 'XGBoost': 'XGBoostModel', 'NeuralNetTorch': 'TabularNeuralNetTorchModel', 'LightGBMLarge': 'LGBModel', 'WeightedEnsemble_L2': 'WeightedEnsembleModel'}, 'model_performance': {'KNeighborsUnif': -24.140612191522322, 'KNeighborsDist': -18.727981403237386, 'LightGBMXT': -15.356638614417882, 'LightGBM': -15.764450248826618, 'RandomForestMSE': -15.703750534255825, 'CatBoost': -15.692146985042248, 'ExtraTreesMSE': -15.608341751663023, 'XGBoost': -15.467185746336726, 'NeuralNetTorch': -13.399883244501067, 'LightGBMLarge': -15.226329561087574, 'WeightedEnsemble_L2': -13.399883244501067}, 'model_best': 'WeightedEnsemble_L2', 'model_paths': {'KNeighborsUnif': 'subset_by_compounds/models/KNeighborsUnif/', 'KNeighborsDist': 'subset_by_compounds/models/KNeighborsDist/', 'LightGBMXT': 'subset_by_compounds/models/LightGBMXT/', 'LightGBM': 'subset_by_compounds/models/LightGBM/', 'RandomForestMSE': 'subset_by_compounds/models/RandomForestMSE/', 'CatBoost': 'subset_by_compounds/models/CatBoost/', 'ExtraTreesMSE': 'subset_by_compounds/models/ExtraTreesMSE/', 'XGBoost': 'subset_by_compounds/models/XGBoost/', 'NeuralNetTorch': 'subset_by_compounds/models/NeuralNetTorch/', 'LightGBMLarge': 'subset_by_compounds/models/LightGBMLarge/', 'WeightedEnsemble_L2': 'subset_by_compounds/models/WeightedEnsemble_L2/'}, 'model_fit_times': {'KNeighborsUnif': 0.006551980972290039, 'KNeighborsDist': 0.01728200912475586, 'LightGBMXT': 9.031007051467896, 'LightGBM': 7.87195897102356, 'RandomForestMSE': 0.4720311164855957, 'CatBoost': 2.6876208782196045, 'ExtraTreesMSE': 0.2808539867401123, 'XGBoost': 10.741487264633179, 'NeuralNetTorch': 26.215434074401855, 'LightGBMLarge': 20.172022819519043, 'WeightedEnsemble_L2': 0.08872580528259277}, 'model_pred_times': {'KNeighborsUnif': 0.04804706573486328, 'KNeighborsDist': 0.07495403289794922, 'LightGBMXT': 0.006837129592895508, 'LightGBM': 0.0028870105743408203, 'RandomForestMSE': 0.019622087478637695, 'CatBoost': 0.001967191696166992, 'ExtraTreesMSE': 0.01995110511779785, 'XGBoost': 0.007887840270996094, 'NeuralNetTorch': 0.03387904167175293, 'LightGBMLarge': 0.0032019615173339844, 'WeightedEnsemble_L2': 0.00014472007751464844}, 'num_bag_folds': 0, 'max_stack_level': 2, 'model_hyperparams': {'KNeighborsUnif': {'weights': 'uniform'}, 'KNeighborsDist': {'weights': 'distance'}, 'LightGBMXT': {'learning_rate': 0.05, 'extra_trees': True}, 'LightGBM': {'learning_rate': 0.05}, 'RandomForestMSE': {'n_estimators': 300, 'n_jobs': -1, 'random_state': 0, 'bootstrap': True, 'criterion': 'squared_error'}, 'CatBoost': {'iterations': 10000, 'learning_rate': 0.05, 'random_seed': 0, 'allow_writing_files': False, 'eval_metric': 'RMSE'}, 'ExtraTreesMSE': {'n_estimators': 300, 'n_jobs': -1, 'random_state': 0, 'bootstrap': True, 'criterion': 'squared_error'}, 'XGBoost': {'n_estimators': 10000, 'learning_rate': 0.1, 'n_jobs': -1, 'proc.max_category_levels': 100, 'objective': 'reg:squarederror', 'booster': 'gbtree'}, 'NeuralNetTorch': {'num_epochs': 500, 'epochs_wo_improve': 20, 'activation': 'relu', 'embedding_size_factor': 1.0, 'embed_exponent': 0.56, 'max_embedding_dim': 100, 'y_range': None, 'y_range_extend': 0.05, 'dropout_prob': 0.1, 'optimizer': 'adam', 'learning_rate': 0.0003, 'weight_decay': 1e-06, 'proc.embed_min_categories': 4, 'proc.impute_strategy': 'median', 'proc.max_category_levels': 100, 'proc.skew_threshold': 0.99, 'use_ngram_features': False, 'num_layers': 4, 'hidden_size': 128, 'max_batch_size': 512, 'use_batchnorm': False, 'loss_function': 'auto'}, 'LightGBMLarge': {'learning_rate': 0.03, 'num_leaves': 128, 'feature_fraction': 0.9, 'min_data_in_leaf': 5}, 'WeightedEnsemble_L2': {'use_orig_features': False, 'max_base_models': 25, 'max_base_models_per_type': 5, 'save_bag_folds': True}}, 'leaderboard':                   model  score_val  pred_time_val   fit_time  \\\n",
      "0        NeuralNetTorch -13.399883       0.033879  26.215434   \n",
      "1   WeightedEnsemble_L2 -13.399883       0.034024  26.304160   \n",
      "2         LightGBMLarge -15.226330       0.003202  20.172023   \n",
      "3            LightGBMXT -15.356639       0.006837   9.031007   \n",
      "4               XGBoost -15.467186       0.007888  10.741487   \n",
      "5         ExtraTreesMSE -15.608342       0.019951   0.280854   \n",
      "6              CatBoost -15.692147       0.001967   2.687621   \n",
      "7       RandomForestMSE -15.703751       0.019622   0.472031   \n",
      "8              LightGBM -15.764450       0.002887   7.871959   \n",
      "9        KNeighborsDist -18.727981       0.074954   0.017282   \n",
      "10       KNeighborsUnif -24.140612       0.048047   0.006552   \n",
      "\n",
      "    pred_time_val_marginal  fit_time_marginal  stack_level  can_infer  \\\n",
      "0                 0.033879          26.215434            1       True   \n",
      "1                 0.000145           0.088726            2       True   \n",
      "2                 0.003202          20.172023            1       True   \n",
      "3                 0.006837           9.031007            1       True   \n",
      "4                 0.007888          10.741487            1       True   \n",
      "5                 0.019951           0.280854            1       True   \n",
      "6                 0.001967           2.687621            1       True   \n",
      "7                 0.019622           0.472031            1       True   \n",
      "8                 0.002887           7.871959            1       True   \n",
      "9                 0.074954           0.017282            1       True   \n",
      "10                0.048047           0.006552            1       True   \n",
      "\n",
      "    fit_order  \n",
      "0           9  \n",
      "1          11  \n",
      "2          10  \n",
      "3           3  \n",
      "4           8  \n",
      "5           7  \n",
      "6           6  \n",
      "7           5  \n",
      "8           4  \n",
      "9           2  \n",
      "10          1  }\n",
      "{'root_mean_squared_error': -21.323930985101796, 'mean_squared_error': -454.7100326573845, 'mean_absolute_error': -13.383183704306992, 'r2': 0.7357659035413127, 'pearsonr': 0.8586048789007501, 'median_absolute_error': -6.542015220789395}\n"
     ]
    },
    {
     "data": {
      "text/plain": "<autogluon.tabular.predictor.predictor.TabularPredictor at 0x2e599e9a0>"
     },
     "execution_count": 151,
     "metadata": {},
     "output_type": "execute_result"
    }
   ],
   "source": [
    "ap.autogluon_fit_train_test(train,test, \"subset_by_compounds\")"
   ],
   "metadata": {
    "collapsed": false,
    "pycharm": {
     "name": "#%%\n"
    }
   }
  },
  {
   "cell_type": "code",
   "execution_count": 140,
   "outputs": [
    {
     "data": {
      "text/plain": "262"
     },
     "execution_count": 140,
     "metadata": {},
     "output_type": "execute_result"
    }
   ],
   "source": [
    "len(train['SMILES'].unique())"
   ],
   "metadata": {
    "collapsed": false,
    "pycharm": {
     "name": "#%%\n"
    }
   }
  },
  {
   "cell_type": "code",
   "execution_count": 141,
   "outputs": [
    {
     "data": {
      "text/plain": "66"
     },
     "execution_count": 141,
     "metadata": {},
     "output_type": "execute_result"
    }
   ],
   "source": [
    "len(test['SMILES'].unique())"
   ],
   "metadata": {
    "collapsed": false,
    "pycharm": {
     "name": "#%%\n"
    }
   }
  },
  {
   "cell_type": "code",
   "execution_count": null,
   "outputs": [],
   "source": [
    "data_hilic_confirmed.unique()"
   ],
   "metadata": {
    "collapsed": false,
    "pycharm": {
     "name": "#%%\n"
    }
   }
  },
  {
   "cell_type": "code",
   "execution_count": 160,
   "outputs": [
    {
     "data": {
      "text/plain": "         score             notes instrument_type  \\\n0     0.933503  04ef4c23cf5c0c60        orbitrap   \n30    0.932428  04ef4c23cf5c0c60        orbitrap   \n54    0.934037  04ef4c23cf5c0c60        orbitrap   \n177   0.934291  04ef4c23cf5c0c60        orbitrap   \n456   0.932785  04ef4c23cf5c0c60        orbitrap   \n509   0.933005  04ef4c23cf5c0c60        orbitrap   \n574   0.932851  04ef4c23cf5c0c60        orbitrap   \n596   0.933147  04ef4c23cf5c0c60        orbitrap   \n611   0.932969  04ef4c23cf5c0c60        orbitrap   \n655   0.932845  04ef4c23cf5c0c60        orbitrap   \n694   0.932770  04ef4c23cf5c0c60        orbitrap   \n729   0.933076  04ef4c23cf5c0c60        orbitrap   \n734   0.933044  04ef4c23cf5c0c60        orbitrap   \n744   0.932638  04ef4c23cf5c0c60        orbitrap   \n749   0.932820  04ef4c23cf5c0c60        orbitrap   \n774   0.932993  04ef4c23cf5c0c60        orbitrap   \n779   0.933130  04ef4c23cf5c0c60        orbitrap   \n812   0.932967  04ef4c23cf5c0c60        orbitrap   \n850   0.932859  04ef4c23cf5c0c60        orbitrap   \n865   0.932990  04ef4c23cf5c0c60        orbitrap   \n898   0.933020  04ef4c23cf5c0c60        orbitrap   \n905   0.932881  04ef4c23cf5c0c60        orbitrap   \n934   0.932999  04ef4c23cf5c0c60        orbitrap   \n960   0.932796  04ef4c23cf5c0c60        orbitrap   \n966   0.896968  04ef4c23cf5c0c60        orbitrap   \n1062  0.932961  04ef4c23cf5c0c60        orbitrap   \n1071  0.933004  04ef4c23cf5c0c60        orbitrap   \n1080  0.932859  04ef4c23cf5c0c60        orbitrap   \n1106  0.896929  04ef4c23cf5c0c60        orbitrap   \n1126  0.896258  04ef4c23cf5c0c60        orbitrap   \n1129  0.896708  04ef4c23cf5c0c60        orbitrap   \n1138  0.896339  04ef4c23cf5c0c60        orbitrap   \n1186  0.896237  04ef4c23cf5c0c60        orbitrap   \n\n                                        comments  \\\n0     5m hilic | orbitrap | beh amide | negative   \n30    5m hilic | orbitrap | beh amide | negative   \n54    5m hilic | orbitrap | beh amide | negative   \n177   5m hilic | orbitrap | beh amide | negative   \n456   5m hilic | orbitrap | beh amide | negative   \n509   5m hilic | orbitrap | beh amide | negative   \n574   5m hilic | orbitrap | beh amide | negative   \n596   5m hilic | orbitrap | beh amide | negative   \n611   5m hilic | orbitrap | beh amide | negative   \n655   5m hilic | orbitrap | beh amide | negative   \n694   5m hilic | orbitrap | beh amide | negative   \n729   5m hilic | orbitrap | beh amide | negative   \n734   5m hilic | orbitrap | beh amide | negative   \n744   5m hilic | orbitrap | beh amide | negative   \n749   5m hilic | orbitrap | beh amide | negative   \n774   5m hilic | orbitrap | beh amide | negative   \n779   5m hilic | orbitrap | beh amide | negative   \n812   5m hilic | orbitrap | beh amide | negative   \n850   5m hilic | orbitrap | beh amide | negative   \n865   5m hilic | orbitrap | beh amide | negative   \n898   5m hilic | orbitrap | beh amide | negative   \n905   5m hilic | orbitrap | beh amide | negative   \n934   5m hilic | orbitrap | beh amide | negative   \n960   5m hilic | orbitrap | beh amide | negative   \n966   5m hilic | orbitrap | beh amide | negative   \n1062  5m hilic | orbitrap | beh amide | negative   \n1071  5m hilic | orbitrap | beh amide | negative   \n1080  5m hilic | orbitrap | beh amide | negative   \n1106  5m hilic | orbitrap | beh amide | negative   \n1126  5m hilic | orbitrap | beh amide | negative   \n1129  5m hilic | orbitrap | beh amide | negative   \n1138  5m hilic | orbitrap | beh amide | negative   \n1186  5m hilic | orbitrap | beh amide | negative   \n\n                                             splash  precursormz  \\\n0     splash10-0a4i-2900000000-e2d4228d01eb088edb4c   187.006927   \n30    splash10-0a4i-1900000000-aeebd4cee644bd147192   187.006866   \n54    splash10-0a4i-2910000000-ac641457b7f3075f4ca1   187.006927   \n177   splash10-0a4i-2910000000-18c1d343e27d24d1c6a7   187.006882   \n456   splash10-0a4i-1900000000-1c9fd20dfbcd8728612a   187.006864   \n509   splash10-0a4i-1910000000-ffe04d0521840fd1223f   187.006784   \n574   splash10-0a4i-1900000000-4dce8a6c5dcc87c01aa3   187.006842   \n596   splash10-0a4i-2910000000-a3f765faa32975203647   187.006780   \n611   splash10-0a4i-1900000000-758349a6f2f269950d15   187.006783   \n655   splash10-0a4i-1910000000-312f4f8aba73f9e6cf12   187.006812   \n694   splash10-0a4i-1900000000-89b0de61e7a780309833   187.006827   \n729   splash10-0a4i-2910000000-5946f61d3bf8fd1800a6   187.006847   \n734   splash10-0a4i-1900000000-55576dc8645a9d87fb0c   187.006813   \n744   splash10-0a4i-2900000000-acc2d4d5150763aa31b6   187.006853   \n749   splash10-0a4i-2900000000-dcc03a09bf304ea038dc   187.006848   \n774   splash10-0a4i-2910000000-995aff764f70a95de800   187.006810   \n779   splash10-0a4i-2910000000-3683473b021f54983f89   187.006606   \n812   splash10-0a4i-1900000000-a142d38df79d8c655fea   187.006875   \n850   splash10-0a4i-1900000000-b872f88f909515945229   187.006826   \n865   splash10-0a4i-1900000000-6aaf11a4117d7ff205e6   187.006578   \n898   splash10-0a4i-2910000000-07a746e52f97355a1bb0   187.006605   \n905   splash10-0a4i-2900000000-3124b34e77bbd696d633   187.006866   \n934   splash10-0a4i-1900000000-0f8627229673edd3d4a7   187.006862   \n960   splash10-0a4i-1900000000-db61317a0616ba5fd352   187.006820   \n966   splash10-0a4i-2900000000-7e8ae810e8bcbeb6d074   187.006424   \n1062  splash10-0a4i-1910000000-462fa0cb4421da3eb05a   187.006846   \n1071  splash10-0a4i-1900000000-9ce47d5c59a9a78260ed   187.006671   \n1080  splash10-0a4i-2900000000-15d776764e5d09e2ec63   187.006788   \n1106  splash10-0a4i-1900000000-18b34700c03e35acacc7   187.006235   \n1126  splash10-0a4i-2910000000-95f24c35c2ca87ae8b4d   187.006224   \n1129  splash10-0a4i-1900000000-68c10928deae7fa92a6a   187.006322   \n1138  splash10-0a4i-1900000000-be4da04d3d03f8d6f3cd   187.006235   \n1186  splash10-0a4i-1900000000-ed20e68ff3c8732ccae9   187.006275   \n\n      normalized_entropy                library_inchi library_adduct  \\\n0               0.585092  WGNAKZGUSRVWRH-UHFFFAOYSA-N         [M-H]-   \n30              0.565701  WGNAKZGUSRVWRH-UHFFFAOYSA-N         [M-H]-   \n54              0.591873  WGNAKZGUSRVWRH-UHFFFAOYSA-N         [M-H]-   \n177             0.592024  WGNAKZGUSRVWRH-UHFFFAOYSA-N         [M-H]-   \n456             0.570274  WGNAKZGUSRVWRH-UHFFFAOYSA-N         [M-H]-   \n509             0.573083  WGNAKZGUSRVWRH-UHFFFAOYSA-N         [M-H]-   \n574             0.572360  WGNAKZGUSRVWRH-UHFFFAOYSA-N         [M-H]-   \n596             0.573399  WGNAKZGUSRVWRH-UHFFFAOYSA-N         [M-H]-   \n611             0.577678  WGNAKZGUSRVWRH-UHFFFAOYSA-N         [M-H]-   \n655             0.571618  WGNAKZGUSRVWRH-UHFFFAOYSA-N         [M-H]-   \n694             0.571580  WGNAKZGUSRVWRH-UHFFFAOYSA-N         [M-H]-   \n729             0.577388  WGNAKZGUSRVWRH-UHFFFAOYSA-N         [M-H]-   \n734             0.575040  WGNAKZGUSRVWRH-UHFFFAOYSA-N         [M-H]-   \n744             0.570117  WGNAKZGUSRVWRH-UHFFFAOYSA-N         [M-H]-   \n749             0.571577  WGNAKZGUSRVWRH-UHFFFAOYSA-N         [M-H]-   \n774             0.573290  WGNAKZGUSRVWRH-UHFFFAOYSA-N         [M-H]-   \n779             0.575674  WGNAKZGUSRVWRH-UHFFFAOYSA-N         [M-H]-   \n812             0.576205  WGNAKZGUSRVWRH-UHFFFAOYSA-N         [M-H]-   \n850             0.572828  WGNAKZGUSRVWRH-UHFFFAOYSA-N         [M-H]-   \n865             0.578168  WGNAKZGUSRVWRH-UHFFFAOYSA-N         [M-H]-   \n898             0.578110  WGNAKZGUSRVWRH-UHFFFAOYSA-N         [M-H]-   \n905             0.571544  WGNAKZGUSRVWRH-UHFFFAOYSA-N         [M-H]-   \n934             0.575076  WGNAKZGUSRVWRH-UHFFFAOYSA-N         [M-H]-   \n960             0.572677  WGNAKZGUSRVWRH-UHFFFAOYSA-N         [M-H]-   \n966             0.487599  WGNAKZGUSRVWRH-UHFFFAOYSA-N         [M-H]-   \n1062            0.574382  WGNAKZGUSRVWRH-UHFFFAOYSA-N         [M-H]-   \n1071            0.576343  WGNAKZGUSRVWRH-UHFFFAOYSA-N         [M-H]-   \n1080            0.573584  WGNAKZGUSRVWRH-UHFFFAOYSA-N         [M-H]-   \n1106            0.486369  WGNAKZGUSRVWRH-UHFFFAOYSA-N         [M-H]-   \n1126            0.486380  WGNAKZGUSRVWRH-UHFFFAOYSA-N         [M-H]-   \n1129            0.487613  WGNAKZGUSRVWRH-UHFFFAOYSA-N         [M-H]-   \n1138            0.487846  WGNAKZGUSRVWRH-UHFFFAOYSA-N         [M-H]-   \n1186            0.485480  WGNAKZGUSRVWRH-UHFFFAOYSA-N         [M-H]-   \n\n      retention_time   entropy  \\\n0           9.545269  0.642789   \n30         34.647135  0.621487   \n54         79.434094  0.650239   \n177        74.719501  0.650404   \n456        14.547311  0.626510   \n509        14.105863  0.629596   \n574        14.454435  0.628802   \n596        14.558808  0.629944   \n611        29.551713  0.634644   \n655        14.298367  0.627986   \n694        14.427144  0.627945   \n729        21.473810  0.634325   \n734        14.392904  0.631746   \n744        14.408232  0.626337   \n749        14.324961  0.627941   \n774        14.144196  0.629823   \n779        14.862159  0.632443   \n812        14.527564  0.633026   \n850        14.485562  0.629316   \n865        14.820066  0.635182   \n898        14.839964  0.635119   \n905        14.374187  0.627905   \n934        14.350486  0.631785   \n960        14.244403  0.629150   \n966        14.899399  0.675955   \n1062       13.800318  0.631023   \n1071       14.759411  0.633177   \n1080       14.631565  0.630147   \n1106       15.744989  0.674250   \n1126       15.327549  0.674266   \n1129       15.022123  0.675975   \n1138       15.536482  0.676298   \n1186       16.335955  0.673019   \n\n                                                   msms  \\\n0     48.0717\\t450267.34\\n51.3891\\t393197.50\\n75.133...   \n30    55.1675\\t330214.91\\n67.8168\\t299470.78\\n79.957...   \n54    43.4719\\t658597.44\\n55.5859\\t641756.81\\n56.126...   \n177   52.2323\\t588410.38\\n79.0183\\t417944.53\\n79.951...   \n456   43.3349\\t486107.50\\n43.6135\\t447452.19\\n46.735...   \n509   42.3112\\t517835.06\\n43.1106\\t520013.22\\n43.433...   \n574   42.5661\\t144546.91\\n43.6628\\t202596.81\\n44.310...   \n596   42.8277\\t194166.72\\n43.2109\\t299930.00\\n44.472...   \n611   42.5099\\t52389.02\\n42.6955\\t173123.20\\n43.6369...   \n655   42.6404\\t441127.31\\n42.9252\\t283932.63\\n43.235...   \n694   42.3321\\t296753.59\\n42.4027\\t192059.70\\n42.634...   \n729   42.6003\\t972.04\\n43.2889\\t993.05\\n44.9669\\t991...   \n734   42.5137\\t219706.30\\n43.0733\\t488615.97\\n43.247...   \n744   42.2686\\t321852.53\\n42.3307\\t369937.59\\n42.639...   \n749   42.7865\\t300881.88\\n42.8180\\t388626.22\\n42.935...   \n774   42.2882\\t329515.53\\n42.8786\\t761522.13\\n43.108...   \n779   42.3076\\t446533.28\\n42.5120\\t414399.97\\n43.144...   \n812   42.4628\\t163570.25\\n42.8595\\t440898.81\\n42.953...   \n850   42.6184\\t29744.84\\n42.7260\\t595768.75\\n42.8460...   \n865   42.2716\\t698522.69\\n42.5871\\t762814.19\\n42.809...   \n898   42.7443\\t122982.29\\n42.7988\\t359712.13\\n43.568...   \n905   42.8391\\t46870.79\\n43.1129\\t965868.56\\n43.1607...   \n934   42.2878\\t518867.81\\n42.3361\\t593057.44\\n42.349...   \n960   42.2755\\t222213.86\\n42.3233\\t287170.81\\n42.775...   \n966   42.6068\\t547416.31\\n43.2782\\t254929.47\\n43.343...   \n1062  42.2701\\t687704.06\\n42.2844\\t394490.19\\n42.521...   \n1071  42.2615\\t524422.38\\n42.4044\\t457469.47\\n42.468...   \n1080  42.3353\\t533955.81\\n42.5032\\t549083.50\\n42.557...   \n1106  42.3127\\t621911.19\\n42.3470\\t631112.13\\n42.385...   \n1126  42.3135\\t317604.00\\n42.8639\\t627813.75\\n43.017...   \n1129  42.2557\\t713661.00\\n42.5546\\t585557.13\\n42.659...   \n1138  42.2716\\t556660.88\\n42.3720\\t437661.44\\n42.816...   \n1186  42.9833\\t570813.50\\n43.0856\\t589063.13\\n43.146...   \n\n                         SMILES                        classes  \n0     CC1=CC=C(C=C1)OS(=O)(=O)O  Organic acids and derivatives  \n30    CC1=CC=C(C=C1)OS(=O)(=O)O  Organic acids and derivatives  \n54    CC1=CC=C(C=C1)OS(=O)(=O)O  Organic acids and derivatives  \n177   CC1=CC=C(C=C1)OS(=O)(=O)O  Organic acids and derivatives  \n456   CC1=CC=C(C=C1)OS(=O)(=O)O  Organic acids and derivatives  \n509   CC1=CC=C(C=C1)OS(=O)(=O)O  Organic acids and derivatives  \n574   CC1=CC=C(C=C1)OS(=O)(=O)O  Organic acids and derivatives  \n596   CC1=CC=C(C=C1)OS(=O)(=O)O  Organic acids and derivatives  \n611   CC1=CC=C(C=C1)OS(=O)(=O)O  Organic acids and derivatives  \n655   CC1=CC=C(C=C1)OS(=O)(=O)O  Organic acids and derivatives  \n694   CC1=CC=C(C=C1)OS(=O)(=O)O  Organic acids and derivatives  \n729   CC1=CC=C(C=C1)OS(=O)(=O)O  Organic acids and derivatives  \n734   CC1=CC=C(C=C1)OS(=O)(=O)O  Organic acids and derivatives  \n744   CC1=CC=C(C=C1)OS(=O)(=O)O  Organic acids and derivatives  \n749   CC1=CC=C(C=C1)OS(=O)(=O)O  Organic acids and derivatives  \n774   CC1=CC=C(C=C1)OS(=O)(=O)O  Organic acids and derivatives  \n779   CC1=CC=C(C=C1)OS(=O)(=O)O  Organic acids and derivatives  \n812   CC1=CC=C(C=C1)OS(=O)(=O)O  Organic acids and derivatives  \n850   CC1=CC=C(C=C1)OS(=O)(=O)O  Organic acids and derivatives  \n865   CC1=CC=C(C=C1)OS(=O)(=O)O  Organic acids and derivatives  \n898   CC1=CC=C(C=C1)OS(=O)(=O)O  Organic acids and derivatives  \n905   CC1=CC=C(C=C1)OS(=O)(=O)O  Organic acids and derivatives  \n934   CC1=CC=C(C=C1)OS(=O)(=O)O  Organic acids and derivatives  \n960   CC1=CC=C(C=C1)OS(=O)(=O)O  Organic acids and derivatives  \n966   CC1=CC=C(C=C1)OS(=O)(=O)O  Organic acids and derivatives  \n1062  CC1=CC=C(C=C1)OS(=O)(=O)O  Organic acids and derivatives  \n1071  CC1=CC=C(C=C1)OS(=O)(=O)O  Organic acids and derivatives  \n1080  CC1=CC=C(C=C1)OS(=O)(=O)O  Organic acids and derivatives  \n1106  CC1=CC=C(C=C1)OS(=O)(=O)O  Organic acids and derivatives  \n1126  CC1=CC=C(C=C1)OS(=O)(=O)O  Organic acids and derivatives  \n1129  CC1=CC=C(C=C1)OS(=O)(=O)O  Organic acids and derivatives  \n1138  CC1=CC=C(C=C1)OS(=O)(=O)O  Organic acids and derivatives  \n1186  CC1=CC=C(C=C1)OS(=O)(=O)O  Organic acids and derivatives  ",
      "text/html": "<div>\n<style scoped>\n    .dataframe tbody tr th:only-of-type {\n        vertical-align: middle;\n    }\n\n    .dataframe tbody tr th {\n        vertical-align: top;\n    }\n\n    .dataframe thead th {\n        text-align: right;\n    }\n</style>\n<table border=\"1\" class=\"dataframe\">\n  <thead>\n    <tr style=\"text-align: right;\">\n      <th></th>\n      <th>score</th>\n      <th>notes</th>\n      <th>instrument_type</th>\n      <th>comments</th>\n      <th>splash</th>\n      <th>precursormz</th>\n      <th>normalized_entropy</th>\n      <th>library_inchi</th>\n      <th>library_adduct</th>\n      <th>retention_time</th>\n      <th>entropy</th>\n      <th>msms</th>\n      <th>SMILES</th>\n      <th>classes</th>\n    </tr>\n  </thead>\n  <tbody>\n    <tr>\n      <th>0</th>\n      <td>0.933503</td>\n      <td>04ef4c23cf5c0c60</td>\n      <td>orbitrap</td>\n      <td>5m hilic | orbitrap | beh amide | negative</td>\n      <td>splash10-0a4i-2900000000-e2d4228d01eb088edb4c</td>\n      <td>187.006927</td>\n      <td>0.585092</td>\n      <td>WGNAKZGUSRVWRH-UHFFFAOYSA-N</td>\n      <td>[M-H]-</td>\n      <td>9.545269</td>\n      <td>0.642789</td>\n      <td>48.0717\\t450267.34\\n51.3891\\t393197.50\\n75.133...</td>\n      <td>CC1=CC=C(C=C1)OS(=O)(=O)O</td>\n      <td>Organic acids and derivatives</td>\n    </tr>\n    <tr>\n      <th>30</th>\n      <td>0.932428</td>\n      <td>04ef4c23cf5c0c60</td>\n      <td>orbitrap</td>\n      <td>5m hilic | orbitrap | beh amide | negative</td>\n      <td>splash10-0a4i-1900000000-aeebd4cee644bd147192</td>\n      <td>187.006866</td>\n      <td>0.565701</td>\n      <td>WGNAKZGUSRVWRH-UHFFFAOYSA-N</td>\n      <td>[M-H]-</td>\n      <td>34.647135</td>\n      <td>0.621487</td>\n      <td>55.1675\\t330214.91\\n67.8168\\t299470.78\\n79.957...</td>\n      <td>CC1=CC=C(C=C1)OS(=O)(=O)O</td>\n      <td>Organic acids and derivatives</td>\n    </tr>\n    <tr>\n      <th>54</th>\n      <td>0.934037</td>\n      <td>04ef4c23cf5c0c60</td>\n      <td>orbitrap</td>\n      <td>5m hilic | orbitrap | beh amide | negative</td>\n      <td>splash10-0a4i-2910000000-ac641457b7f3075f4ca1</td>\n      <td>187.006927</td>\n      <td>0.591873</td>\n      <td>WGNAKZGUSRVWRH-UHFFFAOYSA-N</td>\n      <td>[M-H]-</td>\n      <td>79.434094</td>\n      <td>0.650239</td>\n      <td>43.4719\\t658597.44\\n55.5859\\t641756.81\\n56.126...</td>\n      <td>CC1=CC=C(C=C1)OS(=O)(=O)O</td>\n      <td>Organic acids and derivatives</td>\n    </tr>\n    <tr>\n      <th>177</th>\n      <td>0.934291</td>\n      <td>04ef4c23cf5c0c60</td>\n      <td>orbitrap</td>\n      <td>5m hilic | orbitrap | beh amide | negative</td>\n      <td>splash10-0a4i-2910000000-18c1d343e27d24d1c6a7</td>\n      <td>187.006882</td>\n      <td>0.592024</td>\n      <td>WGNAKZGUSRVWRH-UHFFFAOYSA-N</td>\n      <td>[M-H]-</td>\n      <td>74.719501</td>\n      <td>0.650404</td>\n      <td>52.2323\\t588410.38\\n79.0183\\t417944.53\\n79.951...</td>\n      <td>CC1=CC=C(C=C1)OS(=O)(=O)O</td>\n      <td>Organic acids and derivatives</td>\n    </tr>\n    <tr>\n      <th>456</th>\n      <td>0.932785</td>\n      <td>04ef4c23cf5c0c60</td>\n      <td>orbitrap</td>\n      <td>5m hilic | orbitrap | beh amide | negative</td>\n      <td>splash10-0a4i-1900000000-1c9fd20dfbcd8728612a</td>\n      <td>187.006864</td>\n      <td>0.570274</td>\n      <td>WGNAKZGUSRVWRH-UHFFFAOYSA-N</td>\n      <td>[M-H]-</td>\n      <td>14.547311</td>\n      <td>0.626510</td>\n      <td>43.3349\\t486107.50\\n43.6135\\t447452.19\\n46.735...</td>\n      <td>CC1=CC=C(C=C1)OS(=O)(=O)O</td>\n      <td>Organic acids and derivatives</td>\n    </tr>\n    <tr>\n      <th>509</th>\n      <td>0.933005</td>\n      <td>04ef4c23cf5c0c60</td>\n      <td>orbitrap</td>\n      <td>5m hilic | orbitrap | beh amide | negative</td>\n      <td>splash10-0a4i-1910000000-ffe04d0521840fd1223f</td>\n      <td>187.006784</td>\n      <td>0.573083</td>\n      <td>WGNAKZGUSRVWRH-UHFFFAOYSA-N</td>\n      <td>[M-H]-</td>\n      <td>14.105863</td>\n      <td>0.629596</td>\n      <td>42.3112\\t517835.06\\n43.1106\\t520013.22\\n43.433...</td>\n      <td>CC1=CC=C(C=C1)OS(=O)(=O)O</td>\n      <td>Organic acids and derivatives</td>\n    </tr>\n    <tr>\n      <th>574</th>\n      <td>0.932851</td>\n      <td>04ef4c23cf5c0c60</td>\n      <td>orbitrap</td>\n      <td>5m hilic | orbitrap | beh amide | negative</td>\n      <td>splash10-0a4i-1900000000-4dce8a6c5dcc87c01aa3</td>\n      <td>187.006842</td>\n      <td>0.572360</td>\n      <td>WGNAKZGUSRVWRH-UHFFFAOYSA-N</td>\n      <td>[M-H]-</td>\n      <td>14.454435</td>\n      <td>0.628802</td>\n      <td>42.5661\\t144546.91\\n43.6628\\t202596.81\\n44.310...</td>\n      <td>CC1=CC=C(C=C1)OS(=O)(=O)O</td>\n      <td>Organic acids and derivatives</td>\n    </tr>\n    <tr>\n      <th>596</th>\n      <td>0.933147</td>\n      <td>04ef4c23cf5c0c60</td>\n      <td>orbitrap</td>\n      <td>5m hilic | orbitrap | beh amide | negative</td>\n      <td>splash10-0a4i-2910000000-a3f765faa32975203647</td>\n      <td>187.006780</td>\n      <td>0.573399</td>\n      <td>WGNAKZGUSRVWRH-UHFFFAOYSA-N</td>\n      <td>[M-H]-</td>\n      <td>14.558808</td>\n      <td>0.629944</td>\n      <td>42.8277\\t194166.72\\n43.2109\\t299930.00\\n44.472...</td>\n      <td>CC1=CC=C(C=C1)OS(=O)(=O)O</td>\n      <td>Organic acids and derivatives</td>\n    </tr>\n    <tr>\n      <th>611</th>\n      <td>0.932969</td>\n      <td>04ef4c23cf5c0c60</td>\n      <td>orbitrap</td>\n      <td>5m hilic | orbitrap | beh amide | negative</td>\n      <td>splash10-0a4i-1900000000-758349a6f2f269950d15</td>\n      <td>187.006783</td>\n      <td>0.577678</td>\n      <td>WGNAKZGUSRVWRH-UHFFFAOYSA-N</td>\n      <td>[M-H]-</td>\n      <td>29.551713</td>\n      <td>0.634644</td>\n      <td>42.5099\\t52389.02\\n42.6955\\t173123.20\\n43.6369...</td>\n      <td>CC1=CC=C(C=C1)OS(=O)(=O)O</td>\n      <td>Organic acids and derivatives</td>\n    </tr>\n    <tr>\n      <th>655</th>\n      <td>0.932845</td>\n      <td>04ef4c23cf5c0c60</td>\n      <td>orbitrap</td>\n      <td>5m hilic | orbitrap | beh amide | negative</td>\n      <td>splash10-0a4i-1910000000-312f4f8aba73f9e6cf12</td>\n      <td>187.006812</td>\n      <td>0.571618</td>\n      <td>WGNAKZGUSRVWRH-UHFFFAOYSA-N</td>\n      <td>[M-H]-</td>\n      <td>14.298367</td>\n      <td>0.627986</td>\n      <td>42.6404\\t441127.31\\n42.9252\\t283932.63\\n43.235...</td>\n      <td>CC1=CC=C(C=C1)OS(=O)(=O)O</td>\n      <td>Organic acids and derivatives</td>\n    </tr>\n    <tr>\n      <th>694</th>\n      <td>0.932770</td>\n      <td>04ef4c23cf5c0c60</td>\n      <td>orbitrap</td>\n      <td>5m hilic | orbitrap | beh amide | negative</td>\n      <td>splash10-0a4i-1900000000-89b0de61e7a780309833</td>\n      <td>187.006827</td>\n      <td>0.571580</td>\n      <td>WGNAKZGUSRVWRH-UHFFFAOYSA-N</td>\n      <td>[M-H]-</td>\n      <td>14.427144</td>\n      <td>0.627945</td>\n      <td>42.3321\\t296753.59\\n42.4027\\t192059.70\\n42.634...</td>\n      <td>CC1=CC=C(C=C1)OS(=O)(=O)O</td>\n      <td>Organic acids and derivatives</td>\n    </tr>\n    <tr>\n      <th>729</th>\n      <td>0.933076</td>\n      <td>04ef4c23cf5c0c60</td>\n      <td>orbitrap</td>\n      <td>5m hilic | orbitrap | beh amide | negative</td>\n      <td>splash10-0a4i-2910000000-5946f61d3bf8fd1800a6</td>\n      <td>187.006847</td>\n      <td>0.577388</td>\n      <td>WGNAKZGUSRVWRH-UHFFFAOYSA-N</td>\n      <td>[M-H]-</td>\n      <td>21.473810</td>\n      <td>0.634325</td>\n      <td>42.6003\\t972.04\\n43.2889\\t993.05\\n44.9669\\t991...</td>\n      <td>CC1=CC=C(C=C1)OS(=O)(=O)O</td>\n      <td>Organic acids and derivatives</td>\n    </tr>\n    <tr>\n      <th>734</th>\n      <td>0.933044</td>\n      <td>04ef4c23cf5c0c60</td>\n      <td>orbitrap</td>\n      <td>5m hilic | orbitrap | beh amide | negative</td>\n      <td>splash10-0a4i-1900000000-55576dc8645a9d87fb0c</td>\n      <td>187.006813</td>\n      <td>0.575040</td>\n      <td>WGNAKZGUSRVWRH-UHFFFAOYSA-N</td>\n      <td>[M-H]-</td>\n      <td>14.392904</td>\n      <td>0.631746</td>\n      <td>42.5137\\t219706.30\\n43.0733\\t488615.97\\n43.247...</td>\n      <td>CC1=CC=C(C=C1)OS(=O)(=O)O</td>\n      <td>Organic acids and derivatives</td>\n    </tr>\n    <tr>\n      <th>744</th>\n      <td>0.932638</td>\n      <td>04ef4c23cf5c0c60</td>\n      <td>orbitrap</td>\n      <td>5m hilic | orbitrap | beh amide | negative</td>\n      <td>splash10-0a4i-2900000000-acc2d4d5150763aa31b6</td>\n      <td>187.006853</td>\n      <td>0.570117</td>\n      <td>WGNAKZGUSRVWRH-UHFFFAOYSA-N</td>\n      <td>[M-H]-</td>\n      <td>14.408232</td>\n      <td>0.626337</td>\n      <td>42.2686\\t321852.53\\n42.3307\\t369937.59\\n42.639...</td>\n      <td>CC1=CC=C(C=C1)OS(=O)(=O)O</td>\n      <td>Organic acids and derivatives</td>\n    </tr>\n    <tr>\n      <th>749</th>\n      <td>0.932820</td>\n      <td>04ef4c23cf5c0c60</td>\n      <td>orbitrap</td>\n      <td>5m hilic | orbitrap | beh amide | negative</td>\n      <td>splash10-0a4i-2900000000-dcc03a09bf304ea038dc</td>\n      <td>187.006848</td>\n      <td>0.571577</td>\n      <td>WGNAKZGUSRVWRH-UHFFFAOYSA-N</td>\n      <td>[M-H]-</td>\n      <td>14.324961</td>\n      <td>0.627941</td>\n      <td>42.7865\\t300881.88\\n42.8180\\t388626.22\\n42.935...</td>\n      <td>CC1=CC=C(C=C1)OS(=O)(=O)O</td>\n      <td>Organic acids and derivatives</td>\n    </tr>\n    <tr>\n      <th>774</th>\n      <td>0.932993</td>\n      <td>04ef4c23cf5c0c60</td>\n      <td>orbitrap</td>\n      <td>5m hilic | orbitrap | beh amide | negative</td>\n      <td>splash10-0a4i-2910000000-995aff764f70a95de800</td>\n      <td>187.006810</td>\n      <td>0.573290</td>\n      <td>WGNAKZGUSRVWRH-UHFFFAOYSA-N</td>\n      <td>[M-H]-</td>\n      <td>14.144196</td>\n      <td>0.629823</td>\n      <td>42.2882\\t329515.53\\n42.8786\\t761522.13\\n43.108...</td>\n      <td>CC1=CC=C(C=C1)OS(=O)(=O)O</td>\n      <td>Organic acids and derivatives</td>\n    </tr>\n    <tr>\n      <th>779</th>\n      <td>0.933130</td>\n      <td>04ef4c23cf5c0c60</td>\n      <td>orbitrap</td>\n      <td>5m hilic | orbitrap | beh amide | negative</td>\n      <td>splash10-0a4i-2910000000-3683473b021f54983f89</td>\n      <td>187.006606</td>\n      <td>0.575674</td>\n      <td>WGNAKZGUSRVWRH-UHFFFAOYSA-N</td>\n      <td>[M-H]-</td>\n      <td>14.862159</td>\n      <td>0.632443</td>\n      <td>42.3076\\t446533.28\\n42.5120\\t414399.97\\n43.144...</td>\n      <td>CC1=CC=C(C=C1)OS(=O)(=O)O</td>\n      <td>Organic acids and derivatives</td>\n    </tr>\n    <tr>\n      <th>812</th>\n      <td>0.932967</td>\n      <td>04ef4c23cf5c0c60</td>\n      <td>orbitrap</td>\n      <td>5m hilic | orbitrap | beh amide | negative</td>\n      <td>splash10-0a4i-1900000000-a142d38df79d8c655fea</td>\n      <td>187.006875</td>\n      <td>0.576205</td>\n      <td>WGNAKZGUSRVWRH-UHFFFAOYSA-N</td>\n      <td>[M-H]-</td>\n      <td>14.527564</td>\n      <td>0.633026</td>\n      <td>42.4628\\t163570.25\\n42.8595\\t440898.81\\n42.953...</td>\n      <td>CC1=CC=C(C=C1)OS(=O)(=O)O</td>\n      <td>Organic acids and derivatives</td>\n    </tr>\n    <tr>\n      <th>850</th>\n      <td>0.932859</td>\n      <td>04ef4c23cf5c0c60</td>\n      <td>orbitrap</td>\n      <td>5m hilic | orbitrap | beh amide | negative</td>\n      <td>splash10-0a4i-1900000000-b872f88f909515945229</td>\n      <td>187.006826</td>\n      <td>0.572828</td>\n      <td>WGNAKZGUSRVWRH-UHFFFAOYSA-N</td>\n      <td>[M-H]-</td>\n      <td>14.485562</td>\n      <td>0.629316</td>\n      <td>42.6184\\t29744.84\\n42.7260\\t595768.75\\n42.8460...</td>\n      <td>CC1=CC=C(C=C1)OS(=O)(=O)O</td>\n      <td>Organic acids and derivatives</td>\n    </tr>\n    <tr>\n      <th>865</th>\n      <td>0.932990</td>\n      <td>04ef4c23cf5c0c60</td>\n      <td>orbitrap</td>\n      <td>5m hilic | orbitrap | beh amide | negative</td>\n      <td>splash10-0a4i-1900000000-6aaf11a4117d7ff205e6</td>\n      <td>187.006578</td>\n      <td>0.578168</td>\n      <td>WGNAKZGUSRVWRH-UHFFFAOYSA-N</td>\n      <td>[M-H]-</td>\n      <td>14.820066</td>\n      <td>0.635182</td>\n      <td>42.2716\\t698522.69\\n42.5871\\t762814.19\\n42.809...</td>\n      <td>CC1=CC=C(C=C1)OS(=O)(=O)O</td>\n      <td>Organic acids and derivatives</td>\n    </tr>\n    <tr>\n      <th>898</th>\n      <td>0.933020</td>\n      <td>04ef4c23cf5c0c60</td>\n      <td>orbitrap</td>\n      <td>5m hilic | orbitrap | beh amide | negative</td>\n      <td>splash10-0a4i-2910000000-07a746e52f97355a1bb0</td>\n      <td>187.006605</td>\n      <td>0.578110</td>\n      <td>WGNAKZGUSRVWRH-UHFFFAOYSA-N</td>\n      <td>[M-H]-</td>\n      <td>14.839964</td>\n      <td>0.635119</td>\n      <td>42.7443\\t122982.29\\n42.7988\\t359712.13\\n43.568...</td>\n      <td>CC1=CC=C(C=C1)OS(=O)(=O)O</td>\n      <td>Organic acids and derivatives</td>\n    </tr>\n    <tr>\n      <th>905</th>\n      <td>0.932881</td>\n      <td>04ef4c23cf5c0c60</td>\n      <td>orbitrap</td>\n      <td>5m hilic | orbitrap | beh amide | negative</td>\n      <td>splash10-0a4i-2900000000-3124b34e77bbd696d633</td>\n      <td>187.006866</td>\n      <td>0.571544</td>\n      <td>WGNAKZGUSRVWRH-UHFFFAOYSA-N</td>\n      <td>[M-H]-</td>\n      <td>14.374187</td>\n      <td>0.627905</td>\n      <td>42.8391\\t46870.79\\n43.1129\\t965868.56\\n43.1607...</td>\n      <td>CC1=CC=C(C=C1)OS(=O)(=O)O</td>\n      <td>Organic acids and derivatives</td>\n    </tr>\n    <tr>\n      <th>934</th>\n      <td>0.932999</td>\n      <td>04ef4c23cf5c0c60</td>\n      <td>orbitrap</td>\n      <td>5m hilic | orbitrap | beh amide | negative</td>\n      <td>splash10-0a4i-1900000000-0f8627229673edd3d4a7</td>\n      <td>187.006862</td>\n      <td>0.575076</td>\n      <td>WGNAKZGUSRVWRH-UHFFFAOYSA-N</td>\n      <td>[M-H]-</td>\n      <td>14.350486</td>\n      <td>0.631785</td>\n      <td>42.2878\\t518867.81\\n42.3361\\t593057.44\\n42.349...</td>\n      <td>CC1=CC=C(C=C1)OS(=O)(=O)O</td>\n      <td>Organic acids and derivatives</td>\n    </tr>\n    <tr>\n      <th>960</th>\n      <td>0.932796</td>\n      <td>04ef4c23cf5c0c60</td>\n      <td>orbitrap</td>\n      <td>5m hilic | orbitrap | beh amide | negative</td>\n      <td>splash10-0a4i-1900000000-db61317a0616ba5fd352</td>\n      <td>187.006820</td>\n      <td>0.572677</td>\n      <td>WGNAKZGUSRVWRH-UHFFFAOYSA-N</td>\n      <td>[M-H]-</td>\n      <td>14.244403</td>\n      <td>0.629150</td>\n      <td>42.2755\\t222213.86\\n42.3233\\t287170.81\\n42.775...</td>\n      <td>CC1=CC=C(C=C1)OS(=O)(=O)O</td>\n      <td>Organic acids and derivatives</td>\n    </tr>\n    <tr>\n      <th>966</th>\n      <td>0.896968</td>\n      <td>04ef4c23cf5c0c60</td>\n      <td>orbitrap</td>\n      <td>5m hilic | orbitrap | beh amide | negative</td>\n      <td>splash10-0a4i-2900000000-7e8ae810e8bcbeb6d074</td>\n      <td>187.006424</td>\n      <td>0.487599</td>\n      <td>WGNAKZGUSRVWRH-UHFFFAOYSA-N</td>\n      <td>[M-H]-</td>\n      <td>14.899399</td>\n      <td>0.675955</td>\n      <td>42.6068\\t547416.31\\n43.2782\\t254929.47\\n43.343...</td>\n      <td>CC1=CC=C(C=C1)OS(=O)(=O)O</td>\n      <td>Organic acids and derivatives</td>\n    </tr>\n    <tr>\n      <th>1062</th>\n      <td>0.932961</td>\n      <td>04ef4c23cf5c0c60</td>\n      <td>orbitrap</td>\n      <td>5m hilic | orbitrap | beh amide | negative</td>\n      <td>splash10-0a4i-1910000000-462fa0cb4421da3eb05a</td>\n      <td>187.006846</td>\n      <td>0.574382</td>\n      <td>WGNAKZGUSRVWRH-UHFFFAOYSA-N</td>\n      <td>[M-H]-</td>\n      <td>13.800318</td>\n      <td>0.631023</td>\n      <td>42.2701\\t687704.06\\n42.2844\\t394490.19\\n42.521...</td>\n      <td>CC1=CC=C(C=C1)OS(=O)(=O)O</td>\n      <td>Organic acids and derivatives</td>\n    </tr>\n    <tr>\n      <th>1071</th>\n      <td>0.933004</td>\n      <td>04ef4c23cf5c0c60</td>\n      <td>orbitrap</td>\n      <td>5m hilic | orbitrap | beh amide | negative</td>\n      <td>splash10-0a4i-1900000000-9ce47d5c59a9a78260ed</td>\n      <td>187.006671</td>\n      <td>0.576343</td>\n      <td>WGNAKZGUSRVWRH-UHFFFAOYSA-N</td>\n      <td>[M-H]-</td>\n      <td>14.759411</td>\n      <td>0.633177</td>\n      <td>42.2615\\t524422.38\\n42.4044\\t457469.47\\n42.468...</td>\n      <td>CC1=CC=C(C=C1)OS(=O)(=O)O</td>\n      <td>Organic acids and derivatives</td>\n    </tr>\n    <tr>\n      <th>1080</th>\n      <td>0.932859</td>\n      <td>04ef4c23cf5c0c60</td>\n      <td>orbitrap</td>\n      <td>5m hilic | orbitrap | beh amide | negative</td>\n      <td>splash10-0a4i-2900000000-15d776764e5d09e2ec63</td>\n      <td>187.006788</td>\n      <td>0.573584</td>\n      <td>WGNAKZGUSRVWRH-UHFFFAOYSA-N</td>\n      <td>[M-H]-</td>\n      <td>14.631565</td>\n      <td>0.630147</td>\n      <td>42.3353\\t533955.81\\n42.5032\\t549083.50\\n42.557...</td>\n      <td>CC1=CC=C(C=C1)OS(=O)(=O)O</td>\n      <td>Organic acids and derivatives</td>\n    </tr>\n    <tr>\n      <th>1106</th>\n      <td>0.896929</td>\n      <td>04ef4c23cf5c0c60</td>\n      <td>orbitrap</td>\n      <td>5m hilic | orbitrap | beh amide | negative</td>\n      <td>splash10-0a4i-1900000000-18b34700c03e35acacc7</td>\n      <td>187.006235</td>\n      <td>0.486369</td>\n      <td>WGNAKZGUSRVWRH-UHFFFAOYSA-N</td>\n      <td>[M-H]-</td>\n      <td>15.744989</td>\n      <td>0.674250</td>\n      <td>42.3127\\t621911.19\\n42.3470\\t631112.13\\n42.385...</td>\n      <td>CC1=CC=C(C=C1)OS(=O)(=O)O</td>\n      <td>Organic acids and derivatives</td>\n    </tr>\n    <tr>\n      <th>1126</th>\n      <td>0.896258</td>\n      <td>04ef4c23cf5c0c60</td>\n      <td>orbitrap</td>\n      <td>5m hilic | orbitrap | beh amide | negative</td>\n      <td>splash10-0a4i-2910000000-95f24c35c2ca87ae8b4d</td>\n      <td>187.006224</td>\n      <td>0.486380</td>\n      <td>WGNAKZGUSRVWRH-UHFFFAOYSA-N</td>\n      <td>[M-H]-</td>\n      <td>15.327549</td>\n      <td>0.674266</td>\n      <td>42.3135\\t317604.00\\n42.8639\\t627813.75\\n43.017...</td>\n      <td>CC1=CC=C(C=C1)OS(=O)(=O)O</td>\n      <td>Organic acids and derivatives</td>\n    </tr>\n    <tr>\n      <th>1129</th>\n      <td>0.896708</td>\n      <td>04ef4c23cf5c0c60</td>\n      <td>orbitrap</td>\n      <td>5m hilic | orbitrap | beh amide | negative</td>\n      <td>splash10-0a4i-1900000000-68c10928deae7fa92a6a</td>\n      <td>187.006322</td>\n      <td>0.487613</td>\n      <td>WGNAKZGUSRVWRH-UHFFFAOYSA-N</td>\n      <td>[M-H]-</td>\n      <td>15.022123</td>\n      <td>0.675975</td>\n      <td>42.2557\\t713661.00\\n42.5546\\t585557.13\\n42.659...</td>\n      <td>CC1=CC=C(C=C1)OS(=O)(=O)O</td>\n      <td>Organic acids and derivatives</td>\n    </tr>\n    <tr>\n      <th>1138</th>\n      <td>0.896339</td>\n      <td>04ef4c23cf5c0c60</td>\n      <td>orbitrap</td>\n      <td>5m hilic | orbitrap | beh amide | negative</td>\n      <td>splash10-0a4i-1900000000-be4da04d3d03f8d6f3cd</td>\n      <td>187.006235</td>\n      <td>0.487846</td>\n      <td>WGNAKZGUSRVWRH-UHFFFAOYSA-N</td>\n      <td>[M-H]-</td>\n      <td>15.536482</td>\n      <td>0.676298</td>\n      <td>42.2716\\t556660.88\\n42.3720\\t437661.44\\n42.816...</td>\n      <td>CC1=CC=C(C=C1)OS(=O)(=O)O</td>\n      <td>Organic acids and derivatives</td>\n    </tr>\n    <tr>\n      <th>1186</th>\n      <td>0.896237</td>\n      <td>04ef4c23cf5c0c60</td>\n      <td>orbitrap</td>\n      <td>5m hilic | orbitrap | beh amide | negative</td>\n      <td>splash10-0a4i-1900000000-ed20e68ff3c8732ccae9</td>\n      <td>187.006275</td>\n      <td>0.485480</td>\n      <td>WGNAKZGUSRVWRH-UHFFFAOYSA-N</td>\n      <td>[M-H]-</td>\n      <td>16.335955</td>\n      <td>0.673019</td>\n      <td>42.9833\\t570813.50\\n43.0856\\t589063.13\\n43.146...</td>\n      <td>CC1=CC=C(C=C1)OS(=O)(=O)O</td>\n      <td>Organic acids and derivatives</td>\n    </tr>\n  </tbody>\n</table>\n</div>"
     },
     "execution_count": 160,
     "metadata": {},
     "output_type": "execute_result"
    }
   ],
   "source": [
    "data.loc[data['SMILES']=='CC1=CC=C(C=C1)OS(=O)(=O)O']"
   ],
   "metadata": {
    "collapsed": false,
    "pycharm": {
     "name": "#%%\n"
    }
   }
  },
  {
   "cell_type": "code",
   "execution_count": 106,
   "outputs": [
    {
     "data": {
      "text/plain": "<AxesSubplot:xlabel='retention_time', ylabel='Count'>"
     },
     "execution_count": 106,
     "metadata": {},
     "output_type": "execute_result"
    },
    {
     "data": {
      "text/plain": "<Figure size 432x288 with 1 Axes>",
      "image/png": "[encoded data removed]"
     },
     "metadata": {},
     "output_type": "display_data"
    }
   ],
   "source": [
    "sns.histplot(data_hilic_confirmed.loc[data_hilic_confirmed['SMILES']=='CC1=CC=C(C=C1)OS(=O)(=O)O']['retention_time'])"
   ],
   "metadata": {
    "collapsed": false,
    "pycharm": {
     "name": "#%%\n"
    }
   }
  },
  {
   "cell_type": "code",
   "execution_count": 74,
   "outputs": [
    {
     "data": {
      "text/plain": "350"
     },
     "execution_count": 74,
     "metadata": {},
     "output_type": "execute_result"
    }
   ],
   "source": [
    "len(data['SMILES'].unique())"
   ],
   "metadata": {
    "collapsed": false,
    "pycharm": {
     "name": "#%%\n"
    }
   }
  },
  {
   "cell_type": "code",
   "execution_count": 61,
   "outputs": [
    {
     "data": {
      "text/plain": "    retention_time                                    comments        ABC  \\\n9        21.158951  5m hilic | orbitrap | beh amide | negative  13.202929   \n11       21.852032  5m hilic | orbitrap | beh amide | negative  16.258866   \n15       24.013674  5m hilic | orbitrap | beh amide | negative  16.876363   \n16       24.013674  5m hilic | orbitrap | beh amide | negative  16.876363   \n17       24.218681  5m hilic | orbitrap | beh amide | negative  14.470305   \n\n        ABCGG  nAcid  nBase    SpAbs_A   SpMax_A  SpDiam_A     SpAD_A  ...  \\\n9   11.709699      0      0  20.712705  2.383498  4.742568  20.712705  ...   \n11  13.992746      1      0  27.060767  2.570531  5.010168  27.060767  ...   \n15  13.802273      1      0  26.819958  2.363597  4.727195  26.819958  ...   \n16  13.802273      1      0  26.819958  2.363597  4.727195  26.819958  ...   \n17  11.689063      1      0  25.010365  2.051411  4.102821  25.010365  ...   \n\n        SRW10     TSRW10          MW       AMW  WPath  WPol  Zagreb1  Zagreb2  \\\n9    9.663770  63.242131  253.052112  9.037575    535    22     88.0    100.0   \n11  10.236633  69.916593  287.152144  6.836956    825    38    114.0    140.0   \n15   9.931443  55.984242  318.065887  8.596375   1182    33    112.0    128.0   \n16   9.931443  55.984242  318.065887  8.596375   1182    33    112.0    128.0   \n17   8.687948  51.656682  296.235145  5.589342   1452    19     82.0     81.0   \n\n    mZagreb1  mZagreb2  \n9   6.506944  3.625000  \n11  7.229167  4.736111  \n15  8.979167  4.763889  \n16  8.979167  4.763889  \n17  7.972222  5.250000  \n\n[5 rows x 1225 columns]",
      "text/html": "<div>\n<style scoped>\n    .dataframe tbody tr th:only-of-type {\n        vertical-align: middle;\n    }\n\n    .dataframe tbody tr th {\n        vertical-align: top;\n    }\n\n    .dataframe thead th {\n        text-align: right;\n    }\n</style>\n<table border=\"1\" class=\"dataframe\">\n  <thead>\n    <tr style=\"text-align: right;\">\n      <th></th>\n      <th>retention_time</th>\n      <th>comments</th>\n      <th>ABC</th>\n      <th>ABCGG</th>\n      <th>nAcid</th>\n      <th>nBase</th>\n      <th>SpAbs_A</th>\n      <th>SpMax_A</th>\n      <th>SpDiam_A</th>\n      <th>SpAD_A</th>\n      <th>...</th>\n      <th>SRW10</th>\n      <th>TSRW10</th>\n      <th>MW</th>\n      <th>AMW</th>\n      <th>WPath</th>\n      <th>WPol</th>\n      <th>Zagreb1</th>\n      <th>Zagreb2</th>\n      <th>mZagreb1</th>\n      <th>mZagreb2</th>\n    </tr>\n  </thead>\n  <tbody>\n    <tr>\n      <th>9</th>\n      <td>21.158951</td>\n      <td>5m hilic | orbitrap | beh amide | negative</td>\n      <td>13.202929</td>\n      <td>11.709699</td>\n      <td>0</td>\n      <td>0</td>\n      <td>20.712705</td>\n      <td>2.383498</td>\n      <td>4.742568</td>\n      <td>20.712705</td>\n      <td>...</td>\n      <td>9.663770</td>\n      <td>63.242131</td>\n      <td>253.052112</td>\n      <td>9.037575</td>\n      <td>535</td>\n      <td>22</td>\n      <td>88.0</td>\n      <td>100.0</td>\n      <td>6.506944</td>\n      <td>3.625000</td>\n    </tr>\n    <tr>\n      <th>11</th>\n      <td>21.852032</td>\n      <td>5m hilic | orbitrap | beh amide | negative</td>\n      <td>16.258866</td>\n      <td>13.992746</td>\n      <td>1</td>\n      <td>0</td>\n      <td>27.060767</td>\n      <td>2.570531</td>\n      <td>5.010168</td>\n      <td>27.060767</td>\n      <td>...</td>\n      <td>10.236633</td>\n      <td>69.916593</td>\n      <td>287.152144</td>\n      <td>6.836956</td>\n      <td>825</td>\n      <td>38</td>\n      <td>114.0</td>\n      <td>140.0</td>\n      <td>7.229167</td>\n      <td>4.736111</td>\n    </tr>\n    <tr>\n      <th>15</th>\n      <td>24.013674</td>\n      <td>5m hilic | orbitrap | beh amide | negative</td>\n      <td>16.876363</td>\n      <td>13.802273</td>\n      <td>1</td>\n      <td>0</td>\n      <td>26.819958</td>\n      <td>2.363597</td>\n      <td>4.727195</td>\n      <td>26.819958</td>\n      <td>...</td>\n      <td>9.931443</td>\n      <td>55.984242</td>\n      <td>318.065887</td>\n      <td>8.596375</td>\n      <td>1182</td>\n      <td>33</td>\n      <td>112.0</td>\n      <td>128.0</td>\n      <td>8.979167</td>\n      <td>4.763889</td>\n    </tr>\n    <tr>\n      <th>16</th>\n      <td>24.013674</td>\n      <td>5m hilic | orbitrap | beh amide | negative</td>\n      <td>16.876363</td>\n      <td>13.802273</td>\n      <td>1</td>\n      <td>0</td>\n      <td>26.819958</td>\n      <td>2.363597</td>\n      <td>4.727195</td>\n      <td>26.819958</td>\n      <td>...</td>\n      <td>9.931443</td>\n      <td>55.984242</td>\n      <td>318.065887</td>\n      <td>8.596375</td>\n      <td>1182</td>\n      <td>33</td>\n      <td>112.0</td>\n      <td>128.0</td>\n      <td>8.979167</td>\n      <td>4.763889</td>\n    </tr>\n    <tr>\n      <th>17</th>\n      <td>24.218681</td>\n      <td>5m hilic | orbitrap | beh amide | negative</td>\n      <td>14.470305</td>\n      <td>11.689063</td>\n      <td>1</td>\n      <td>0</td>\n      <td>25.010365</td>\n      <td>2.051411</td>\n      <td>4.102821</td>\n      <td>25.010365</td>\n      <td>...</td>\n      <td>8.687948</td>\n      <td>51.656682</td>\n      <td>296.235145</td>\n      <td>5.589342</td>\n      <td>1452</td>\n      <td>19</td>\n      <td>82.0</td>\n      <td>81.0</td>\n      <td>7.972222</td>\n      <td>5.250000</td>\n    </tr>\n  </tbody>\n</table>\n<p>5 rows × 1225 columns</p>\n</div>"
     },
     "execution_count": 61,
     "metadata": {},
     "output_type": "execute_result"
    }
   ],
   "source": [
    "data_hilic_confirmed.head()"
   ],
   "metadata": {
    "collapsed": false,
    "pycharm": {
     "name": "#%%\n"
    }
   }
  },
  {
   "cell_type": "code",
   "execution_count": 51,
   "outputs": [
    {
     "name": "stdout",
     "output_type": "stream",
     "text": [
      "the length of the original dataset is:  1207\n",
      "the length of the new dataset is : 819\n"
     ]
    }
   ],
   "source": [
    "print(\"the length of the original dataset is: \", len(data_hilic))\n",
    "print(\"the length of the new dataset is :\", len(data_hilic_confirmed))"
   ],
   "metadata": {
    "collapsed": false,
    "pycharm": {
     "name": "#%%\n"
    }
   }
  },
  {
   "cell_type": "markdown",
   "source": [],
   "metadata": {
    "collapsed": false,
    "pycharm": {
     "name": "#%% md\n"
    }
   }
  },
  {
   "cell_type": "code",
   "execution_count": 94,
   "outputs": [],
   "source": [
    "# descriptors = pd.DataFrame()\n",
    "# for index, row in data.iterrows():\n",
    "#     # print(row['SMILES'])\n",
    "#     temp = features_complete.loc[features_complete['SMILES'] == row['SMILES']]\n",
    "#     descriptors = pd.concat([descriptors, temp], axis=0)\n",
    "#     # break\n",
    "# descriptors = descriptors.drop(['SMILES'], axis=1)\n",
    "# descriptors.reset_index(inplace=True, drop=True)\n",
    "# data.reset_index(inplace=True, drop=True)\n",
    "# data_hilic = pd.concat([data['retention_time'],descriptors], axis=1)"
   ],
   "metadata": {
    "collapsed": false,
    "pycharm": {
     "name": "#%%\n"
    }
   }
  },
  {
   "cell_type": "code",
   "execution_count": 52,
   "outputs": [],
   "source": [
    "data_hilic_confirmed=data_hilic_confirmed.drop(['comments'], axis = 1)"
   ],
   "metadata": {
    "collapsed": false,
    "pycharm": {
     "name": "#%%\n"
    }
   }
  },
  {
   "cell_type": "markdown",
   "source": [],
   "metadata": {
    "collapsed": false,
    "pycharm": {
     "name": "#%% md\n"
    }
   }
  },
  {
   "cell_type": "code",
   "execution_count": 53,
   "outputs": [
    {
     "name": "stderr",
     "output_type": "stream",
     "text": [
      "Beginning AutoGluon training ...\n",
      "AutoGluon will save models to \"confirmed_0.16/\"\n",
      "AutoGluon Version:  0.4.1b20220423\n",
      "Python Version:     3.9.0\n",
      "Operating System:   Darwin\n",
      "Train Data Rows:    650\n",
      "Train Data Columns: 1224\n",
      "Label Column: retention_time\n",
      "Preprocessing data ...\n",
      "AutoGluon infers your prediction problem is: 'regression' (because dtype of label-column == float and many unique label-values observed).\n",
      "\tLabel info (max, min, mean, stddev): (142.92571346409505, 10.356760991096657, 66.09326, 40.78709)\n",
      "\tIf 'regression' is not the correct problem_type, please manually specify the problem_type parameter during predictor init (You may specify problem_type as one of: ['binary', 'multiclass', 'regression'])\n",
      "Using Feature Generators to preprocess the data ...\n",
      "Fitting AutoMLPipelineFeatureGenerator...\n",
      "\tAvailable Memory:                    5209.6 MB\n",
      "\tTrain Data (Original)  Memory Usage: 6.36 MB (0.1% of available memory)\n",
      "\tInferring data type of each feature based on column values. Set feature_metadata_in to manually specify special dtypes of the features.\n",
      "\tStage 1 Generators:\n",
      "\t\tFitting AsTypeFeatureGenerator...\n",
      "\t\t\tNote: Converting 71 features to boolean dtype as they only contain 2 unique values.\n",
      "\tStage 2 Generators:\n",
      "\t\tFitting FillNaFeatureGenerator...\n",
      "\tStage 3 Generators:\n",
      "\t\tFitting IdentityFeatureGenerator...\n",
      "\tStage 4 Generators:\n",
      "\t\tFitting DropUniqueFeatureGenerator...\n",
      "\tUseless Original Features (Count: 169): ['nB', 'nI', 'C2SP1', 'NsLi', 'NssBe', 'NssssBe', 'NssBH', 'NsssB', 'NssssB', 'NtCH', 'NddC', 'NssNH2', 'NsssNH', 'NsSiH3', 'NssSiH2', 'NsssSiH', 'NssssSi', 'NsPH2', 'NssPH', 'NsssP', 'NsssssP', 'NsSH', 'NdS', 'NsGeH3', 'NssGeH2', 'NsssGeH', 'NssssGe', 'NsAsH2', 'NssAsH', 'NsssAs', 'NsssdAs', 'NsssssAs', 'NsSeH', 'NdSe', 'NssSe', 'NaaSe', 'NdssSe', 'NddssSe', 'NsSnH3', 'NssSnH2', 'NsssSnH', 'NssssSn', 'NsI', 'NsPbH3', 'NssPbH2', 'NsssPbH', 'NssssPb', 'SsLi', 'SssBe', 'SssssBe', 'SssBH', 'SsssB', 'SssssB', 'StCH', 'SddC', 'SssNH2', 'SsssNH', 'SsSiH3', 'SssSiH2', 'SsssSiH', 'SssssSi', 'SsPH2', 'SssPH', 'SsssP', 'SsssssP', 'SsSH', 'SdS', 'SsGeH3', 'SssGeH2', 'SsssGeH', 'SssssGe', 'SsAsH2', 'SssAsH', 'SsssAs', 'SsssdAs', 'SsssssAs', 'SsSeH', 'SdSe', 'SssSe', 'SaaSe', 'SdssSe', 'SddssSe', 'SsSnH3', 'SssSnH2', 'SsssSnH', 'SssssSn', 'SsI', 'SsPbH3', 'SssPbH2', 'SsssPbH', 'SssssPb', 'ETA_dPsi_B', 'SMR_VSA8', 'SlogP_VSA9', 'n8Ring', 'n9Ring', 'n10Ring', 'n11Ring', 'n12Ring', 'nG12Ring', 'n3HRing', 'n8HRing', 'n9HRing', 'n10HRing', 'n11HRing', 'n12HRing', 'nG12HRing', 'n3aRing', 'n4aRing', 'n7aRing', 'n8aRing', 'n9aRing', 'n10aRing', 'n11aRing', 'n12aRing', 'nG12aRing', 'n3aHRing', 'n4aHRing', 'n7aHRing', 'n8aHRing', 'n9aHRing', 'n10aHRing', 'n11aHRing', 'n12aHRing', 'nG12aHRing', 'n8ARing', 'n9ARing', 'n10ARing', 'n11ARing', 'n12ARing', 'nG12ARing', 'n3AHRing', 'n8AHRing', 'n9AHRing', 'n10AHRing', 'n11AHRing', 'n12AHRing', 'nG12AHRing', 'n4FRing', 'n5FRing', 'n6FRing', 'n12FRing', 'n4FHRing', 'n5FHRing', 'n6FHRing', 'n12FHRing', 'n4FaRing', 'n5FaRing', 'n6FaRing', 'n7FaRing', 'n8FaRing', 'n11FaRing', 'n12FaRing', 'n4FaHRing', 'n5FaHRing', 'n6FaHRing', 'n7FaHRing', 'n8FaHRing', 'n11FaHRing', 'n12FaHRing', 'n4FARing', 'n5FARing', 'n6FARing', 'n12FARing', 'n4FAHRing', 'n5FAHRing', 'n6FAHRing', 'n12FAHRing', 'split_index']\n",
      "\t\tThese features carry no predictive signal and should be manually investigated.\n",
      "\t\tThis is typically a feature which has the same value for all rows.\n",
      "\t\tThese features do not need to be present at inference time.\n",
      "\tTypes of features in original data (raw dtype, special dtypes):\n",
      "\t\t('float', []) : 900 | ['ABC', 'ABCGG', 'SpAbs_A', 'SpMax_A', 'SpDiam_A', ...]\n",
      "\t\t('int', [])   : 155 | ['nAcid', 'nBase', 'nAromAtom', 'nAromBond', 'nAtom', ...]\n",
      "\tTypes of features in processed data (raw dtype, special dtypes):\n",
      "\t\t('float', [])     : 894 | ['ABC', 'ABCGG', 'SpAbs_A', 'SpMax_A', 'SpDiam_A', ...]\n",
      "\t\t('int', [])       :  90 | ['nAcid', 'nBase', 'nAromAtom', 'nAromBond', 'nAtom', ...]\n",
      "\t\t('int', ['bool']) :  71 | ['nSpiro', 'nP', 'nBr', 'nBondsT', 'C1SP1', ...]\n",
      "\t0.5s = Fit runtime\n",
      "\t1055 features in original data used to generate 1055 features in processed data.\n",
      "\tTrain Data (Processed) Memory Usage: 5.16 MB (0.1% of available memory)\n",
      "Data preprocessing and feature engineering runtime = 0.51s ...\n",
      "AutoGluon will gauge predictive performance using evaluation metric: 'root_mean_squared_error'\n",
      "\tTo change this, specify the eval_metric parameter of Predictor()\n",
      "Automatically generating train/validation split with holdout_frac=0.2, Train Rows: 520, Val Rows: 130\n",
      "Fitting 11 L1 models ...\n",
      "Fitting model: KNeighborsUnif ...\n",
      "\t-23.4133\t = Validation score   (root_mean_squared_error)\n",
      "\t0.06s\t = Training   runtime\n",
      "\t0.06s\t = Validation runtime\n",
      "Fitting model: KNeighborsDist ...\n",
      "\t-18.892\t = Validation score   (root_mean_squared_error)\n",
      "\t0.11s\t = Training   runtime\n",
      "\t0.27s\t = Validation runtime\n",
      "Fitting model: LightGBMXT ...\n",
      "\t-9.0504\t = Validation score   (root_mean_squared_error)\n",
      "\t12.22s\t = Training   runtime\n",
      "\t0.01s\t = Validation runtime\n",
      "Fitting model: LightGBM ...\n"
     ]
    },
    {
     "name": "stdout",
     "output_type": "stream",
     "text": [
      "[1000]\tvalid_set's rmse: 10.2087\n",
      "[2000]\tvalid_set's rmse: 10.2021\n",
      "[3000]\tvalid_set's rmse: 10.199\n",
      "[4000]\tvalid_set's rmse: 10.1985\n",
      "[5000]\tvalid_set's rmse: 10.1985\n",
      "[6000]\tvalid_set's rmse: 10.1985\n",
      "[7000]\tvalid_set's rmse: 10.1985\n",
      "[8000]\tvalid_set's rmse: 10.1985\n",
      "[9000]\tvalid_set's rmse: 10.1985\n",
      "[10000]\tvalid_set's rmse: 10.1985\n"
     ]
    },
    {
     "name": "stderr",
     "output_type": "stream",
     "text": [
      "\t-10.1985\t = Validation score   (root_mean_squared_error)\n",
      "\t233.15s\t = Training   runtime\n",
      "\t0.03s\t = Validation runtime\n",
      "Fitting model: RandomForestMSE ...\n",
      "\t-10.807\t = Validation score   (root_mean_squared_error)\n",
      "\t3.47s\t = Training   runtime\n",
      "\t0.02s\t = Validation runtime\n",
      "Fitting model: CatBoost ...\n",
      "\t-10.1121\t = Validation score   (root_mean_squared_error)\n",
      "\t15.83s\t = Training   runtime\n",
      "\t0.01s\t = Validation runtime\n",
      "Fitting model: ExtraTreesMSE ...\n",
      "\t-10.0834\t = Validation score   (root_mean_squared_error)\n",
      "\t1.43s\t = Training   runtime\n",
      "\t0.02s\t = Validation runtime\n",
      "Fitting model: NeuralNetFastAI ...\n",
      "\tWarning: Exception caused NeuralNetFastAI to fail during training (ImportError)... Skipping this model.\n",
      "\t\tImport fastai failed. A quick tip is to install via `pip install fastai==2.*`. If you are using Mac OSX, please use this torch version to avoid compatibility issues: `pip install torch==1.6.0`.\n",
      "Fitting model: XGBoost ...\n",
      "\t-9.7377\t = Validation score   (root_mean_squared_error)\n",
      "\t14.64s\t = Training   runtime\n",
      "\t0.01s\t = Validation runtime\n",
      "Fitting model: NeuralNetTorch ...\n",
      "\t-8.9122\t = Validation score   (root_mean_squared_error)\n",
      "\t31.59s\t = Training   runtime\n",
      "\t0.11s\t = Validation runtime\n",
      "Fitting model: LightGBMLarge ...\n"
     ]
    },
    {
     "name": "stdout",
     "output_type": "stream",
     "text": [
      "[1000]\tvalid_set's rmse: 10.1111\n",
      "[2000]\tvalid_set's rmse: 10.1073\n",
      "[3000]\tvalid_set's rmse: 10.1073\n",
      "[4000]\tvalid_set's rmse: 10.1073\n",
      "[5000]\tvalid_set's rmse: 10.1073\n"
     ]
    },
    {
     "name": "stderr",
     "output_type": "stream",
     "text": [
      "\t-10.1073\t = Validation score   (root_mean_squared_error)\n",
      "\t465.67s\t = Training   runtime\n",
      "\t0.11s\t = Validation runtime\n",
      "Fitting model: WeightedEnsemble_L2 ...\n",
      "\t-8.5502\t = Validation score   (root_mean_squared_error)\n",
      "\t0.1s\t = Training   runtime\n",
      "\t0.0s\t = Validation runtime\n",
      "AutoGluon training complete, total runtime = 781.21s ... Best model: \"WeightedEnsemble_L2\"\n",
      "TabularPredictor saved. To load, use: predictor = TabularPredictor.load(\"confirmed_0.16/\")\n"
     ]
    },
    {
     "name": "stdout",
     "output_type": "stream",
     "text": [
      "*** Summary of fit() ***\n",
      "Estimated performance of each model:\n",
      "                  model  score_val  pred_time_val    fit_time  pred_time_val_marginal  fit_time_marginal  stack_level  can_infer  fit_order\n",
      "0   WeightedEnsemble_L2  -8.550169       0.116906   58.549022                0.000178           0.103130            2       True         11\n",
      "1        NeuralNetTorch  -8.912222       0.105210   31.591519                0.105210          31.591519            1       True          9\n",
      "2            LightGBMXT  -9.050426       0.005904   12.216214                0.005904          12.216214            1       True          3\n",
      "3               XGBoost  -9.737727       0.005614   14.638159                0.005614          14.638159            1       True          8\n",
      "4         ExtraTreesMSE -10.083395       0.023428    1.432884                0.023428           1.432884            1       True          7\n",
      "5         LightGBMLarge -10.107289       0.114995  465.672364                0.114995         465.672364            1       True         10\n",
      "6              CatBoost -10.112084       0.009746   15.829115                0.009746          15.829115            1       True          6\n",
      "7              LightGBM -10.198466       0.030535  233.152846                0.030535         233.152846            1       True          4\n",
      "8       RandomForestMSE -10.807012       0.020775    3.472068                0.020775           3.472068            1       True          5\n",
      "9        KNeighborsDist -18.891993       0.268082    0.112595                0.268082           0.112595            1       True          2\n",
      "10       KNeighborsUnif -23.413274       0.057299    0.061770                0.057299           0.061770            1       True          1\n",
      "Number of models trained: 11\n",
      "Types of models trained:\n",
      "{'WeightedEnsembleModel', 'RFModel', 'XTModel', 'TabularNeuralNetTorchModel', 'LGBModel', 'KNNModel', 'XGBoostModel', 'CatBoostModel'}\n",
      "Bagging used: False \n",
      "Multi-layer stack-ensembling used: False \n",
      "Feature Metadata (Processed):\n",
      "(raw dtype, special dtypes):\n",
      "('float', [])     : 894 | ['ABC', 'ABCGG', 'SpAbs_A', 'SpMax_A', 'SpDiam_A', ...]\n",
      "('int', [])       :  90 | ['nAcid', 'nBase', 'nAromAtom', 'nAromBond', 'nAtom', ...]\n",
      "('int', ['bool']) :  71 | ['nSpiro', 'nP', 'nBr', 'nBondsT', 'C1SP1', ...]\n",
      "*** End of fit() summary ***\n",
      "{'model_types': {'KNeighborsUnif': 'KNNModel', 'KNeighborsDist': 'KNNModel', 'LightGBMXT': 'LGBModel', 'LightGBM': 'LGBModel', 'RandomForestMSE': 'RFModel', 'CatBoost': 'CatBoostModel', 'ExtraTreesMSE': 'XTModel', 'XGBoost': 'XGBoostModel', 'NeuralNetTorch': 'TabularNeuralNetTorchModel', 'LightGBMLarge': 'LGBModel', 'WeightedEnsemble_L2': 'WeightedEnsembleModel'}, 'model_performance': {'KNeighborsUnif': -23.413274451993473, 'KNeighborsDist': -18.891992657729755, 'LightGBMXT': -9.050426204905982, 'LightGBM': -10.198466335208911, 'RandomForestMSE': -10.807012085086221, 'CatBoost': -10.112083513153479, 'ExtraTreesMSE': -10.083394953968327, 'XGBoost': -9.737726666585665, 'NeuralNetTorch': -8.91222225449885, 'LightGBMLarge': -10.107288663268227, 'WeightedEnsemble_L2': -8.550169477334222}, 'model_best': 'WeightedEnsemble_L2', 'model_paths': {'KNeighborsUnif': 'confirmed_0.16/models/KNeighborsUnif/', 'KNeighborsDist': 'confirmed_0.16/models/KNeighborsDist/', 'LightGBMXT': 'confirmed_0.16/models/LightGBMXT/', 'LightGBM': 'confirmed_0.16/models/LightGBM/', 'RandomForestMSE': 'confirmed_0.16/models/RandomForestMSE/', 'CatBoost': 'confirmed_0.16/models/CatBoost/', 'ExtraTreesMSE': 'confirmed_0.16/models/ExtraTreesMSE/', 'XGBoost': 'confirmed_0.16/models/XGBoost/', 'NeuralNetTorch': 'confirmed_0.16/models/NeuralNetTorch/', 'LightGBMLarge': 'confirmed_0.16/models/LightGBMLarge/', 'WeightedEnsemble_L2': 'confirmed_0.16/models/WeightedEnsemble_L2/'}, 'model_fit_times': {'KNeighborsUnif': 0.061769962310791016, 'KNeighborsDist': 0.1125950813293457, 'LightGBMXT': 12.216213941574097, 'LightGBM': 233.1528458595276, 'RandomForestMSE': 3.4720678329467773, 'CatBoost': 15.829115152359009, 'ExtraTreesMSE': 1.4328839778900146, 'XGBoost': 14.638159036636353, 'NeuralNetTorch': 31.591519117355347, 'LightGBMLarge': 465.67236399650574, 'WeightedEnsemble_L2': 0.10313010215759277}, 'model_pred_times': {'KNeighborsUnif': 0.057299137115478516, 'KNeighborsDist': 0.2680819034576416, 'LightGBMXT': 0.005904197692871094, 'LightGBM': 0.030535221099853516, 'RandomForestMSE': 0.020775318145751953, 'CatBoost': 0.00974583625793457, 'ExtraTreesMSE': 0.023427963256835938, 'XGBoost': 0.005614042282104492, 'NeuralNetTorch': 0.1052100658416748, 'LightGBMLarge': 0.11499500274658203, 'WeightedEnsemble_L2': 0.0001780986785888672}, 'num_bag_folds': 0, 'max_stack_level': 2, 'model_hyperparams': {'KNeighborsUnif': {'weights': 'uniform'}, 'KNeighborsDist': {'weights': 'distance'}, 'LightGBMXT': {'learning_rate': 0.05, 'extra_trees': True}, 'LightGBM': {'learning_rate': 0.05}, 'RandomForestMSE': {'n_estimators': 300, 'n_jobs': -1, 'random_state': 0, 'bootstrap': True, 'criterion': 'squared_error'}, 'CatBoost': {'iterations': 10000, 'learning_rate': 0.05, 'random_seed': 0, 'allow_writing_files': False, 'eval_metric': 'RMSE'}, 'ExtraTreesMSE': {'n_estimators': 300, 'n_jobs': -1, 'random_state': 0, 'bootstrap': True, 'criterion': 'squared_error'}, 'XGBoost': {'n_estimators': 10000, 'learning_rate': 0.1, 'n_jobs': -1, 'proc.max_category_levels': 100, 'objective': 'reg:squarederror', 'booster': 'gbtree'}, 'NeuralNetTorch': {'num_epochs': 500, 'epochs_wo_improve': 20, 'activation': 'relu', 'embedding_size_factor': 1.0, 'embed_exponent': 0.56, 'max_embedding_dim': 100, 'y_range': None, 'y_range_extend': 0.05, 'dropout_prob': 0.1, 'optimizer': 'adam', 'learning_rate': 0.0003, 'weight_decay': 1e-06, 'proc.embed_min_categories': 4, 'proc.impute_strategy': 'median', 'proc.max_category_levels': 100, 'proc.skew_threshold': 0.99, 'use_ngram_features': False, 'num_layers': 4, 'hidden_size': 128, 'max_batch_size': 512, 'use_batchnorm': False, 'loss_function': 'auto'}, 'LightGBMLarge': {'learning_rate': 0.03, 'num_leaves': 128, 'feature_fraction': 0.9, 'min_data_in_leaf': 5}, 'WeightedEnsemble_L2': {'use_orig_features': False, 'max_base_models': 25, 'max_base_models_per_type': 5, 'save_bag_folds': True}}, 'leaderboard':                   model  score_val  pred_time_val    fit_time  \\\n",
      "0   WeightedEnsemble_L2  -8.550169       0.116906   58.549022   \n",
      "1        NeuralNetTorch  -8.912222       0.105210   31.591519   \n",
      "2            LightGBMXT  -9.050426       0.005904   12.216214   \n",
      "3               XGBoost  -9.737727       0.005614   14.638159   \n",
      "4         ExtraTreesMSE -10.083395       0.023428    1.432884   \n",
      "5         LightGBMLarge -10.107289       0.114995  465.672364   \n",
      "6              CatBoost -10.112084       0.009746   15.829115   \n",
      "7              LightGBM -10.198466       0.030535  233.152846   \n",
      "8       RandomForestMSE -10.807012       0.020775    3.472068   \n",
      "9        KNeighborsDist -18.891993       0.268082    0.112595   \n",
      "10       KNeighborsUnif -23.413274       0.057299    0.061770   \n",
      "\n",
      "    pred_time_val_marginal  fit_time_marginal  stack_level  can_infer  \\\n",
      "0                 0.000178           0.103130            2       True   \n",
      "1                 0.105210          31.591519            1       True   \n",
      "2                 0.005904          12.216214            1       True   \n",
      "3                 0.005614          14.638159            1       True   \n",
      "4                 0.023428           1.432884            1       True   \n",
      "5                 0.114995         465.672364            1       True   \n",
      "6                 0.009746          15.829115            1       True   \n",
      "7                 0.030535         233.152846            1       True   \n",
      "8                 0.020775           3.472068            1       True   \n",
      "9                 0.268082           0.112595            1       True   \n",
      "10                0.057299           0.061770            1       True   \n",
      "\n",
      "    fit_order  \n",
      "0          11  \n",
      "1           9  \n",
      "2           3  \n",
      "3           8  \n",
      "4           7  \n",
      "5          10  \n",
      "6           6  \n",
      "7           4  \n",
      "8           5  \n",
      "9           2  \n",
      "10          1  }\n"
     ]
    },
    {
     "name": "stderr",
     "output_type": "stream",
     "text": [
      "Evaluation: root_mean_squared_error on test data: -9.9199619396618\n",
      "\tNote: Scores are always higher_is_better. This metric score can be multiplied by -1 to get the metric value.\n",
      "Evaluations on test data:\n",
      "{\n",
      "    \"root_mean_squared_error\": -9.9199619396618,\n",
      "    \"mean_squared_error\": -98.40564488433871,\n",
      "    \"mean_absolute_error\": -6.739712097290864,\n",
      "    \"r2\": 0.9414799488280364,\n",
      "    \"pearsonr\": 0.9703736392987464,\n",
      "    \"median_absolute_error\": -4.494949494845873\n",
      "}\n"
     ]
    },
    {
     "name": "stdout",
     "output_type": "stream",
     "text": [
      "{'root_mean_squared_error': -9.9199619396618, 'mean_squared_error': -98.40564488433871, 'mean_absolute_error': -6.739712097290864, 'r2': 0.9414799488280364, 'pearsonr': 0.9703736392987464, 'median_absolute_error': -4.494949494845873}\n"
     ]
    },
    {
     "data": {
      "text/plain": "<autogluon.tabular.predictor.predictor.TabularPredictor at 0x2a94cf0d0>"
     },
     "execution_count": 53,
     "metadata": {},
     "output_type": "execute_result"
    }
   ],
   "source": [
    "train, test = data_prep.make_train_test(data_hilic_confirmed)\n",
    "ap.autogluon_fit_train_test(train,test, \"confirmed_0.16\")"
   ],
   "metadata": {
    "collapsed": false,
    "pycharm": {
     "name": "#%%\n"
    }
   }
  },
  {
   "cell_type": "code",
   "execution_count": 107,
   "outputs": [
    {
     "name": "stderr",
     "output_type": "stream",
     "text": [
      "Beginning AutoGluon training ...\n",
      "AutoGluon will save models to \"all_features/\"\n",
      "AutoGluon Version:  0.4.1b20220423\n",
      "Python Version:     3.9.0\n",
      "Operating System:   Darwin\n",
      "Train Data Rows:    955\n",
      "Train Data Columns: 1512\n",
      "Label Column: retention_time\n",
      "Preprocessing data ...\n",
      "AutoGluon infers your prediction problem is: 'regression' (because dtype of label-column == float and many unique label-values observed).\n",
      "\tLabel info (max, min, mean, stddev): (196.96833749042693, 0.0563704715822627, 66.50801, 44.33481)\n",
      "\tIf 'regression' is not the correct problem_type, please manually specify the problem_type parameter during predictor init (You may specify problem_type as one of: ['binary', 'multiclass', 'regression'])\n",
      "Using Feature Generators to preprocess the data ...\n",
      "Fitting AutoMLPipelineFeatureGenerator...\n",
      "\tAvailable Memory:                    5097.19 MB\n",
      "\tTrain Data (Original)  Memory Usage: 10.45 MB (0.2% of available memory)\n",
      "\tInferring data type of each feature based on column values. Set feature_metadata_in to manually specify special dtypes of the features.\n",
      "\tStage 1 Generators:\n",
      "\t\tFitting AsTypeFeatureGenerator...\n",
      "\t\t\tNote: Converting 71 features to boolean dtype as they only contain 2 unique values.\n",
      "\tStage 2 Generators:\n",
      "\t\tFitting FillNaFeatureGenerator...\n",
      "\tStage 3 Generators:\n",
      "\t\tFitting IdentityFeatureGenerator...\n",
      "\tStage 4 Generators:\n",
      "\t\tFitting DropUniqueFeatureGenerator...\n",
      "\tUseless Original Features (Count: 157): ['nB', 'nI', 'C2SP1', 'NsLi', 'NssBe', 'NssssBe', 'NssBH', 'NsssB', 'NssssB', 'NtCH', 'NddC', 'NssNH2', 'NsssNH', 'NsSiH3', 'NssSiH2', 'NsssSiH', 'NssssSi', 'NsPH2', 'NssPH', 'NsssP', 'NsssssP', 'NsSH', 'NdS', 'NsGeH3', 'NssGeH2', 'NsssGeH', 'NssssGe', 'NsAsH2', 'NssAsH', 'NsssAs', 'NsssdAs', 'NsssssAs', 'NsSeH', 'NdSe', 'NssSe', 'NaaSe', 'NdssSe', 'NddssSe', 'NsSnH3', 'NssSnH2', 'NsssSnH', 'NssssSn', 'NsI', 'NsPbH3', 'NssPbH2', 'NsssPbH', 'NssssPb', 'SsLi', 'SssBe', 'SssssBe', 'SssBH', 'SsssB', 'SssssB', 'StCH', 'SddC', 'SssNH2', 'SsssNH', 'SsSiH3', 'SssSiH2', 'SsssSiH', 'SssssSi', 'SsPH2', 'SssPH', 'SsssP', 'SsssssP', 'SsSH', 'SdS', 'SsGeH3', 'SssGeH2', 'SsssGeH', 'SssssGe', 'SsAsH2', 'SssAsH', 'SsssAs', 'SsssdAs', 'SsssssAs', 'SsSeH', 'SdSe', 'SssSe', 'SaaSe', 'SdssSe', 'SddssSe', 'SsSnH3', 'SssSnH2', 'SsssSnH', 'SssssSn', 'SsI', 'SsPbH3', 'SssPbH2', 'SsssPbH', 'SssssPb', 'ETA_dPsi_B', 'SMR_VSA8', 'SlogP_VSA9', 'n8Ring', 'n9Ring', 'n11Ring', 'n12Ring', 'n8HRing', 'n9HRing', 'n10HRing', 'n11HRing', 'n12HRing', 'n3aRing', 'n4aRing', 'n7aRing', 'n8aRing', 'n9aRing', 'n10aRing', 'n11aRing', 'n12aRing', 'nG12aRing', 'n3aHRing', 'n4aHRing', 'n7aHRing', 'n8aHRing', 'n9aHRing', 'n10aHRing', 'n11aHRing', 'n12aHRing', 'nG12aHRing', 'n8ARing', 'n9ARing', 'n11ARing', 'n12ARing', 'n8AHRing', 'n9AHRing', 'n10AHRing', 'n11AHRing', 'n12AHRing', 'n4FRing', 'n5FRing', 'n6FRing', 'n4FHRing', 'n5FHRing', 'n6FHRing', 'n4FaRing', 'n5FaRing', 'n6FaRing', 'n7FaRing', 'n8FaRing', 'n11FaRing', 'n12FaRing', 'n4FaHRing', 'n5FaHRing', 'n6FaHRing', 'n7FaHRing', 'n8FaHRing', 'n11FaHRing', 'n12FaHRing', 'n4FARing', 'n5FARing', 'n6FARing', 'n4FAHRing', 'n5FAHRing', 'n6FAHRing', 'split_index']\n",
      "\t\tThese features carry no predictive signal and should be manually investigated.\n",
      "\t\tThis is typically a feature which has the same value for all rows.\n",
      "\t\tThese features do not need to be present at inference time.\n",
      "\tTypes of features in original data (raw dtype, special dtypes):\n",
      "\t\t('float', []) : 1188 | ['ABC', 'ABCGG', 'SpAbs_A', 'SpMax_A', 'SpDiam_A', ...]\n",
      "\t\t('int', [])   :  167 | ['nAcid', 'nBase', 'nAromAtom', 'nAromBond', 'nAtom', ...]\n",
      "\tTypes of features in processed data (raw dtype, special dtypes):\n",
      "\t\t('float', [])     : 1188 | ['ABC', 'ABCGG', 'SpAbs_A', 'SpMax_A', 'SpDiam_A', ...]\n",
      "\t\t('int', [])       :   96 | ['nAcid', 'nBase', 'nAromAtom', 'nAromBond', 'nAtom', ...]\n",
      "\t\t('int', ['bool']) :   71 | ['nSpiro', 'nP', 'nBr', 'nBondsT', 'C1SP1', ...]\n",
      "\t0.6s = Fit runtime\n",
      "\t1355 features in original data used to generate 1355 features in processed data.\n",
      "\tTrain Data (Processed) Memory Usage: 8.78 MB (0.2% of available memory)\n",
      "Data preprocessing and feature engineering runtime = 0.69s ...\n",
      "AutoGluon will gauge predictive performance using evaluation metric: 'root_mean_squared_error'\n",
      "\tTo change this, specify the eval_metric parameter of Predictor()\n",
      "Automatically generating train/validation split with holdout_frac=0.2, Train Rows: 764, Val Rows: 191\n",
      "Fitting 11 L1 models ...\n",
      "Fitting model: KNeighborsUnif ...\n",
      "\t-32.5336\t = Validation score   (root_mean_squared_error)\n",
      "\t0.08s\t = Training   runtime\n",
      "\t0.04s\t = Validation runtime\n",
      "Fitting model: KNeighborsDist ...\n",
      "\t-31.7682\t = Validation score   (root_mean_squared_error)\n",
      "\t0.15s\t = Training   runtime\n",
      "\t0.08s\t = Validation runtime\n",
      "Fitting model: LightGBMXT ...\n",
      "\t-28.3824\t = Validation score   (root_mean_squared_error)\n",
      "\t15.39s\t = Training   runtime\n",
      "\t0.01s\t = Validation runtime\n",
      "Fitting model: LightGBM ...\n",
      "\t-28.7228\t = Validation score   (root_mean_squared_error)\n",
      "\t17.13s\t = Training   runtime\n",
      "\t0.01s\t = Validation runtime\n",
      "Fitting model: RandomForestMSE ...\n",
      "\t-29.4045\t = Validation score   (root_mean_squared_error)\n",
      "\t6.68s\t = Training   runtime\n",
      "\t0.07s\t = Validation runtime\n",
      "Fitting model: CatBoost ...\n",
      "\t-28.9623\t = Validation score   (root_mean_squared_error)\n",
      "\t24.28s\t = Training   runtime\n",
      "\t0.03s\t = Validation runtime\n",
      "Fitting model: ExtraTreesMSE ...\n",
      "\t-29.3442\t = Validation score   (root_mean_squared_error)\n",
      "\t2.05s\t = Training   runtime\n",
      "\t0.02s\t = Validation runtime\n",
      "Fitting model: NeuralNetFastAI ...\n",
      "\tWarning: Exception caused NeuralNetFastAI to fail during training (ImportError)... Skipping this model.\n",
      "\t\tImport fastai failed. A quick tip is to install via `pip install fastai==2.*`. If you are using Mac OSX, please use this torch version to avoid compatibility issues: `pip install torch==1.6.0`.\n",
      "Fitting model: XGBoost ...\n",
      "\t-29.1742\t = Validation score   (root_mean_squared_error)\n",
      "\t11.15s\t = Training   runtime\n",
      "\t0.01s\t = Validation runtime\n",
      "Fitting model: NeuralNetTorch ...\n",
      "\t-31.737\t = Validation score   (root_mean_squared_error)\n",
      "\t23.51s\t = Training   runtime\n",
      "\t0.14s\t = Validation runtime\n",
      "Fitting model: LightGBMLarge ...\n",
      "\t-29.4481\t = Validation score   (root_mean_squared_error)\n",
      "\t46.84s\t = Training   runtime\n",
      "\t0.01s\t = Validation runtime\n",
      "Fitting model: WeightedEnsemble_L2 ...\n",
      "\t-28.285\t = Validation score   (root_mean_squared_error)\n",
      "\t0.09s\t = Training   runtime\n",
      "\t0.0s\t = Validation runtime\n",
      "AutoGluon training complete, total runtime = 149.64s ... Best model: \"WeightedEnsemble_L2\"\n",
      "TabularPredictor saved. To load, use: predictor = TabularPredictor.load(\"all_features/\")\n"
     ]
    },
    {
     "name": "stdout",
     "output_type": "stream",
     "text": [
      "*** Summary of fit() ***\n",
      "Estimated performance of each model:\n",
      "                  model  score_val  pred_time_val   fit_time  pred_time_val_marginal  fit_time_marginal  stack_level  can_infer  fit_order\n",
      "0   WeightedEnsemble_L2 -28.285040       0.055435  32.692655                0.000147           0.088039            2       True         11\n",
      "1            LightGBMXT -28.382413       0.005593  15.394011                0.005593          15.394011            1       True          3\n",
      "2              LightGBM -28.722768       0.005069  17.126163                0.005069          17.126163            1       True          4\n",
      "3              CatBoost -28.962303       0.025101  24.283799                0.025101          24.283799            1       True          6\n",
      "4               XGBoost -29.174195       0.010027  11.153360                0.010027          11.153360            1       True          8\n",
      "5         ExtraTreesMSE -29.344218       0.022997   2.051186                0.022997           2.051186            1       True          7\n",
      "6       RandomForestMSE -29.404549       0.065222   6.678717                0.065222           6.678717            1       True          5\n",
      "7         LightGBMLarge -29.448078       0.007895  46.844267                0.007895          46.844267            1       True         10\n",
      "8        NeuralNetTorch -31.737017       0.141611  23.513912                0.141611          23.513912            1       True          9\n",
      "9        KNeighborsDist -31.768232       0.080655   0.154285                0.080655           0.154285            1       True          2\n",
      "10       KNeighborsUnif -32.533628       0.044626   0.084442                0.044626           0.084442            1       True          1\n",
      "Number of models trained: 11\n",
      "Types of models trained:\n",
      "{'KNNModel', 'CatBoostModel', 'XTModel', 'LGBModel', 'RFModel', 'TabularNeuralNetTorchModel', 'WeightedEnsembleModel', 'XGBoostModel'}\n",
      "Bagging used: False \n",
      "Multi-layer stack-ensembling used: False \n",
      "Feature Metadata (Processed):\n",
      "(raw dtype, special dtypes):\n",
      "('float', [])     : 1188 | ['ABC', 'ABCGG', 'SpAbs_A', 'SpMax_A', 'SpDiam_A', ...]\n",
      "('int', [])       :   96 | ['nAcid', 'nBase', 'nAromAtom', 'nAromBond', 'nAtom', ...]\n",
      "('int', ['bool']) :   71 | ['nSpiro', 'nP', 'nBr', 'nBondsT', 'C1SP1', ...]\n",
      "*** End of fit() summary ***\n",
      "{'model_types': {'KNeighborsUnif': 'KNNModel', 'KNeighborsDist': 'KNNModel', 'LightGBMXT': 'LGBModel', 'LightGBM': 'LGBModel', 'RandomForestMSE': 'RFModel', 'CatBoost': 'CatBoostModel', 'ExtraTreesMSE': 'XTModel', 'XGBoost': 'XGBoostModel', 'NeuralNetTorch': 'TabularNeuralNetTorchModel', 'LightGBMLarge': 'LGBModel', 'WeightedEnsemble_L2': 'WeightedEnsembleModel'}, 'model_performance': {'KNeighborsUnif': -32.533628325613506, 'KNeighborsDist': -31.768231796900203, 'LightGBMXT': -28.382413328930678, 'LightGBM': -28.722767940832746, 'RandomForestMSE': -29.404548786496363, 'CatBoost': -28.962303313519065, 'ExtraTreesMSE': -29.344217991970698, 'XGBoost': -29.17419471874071, 'NeuralNetTorch': -31.73701666724839, 'LightGBMLarge': -29.448077790057095, 'WeightedEnsemble_L2': -28.285040210966834}, 'model_best': 'WeightedEnsemble_L2', 'model_paths': {'KNeighborsUnif': 'all_features/models/KNeighborsUnif/', 'KNeighborsDist': 'all_features/models/KNeighborsDist/', 'LightGBMXT': 'all_features/models/LightGBMXT/', 'LightGBM': 'all_features/models/LightGBM/', 'RandomForestMSE': 'all_features/models/RandomForestMSE/', 'CatBoost': 'all_features/models/CatBoost/', 'ExtraTreesMSE': 'all_features/models/ExtraTreesMSE/', 'XGBoost': 'all_features/models/XGBoost/', 'NeuralNetTorch': 'all_features/models/NeuralNetTorch/', 'LightGBMLarge': 'all_features/models/LightGBMLarge/', 'WeightedEnsemble_L2': 'all_features/models/WeightedEnsemble_L2/'}, 'model_fit_times': {'KNeighborsUnif': 0.084442138671875, 'KNeighborsDist': 0.15428495407104492, 'LightGBMXT': 15.3940110206604, 'LightGBM': 17.12616276741028, 'RandomForestMSE': 6.678717136383057, 'CatBoost': 24.283798933029175, 'ExtraTreesMSE': 2.0511858463287354, 'XGBoost': 11.15335988998413, 'NeuralNetTorch': 23.513911962509155, 'LightGBMLarge': 46.84426689147949, 'WeightedEnsemble_L2': 0.08803892135620117}, 'model_pred_times': {'KNeighborsUnif': 0.04462575912475586, 'KNeighborsDist': 0.08065509796142578, 'LightGBMXT': 0.005592823028564453, 'LightGBM': 0.00506901741027832, 'RandomForestMSE': 0.06522178649902344, 'CatBoost': 0.025101184844970703, 'ExtraTreesMSE': 0.022996902465820312, 'XGBoost': 0.010027170181274414, 'NeuralNetTorch': 0.14161109924316406, 'LightGBMLarge': 0.007895231246948242, 'WeightedEnsemble_L2': 0.00014710426330566406}, 'num_bag_folds': 0, 'max_stack_level': 2, 'model_hyperparams': {'KNeighborsUnif': {'weights': 'uniform'}, 'KNeighborsDist': {'weights': 'distance'}, 'LightGBMXT': {'learning_rate': 0.05, 'extra_trees': True}, 'LightGBM': {'learning_rate': 0.05}, 'RandomForestMSE': {'n_estimators': 300, 'n_jobs': -1, 'random_state': 0, 'bootstrap': True, 'criterion': 'squared_error'}, 'CatBoost': {'iterations': 10000, 'learning_rate': 0.05, 'random_seed': 0, 'allow_writing_files': False, 'eval_metric': 'RMSE'}, 'ExtraTreesMSE': {'n_estimators': 300, 'n_jobs': -1, 'random_state': 0, 'bootstrap': True, 'criterion': 'squared_error'}, 'XGBoost': {'n_estimators': 10000, 'learning_rate': 0.1, 'n_jobs': -1, 'proc.max_category_levels': 100, 'objective': 'reg:squarederror', 'booster': 'gbtree'}, 'NeuralNetTorch': {'num_epochs': 500, 'epochs_wo_improve': 20, 'activation': 'relu', 'embedding_size_factor': 1.0, 'embed_exponent': 0.56, 'max_embedding_dim': 100, 'y_range': None, 'y_range_extend': 0.05, 'dropout_prob': 0.1, 'optimizer': 'adam', 'learning_rate': 0.0003, 'weight_decay': 1e-06, 'proc.embed_min_categories': 4, 'proc.impute_strategy': 'median', 'proc.max_category_levels': 100, 'proc.skew_threshold': 0.99, 'use_ngram_features': False, 'num_layers': 4, 'hidden_size': 128, 'max_batch_size': 512, 'use_batchnorm': False, 'loss_function': 'auto'}, 'LightGBMLarge': {'learning_rate': 0.03, 'num_leaves': 128, 'feature_fraction': 0.9, 'min_data_in_leaf': 5}, 'WeightedEnsemble_L2': {'use_orig_features': False, 'max_base_models': 25, 'max_base_models_per_type': 5, 'save_bag_folds': True}}, 'leaderboard':                   model  score_val  pred_time_val   fit_time  \\\n",
      "0   WeightedEnsemble_L2 -28.285040       0.055435  32.692655   \n",
      "1            LightGBMXT -28.382413       0.005593  15.394011   \n",
      "2              LightGBM -28.722768       0.005069  17.126163   \n",
      "3              CatBoost -28.962303       0.025101  24.283799   \n",
      "4               XGBoost -29.174195       0.010027  11.153360   \n",
      "5         ExtraTreesMSE -29.344218       0.022997   2.051186   \n",
      "6       RandomForestMSE -29.404549       0.065222   6.678717   \n",
      "7         LightGBMLarge -29.448078       0.007895  46.844267   \n",
      "8        NeuralNetTorch -31.737017       0.141611  23.513912   \n",
      "9        KNeighborsDist -31.768232       0.080655   0.154285   \n",
      "10       KNeighborsUnif -32.533628       0.044626   0.084442   \n",
      "\n",
      "    pred_time_val_marginal  fit_time_marginal  stack_level  can_infer  \\\n",
      "0                 0.000147           0.088039            2       True   \n",
      "1                 0.005593          15.394011            1       True   \n",
      "2                 0.005069          17.126163            1       True   \n",
      "3                 0.025101          24.283799            1       True   \n",
      "4                 0.010027          11.153360            1       True   \n",
      "5                 0.022997           2.051186            1       True   \n",
      "6                 0.065222           6.678717            1       True   \n",
      "7                 0.007895          46.844267            1       True   \n",
      "8                 0.141611          23.513912            1       True   \n",
      "9                 0.080655           0.154285            1       True   \n",
      "10                0.044626           0.084442            1       True   \n",
      "\n",
      "    fit_order  \n",
      "0          11  \n",
      "1           3  \n",
      "2           4  \n",
      "3           6  \n",
      "4           8  \n",
      "5           7  \n",
      "6           5  \n",
      "7          10  \n",
      "8           9  \n",
      "9           2  \n",
      "10          1  }\n"
     ]
    },
    {
     "name": "stderr",
     "output_type": "stream",
     "text": [
      "Evaluation: root_mean_squared_error on test data: -29.270446139488826\n",
      "\tNote: Scores are always higher_is_better. This metric score can be multiplied by -1 to get the metric value.\n",
      "Evaluations on test data:\n",
      "{\n",
      "    \"root_mean_squared_error\": -29.270446139488826,\n",
      "    \"mean_squared_error\": -856.7590172047163,\n",
      "    \"mean_absolute_error\": -17.713998976061472,\n",
      "    \"r2\": 0.6128480548610689,\n",
      "    \"pearsonr\": 0.785008968922323,\n",
      "    \"median_absolute_error\": -7.651427088065702\n",
      "}\n"
     ]
    },
    {
     "name": "stdout",
     "output_type": "stream",
     "text": [
      "{'root_mean_squared_error': -29.270446139488826, 'mean_squared_error': -856.7590172047163, 'mean_absolute_error': -17.713998976061472, 'r2': 0.6128480548610689, 'pearsonr': 0.785008968922323, 'median_absolute_error': -7.651427088065702}\n"
     ]
    },
    {
     "data": {
      "text/plain": "<autogluon.tabular.predictor.predictor.TabularPredictor at 0x29ff35160>"
     },
     "execution_count": 107,
     "metadata": {},
     "output_type": "execute_result"
    }
   ],
   "source": [
    "train, test = data_prep.make_train_test(data_hilic)\n",
    "ap.autogluon_fit_train_test(train,test, \"all_features\")"
   ],
   "metadata": {
    "collapsed": false,
    "pycharm": {
     "name": "#%%\n"
    }
   }
  },
  {
   "cell_type": "code",
   "execution_count": null,
   "outputs": [],
   "source": [],
   "metadata": {
    "collapsed": false,
    "pycharm": {
     "name": "#%%\n"
    }
   }
  },
  {
   "cell_type": "code",
   "execution_count": 43,
   "outputs": [],
   "source": [],
   "metadata": {
    "collapsed": false,
    "pycharm": {
     "name": "#%%\n"
    }
   }
  },
  {
   "cell_type": "code",
   "execution_count": 79,
   "outputs": [],
   "source": [
    "from toolsets import classyfire"
   ],
   "metadata": {
    "collapsed": false,
    "pycharm": {
     "name": "#%%\n"
    }
   }
  },
  {
   "cell_type": "code",
   "execution_count": 20,
   "outputs": [
    {
     "name": "stdout",
     "output_type": "stream",
     "text": [
      "i am ms2 spectra plotter, and I have been sideloaded successfully\n",
      "I have 2 functions, head to tail plot and ms2 plot\n"
     ]
    }
   ],
   "source": [
    "import toolsets.ms2_spectra_plotter as ms2plotter"
   ],
   "metadata": {
    "collapsed": false,
    "pycharm": {
     "name": "#%%\n"
    }
   }
  },
  {
   "cell_type": "code",
   "execution_count": 48,
   "outputs": [],
   "source": [
    "# data_temp_include = data_temp.loc[data_temp['retention_time'].between(left_bound, right_bound, inclusive=\"both\")]\n",
    "# data_temp_exclude = data_temp.loc[~data_temp['retention_time'].between(left_bound, right_bound, inclusive=\"both\")]"
   ],
   "metadata": {
    "collapsed": false,
    "pycharm": {
     "name": "#%%\n"
    }
   }
  },
  {
   "cell_type": "code",
   "execution_count": 56,
   "outputs": [
    {
     "data": {
      "text/plain": "count    25.000000\nmean     15.943033\nstd       5.224142\nmin       9.545269\n25%      14.324961\n50%      14.454435\n75%      14.759411\nmax      34.647135\nName: retention_time, dtype: float64"
     },
     "execution_count": 56,
     "metadata": {},
     "output_type": "execute_result"
    }
   ],
   "source": [
    "data_temp_include['retention_time'].describe()"
   ],
   "metadata": {
    "collapsed": false,
    "pycharm": {
     "name": "#%%\n"
    }
   }
  },
  {
   "cell_type": "code",
   "execution_count": 62,
   "outputs": [
    {
     "data": {
      "text/plain": "<module 'matplotlib.pyplot' from '/opt/homebrew/Caskroom/miniforge/base/envs/tensorflow/lib/python3.9/site-packages/matplotlib/pyplot.py'>"
     },
     "execution_count": 62,
     "metadata": {},
     "output_type": "execute_result"
    },
    {
     "data": {
      "text/plain": "<Figure size 504x360 with 1 Axes>",
      "image/png": "[encoded data removed]"
     },
     "metadata": {},
     "output_type": "display_data"
    }
   ],
   "source": [
    "ms2plotter.head_to_tail_plot(data_temp_include.iloc[0]['msms'],data_temp_exclude.iloc[1]['msms'])"
   ],
   "metadata": {
    "collapsed": false,
    "pycharm": {
     "name": "#%%\n"
    }
   }
  },
  {
   "cell_type": "code",
   "execution_count": 323,
   "outputs": [],
   "source": [
    "data_hilic = pd.concat([data['retention_time'],descriptors_imputed], axis=1)"
   ],
   "metadata": {
    "collapsed": false,
    "pycharm": {
     "name": "#%%\n"
    }
   }
  },
  {
   "cell_type": "code",
   "execution_count": 59,
   "outputs": [
    {
     "data": {
      "text/plain": "     retention_time        ABC      ABCGG  nAcid  nBase    SpAbs_A   SpMax_A  \\\n0         21.158951  13.202929  11.709699      0      0  20.712705  2.383498   \n1         21.852032  16.258866  13.992746      1      0  27.060767  2.570531   \n2         24.013674  16.876363  13.802273      1      0  26.819958  2.363597   \n3         24.013674  16.876363  13.802273      1      0  26.819958  2.363597   \n4         24.218681  14.470305  11.689063      1      0  25.010365  2.051411   \n..              ...        ...        ...    ...    ...        ...       ...   \n814      126.192690  11.510585  10.996419      1      1  17.319018  2.230897   \n815       35.969883   8.485281   8.852607      0      1  15.575479  2.257545   \n816      126.262252  11.510585  10.996419      1      1  17.319018  2.230897   \n817      117.585112   6.163363   6.515899      1      3   9.335326  2.116883   \n818      113.106085   7.875993   7.986088      1      1  10.742863  2.191332   \n\n     SpDiam_A     SpAD_A   SpMAD_A  ...     TSRW10          MW       AMW  \\\n0    4.742568  20.712705  1.218394  ...  63.242131  253.052112  9.037575   \n1    5.010168  27.060767  1.288608  ...  69.916593  287.152144  6.836956   \n2    4.727195  26.819958  1.219089  ...  55.984242  318.065887  8.596375   \n3    4.727195  26.819958  1.219089  ...  55.984242  318.065887  8.596375   \n4    4.102821  25.010365  1.190970  ...  51.656682  296.235145  5.589342   \n..        ...        ...       ...  ...        ...         ...       ...   \n814  4.461795  17.319018  1.082439  ...  47.240747  257.102824  7.141745   \n815  4.515089  15.575479  1.198114  ...  42.702008  186.221626  4.541991   \n816  4.461795  17.319018  1.082439  ...  47.240747  257.102824  7.141745   \n817  4.233766   9.335326  1.037258  ...  36.359125  131.069477  7.281638   \n818  4.382665  10.742863  0.976624  ...  40.077656  161.105193  6.196354   \n\n     WPath  WPol  Zagreb1  Zagreb2  mZagreb1  mZagreb2  split_index  \n0      535    22     88.0    100.0  6.506944  3.625000            1  \n1      825    38    114.0    140.0  7.229167  4.736111            2  \n2     1182    33    112.0    128.0  8.979167  4.763889            1  \n3     1182    33    112.0    128.0  8.979167  4.763889            2  \n4     1452    19     82.0     81.0  7.972222  5.250000            1  \n..     ...   ...      ...      ...       ...       ...          ...  \n814    522    16     72.0     73.0  8.736111  3.541667            1  \n815    284    16     52.0     56.0  6.062500  3.500000            1  \n816    522    16     72.0     73.0  8.736111  3.541667            1  \n817     96     8     36.0     36.0  5.583333  2.111111            2  \n818    170     9     48.0     47.0  6.784722  2.375000            2  \n\n[819 rows x 1225 columns]",
      "text/html": "<div>\n<style scoped>\n    .dataframe tbody tr th:only-of-type {\n        vertical-align: middle;\n    }\n\n    .dataframe tbody tr th {\n        vertical-align: top;\n    }\n\n    .dataframe thead th {\n        text-align: right;\n    }\n</style>\n<table border=\"1\" class=\"dataframe\">\n  <thead>\n    <tr style=\"text-align: right;\">\n      <th></th>\n      <th>retention_time</th>\n      <th>ABC</th>\n      <th>ABCGG</th>\n      <th>nAcid</th>\n      <th>nBase</th>\n      <th>SpAbs_A</th>\n      <th>SpMax_A</th>\n      <th>SpDiam_A</th>\n      <th>SpAD_A</th>\n      <th>SpMAD_A</th>\n      <th>...</th>\n      <th>TSRW10</th>\n      <th>MW</th>\n      <th>AMW</th>\n      <th>WPath</th>\n      <th>WPol</th>\n      <th>Zagreb1</th>\n      <th>Zagreb2</th>\n      <th>mZagreb1</th>\n      <th>mZagreb2</th>\n      <th>split_index</th>\n    </tr>\n  </thead>\n  <tbody>\n    <tr>\n      <th>0</th>\n      <td>21.158951</td>\n      <td>13.202929</td>\n      <td>11.709699</td>\n      <td>0</td>\n      <td>0</td>\n      <td>20.712705</td>\n      <td>2.383498</td>\n      <td>4.742568</td>\n      <td>20.712705</td>\n      <td>1.218394</td>\n      <td>...</td>\n      <td>63.242131</td>\n      <td>253.052112</td>\n      <td>9.037575</td>\n      <td>535</td>\n      <td>22</td>\n      <td>88.0</td>\n      <td>100.0</td>\n      <td>6.506944</td>\n      <td>3.625000</td>\n      <td>1</td>\n    </tr>\n    <tr>\n      <th>1</th>\n      <td>21.852032</td>\n      <td>16.258866</td>\n      <td>13.992746</td>\n      <td>1</td>\n      <td>0</td>\n      <td>27.060767</td>\n      <td>2.570531</td>\n      <td>5.010168</td>\n      <td>27.060767</td>\n      <td>1.288608</td>\n      <td>...</td>\n      <td>69.916593</td>\n      <td>287.152144</td>\n      <td>6.836956</td>\n      <td>825</td>\n      <td>38</td>\n      <td>114.0</td>\n      <td>140.0</td>\n      <td>7.229167</td>\n      <td>4.736111</td>\n      <td>2</td>\n    </tr>\n    <tr>\n      <th>2</th>\n      <td>24.013674</td>\n      <td>16.876363</td>\n      <td>13.802273</td>\n      <td>1</td>\n      <td>0</td>\n      <td>26.819958</td>\n      <td>2.363597</td>\n      <td>4.727195</td>\n      <td>26.819958</td>\n      <td>1.219089</td>\n      <td>...</td>\n      <td>55.984242</td>\n      <td>318.065887</td>\n      <td>8.596375</td>\n      <td>1182</td>\n      <td>33</td>\n      <td>112.0</td>\n      <td>128.0</td>\n      <td>8.979167</td>\n      <td>4.763889</td>\n      <td>1</td>\n    </tr>\n    <tr>\n      <th>3</th>\n      <td>24.013674</td>\n      <td>16.876363</td>\n      <td>13.802273</td>\n      <td>1</td>\n      <td>0</td>\n      <td>26.819958</td>\n      <td>2.363597</td>\n      <td>4.727195</td>\n      <td>26.819958</td>\n      <td>1.219089</td>\n      <td>...</td>\n      <td>55.984242</td>\n      <td>318.065887</td>\n      <td>8.596375</td>\n      <td>1182</td>\n      <td>33</td>\n      <td>112.0</td>\n      <td>128.0</td>\n      <td>8.979167</td>\n      <td>4.763889</td>\n      <td>2</td>\n    </tr>\n    <tr>\n      <th>4</th>\n      <td>24.218681</td>\n      <td>14.470305</td>\n      <td>11.689063</td>\n      <td>1</td>\n      <td>0</td>\n      <td>25.010365</td>\n      <td>2.051411</td>\n      <td>4.102821</td>\n      <td>25.010365</td>\n      <td>1.190970</td>\n      <td>...</td>\n      <td>51.656682</td>\n      <td>296.235145</td>\n      <td>5.589342</td>\n      <td>1452</td>\n      <td>19</td>\n      <td>82.0</td>\n      <td>81.0</td>\n      <td>7.972222</td>\n      <td>5.250000</td>\n      <td>1</td>\n    </tr>\n    <tr>\n      <th>...</th>\n      <td>...</td>\n      <td>...</td>\n      <td>...</td>\n      <td>...</td>\n      <td>...</td>\n      <td>...</td>\n      <td>...</td>\n      <td>...</td>\n      <td>...</td>\n      <td>...</td>\n      <td>...</td>\n      <td>...</td>\n      <td>...</td>\n      <td>...</td>\n      <td>...</td>\n      <td>...</td>\n      <td>...</td>\n      <td>...</td>\n      <td>...</td>\n      <td>...</td>\n      <td>...</td>\n    </tr>\n    <tr>\n      <th>814</th>\n      <td>126.192690</td>\n      <td>11.510585</td>\n      <td>10.996419</td>\n      <td>1</td>\n      <td>1</td>\n      <td>17.319018</td>\n      <td>2.230897</td>\n      <td>4.461795</td>\n      <td>17.319018</td>\n      <td>1.082439</td>\n      <td>...</td>\n      <td>47.240747</td>\n      <td>257.102824</td>\n      <td>7.141745</td>\n      <td>522</td>\n      <td>16</td>\n      <td>72.0</td>\n      <td>73.0</td>\n      <td>8.736111</td>\n      <td>3.541667</td>\n      <td>1</td>\n    </tr>\n    <tr>\n      <th>815</th>\n      <td>35.969883</td>\n      <td>8.485281</td>\n      <td>8.852607</td>\n      <td>0</td>\n      <td>1</td>\n      <td>15.575479</td>\n      <td>2.257545</td>\n      <td>4.515089</td>\n      <td>15.575479</td>\n      <td>1.198114</td>\n      <td>...</td>\n      <td>42.702008</td>\n      <td>186.221626</td>\n      <td>4.541991</td>\n      <td>284</td>\n      <td>16</td>\n      <td>52.0</td>\n      <td>56.0</td>\n      <td>6.062500</td>\n      <td>3.500000</td>\n      <td>1</td>\n    </tr>\n    <tr>\n      <th>816</th>\n      <td>126.262252</td>\n      <td>11.510585</td>\n      <td>10.996419</td>\n      <td>1</td>\n      <td>1</td>\n      <td>17.319018</td>\n      <td>2.230897</td>\n      <td>4.461795</td>\n      <td>17.319018</td>\n      <td>1.082439</td>\n      <td>...</td>\n      <td>47.240747</td>\n      <td>257.102824</td>\n      <td>7.141745</td>\n      <td>522</td>\n      <td>16</td>\n      <td>72.0</td>\n      <td>73.0</td>\n      <td>8.736111</td>\n      <td>3.541667</td>\n      <td>1</td>\n    </tr>\n    <tr>\n      <th>817</th>\n      <td>117.585112</td>\n      <td>6.163363</td>\n      <td>6.515899</td>\n      <td>1</td>\n      <td>3</td>\n      <td>9.335326</td>\n      <td>2.116883</td>\n      <td>4.233766</td>\n      <td>9.335326</td>\n      <td>1.037258</td>\n      <td>...</td>\n      <td>36.359125</td>\n      <td>131.069477</td>\n      <td>7.281638</td>\n      <td>96</td>\n      <td>8</td>\n      <td>36.0</td>\n      <td>36.0</td>\n      <td>5.583333</td>\n      <td>2.111111</td>\n      <td>2</td>\n    </tr>\n    <tr>\n      <th>818</th>\n      <td>113.106085</td>\n      <td>7.875993</td>\n      <td>7.986088</td>\n      <td>1</td>\n      <td>1</td>\n      <td>10.742863</td>\n      <td>2.191332</td>\n      <td>4.382665</td>\n      <td>10.742863</td>\n      <td>0.976624</td>\n      <td>...</td>\n      <td>40.077656</td>\n      <td>161.105193</td>\n      <td>6.196354</td>\n      <td>170</td>\n      <td>9</td>\n      <td>48.0</td>\n      <td>47.0</td>\n      <td>6.784722</td>\n      <td>2.375000</td>\n      <td>2</td>\n    </tr>\n  </tbody>\n</table>\n<p>819 rows × 1225 columns</p>\n</div>"
     },
     "execution_count": 59,
     "metadata": {},
     "output_type": "execute_result"
    }
   ],
   "source": [
    "data_hilic_confirmed"
   ],
   "metadata": {
    "collapsed": false,
    "pycharm": {
     "name": "#%%\n"
    }
   }
  },
  {
   "cell_type": "code",
   "execution_count": null,
   "outputs": [],
   "source": [
    "data_temp"
   ],
   "metadata": {
    "collapsed": false,
    "pycharm": {
     "name": "#%%\n"
    }
   }
  },
  {
   "cell_type": "code",
   "execution_count": 324,
   "outputs": [],
   "source": [
    "train, test = data_prep.make_train_test(data_hilic)\n",
    "ap.autogluon_fit_train_test(train,test, \"seconds\")"
   ],
   "metadata": {
    "collapsed": false,
    "pycharm": {
     "name": "#%%\n"
    }
   }
  },
  {
   "cell_type": "code",
   "execution_count": null,
   "outputs": [],
   "source": [
    "# filter only query normalized entropy >0.5"
   ],
   "metadata": {
    "collapsed": false,
    "pycharm": {
     "name": "#%%\n"
    }
   }
  },
  {
   "cell_type": "code",
   "execution_count": 328,
   "outputs": [],
   "source": [
    "from autogluon.tabular import TabularPredictor"
   ],
   "metadata": {
    "collapsed": false,
    "pycharm": {
     "name": "#%%\n"
    }
   }
  },
  {
   "cell_type": "code",
   "execution_count": 54,
   "outputs": [],
   "source": [
    "model = TabularPredictor.load(\"confirmed_0.16\")"
   ],
   "metadata": {
    "collapsed": false,
    "pycharm": {
     "name": "#%%\n"
    }
   }
  },
  {
   "cell_type": "code",
   "execution_count": 108,
   "outputs": [
    {
     "name": "stderr",
     "output_type": "stream",
     "text": [
      "These features in provided data are not utilized by the predictor and will be ignored: ['nB', 'nI', 'C2SP1', 'NsLi', 'NssBe', 'NssssBe', 'NssBH', 'NsssB', 'NssssB', 'NtCH', 'NddC', 'NssNH2', 'NsssNH', 'NsSiH3', 'NssSiH2', 'NsssSiH', 'NssssSi', 'NsPH2', 'NssPH', 'NsssP', 'NsssssP', 'NsSH', 'NdS', 'NsGeH3', 'NssGeH2', 'NsssGeH', 'NssssGe', 'NsAsH2', 'NssAsH', 'NsssAs', 'NsssdAs', 'NsssssAs', 'NsSeH', 'NdSe', 'NssSe', 'NaaSe', 'NdssSe', 'NddssSe', 'NsSnH3', 'NssSnH2', 'NsssSnH', 'NssssSn', 'NsI', 'NsPbH3', 'NssPbH2', 'NsssPbH', 'NssssPb', 'SsLi', 'SssBe', 'SssssBe', 'SssBH', 'SsssB', 'SssssB', 'StCH', 'SddC', 'SssNH2', 'SsssNH', 'SsSiH3', 'SssSiH2', 'SsssSiH', 'SssssSi', 'SsPH2', 'SssPH', 'SsssP', 'SsssssP', 'SsSH', 'SdS', 'SsGeH3', 'SssGeH2', 'SsssGeH', 'SssssGe', 'SsAsH2', 'SssAsH', 'SsssAs', 'SsssdAs', 'SsssssAs', 'SsSeH', 'SdSe', 'SssSe', 'SaaSe', 'SdssSe', 'SddssSe', 'SsSnH3', 'SssSnH2', 'SsssSnH', 'SssssSn', 'SsI', 'SsPbH3', 'SssPbH2', 'SsssPbH', 'SssssPb', 'ETA_dPsi_B', 'SMR_VSA8', 'SlogP_VSA9', 'n8Ring', 'n9Ring', 'n10Ring', 'n11Ring', 'n12Ring', 'nG12Ring', 'n3HRing', 'n8HRing', 'n9HRing', 'n10HRing', 'n11HRing', 'n12HRing', 'nG12HRing', 'n3aRing', 'n4aRing', 'n7aRing', 'n8aRing', 'n9aRing', 'n10aRing', 'n11aRing', 'n12aRing', 'nG12aRing', 'n3aHRing', 'n4aHRing', 'n7aHRing', 'n8aHRing', 'n9aHRing', 'n10aHRing', 'n11aHRing', 'n12aHRing', 'nG12aHRing', 'n8ARing', 'n9ARing', 'n10ARing', 'n11ARing', 'n12ARing', 'nG12ARing', 'n3AHRing', 'n8AHRing', 'n9AHRing', 'n10AHRing', 'n11AHRing', 'n12AHRing', 'nG12AHRing', 'n4FRing', 'n5FRing', 'n6FRing', 'n12FRing', 'n4FHRing', 'n5FHRing', 'n6FHRing', 'n12FHRing', 'n4FaRing', 'n5FaRing', 'n6FaRing', 'n7FaRing', 'n8FaRing', 'n11FaRing', 'n12FaRing', 'n4FaHRing', 'n5FaHRing', 'n6FaHRing', 'n7FaHRing', 'n8FaHRing', 'n11FaHRing', 'n12FaHRing', 'n4FARing', 'n5FARing', 'n6FARing', 'n12FARing', 'n4FAHRing', 'n5FAHRing', 'n6FAHRing', 'n12FAHRing', 'split_index']\n",
      "Computing feature importance via permutation shuffling for 1055 features using 169 rows with 3 shuffle sets...\n",
      "\t444.08s\t= Expected runtime (148.03s per shuffle set)\n",
      "\t84.54s\t= Actual runtime (Completed 3 of 3 shuffle sets)\n"
     ]
    }
   ],
   "source": [
    "# feature_importance = model.feature_importance(test)"
   ],
   "metadata": {
    "collapsed": false,
    "pycharm": {
     "name": "#%%\n"
    }
   }
  },
  {
   "cell_type": "code",
   "execution_count": 114,
   "outputs": [
    {
     "data": {
      "text/plain": "         AATS4i        Mi      AATS0i   AATSC2d  PEOE_VSA1  PEOE_VSA6  nBase  \\\n0    159.976945  1.110915  157.817119 -0.178209   9.843390  11.600940      0   \n1    165.757330  1.132304  164.265771 -0.087413  10.256762   5.156663      0   \n2    155.834793  1.125701  162.056397  0.128118  14.827369  32.046576      0   \n3    159.976945  1.110915  157.817119 -0.178209   9.843390  11.600940      0   \n4    159.976945  1.110915  157.817119 -0.178209   9.843390  11.600940      0   \n..          ...       ...         ...       ...        ...        ...    ...   \n814  174.410047  1.156424  170.739620 -0.152585  28.636992   0.000000      1   \n815  162.212684  1.148897  168.547966 -0.063103   4.483031  19.765380      1   \n816  174.410047  1.156424  170.739620 -0.152585  28.636992   0.000000      1   \n817  176.167274  1.175544  176.447725 -0.186372  15.740105   0.000000      3   \n818  175.505075  1.155137  170.343046 -0.145228  19.490623   0.000000      1   \n\n       SLogP      AATS1i  NssO  ...  nS      SaaN  nO   MATS1pe    ATSC1dv  \\\n0    3.81300  142.030001     1  ...   0  0.000000   4 -0.047112  48.767182   \n1    1.36602  150.023927     0  ...   1  3.554049   3 -0.010733   8.437642   \n2    3.38300  145.189723     1  ...   0  0.000000   3 -0.037565  65.888889   \n3    3.81300  142.030001     1  ...   0  0.000000   4 -0.047112  48.767182   \n4    3.81300  142.030001     1  ...   0  0.000000   4 -0.047112  48.767182   \n..       ...         ...   ...  ...  ..       ...  ..       ...        ...   \n814 -1.45260  152.748491     2  ...   0  0.000000   6 -0.238196 -18.865379   \n815  3.44320  148.910487     0  ...   0  0.000000   0  0.185914  13.511005   \n816 -1.45260  152.748491     2  ...   0  0.000000   6 -0.238196 -18.865379   \n817 -1.10373  164.440768     0  ...   0  0.000000   2 -0.262522  16.987654   \n818 -1.80650  152.957852     0  ...   0  0.000000   3 -0.031122  28.928994   \n\n     NsCH3  NaasC  NaaN   SMR_VSA6  SlogP_VSA11  \n0        2      4     0   0.000000     5.749512  \n1        1      4     1  10.455762     0.000000  \n2        2      3     0   6.606882     0.000000  \n3        2      4     0   0.000000     5.749512  \n4        2      4     0   0.000000     5.749512  \n..     ...    ...   ...        ...          ...  \n814      3      0     0  47.508418     0.000000  \n815      4      0     0  26.179026     0.000000  \n816      3      0     0  47.508418     0.000000  \n817      1      0     0  13.592428     0.000000  \n818      3      0     0  27.687772     0.000000  \n\n[819 rows x 100 columns]",
      "text/html": "<div>\n<style scoped>\n    .dataframe tbody tr th:only-of-type {\n        vertical-align: middle;\n    }\n\n    .dataframe tbody tr th {\n        vertical-align: top;\n    }\n\n    .dataframe thead th {\n        text-align: right;\n    }\n</style>\n<table border=\"1\" class=\"dataframe\">\n  <thead>\n    <tr style=\"text-align: right;\">\n      <th></th>\n      <th>AATS4i</th>\n      <th>Mi</th>\n      <th>AATS0i</th>\n      <th>AATSC2d</th>\n      <th>PEOE_VSA1</th>\n      <th>PEOE_VSA6</th>\n      <th>nBase</th>\n      <th>SLogP</th>\n      <th>AATS1i</th>\n      <th>NssO</th>\n      <th>...</th>\n      <th>nS</th>\n      <th>SaaN</th>\n      <th>nO</th>\n      <th>MATS1pe</th>\n      <th>ATSC1dv</th>\n      <th>NsCH3</th>\n      <th>NaasC</th>\n      <th>NaaN</th>\n      <th>SMR_VSA6</th>\n      <th>SlogP_VSA11</th>\n    </tr>\n  </thead>\n  <tbody>\n    <tr>\n      <th>0</th>\n      <td>159.976945</td>\n      <td>1.110915</td>\n      <td>157.817119</td>\n      <td>-0.178209</td>\n      <td>9.843390</td>\n      <td>11.600940</td>\n      <td>0</td>\n      <td>3.81300</td>\n      <td>142.030001</td>\n      <td>1</td>\n      <td>...</td>\n      <td>0</td>\n      <td>0.000000</td>\n      <td>4</td>\n      <td>-0.047112</td>\n      <td>48.767182</td>\n      <td>2</td>\n      <td>4</td>\n      <td>0</td>\n      <td>0.000000</td>\n      <td>5.749512</td>\n    </tr>\n    <tr>\n      <th>1</th>\n      <td>165.757330</td>\n      <td>1.132304</td>\n      <td>164.265771</td>\n      <td>-0.087413</td>\n      <td>10.256762</td>\n      <td>5.156663</td>\n      <td>0</td>\n      <td>1.36602</td>\n      <td>150.023927</td>\n      <td>0</td>\n      <td>...</td>\n      <td>1</td>\n      <td>3.554049</td>\n      <td>3</td>\n      <td>-0.010733</td>\n      <td>8.437642</td>\n      <td>1</td>\n      <td>4</td>\n      <td>1</td>\n      <td>10.455762</td>\n      <td>0.000000</td>\n    </tr>\n    <tr>\n      <th>2</th>\n      <td>155.834793</td>\n      <td>1.125701</td>\n      <td>162.056397</td>\n      <td>0.128118</td>\n      <td>14.827369</td>\n      <td>32.046576</td>\n      <td>0</td>\n      <td>3.38300</td>\n      <td>145.189723</td>\n      <td>1</td>\n      <td>...</td>\n      <td>0</td>\n      <td>0.000000</td>\n      <td>3</td>\n      <td>-0.037565</td>\n      <td>65.888889</td>\n      <td>2</td>\n      <td>3</td>\n      <td>0</td>\n      <td>6.606882</td>\n      <td>0.000000</td>\n    </tr>\n    <tr>\n      <th>3</th>\n      <td>159.976945</td>\n      <td>1.110915</td>\n      <td>157.817119</td>\n      <td>-0.178209</td>\n      <td>9.843390</td>\n      <td>11.600940</td>\n      <td>0</td>\n      <td>3.81300</td>\n      <td>142.030001</td>\n      <td>1</td>\n      <td>...</td>\n      <td>0</td>\n      <td>0.000000</td>\n      <td>4</td>\n      <td>-0.047112</td>\n      <td>48.767182</td>\n      <td>2</td>\n      <td>4</td>\n      <td>0</td>\n      <td>0.000000</td>\n      <td>5.749512</td>\n    </tr>\n    <tr>\n      <th>4</th>\n      <td>159.976945</td>\n      <td>1.110915</td>\n      <td>157.817119</td>\n      <td>-0.178209</td>\n      <td>9.843390</td>\n      <td>11.600940</td>\n      <td>0</td>\n      <td>3.81300</td>\n      <td>142.030001</td>\n      <td>1</td>\n      <td>...</td>\n      <td>0</td>\n      <td>0.000000</td>\n      <td>4</td>\n      <td>-0.047112</td>\n      <td>48.767182</td>\n      <td>2</td>\n      <td>4</td>\n      <td>0</td>\n      <td>0.000000</td>\n      <td>5.749512</td>\n    </tr>\n    <tr>\n      <th>...</th>\n      <td>...</td>\n      <td>...</td>\n      <td>...</td>\n      <td>...</td>\n      <td>...</td>\n      <td>...</td>\n      <td>...</td>\n      <td>...</td>\n      <td>...</td>\n      <td>...</td>\n      <td>...</td>\n      <td>...</td>\n      <td>...</td>\n      <td>...</td>\n      <td>...</td>\n      <td>...</td>\n      <td>...</td>\n      <td>...</td>\n      <td>...</td>\n      <td>...</td>\n      <td>...</td>\n    </tr>\n    <tr>\n      <th>814</th>\n      <td>174.410047</td>\n      <td>1.156424</td>\n      <td>170.739620</td>\n      <td>-0.152585</td>\n      <td>28.636992</td>\n      <td>0.000000</td>\n      <td>1</td>\n      <td>-1.45260</td>\n      <td>152.748491</td>\n      <td>2</td>\n      <td>...</td>\n      <td>0</td>\n      <td>0.000000</td>\n      <td>6</td>\n      <td>-0.238196</td>\n      <td>-18.865379</td>\n      <td>3</td>\n      <td>0</td>\n      <td>0</td>\n      <td>47.508418</td>\n      <td>0.000000</td>\n    </tr>\n    <tr>\n      <th>815</th>\n      <td>162.212684</td>\n      <td>1.148897</td>\n      <td>168.547966</td>\n      <td>-0.063103</td>\n      <td>4.483031</td>\n      <td>19.765380</td>\n      <td>1</td>\n      <td>3.44320</td>\n      <td>148.910487</td>\n      <td>0</td>\n      <td>...</td>\n      <td>0</td>\n      <td>0.000000</td>\n      <td>0</td>\n      <td>0.185914</td>\n      <td>13.511005</td>\n      <td>4</td>\n      <td>0</td>\n      <td>0</td>\n      <td>26.179026</td>\n      <td>0.000000</td>\n    </tr>\n    <tr>\n      <th>816</th>\n      <td>174.410047</td>\n      <td>1.156424</td>\n      <td>170.739620</td>\n      <td>-0.152585</td>\n      <td>28.636992</td>\n      <td>0.000000</td>\n      <td>1</td>\n      <td>-1.45260</td>\n      <td>152.748491</td>\n      <td>2</td>\n      <td>...</td>\n      <td>0</td>\n      <td>0.000000</td>\n      <td>6</td>\n      <td>-0.238196</td>\n      <td>-18.865379</td>\n      <td>3</td>\n      <td>0</td>\n      <td>0</td>\n      <td>47.508418</td>\n      <td>0.000000</td>\n    </tr>\n    <tr>\n      <th>817</th>\n      <td>176.167274</td>\n      <td>1.175544</td>\n      <td>176.447725</td>\n      <td>-0.186372</td>\n      <td>15.740105</td>\n      <td>0.000000</td>\n      <td>3</td>\n      <td>-1.10373</td>\n      <td>164.440768</td>\n      <td>0</td>\n      <td>...</td>\n      <td>0</td>\n      <td>0.000000</td>\n      <td>2</td>\n      <td>-0.262522</td>\n      <td>16.987654</td>\n      <td>1</td>\n      <td>0</td>\n      <td>0</td>\n      <td>13.592428</td>\n      <td>0.000000</td>\n    </tr>\n    <tr>\n      <th>818</th>\n      <td>175.505075</td>\n      <td>1.155137</td>\n      <td>170.343046</td>\n      <td>-0.145228</td>\n      <td>19.490623</td>\n      <td>0.000000</td>\n      <td>1</td>\n      <td>-1.80650</td>\n      <td>152.957852</td>\n      <td>0</td>\n      <td>...</td>\n      <td>0</td>\n      <td>0.000000</td>\n      <td>3</td>\n      <td>-0.031122</td>\n      <td>28.928994</td>\n      <td>3</td>\n      <td>0</td>\n      <td>0</td>\n      <td>27.687772</td>\n      <td>0.000000</td>\n    </tr>\n  </tbody>\n</table>\n<p>819 rows × 100 columns</p>\n</div>"
     },
     "execution_count": 114,
     "metadata": {},
     "output_type": "execute_result"
    }
   ],
   "source": [
    "# data_hilic_confirmed[feature_importance.index[0:100]]"
   ],
   "metadata": {
    "collapsed": false,
    "pycharm": {
     "name": "#%%\n"
    }
   }
  },
  {
   "cell_type": "code",
   "execution_count": 277,
   "outputs": [],
   "source": [
    "x_train=train.drop(['retention_time'], axis=1)\n",
    "y_train = train['retention_time']"
   ],
   "metadata": {
    "collapsed": false,
    "pycharm": {
     "name": "#%%\n"
    }
   }
  },
  {
   "cell_type": "code",
   "execution_count": 152,
   "outputs": [],
   "source": [
    "x_test = test.drop(['retention_time'], axis=1)\n",
    "y_test = test['retention_time']"
   ],
   "metadata": {
    "collapsed": false,
    "pycharm": {
     "name": "#%%\n"
    }
   }
  },
  {
   "cell_type": "code",
   "execution_count": 154,
   "outputs": [],
   "source": [
    "model = TabularPredictor.load('subset_by_compounds')"
   ],
   "metadata": {
    "collapsed": false,
    "pycharm": {
     "name": "#%%\n"
    }
   }
  },
  {
   "cell_type": "code",
   "execution_count": 155,
   "outputs": [],
   "source": [
    "y_pred = model.predict(x_test)"
   ],
   "metadata": {
    "collapsed": false,
    "pycharm": {
     "name": "#%%\n"
    }
   }
  },
  {
   "cell_type": "code",
   "execution_count": 156,
   "outputs": [
    {
     "data": {
      "text/plain": "<AxesSubplot:xlabel='retention_time', ylabel='retention_time'>"
     },
     "execution_count": 156,
     "metadata": {},
     "output_type": "execute_result"
    },
    {
     "data": {
      "text/plain": "<Figure size 432x288 with 1 Axes>",
      "image/png": "[encoded data removed]"
     },
     "metadata": {},
     "output_type": "display_data"
    }
   ],
   "source": [
    "sns.scatterplot(y_test, y_pred)\n",
    "# sns.scatterplot(y_train, y_train_pred)"
   ],
   "metadata": {
    "collapsed": false,
    "pycharm": {
     "name": "#%%\n"
    }
   }
  },
  {
   "cell_type": "code",
   "execution_count": 157,
   "outputs": [],
   "source": [
    "import math\n",
    "MSE = np.square(np.subtract(y_test,y_pred)).mean()\n",
    "\n",
    "RMSE = math.sqrt(MSE)"
   ],
   "metadata": {
    "collapsed": false,
    "pycharm": {
     "name": "#%%\n"
    }
   }
  },
  {
   "cell_type": "code",
   "execution_count": 158,
   "outputs": [
    {
     "name": "stdout",
     "output_type": "stream",
     "text": [
      "454.7100326573845 21.323930985101796\n"
     ]
    }
   ],
   "source": [
    "print(MSE, RMSE)"
   ],
   "metadata": {
    "collapsed": false,
    "pycharm": {
     "name": "#%%\n"
    }
   }
  }
 ],
 "metadata": {
  "kernelspec": {
   "name": "tensorflow",
   "language": "python",
   "display_name": "Python 3.9 (tensorflow)"
  },
  "language_info": {
   "codemirror_mode": {
    "name": "ipython",
    "version": 2
   },
   "file_extension": ".py",
   "mimetype": "text/x-python",
   "name": "python",
   "nbconvert_exporter": "python",
   "pygments_lexer": "ipython2",
   "version": "2.7.6"
  }
 },
 "nbformat": 4,
 "nbformat_minor": 0
}