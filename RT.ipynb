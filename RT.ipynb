{
 "cells": [
  {
   "cell_type": "code",
   "source": [
    "# import data\n",
    "import pandas as pd\n",
    "from rdkit import Chem\n",
    "from mordred import Calculator, descriptors\n",
    "data_pfp=pd.read_csv('Fiehn_PFP.csv')\n",
    "data_csh=pd.read_csv('Fiehn_CSH.csv')\n",
    "data_cshmini=pd.read_csv('Fiehn_CSH_Mini.csv')\n",
    "data_pfp.head()\n",
    "data_csh.head()"
   ],
   "metadata": {
    "collapsed": false,
    "pycharm": {
     "name": "#%%\n"
    }
   },
   "execution_count": null,
   "outputs": []
  },
  {
   "cell_type": "code",
   "source": [
    "# Identify isomers\n",
    "data_pfp_no_split_index = data_pfp.drop(columns=['split_index'])\n",
    "smiles = []\n",
    "rt_std = []\n",
    "rt_mean = []\n",
    "rt_diff = []\n",
    "for i in data_pfp['smiles'].unique():\n",
    "    temp_data = data_pfp_no_split_index.loc[data_pfp_no_split_index['smiles']== i]\n",
    "    if len(temp_data) > 1:\n",
    "        smiles.append(temp_data['smiles'].unique())\n",
    "        rt_mean.append(temp_data['retention_time'].mean())\n",
    "        rt_std.append(temp_data['retention_time'].std())\n",
    "        rt_diff.append(temp_data['retention_time'].max()-temp_data['retention_time'].min())\n",
    "du_data = pd.DataFrame(list(zip(smiles, rt_mean,rt_std,rt_diff)),\n",
    "                       columns =['smiles', 'retention_time_mean','retention_time_std','retention_time_difference'])\n",
    "du_data"
   ],
   "metadata": {
    "collapsed": false,
    "pycharm": {
     "name": "#%%\n"
    }
   },
   "execution_count": null,
   "outputs": []
  },
  {
   "cell_type": "code",
   "source": [
    "# Create descriptors of PFP_data\n",
    "calc = Calculator(descriptors, ignore_3D=True)\n",
    "mols = [Chem.MolFromSmiles(smi) for smi in data_csh['smiles']]\n",
    "df = calc.pandas(mols)\n",
    "df.head()"
   ],
   "metadata": {
    "collapsed": false,
    "pycharm": {
     "name": "#%%\n"
    }
   },
   "execution_count": null,
   "outputs": []
  },
  {
   "cell_type": "code",
   "source": [
    "# Split training dataset and test dataset\n",
    "df_train=df.loc[df['split_index'] == 1]\n",
    "df_train.head()\n",
    "df_test=df.loc[df['split_index'] == 2]\n",
    "df_test.head()"
   ],
   "metadata": {
    "collapsed": false,
    "pycharm": {
     "name": "#%%\n"
    }
   },
   "execution_count": null,
   "outputs": []
  },
  {
   "cell_type": "code",
   "source": [
    "# Summary of rentention time variable\n",
    "from autogluon.tabular import TabularDataset, TabularPredictor\n",
    "label='retention_time'\n",
    "print(\"Summary of rt variable: \\n\", df_train[label].describe())"
   ],
   "metadata": {
    "collapsed": false,
    "pycharm": {
     "name": "#%%\n"
    }
   },
   "execution_count": null,
   "outputs": []
  },
  {
   "cell_type": "code",
   "source": [
    "# Build predict_model\n",
    "save_path ='rt_predict_models_csh'\n",
    "predictor = TabularPredictor(label=label, path=save_path).fit(df_train)"
   ],
   "metadata": {
    "collapsed": false,
    "pycharm": {
     "name": "#%%\n"
    }
   },
   "execution_count": null,
   "outputs": []
  },
  {
   "cell_type": "code",
   "source": [
    "# prepare test set\n",
    "y_test = df_test[label]\n",
    "test_data_nolab = df_test.drop(columns=[label])\n",
    "test_data_nolab.head()"
   ],
   "metadata": {
    "collapsed": false,
    "pycharm": {
     "name": "#%%\n"
    }
   },
   "execution_count": null,
   "outputs": []
  },
  {
   "cell_type": "code",
   "source": [
    "# performance of predict_model on test set\n",
    "predictor = TabularPredictor.load(save_path)\n",
    "y_pred = predictor.predict(test_data_nolab)\n",
    "print(\"Predictions:  \\n\", y_pred)\n",
    "perf = predictor.evaluate_predictions(y_true=y_test, y_pred=y_pred, auxiliary_metrics=True)"
   ],
   "metadata": {
    "collapsed": false,
    "pycharm": {
     "name": "#%%\n"
    }
   },
   "execution_count": null,
   "outputs": []
  },
  {
   "cell_type": "code",
   "source": [
    "# Performance of different models\n",
    "predictor.leaderboard(df_test , silent=True)"
   ],
   "metadata": {
    "collapsed": false,
    "pycharm": {
     "name": "#%%\n"
    }
   },
   "execution_count": null,
   "outputs": []
  },
  {
   "cell_type": "code",
   "source": [
    "# feature importance\n",
    "feature_importance = predictor.feature_importance(df_test)\n",
    "feature_importance.to_csv('feature_importance_csh.csv')"
   ],
   "metadata": {
    "collapsed": false,
    "pycharm": {
     "name": "#%%\n"
    }
   },
   "execution_count": null,
   "outputs": []
  }
 ],
 "metadata": {
  "kernelspec": {
   "name": "my-rdkit-env",
   "language": "python",
   "display_name": "my-rdkit-env"
  },
  "language_info": {
   "codemirror_mode": {
    "name": "ipython",
    "version": 2
   },
   "file_extension": ".py",
   "mimetype": "text/x-python",
   "name": "python",
   "nbconvert_exporter": "python",
   "pygments_lexer": "ipython2",
   "version": "2.7.6"
  }
 },
 "nbformat": 4,
 "nbformat_minor": 0
}