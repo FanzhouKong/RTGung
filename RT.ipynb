{
 "cells": [
  {
   "cell_type": "code",
   "execution_count": 29,
   "outputs": [
    {
     "data": {
      "text/plain": "                 compound_name  retention_time  \\\n0  1_TG 14:0-13:0-14:0-d5_ISTD           9.211   \n1  1_TG 14:0-15:1-14:0-d5_ISTD           9.235   \n2  1_TG 14:0-17:1-14:0-d5_ISTD           9.742   \n3  1_TG 16:0-15:1-16:0-d5_ISTD          10.223   \n4  1_TG 16:0-17:1-16:0-d5_ISTD          10.671   \n\n                                                                     smiles  \\\n0             CCCCCCCCCCCCCC(=O)OCC(COC(=O)CCCCCCCCCCCCC)OC(=O)CCCCCCCCCCCC   \n1        CCCC/C=C\\CCCCCCCCC(=O)OC(COC(=O)CCCCCCCCCCCCC)COC(=O)CCCCCCCCCCCCC   \n2      CCCCCC/C=C\\CCCCCCCCC(=O)OC(COC(=O)CCCCCCCCCCCCC)COC(=O)CCCCCCCCCCCCC   \n3    CCCC/C=C\\CCCCCCCCC(=O)OC(COC(=O)CCCCCCCCCCCCCCC)COC(=O)CCCCCCCCCCCCCCC   \n4  CCCCCC/C=C\\CCCCCCCCC(=O)OC(COC(=O)CCCCCCCCCCCCCCC)COC(=O)CCCCCCCCCCCCCCC   \n\n   split_index  \n0            1  \n1            1  \n2            2  \n3            1  \n4            1  ",
      "text/html": "<div>\n<style scoped>\n    .dataframe tbody tr th:only-of-type {\n        vertical-align: middle;\n    }\n\n    .dataframe tbody tr th {\n        vertical-align: top;\n    }\n\n    .dataframe thead th {\n        text-align: right;\n    }\n</style>\n<table border=\"1\" class=\"dataframe\">\n  <thead>\n    <tr style=\"text-align: right;\">\n      <th></th>\n      <th>compound_name</th>\n      <th>retention_time</th>\n      <th>smiles</th>\n      <th>split_index</th>\n    </tr>\n  </thead>\n  <tbody>\n    <tr>\n      <th>0</th>\n      <td>1_TG 14:0-13:0-14:0-d5_ISTD</td>\n      <td>9.211</td>\n      <td>CCCCCCCCCCCCCC(=O)OCC(COC(=O)CCCCCCCCCCCCC)OC(=O)CCCCCCCCCCCC</td>\n      <td>1</td>\n    </tr>\n    <tr>\n      <th>1</th>\n      <td>1_TG 14:0-15:1-14:0-d5_ISTD</td>\n      <td>9.235</td>\n      <td>CCCC/C=C\\CCCCCCCCC(=O)OC(COC(=O)CCCCCCCCCCCCC)COC(=O)CCCCCCCCCCCCC</td>\n      <td>1</td>\n    </tr>\n    <tr>\n      <th>2</th>\n      <td>1_TG 14:0-17:1-14:0-d5_ISTD</td>\n      <td>9.742</td>\n      <td>CCCCCC/C=C\\CCCCCCCCC(=O)OC(COC(=O)CCCCCCCCCCCCC)COC(=O)CCCCCCCCCCCCC</td>\n      <td>2</td>\n    </tr>\n    <tr>\n      <th>3</th>\n      <td>1_TG 16:0-15:1-16:0-d5_ISTD</td>\n      <td>10.223</td>\n      <td>CCCC/C=C\\CCCCCCCCC(=O)OC(COC(=O)CCCCCCCCCCCCCCC)COC(=O)CCCCCCCCCCCCCCC</td>\n      <td>1</td>\n    </tr>\n    <tr>\n      <th>4</th>\n      <td>1_TG 16:0-17:1-16:0-d5_ISTD</td>\n      <td>10.671</td>\n      <td>CCCCCC/C=C\\CCCCCCCCC(=O)OC(COC(=O)CCCCCCCCCCCCCCC)COC(=O)CCCCCCCCCCCCCCC</td>\n      <td>1</td>\n    </tr>\n  </tbody>\n</table>\n</div>"
     },
     "execution_count": 29,
     "metadata": {},
     "output_type": "execute_result"
    }
   ],
   "source": [
    "import pandas as pd\n",
    "from rdkit import Chem\n",
    "from mordred import Calculator, descriptors\n",
    "data_pfp=pd.read_csv('Fiehn_PFP.csv')\n",
    "data_csh=pd.read_csv('Fiehn_CSH.csv')\n",
    "data_pfp.head()\n",
    "data_csh.head()"
   ],
   "metadata": {
    "collapsed": false,
    "pycharm": {
     "name": "#%%\n"
    }
   }
  },
  {
   "cell_type": "code",
   "execution_count": 33,
   "outputs": [
    {
     "name": "stderr",
     "output_type": "stream",
     "text": [
      "  2%|▏         | 33/1933 [00:04<03:18,  9.58it/s] "
     ]
    },
    {
     "name": "stdout",
     "output_type": "stream",
     "text": [
      "C:\\Users\\halle\\miniconda3\\envs\\my-rdkit-env\\lib\\site-packages\\numpy\\core\\fromnumeric.py:86: RuntimeWarning: overflow encountered in reduce\n",
      "  return ufunc.reduce(obj, axis, dtype, out, **passkwargs)\n"
     ]
    },
    {
     "name": "stderr",
     "output_type": "stream",
     "text": [
      "  2%|▏         | 38/1933 [00:05<03:19,  9.51it/s]"
     ]
    },
    {
     "name": "stdout",
     "output_type": "stream",
     "text": [
      "C:\\Users\\halle\\miniconda3\\envs\\my-rdkit-env\\lib\\site-packages\\numpy\\core\\fromnumeric.py:86: RuntimeWarning: overflow encountered in reduce\n",
      "  return ufunc.reduce(obj, axis, dtype, out, **passkwargs)\n"
     ]
    },
    {
     "name": "stderr",
     "output_type": "stream",
     "text": [
      "  7%|▋         | 127/1933 [00:14<02:49, 10.66it/s]"
     ]
    },
    {
     "name": "stdout",
     "output_type": "stream",
     "text": [
      "C:\\Users\\halle\\miniconda3\\envs\\my-rdkit-env\\lib\\site-packages\\numpy\\core\\fromnumeric.py:86: RuntimeWarning: overflow encountered in reduce\n",
      "  return ufunc.reduce(obj, axis, dtype, out, **passkwargs)\n"
     ]
    },
    {
     "name": "stderr",
     "output_type": "stream",
     "text": [
      "  8%|▊         | 153/1933 [00:18<05:08,  5.77it/s]"
     ]
    },
    {
     "name": "stdout",
     "output_type": "stream",
     "text": [
      "C:\\Users\\halle\\miniconda3\\envs\\my-rdkit-env\\lib\\site-packages\\numpy\\core\\fromnumeric.py:86: RuntimeWarning: overflow encountered in reduce\n",
      "  return ufunc.reduce(obj, axis, dtype, out, **passkwargs)\n"
     ]
    },
    {
     "name": "stderr",
     "output_type": "stream",
     "text": [
      " 10%|▉         | 184/1933 [00:19<05:11,  5.61it/s]"
     ]
    },
    {
     "name": "stdout",
     "output_type": "stream",
     "text": [
      "C:\\Users\\halle\\miniconda3\\envs\\my-rdkit-env\\lib\\site-packages\\numpy\\core\\fromnumeric.py:86: RuntimeWarning: overflow encountered in reduce\n",
      "  return ufunc.reduce(obj, axis, dtype, out, **passkwargs)\n",
      "C:\\Users\\halle\\miniconda3\\envs\\my-rdkit-env\\lib\\site-packages\\numpy\\core\\fromnumeric.py:86: RuntimeWarning: overflow encountered in reduce\n",
      "  return ufunc.reduce(obj, axis, dtype, out, **passkwargs)\n"
     ]
    },
    {
     "name": "stderr",
     "output_type": "stream",
     "text": [
      " 16%|█▋        | 318/1933 [00:34<02:41,  9.98it/s]"
     ]
    },
    {
     "name": "stdout",
     "output_type": "stream",
     "text": [
      "C:\\Users\\halle\\miniconda3\\envs\\my-rdkit-env\\lib\\site-packages\\numpy\\core\\fromnumeric.py:86: RuntimeWarning: overflow encountered in reduce\n",
      "  return ufunc.reduce(obj, axis, dtype, out, **passkwargs)\n"
     ]
    },
    {
     "name": "stderr",
     "output_type": "stream",
     "text": [
      " 20%|██        | 392/1933 [00:39<01:43, 14.89it/s]"
     ]
    },
    {
     "name": "stdout",
     "output_type": "stream",
     "text": [
      "C:\\Users\\halle\\miniconda3\\envs\\my-rdkit-env\\lib\\site-packages\\numpy\\core\\fromnumeric.py:86: RuntimeWarning: overflow encountered in reduce\n",
      "  return ufunc.reduce(obj, axis, dtype, out, **passkwargs)\n"
     ]
    },
    {
     "name": "stderr",
     "output_type": "stream",
     "text": [
      " 22%|██▏       | 419/1933 [00:45<03:45,  6.73it/s]"
     ]
    },
    {
     "name": "stdout",
     "output_type": "stream",
     "text": [
      "C:\\Users\\halle\\miniconda3\\envs\\my-rdkit-env\\lib\\site-packages\\numpy\\core\\fromnumeric.py:86: RuntimeWarning: overflow encountered in reduce\n",
      "  return ufunc.reduce(obj, axis, dtype, out, **passkwargs)\n",
      "C:\\Users\\halle\\miniconda3\\envs\\my-rdkit-env\\lib\\site-packages\\numpy\\core\\fromnumeric.py:86: RuntimeWarning: overflow encountered in reduce\n",
      "  return ufunc.reduce(obj, axis, dtype, out, **passkwargs)\n",
      "C:\\Users\\halle\\miniconda3\\envs\\my-rdkit-env\\lib\\site-packages\\numpy\\core\\fromnumeric.py:86: RuntimeWarning: overflow encountered in reduce\n",
      "  return ufunc.reduce(obj, axis, dtype, out, **passkwargs)\n"
     ]
    },
    {
     "name": "stderr",
     "output_type": "stream",
     "text": [
      " 29%|██▉       | 560/1933 [01:02<03:00,  7.60it/s]"
     ]
    },
    {
     "name": "stdout",
     "output_type": "stream",
     "text": [
      "C:\\Users\\halle\\miniconda3\\envs\\my-rdkit-env\\lib\\site-packages\\numpy\\core\\fromnumeric.py:86: RuntimeWarning: overflow encountered in reduce\n",
      "  return ufunc.reduce(obj, axis, dtype, out, **passkwargs)\n"
     ]
    },
    {
     "name": "stderr",
     "output_type": "stream",
     "text": [
      " 32%|███▏      | 614/1933 [01:06<02:31,  8.71it/s]"
     ]
    },
    {
     "name": "stdout",
     "output_type": "stream",
     "text": [
      "C:\\Users\\halle\\miniconda3\\envs\\my-rdkit-env\\lib\\site-packages\\numpy\\core\\fromnumeric.py:86: RuntimeWarning: overflow encountered in reduce\n",
      "  return ufunc.reduce(obj, axis, dtype, out, **passkwargs)\n"
     ]
    },
    {
     "name": "stderr",
     "output_type": "stream",
     "text": [
      " 32%|███▏      | 618/1933 [01:07<02:37,  8.36it/s]"
     ]
    },
    {
     "name": "stdout",
     "output_type": "stream",
     "text": [
      "C:\\Users\\halle\\miniconda3\\envs\\my-rdkit-env\\lib\\site-packages\\numpy\\core\\fromnumeric.py:86: RuntimeWarning: overflow encountered in reduce\n",
      "  return ufunc.reduce(obj, axis, dtype, out, **passkwargs)\n"
     ]
    },
    {
     "name": "stderr",
     "output_type": "stream",
     "text": [
      " 37%|███▋      | 719/1933 [01:18<03:28,  5.84it/s]"
     ]
    },
    {
     "name": "stdout",
     "output_type": "stream",
     "text": [
      "C:\\Users\\halle\\miniconda3\\envs\\my-rdkit-env\\lib\\site-packages\\numpy\\core\\fromnumeric.py:86: RuntimeWarning: overflow encountered in reduce\n",
      "  return ufunc.reduce(obj, axis, dtype, out, **passkwargs)\n"
     ]
    },
    {
     "name": "stderr",
     "output_type": "stream",
     "text": [
      " 62%|██████▏   | 1208/1933 [02:04<00:55, 13.17it/s]"
     ]
    },
    {
     "name": "stdout",
     "output_type": "stream",
     "text": [
      "C:\\Users\\halle\\miniconda3\\envs\\my-rdkit-env\\lib\\site-packages\\numpy\\core\\fromnumeric.py:86: RuntimeWarning: overflow encountered in reduce\n",
      "  return ufunc.reduce(obj, axis, dtype, out, **passkwargs)\n"
     ]
    },
    {
     "name": "stderr",
     "output_type": "stream",
     "text": [
      "100%|██████████| 1933/1933 [03:14<00:00,  9.92it/s]\n"
     ]
    },
    {
     "data": {
      "text/plain": "         ABC      ABCGG  nAcid  nBase    SpAbs_A   SpMax_A  SpDiam_A  \\\n0  53.346601  39.877147      1      0  84.547542  2.735936  5.454882   \n1  15.361848  13.421903      0      0  24.365139  2.447054  4.894108   \n2  17.106680  15.468742      0      0  25.234080  2.631977  5.263954   \n3  42.885836  33.565709      0      0  66.749110  2.728079  5.427230   \n4  25.938492  20.372524      0      0  43.505650  2.437816  4.875633   \n\n      SpAD_A   SpMAD_A   LogEE_A  ...      SRW10      TSRW10          MW  \\\n0  84.547542  1.261904  5.155252  ...  11.669322  122.404157  954.482430   \n1  24.365139  1.218257  3.914319  ...   9.989344   53.842497  278.115424   \n2  25.234080  1.147004  4.022669  ...  10.540250   57.336429  310.214409   \n3  66.749110  1.236095  4.934765  ...  11.427030  108.258079  770.481642   \n4  43.505650  1.279578  4.433325  ...  10.367316   70.107172  480.163162   \n\n        AMW  WPath  WPol  Zagreb1  Zagreb2   mZagreb1   mZagreb2  \n0  6.769379  20233   154    388.0    494.0  27.479167  14.104167  \n1  7.318827    763    32    104.0    121.0   8.479167   4.333333  \n2  5.965662    888    45    122.0    150.0  10.993056   4.555556  \n3  6.213562  10668   118    310.0    389.0  22.951389  11.256944  \n4  7.744567   3873    55    172.0    200.0  12.833333   7.611111  \n\n[5 rows x 1613 columns]",
      "text/html": "<div>\n<style scoped>\n    .dataframe tbody tr th:only-of-type {\n        vertical-align: middle;\n    }\n\n    .dataframe tbody tr th {\n        vertical-align: top;\n    }\n\n    .dataframe thead th {\n        text-align: right;\n    }\n</style>\n<table border=\"1\" class=\"dataframe\">\n  <thead>\n    <tr style=\"text-align: right;\">\n      <th></th>\n      <th>ABC</th>\n      <th>ABCGG</th>\n      <th>nAcid</th>\n      <th>nBase</th>\n      <th>SpAbs_A</th>\n      <th>SpMax_A</th>\n      <th>SpDiam_A</th>\n      <th>SpAD_A</th>\n      <th>SpMAD_A</th>\n      <th>LogEE_A</th>\n      <th>...</th>\n      <th>SRW10</th>\n      <th>TSRW10</th>\n      <th>MW</th>\n      <th>AMW</th>\n      <th>WPath</th>\n      <th>WPol</th>\n      <th>Zagreb1</th>\n      <th>Zagreb2</th>\n      <th>mZagreb1</th>\n      <th>mZagreb2</th>\n    </tr>\n  </thead>\n  <tbody>\n    <tr>\n      <th>0</th>\n      <td>53.346601</td>\n      <td>39.877147</td>\n      <td>1</td>\n      <td>0</td>\n      <td>84.547542</td>\n      <td>2.735936</td>\n      <td>5.454882</td>\n      <td>84.547542</td>\n      <td>1.261904</td>\n      <td>5.155252</td>\n      <td>...</td>\n      <td>11.669322</td>\n      <td>122.404157</td>\n      <td>954.482430</td>\n      <td>6.769379</td>\n      <td>20233</td>\n      <td>154</td>\n      <td>388.0</td>\n      <td>494.0</td>\n      <td>27.479167</td>\n      <td>14.104167</td>\n    </tr>\n    <tr>\n      <th>1</th>\n      <td>15.361848</td>\n      <td>13.421903</td>\n      <td>0</td>\n      <td>0</td>\n      <td>24.365139</td>\n      <td>2.447054</td>\n      <td>4.894108</td>\n      <td>24.365139</td>\n      <td>1.218257</td>\n      <td>3.914319</td>\n      <td>...</td>\n      <td>9.989344</td>\n      <td>53.842497</td>\n      <td>278.115424</td>\n      <td>7.318827</td>\n      <td>763</td>\n      <td>32</td>\n      <td>104.0</td>\n      <td>121.0</td>\n      <td>8.479167</td>\n      <td>4.333333</td>\n    </tr>\n    <tr>\n      <th>2</th>\n      <td>17.106680</td>\n      <td>15.468742</td>\n      <td>0</td>\n      <td>0</td>\n      <td>25.234080</td>\n      <td>2.631977</td>\n      <td>5.263954</td>\n      <td>25.234080</td>\n      <td>1.147004</td>\n      <td>4.022669</td>\n      <td>...</td>\n      <td>10.540250</td>\n      <td>57.336429</td>\n      <td>310.214409</td>\n      <td>5.965662</td>\n      <td>888</td>\n      <td>45</td>\n      <td>122.0</td>\n      <td>150.0</td>\n      <td>10.993056</td>\n      <td>4.555556</td>\n    </tr>\n    <tr>\n      <th>3</th>\n      <td>42.885836</td>\n      <td>33.565709</td>\n      <td>0</td>\n      <td>0</td>\n      <td>66.749110</td>\n      <td>2.728079</td>\n      <td>5.427230</td>\n      <td>66.749110</td>\n      <td>1.236095</td>\n      <td>4.934765</td>\n      <td>...</td>\n      <td>11.427030</td>\n      <td>108.258079</td>\n      <td>770.481642</td>\n      <td>6.213562</td>\n      <td>10668</td>\n      <td>118</td>\n      <td>310.0</td>\n      <td>389.0</td>\n      <td>22.951389</td>\n      <td>11.256944</td>\n    </tr>\n    <tr>\n      <th>4</th>\n      <td>25.938492</td>\n      <td>20.372524</td>\n      <td>0</td>\n      <td>0</td>\n      <td>43.505650</td>\n      <td>2.437816</td>\n      <td>4.875633</td>\n      <td>43.505650</td>\n      <td>1.279578</td>\n      <td>4.433325</td>\n      <td>...</td>\n      <td>10.367316</td>\n      <td>70.107172</td>\n      <td>480.163162</td>\n      <td>7.744567</td>\n      <td>3873</td>\n      <td>55</td>\n      <td>172.0</td>\n      <td>200.0</td>\n      <td>12.833333</td>\n      <td>7.611111</td>\n    </tr>\n  </tbody>\n</table>\n<p>5 rows × 1613 columns</p>\n</div>"
     },
     "execution_count": 33,
     "metadata": {},
     "output_type": "execute_result"
    }
   ],
   "source": [
    "calc = Calculator(descriptors, ignore_3D=True)\n",
    "mols = [Chem.MolFromSmiles(smi) for smi in data_pfp['smiles']]\n",
    "df = calc.pandas(mols)\n",
    "df.head()"
   ],
   "metadata": {
    "collapsed": false,
    "pycharm": {
     "name": "#%%\n"
    }
   }
  },
  {
   "cell_type": "code",
   "execution_count": 10,
   "outputs": [
    {
     "data": {
      "text/plain": "         ABC      ABCGG  nAcid  nBase    SpAbs_A   SpMax_A  SpDiam_A  \\\n0  53.346601  39.877147      1      0  84.547542  2.735936  5.454882   \n1  15.361848  13.421903      0      0  24.365139  2.447054  4.894108   \n2  17.106680  15.468742      0      0  25.234080  2.631977  5.263954   \n3  42.885836  33.565709      0      0  66.749110  2.728079  5.427230   \n4  25.938492  20.372524      0      0  43.505650  2.437816  4.875633   \n\n      SpAD_A   SpMAD_A   LogEE_A  ...          MW       AMW  WPath  WPol  \\\n0  84.547542  1.261904  5.155252  ...  954.482430  6.769379  20233   154   \n1  24.365139  1.218257  3.914319  ...  278.115424  7.318827    763    32   \n2  25.234080  1.147004  4.022669  ...  310.214409  5.965662    888    45   \n3  66.749110  1.236095  4.934765  ...  770.481642  6.213562  10668   118   \n4  43.505650  1.279578  4.433325  ...  480.163162  7.744567   3873    55   \n\n   Zagreb1  Zagreb2   mZagreb1   mZagreb2  split_index  retention_time  \n0    388.0    494.0  27.479167  14.104167            2           4.698  \n1    104.0    121.0   8.479167   4.333333            1           2.801  \n2    122.0    150.0  10.993056   4.555556            2           3.907  \n3    310.0    389.0  22.951389  11.256944            1           4.410  \n4    172.0    200.0  12.833333   7.611111            1           3.008  \n\n[5 rows x 1615 columns]",
      "text/html": "<div>\n<style scoped>\n    .dataframe tbody tr th:only-of-type {\n        vertical-align: middle;\n    }\n\n    .dataframe tbody tr th {\n        vertical-align: top;\n    }\n\n    .dataframe thead th {\n        text-align: right;\n    }\n</style>\n<table border=\"1\" class=\"dataframe\">\n  <thead>\n    <tr style=\"text-align: right;\">\n      <th></th>\n      <th>ABC</th>\n      <th>ABCGG</th>\n      <th>nAcid</th>\n      <th>nBase</th>\n      <th>SpAbs_A</th>\n      <th>SpMax_A</th>\n      <th>SpDiam_A</th>\n      <th>SpAD_A</th>\n      <th>SpMAD_A</th>\n      <th>LogEE_A</th>\n      <th>...</th>\n      <th>MW</th>\n      <th>AMW</th>\n      <th>WPath</th>\n      <th>WPol</th>\n      <th>Zagreb1</th>\n      <th>Zagreb2</th>\n      <th>mZagreb1</th>\n      <th>mZagreb2</th>\n      <th>split_index</th>\n      <th>retention_time</th>\n    </tr>\n  </thead>\n  <tbody>\n    <tr>\n      <th>0</th>\n      <td>53.346601</td>\n      <td>39.877147</td>\n      <td>1</td>\n      <td>0</td>\n      <td>84.547542</td>\n      <td>2.735936</td>\n      <td>5.454882</td>\n      <td>84.547542</td>\n      <td>1.261904</td>\n      <td>5.155252</td>\n      <td>...</td>\n      <td>954.482430</td>\n      <td>6.769379</td>\n      <td>20233</td>\n      <td>154</td>\n      <td>388.0</td>\n      <td>494.0</td>\n      <td>27.479167</td>\n      <td>14.104167</td>\n      <td>2</td>\n      <td>4.698</td>\n    </tr>\n    <tr>\n      <th>1</th>\n      <td>15.361848</td>\n      <td>13.421903</td>\n      <td>0</td>\n      <td>0</td>\n      <td>24.365139</td>\n      <td>2.447054</td>\n      <td>4.894108</td>\n      <td>24.365139</td>\n      <td>1.218257</td>\n      <td>3.914319</td>\n      <td>...</td>\n      <td>278.115424</td>\n      <td>7.318827</td>\n      <td>763</td>\n      <td>32</td>\n      <td>104.0</td>\n      <td>121.0</td>\n      <td>8.479167</td>\n      <td>4.333333</td>\n      <td>1</td>\n      <td>2.801</td>\n    </tr>\n    <tr>\n      <th>2</th>\n      <td>17.106680</td>\n      <td>15.468742</td>\n      <td>0</td>\n      <td>0</td>\n      <td>25.234080</td>\n      <td>2.631977</td>\n      <td>5.263954</td>\n      <td>25.234080</td>\n      <td>1.147004</td>\n      <td>4.022669</td>\n      <td>...</td>\n      <td>310.214409</td>\n      <td>5.965662</td>\n      <td>888</td>\n      <td>45</td>\n      <td>122.0</td>\n      <td>150.0</td>\n      <td>10.993056</td>\n      <td>4.555556</td>\n      <td>2</td>\n      <td>3.907</td>\n    </tr>\n    <tr>\n      <th>3</th>\n      <td>42.885836</td>\n      <td>33.565709</td>\n      <td>0</td>\n      <td>0</td>\n      <td>66.749110</td>\n      <td>2.728079</td>\n      <td>5.427230</td>\n      <td>66.749110</td>\n      <td>1.236095</td>\n      <td>4.934765</td>\n      <td>...</td>\n      <td>770.481642</td>\n      <td>6.213562</td>\n      <td>10668</td>\n      <td>118</td>\n      <td>310.0</td>\n      <td>389.0</td>\n      <td>22.951389</td>\n      <td>11.256944</td>\n      <td>1</td>\n      <td>4.410</td>\n    </tr>\n    <tr>\n      <th>4</th>\n      <td>25.938492</td>\n      <td>20.372524</td>\n      <td>0</td>\n      <td>0</td>\n      <td>43.505650</td>\n      <td>2.437816</td>\n      <td>4.875633</td>\n      <td>43.505650</td>\n      <td>1.279578</td>\n      <td>4.433325</td>\n      <td>...</td>\n      <td>480.163162</td>\n      <td>7.744567</td>\n      <td>3873</td>\n      <td>55</td>\n      <td>172.0</td>\n      <td>200.0</td>\n      <td>12.833333</td>\n      <td>7.611111</td>\n      <td>1</td>\n      <td>3.008</td>\n    </tr>\n  </tbody>\n</table>\n<p>5 rows × 1615 columns</p>\n</div>"
     },
     "execution_count": 10,
     "metadata": {},
     "output_type": "execute_result"
    }
   ],
   "source": [
    "split = data_pfp['split_index']\n",
    "rt = data_pfp['retention_time']\n",
    "df['split_index'] = split\n",
    "df['retention_time'] = rt\n",
    "df.head()"
   ],
   "metadata": {
    "collapsed": false,
    "pycharm": {
     "name": "#%%\n"
    }
   }
  },
  {
   "cell_type": "code",
   "execution_count": 11,
   "outputs": [
    {
     "data": {
      "text/plain": "          ABC      ABCGG  nAcid  nBase    SpAbs_A   SpMax_A  SpDiam_A  \\\n0   53.346601  39.877147      1      0  84.547542  2.735936  5.454882   \n2   17.106680  15.468742      0      0  25.234080  2.631977  5.263954   \n7   24.570965  19.968537      1      0  38.781891  2.591037  5.182075   \n18  15.613368  12.228372      0      0  26.115489  2.448426  4.896852   \n32  28.155878  20.267691      0      0  44.141810  2.538201  5.076401   \n\n       SpAD_A   SpMAD_A   LogEE_A  ...          MW       AMW  WPath  WPol  \\\n0   84.547542  1.261904  5.155252  ...  954.482430  6.769379  20233   154   \n2   25.234080  1.147004  4.022669  ...  310.214409  5.965662    888    45   \n7   38.781891  1.251029  4.376781  ...  422.172939  7.406543   2234    59   \n18  26.115489  1.305774  3.935766  ...  268.073559  8.377299    821    33   \n32  44.141810  1.261195  4.509461  ...  476.183503  7.558468   3732    67   \n\n    Zagreb1  Zagreb2   mZagreb1   mZagreb2  split_index  retention_time  \n0     388.0    494.0  27.479167  14.104167            2           4.698  \n2     122.0    150.0  10.993056   4.555556            2           3.907  \n7     172.0    209.0  11.895833   6.555556            2           5.928  \n18    106.0    126.0   6.277778   4.444444            2           4.585  \n32    200.0    243.0  12.708333   7.263889            2           6.062  \n\n[5 rows x 1615 columns]",
      "text/html": "<div>\n<style scoped>\n    .dataframe tbody tr th:only-of-type {\n        vertical-align: middle;\n    }\n\n    .dataframe tbody tr th {\n        vertical-align: top;\n    }\n\n    .dataframe thead th {\n        text-align: right;\n    }\n</style>\n<table border=\"1\" class=\"dataframe\">\n  <thead>\n    <tr style=\"text-align: right;\">\n      <th></th>\n      <th>ABC</th>\n      <th>ABCGG</th>\n      <th>nAcid</th>\n      <th>nBase</th>\n      <th>SpAbs_A</th>\n      <th>SpMax_A</th>\n      <th>SpDiam_A</th>\n      <th>SpAD_A</th>\n      <th>SpMAD_A</th>\n      <th>LogEE_A</th>\n      <th>...</th>\n      <th>MW</th>\n      <th>AMW</th>\n      <th>WPath</th>\n      <th>WPol</th>\n      <th>Zagreb1</th>\n      <th>Zagreb2</th>\n      <th>mZagreb1</th>\n      <th>mZagreb2</th>\n      <th>split_index</th>\n      <th>retention_time</th>\n    </tr>\n  </thead>\n  <tbody>\n    <tr>\n      <th>0</th>\n      <td>53.346601</td>\n      <td>39.877147</td>\n      <td>1</td>\n      <td>0</td>\n      <td>84.547542</td>\n      <td>2.735936</td>\n      <td>5.454882</td>\n      <td>84.547542</td>\n      <td>1.261904</td>\n      <td>5.155252</td>\n      <td>...</td>\n      <td>954.482430</td>\n      <td>6.769379</td>\n      <td>20233</td>\n      <td>154</td>\n      <td>388.0</td>\n      <td>494.0</td>\n      <td>27.479167</td>\n      <td>14.104167</td>\n      <td>2</td>\n      <td>4.698</td>\n    </tr>\n    <tr>\n      <th>2</th>\n      <td>17.106680</td>\n      <td>15.468742</td>\n      <td>0</td>\n      <td>0</td>\n      <td>25.234080</td>\n      <td>2.631977</td>\n      <td>5.263954</td>\n      <td>25.234080</td>\n      <td>1.147004</td>\n      <td>4.022669</td>\n      <td>...</td>\n      <td>310.214409</td>\n      <td>5.965662</td>\n      <td>888</td>\n      <td>45</td>\n      <td>122.0</td>\n      <td>150.0</td>\n      <td>10.993056</td>\n      <td>4.555556</td>\n      <td>2</td>\n      <td>3.907</td>\n    </tr>\n    <tr>\n      <th>7</th>\n      <td>24.570965</td>\n      <td>19.968537</td>\n      <td>1</td>\n      <td>0</td>\n      <td>38.781891</td>\n      <td>2.591037</td>\n      <td>5.182075</td>\n      <td>38.781891</td>\n      <td>1.251029</td>\n      <td>4.376781</td>\n      <td>...</td>\n      <td>422.172939</td>\n      <td>7.406543</td>\n      <td>2234</td>\n      <td>59</td>\n      <td>172.0</td>\n      <td>209.0</td>\n      <td>11.895833</td>\n      <td>6.555556</td>\n      <td>2</td>\n      <td>5.928</td>\n    </tr>\n    <tr>\n      <th>18</th>\n      <td>15.613368</td>\n      <td>12.228372</td>\n      <td>0</td>\n      <td>0</td>\n      <td>26.115489</td>\n      <td>2.448426</td>\n      <td>4.896852</td>\n      <td>26.115489</td>\n      <td>1.305774</td>\n      <td>3.935766</td>\n      <td>...</td>\n      <td>268.073559</td>\n      <td>8.377299</td>\n      <td>821</td>\n      <td>33</td>\n      <td>106.0</td>\n      <td>126.0</td>\n      <td>6.277778</td>\n      <td>4.444444</td>\n      <td>2</td>\n      <td>4.585</td>\n    </tr>\n    <tr>\n      <th>32</th>\n      <td>28.155878</td>\n      <td>20.267691</td>\n      <td>0</td>\n      <td>0</td>\n      <td>44.141810</td>\n      <td>2.538201</td>\n      <td>5.076401</td>\n      <td>44.141810</td>\n      <td>1.261195</td>\n      <td>4.509461</td>\n      <td>...</td>\n      <td>476.183503</td>\n      <td>7.558468</td>\n      <td>3732</td>\n      <td>67</td>\n      <td>200.0</td>\n      <td>243.0</td>\n      <td>12.708333</td>\n      <td>7.263889</td>\n      <td>2</td>\n      <td>6.062</td>\n    </tr>\n  </tbody>\n</table>\n<p>5 rows × 1615 columns</p>\n</div>"
     },
     "execution_count": 11,
     "metadata": {},
     "output_type": "execute_result"
    }
   ],
   "source": [
    "df_train=df.loc[df['split_index'] == 1]\n",
    "df_train.head()\n",
    "df_test=df.loc[df['split_index'] == 2]\n",
    "df_test.head()"
   ],
   "metadata": {
    "collapsed": false,
    "pycharm": {
     "name": "#%%\n"
    }
   }
  },
  {
   "cell_type": "code",
   "execution_count": 12,
   "outputs": [
    {
     "name": "stdout",
     "output_type": "stream",
     "text": [
      "Summary of rt variable: \n",
      " count    1391.000000\n",
      "mean        3.848717\n",
      "std         1.805281\n",
      "min         0.212000\n",
      "25%         2.315000\n",
      "50%         4.055000\n",
      "75%         5.482000\n",
      "max         8.560000\n",
      "Name: retention_time, dtype: float64\n"
     ]
    }
   ],
   "source": [
    "from autogluon.tabular import TabularDataset, TabularPredictor\n",
    "label='retention_time'\n",
    "print(\"Summary of rt variable: \\n\", df_train[label].describe())"
   ],
   "metadata": {
    "collapsed": false,
    "pycharm": {
     "name": "#%%\n"
    }
   }
  },
  {
   "cell_type": "code",
   "execution_count": 13,
   "outputs": [
    {
     "name": "stderr",
     "output_type": "stream",
     "text": [
      "Warning: path already exists! This predictor may overwrite an existing predictor! path=\"rt_predict_models\"\n",
      "Beginning AutoGluon training ...\n",
      "AutoGluon will save models to \"rt_predict_models\\\"\n",
      "AutoGluon Version:  0.4.0\n",
      "Python Version:     3.9.12\n",
      "Operating System:   Windows\n",
      "Train Data Rows:    1391\n",
      "Train Data Columns: 1614\n",
      "Label Column: retention_time\n",
      "Preprocessing data ...\n",
      "AutoGluon infers your prediction problem is: 'regression' (because dtype of label-column == float and many unique label-values observed).\n",
      "\tLabel info (max, min, mean, stddev): (8.56, 0.212, 3.84872, 1.80528)\n",
      "\tIf 'regression' is not the correct problem_type, please manually specify the problem_type parameter during predictor init (You may specify problem_type as one of: ['binary', 'multiclass', 'regression'])\n",
      "Using Feature Generators to preprocess the data ...\n",
      "Fitting AutoMLPipelineFeatureGenerator...\n",
      "\tAvailable Memory:                    7423.76 MB\n",
      "\tTrain Data (Original)  Memory Usage: 33.08 MB (0.4% of available memory)\n",
      "\tInferring data type of each feature based on column values. Set feature_metadata_in to manually specify special dtypes of the features.\n",
      "\tStage 1 Generators:\n",
      "\t\tFitting AsTypeFeatureGenerator...\n",
      "\t\t\tNote: Converting 69 features to boolean dtype as they only contain 2 unique values.\n",
      "\tStage 2 Generators:\n",
      "\t\tFitting FillNaFeatureGenerator...\n",
      "\tStage 3 Generators:\n",
      "\t\tFitting IdentityFeatureGenerator...\n",
      "\t\tFitting CategoryFeatureGenerator...\n",
      "\t\t\tFitting CategoryMemoryMinimizeFeatureGenerator...\n",
      "\t\tFitting DatetimeFeatureGenerator...\n",
      "C:\\Users\\halle\\miniconda3\\envs\\my-rdkit-env\\lib\\site-packages\\autogluon\\features\\generators\\datetime.py:63: PerformanceWarning: DataFrame is highly fragmented.  This is usually the result of calling `frame.insert` many times, which has poor performance.  Consider joining all columns at once using pd.concat(axis=1) instead.  To get a de-fragmented frame, use `newframe = frame.copy()`\n",
      "  X_datetime[datetime_feature] = pd.to_datetime(X[datetime_feature], errors='coerce').fillna(self._fillna_map[datetime_feature])\n",
      "C:\\Users\\halle\\miniconda3\\envs\\my-rdkit-env\\lib\\site-packages\\autogluon\\features\\generators\\datetime.py:69: PerformanceWarning: DataFrame is highly fragmented.  This is usually the result of calling `frame.insert` many times, which has poor performance.  Consider joining all columns at once using pd.concat(axis=1) instead.  To get a de-fragmented frame, use `newframe = frame.copy()`\n",
      "  X_datetime[datetime_feature + '.' + feature] = getattr(X_datetime[datetime_feature].dt, feature).astype(int)\n",
      "\tStage 4 Generators:\n",
      "\t\tFitting DropUniqueFeatureGenerator...\n",
      "\tUseless Original Features (Count: 138): ['nB', 'nF', 'nBr', 'nI', 'NsLi', 'NssBe', 'NssssBe', 'NssBH', 'NsssB', 'NssssB', 'NddC', 'NssNH2', 'NsF', 'NsSiH3', 'NssSiH2', 'NsssSiH', 'NssssSi', 'NsPH2', 'NssPH', 'NsssP', 'NsssssP', 'NsSH', 'NdS', 'NdssS', 'NsGeH3', 'NssGeH2', 'NsssGeH', 'NssssGe', 'NsAsH2', 'NssAsH', 'NsssAs', 'NsssdAs', 'NsssssAs', 'NsSeH', 'NdSe', 'NssSe', 'NaaSe', 'NdssSe', 'NddssSe', 'NsBr', 'NsSnH3', 'NssSnH2', 'NsssSnH', 'NssssSn', 'NsI', 'NsPbH3', 'NssPbH2', 'NsssPbH', 'NssssPb', 'SsLi', 'SssBe', 'SssssBe', 'SssBH', 'SsssB', 'SssssB', 'SddC', 'SssNH2', 'SsF', 'SsSiH3', 'SssSiH2', 'SsssSiH', 'SssssSi', 'SsPH2', 'SssPH', 'SsssP', 'SsssssP', 'SsSH', 'SdS', 'SdssS', 'SsGeH3', 'SssGeH2', 'SsssGeH', 'SssssGe', 'SsAsH2', 'SssAsH', 'SsssAs', 'SsssdAs', 'SsssssAs', 'SsSeH', 'SdSe', 'SssSe', 'SaaSe', 'SdssSe', 'SddssSe', 'SsBr', 'SsSnH3', 'SssSnH2', 'SsssSnH', 'SssssSn', 'SsI', 'SsPbH3', 'SssPbH2', 'SsssPbH', 'SssssPb', 'ETA_dPsi_B', 'SMR_VSA8', 'SlogP_VSA9', 'n4HRing', 'n8HRing', 'n3aRing', 'n4aRing', 'n8aRing', 'n9aRing', 'n10aRing', 'n11aRing', 'n12aRing', 'n3aHRing', 'n4aHRing', 'n7aHRing', 'n8aHRing', 'n9aHRing', 'n10aHRing', 'n11aHRing', 'n12aHRing', 'n4AHRing', 'n8AHRing', 'n4FRing', 'n5FRing', 'n4FHRing', 'n5FHRing', 'n4FaRing', 'n5FaRing', 'n6FaRing', 'n7FaRing', 'n8FaRing', 'n12FaRing', 'n4FaHRing', 'n5FaHRing', 'n6FaHRing', 'n7FaHRing', 'n8FaHRing', 'n11FaHRing', 'n12FaHRing', 'n4FARing', 'n5FARing', 'n4FAHRing', 'n5FAHRing', 'split_index']\n",
      "\t\tThese features carry no predictive signal and should be manually investigated.\n",
      "\t\tThis is typically a feature which has the same value for all rows.\n",
      "\t\tThese features do not need to be present at inference time.\n",
      "\tUnused Original Features (Count: 138): ['SpAbs_Dt', 'SpMax_Dt', 'SpDiam_Dt', 'SpAD_Dt', 'SpMAD_Dt', 'LogEE_Dt', 'SM1_Dt', 'VE1_Dt', 'VE2_Dt', 'VE3_Dt', 'VR1_Dt', 'VR2_Dt', 'VR3_Dt', 'DetourIndex', 'MAXsLi', 'MAXssBe', 'MAXssssBe', 'MAXssBH', 'MAXsssB', 'MAXssssB', 'MAXtCH', 'MAXddC', 'MAXtsC', 'MAXsNH3', 'MAXsNH2', 'MAXssNH2', 'MAXdNH', 'MAXssNH', 'MAXtN', 'MAXsssNH', 'MAXdsN', 'MAXddsN', 'MAXaasN', 'MAXssssN', 'MAXsF', 'MAXsSiH3', 'MAXssSiH2', 'MAXsssSiH', 'MAXssssSi', 'MAXsPH2', 'MAXssPH', 'MAXsssP', 'MAXdsssP', 'MAXsssssP', 'MAXsSH', 'MAXdS', 'MAXssS', 'MAXaaS', 'MAXdssS', 'MAXddssS', 'MAXsCl', 'MAXsGeH3', 'MAXssGeH2', 'MAXsssGeH', 'MAXssssGe', 'MAXsAsH2', 'MAXssAsH', 'MAXsssAs', 'MAXsssdAs', 'MAXsssssAs', 'MAXsSeH', 'MAXdSe', 'MAXssSe', 'MAXaaSe', 'MAXdssSe', 'MAXddssSe', 'MAXsBr', 'MAXsSnH3', 'MAXssSnH2', 'MAXsssSnH', 'MAXssssSn', 'MAXsI', 'MAXsPbH3', 'MAXssPbH2', 'MAXsssPbH', 'MAXssssPb', 'MINsLi', 'MINssBe', 'MINssssBe', 'MINssBH', 'MINsssB', 'MINssssB', 'MINtCH', 'MINddC', 'MINtsC', 'MINsNH3', 'MINsNH2', 'MINssNH2', 'MINdNH', 'MINssNH', 'MINtN', 'MINsssNH', 'MINdsN', 'MINddsN', 'MINssssN', 'MINsF', 'MINsSiH3', 'MINssSiH2', 'MINsssSiH', 'MINssssSi', 'MINsPH2', 'MINssPH', 'MINsssP', 'MINdsssP', 'MINsssssP', 'MINsSH', 'MINdS', 'MINssS', 'MINaaS', 'MINdssS', 'MINddssS', 'MINsCl', 'MINsGeH3', 'MINssGeH2', 'MINsssGeH', 'MINssssGe', 'MINsAsH2', 'MINssAsH', 'MINsssAs', 'MINsssdAs', 'MINsssssAs', 'MINsSeH', 'MINdSe', 'MINssSe', 'MINaaSe', 'MINdssSe', 'MINddssSe', 'MINsBr', 'MINsSnH3', 'MINssSnH2', 'MINsssSnH', 'MINssssSn', 'MINsI', 'MINsPbH3', 'MINssPbH2', 'MINsssPbH', 'MINssssPb', 'MDEN-11']\n",
      "\t\tThese features were not used to generate any of the output features. Add a feature generator compatible with these features to utilize them.\n",
      "\t\tFeatures can also be unused if they carry very little information, such as being categorical but having almost entirely unique values or being duplicates of other features.\n",
      "\t\tThese features do not need to be present at inference time.\n",
      "\t\t('object', []) : 138 | ['SpAbs_Dt', 'SpMax_Dt', 'SpDiam_Dt', 'SpAD_Dt', 'SpMAD_Dt', ...]\n",
      "\tTypes of features in original data (raw dtype, special dtypes):\n",
      "\t\t('bool', [])                       :   2 | ['Lipinski', 'GhoseFilter']\n",
      "\t\t('float', [])                      : 949 | ['ABC', 'ABCGG', 'SpAbs_A', 'SpMax_A', 'SpDiam_A', ...]\n",
      "\t\t('int', [])                        : 185 | ['nAcid', 'nBase', 'nAromAtom', 'nAromBond', 'nAtom', ...]\n",
      "\t\t('object', [])                     :  14 | ['MAXdCH2', 'MAXaaNH', 'MAXaaN', 'MAXsssN', 'MINdCH2', ...]\n",
      "\t\t('object', ['datetime_as_object']) : 188 | ['AATS6dv', 'AATS7dv', 'AATS8dv', 'AATS6d', 'AATS7d', ...]\n",
      "\tTypes of features in processed data (raw dtype, special dtypes):\n",
      "\t\t('category', [])             :  14 | ['MAXdCH2', 'MAXaaNH', 'MAXaaN', 'MAXsssN', 'MINdCH2', ...]\n",
      "\t\t('float', [])                : 944 | ['ABC', 'ABCGG', 'SpAbs_A', 'SpMax_A', 'SpDiam_A', ...]\n",
      "\t\t('int', [])                  : 123 | ['nAcid', 'nBase', 'nAromAtom', 'nAromBond', 'nAtom', ...]\n",
      "\t\t('int', ['bool'])            :  69 | ['nP', 'nBondsT', 'C1SP1', 'NtCH', 'NsNH3', ...]\n",
      "\t\t('int', ['datetime_as_int']) : 347 | ['AATS6dv', 'AATS7dv', 'AATS8dv', 'AATS6d', 'AATS7d', ...]\n",
      "\t5.5s = Fit runtime\n",
      "\t1338 features in original data used to generate 1497 features in processed data.\n",
      "\tTrain Data (Processed) Memory Usage: 14.81 MB (0.2% of available memory)\n",
      "Data preprocessing and feature engineering runtime = 5.71s ...\n",
      "AutoGluon will gauge predictive performance using evaluation metric: 'root_mean_squared_error'\n",
      "\tTo change this, specify the eval_metric parameter of Predictor()\n",
      "Automatically generating train/validation split with holdout_frac=0.2, Train Rows: 1112, Val Rows: 279\n",
      "Fitting 11 L1 models ...\n",
      "Fitting model: KNeighborsUnif ...\n",
      "\t-1.262\t = Validation score   (root_mean_squared_error)\n",
      "\t0.23s\t = Training   runtime\n",
      "\t0.05s\t = Validation runtime\n",
      "Fitting model: KNeighborsDist ...\n",
      "\t-1.2229\t = Validation score   (root_mean_squared_error)\n",
      "\t0.29s\t = Training   runtime\n",
      "\t0.03s\t = Validation runtime\n",
      "Fitting model: LightGBMXT ...\n",
      "\t-0.6847\t = Validation score   (root_mean_squared_error)\n",
      "\t5.85s\t = Training   runtime\n",
      "\t0.02s\t = Validation runtime\n",
      "Fitting model: LightGBM ...\n",
      "\t-0.7256\t = Validation score   (root_mean_squared_error)\n",
      "\t13.76s\t = Training   runtime\n",
      "\t0.02s\t = Validation runtime\n",
      "Fitting model: RandomForestMSE ...\n",
      "\t-0.7626\t = Validation score   (root_mean_squared_error)\n",
      "\t11.13s\t = Training   runtime\n",
      "\t0.04s\t = Validation runtime\n",
      "Fitting model: CatBoost ...\n",
      "\t-0.6803\t = Validation score   (root_mean_squared_error)\n",
      "\t131.88s\t = Training   runtime\n",
      "\t0.07s\t = Validation runtime\n",
      "Fitting model: ExtraTreesMSE ...\n",
      "\t-0.7382\t = Validation score   (root_mean_squared_error)\n",
      "\t3.33s\t = Training   runtime\n",
      "\t0.04s\t = Validation runtime\n",
      "Fitting model: NeuralNetFastAI ...\n",
      "\t-0.671\t = Validation score   (root_mean_squared_error)\n",
      "\t5.56s\t = Training   runtime\n",
      "\t0.32s\t = Validation runtime\n",
      "Fitting model: XGBoost ...\n",
      "\t-0.7636\t = Validation score   (root_mean_squared_error)\n",
      "\t41.41s\t = Training   runtime\n",
      "\t0.03s\t = Validation runtime\n",
      "Fitting model: NeuralNetTorch ...\n",
      "\t-0.5983\t = Validation score   (root_mean_squared_error)\n",
      "\t10.1s\t = Training   runtime\n",
      "\t0.33s\t = Validation runtime\n",
      "Fitting model: LightGBMLarge ...\n",
      "\t-0.7497\t = Validation score   (root_mean_squared_error)\n",
      "\t49.45s\t = Training   runtime\n",
      "\t0.03s\t = Validation runtime\n",
      "Fitting model: WeightedEnsemble_L2 ...\n",
      "\t-0.5851\t = Validation score   (root_mean_squared_error)\n",
      "\t0.21s\t = Training   runtime\n",
      "\t0.01s\t = Validation runtime\n",
      "AutoGluon training complete, total runtime = 281.66s ... Best model: \"WeightedEnsemble_L2\"\n",
      "TabularPredictor saved. To load, use: predictor = TabularPredictor.load(\"rt_predict_models\\\")\n"
     ]
    }
   ],
   "source": [
    "save_path ='rt_predict_models_pfp'\n",
    "predictor = TabularPredictor(label=label, path=save_path).fit(df_train)"
   ],
   "metadata": {
    "collapsed": false,
    "pycharm": {
     "name": "#%%\n"
    }
   }
  },
  {
   "cell_type": "code",
   "execution_count": 22,
   "outputs": [
    {
     "data": {
      "text/plain": "          ABC      ABCGG  nAcid  nBase    SpAbs_A   SpMax_A  SpDiam_A  \\\n0   53.346601  39.877147      1      0  84.547542  2.735936  5.454882   \n2   17.106680  15.468742      0      0  25.234080  2.631977  5.263954   \n7   24.570965  19.968537      1      0  38.781891  2.591037  5.182075   \n18  15.613368  12.228372      0      0  26.115489  2.448426  4.896852   \n32  28.155878  20.267691      0      0  44.141810  2.538201  5.076401   \n\n       SpAD_A   SpMAD_A   LogEE_A  ...      TSRW10          MW       AMW  \\\n0   84.547542  1.261904  5.155252  ...  122.404157  954.482430  6.769379   \n2   25.234080  1.147004  4.022669  ...   57.336429  310.214409  5.965662   \n7   38.781891  1.251029  4.376781  ...   67.638644  422.172939  7.406543   \n18  26.115489  1.305774  3.935766  ...   53.909997  268.073559  8.377299   \n32  44.141810  1.261195  4.509461  ...   72.423241  476.183503  7.558468   \n\n    WPath  WPol  Zagreb1  Zagreb2   mZagreb1   mZagreb2  split_index  \n0   20233   154    388.0    494.0  27.479167  14.104167            2  \n2     888    45    122.0    150.0  10.993056   4.555556            2  \n7    2234    59    172.0    209.0  11.895833   6.555556            2  \n18    821    33    106.0    126.0   6.277778   4.444444            2  \n32   3732    67    200.0    243.0  12.708333   7.263889            2  \n\n[5 rows x 1614 columns]",
      "text/html": "<div>\n<style scoped>\n    .dataframe tbody tr th:only-of-type {\n        vertical-align: middle;\n    }\n\n    .dataframe tbody tr th {\n        vertical-align: top;\n    }\n\n    .dataframe thead th {\n        text-align: right;\n    }\n</style>\n<table border=\"1\" class=\"dataframe\">\n  <thead>\n    <tr style=\"text-align: right;\">\n      <th></th>\n      <th>ABC</th>\n      <th>ABCGG</th>\n      <th>nAcid</th>\n      <th>nBase</th>\n      <th>SpAbs_A</th>\n      <th>SpMax_A</th>\n      <th>SpDiam_A</th>\n      <th>SpAD_A</th>\n      <th>SpMAD_A</th>\n      <th>LogEE_A</th>\n      <th>...</th>\n      <th>TSRW10</th>\n      <th>MW</th>\n      <th>AMW</th>\n      <th>WPath</th>\n      <th>WPol</th>\n      <th>Zagreb1</th>\n      <th>Zagreb2</th>\n      <th>mZagreb1</th>\n      <th>mZagreb2</th>\n      <th>split_index</th>\n    </tr>\n  </thead>\n  <tbody>\n    <tr>\n      <th>0</th>\n      <td>53.346601</td>\n      <td>39.877147</td>\n      <td>1</td>\n      <td>0</td>\n      <td>84.547542</td>\n      <td>2.735936</td>\n      <td>5.454882</td>\n      <td>84.547542</td>\n      <td>1.261904</td>\n      <td>5.155252</td>\n      <td>...</td>\n      <td>122.404157</td>\n      <td>954.482430</td>\n      <td>6.769379</td>\n      <td>20233</td>\n      <td>154</td>\n      <td>388.0</td>\n      <td>494.0</td>\n      <td>27.479167</td>\n      <td>14.104167</td>\n      <td>2</td>\n    </tr>\n    <tr>\n      <th>2</th>\n      <td>17.106680</td>\n      <td>15.468742</td>\n      <td>0</td>\n      <td>0</td>\n      <td>25.234080</td>\n      <td>2.631977</td>\n      <td>5.263954</td>\n      <td>25.234080</td>\n      <td>1.147004</td>\n      <td>4.022669</td>\n      <td>...</td>\n      <td>57.336429</td>\n      <td>310.214409</td>\n      <td>5.965662</td>\n      <td>888</td>\n      <td>45</td>\n      <td>122.0</td>\n      <td>150.0</td>\n      <td>10.993056</td>\n      <td>4.555556</td>\n      <td>2</td>\n    </tr>\n    <tr>\n      <th>7</th>\n      <td>24.570965</td>\n      <td>19.968537</td>\n      <td>1</td>\n      <td>0</td>\n      <td>38.781891</td>\n      <td>2.591037</td>\n      <td>5.182075</td>\n      <td>38.781891</td>\n      <td>1.251029</td>\n      <td>4.376781</td>\n      <td>...</td>\n      <td>67.638644</td>\n      <td>422.172939</td>\n      <td>7.406543</td>\n      <td>2234</td>\n      <td>59</td>\n      <td>172.0</td>\n      <td>209.0</td>\n      <td>11.895833</td>\n      <td>6.555556</td>\n      <td>2</td>\n    </tr>\n    <tr>\n      <th>18</th>\n      <td>15.613368</td>\n      <td>12.228372</td>\n      <td>0</td>\n      <td>0</td>\n      <td>26.115489</td>\n      <td>2.448426</td>\n      <td>4.896852</td>\n      <td>26.115489</td>\n      <td>1.305774</td>\n      <td>3.935766</td>\n      <td>...</td>\n      <td>53.909997</td>\n      <td>268.073559</td>\n      <td>8.377299</td>\n      <td>821</td>\n      <td>33</td>\n      <td>106.0</td>\n      <td>126.0</td>\n      <td>6.277778</td>\n      <td>4.444444</td>\n      <td>2</td>\n    </tr>\n    <tr>\n      <th>32</th>\n      <td>28.155878</td>\n      <td>20.267691</td>\n      <td>0</td>\n      <td>0</td>\n      <td>44.141810</td>\n      <td>2.538201</td>\n      <td>5.076401</td>\n      <td>44.141810</td>\n      <td>1.261195</td>\n      <td>4.509461</td>\n      <td>...</td>\n      <td>72.423241</td>\n      <td>476.183503</td>\n      <td>7.558468</td>\n      <td>3732</td>\n      <td>67</td>\n      <td>200.0</td>\n      <td>243.0</td>\n      <td>12.708333</td>\n      <td>7.263889</td>\n      <td>2</td>\n    </tr>\n  </tbody>\n</table>\n<p>5 rows × 1614 columns</p>\n</div>"
     },
     "execution_count": 22,
     "metadata": {},
     "output_type": "execute_result"
    }
   ],
   "source": [
    "y_test = df_test[label]\n",
    "test_data_nolab = df_test.drop(columns=[label])\n",
    "test_data_nolab.head()"
   ],
   "metadata": {
    "collapsed": false,
    "pycharm": {
     "name": "#%%\n"
    }
   }
  },
  {
   "cell_type": "code",
   "execution_count": 24,
   "outputs": [
    {
     "name": "stderr",
     "output_type": "stream",
     "text": [
      "C:\\Users\\halle\\miniconda3\\envs\\my-rdkit-env\\lib\\site-packages\\autogluon\\features\\generators\\datetime.py:63: PerformanceWarning: DataFrame is highly fragmented.  This is usually the result of calling `frame.insert` many times, which has poor performance.  Consider joining all columns at once using pd.concat(axis=1) instead.  To get a de-fragmented frame, use `newframe = frame.copy()`\n",
      "  X_datetime[datetime_feature] = pd.to_datetime(X[datetime_feature], errors='coerce').fillna(self._fillna_map[datetime_feature])\n",
      "C:\\Users\\halle\\miniconda3\\envs\\my-rdkit-env\\lib\\site-packages\\autogluon\\features\\generators\\datetime.py:69: PerformanceWarning: DataFrame is highly fragmented.  This is usually the result of calling `frame.insert` many times, which has poor performance.  Consider joining all columns at once using pd.concat(axis=1) instead.  To get a de-fragmented frame, use `newframe = frame.copy()`\n",
      "  X_datetime[datetime_feature + '.' + feature] = getattr(X_datetime[datetime_feature].dt, feature).astype(int)\n",
      "Evaluation: root_mean_squared_error on test data: -0.5775080542266695\n",
      "\tNote: Scores are always higher_is_better. This metric score can be multiplied by -1 to get the metric value.\n",
      "Evaluations on test data:\n",
      "{\n",
      "    \"root_mean_squared_error\": -0.5775080542266695,\n",
      "    \"mean_squared_error\": -0.3335155526966738,\n",
      "    \"mean_absolute_error\": -0.39914901320626656,\n",
      "    \"r2\": 0.9071105743428003,\n",
      "    \"pearsonr\": 0.9529266459753234,\n",
      "    \"median_absolute_error\": -0.2592473411560059\n",
      "}\n"
     ]
    },
    {
     "name": "stdout",
     "output_type": "stream",
     "text": [
      "Predictions:  \n",
      " 0       4.664629\n",
      "2       4.273823\n",
      "7       5.866498\n",
      "18      4.630483\n",
      "32      5.867785\n",
      "          ...   \n",
      "1498    2.233401\n",
      "1509    4.220539\n",
      "1513    3.273458\n",
      "1534    6.150897\n",
      "1541    0.291267\n",
      "Name: retention_time, Length: 155, dtype: float32\n",
      "<class 'dict'>\n"
     ]
    }
   ],
   "source": [
    "predictor = TabularPredictor.load(save_path)\n",
    "y_pred = predictor.predict(test_data_nolab)\n",
    "print(\"Predictions:  \\n\", y_pred)\n",
    "perf = predictor.evaluate_predictions(y_true=y_test, y_pred=y_pred, auxiliary_metrics=True)"
   ],
   "metadata": {
    "collapsed": false,
    "pycharm": {
     "name": "#%%\n"
    }
   }
  },
  {
   "cell_type": "code",
   "execution_count": 16,
   "outputs": [
    {
     "name": "stderr",
     "output_type": "stream",
     "text": [
      "C:\\Users\\halle\\miniconda3\\envs\\my-rdkit-env\\lib\\site-packages\\autogluon\\features\\generators\\datetime.py:63: PerformanceWarning: DataFrame is highly fragmented.  This is usually the result of calling `frame.insert` many times, which has poor performance.  Consider joining all columns at once using pd.concat(axis=1) instead.  To get a de-fragmented frame, use `newframe = frame.copy()`\n",
      "  X_datetime[datetime_feature] = pd.to_datetime(X[datetime_feature], errors='coerce').fillna(self._fillna_map[datetime_feature])\n",
      "C:\\Users\\halle\\miniconda3\\envs\\my-rdkit-env\\lib\\site-packages\\autogluon\\features\\generators\\datetime.py:69: PerformanceWarning: DataFrame is highly fragmented.  This is usually the result of calling `frame.insert` many times, which has poor performance.  Consider joining all columns at once using pd.concat(axis=1) instead.  To get a de-fragmented frame, use `newframe = frame.copy()`\n",
      "  X_datetime[datetime_feature + '.' + feature] = getattr(X_datetime[datetime_feature].dt, feature).astype(int)\n"
     ]
    },
    {
     "name": "stdout",
     "output_type": "stream",
     "text": [
      "<class 'pandas.core.frame.DataFrame'>\n"
     ]
    }
   ],
   "source": [
    "df_modelpf = predictor.leaderboard(df_test , silent=True)"
   ],
   "metadata": {
    "collapsed": false,
    "pycharm": {
     "name": "#%%\n"
    }
   }
  },
  {
   "cell_type": "code",
   "execution_count": 40,
   "outputs": [],
   "source": [
    "df_modelpf.to_csv('model_performance_pfp', index=False)"
   ],
   "metadata": {
    "collapsed": false,
    "pycharm": {
     "name": "#%%\n"
    }
   }
  },
  {
   "cell_type": "code",
   "execution_count": 34,
   "outputs": [
    {
     "name": "stderr",
     "output_type": "stream",
     "text": [
      "  0%|          | 1/259 [00:02<09:53,  2.30s/it]"
     ]
    },
    {
     "name": "stdout",
     "output_type": "stream",
     "text": [
      "C:\\Users\\halle\\miniconda3\\envs\\my-rdkit-env\\lib\\site-packages\\numpy\\core\\fromnumeric.py:86: RuntimeWarning: overflow encountered in reduce\n",
      "  return ufunc.reduce(obj, axis, dtype, out, **passkwargs)\n"
     ]
    },
    {
     "name": "stderr",
     "output_type": "stream",
     "text": [
      "  1%|          | 3/259 [00:02<05:33,  1.30s/it]"
     ]
    },
    {
     "name": "stdout",
     "output_type": "stream",
     "text": [
      "C:\\Users\\halle\\miniconda3\\envs\\my-rdkit-env\\lib\\site-packages\\numpy\\core\\fromnumeric.py:86: RuntimeWarning: overflow encountered in reduce\n",
      "  return ufunc.reduce(obj, axis, dtype, out, **passkwargs)\n",
      "C:\\Users\\halle\\miniconda3\\envs\\my-rdkit-env\\lib\\site-packages\\numpy\\core\\fromnumeric.py:86: RuntimeWarning: overflow encountered in reduce\n",
      "  return ufunc.reduce(obj, axis, dtype, out, **passkwargs)\n",
      "C:\\Users\\halle\\miniconda3\\envs\\my-rdkit-env\\lib\\site-packages\\numpy\\core\\fromnumeric.py:86: RuntimeWarning: overflow encountered in reduce\n",
      "  return ufunc.reduce(obj, axis, dtype, out, **passkwargs)\n"
     ]
    },
    {
     "name": "stderr",
     "output_type": "stream",
     "text": [
      "  2%|▏         | 6/259 [00:03<01:45,  2.40it/s]"
     ]
    },
    {
     "name": "stdout",
     "output_type": "stream",
     "text": [
      "C:\\Users\\halle\\miniconda3\\envs\\my-rdkit-env\\lib\\site-packages\\numpy\\core\\fromnumeric.py:86: RuntimeWarning: overflow encountered in reduce\n",
      "  return ufunc.reduce(obj, axis, dtype, out, **passkwargs)\n",
      "C:\\Users\\halle\\miniconda3\\envs\\my-rdkit-env\\lib\\site-packages\\numpy\\core\\fromnumeric.py:86: RuntimeWarning: overflow encountered in reduce\n",
      "  return ufunc.reduce(obj, axis, dtype, out, **passkwargs)\n",
      "C:\\Users\\halle\\miniconda3\\envs\\my-rdkit-env\\lib\\site-packages\\numpy\\core\\fromnumeric.py:86: RuntimeWarning: overflow encountered in reduce\n",
      "  return ufunc.reduce(obj, axis, dtype, out, **passkwargs)\n"
     ]
    },
    {
     "name": "stderr",
     "output_type": "stream",
     "text": [
      "  6%|▌         | 15/259 [00:03<01:04,  3.81it/s]"
     ]
    },
    {
     "name": "stdout",
     "output_type": "stream",
     "text": [
      "C:\\Users\\halle\\miniconda3\\envs\\my-rdkit-env\\lib\\site-packages\\numpy\\core\\fromnumeric.py:86: RuntimeWarning: overflow encountered in reduce\n",
      "  return ufunc.reduce(obj, axis, dtype, out, **passkwargs)\n",
      "C:\\Users\\halle\\miniconda3\\envs\\my-rdkit-env\\lib\\site-packages\\numpy\\core\\fromnumeric.py:86: RuntimeWarning: overflow encountered in reduce\n",
      "  return ufunc.reduce(obj, axis, dtype, out, **passkwargs)\n",
      "C:\\Users\\halle\\miniconda3\\envs\\my-rdkit-env\\lib\\site-packages\\numpy\\core\\fromnumeric.py:86: RuntimeWarning: overflow encountered in reduce\n",
      "  return ufunc.reduce(obj, axis, dtype, out, **passkwargs)\n",
      "C:\\Users\\halle\\miniconda3\\envs\\my-rdkit-env\\lib\\site-packages\\numpy\\core\\fromnumeric.py:86: RuntimeWarning: overflow encountered in reduce\n",
      "  return ufunc.reduce(obj, axis, dtype, out, **passkwargs)\n",
      "C:\\Users\\halle\\miniconda3\\envs\\my-rdkit-env\\lib\\site-packages\\numpy\\core\\fromnumeric.py:86: RuntimeWarning: overflow encountered in reduce\n",
      "  return ufunc.reduce(obj, axis, dtype, out, **passkwargs)\n",
      "C:\\Users\\halle\\miniconda3\\envs\\my-rdkit-env\\lib\\site-packages\\numpy\\core\\fromnumeric.py:86: RuntimeWarning: overflow encountered in reduce\n",
      "  return ufunc.reduce(obj, axis, dtype, out, **passkwargs)\n",
      "C:\\Users\\halle\\miniconda3\\envs\\my-rdkit-env\\lib\\site-packages\\numpy\\core\\fromnumeric.py:86: RuntimeWarning: overflow encountered in reduce\n",
      "  return ufunc.reduce(obj, axis, dtype, out, **passkwargs)\n"
     ]
    },
    {
     "name": "stderr",
     "output_type": "stream",
     "text": [
      "  7%|▋         | 19/259 [00:03<00:20, 11.71it/s]"
     ]
    },
    {
     "name": "stdout",
     "output_type": "stream",
     "text": [
      "C:\\Users\\halle\\miniconda3\\envs\\my-rdkit-env\\lib\\site-packages\\numpy\\core\\fromnumeric.py:86: RuntimeWarning: overflow encountered in reduce\n",
      "  return ufunc.reduce(obj, axis, dtype, out, **passkwargs)\n"
     ]
    },
    {
     "name": "stderr",
     "output_type": "stream",
     "text": [
      "  7%|▋         | 19/259 [00:03<00:20, 11.71it/s]"
     ]
    },
    {
     "name": "stdout",
     "output_type": "stream",
     "text": [
      "C:\\Users\\halle\\miniconda3\\envs\\my-rdkit-env\\lib\\site-packages\\numpy\\core\\fromnumeric.py:86: RuntimeWarning: overflow encountered in reduce\n",
      "  return ufunc.reduce(obj, axis, dtype, out, **passkwargs)\n"
     ]
    },
    {
     "name": "stderr",
     "output_type": "stream",
     "text": [
      "100%|██████████| 259/259 [00:26<00:00,  9.87it/s]\n"
     ]
    },
    {
     "data": {
      "text/plain": "         ABC      ABCGG  nAcid  nBase    SpAbs_A   SpMax_A  SpDiam_A  \\\n0  34.976402  23.463844      0      0  62.038685  2.194932  4.389864   \n1  36.390615  24.012434      0      0  64.580899  2.194933  4.389866   \n2  37.804829  24.536480      0      0  67.124041  2.194933  4.389866   \n3  39.219042  25.059210      0      0  69.688605  2.194933  4.389866   \n4  40.633256  25.574715      0      0  72.231747  2.194933  4.389867   \n\n      SpAD_A   SpMAD_A   LogEE_A  ...     SRW10     TSRW10          MW  \\\n0  62.038685  1.240774  4.739337  ...  9.679656  85.301740  708.626790   \n1  64.580899   1.24194   4.77843  ...  9.710691  87.480775  734.642440   \n2  67.124041  1.243038  4.816053  ...  9.740792  89.653577  762.673741   \n3  69.688605  1.244439  4.852311  ...  9.770013  91.820569  790.705041   \n4  72.231747  1.245375    4.8873  ...  9.798405  93.982129  818.736341   \n\n        AMW  WPath WPol  Zagreb1  Zagreb2   mZagreb1  mZagreb2  \n0  5.288260  15148   52    202.0    205.0  16.444444      12.5  \n1  5.323496  17047   54    210.0    213.0  16.944444      13.0  \n2  5.296345  19154   56    218.0    221.0  17.444444      13.5  \n3  5.271367  21393   58    226.0    229.0  17.944444      14.0  \n4  5.248310  23780   60    234.0    237.0  18.444444      14.5  \n\n[5 rows x 1613 columns]",
      "text/html": "<div>\n<style scoped>\n    .dataframe tbody tr th:only-of-type {\n        vertical-align: middle;\n    }\n\n    .dataframe tbody tr th {\n        vertical-align: top;\n    }\n\n    .dataframe thead th {\n        text-align: right;\n    }\n</style>\n<table border=\"1\" class=\"dataframe\">\n  <thead>\n    <tr style=\"text-align: right;\">\n      <th></th>\n      <th>ABC</th>\n      <th>ABCGG</th>\n      <th>nAcid</th>\n      <th>nBase</th>\n      <th>SpAbs_A</th>\n      <th>SpMax_A</th>\n      <th>SpDiam_A</th>\n      <th>SpAD_A</th>\n      <th>SpMAD_A</th>\n      <th>LogEE_A</th>\n      <th>...</th>\n      <th>SRW10</th>\n      <th>TSRW10</th>\n      <th>MW</th>\n      <th>AMW</th>\n      <th>WPath</th>\n      <th>WPol</th>\n      <th>Zagreb1</th>\n      <th>Zagreb2</th>\n      <th>mZagreb1</th>\n      <th>mZagreb2</th>\n    </tr>\n  </thead>\n  <tbody>\n    <tr>\n      <th>0</th>\n      <td>34.976402</td>\n      <td>23.463844</td>\n      <td>0</td>\n      <td>0</td>\n      <td>62.038685</td>\n      <td>2.194932</td>\n      <td>4.389864</td>\n      <td>62.038685</td>\n      <td>1.240774</td>\n      <td>4.739337</td>\n      <td>...</td>\n      <td>9.679656</td>\n      <td>85.301740</td>\n      <td>708.626790</td>\n      <td>5.288260</td>\n      <td>15148</td>\n      <td>52</td>\n      <td>202.0</td>\n      <td>205.0</td>\n      <td>16.444444</td>\n      <td>12.5</td>\n    </tr>\n    <tr>\n      <th>1</th>\n      <td>36.390615</td>\n      <td>24.012434</td>\n      <td>0</td>\n      <td>0</td>\n      <td>64.580899</td>\n      <td>2.194933</td>\n      <td>4.389866</td>\n      <td>64.580899</td>\n      <td>1.24194</td>\n      <td>4.77843</td>\n      <td>...</td>\n      <td>9.710691</td>\n      <td>87.480775</td>\n      <td>734.642440</td>\n      <td>5.323496</td>\n      <td>17047</td>\n      <td>54</td>\n      <td>210.0</td>\n      <td>213.0</td>\n      <td>16.944444</td>\n      <td>13.0</td>\n    </tr>\n    <tr>\n      <th>2</th>\n      <td>37.804829</td>\n      <td>24.536480</td>\n      <td>0</td>\n      <td>0</td>\n      <td>67.124041</td>\n      <td>2.194933</td>\n      <td>4.389866</td>\n      <td>67.124041</td>\n      <td>1.243038</td>\n      <td>4.816053</td>\n      <td>...</td>\n      <td>9.740792</td>\n      <td>89.653577</td>\n      <td>762.673741</td>\n      <td>5.296345</td>\n      <td>19154</td>\n      <td>56</td>\n      <td>218.0</td>\n      <td>221.0</td>\n      <td>17.444444</td>\n      <td>13.5</td>\n    </tr>\n    <tr>\n      <th>3</th>\n      <td>39.219042</td>\n      <td>25.059210</td>\n      <td>0</td>\n      <td>0</td>\n      <td>69.688605</td>\n      <td>2.194933</td>\n      <td>4.389866</td>\n      <td>69.688605</td>\n      <td>1.244439</td>\n      <td>4.852311</td>\n      <td>...</td>\n      <td>9.770013</td>\n      <td>91.820569</td>\n      <td>790.705041</td>\n      <td>5.271367</td>\n      <td>21393</td>\n      <td>58</td>\n      <td>226.0</td>\n      <td>229.0</td>\n      <td>17.944444</td>\n      <td>14.0</td>\n    </tr>\n    <tr>\n      <th>4</th>\n      <td>40.633256</td>\n      <td>25.574715</td>\n      <td>0</td>\n      <td>0</td>\n      <td>72.231747</td>\n      <td>2.194933</td>\n      <td>4.389867</td>\n      <td>72.231747</td>\n      <td>1.245375</td>\n      <td>4.8873</td>\n      <td>...</td>\n      <td>9.798405</td>\n      <td>93.982129</td>\n      <td>818.736341</td>\n      <td>5.248310</td>\n      <td>23780</td>\n      <td>60</td>\n      <td>234.0</td>\n      <td>237.0</td>\n      <td>18.444444</td>\n      <td>14.5</td>\n    </tr>\n  </tbody>\n</table>\n<p>5 rows × 1613 columns</p>\n</div>"
     },
     "execution_count": 34,
     "metadata": {},
     "output_type": "execute_result"
    }
   ],
   "source": [
    "calc2 = Calculator(descriptors, ignore_3D=True)\n",
    "mols2 = [Chem.MolFromSmiles(smi) for smi in data_csh['smiles']]\n",
    "df2 = calc2.pandas(mols2)\n",
    "df2.head()"
   ],
   "metadata": {
    "collapsed": false,
    "pycharm": {
     "name": "#%%\n"
    }
   }
  },
  {
   "cell_type": "code",
   "execution_count": 45,
   "outputs": [
    {
     "data": {
      "text/plain": "         ABC      ABCGG  nAcid  nBase    SpAbs_A   SpMax_A  SpDiam_A  \\\n0  34.976402  23.463844      0      0  62.038685  2.194932  4.389864   \n1  36.390615  24.012434      0      0  64.580899  2.194933  4.389866   \n3  39.219042  25.059210      0      0  69.688605  2.194933  4.389866   \n4  40.633256  25.574715      0      0  72.231747  2.194933  4.389867   \n5  42.047469  26.069768      0      0  74.775541  2.194933  4.389867   \n\n      SpAD_A   SpMAD_A   LogEE_A  ...          MW       AMW  WPath WPol  \\\n0  62.038685  1.240774  4.739337  ...  708.626790  5.288260  15148   52   \n1  64.580899   1.24194   4.77843  ...  734.642440  5.323496  17047   54   \n3  69.688605  1.244439  4.852311  ...  790.705041  5.271367  21393   58   \n4  72.231747  1.245375    4.8873  ...  818.736341  5.248310  23780   60   \n5  74.775541  1.246259  4.921106  ...  844.751991  5.279700  26399   62   \n\n  Zagreb1 Zagreb2   mZagreb1  mZagreb2  split_index  retention_time  \n0   202.0   205.0  16.444444      12.5            1           9.211  \n1   210.0   213.0  16.944444      13.0            1           9.235  \n3   226.0   229.0  17.944444      14.0            1          10.223  \n4   234.0   237.0  18.444444      14.5            1          10.671  \n5   242.0   245.0  18.944444      15.0            1          10.713  \n\n[5 rows x 1615 columns]",
      "text/html": "<div>\n<style scoped>\n    .dataframe tbody tr th:only-of-type {\n        vertical-align: middle;\n    }\n\n    .dataframe tbody tr th {\n        vertical-align: top;\n    }\n\n    .dataframe thead th {\n        text-align: right;\n    }\n</style>\n<table border=\"1\" class=\"dataframe\">\n  <thead>\n    <tr style=\"text-align: right;\">\n      <th></th>\n      <th>ABC</th>\n      <th>ABCGG</th>\n      <th>nAcid</th>\n      <th>nBase</th>\n      <th>SpAbs_A</th>\n      <th>SpMax_A</th>\n      <th>SpDiam_A</th>\n      <th>SpAD_A</th>\n      <th>SpMAD_A</th>\n      <th>LogEE_A</th>\n      <th>...</th>\n      <th>MW</th>\n      <th>AMW</th>\n      <th>WPath</th>\n      <th>WPol</th>\n      <th>Zagreb1</th>\n      <th>Zagreb2</th>\n      <th>mZagreb1</th>\n      <th>mZagreb2</th>\n      <th>split_index</th>\n      <th>retention_time</th>\n    </tr>\n  </thead>\n  <tbody>\n    <tr>\n      <th>0</th>\n      <td>34.976402</td>\n      <td>23.463844</td>\n      <td>0</td>\n      <td>0</td>\n      <td>62.038685</td>\n      <td>2.194932</td>\n      <td>4.389864</td>\n      <td>62.038685</td>\n      <td>1.240774</td>\n      <td>4.739337</td>\n      <td>...</td>\n      <td>708.626790</td>\n      <td>5.288260</td>\n      <td>15148</td>\n      <td>52</td>\n      <td>202.0</td>\n      <td>205.0</td>\n      <td>16.444444</td>\n      <td>12.5</td>\n      <td>1</td>\n      <td>9.211</td>\n    </tr>\n    <tr>\n      <th>1</th>\n      <td>36.390615</td>\n      <td>24.012434</td>\n      <td>0</td>\n      <td>0</td>\n      <td>64.580899</td>\n      <td>2.194933</td>\n      <td>4.389866</td>\n      <td>64.580899</td>\n      <td>1.24194</td>\n      <td>4.77843</td>\n      <td>...</td>\n      <td>734.642440</td>\n      <td>5.323496</td>\n      <td>17047</td>\n      <td>54</td>\n      <td>210.0</td>\n      <td>213.0</td>\n      <td>16.944444</td>\n      <td>13.0</td>\n      <td>1</td>\n      <td>9.235</td>\n    </tr>\n    <tr>\n      <th>3</th>\n      <td>39.219042</td>\n      <td>25.059210</td>\n      <td>0</td>\n      <td>0</td>\n      <td>69.688605</td>\n      <td>2.194933</td>\n      <td>4.389866</td>\n      <td>69.688605</td>\n      <td>1.244439</td>\n      <td>4.852311</td>\n      <td>...</td>\n      <td>790.705041</td>\n      <td>5.271367</td>\n      <td>21393</td>\n      <td>58</td>\n      <td>226.0</td>\n      <td>229.0</td>\n      <td>17.944444</td>\n      <td>14.0</td>\n      <td>1</td>\n      <td>10.223</td>\n    </tr>\n    <tr>\n      <th>4</th>\n      <td>40.633256</td>\n      <td>25.574715</td>\n      <td>0</td>\n      <td>0</td>\n      <td>72.231747</td>\n      <td>2.194933</td>\n      <td>4.389867</td>\n      <td>72.231747</td>\n      <td>1.245375</td>\n      <td>4.8873</td>\n      <td>...</td>\n      <td>818.736341</td>\n      <td>5.248310</td>\n      <td>23780</td>\n      <td>60</td>\n      <td>234.0</td>\n      <td>237.0</td>\n      <td>18.444444</td>\n      <td>14.5</td>\n      <td>1</td>\n      <td>10.671</td>\n    </tr>\n    <tr>\n      <th>5</th>\n      <td>42.047469</td>\n      <td>26.069768</td>\n      <td>0</td>\n      <td>0</td>\n      <td>74.775541</td>\n      <td>2.194933</td>\n      <td>4.389867</td>\n      <td>74.775541</td>\n      <td>1.246259</td>\n      <td>4.921106</td>\n      <td>...</td>\n      <td>844.751991</td>\n      <td>5.279700</td>\n      <td>26399</td>\n      <td>62</td>\n      <td>242.0</td>\n      <td>245.0</td>\n      <td>18.944444</td>\n      <td>15.0</td>\n      <td>1</td>\n      <td>10.713</td>\n    </tr>\n  </tbody>\n</table>\n<p>5 rows × 1615 columns</p>\n</div>"
     },
     "execution_count": 45,
     "metadata": {},
     "output_type": "execute_result"
    }
   ],
   "source": [
    "split_csh = data_csh['split_index']\n",
    "rt_csh = data_csh['retention_time']\n",
    "df2['split_index'] = split_csh\n",
    "df2['retention_time'] = rt_csh\n",
    "df2_train = df2.loc[df2['split_index'] == 1]\n",
    "df2_train.head()"
   ],
   "metadata": {
    "collapsed": false,
    "pycharm": {
     "name": "#%%\n"
    }
   }
  },
  {
   "cell_type": "code",
   "execution_count": 44,
   "outputs": [
    {
     "data": {
      "text/plain": "          ABC      ABCGG  nAcid  nBase    SpAbs_A   SpMax_A  SpDiam_A  \\\n2   37.804829  24.536480      0      0  67.124041  2.194933  4.389866   \n7   44.875897  27.051154      0      0  79.880259  2.194933  4.389867   \n13  38.571404  24.025219      0      0  64.520724   2.62105  5.198663   \n25  36.368712  24.939087      1      1  61.339288  2.255006  4.510012   \n30  33.770636  23.178123      1      1  59.036181  2.244132  4.488263   \n\n       SpAD_A   SpMAD_A   LogEE_A  ...          MW       AMW  WPath WPol  \\\n2   67.124041  1.243038  4.816053  ...  762.673741  5.296345  19154   56   \n7   79.880259  1.248129  4.985472  ...  896.783291  5.337996  32097   66   \n13  64.520724  1.265112  4.830766  ...  700.615832  5.348212  15878   79   \n25  61.339288  1.202731  4.768166  ...  745.562155  5.691314  15978   54   \n30  59.036181   1.22992  4.702618  ...  703.515205  5.766518  13866   51   \n\n   Zagreb1 Zagreb2   mZagreb1   mZagreb2  split_index  retention_time  \n2    218.0   221.0  17.444444  13.500000            2           3.907  \n7    258.0   261.0  19.944444  16.000000            2           5.928  \n13   252.0   291.0     16.375  11.666667            2           4.488  \n25   216.0   220.0  18.708333  12.208333            2           5.666  \n30   198.0   202.0  16.645833  11.833333            2           4.763  \n\n[5 rows x 1615 columns]",
      "text/html": "<div>\n<style scoped>\n    .dataframe tbody tr th:only-of-type {\n        vertical-align: middle;\n    }\n\n    .dataframe tbody tr th {\n        vertical-align: top;\n    }\n\n    .dataframe thead th {\n        text-align: right;\n    }\n</style>\n<table border=\"1\" class=\"dataframe\">\n  <thead>\n    <tr style=\"text-align: right;\">\n      <th></th>\n      <th>ABC</th>\n      <th>ABCGG</th>\n      <th>nAcid</th>\n      <th>nBase</th>\n      <th>SpAbs_A</th>\n      <th>SpMax_A</th>\n      <th>SpDiam_A</th>\n      <th>SpAD_A</th>\n      <th>SpMAD_A</th>\n      <th>LogEE_A</th>\n      <th>...</th>\n      <th>MW</th>\n      <th>AMW</th>\n      <th>WPath</th>\n      <th>WPol</th>\n      <th>Zagreb1</th>\n      <th>Zagreb2</th>\n      <th>mZagreb1</th>\n      <th>mZagreb2</th>\n      <th>split_index</th>\n      <th>retention_time</th>\n    </tr>\n  </thead>\n  <tbody>\n    <tr>\n      <th>2</th>\n      <td>37.804829</td>\n      <td>24.536480</td>\n      <td>0</td>\n      <td>0</td>\n      <td>67.124041</td>\n      <td>2.194933</td>\n      <td>4.389866</td>\n      <td>67.124041</td>\n      <td>1.243038</td>\n      <td>4.816053</td>\n      <td>...</td>\n      <td>762.673741</td>\n      <td>5.296345</td>\n      <td>19154</td>\n      <td>56</td>\n      <td>218.0</td>\n      <td>221.0</td>\n      <td>17.444444</td>\n      <td>13.500000</td>\n      <td>2</td>\n      <td>3.907</td>\n    </tr>\n    <tr>\n      <th>7</th>\n      <td>44.875897</td>\n      <td>27.051154</td>\n      <td>0</td>\n      <td>0</td>\n      <td>79.880259</td>\n      <td>2.194933</td>\n      <td>4.389867</td>\n      <td>79.880259</td>\n      <td>1.248129</td>\n      <td>4.985472</td>\n      <td>...</td>\n      <td>896.783291</td>\n      <td>5.337996</td>\n      <td>32097</td>\n      <td>66</td>\n      <td>258.0</td>\n      <td>261.0</td>\n      <td>19.944444</td>\n      <td>16.000000</td>\n      <td>2</td>\n      <td>5.928</td>\n    </tr>\n    <tr>\n      <th>13</th>\n      <td>38.571404</td>\n      <td>24.025219</td>\n      <td>0</td>\n      <td>0</td>\n      <td>64.520724</td>\n      <td>2.62105</td>\n      <td>5.198663</td>\n      <td>64.520724</td>\n      <td>1.265112</td>\n      <td>4.830766</td>\n      <td>...</td>\n      <td>700.615832</td>\n      <td>5.348212</td>\n      <td>15878</td>\n      <td>79</td>\n      <td>252.0</td>\n      <td>291.0</td>\n      <td>16.375</td>\n      <td>11.666667</td>\n      <td>2</td>\n      <td>4.488</td>\n    </tr>\n    <tr>\n      <th>25</th>\n      <td>36.368712</td>\n      <td>24.939087</td>\n      <td>1</td>\n      <td>1</td>\n      <td>61.339288</td>\n      <td>2.255006</td>\n      <td>4.510012</td>\n      <td>61.339288</td>\n      <td>1.202731</td>\n      <td>4.768166</td>\n      <td>...</td>\n      <td>745.562155</td>\n      <td>5.691314</td>\n      <td>15978</td>\n      <td>54</td>\n      <td>216.0</td>\n      <td>220.0</td>\n      <td>18.708333</td>\n      <td>12.208333</td>\n      <td>2</td>\n      <td>5.666</td>\n    </tr>\n    <tr>\n      <th>30</th>\n      <td>33.770636</td>\n      <td>23.178123</td>\n      <td>1</td>\n      <td>1</td>\n      <td>59.036181</td>\n      <td>2.244132</td>\n      <td>4.488263</td>\n      <td>59.036181</td>\n      <td>1.22992</td>\n      <td>4.702618</td>\n      <td>...</td>\n      <td>703.515205</td>\n      <td>5.766518</td>\n      <td>13866</td>\n      <td>51</td>\n      <td>198.0</td>\n      <td>202.0</td>\n      <td>16.645833</td>\n      <td>11.833333</td>\n      <td>2</td>\n      <td>4.763</td>\n    </tr>\n  </tbody>\n</table>\n<p>5 rows × 1615 columns</p>\n</div>"
     },
     "execution_count": 44,
     "metadata": {},
     "output_type": "execute_result"
    }
   ],
   "source": [
    "df2_test = df2.loc[df2['split_index'] == 2]\n",
    "df2_test.head()"
   ],
   "metadata": {
    "collapsed": false,
    "pycharm": {
     "name": "#%%\n"
    }
   }
  },
  {
   "cell_type": "code",
   "execution_count": 38,
   "outputs": [
    {
     "name": "stdout",
     "output_type": "stream",
     "text": [
      "Summary of rt variable: \n",
      " count    174.000000\n",
      "mean       3.721977\n",
      "std        1.817455\n",
      "min        0.307000\n",
      "25%        2.295250\n",
      "50%        3.556000\n",
      "75%        5.581250\n",
      "max        8.175000\n",
      "Name: retention_time, dtype: float64\n"
     ]
    }
   ],
   "source": [
    "from autogluon.tabular import TabularDataset, TabularPredictor\n",
    "label2 = 'retention_time'\n",
    "print(\"Summary of rt variable: \\n\", df2_train[label2].describe())"
   ],
   "metadata": {
    "collapsed": false,
    "pycharm": {
     "name": "#%%\n"
    }
   }
  },
  {
   "cell_type": "code",
   "execution_count": 39,
   "outputs": [
    {
     "name": "stderr",
     "output_type": "stream",
     "text": [
      "Beginning AutoGluon training ...\n",
      "AutoGluon will save models to \"rt_predict_models_csh\\\"\n",
      "AutoGluon Version:  0.4.0\n",
      "Python Version:     3.9.12\n",
      "Operating System:   Windows\n",
      "Train Data Rows:    174\n",
      "Train Data Columns: 1614\n",
      "Label Column: retention_time\n",
      "Preprocessing data ...\n",
      "AutoGluon infers your prediction problem is: 'regression' (because dtype of label-column == float and many unique label-values observed).\n",
      "\tLabel info (max, min, mean, stddev): (8.175, 0.307, 3.72198, 1.81745)\n",
      "\tIf 'regression' is not the correct problem_type, please manually specify the problem_type parameter during predictor init (You may specify problem_type as one of: ['binary', 'multiclass', 'regression'])\n",
      "Using Feature Generators to preprocess the data ...\n",
      "Fitting AutoMLPipelineFeatureGenerator...\n",
      "\tAvailable Memory:                    7285.02 MB\n",
      "\tTrain Data (Original)  Memory Usage: 4.68 MB (0.1% of available memory)\n",
      "\tInferring data type of each feature based on column values. Set feature_metadata_in to manually specify special dtypes of the features.\n",
      "\tStage 1 Generators:\n",
      "\t\tFitting AsTypeFeatureGenerator...\n",
      "\t\t\tNote: Converting 29 features to boolean dtype as they only contain 2 unique values.\n",
      "\tStage 2 Generators:\n",
      "\t\tFitting FillNaFeatureGenerator...\n",
      "\tStage 3 Generators:\n",
      "\t\tFitting IdentityFeatureGenerator...\n",
      "\t\tFitting CategoryFeatureGenerator...\n",
      "\t\t\tFitting CategoryMemoryMinimizeFeatureGenerator...\n",
      "\t\tFitting DatetimeFeatureGenerator...\n",
      "C:\\Users\\halle\\miniconda3\\envs\\my-rdkit-env\\lib\\site-packages\\autogluon\\features\\generators\\datetime.py:63: PerformanceWarning: DataFrame is highly fragmented.  This is usually the result of calling `frame.insert` many times, which has poor performance.  Consider joining all columns at once using pd.concat(axis=1) instead.  To get a de-fragmented frame, use `newframe = frame.copy()`\n",
      "  X_datetime[datetime_feature] = pd.to_datetime(X[datetime_feature], errors='coerce').fillna(self._fillna_map[datetime_feature])\n",
      "C:\\Users\\halle\\miniconda3\\envs\\my-rdkit-env\\lib\\site-packages\\autogluon\\features\\generators\\datetime.py:69: PerformanceWarning: DataFrame is highly fragmented.  This is usually the result of calling `frame.insert` many times, which has poor performance.  Consider joining all columns at once using pd.concat(axis=1) instead.  To get a de-fragmented frame, use `newframe = frame.copy()`\n",
      "  X_datetime[datetime_feature + '.' + feature] = getattr(X_datetime[datetime_feature].dt, feature).astype(int)\n",
      "\tStage 4 Generators:\n",
      "\t\tFitting DropUniqueFeatureGenerator...\n",
      "\tUseless Original Features (Count: 285): ['nAromAtom', 'nAromBond', 'nSpiro', 'nBridgehead', 'nB', 'nS', 'nF', 'nCl', 'nBr', 'nI', 'nX', 'nBondsT', 'nBondsA', 'C1SP1', 'C2SP1', 'Xch-3d', 'Xch-4d', 'Xch-3dv', 'Xch-4dv', 'NsLi', 'NssBe', 'NssssBe', 'NssBH', 'NsssB', 'NssssB', 'NdCH2', 'NtCH', 'NaaCH', 'NddC', 'NtsC', 'NaasC', 'NaaaC', 'NssNH2', 'NdNH', 'NaaNH', 'NtN', 'NsssNH', 'NdsN', 'NaaN', 'NsssN', 'NddsN', 'NaasN', 'NaaO', 'NsF', 'NsSiH3', 'NssSiH2', 'NsssSiH', 'NssssSi', 'NsPH2', 'NssPH', 'NsssP', 'NsssssP', 'NsSH', 'NdS', 'NssS', 'NaaS', 'NdssS', 'NddssS', 'NsCl', 'NsGeH3', 'NssGeH2', 'NsssGeH', 'NssssGe', 'NsAsH2', 'NssAsH', 'NsssAs', 'NsssdAs', 'NsssssAs', 'NsSeH', 'NdSe', 'NssSe', 'NaaSe', 'NdssSe', 'NddssSe', 'NsBr', 'NsSnH3', 'NssSnH2', 'NsssSnH', 'NssssSn', 'NsI', 'NsPbH3', 'NssPbH2', 'NsssPbH', 'NssssPb', 'SsLi', 'SssBe', 'SssssBe', 'SssBH', 'SsssB', 'SssssB', 'SdCH2', 'StCH', 'SaaCH', 'SddC', 'StsC', 'SaasC', 'SaaaC', 'SssNH2', 'SdNH', 'SaaNH', 'StN', 'SsssNH', 'SdsN', 'SaaN', 'SsssN', 'SddsN', 'SaasN', 'SaaO', 'SsF', 'SsSiH3', 'SssSiH2', 'SsssSiH', 'SssssSi', 'SsPH2', 'SssPH', 'SsssP', 'SsssssP', 'SsSH', 'SdS', 'SssS', 'SaaS', 'SdssS', 'SddssS', 'SsCl', 'SsGeH3', 'SssGeH2', 'SsssGeH', 'SssssGe', 'SsAsH2', 'SssAsH', 'SsssAs', 'SsssdAs', 'SsssssAs', 'SsSeH', 'SdSe', 'SssSe', 'SaaSe', 'SdssSe', 'SddssSe', 'SsBr', 'SsSnH3', 'SssSnH2', 'SsssSnH', 'SssssSn', 'SsI', 'SsPbH3', 'SssPbH2', 'SsssPbH', 'SssssPb', 'PEOE_VSA4', 'PEOE_VSA5', 'SMR_VSA2', 'SMR_VSA8', 'SMR_VSA9', 'SlogP_VSA7', 'SlogP_VSA8', 'SlogP_VSA9', 'SlogP_VSA10', 'SlogP_VSA11', 'n3Ring', 'n4Ring', 'n7Ring', 'n8Ring', 'n9Ring', 'n10Ring', 'n11Ring', 'n12Ring', 'nG12Ring', 'n3HRing', 'n4HRing', 'n5HRing', 'n7HRing', 'n8HRing', 'n9HRing', 'n10HRing', 'n11HRing', 'n12HRing', 'nG12HRing', 'naRing', 'n3aRing', 'n4aRing', 'n5aRing', 'n6aRing', 'n7aRing', 'n8aRing', 'n9aRing', 'n10aRing', 'n11aRing', 'n12aRing', 'nG12aRing', 'naHRing', 'n3aHRing', 'n4aHRing', 'n5aHRing', 'n6aHRing', 'n7aHRing', 'n8aHRing', 'n9aHRing', 'n10aHRing', 'n11aHRing', 'n12aHRing', 'nG12aHRing', 'n3ARing', 'n4ARing', 'n7ARing', 'n8ARing', 'n9ARing', 'n10ARing', 'n11ARing', 'n12ARing', 'nG12ARing', 'n3AHRing', 'n4AHRing', 'n5AHRing', 'n7AHRing', 'n8AHRing', 'n9AHRing', 'n10AHRing', 'n11AHRing', 'n12AHRing', 'nG12AHRing', 'n4FRing', 'n5FRing', 'n6FRing', 'n7FRing', 'n8FRing', 'n9FRing', 'n10FRing', 'n11FRing', 'n12FRing', 'nFHRing', 'n4FHRing', 'n5FHRing', 'n6FHRing', 'n7FHRing', 'n8FHRing', 'n9FHRing', 'n10FHRing', 'n11FHRing', 'n12FHRing', 'nG12FHRing', 'nFaRing', 'n4FaRing', 'n5FaRing', 'n6FaRing', 'n7FaRing', 'n8FaRing', 'n9FaRing', 'n10FaRing', 'n11FaRing', 'n12FaRing', 'nG12FaRing', 'nFaHRing', 'n4FaHRing', 'n5FaHRing', 'n6FaHRing', 'n7FaHRing', 'n8FaHRing', 'n9FaHRing', 'n10FaHRing', 'n11FaHRing', 'n12FaHRing', 'nG12FaHRing', 'n4FARing', 'n5FARing', 'n6FARing', 'n7FARing', 'n8FARing', 'n9FARing', 'n10FARing', 'n11FARing', 'n12FARing', 'nFAHRing', 'n4FAHRing', 'n5FAHRing', 'n6FAHRing', 'n7FAHRing', 'n8FAHRing', 'n9FAHRing', 'n10FAHRing', 'n11FAHRing', 'n12FAHRing', 'nG12FAHRing', 'SRW03', 'split_index']\n",
      "\t\tThese features carry no predictive signal and should be manually investigated.\n",
      "\t\tThis is typically a feature which has the same value for all rows.\n",
      "\t\tThese features do not need to be present at inference time.\n",
      "\tUnused Original Features (Count: 158): ['SpAbs_Dt', 'SpMax_Dt', 'SpDiam_Dt', 'SpAD_Dt', 'SpMAD_Dt', 'LogEE_Dt', 'SM1_Dt', 'VE1_Dt', 'VE2_Dt', 'VE3_Dt', 'VR1_Dt', 'VR2_Dt', 'VR3_Dt', 'DetourIndex', 'MAXsLi', 'MAXssBe', 'MAXssssBe', 'MAXssBH', 'MAXsssB', 'MAXssssB', 'MAXdCH2', 'MAXtCH', 'MAXaaCH', 'MAXddC', 'MAXtsC', 'MAXaasC', 'MAXaaaC', 'MAXssssC', 'MAXsNH3', 'MAXsNH2', 'MAXssNH2', 'MAXdNH', 'MAXssNH', 'MAXaaNH', 'MAXtN', 'MAXsssNH', 'MAXdsN', 'MAXaaN', 'MAXsssN', 'MAXddsN', 'MAXaasN', 'MAXaaO', 'MAXsF', 'MAXsSiH3', 'MAXssSiH2', 'MAXsssSiH', 'MAXssssSi', 'MAXsPH2', 'MAXssPH', 'MAXsssP', 'MAXsssssP', 'MAXsSH', 'MAXdS', 'MAXssS', 'MAXaaS', 'MAXdssS', 'MAXddssS', 'MAXsCl', 'MAXsGeH3', 'MAXssGeH2', 'MAXsssGeH', 'MAXssssGe', 'MAXsAsH2', 'MAXssAsH', 'MAXsssAs', 'MAXsssdAs', 'MAXsssssAs', 'MAXsSeH', 'MAXdSe', 'MAXssSe', 'MAXaaSe', 'MAXdssSe', 'MAXddssSe', 'MAXsBr', 'MAXsSnH3', 'MAXssSnH2', 'MAXsssSnH', 'MAXssssSn', 'MAXsI', 'MAXsPbH3', 'MAXssPbH2', 'MAXsssPbH', 'MAXssssPb', 'MINsLi', 'MINssBe', 'MINssssBe', 'MINssBH', 'MINsssB', 'MINssssB', 'MINdCH2', 'MINtCH', 'MINaaCH', 'MINddC', 'MINtsC', 'MINaasC', 'MINaaaC', 'MINssssC', 'MINsNH3', 'MINsNH2', 'MINssNH2', 'MINdNH', 'MINssNH', 'MINaaNH', 'MINtN', 'MINsssNH', 'MINdsN', 'MINaaN', 'MINsssN', 'MINddsN', 'MINaasN', 'MINaaO', 'MINsF', 'MINsSiH3', 'MINssSiH2', 'MINsssSiH', 'MINssssSi', 'MINsPH2', 'MINssPH', 'MINsssP', 'MINsssssP', 'MINsSH', 'MINdS', 'MINssS', 'MINaaS', 'MINdssS', 'MINddssS', 'MINsCl', 'MINsGeH3', 'MINssGeH2', 'MINsssGeH', 'MINssssGe', 'MINsAsH2', 'MINssAsH', 'MINsssAs', 'MINsssdAs', 'MINsssssAs', 'MINsSeH', 'MINdSe', 'MINssSe', 'MINaaSe', 'MINdssSe', 'MINddssSe', 'MINsBr', 'MINsSnH3', 'MINssSnH2', 'MINsssSnH', 'MINssssSn', 'MINsI', 'MINsPbH3', 'MINssPbH2', 'MINsssPbH', 'MINssssPb', 'MDEN-11', 'MDEN-12', 'MDEN-13', 'MDEN-22', 'MDEN-23', 'MDEN-33']\n",
      "\t\tThese features were not used to generate any of the output features. Add a feature generator compatible with these features to utilize them.\n",
      "\t\tFeatures can also be unused if they carry very little information, such as being categorical but having almost entirely unique values or being duplicates of other features.\n",
      "\t\tThese features do not need to be present at inference time.\n",
      "\t\t('object', []) : 158 | ['SpAbs_Dt', 'SpMax_Dt', 'SpDiam_Dt', 'SpAD_Dt', 'SpMAD_Dt', ...]\n",
      "\tTypes of features in original data (raw dtype, special dtypes):\n",
      "\t\t('bool', [])                       :   2 | ['Lipinski', 'GhoseFilter']\n",
      "\t\t('float', [])                      : 809 | ['ABC', 'ABCGG', 'ATS0dv', 'ATS1dv', 'ATS2dv', ...]\n",
      "\t\t('int', [])                        :  70 | ['nAcid', 'nBase', 'nAtom', 'nHeavyAtom', 'nHetero', ...]\n",
      "\t\t('object', [])                     :   4 | ['MDEC-14', 'MDEC-24', 'MDEC-34', 'MDEC-44']\n",
      "\t\t('object', ['datetime_as_object']) : 286 | ['SpAbs_A', 'SpMax_A', 'SpDiam_A', 'SpAD_A', 'SpMAD_A', ...]\n",
      "\tTypes of features in processed data (raw dtype, special dtypes):\n",
      "\t\t('category', [])             :   4 | ['MDEC-14', 'MDEC-24', 'MDEC-34', 'MDEC-44']\n",
      "\t\t('float', [])                : 803 | ['ABC', 'ABCGG', 'ATS0dv', 'ATS1dv', 'ATS2dv', ...]\n",
      "\t\t('int', [])                  :  49 | ['nAcid', 'nAtom', 'nHeavyAtom', 'nHetero', 'nH', ...]\n",
      "\t\t('int', ['bool'])            :  29 | ['nBase', 'nP', 'C3SP2', 'C3SP3', 'C4SP3', ...]\n",
      "\t\t('int', ['datetime_as_int']) : 245 | ['SpAbs_A', 'SpDiam_A', 'SpAD_A', 'LogEE_A', 'VE1_A', ...]\n",
      "\t6.4s = Fit runtime\n",
      "\t1171 features in original data used to generate 1130 features in processed data.\n",
      "\tTrain Data (Processed) Memory Usage: 1.5 MB (0.0% of available memory)\n",
      "Data preprocessing and feature engineering runtime = 6.46s ...\n",
      "AutoGluon will gauge predictive performance using evaluation metric: 'root_mean_squared_error'\n",
      "\tTo change this, specify the eval_metric parameter of Predictor()\n",
      "Automatically generating train/validation split with holdout_frac=0.2, Train Rows: 139, Val Rows: 35\n",
      "Fitting 11 L1 models ...\n",
      "Fitting model: KNeighborsUnif ...\n",
      "\t-1.917\t = Validation score   (root_mean_squared_error)\n",
      "\t0.13s\t = Training   runtime\n",
      "\t0.02s\t = Validation runtime\n",
      "Fitting model: KNeighborsDist ...\n",
      "\t-1.9061\t = Validation score   (root_mean_squared_error)\n",
      "\t0.19s\t = Training   runtime\n",
      "\t0.02s\t = Validation runtime\n",
      "Fitting model: LightGBMXT ...\n",
      "\t-1.8346\t = Validation score   (root_mean_squared_error)\n",
      "\t1.05s\t = Training   runtime\n",
      "\t0.01s\t = Validation runtime\n",
      "Fitting model: LightGBM ...\n",
      "\t-1.8435\t = Validation score   (root_mean_squared_error)\n",
      "\t0.98s\t = Training   runtime\n",
      "\t0.01s\t = Validation runtime\n",
      "Fitting model: RandomForestMSE ...\n",
      "\t-1.86\t = Validation score   (root_mean_squared_error)\n",
      "\t1.1s\t = Training   runtime\n",
      "\t0.03s\t = Validation runtime\n",
      "Fitting model: CatBoost ...\n",
      "\t-1.8265\t = Validation score   (root_mean_squared_error)\n",
      "\t8.5s\t = Training   runtime\n",
      "\t0.05s\t = Validation runtime\n",
      "Fitting model: ExtraTreesMSE ...\n",
      "\t-1.8734\t = Validation score   (root_mean_squared_error)\n",
      "\t0.7s\t = Training   runtime\n",
      "\t0.03s\t = Validation runtime\n",
      "Fitting model: NeuralNetFastAI ...\n",
      "\t-1.7903\t = Validation score   (root_mean_squared_error)\n",
      "\t1.99s\t = Training   runtime\n",
      "\t0.26s\t = Validation runtime\n",
      "Fitting model: XGBoost ...\n",
      "\t-1.9617\t = Validation score   (root_mean_squared_error)\n",
      "\t5.01s\t = Training   runtime\n",
      "\t0.01s\t = Validation runtime\n",
      "Fitting model: NeuralNetTorch ...\n",
      "\t-1.8409\t = Validation score   (root_mean_squared_error)\n",
      "\t0.91s\t = Training   runtime\n",
      "\t0.1s\t = Validation runtime\n",
      "Fitting model: LightGBMLarge ...\n",
      "\t-1.8175\t = Validation score   (root_mean_squared_error)\n",
      "\t1.4s\t = Training   runtime\n",
      "\t0.01s\t = Validation runtime\n",
      "Fitting model: WeightedEnsemble_L2 ...\n",
      "\t-1.7586\t = Validation score   (root_mean_squared_error)\n",
      "\t0.22s\t = Training   runtime\n",
      "\t0.0s\t = Validation runtime\n",
      "AutoGluon training complete, total runtime = 30.15s ... Best model: \"WeightedEnsemble_L2\"\n",
      "TabularPredictor saved. To load, use: predictor = TabularPredictor.load(\"rt_predict_models_csh\\\")\n"
     ]
    }
   ],
   "source": [
    "save_path_csh = 'rt_predict_models_csh'\n",
    "predictor2 = TabularPredictor(label=label2, path=save_path_csh).fit(df2_train)"
   ],
   "metadata": {
    "collapsed": false,
    "pycharm": {
     "name": "#%%\n"
    }
   }
  },
  {
   "cell_type": "code",
   "execution_count": 41,
   "outputs": [
    {
     "data": {
      "text/plain": "          ABC      ABCGG  nAcid  nBase    SpAbs_A   SpMax_A  SpDiam_A  \\\n2   37.804829  24.536480      0      0  67.124041  2.194933  4.389866   \n7   44.875897  27.051154      0      0  79.880259  2.194933  4.389867   \n13  38.571404  24.025219      0      0  64.520724   2.62105  5.198663   \n25  36.368712  24.939087      1      1  61.339288  2.255006  4.510012   \n30  33.770636  23.178123      1      1  59.036181  2.244132  4.488263   \n\n       SpAD_A   SpMAD_A   LogEE_A  ...      TSRW10          MW       AMW  \\\n2   67.124041  1.243038  4.816053  ...   89.653577  762.673741  5.296345   \n7   79.880259  1.248129  4.985472  ...  100.437512  896.783291  5.337996   \n13  64.520724  1.265112  4.830766  ...  103.376384  700.615832  5.348212   \n25  61.339288  1.202731  4.768166  ...   87.039148  745.562155  5.691314   \n30  59.036181   1.22992  4.702618  ...   83.455002  703.515205  5.766518   \n\n    WPath WPol Zagreb1  Zagreb2   mZagreb1   mZagreb2  split_index  \n2   19154   56   218.0    221.0  17.444444  13.500000            2  \n7   32097   66   258.0    261.0  19.944444  16.000000            2  \n13  15878   79   252.0    291.0     16.375  11.666667            2  \n25  15978   54   216.0    220.0  18.708333  12.208333            2  \n30  13866   51   198.0    202.0  16.645833  11.833333            2  \n\n[5 rows x 1614 columns]",
      "text/html": "<div>\n<style scoped>\n    .dataframe tbody tr th:only-of-type {\n        vertical-align: middle;\n    }\n\n    .dataframe tbody tr th {\n        vertical-align: top;\n    }\n\n    .dataframe thead th {\n        text-align: right;\n    }\n</style>\n<table border=\"1\" class=\"dataframe\">\n  <thead>\n    <tr style=\"text-align: right;\">\n      <th></th>\n      <th>ABC</th>\n      <th>ABCGG</th>\n      <th>nAcid</th>\n      <th>nBase</th>\n      <th>SpAbs_A</th>\n      <th>SpMax_A</th>\n      <th>SpDiam_A</th>\n      <th>SpAD_A</th>\n      <th>SpMAD_A</th>\n      <th>LogEE_A</th>\n      <th>...</th>\n      <th>TSRW10</th>\n      <th>MW</th>\n      <th>AMW</th>\n      <th>WPath</th>\n      <th>WPol</th>\n      <th>Zagreb1</th>\n      <th>Zagreb2</th>\n      <th>mZagreb1</th>\n      <th>mZagreb2</th>\n      <th>split_index</th>\n    </tr>\n  </thead>\n  <tbody>\n    <tr>\n      <th>2</th>\n      <td>37.804829</td>\n      <td>24.536480</td>\n      <td>0</td>\n      <td>0</td>\n      <td>67.124041</td>\n      <td>2.194933</td>\n      <td>4.389866</td>\n      <td>67.124041</td>\n      <td>1.243038</td>\n      <td>4.816053</td>\n      <td>...</td>\n      <td>89.653577</td>\n      <td>762.673741</td>\n      <td>5.296345</td>\n      <td>19154</td>\n      <td>56</td>\n      <td>218.0</td>\n      <td>221.0</td>\n      <td>17.444444</td>\n      <td>13.500000</td>\n      <td>2</td>\n    </tr>\n    <tr>\n      <th>7</th>\n      <td>44.875897</td>\n      <td>27.051154</td>\n      <td>0</td>\n      <td>0</td>\n      <td>79.880259</td>\n      <td>2.194933</td>\n      <td>4.389867</td>\n      <td>79.880259</td>\n      <td>1.248129</td>\n      <td>4.985472</td>\n      <td>...</td>\n      <td>100.437512</td>\n      <td>896.783291</td>\n      <td>5.337996</td>\n      <td>32097</td>\n      <td>66</td>\n      <td>258.0</td>\n      <td>261.0</td>\n      <td>19.944444</td>\n      <td>16.000000</td>\n      <td>2</td>\n    </tr>\n    <tr>\n      <th>13</th>\n      <td>38.571404</td>\n      <td>24.025219</td>\n      <td>0</td>\n      <td>0</td>\n      <td>64.520724</td>\n      <td>2.62105</td>\n      <td>5.198663</td>\n      <td>64.520724</td>\n      <td>1.265112</td>\n      <td>4.830766</td>\n      <td>...</td>\n      <td>103.376384</td>\n      <td>700.615832</td>\n      <td>5.348212</td>\n      <td>15878</td>\n      <td>79</td>\n      <td>252.0</td>\n      <td>291.0</td>\n      <td>16.375</td>\n      <td>11.666667</td>\n      <td>2</td>\n    </tr>\n    <tr>\n      <th>25</th>\n      <td>36.368712</td>\n      <td>24.939087</td>\n      <td>1</td>\n      <td>1</td>\n      <td>61.339288</td>\n      <td>2.255006</td>\n      <td>4.510012</td>\n      <td>61.339288</td>\n      <td>1.202731</td>\n      <td>4.768166</td>\n      <td>...</td>\n      <td>87.039148</td>\n      <td>745.562155</td>\n      <td>5.691314</td>\n      <td>15978</td>\n      <td>54</td>\n      <td>216.0</td>\n      <td>220.0</td>\n      <td>18.708333</td>\n      <td>12.208333</td>\n      <td>2</td>\n    </tr>\n    <tr>\n      <th>30</th>\n      <td>33.770636</td>\n      <td>23.178123</td>\n      <td>1</td>\n      <td>1</td>\n      <td>59.036181</td>\n      <td>2.244132</td>\n      <td>4.488263</td>\n      <td>59.036181</td>\n      <td>1.22992</td>\n      <td>4.702618</td>\n      <td>...</td>\n      <td>83.455002</td>\n      <td>703.515205</td>\n      <td>5.766518</td>\n      <td>13866</td>\n      <td>51</td>\n      <td>198.0</td>\n      <td>202.0</td>\n      <td>16.645833</td>\n      <td>11.833333</td>\n      <td>2</td>\n    </tr>\n  </tbody>\n</table>\n<p>5 rows × 1614 columns</p>\n</div>"
     },
     "execution_count": 41,
     "metadata": {},
     "output_type": "execute_result"
    }
   ],
   "source": [
    "y_test_csh = df2_test[label2]\n",
    "test_data_nolab_csh = df2_test.drop(columns=[label2])\n",
    "test_data_nolab_csh.head()"
   ],
   "metadata": {
    "collapsed": false,
    "pycharm": {
     "name": "#%%\n"
    }
   }
  },
  {
   "cell_type": "code",
   "execution_count": 42,
   "outputs": [
    {
     "name": "stderr",
     "output_type": "stream",
     "text": [
      "C:\\Users\\halle\\miniconda3\\envs\\my-rdkit-env\\lib\\site-packages\\autogluon\\features\\generators\\datetime.py:63: PerformanceWarning: DataFrame is highly fragmented.  This is usually the result of calling `frame.insert` many times, which has poor performance.  Consider joining all columns at once using pd.concat(axis=1) instead.  To get a de-fragmented frame, use `newframe = frame.copy()`\n",
      "  X_datetime[datetime_feature] = pd.to_datetime(X[datetime_feature], errors='coerce').fillna(self._fillna_map[datetime_feature])\n",
      "C:\\Users\\halle\\miniconda3\\envs\\my-rdkit-env\\lib\\site-packages\\autogluon\\features\\generators\\datetime.py:69: PerformanceWarning: DataFrame is highly fragmented.  This is usually the result of calling `frame.insert` many times, which has poor performance.  Consider joining all columns at once using pd.concat(axis=1) instead.  To get a de-fragmented frame, use `newframe = frame.copy()`\n",
      "  X_datetime[datetime_feature + '.' + feature] = getattr(X_datetime[datetime_feature].dt, feature).astype(int)\n",
      "Evaluation: root_mean_squared_error on test data: -2.1298922391628716\n",
      "\tNote: Scores are always higher_is_better. This metric score can be multiplied by -1 to get the metric value.\n",
      "Evaluations on test data:\n",
      "{\n",
      "    \"root_mean_squared_error\": -2.1298922391628716,\n",
      "    \"mean_squared_error\": -4.536440950446232,\n",
      "    \"mean_absolute_error\": -1.8765577114105223,\n",
      "    \"r2\": -0.16701752442799256,\n",
      "    \"pearsonr\": 0.07050542162261608,\n",
      "    \"median_absolute_error\": -1.8433302621841428\n",
      "}\n"
     ]
    },
    {
     "name": "stdout",
     "output_type": "stream",
     "text": [
      "Predictions:  \n",
      " 2      3.646656\n",
      "7      3.482424\n",
      "13     3.043617\n",
      "25     3.495660\n",
      "30     4.416374\n",
      "41     4.193861\n",
      "62     3.601072\n",
      "63     2.758702\n",
      "74     3.924470\n",
      "77     3.321847\n",
      "107    3.298885\n",
      "110    2.958723\n",
      "124    3.975637\n",
      "129    3.965818\n",
      "162    4.004577\n",
      "167    3.975600\n",
      "170    4.234080\n",
      "178    3.653269\n",
      "191    2.463006\n",
      "193    3.345308\n",
      "Name: retention_time, dtype: float32\n"
     ]
    }
   ],
   "source": [
    "predictor2 = TabularPredictor.load(save_path_csh)\n",
    "y_pred_csh = predictor2.predict(test_data_nolab_csh)\n",
    "print(\"Predictions:  \\n\", y_pred_csh)\n",
    "perf2 = predictor2.evaluate_predictions(y_true=y_test_csh, y_pred=y_pred_csh, auxiliary_metrics=True)"
   ],
   "metadata": {
    "collapsed": false,
    "pycharm": {
     "name": "#%%\n"
    }
   }
  },
  {
   "cell_type": "code",
   "execution_count": 43,
   "outputs": [
    {
     "name": "stderr",
     "output_type": "stream",
     "text": [
      "C:\\Users\\halle\\miniconda3\\envs\\my-rdkit-env\\lib\\site-packages\\autogluon\\features\\generators\\datetime.py:63: PerformanceWarning: DataFrame is highly fragmented.  This is usually the result of calling `frame.insert` many times, which has poor performance.  Consider joining all columns at once using pd.concat(axis=1) instead.  To get a de-fragmented frame, use `newframe = frame.copy()`\n",
      "  X_datetime[datetime_feature] = pd.to_datetime(X[datetime_feature], errors='coerce').fillna(self._fillna_map[datetime_feature])\n",
      "C:\\Users\\halle\\miniconda3\\envs\\my-rdkit-env\\lib\\site-packages\\autogluon\\features\\generators\\datetime.py:69: PerformanceWarning: DataFrame is highly fragmented.  This is usually the result of calling `frame.insert` many times, which has poor performance.  Consider joining all columns at once using pd.concat(axis=1) instead.  To get a de-fragmented frame, use `newframe = frame.copy()`\n",
      "  X_datetime[datetime_feature + '.' + feature] = getattr(X_datetime[datetime_feature].dt, feature).astype(int)\n"
     ]
    }
   ],
   "source": [
    "df2_modelpf = predictor.leaderboard(df2_test, silent=True)\n",
    "df2_modelpf.to_csv('model_performance_csh', index=False)"
   ],
   "metadata": {
    "collapsed": false,
    "pycharm": {
     "name": "#%%\n"
    }
   }
  },
  {
   "cell_type": "code",
   "execution_count": null,
   "outputs": [],
   "source": [],
   "metadata": {
    "collapsed": false,
    "pycharm": {
     "name": "#%%\n"
    }
   }
  }
 ],
 "metadata": {
  "kernelspec": {
   "name": "my-rdkit-env",
   "language": "python",
   "display_name": "my-rdkit-env"
  },
  "language_info": {
   "codemirror_mode": {
    "name": "ipython",
    "version": 2
   },
   "file_extension": ".py",
   "mimetype": "text/x-python",
   "name": "python",
   "nbconvert_exporter": "python",
   "pygments_lexer": "ipython2",
   "version": "2.7.6"
  }
 },
 "nbformat": 4,
 "nbformat_minor": 0
}