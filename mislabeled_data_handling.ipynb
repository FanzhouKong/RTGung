{
 "cells": [
  {
   "cell_type": "code",
   "execution_count": 1,
   "id": "b0d83617",
   "metadata": {
    "pycharm": {
     "name": "#%%\n"
    }
   },
   "outputs": [
    {
     "name": "stdout",
     "output_type": "stream",
     "text": [
      "i am updated!\n"
     ]
    },
    {
     "ename": "ModuleNotFoundError",
     "evalue": "No module named 'cleanlab'",
     "output_type": "error",
     "traceback": [
      "\u001B[0;31m---------------------------------------------------------------------------\u001B[0m",
      "\u001B[0;31mModuleNotFoundError\u001B[0m                       Traceback (most recent call last)",
      "Input \u001B[0;32mIn [1]\u001B[0m, in \u001B[0;36m<cell line: 7>\u001B[0;34m()\u001B[0m\n\u001B[1;32m      5\u001B[0m \u001B[38;5;28;01mimport\u001B[39;00m \u001B[38;5;21;01mtoolsets\u001B[39;00m\u001B[38;5;21;01m.\u001B[39;00m\u001B[38;5;21;01mdata_prep\u001B[39;00m \u001B[38;5;28;01mas\u001B[39;00m \u001B[38;5;21;01mdata_prep\u001B[39;00m\n\u001B[1;32m      6\u001B[0m \u001B[38;5;28;01mfrom\u001B[39;00m \u001B[38;5;21;01msklearn\u001B[39;00m\u001B[38;5;21;01m.\u001B[39;00m\u001B[38;5;21;01mensemble\u001B[39;00m \u001B[38;5;28;01mimport\u001B[39;00m RandomForestClassifier\n\u001B[0;32m----> 7\u001B[0m \u001B[38;5;28;01mimport\u001B[39;00m \u001B[38;5;21;01mcleanlab\u001B[39;00m\n\u001B[1;32m      8\u001B[0m \u001B[38;5;28;01mfrom\u001B[39;00m \u001B[38;5;21;01msklearn\u001B[39;00m\u001B[38;5;21;01m.\u001B[39;00m\u001B[38;5;21;01mpreprocessing\u001B[39;00m \u001B[38;5;28;01mimport\u001B[39;00m StandardScaler\n\u001B[1;32m      9\u001B[0m \u001B[38;5;28;01mimport\u001B[39;00m \u001B[38;5;21;01mrandom\u001B[39;00m\n",
      "\u001B[0;31mModuleNotFoundError\u001B[0m: No module named 'cleanlab'"
     ]
    }
   ],
   "source": [
    "import numpy as np\n",
    "import pandas as pd\n",
    "import sklearn.ensemble\n",
    "\n",
    "import toolsets.data_prep as data_prep\n",
    "from sklearn.ensemble import RandomForestClassifier\n",
    "import cleanlab\n",
    "from sklearn.preprocessing import StandardScaler\n",
    "import random\n",
    "import seaborn as sns\n",
    "from sklearn.linear_model import LogisticRegression\n",
    "from sklearn.model_selection import cross_val_predict, cross_validate\n",
    "from cleanlab.filter import find_label_issues\n",
    "%load_ext autoreload\n",
    "%autoreload 2"
   ]
  },
  {
   "cell_type": "markdown",
   "source": [
    "# initialize the dataset"
   ],
   "metadata": {
    "collapsed": false,
    "pycharm": {
     "name": "#%% md\n"
    }
   }
  },
  {
   "cell_type": "code",
   "execution_count": 521,
   "id": "aa919a26",
   "metadata": {
    "pycharm": {
     "name": "#%%\n"
    }
   },
   "outputs": [
    {
     "name": "stdout",
     "output_type": "stream",
     "text": [
      "i am updated!\n"
     ]
    }
   ],
   "source": [
    "descriptors = pd.read_csv(\"data/multiRT/MultiRT_hilic_descriptors.csv\", low_memory=False)\n",
    "descriptors = descriptors.select_dtypes(exclude=['object'])\n",
    "combined_data = pd.read_csv(\"data/multiRT/Combined dataset.csv\")\n",
    "hilic = combined_data.loc[combined_data['Column']=='HILIC']\n",
    "hilic.reset_index(inplace=True, drop=True)\n",
    "data = pd.concat([hilic, descriptors],axis =1)\n",
    "data = data_prep.dataset_prep(data)"
   ]
  },
  {
   "cell_type": "markdown",
   "source": [],
   "metadata": {
    "collapsed": false,
    "pycharm": {
     "name": "#%% md\n"
    }
   }
  },
  {
   "cell_type": "markdown",
   "source": [
    "# binning the retention time"
   ],
   "metadata": {
    "collapsed": false,
    "pycharm": {
     "name": "#%% md\n"
    }
   }
  },
  {
   "cell_type": "code",
   "execution_count": null,
   "outputs": [],
   "source": [
    "# feel free to change the parameter min_diff, as it indicate the minimum difference between each bins"
   ],
   "metadata": {
    "collapsed": false,
    "pycharm": {
     "name": "#%%\n"
    }
   }
  },
  {
   "cell_type": "code",
   "execution_count": 522,
   "outputs": [
    {
     "data": {
      "text/plain": "<Figure size 432x288 with 2 Axes>",
      "image/png": "[encoded data removed]"
     },
     "metadata": {
      "needs_background": "light"
     },
     "output_type": "display_data"
    },
    {
     "name": "stdout",
     "output_type": "stream",
     "text": [
      "the distinct rt intervals are ['(-inf, 3.44)' '[3.44, 4.58)' '[4.58, inf)']\n"
     ]
    }
   ],
   "source": [
    "data_bin = data_prep.bin_retention_time(data,'retention_time',variable = 'retention_time', bin_method = \"cart\", min_diff = 1)\n"
   ],
   "metadata": {
    "collapsed": false,
    "pycharm": {
     "name": "#%%\n"
    }
   }
  },
  {
   "cell_type": "markdown",
   "source": [
    "# identify the mislabeled data in both train and test set"
   ],
   "metadata": {
    "collapsed": false,
    "pycharm": {
     "name": "#%% md\n"
    }
   }
  },
  {
   "cell_type": "code",
   "execution_count": 455,
   "outputs": [],
   "source": [
    "from sklearn import svm\n",
    "from sklearn.ensemble import RandomForestClassifier\n",
    "import lightgbm as lgb"
   ],
   "metadata": {
    "collapsed": false,
    "pycharm": {
     "name": "#%%\n"
    }
   }
  },
  {
   "cell_type": "code",
   "execution_count": 398,
   "id": "78c6a73f",
   "metadata": {
    "pycharm": {
     "name": "#%%\n"
    }
   },
   "outputs": [],
   "source": []
  },
  {
   "cell_type": "code",
   "execution_count": 459,
   "id": "debc0f17",
   "metadata": {
    "pycharm": {
     "name": "#%%\n"
    }
   },
   "outputs": [],
   "source": [
    "clf = RandomForestClassifier()\n",
    "# clf = lgb.LGBMClassifier()\n",
    "\n",
    "#Create a svm Classifier\n",
    "# clf = svm.SVC(kernel='rbf') # rbf Kernel\n"
   ]
  },
  {
   "cell_type": "code",
   "execution_count": 387,
   "outputs": [],
   "source": [
    "import lightgbm as lgb"
   ],
   "metadata": {
    "collapsed": false,
    "pycharm": {
     "name": "#%%\n"
    }
   }
  },
  {
   "cell_type": "markdown",
   "source": [],
   "metadata": {
    "collapsed": false,
    "pycharm": {
     "name": "#%% md\n"
    }
   }
  },
  {
   "cell_type": "code",
   "execution_count": 523,
   "outputs": [
    {
     "name": "stdout",
     "output_type": "stream",
     "text": [
      "retention_time_cat\n"
     ]
    },
    {
     "name": "stderr",
     "output_type": "stream",
     "text": [
      "<frozen importlib._bootstrap>:228: RuntimeWarning: scipy._lib.messagestream.MessageStream size changed, may indicate binary incompatibility. Expected 56 from C header, got 64 from PyObject\n",
      "<frozen importlib._bootstrap>:228: RuntimeWarning: scipy._lib.messagestream.MessageStream size changed, may indicate binary incompatibility. Expected 56 from C header, got 64 from PyObject\n",
      "<frozen importlib._bootstrap>:228: RuntimeWarning: scipy._lib.messagestream.MessageStream size changed, may indicate binary incompatibility. Expected 56 from C header, got 64 from PyObject\n",
      "<frozen importlib._bootstrap>:228: RuntimeWarning: scipy._lib.messagestream.MessageStream size changed, may indicate binary incompatibility. Expected 56 from C header, got 64 from PyObject\n",
      "<frozen importlib._bootstrap>:228: RuntimeWarning: scipy._lib.messagestream.MessageStream size changed, may indicate binary incompatibility. Expected 56 from C header, got 64 from PyObject\n",
      "<frozen importlib._bootstrap>:228: RuntimeWarning: scipy._lib.messagestream.MessageStream size changed, may indicate binary incompatibility. Expected 56 from C header, got 64 from PyObject\n",
      "<frozen importlib._bootstrap>:228: RuntimeWarning: scipy._lib.messagestream.MessageStream size changed, may indicate binary incompatibility. Expected 56 from C header, got 64 from PyObject\n",
      "<frozen importlib._bootstrap>:228: RuntimeWarning: scipy._lib.messagestream.MessageStream size changed, may indicate binary incompatibility. Expected 56 from C header, got 64 from PyObject\n",
      "<frozen importlib._bootstrap>:228: RuntimeWarning: scipy._lib.messagestream.MessageStream size changed, may indicate binary incompatibility. Expected 56 from C header, got 64 from PyObject\n",
      "<frozen importlib._bootstrap>:228: RuntimeWarning: scipy._lib.messagestream.MessageStream size changed, may indicate binary incompatibility. Expected 56 from C header, got 64 from PyObject\n",
      "<frozen importlib._bootstrap>:228: RuntimeWarning: scipy._lib.messagestream.MessageStream size changed, may indicate binary incompatibility. Expected 56 from C header, got 64 from PyObject\n",
      "<frozen importlib._bootstrap>:228: RuntimeWarning: scipy._lib.messagestream.MessageStream size changed, may indicate binary incompatibility. Expected 56 from C header, got 64 from PyObject\n",
      "<frozen importlib._bootstrap>:228: RuntimeWarning: scipy._lib.messagestream.MessageStream size changed, may indicate binary incompatibility. Expected 56 from C header, got 64 from PyObject\n"
     ]
    },
    {
     "name": "stdout",
     "output_type": "stream",
     "text": [
      "Cleanlab found 39 potential label errors.\n"
     ]
    }
   ],
   "source": [
    "data_confirmed, data_suspicious = data_prep.mislabeled_handling(data_bin, clf)"
   ],
   "metadata": {
    "collapsed": false,
    "pycharm": {
     "name": "#%%\n"
    }
   }
  },
  {
   "cell_type": "code",
   "execution_count": 525,
   "outputs": [
    {
     "data": {
      "text/plain": "              Compound_name Column Organic_modifier   pH       Buffer  \\\n1           1-hydroxypyrene  HILIC     Acetonitrile  3.0  Acetic acid   \n95                  Ametryn  HILIC     Acetonitrile  3.0  Formic acid   \n105                 Atraton  HILIC     Acetonitrile  2.7  Formic acid   \n106                 Atraton  HILIC     Acetonitrile  3.0  Acetic acid   \n107                 Atraton  HILIC     Acetonitrile  3.0  Formic acid   \n143            Bicalutamide  HILIC     Acetonitrile  3.0  Formic acid   \n175               Carbazole  HILIC     Acetonitrile  2.7  Formic acid   \n261              Creatinine  HILIC         Methanol  3.0  Formic acid   \n262              Creatinine  HILIC         Methanol  5.0  Acetic acid   \n301                 Estrone  HILIC     Acetonitrile  2.7  Formic acid   \n341              Flecainide  HILIC         Methanol  3.0  Formic acid   \n343              Flecainide  HILIC         Methanol  5.0  Formic acid   \n344              Flecainide  HILIC         Methanol  6.7  Formic acid   \n369           Glibenclamide  HILIC     Acetonitrile  2.7  Formic acid   \n381             Glimepiride  HILIC     Acetonitrile  3.0  Acetic acid   \n407     Hydrochlorothiazide  HILIC         Methanol  3.0  Formic acid   \n425                Imazalil  HILIC     Acetonitrile  5.0  Acetic acid   \n428                Imazalil  HILIC         Methanol  2.7  Formic acid   \n430                Imazalil  HILIC         Methanol  3.0  Formic acid   \n443              Irbesartan  HILIC     Acetonitrile  2.7  Formic acid   \n444              Irbesartan  HILIC     Acetonitrile  3.0  Acetic acid   \n445              Irbesartan  HILIC     Acetonitrile  3.0  Formic acid   \n456                 Irgarol  HILIC     Acetonitrile  3.0  Acetic acid   \n457                 Irgarol  HILIC     Acetonitrile  3.0  Formic acid   \n471            Ketoconazole  HILIC     Acetonitrile  5.0  Formic acid   \n472            Ketoconazole  HILIC     Acetonitrile  6.7  Formic acid   \n473            Ketoconazole  HILIC         Methanol  2.7  Formic acid   \n475            Ketoconazole  HILIC         Methanol  3.0  Formic acid   \n476            Ketoconazole  HILIC         Methanol  5.0  Acetic acid   \n482                Melamine  HILIC     Acetonitrile  5.0  Acetic acid   \n591  O-Desmethylvenlafaxine  HILIC         Methanol  3.0  Formic acid   \n633               Prometryn  HILIC     Acetonitrile  3.0  Formic acid   \n683               Reserpine  HILIC     Acetonitrile  6.7  Formic acid   \n687               Reserpine  HILIC         Methanol  5.0  Acetic acid   \n716             Simvastatin  HILIC     Acetonitrile  5.0  Acetic acid   \n719             Simvastatin  HILIC         Methanol  5.0  Formic acid   \n727                 Sudan I  HILIC         Methanol  3.0  Acetic acid   \n733          Sulfamethazine  HILIC     Acetonitrile  3.0  Acetic acid   \n811            Trimethoprim  HILIC         Methanol  3.0  Acetic acid   \n\n                                                SMILES  retention_time  \\\n1                        c1cc2ccc3ccc(c4ccc(c1)c2c34)O       12.321429   \n95                     CCN=c1[nH]c(=NC(C)C)[nH]c(n1)SC        3.150000   \n105                    CCN=c1[nH]c(=NC(C)C)[nH]c(n1)OC        5.694286   \n106                    CCN=c1[nH]c(=NC(C)C)[nH]c(n1)OC        5.180000   \n107                    CCN=c1[nH]c(=NC(C)C)[nH]c(n1)OC        4.318571   \n143  C[C@](CS(=O)(=O)c1ccc(cc1)F)(C(=Nc1ccc(C#N)c(c...        8.115714   \n175                           c1ccc2c(c1)c1ccccc1[nH]2        7.070000   \n261                                     CN1CC(=NC1=N)O        3.357143   \n262                                     CN1CC(=NC1=N)O        2.615714   \n301   C[C@]12CC[C@@H]3c4ccc(cc4CC[C@H]3[C@@H]1CCC2=O)O        3.507500   \n341    C1CCNC(C1)CN=C(c1cc(ccc1OCC(F)(F)F)OCC(F)(F)F)O        3.281429   \n343    C1CCNC(C1)CN=C(c1cc(ccc1OCC(F)(F)F)OCC(F)(F)F)O        4.178571   \n344    C1CCNC(C1)CN=C(c1cc(ccc1OCC(F)(F)F)OCC(F)(F)F)O        5.851429   \n369  COc1ccc(cc1C(=NCCc1ccc(cc1)S(=O)(=O)NC(=NC1CCC...        4.652857   \n381  CCC1=C(C)CN(C1=O)C(=NCCc1ccc(cc1)S(=O)(=O)NC(=...        4.285000   \n407               c1c(c(cc2c1NCNS2(=O)=O)S(=O)(=O)N)Cl        5.270000   \n425                     C=CCOC(Cn1ccnc1)c1ccc(cc1Cl)Cl        3.614286   \n428                     C=CCOC(Cn1ccnc1)c1ccc(cc1Cl)Cl        3.647143   \n430                     C=CCOC(Cn1ccnc1)c1ccc(cc1Cl)Cl        2.944286   \n443  CCCCC1=NC2(CCCC2)C(=O)N1Cc1ccc(cc1)c1ccccc1c1n...        5.381429   \n444  CCCCC1=NC2(CCCC2)C(=O)N1Cc1ccc(cc1)c1ccccc1c1n...        5.020000   \n445  CCCCC1=NC2(CCCC2)C(=O)N1Cc1ccc(cc1)c1ccccc1c1n...        4.245714   \n456                  CC(C)(C)Nc1nc(=NC2CC2)nc([nH]1)SC        3.640000   \n457                  CC(C)(C)Nc1nc(=NC2CC2)nc([nH]1)SC        3.027143   \n471  CC(=O)N1CCN(CC1)c1ccc(cc1)OC[C@H]1CO[C@](Cn2cc...        4.805714   \n472  CC(=O)N1CCN(CC1)c1ccc(cc1)OC[C@H]1CO[C@](Cn2cc...        4.080000   \n473  CC(=O)N1CCN(CC1)c1ccc(cc1)OC[C@H]1CO[C@](Cn2cc...        4.047143   \n475  CC(=O)N1CCN(CC1)c1ccc(cc1)OC[C@H]1CO[C@](Cn2cc...        3.248571   \n476  CC(=O)N1CCN(CC1)c1ccc(cc1)OC[C@H]1CO[C@](Cn2cc...        2.140000   \n482                      c1(=N)[nH]c(=N)[nH]c(=N)[nH]1        5.370000   \n591                    CN(C)CC(c1ccc(cc1)O)C1(CCCCC1)O        3.972857   \n633                 CC(C)N=c1[nH]c(=NC(C)C)[nH]c(n1)SC        3.135714   \n683  COc1ccc2c3CCN4CC5CC(C(C(C5CC4c3[nH]c2c1)C(=O)O...        3.770000   \n687  COc1ccc2c3CCN4CC5CC(C(C(C5CC4c3[nH]c2c1)C(=O)O...        2.180000   \n716  CCC(C)(C)C(=O)O[C@H]1C[C@@H](C)C=C2C=C[C@H](C)...        9.880000   \n719  CCC(C)(C)C(=O)O[C@H]1C[C@@H](C)C=C2C=C[C@H](C)...        4.840000   \n727                     c1ccc(cc1)/N=N/c1c2ccccc2ccc1O        4.625000   \n733                Cc1cc(C)nc(n1)NS(=O)(=O)c1ccc(cc1)N        8.880000   \n811            COc1cc(Cc2c[nH]c(=N)[nH]c2=N)cc(c1OC)OC        6.164286   \n\n    retention_time_cat        ABC      ABCGG  ...      SRW10     TSRW10  \\\n1                    2  14.008885  10.537147  ...  10.190582  51.083298   \n95                   0  10.825381   9.978853  ...   9.203416  46.030481   \n105                  2  10.825381   9.978853  ...   9.203416  46.030481   \n106                  2  10.825381   9.978853  ...   9.203416  46.030481   \n107                  1  10.825381   9.978853  ...   9.203416  46.030481   \n143                  2  22.319145  18.909716  ...  10.382234  64.764316   \n175                  2  10.485281   8.835388  ...   9.601774  59.273430   \n261                  0   5.944584   6.068455  ...   8.593599  50.007331   \n262                  0   5.944584   6.068455  ...   8.593599  50.007331   \n301                  1  16.356175  12.977056  ...  10.364608  69.208114   \n341                  0  21.488118  17.268417  ...  10.023446  62.837563   \n343                  1  21.488118  17.268417  ...  10.023446  62.837563   \n344                  2  21.488118  17.268417  ...  10.023446  62.837563   \n369                  2  25.252254  18.884070  ...  10.271285  68.823890   \n381                  1  26.097260  19.937196  ...  10.350510  84.366859   \n407                  2  13.427806  11.797726  ...  10.070992  50.681192   \n425                  1  14.280035  12.799479  ...   9.567385  64.751354   \n428                  1  14.280035  12.799479  ...   9.567385  64.751354   \n430                  0  14.280035  12.799479  ...   9.567385  64.751354   \n443                  2  25.301424  19.838948  ...  10.472573  85.419850   \n444                  2  25.301424  19.838948  ...  10.472573  85.419850   \n445                  1  25.301424  19.838948  ...  10.472573  85.419850   \n456                  1  13.204678  11.522751  ...   9.628853  67.830897   \n457                  0  13.204678  11.522751  ...   9.628853  67.830897   \n471                  2  28.538901  20.779696  ...  10.527311  88.394033   \n472                  1  28.538901  20.779696  ...  10.527311  88.394033   \n473                  1  28.538901  20.779696  ...  10.527311  88.394033   \n475                  0  28.538901  20.779696  ...  10.527311  88.394033   \n476                  0  28.538901  20.779696  ...  10.527311  88.394033   \n482                  2   6.692130   6.355891  ...   8.760767  37.736937   \n591                  1  14.527174  12.678904  ...   9.841665  52.309217   \n633                  0  11.751268  10.710647  ...   9.288504  47.452439   \n683                  1  34.341290  25.180878  ...  10.949209  96.562240   \n687                  0  34.341290  25.180878  ...  10.949209  96.562240   \n716                  2  23.268833  18.862705  ...  10.398641  65.900498   \n719                  2  23.268833  18.862705  ...  10.398641  65.900498   \n727                  2  14.837312  11.721991  ...   9.806591  52.309047   \n733                  2  14.726533  12.491650  ...   9.824498  52.353339   \n811                  2  15.653808  13.530766  ...   9.882519  54.636160   \n\n             MW        AMW  WPath  WPol  Zagreb1  Zagreb2   mZagreb1  mZagreb2  \n1    218.073165   8.076784    428    33    100.0    125.0   4.027778  3.583333  \n95   227.120467   7.097515    384    18     68.0     74.0   6.194444  3.583333  \n105  211.143310   6.598228    384    18     68.0     74.0   6.194444  3.583333  \n106  211.143310   6.598228    384    18     68.0     74.0   6.194444  3.583333  \n107  211.143310   6.598228    384    18     68.0     74.0   6.194444  3.583333  \n143  430.061041  10.001420   2378    47    152.0    175.0  13.354167  6.111111  \n175  167.073499   7.594250    219    19     72.0     87.0   2.694444  2.833333  \n261  113.058912   7.537261     59     7     38.0     42.0   3.833333  1.777778  \n262  113.058912   7.537261     59     7     38.0     42.0   3.833333  1.777778  \n301  270.161980   6.432428    724    39    118.0    148.0   6.090278  4.152778  \n341  414.137812   8.627871   2232    36    140.0    153.0  11.180556  5.972222  \n343  414.137812   8.627871   2232    36    140.0    153.0  11.180556  5.972222  \n344  414.137812   8.627871   2232    36    140.0    153.0  11.180556  5.972222  \n369  493.143820   8.084325   3998    49    166.0    189.0  11.451389  7.347222  \n381  490.224991   7.209191   4390    52    174.0    201.0  12.923611  7.486111  \n407  296.964475  11.878579    460    29     94.0    111.0   7.819444  3.430556  \n425  296.048318   8.971161    721    24     92.0    104.0   6.305556  4.388889  \n428  296.048318   8.971161    721    24     92.0    104.0   6.305556  4.388889  \n430  296.048318   8.971161    721    24     92.0    104.0   6.305556  4.388889  \n443  428.232460   7.137208   3125    51    174.0    210.0   8.201389  7.097222  \n444  428.232460   7.137208   3125    51    174.0    210.0   8.201389  7.097222  \n445  428.232460   7.137208   3125    51    174.0    210.0   8.201389  7.097222  \n456  253.136117   7.031559    533    20     88.0     98.0   6.506944  3.625000  \n457  253.136117   7.031559    533    20     88.0     98.0   6.506944  3.625000  \n471  530.148761   8.283574   4692    56    194.0    229.0  10.423611  7.791667  \n472  530.148761   8.283574   4692    56    194.0    229.0  10.423611  7.791667  \n473  530.148761   8.283574   4692    56    194.0    229.0  10.423611  7.791667  \n475  530.148761   8.283574   4692    56    194.0    229.0  10.423611  7.791667  \n476  530.148761   8.283574   4692    56    194.0    229.0  10.423611  7.791667  \n482  126.065394   8.404360     84     9     42.0     45.0   4.083333  2.000000  \n591  263.188529   5.981557    672    28     96.0    110.0   7.006944  4.194444  \n633  241.136117   6.889603    458    19     74.0     80.0   7.055556  3.666667  \n683  608.273381   7.241350   6905    86    242.0    299.0  14.500000  9.944444  \n687  608.273381   7.241350   6905    86    242.0    299.0  14.500000  9.944444  \n716  418.271924   6.151058   2440    50    158.0    185.0  11.923611  6.486111  \n719  418.271924   6.151058   2440    50    158.0    185.0  11.923611  6.486111  \n727  248.094963   8.003063    722    28     98.0    114.0   4.805556  4.250000  \n733  278.083747   8.426780    722    27     98.0    111.0   7.618056  4.041667  \n811  290.137890   7.439433    946    33    104.0    121.0   8.027778  4.916667  \n\n[39 rows x 1334 columns]",
      "text/html": "<div>\n<style scoped>\n    .dataframe tbody tr th:only-of-type {\n        vertical-align: middle;\n    }\n\n    .dataframe tbody tr th {\n        vertical-align: top;\n    }\n\n    .dataframe thead th {\n        text-align: right;\n    }\n</style>\n<table border=\"1\" class=\"dataframe\">\n  <thead>\n    <tr style=\"text-align: right;\">\n      <th></th>\n      <th>Compound_name</th>\n      <th>Column</th>\n      <th>Organic_modifier</th>\n      <th>pH</th>\n      <th>Buffer</th>\n      <th>SMILES</th>\n      <th>retention_time</th>\n      <th>retention_time_cat</th>\n      <th>ABC</th>\n      <th>ABCGG</th>\n      <th>...</th>\n      <th>SRW10</th>\n      <th>TSRW10</th>\n      <th>MW</th>\n      <th>AMW</th>\n      <th>WPath</th>\n      <th>WPol</th>\n      <th>Zagreb1</th>\n      <th>Zagreb2</th>\n      <th>mZagreb1</th>\n      <th>mZagreb2</th>\n    </tr>\n  </thead>\n  <tbody>\n    <tr>\n      <th>1</th>\n      <td>1-hydroxypyrene</td>\n      <td>HILIC</td>\n      <td>Acetonitrile</td>\n      <td>3.0</td>\n      <td>Acetic acid</td>\n      <td>c1cc2ccc3ccc(c4ccc(c1)c2c34)O</td>\n      <td>12.321429</td>\n      <td>2</td>\n      <td>14.008885</td>\n      <td>10.537147</td>\n      <td>...</td>\n      <td>10.190582</td>\n      <td>51.083298</td>\n      <td>218.073165</td>\n      <td>8.076784</td>\n      <td>428</td>\n      <td>33</td>\n      <td>100.0</td>\n      <td>125.0</td>\n      <td>4.027778</td>\n      <td>3.583333</td>\n    </tr>\n    <tr>\n      <th>95</th>\n      <td>Ametryn</td>\n      <td>HILIC</td>\n      <td>Acetonitrile</td>\n      <td>3.0</td>\n      <td>Formic acid</td>\n      <td>CCN=c1[nH]c(=NC(C)C)[nH]c(n1)SC</td>\n      <td>3.150000</td>\n      <td>0</td>\n      <td>10.825381</td>\n      <td>9.978853</td>\n      <td>...</td>\n      <td>9.203416</td>\n      <td>46.030481</td>\n      <td>227.120467</td>\n      <td>7.097515</td>\n      <td>384</td>\n      <td>18</td>\n      <td>68.0</td>\n      <td>74.0</td>\n      <td>6.194444</td>\n      <td>3.583333</td>\n    </tr>\n    <tr>\n      <th>105</th>\n      <td>Atraton</td>\n      <td>HILIC</td>\n      <td>Acetonitrile</td>\n      <td>2.7</td>\n      <td>Formic acid</td>\n      <td>CCN=c1[nH]c(=NC(C)C)[nH]c(n1)OC</td>\n      <td>5.694286</td>\n      <td>2</td>\n      <td>10.825381</td>\n      <td>9.978853</td>\n      <td>...</td>\n      <td>9.203416</td>\n      <td>46.030481</td>\n      <td>211.143310</td>\n      <td>6.598228</td>\n      <td>384</td>\n      <td>18</td>\n      <td>68.0</td>\n      <td>74.0</td>\n      <td>6.194444</td>\n      <td>3.583333</td>\n    </tr>\n    <tr>\n      <th>106</th>\n      <td>Atraton</td>\n      <td>HILIC</td>\n      <td>Acetonitrile</td>\n      <td>3.0</td>\n      <td>Acetic acid</td>\n      <td>CCN=c1[nH]c(=NC(C)C)[nH]c(n1)OC</td>\n      <td>5.180000</td>\n      <td>2</td>\n      <td>10.825381</td>\n      <td>9.978853</td>\n      <td>...</td>\n      <td>9.203416</td>\n      <td>46.030481</td>\n      <td>211.143310</td>\n      <td>6.598228</td>\n      <td>384</td>\n      <td>18</td>\n      <td>68.0</td>\n      <td>74.0</td>\n      <td>6.194444</td>\n      <td>3.583333</td>\n    </tr>\n    <tr>\n      <th>107</th>\n      <td>Atraton</td>\n      <td>HILIC</td>\n      <td>Acetonitrile</td>\n      <td>3.0</td>\n      <td>Formic acid</td>\n      <td>CCN=c1[nH]c(=NC(C)C)[nH]c(n1)OC</td>\n      <td>4.318571</td>\n      <td>1</td>\n      <td>10.825381</td>\n      <td>9.978853</td>\n      <td>...</td>\n      <td>9.203416</td>\n      <td>46.030481</td>\n      <td>211.143310</td>\n      <td>6.598228</td>\n      <td>384</td>\n      <td>18</td>\n      <td>68.0</td>\n      <td>74.0</td>\n      <td>6.194444</td>\n      <td>3.583333</td>\n    </tr>\n    <tr>\n      <th>143</th>\n      <td>Bicalutamide</td>\n      <td>HILIC</td>\n      <td>Acetonitrile</td>\n      <td>3.0</td>\n      <td>Formic acid</td>\n      <td>C[C@](CS(=O)(=O)c1ccc(cc1)F)(C(=Nc1ccc(C#N)c(c...</td>\n      <td>8.115714</td>\n      <td>2</td>\n      <td>22.319145</td>\n      <td>18.909716</td>\n      <td>...</td>\n      <td>10.382234</td>\n      <td>64.764316</td>\n      <td>430.061041</td>\n      <td>10.001420</td>\n      <td>2378</td>\n      <td>47</td>\n      <td>152.0</td>\n      <td>175.0</td>\n      <td>13.354167</td>\n      <td>6.111111</td>\n    </tr>\n    <tr>\n      <th>175</th>\n      <td>Carbazole</td>\n      <td>HILIC</td>\n      <td>Acetonitrile</td>\n      <td>2.7</td>\n      <td>Formic acid</td>\n      <td>c1ccc2c(c1)c1ccccc1[nH]2</td>\n      <td>7.070000</td>\n      <td>2</td>\n      <td>10.485281</td>\n      <td>8.835388</td>\n      <td>...</td>\n      <td>9.601774</td>\n      <td>59.273430</td>\n      <td>167.073499</td>\n      <td>7.594250</td>\n      <td>219</td>\n      <td>19</td>\n      <td>72.0</td>\n      <td>87.0</td>\n      <td>2.694444</td>\n      <td>2.833333</td>\n    </tr>\n    <tr>\n      <th>261</th>\n      <td>Creatinine</td>\n      <td>HILIC</td>\n      <td>Methanol</td>\n      <td>3.0</td>\n      <td>Formic acid</td>\n      <td>CN1CC(=NC1=N)O</td>\n      <td>3.357143</td>\n      <td>0</td>\n      <td>5.944584</td>\n      <td>6.068455</td>\n      <td>...</td>\n      <td>8.593599</td>\n      <td>50.007331</td>\n      <td>113.058912</td>\n      <td>7.537261</td>\n      <td>59</td>\n      <td>7</td>\n      <td>38.0</td>\n      <td>42.0</td>\n      <td>3.833333</td>\n      <td>1.777778</td>\n    </tr>\n    <tr>\n      <th>262</th>\n      <td>Creatinine</td>\n      <td>HILIC</td>\n      <td>Methanol</td>\n      <td>5.0</td>\n      <td>Acetic acid</td>\n      <td>CN1CC(=NC1=N)O</td>\n      <td>2.615714</td>\n      <td>0</td>\n      <td>5.944584</td>\n      <td>6.068455</td>\n      <td>...</td>\n      <td>8.593599</td>\n      <td>50.007331</td>\n      <td>113.058912</td>\n      <td>7.537261</td>\n      <td>59</td>\n      <td>7</td>\n      <td>38.0</td>\n      <td>42.0</td>\n      <td>3.833333</td>\n      <td>1.777778</td>\n    </tr>\n    <tr>\n      <th>301</th>\n      <td>Estrone</td>\n      <td>HILIC</td>\n      <td>Acetonitrile</td>\n      <td>2.7</td>\n      <td>Formic acid</td>\n      <td>C[C@]12CC[C@@H]3c4ccc(cc4CC[C@H]3[C@@H]1CCC2=O)O</td>\n      <td>3.507500</td>\n      <td>1</td>\n      <td>16.356175</td>\n      <td>12.977056</td>\n      <td>...</td>\n      <td>10.364608</td>\n      <td>69.208114</td>\n      <td>270.161980</td>\n      <td>6.432428</td>\n      <td>724</td>\n      <td>39</td>\n      <td>118.0</td>\n      <td>148.0</td>\n      <td>6.090278</td>\n      <td>4.152778</td>\n    </tr>\n    <tr>\n      <th>341</th>\n      <td>Flecainide</td>\n      <td>HILIC</td>\n      <td>Methanol</td>\n      <td>3.0</td>\n      <td>Formic acid</td>\n      <td>C1CCNC(C1)CN=C(c1cc(ccc1OCC(F)(F)F)OCC(F)(F)F)O</td>\n      <td>3.281429</td>\n      <td>0</td>\n      <td>21.488118</td>\n      <td>17.268417</td>\n      <td>...</td>\n      <td>10.023446</td>\n      <td>62.837563</td>\n      <td>414.137812</td>\n      <td>8.627871</td>\n      <td>2232</td>\n      <td>36</td>\n      <td>140.0</td>\n      <td>153.0</td>\n      <td>11.180556</td>\n      <td>5.972222</td>\n    </tr>\n    <tr>\n      <th>343</th>\n      <td>Flecainide</td>\n      <td>HILIC</td>\n      <td>Methanol</td>\n      <td>5.0</td>\n      <td>Formic acid</td>\n      <td>C1CCNC(C1)CN=C(c1cc(ccc1OCC(F)(F)F)OCC(F)(F)F)O</td>\n      <td>4.178571</td>\n      <td>1</td>\n      <td>21.488118</td>\n      <td>17.268417</td>\n      <td>...</td>\n      <td>10.023446</td>\n      <td>62.837563</td>\n      <td>414.137812</td>\n      <td>8.627871</td>\n      <td>2232</td>\n      <td>36</td>\n      <td>140.0</td>\n      <td>153.0</td>\n      <td>11.180556</td>\n      <td>5.972222</td>\n    </tr>\n    <tr>\n      <th>344</th>\n      <td>Flecainide</td>\n      <td>HILIC</td>\n      <td>Methanol</td>\n      <td>6.7</td>\n      <td>Formic acid</td>\n      <td>C1CCNC(C1)CN=C(c1cc(ccc1OCC(F)(F)F)OCC(F)(F)F)O</td>\n      <td>5.851429</td>\n      <td>2</td>\n      <td>21.488118</td>\n      <td>17.268417</td>\n      <td>...</td>\n      <td>10.023446</td>\n      <td>62.837563</td>\n      <td>414.137812</td>\n      <td>8.627871</td>\n      <td>2232</td>\n      <td>36</td>\n      <td>140.0</td>\n      <td>153.0</td>\n      <td>11.180556</td>\n      <td>5.972222</td>\n    </tr>\n    <tr>\n      <th>369</th>\n      <td>Glibenclamide</td>\n      <td>HILIC</td>\n      <td>Acetonitrile</td>\n      <td>2.7</td>\n      <td>Formic acid</td>\n      <td>COc1ccc(cc1C(=NCCc1ccc(cc1)S(=O)(=O)NC(=NC1CCC...</td>\n      <td>4.652857</td>\n      <td>2</td>\n      <td>25.252254</td>\n      <td>18.884070</td>\n      <td>...</td>\n      <td>10.271285</td>\n      <td>68.823890</td>\n      <td>493.143820</td>\n      <td>8.084325</td>\n      <td>3998</td>\n      <td>49</td>\n      <td>166.0</td>\n      <td>189.0</td>\n      <td>11.451389</td>\n      <td>7.347222</td>\n    </tr>\n    <tr>\n      <th>381</th>\n      <td>Glimepiride</td>\n      <td>HILIC</td>\n      <td>Acetonitrile</td>\n      <td>3.0</td>\n      <td>Acetic acid</td>\n      <td>CCC1=C(C)CN(C1=O)C(=NCCc1ccc(cc1)S(=O)(=O)NC(=...</td>\n      <td>4.285000</td>\n      <td>1</td>\n      <td>26.097260</td>\n      <td>19.937196</td>\n      <td>...</td>\n      <td>10.350510</td>\n      <td>84.366859</td>\n      <td>490.224991</td>\n      <td>7.209191</td>\n      <td>4390</td>\n      <td>52</td>\n      <td>174.0</td>\n      <td>201.0</td>\n      <td>12.923611</td>\n      <td>7.486111</td>\n    </tr>\n    <tr>\n      <th>407</th>\n      <td>Hydrochlorothiazide</td>\n      <td>HILIC</td>\n      <td>Methanol</td>\n      <td>3.0</td>\n      <td>Formic acid</td>\n      <td>c1c(c(cc2c1NCNS2(=O)=O)S(=O)(=O)N)Cl</td>\n      <td>5.270000</td>\n      <td>2</td>\n      <td>13.427806</td>\n      <td>11.797726</td>\n      <td>...</td>\n      <td>10.070992</td>\n      <td>50.681192</td>\n      <td>296.964475</td>\n      <td>11.878579</td>\n      <td>460</td>\n      <td>29</td>\n      <td>94.0</td>\n      <td>111.0</td>\n      <td>7.819444</td>\n      <td>3.430556</td>\n    </tr>\n    <tr>\n      <th>425</th>\n      <td>Imazalil</td>\n      <td>HILIC</td>\n      <td>Acetonitrile</td>\n      <td>5.0</td>\n      <td>Acetic acid</td>\n      <td>C=CCOC(Cn1ccnc1)c1ccc(cc1Cl)Cl</td>\n      <td>3.614286</td>\n      <td>1</td>\n      <td>14.280035</td>\n      <td>12.799479</td>\n      <td>...</td>\n      <td>9.567385</td>\n      <td>64.751354</td>\n      <td>296.048318</td>\n      <td>8.971161</td>\n      <td>721</td>\n      <td>24</td>\n      <td>92.0</td>\n      <td>104.0</td>\n      <td>6.305556</td>\n      <td>4.388889</td>\n    </tr>\n    <tr>\n      <th>428</th>\n      <td>Imazalil</td>\n      <td>HILIC</td>\n      <td>Methanol</td>\n      <td>2.7</td>\n      <td>Formic acid</td>\n      <td>C=CCOC(Cn1ccnc1)c1ccc(cc1Cl)Cl</td>\n      <td>3.647143</td>\n      <td>1</td>\n      <td>14.280035</td>\n      <td>12.799479</td>\n      <td>...</td>\n      <td>9.567385</td>\n      <td>64.751354</td>\n      <td>296.048318</td>\n      <td>8.971161</td>\n      <td>721</td>\n      <td>24</td>\n      <td>92.0</td>\n      <td>104.0</td>\n      <td>6.305556</td>\n      <td>4.388889</td>\n    </tr>\n    <tr>\n      <th>430</th>\n      <td>Imazalil</td>\n      <td>HILIC</td>\n      <td>Methanol</td>\n      <td>3.0</td>\n      <td>Formic acid</td>\n      <td>C=CCOC(Cn1ccnc1)c1ccc(cc1Cl)Cl</td>\n      <td>2.944286</td>\n      <td>0</td>\n      <td>14.280035</td>\n      <td>12.799479</td>\n      <td>...</td>\n      <td>9.567385</td>\n      <td>64.751354</td>\n      <td>296.048318</td>\n      <td>8.971161</td>\n      <td>721</td>\n      <td>24</td>\n      <td>92.0</td>\n      <td>104.0</td>\n      <td>6.305556</td>\n      <td>4.388889</td>\n    </tr>\n    <tr>\n      <th>443</th>\n      <td>Irbesartan</td>\n      <td>HILIC</td>\n      <td>Acetonitrile</td>\n      <td>2.7</td>\n      <td>Formic acid</td>\n      <td>CCCCC1=NC2(CCCC2)C(=O)N1Cc1ccc(cc1)c1ccccc1c1n...</td>\n      <td>5.381429</td>\n      <td>2</td>\n      <td>25.301424</td>\n      <td>19.838948</td>\n      <td>...</td>\n      <td>10.472573</td>\n      <td>85.419850</td>\n      <td>428.232460</td>\n      <td>7.137208</td>\n      <td>3125</td>\n      <td>51</td>\n      <td>174.0</td>\n      <td>210.0</td>\n      <td>8.201389</td>\n      <td>7.097222</td>\n    </tr>\n    <tr>\n      <th>444</th>\n      <td>Irbesartan</td>\n      <td>HILIC</td>\n      <td>Acetonitrile</td>\n      <td>3.0</td>\n      <td>Acetic acid</td>\n      <td>CCCCC1=NC2(CCCC2)C(=O)N1Cc1ccc(cc1)c1ccccc1c1n...</td>\n      <td>5.020000</td>\n      <td>2</td>\n      <td>25.301424</td>\n      <td>19.838948</td>\n      <td>...</td>\n      <td>10.472573</td>\n      <td>85.419850</td>\n      <td>428.232460</td>\n      <td>7.137208</td>\n      <td>3125</td>\n      <td>51</td>\n      <td>174.0</td>\n      <td>210.0</td>\n      <td>8.201389</td>\n      <td>7.097222</td>\n    </tr>\n    <tr>\n      <th>445</th>\n      <td>Irbesartan</td>\n      <td>HILIC</td>\n      <td>Acetonitrile</td>\n      <td>3.0</td>\n      <td>Formic acid</td>\n      <td>CCCCC1=NC2(CCCC2)C(=O)N1Cc1ccc(cc1)c1ccccc1c1n...</td>\n      <td>4.245714</td>\n      <td>1</td>\n      <td>25.301424</td>\n      <td>19.838948</td>\n      <td>...</td>\n      <td>10.472573</td>\n      <td>85.419850</td>\n      <td>428.232460</td>\n      <td>7.137208</td>\n      <td>3125</td>\n      <td>51</td>\n      <td>174.0</td>\n      <td>210.0</td>\n      <td>8.201389</td>\n      <td>7.097222</td>\n    </tr>\n    <tr>\n      <th>456</th>\n      <td>Irgarol</td>\n      <td>HILIC</td>\n      <td>Acetonitrile</td>\n      <td>3.0</td>\n      <td>Acetic acid</td>\n      <td>CC(C)(C)Nc1nc(=NC2CC2)nc([nH]1)SC</td>\n      <td>3.640000</td>\n      <td>1</td>\n      <td>13.204678</td>\n      <td>11.522751</td>\n      <td>...</td>\n      <td>9.628853</td>\n      <td>67.830897</td>\n      <td>253.136117</td>\n      <td>7.031559</td>\n      <td>533</td>\n      <td>20</td>\n      <td>88.0</td>\n      <td>98.0</td>\n      <td>6.506944</td>\n      <td>3.625000</td>\n    </tr>\n    <tr>\n      <th>457</th>\n      <td>Irgarol</td>\n      <td>HILIC</td>\n      <td>Acetonitrile</td>\n      <td>3.0</td>\n      <td>Formic acid</td>\n      <td>CC(C)(C)Nc1nc(=NC2CC2)nc([nH]1)SC</td>\n      <td>3.027143</td>\n      <td>0</td>\n      <td>13.204678</td>\n      <td>11.522751</td>\n      <td>...</td>\n      <td>9.628853</td>\n      <td>67.830897</td>\n      <td>253.136117</td>\n      <td>7.031559</td>\n      <td>533</td>\n      <td>20</td>\n      <td>88.0</td>\n      <td>98.0</td>\n      <td>6.506944</td>\n      <td>3.625000</td>\n    </tr>\n    <tr>\n      <th>471</th>\n      <td>Ketoconazole</td>\n      <td>HILIC</td>\n      <td>Acetonitrile</td>\n      <td>5.0</td>\n      <td>Formic acid</td>\n      <td>CC(=O)N1CCN(CC1)c1ccc(cc1)OC[C@H]1CO[C@](Cn2cc...</td>\n      <td>4.805714</td>\n      <td>2</td>\n      <td>28.538901</td>\n      <td>20.779696</td>\n      <td>...</td>\n      <td>10.527311</td>\n      <td>88.394033</td>\n      <td>530.148761</td>\n      <td>8.283574</td>\n      <td>4692</td>\n      <td>56</td>\n      <td>194.0</td>\n      <td>229.0</td>\n      <td>10.423611</td>\n      <td>7.791667</td>\n    </tr>\n    <tr>\n      <th>472</th>\n      <td>Ketoconazole</td>\n      <td>HILIC</td>\n      <td>Acetonitrile</td>\n      <td>6.7</td>\n      <td>Formic acid</td>\n      <td>CC(=O)N1CCN(CC1)c1ccc(cc1)OC[C@H]1CO[C@](Cn2cc...</td>\n      <td>4.080000</td>\n      <td>1</td>\n      <td>28.538901</td>\n      <td>20.779696</td>\n      <td>...</td>\n      <td>10.527311</td>\n      <td>88.394033</td>\n      <td>530.148761</td>\n      <td>8.283574</td>\n      <td>4692</td>\n      <td>56</td>\n      <td>194.0</td>\n      <td>229.0</td>\n      <td>10.423611</td>\n      <td>7.791667</td>\n    </tr>\n    <tr>\n      <th>473</th>\n      <td>Ketoconazole</td>\n      <td>HILIC</td>\n      <td>Methanol</td>\n      <td>2.7</td>\n      <td>Formic acid</td>\n      <td>CC(=O)N1CCN(CC1)c1ccc(cc1)OC[C@H]1CO[C@](Cn2cc...</td>\n      <td>4.047143</td>\n      <td>1</td>\n      <td>28.538901</td>\n      <td>20.779696</td>\n      <td>...</td>\n      <td>10.527311</td>\n      <td>88.394033</td>\n      <td>530.148761</td>\n      <td>8.283574</td>\n      <td>4692</td>\n      <td>56</td>\n      <td>194.0</td>\n      <td>229.0</td>\n      <td>10.423611</td>\n      <td>7.791667</td>\n    </tr>\n    <tr>\n      <th>475</th>\n      <td>Ketoconazole</td>\n      <td>HILIC</td>\n      <td>Methanol</td>\n      <td>3.0</td>\n      <td>Formic acid</td>\n      <td>CC(=O)N1CCN(CC1)c1ccc(cc1)OC[C@H]1CO[C@](Cn2cc...</td>\n      <td>3.248571</td>\n      <td>0</td>\n      <td>28.538901</td>\n      <td>20.779696</td>\n      <td>...</td>\n      <td>10.527311</td>\n      <td>88.394033</td>\n      <td>530.148761</td>\n      <td>8.283574</td>\n      <td>4692</td>\n      <td>56</td>\n      <td>194.0</td>\n      <td>229.0</td>\n      <td>10.423611</td>\n      <td>7.791667</td>\n    </tr>\n    <tr>\n      <th>476</th>\n      <td>Ketoconazole</td>\n      <td>HILIC</td>\n      <td>Methanol</td>\n      <td>5.0</td>\n      <td>Acetic acid</td>\n      <td>CC(=O)N1CCN(CC1)c1ccc(cc1)OC[C@H]1CO[C@](Cn2cc...</td>\n      <td>2.140000</td>\n      <td>0</td>\n      <td>28.538901</td>\n      <td>20.779696</td>\n      <td>...</td>\n      <td>10.527311</td>\n      <td>88.394033</td>\n      <td>530.148761</td>\n      <td>8.283574</td>\n      <td>4692</td>\n      <td>56</td>\n      <td>194.0</td>\n      <td>229.0</td>\n      <td>10.423611</td>\n      <td>7.791667</td>\n    </tr>\n    <tr>\n      <th>482</th>\n      <td>Melamine</td>\n      <td>HILIC</td>\n      <td>Acetonitrile</td>\n      <td>5.0</td>\n      <td>Acetic acid</td>\n      <td>c1(=N)[nH]c(=N)[nH]c(=N)[nH]1</td>\n      <td>5.370000</td>\n      <td>2</td>\n      <td>6.692130</td>\n      <td>6.355891</td>\n      <td>...</td>\n      <td>8.760767</td>\n      <td>37.736937</td>\n      <td>126.065394</td>\n      <td>8.404360</td>\n      <td>84</td>\n      <td>9</td>\n      <td>42.0</td>\n      <td>45.0</td>\n      <td>4.083333</td>\n      <td>2.000000</td>\n    </tr>\n    <tr>\n      <th>591</th>\n      <td>O-Desmethylvenlafaxine</td>\n      <td>HILIC</td>\n      <td>Methanol</td>\n      <td>3.0</td>\n      <td>Formic acid</td>\n      <td>CN(C)CC(c1ccc(cc1)O)C1(CCCCC1)O</td>\n      <td>3.972857</td>\n      <td>1</td>\n      <td>14.527174</td>\n      <td>12.678904</td>\n      <td>...</td>\n      <td>9.841665</td>\n      <td>52.309217</td>\n      <td>263.188529</td>\n      <td>5.981557</td>\n      <td>672</td>\n      <td>28</td>\n      <td>96.0</td>\n      <td>110.0</td>\n      <td>7.006944</td>\n      <td>4.194444</td>\n    </tr>\n    <tr>\n      <th>633</th>\n      <td>Prometryn</td>\n      <td>HILIC</td>\n      <td>Acetonitrile</td>\n      <td>3.0</td>\n      <td>Formic acid</td>\n      <td>CC(C)N=c1[nH]c(=NC(C)C)[nH]c(n1)SC</td>\n      <td>3.135714</td>\n      <td>0</td>\n      <td>11.751268</td>\n      <td>10.710647</td>\n      <td>...</td>\n      <td>9.288504</td>\n      <td>47.452439</td>\n      <td>241.136117</td>\n      <td>6.889603</td>\n      <td>458</td>\n      <td>19</td>\n      <td>74.0</td>\n      <td>80.0</td>\n      <td>7.055556</td>\n      <td>3.666667</td>\n    </tr>\n    <tr>\n      <th>683</th>\n      <td>Reserpine</td>\n      <td>HILIC</td>\n      <td>Acetonitrile</td>\n      <td>6.7</td>\n      <td>Formic acid</td>\n      <td>COc1ccc2c3CCN4CC5CC(C(C(C5CC4c3[nH]c2c1)C(=O)O...</td>\n      <td>3.770000</td>\n      <td>1</td>\n      <td>34.341290</td>\n      <td>25.180878</td>\n      <td>...</td>\n      <td>10.949209</td>\n      <td>96.562240</td>\n      <td>608.273381</td>\n      <td>7.241350</td>\n      <td>6905</td>\n      <td>86</td>\n      <td>242.0</td>\n      <td>299.0</td>\n      <td>14.500000</td>\n      <td>9.944444</td>\n    </tr>\n    <tr>\n      <th>687</th>\n      <td>Reserpine</td>\n      <td>HILIC</td>\n      <td>Methanol</td>\n      <td>5.0</td>\n      <td>Acetic acid</td>\n      <td>COc1ccc2c3CCN4CC5CC(C(C(C5CC4c3[nH]c2c1)C(=O)O...</td>\n      <td>2.180000</td>\n      <td>0</td>\n      <td>34.341290</td>\n      <td>25.180878</td>\n      <td>...</td>\n      <td>10.949209</td>\n      <td>96.562240</td>\n      <td>608.273381</td>\n      <td>7.241350</td>\n      <td>6905</td>\n      <td>86</td>\n      <td>242.0</td>\n      <td>299.0</td>\n      <td>14.500000</td>\n      <td>9.944444</td>\n    </tr>\n    <tr>\n      <th>716</th>\n      <td>Simvastatin</td>\n      <td>HILIC</td>\n      <td>Acetonitrile</td>\n      <td>5.0</td>\n      <td>Acetic acid</td>\n      <td>CCC(C)(C)C(=O)O[C@H]1C[C@@H](C)C=C2C=C[C@H](C)...</td>\n      <td>9.880000</td>\n      <td>2</td>\n      <td>23.268833</td>\n      <td>18.862705</td>\n      <td>...</td>\n      <td>10.398641</td>\n      <td>65.900498</td>\n      <td>418.271924</td>\n      <td>6.151058</td>\n      <td>2440</td>\n      <td>50</td>\n      <td>158.0</td>\n      <td>185.0</td>\n      <td>11.923611</td>\n      <td>6.486111</td>\n    </tr>\n    <tr>\n      <th>719</th>\n      <td>Simvastatin</td>\n      <td>HILIC</td>\n      <td>Methanol</td>\n      <td>5.0</td>\n      <td>Formic acid</td>\n      <td>CCC(C)(C)C(=O)O[C@H]1C[C@@H](C)C=C2C=C[C@H](C)...</td>\n      <td>4.840000</td>\n      <td>2</td>\n      <td>23.268833</td>\n      <td>18.862705</td>\n      <td>...</td>\n      <td>10.398641</td>\n      <td>65.900498</td>\n      <td>418.271924</td>\n      <td>6.151058</td>\n      <td>2440</td>\n      <td>50</td>\n      <td>158.0</td>\n      <td>185.0</td>\n      <td>11.923611</td>\n      <td>6.486111</td>\n    </tr>\n    <tr>\n      <th>727</th>\n      <td>Sudan I</td>\n      <td>HILIC</td>\n      <td>Methanol</td>\n      <td>3.0</td>\n      <td>Acetic acid</td>\n      <td>c1ccc(cc1)/N=N/c1c2ccccc2ccc1O</td>\n      <td>4.625000</td>\n      <td>2</td>\n      <td>14.837312</td>\n      <td>11.721991</td>\n      <td>...</td>\n      <td>9.806591</td>\n      <td>52.309047</td>\n      <td>248.094963</td>\n      <td>8.003063</td>\n      <td>722</td>\n      <td>28</td>\n      <td>98.0</td>\n      <td>114.0</td>\n      <td>4.805556</td>\n      <td>4.250000</td>\n    </tr>\n    <tr>\n      <th>733</th>\n      <td>Sulfamethazine</td>\n      <td>HILIC</td>\n      <td>Acetonitrile</td>\n      <td>3.0</td>\n      <td>Acetic acid</td>\n      <td>Cc1cc(C)nc(n1)NS(=O)(=O)c1ccc(cc1)N</td>\n      <td>8.880000</td>\n      <td>2</td>\n      <td>14.726533</td>\n      <td>12.491650</td>\n      <td>...</td>\n      <td>9.824498</td>\n      <td>52.353339</td>\n      <td>278.083747</td>\n      <td>8.426780</td>\n      <td>722</td>\n      <td>27</td>\n      <td>98.0</td>\n      <td>111.0</td>\n      <td>7.618056</td>\n      <td>4.041667</td>\n    </tr>\n    <tr>\n      <th>811</th>\n      <td>Trimethoprim</td>\n      <td>HILIC</td>\n      <td>Methanol</td>\n      <td>3.0</td>\n      <td>Acetic acid</td>\n      <td>COc1cc(Cc2c[nH]c(=N)[nH]c2=N)cc(c1OC)OC</td>\n      <td>6.164286</td>\n      <td>2</td>\n      <td>15.653808</td>\n      <td>13.530766</td>\n      <td>...</td>\n      <td>9.882519</td>\n      <td>54.636160</td>\n      <td>290.137890</td>\n      <td>7.439433</td>\n      <td>946</td>\n      <td>33</td>\n      <td>104.0</td>\n      <td>121.0</td>\n      <td>8.027778</td>\n      <td>4.916667</td>\n    </tr>\n  </tbody>\n</table>\n<p>39 rows × 1334 columns</p>\n</div>"
     },
     "execution_count": 525,
     "metadata": {},
     "output_type": "execute_result"
    }
   ],
   "source": [
    "data_suspicious"
   ],
   "metadata": {
    "collapsed": false,
    "pycharm": {
     "name": "#%%\n"
    }
   }
  },
  {
   "cell_type": "code",
   "execution_count": 526,
   "outputs": [],
   "source": [
    "data_confirmed = data_confirmed.drop(['retention_time_cat'], axis = 1)"
   ],
   "metadata": {
    "collapsed": false,
    "pycharm": {
     "name": "#%%\n"
    }
   }
  },
  {
   "cell_type": "code",
   "execution_count": 529,
   "outputs": [
    {
     "data": {
      "text/plain": "     Compound_name Column Organic_modifier   pH       Buffer  \\\n0  1-hydroxypyrene  HILIC     Acetonitrile  2.7  Formic acid   \n2  1-hydroxypyrene  HILIC     Acetonitrile  3.0  Formic acid   \n3  1-hydroxypyrene  HILIC     Acetonitrile  5.0  Acetic acid   \n4  1-hydroxypyrene  HILIC     Acetonitrile  5.0  Formic acid   \n5  1-hydroxypyrene  HILIC     Acetonitrile  6.7  Formic acid   \n\n                          SMILES  retention_time        ABC      ABCGG  nAcid  \\\n0  c1cc2ccc3ccc(c4ccc(c1)c2c34)O        1.822857  14.008885  10.537147      0   \n2  c1cc2ccc3ccc(c4ccc(c1)c2c34)O        1.857143  14.008885  10.537147      0   \n3  c1cc2ccc3ccc(c4ccc(c1)c2c34)O        1.850000  14.008885  10.537147      0   \n4  c1cc2ccc3ccc(c4ccc(c1)c2c34)O        1.851429  14.008885  10.537147      0   \n5  c1cc2ccc3ccc(c4ccc(c1)c2c34)O        1.930000  14.008885  10.537147      0   \n\n   ...      SRW10     TSRW10          MW       AMW  WPath  WPol  Zagreb1  \\\n0  ...  10.190582  51.083298  218.073165  8.076784    428    33    100.0   \n2  ...  10.190582  51.083298  218.073165  8.076784    428    33    100.0   \n3  ...  10.190582  51.083298  218.073165  8.076784    428    33    100.0   \n4  ...  10.190582  51.083298  218.073165  8.076784    428    33    100.0   \n5  ...  10.190582  51.083298  218.073165  8.076784    428    33    100.0   \n\n   Zagreb2  mZagreb1  mZagreb2  \n0    125.0  4.027778  3.583333  \n2    125.0  4.027778  3.583333  \n3    125.0  4.027778  3.583333  \n4    125.0  4.027778  3.583333  \n5    125.0  4.027778  3.583333  \n\n[5 rows x 1333 columns]",
      "text/html": "<div>\n<style scoped>\n    .dataframe tbody tr th:only-of-type {\n        vertical-align: middle;\n    }\n\n    .dataframe tbody tr th {\n        vertical-align: top;\n    }\n\n    .dataframe thead th {\n        text-align: right;\n    }\n</style>\n<table border=\"1\" class=\"dataframe\">\n  <thead>\n    <tr style=\"text-align: right;\">\n      <th></th>\n      <th>Compound_name</th>\n      <th>Column</th>\n      <th>Organic_modifier</th>\n      <th>pH</th>\n      <th>Buffer</th>\n      <th>SMILES</th>\n      <th>retention_time</th>\n      <th>ABC</th>\n      <th>ABCGG</th>\n      <th>nAcid</th>\n      <th>...</th>\n      <th>SRW10</th>\n      <th>TSRW10</th>\n      <th>MW</th>\n      <th>AMW</th>\n      <th>WPath</th>\n      <th>WPol</th>\n      <th>Zagreb1</th>\n      <th>Zagreb2</th>\n      <th>mZagreb1</th>\n      <th>mZagreb2</th>\n    </tr>\n  </thead>\n  <tbody>\n    <tr>\n      <th>0</th>\n      <td>1-hydroxypyrene</td>\n      <td>HILIC</td>\n      <td>Acetonitrile</td>\n      <td>2.7</td>\n      <td>Formic acid</td>\n      <td>c1cc2ccc3ccc(c4ccc(c1)c2c34)O</td>\n      <td>1.822857</td>\n      <td>14.008885</td>\n      <td>10.537147</td>\n      <td>0</td>\n      <td>...</td>\n      <td>10.190582</td>\n      <td>51.083298</td>\n      <td>218.073165</td>\n      <td>8.076784</td>\n      <td>428</td>\n      <td>33</td>\n      <td>100.0</td>\n      <td>125.0</td>\n      <td>4.027778</td>\n      <td>3.583333</td>\n    </tr>\n    <tr>\n      <th>2</th>\n      <td>1-hydroxypyrene</td>\n      <td>HILIC</td>\n      <td>Acetonitrile</td>\n      <td>3.0</td>\n      <td>Formic acid</td>\n      <td>c1cc2ccc3ccc(c4ccc(c1)c2c34)O</td>\n      <td>1.857143</td>\n      <td>14.008885</td>\n      <td>10.537147</td>\n      <td>0</td>\n      <td>...</td>\n      <td>10.190582</td>\n      <td>51.083298</td>\n      <td>218.073165</td>\n      <td>8.076784</td>\n      <td>428</td>\n      <td>33</td>\n      <td>100.0</td>\n      <td>125.0</td>\n      <td>4.027778</td>\n      <td>3.583333</td>\n    </tr>\n    <tr>\n      <th>3</th>\n      <td>1-hydroxypyrene</td>\n      <td>HILIC</td>\n      <td>Acetonitrile</td>\n      <td>5.0</td>\n      <td>Acetic acid</td>\n      <td>c1cc2ccc3ccc(c4ccc(c1)c2c34)O</td>\n      <td>1.850000</td>\n      <td>14.008885</td>\n      <td>10.537147</td>\n      <td>0</td>\n      <td>...</td>\n      <td>10.190582</td>\n      <td>51.083298</td>\n      <td>218.073165</td>\n      <td>8.076784</td>\n      <td>428</td>\n      <td>33</td>\n      <td>100.0</td>\n      <td>125.0</td>\n      <td>4.027778</td>\n      <td>3.583333</td>\n    </tr>\n    <tr>\n      <th>4</th>\n      <td>1-hydroxypyrene</td>\n      <td>HILIC</td>\n      <td>Acetonitrile</td>\n      <td>5.0</td>\n      <td>Formic acid</td>\n      <td>c1cc2ccc3ccc(c4ccc(c1)c2c34)O</td>\n      <td>1.851429</td>\n      <td>14.008885</td>\n      <td>10.537147</td>\n      <td>0</td>\n      <td>...</td>\n      <td>10.190582</td>\n      <td>51.083298</td>\n      <td>218.073165</td>\n      <td>8.076784</td>\n      <td>428</td>\n      <td>33</td>\n      <td>100.0</td>\n      <td>125.0</td>\n      <td>4.027778</td>\n      <td>3.583333</td>\n    </tr>\n    <tr>\n      <th>5</th>\n      <td>1-hydroxypyrene</td>\n      <td>HILIC</td>\n      <td>Acetonitrile</td>\n      <td>6.7</td>\n      <td>Formic acid</td>\n      <td>c1cc2ccc3ccc(c4ccc(c1)c2c34)O</td>\n      <td>1.930000</td>\n      <td>14.008885</td>\n      <td>10.537147</td>\n      <td>0</td>\n      <td>...</td>\n      <td>10.190582</td>\n      <td>51.083298</td>\n      <td>218.073165</td>\n      <td>8.076784</td>\n      <td>428</td>\n      <td>33</td>\n      <td>100.0</td>\n      <td>125.0</td>\n      <td>4.027778</td>\n      <td>3.583333</td>\n    </tr>\n  </tbody>\n</table>\n<p>5 rows × 1333 columns</p>\n</div>"
     },
     "execution_count": 529,
     "metadata": {},
     "output_type": "execute_result"
    }
   ],
   "source": [
    "data_confirmed.head()"
   ],
   "metadata": {
    "collapsed": false,
    "pycharm": {
     "name": "#%%\n"
    }
   }
  },
  {
   "cell_type": "code",
   "execution_count": 528,
   "outputs": [
    {
     "data": {
      "text/plain": "(836, 1333)"
     },
     "execution_count": 528,
     "metadata": {},
     "output_type": "execute_result"
    }
   ],
   "source": [
    "data.shape"
   ],
   "metadata": {
    "collapsed": false,
    "pycharm": {
     "name": "#%%\n"
    }
   }
  },
  {
   "cell_type": "code",
   "execution_count": 530,
   "outputs": [],
   "source": [
    "data.to_csv(\"data/MultiRT/hilic_data_raw.csv\", index = False)"
   ],
   "metadata": {
    "collapsed": false,
    "pycharm": {
     "name": "#%%\n"
    }
   }
  },
  {
   "cell_type": "code",
   "execution_count": 531,
   "outputs": [],
   "source": [
    "data_confirmed.to_csv(\"data/MultiRT/hilic_data_confirmed.csv\", index = False)"
   ],
   "metadata": {
    "collapsed": false,
    "pycharm": {
     "name": "#%%\n"
    }
   }
  },
  {
   "cell_type": "code",
   "execution_count": 540,
   "outputs": [
    {
     "data": {
      "text/plain": "       Compound_name Column Organic_modifier   pH       Buffer  \\\n0    1-hydroxypyrene  HILIC     Acetonitrile  2.7  Formic acid   \n2    1-hydroxypyrene  HILIC     Acetonitrile  3.0  Formic acid   \n3    1-hydroxypyrene  HILIC     Acetonitrile  5.0  Acetic acid   \n4    1-hydroxypyrene  HILIC     Acetonitrile  5.0  Formic acid   \n5    1-hydroxypyrene  HILIC     Acetonitrile  6.7  Formic acid   \n..               ...    ...              ...  ...          ...   \n831        Valsartan  HILIC     Acetonitrile  5.0  Formic acid   \n832        Valsartan  HILIC         Methanol  2.7  Formic acid   \n833        Valsartan  HILIC         Methanol  3.0  Formic acid   \n834        Valsartan  HILIC         Methanol  5.0  Acetic acid   \n835        Valsartan  HILIC         Methanol  5.0  Formic acid   \n\n                                                SMILES  retention_time  \\\n0                        c1cc2ccc3ccc(c4ccc(c1)c2c34)O        1.822857   \n2                        c1cc2ccc3ccc(c4ccc(c1)c2c34)O        1.857143   \n3                        c1cc2ccc3ccc(c4ccc(c1)c2c34)O        1.850000   \n4                        c1cc2ccc3ccc(c4ccc(c1)c2c34)O        1.851429   \n5                        c1cc2ccc3ccc(c4ccc(c1)c2c34)O        1.930000   \n..                                                 ...             ...   \n831  CCCCC(=O)N(Cc1ccc(cc1)c1ccccc1c1n[nH]nn1)[C@@H...        3.177143   \n832  CCCCC(=O)N(Cc1ccc(cc1)c1ccccc1c1n[nH]nn1)[C@@H...        1.808571   \n833  CCCCC(=O)N(Cc1ccc(cc1)c1ccccc1c1n[nH]nn1)[C@@H...        1.790000   \n834  CCCCC(=O)N(Cc1ccc(cc1)c1ccccc1c1n[nH]nn1)[C@@H...        1.433333   \n835  CCCCC(=O)N(Cc1ccc(cc1)c1ccccc1c1n[nH]nn1)[C@@H...        1.463333   \n\n           ABC      ABCGG  nAcid  ...     TSRW10          MW       AMW  WPath  \\\n0    14.008885  10.537147      0  ...  51.083298  218.073165  8.076784    428   \n2    14.008885  10.537147      0  ...  51.083298  218.073165  8.076784    428   \n3    14.008885  10.537147      0  ...  51.083298  218.073165  8.076784    428   \n4    14.008885  10.537147      0  ...  51.083298  218.073165  8.076784    428   \n5    14.008885  10.537147      0  ...  51.083298  218.073165  8.076784    428   \n..         ...        ...    ...  ...        ...         ...       ...    ...   \n831  24.305499  20.006308      3  ...  80.792385  435.227040  7.134870   3122   \n832  24.305499  20.006308      3  ...  80.792385  435.227040  7.134870   3122   \n833  24.305499  20.006308      3  ...  80.792385  435.227040  7.134870   3122   \n834  24.305499  20.006308      3  ...  80.792385  435.227040  7.134870   3122   \n835  24.305499  20.006308      3  ...  80.792385  435.227040  7.134870   3122   \n\n     WPol  Zagreb1  Zagreb2   mZagreb1  mZagreb2  split_index  \n0      33    100.0    125.0   4.027778  3.583333            1  \n2      33    100.0    125.0   4.027778  3.583333            2  \n3      33    100.0    125.0   4.027778  3.583333            1  \n4      33    100.0    125.0   4.027778  3.583333            2  \n5      33    100.0    125.0   4.027778  3.583333            1  \n..    ...      ...      ...        ...       ...          ...  \n831    49    160.0    186.0  11.111111  7.277778            1  \n832    49    160.0    186.0  11.111111  7.277778            2  \n833    49    160.0    186.0  11.111111  7.277778            1  \n834    49    160.0    186.0  11.111111  7.277778            1  \n835    49    160.0    186.0  11.111111  7.277778            2  \n\n[797 rows x 1334 columns]",
      "text/html": "<div>\n<style scoped>\n    .dataframe tbody tr th:only-of-type {\n        vertical-align: middle;\n    }\n\n    .dataframe tbody tr th {\n        vertical-align: top;\n    }\n\n    .dataframe thead th {\n        text-align: right;\n    }\n</style>\n<table border=\"1\" class=\"dataframe\">\n  <thead>\n    <tr style=\"text-align: right;\">\n      <th></th>\n      <th>Compound_name</th>\n      <th>Column</th>\n      <th>Organic_modifier</th>\n      <th>pH</th>\n      <th>Buffer</th>\n      <th>SMILES</th>\n      <th>retention_time</th>\n      <th>ABC</th>\n      <th>ABCGG</th>\n      <th>nAcid</th>\n      <th>...</th>\n      <th>TSRW10</th>\n      <th>MW</th>\n      <th>AMW</th>\n      <th>WPath</th>\n      <th>WPol</th>\n      <th>Zagreb1</th>\n      <th>Zagreb2</th>\n      <th>mZagreb1</th>\n      <th>mZagreb2</th>\n      <th>split_index</th>\n    </tr>\n  </thead>\n  <tbody>\n    <tr>\n      <th>0</th>\n      <td>1-hydroxypyrene</td>\n      <td>HILIC</td>\n      <td>Acetonitrile</td>\n      <td>2.7</td>\n      <td>Formic acid</td>\n      <td>c1cc2ccc3ccc(c4ccc(c1)c2c34)O</td>\n      <td>1.822857</td>\n      <td>14.008885</td>\n      <td>10.537147</td>\n      <td>0</td>\n      <td>...</td>\n      <td>51.083298</td>\n      <td>218.073165</td>\n      <td>8.076784</td>\n      <td>428</td>\n      <td>33</td>\n      <td>100.0</td>\n      <td>125.0</td>\n      <td>4.027778</td>\n      <td>3.583333</td>\n      <td>1</td>\n    </tr>\n    <tr>\n      <th>2</th>\n      <td>1-hydroxypyrene</td>\n      <td>HILIC</td>\n      <td>Acetonitrile</td>\n      <td>3.0</td>\n      <td>Formic acid</td>\n      <td>c1cc2ccc3ccc(c4ccc(c1)c2c34)O</td>\n      <td>1.857143</td>\n      <td>14.008885</td>\n      <td>10.537147</td>\n      <td>0</td>\n      <td>...</td>\n      <td>51.083298</td>\n      <td>218.073165</td>\n      <td>8.076784</td>\n      <td>428</td>\n      <td>33</td>\n      <td>100.0</td>\n      <td>125.0</td>\n      <td>4.027778</td>\n      <td>3.583333</td>\n      <td>2</td>\n    </tr>\n    <tr>\n      <th>3</th>\n      <td>1-hydroxypyrene</td>\n      <td>HILIC</td>\n      <td>Acetonitrile</td>\n      <td>5.0</td>\n      <td>Acetic acid</td>\n      <td>c1cc2ccc3ccc(c4ccc(c1)c2c34)O</td>\n      <td>1.850000</td>\n      <td>14.008885</td>\n      <td>10.537147</td>\n      <td>0</td>\n      <td>...</td>\n      <td>51.083298</td>\n      <td>218.073165</td>\n      <td>8.076784</td>\n      <td>428</td>\n      <td>33</td>\n      <td>100.0</td>\n      <td>125.0</td>\n      <td>4.027778</td>\n      <td>3.583333</td>\n      <td>1</td>\n    </tr>\n    <tr>\n      <th>4</th>\n      <td>1-hydroxypyrene</td>\n      <td>HILIC</td>\n      <td>Acetonitrile</td>\n      <td>5.0</td>\n      <td>Formic acid</td>\n      <td>c1cc2ccc3ccc(c4ccc(c1)c2c34)O</td>\n      <td>1.851429</td>\n      <td>14.008885</td>\n      <td>10.537147</td>\n      <td>0</td>\n      <td>...</td>\n      <td>51.083298</td>\n      <td>218.073165</td>\n      <td>8.076784</td>\n      <td>428</td>\n      <td>33</td>\n      <td>100.0</td>\n      <td>125.0</td>\n      <td>4.027778</td>\n      <td>3.583333</td>\n      <td>2</td>\n    </tr>\n    <tr>\n      <th>5</th>\n      <td>1-hydroxypyrene</td>\n      <td>HILIC</td>\n      <td>Acetonitrile</td>\n      <td>6.7</td>\n      <td>Formic acid</td>\n      <td>c1cc2ccc3ccc(c4ccc(c1)c2c34)O</td>\n      <td>1.930000</td>\n      <td>14.008885</td>\n      <td>10.537147</td>\n      <td>0</td>\n      <td>...</td>\n      <td>51.083298</td>\n      <td>218.073165</td>\n      <td>8.076784</td>\n      <td>428</td>\n      <td>33</td>\n      <td>100.0</td>\n      <td>125.0</td>\n      <td>4.027778</td>\n      <td>3.583333</td>\n      <td>1</td>\n    </tr>\n    <tr>\n      <th>...</th>\n      <td>...</td>\n      <td>...</td>\n      <td>...</td>\n      <td>...</td>\n      <td>...</td>\n      <td>...</td>\n      <td>...</td>\n      <td>...</td>\n      <td>...</td>\n      <td>...</td>\n      <td>...</td>\n      <td>...</td>\n      <td>...</td>\n      <td>...</td>\n      <td>...</td>\n      <td>...</td>\n      <td>...</td>\n      <td>...</td>\n      <td>...</td>\n      <td>...</td>\n      <td>...</td>\n    </tr>\n    <tr>\n      <th>831</th>\n      <td>Valsartan</td>\n      <td>HILIC</td>\n      <td>Acetonitrile</td>\n      <td>5.0</td>\n      <td>Formic acid</td>\n      <td>CCCCC(=O)N(Cc1ccc(cc1)c1ccccc1c1n[nH]nn1)[C@@H...</td>\n      <td>3.177143</td>\n      <td>24.305499</td>\n      <td>20.006308</td>\n      <td>3</td>\n      <td>...</td>\n      <td>80.792385</td>\n      <td>435.227040</td>\n      <td>7.134870</td>\n      <td>3122</td>\n      <td>49</td>\n      <td>160.0</td>\n      <td>186.0</td>\n      <td>11.111111</td>\n      <td>7.277778</td>\n      <td>1</td>\n    </tr>\n    <tr>\n      <th>832</th>\n      <td>Valsartan</td>\n      <td>HILIC</td>\n      <td>Methanol</td>\n      <td>2.7</td>\n      <td>Formic acid</td>\n      <td>CCCCC(=O)N(Cc1ccc(cc1)c1ccccc1c1n[nH]nn1)[C@@H...</td>\n      <td>1.808571</td>\n      <td>24.305499</td>\n      <td>20.006308</td>\n      <td>3</td>\n      <td>...</td>\n      <td>80.792385</td>\n      <td>435.227040</td>\n      <td>7.134870</td>\n      <td>3122</td>\n      <td>49</td>\n      <td>160.0</td>\n      <td>186.0</td>\n      <td>11.111111</td>\n      <td>7.277778</td>\n      <td>2</td>\n    </tr>\n    <tr>\n      <th>833</th>\n      <td>Valsartan</td>\n      <td>HILIC</td>\n      <td>Methanol</td>\n      <td>3.0</td>\n      <td>Formic acid</td>\n      <td>CCCCC(=O)N(Cc1ccc(cc1)c1ccccc1c1n[nH]nn1)[C@@H...</td>\n      <td>1.790000</td>\n      <td>24.305499</td>\n      <td>20.006308</td>\n      <td>3</td>\n      <td>...</td>\n      <td>80.792385</td>\n      <td>435.227040</td>\n      <td>7.134870</td>\n      <td>3122</td>\n      <td>49</td>\n      <td>160.0</td>\n      <td>186.0</td>\n      <td>11.111111</td>\n      <td>7.277778</td>\n      <td>1</td>\n    </tr>\n    <tr>\n      <th>834</th>\n      <td>Valsartan</td>\n      <td>HILIC</td>\n      <td>Methanol</td>\n      <td>5.0</td>\n      <td>Acetic acid</td>\n      <td>CCCCC(=O)N(Cc1ccc(cc1)c1ccccc1c1n[nH]nn1)[C@@H...</td>\n      <td>1.433333</td>\n      <td>24.305499</td>\n      <td>20.006308</td>\n      <td>3</td>\n      <td>...</td>\n      <td>80.792385</td>\n      <td>435.227040</td>\n      <td>7.134870</td>\n      <td>3122</td>\n      <td>49</td>\n      <td>160.0</td>\n      <td>186.0</td>\n      <td>11.111111</td>\n      <td>7.277778</td>\n      <td>1</td>\n    </tr>\n    <tr>\n      <th>835</th>\n      <td>Valsartan</td>\n      <td>HILIC</td>\n      <td>Methanol</td>\n      <td>5.0</td>\n      <td>Formic acid</td>\n      <td>CCCCC(=O)N(Cc1ccc(cc1)c1ccccc1c1n[nH]nn1)[C@@H...</td>\n      <td>1.463333</td>\n      <td>24.305499</td>\n      <td>20.006308</td>\n      <td>3</td>\n      <td>...</td>\n      <td>80.792385</td>\n      <td>435.227040</td>\n      <td>7.134870</td>\n      <td>3122</td>\n      <td>49</td>\n      <td>160.0</td>\n      <td>186.0</td>\n      <td>11.111111</td>\n      <td>7.277778</td>\n      <td>2</td>\n    </tr>\n  </tbody>\n</table>\n<p>797 rows × 1334 columns</p>\n</div>"
     },
     "execution_count": 540,
     "metadata": {},
     "output_type": "execute_result"
    }
   ],
   "source": [
    "data_confirmed"
   ],
   "metadata": {
    "collapsed": false,
    "pycharm": {
     "name": "#%%\n"
    }
   }
  },
  {
   "cell_type": "code",
   "execution_count": 532,
   "outputs": [
    {
     "name": "stdout",
     "output_type": "stream",
     "text": [
      "i am updated!\n"
     ]
    }
   ],
   "source": [
    "train, test = data_prep.make_train_test(data_confirmed)"
   ],
   "metadata": {
    "collapsed": false,
    "pycharm": {
     "name": "#%%\n"
    }
   }
  },
  {
   "cell_type": "code",
   "execution_count": 539,
   "outputs": [
    {
     "data": {
      "text/plain": "       Compound_name Column Organic_modifier   pH       Buffer  \\\n0    1-hydroxypyrene  HILIC     Acetonitrile  2.7  Formic acid   \n3    1-hydroxypyrene  HILIC     Acetonitrile  5.0  Acetic acid   \n5    1-hydroxypyrene  HILIC     Acetonitrile  6.7  Formic acid   \n6    1-hydroxypyrene  HILIC         Methanol  2.7  Formic acid   \n7    1-hydroxypyrene  HILIC         Methanol  3.0  Acetic acid   \n..               ...    ...              ...  ...          ...   \n828        Valsartan  HILIC     Acetonitrile  2.7  Formic acid   \n830        Valsartan  HILIC     Acetonitrile  5.0  Acetic acid   \n831        Valsartan  HILIC     Acetonitrile  5.0  Formic acid   \n833        Valsartan  HILIC         Methanol  3.0  Formic acid   \n834        Valsartan  HILIC         Methanol  5.0  Acetic acid   \n\n     retention_time        ABC      ABCGG  nAcid  nBase  ...      SRW10  \\\n0          1.822857  14.008885  10.537147      0      0  ...  10.190582   \n3          1.850000  14.008885  10.537147      0      0  ...  10.190582   \n5          1.930000  14.008885  10.537147      0      0  ...  10.190582   \n6          1.794286  14.008885  10.537147      0      0  ...  10.190582   \n7          1.545714  14.008885  10.537147      0      0  ...  10.190582   \n..              ...        ...        ...    ...    ...  ...        ...   \n828        1.898571  24.305499  20.006308      3      0  ...  10.252700   \n830        2.718333  24.305499  20.006308      3      0  ...  10.252700   \n831        3.177143  24.305499  20.006308      3      0  ...  10.252700   \n833        1.790000  24.305499  20.006308      3      0  ...  10.252700   \n834        1.433333  24.305499  20.006308      3      0  ...  10.252700   \n\n        TSRW10          MW       AMW  WPath  WPol  Zagreb1  Zagreb2  \\\n0    51.083298  218.073165  8.076784    428    33    100.0    125.0   \n3    51.083298  218.073165  8.076784    428    33    100.0    125.0   \n5    51.083298  218.073165  8.076784    428    33    100.0    125.0   \n6    51.083298  218.073165  8.076784    428    33    100.0    125.0   \n7    51.083298  218.073165  8.076784    428    33    100.0    125.0   \n..         ...         ...       ...    ...   ...      ...      ...   \n828  80.792385  435.227040  7.134870   3122    49    160.0    186.0   \n830  80.792385  435.227040  7.134870   3122    49    160.0    186.0   \n831  80.792385  435.227040  7.134870   3122    49    160.0    186.0   \n833  80.792385  435.227040  7.134870   3122    49    160.0    186.0   \n834  80.792385  435.227040  7.134870   3122    49    160.0    186.0   \n\n      mZagreb1  mZagreb2  \n0     4.027778  3.583333  \n3     4.027778  3.583333  \n5     4.027778  3.583333  \n6     4.027778  3.583333  \n7     4.027778  3.583333  \n..         ...       ...  \n828  11.111111  7.277778  \n830  11.111111  7.277778  \n831  11.111111  7.277778  \n833  11.111111  7.277778  \n834  11.111111  7.277778  \n\n[638 rows x 1332 columns]",
      "text/html": "<div>\n<style scoped>\n    .dataframe tbody tr th:only-of-type {\n        vertical-align: middle;\n    }\n\n    .dataframe tbody tr th {\n        vertical-align: top;\n    }\n\n    .dataframe thead th {\n        text-align: right;\n    }\n</style>\n<table border=\"1\" class=\"dataframe\">\n  <thead>\n    <tr style=\"text-align: right;\">\n      <th></th>\n      <th>Compound_name</th>\n      <th>Column</th>\n      <th>Organic_modifier</th>\n      <th>pH</th>\n      <th>Buffer</th>\n      <th>retention_time</th>\n      <th>ABC</th>\n      <th>ABCGG</th>\n      <th>nAcid</th>\n      <th>nBase</th>\n      <th>...</th>\n      <th>SRW10</th>\n      <th>TSRW10</th>\n      <th>MW</th>\n      <th>AMW</th>\n      <th>WPath</th>\n      <th>WPol</th>\n      <th>Zagreb1</th>\n      <th>Zagreb2</th>\n      <th>mZagreb1</th>\n      <th>mZagreb2</th>\n    </tr>\n  </thead>\n  <tbody>\n    <tr>\n      <th>0</th>\n      <td>1-hydroxypyrene</td>\n      <td>HILIC</td>\n      <td>Acetonitrile</td>\n      <td>2.7</td>\n      <td>Formic acid</td>\n      <td>1.822857</td>\n      <td>14.008885</td>\n      <td>10.537147</td>\n      <td>0</td>\n      <td>0</td>\n      <td>...</td>\n      <td>10.190582</td>\n      <td>51.083298</td>\n      <td>218.073165</td>\n      <td>8.076784</td>\n      <td>428</td>\n      <td>33</td>\n      <td>100.0</td>\n      <td>125.0</td>\n      <td>4.027778</td>\n      <td>3.583333</td>\n    </tr>\n    <tr>\n      <th>3</th>\n      <td>1-hydroxypyrene</td>\n      <td>HILIC</td>\n      <td>Acetonitrile</td>\n      <td>5.0</td>\n      <td>Acetic acid</td>\n      <td>1.850000</td>\n      <td>14.008885</td>\n      <td>10.537147</td>\n      <td>0</td>\n      <td>0</td>\n      <td>...</td>\n      <td>10.190582</td>\n      <td>51.083298</td>\n      <td>218.073165</td>\n      <td>8.076784</td>\n      <td>428</td>\n      <td>33</td>\n      <td>100.0</td>\n      <td>125.0</td>\n      <td>4.027778</td>\n      <td>3.583333</td>\n    </tr>\n    <tr>\n      <th>5</th>\n      <td>1-hydroxypyrene</td>\n      <td>HILIC</td>\n      <td>Acetonitrile</td>\n      <td>6.7</td>\n      <td>Formic acid</td>\n      <td>1.930000</td>\n      <td>14.008885</td>\n      <td>10.537147</td>\n      <td>0</td>\n      <td>0</td>\n      <td>...</td>\n      <td>10.190582</td>\n      <td>51.083298</td>\n      <td>218.073165</td>\n      <td>8.076784</td>\n      <td>428</td>\n      <td>33</td>\n      <td>100.0</td>\n      <td>125.0</td>\n      <td>4.027778</td>\n      <td>3.583333</td>\n    </tr>\n    <tr>\n      <th>6</th>\n      <td>1-hydroxypyrene</td>\n      <td>HILIC</td>\n      <td>Methanol</td>\n      <td>2.7</td>\n      <td>Formic acid</td>\n      <td>1.794286</td>\n      <td>14.008885</td>\n      <td>10.537147</td>\n      <td>0</td>\n      <td>0</td>\n      <td>...</td>\n      <td>10.190582</td>\n      <td>51.083298</td>\n      <td>218.073165</td>\n      <td>8.076784</td>\n      <td>428</td>\n      <td>33</td>\n      <td>100.0</td>\n      <td>125.0</td>\n      <td>4.027778</td>\n      <td>3.583333</td>\n    </tr>\n    <tr>\n      <th>7</th>\n      <td>1-hydroxypyrene</td>\n      <td>HILIC</td>\n      <td>Methanol</td>\n      <td>3.0</td>\n      <td>Acetic acid</td>\n      <td>1.545714</td>\n      <td>14.008885</td>\n      <td>10.537147</td>\n      <td>0</td>\n      <td>0</td>\n      <td>...</td>\n      <td>10.190582</td>\n      <td>51.083298</td>\n      <td>218.073165</td>\n      <td>8.076784</td>\n      <td>428</td>\n      <td>33</td>\n      <td>100.0</td>\n      <td>125.0</td>\n      <td>4.027778</td>\n      <td>3.583333</td>\n    </tr>\n    <tr>\n      <th>...</th>\n      <td>...</td>\n      <td>...</td>\n      <td>...</td>\n      <td>...</td>\n      <td>...</td>\n      <td>...</td>\n      <td>...</td>\n      <td>...</td>\n      <td>...</td>\n      <td>...</td>\n      <td>...</td>\n      <td>...</td>\n      <td>...</td>\n      <td>...</td>\n      <td>...</td>\n      <td>...</td>\n      <td>...</td>\n      <td>...</td>\n      <td>...</td>\n      <td>...</td>\n      <td>...</td>\n    </tr>\n    <tr>\n      <th>828</th>\n      <td>Valsartan</td>\n      <td>HILIC</td>\n      <td>Acetonitrile</td>\n      <td>2.7</td>\n      <td>Formic acid</td>\n      <td>1.898571</td>\n      <td>24.305499</td>\n      <td>20.006308</td>\n      <td>3</td>\n      <td>0</td>\n      <td>...</td>\n      <td>10.252700</td>\n      <td>80.792385</td>\n      <td>435.227040</td>\n      <td>7.134870</td>\n      <td>3122</td>\n      <td>49</td>\n      <td>160.0</td>\n      <td>186.0</td>\n      <td>11.111111</td>\n      <td>7.277778</td>\n    </tr>\n    <tr>\n      <th>830</th>\n      <td>Valsartan</td>\n      <td>HILIC</td>\n      <td>Acetonitrile</td>\n      <td>5.0</td>\n      <td>Acetic acid</td>\n      <td>2.718333</td>\n      <td>24.305499</td>\n      <td>20.006308</td>\n      <td>3</td>\n      <td>0</td>\n      <td>...</td>\n      <td>10.252700</td>\n      <td>80.792385</td>\n      <td>435.227040</td>\n      <td>7.134870</td>\n      <td>3122</td>\n      <td>49</td>\n      <td>160.0</td>\n      <td>186.0</td>\n      <td>11.111111</td>\n      <td>7.277778</td>\n    </tr>\n    <tr>\n      <th>831</th>\n      <td>Valsartan</td>\n      <td>HILIC</td>\n      <td>Acetonitrile</td>\n      <td>5.0</td>\n      <td>Formic acid</td>\n      <td>3.177143</td>\n      <td>24.305499</td>\n      <td>20.006308</td>\n      <td>3</td>\n      <td>0</td>\n      <td>...</td>\n      <td>10.252700</td>\n      <td>80.792385</td>\n      <td>435.227040</td>\n      <td>7.134870</td>\n      <td>3122</td>\n      <td>49</td>\n      <td>160.0</td>\n      <td>186.0</td>\n      <td>11.111111</td>\n      <td>7.277778</td>\n    </tr>\n    <tr>\n      <th>833</th>\n      <td>Valsartan</td>\n      <td>HILIC</td>\n      <td>Methanol</td>\n      <td>3.0</td>\n      <td>Formic acid</td>\n      <td>1.790000</td>\n      <td>24.305499</td>\n      <td>20.006308</td>\n      <td>3</td>\n      <td>0</td>\n      <td>...</td>\n      <td>10.252700</td>\n      <td>80.792385</td>\n      <td>435.227040</td>\n      <td>7.134870</td>\n      <td>3122</td>\n      <td>49</td>\n      <td>160.0</td>\n      <td>186.0</td>\n      <td>11.111111</td>\n      <td>7.277778</td>\n    </tr>\n    <tr>\n      <th>834</th>\n      <td>Valsartan</td>\n      <td>HILIC</td>\n      <td>Methanol</td>\n      <td>5.0</td>\n      <td>Acetic acid</td>\n      <td>1.433333</td>\n      <td>24.305499</td>\n      <td>20.006308</td>\n      <td>3</td>\n      <td>0</td>\n      <td>...</td>\n      <td>10.252700</td>\n      <td>80.792385</td>\n      <td>435.227040</td>\n      <td>7.134870</td>\n      <td>3122</td>\n      <td>49</td>\n      <td>160.0</td>\n      <td>186.0</td>\n      <td>11.111111</td>\n      <td>7.277778</td>\n    </tr>\n  </tbody>\n</table>\n<p>638 rows × 1332 columns</p>\n</div>"
     },
     "execution_count": 539,
     "metadata": {},
     "output_type": "execute_result"
    }
   ],
   "source": [
    "train"
   ],
   "metadata": {
    "collapsed": false,
    "pycharm": {
     "name": "#%%\n"
    }
   }
  },
  {
   "cell_type": "code",
   "execution_count": 544,
   "outputs": [],
   "source": [
    "x_train, y_train = data_prep.make_x_y(train)"
   ],
   "metadata": {
    "collapsed": false,
    "pycharm": {
     "name": "#%%\n"
    }
   }
  },
  {
   "cell_type": "code",
   "execution_count": 545,
   "outputs": [
    {
     "data": {
      "text/plain": "638"
     },
     "execution_count": 545,
     "metadata": {},
     "output_type": "execute_result"
    }
   ],
   "source": [
    "len(train)"
   ],
   "metadata": {
    "collapsed": false,
    "pycharm": {
     "name": "#%%\n"
    }
   }
  },
  {
   "cell_type": "code",
   "execution_count": 546,
   "outputs": [
    {
     "data": {
      "text/plain": "638"
     },
     "execution_count": 546,
     "metadata": {},
     "output_type": "execute_result"
    }
   ],
   "source": [
    "len(y_train)"
   ],
   "metadata": {
    "collapsed": false,
    "pycharm": {
     "name": "#%%\n"
    }
   }
  },
  {
   "cell_type": "code",
   "execution_count": 547,
   "outputs": [
    {
     "data": {
      "text/plain": "0      1.822857\n3      1.850000\n5      1.930000\n6      1.794286\n7      1.545714\n         ...   \n828    1.898571\n830    2.718333\n831    3.177143\n833    1.790000\n834    1.433333\nName: retention_time, Length: 638, dtype: float64"
     },
     "execution_count": 547,
     "metadata": {},
     "output_type": "execute_result"
    }
   ],
   "source": [
    "y_train"
   ],
   "metadata": {
    "collapsed": false,
    "pycharm": {
     "name": "#%%\n"
    }
   }
  },
  {
   "cell_type": "markdown",
   "source": [
    "# reproduce results from cleanlab website, now deprecated, only for debug usage"
   ],
   "metadata": {
    "collapsed": false,
    "pycharm": {
     "name": "#%% md\n"
    }
   }
  },
  {
   "cell_type": "code",
   "execution_count": 113,
   "outputs": [],
   "source": [
    "# from sklearn.datasets import fetch_openml\n",
    "#\n",
    "# data = fetch_openml(\"credit-g\")  # get the credit data from OpenML\n",
    "# X_raw = data.data  # features (pandas DataFrame)\n",
    "# y_raw = data.target  # labels (pandas Series)\n",
    "# import pandas as pd\n",
    "# from sklearn.preprocessing import StandardScaler\n",
    "#\n",
    "# cat_features = X_raw.select_dtypes(\"category\").columns\n",
    "# X_encoded = pd.get_dummies(X_raw, columns=cat_features, drop_first=True)\n",
    "#\n",
    "# num_features = X_raw.select_dtypes(\"float64\").columns\n",
    "# scaler = StandardScaler()\n",
    "# X_scaled = X_encoded.copy()\n",
    "# X_scaled[num_features] = scaler.fit_transform(X_encoded[num_features])\n",
    "#\n",
    "# y_encode = y_raw.map({\"bad\": 0, \"good\": 1})  # encode labels as integers\n",
    "#\n",
    "# clf = RandomForestClassifier()\n",
    "# num_crossval_folds = 3  # for efficiency; values like 5 or 10 will generally work better\n",
    "# pred_probs = cross_val_predict(\n",
    "#     clf,\n",
    "#     X_scaled,\n",
    "#     y,\n",
    "#     cv=num_crossval_folds,\n",
    "#     method=\"predict_proba\",\n",
    "# )\n",
    "# ranked_label_issues = find_label_issues(\n",
    "#     labels=y, pred_probs=pred_probs, return_indices_ranked_by=\"self_confidence\"\n",
    "# )\n",
    "# ranked_label_issues\n",
    "#\n",
    "# print(f\"Cleanlab found {len(ranked_label_issues)} potential label errors.\")"
   ],
   "metadata": {
    "collapsed": false,
    "pycharm": {
     "name": "#%%\n"
    }
   }
  }
 ],
 "metadata": {
  "kernelspec": {
   "name": "tensorflow",
   "language": "python",
   "display_name": "Python 3.9 (tensorflow)"
  },
  "language_info": {
   "codemirror_mode": {
    "name": "ipython",
    "version": 3
   },
   "file_extension": ".py",
   "mimetype": "text/x-python",
   "name": "python",
   "nbconvert_exporter": "python",
   "pygments_lexer": "ipython3",
   "version": "3.9.12"
  }
 },
 "nbformat": 4,
 "nbformat_minor": 5
}