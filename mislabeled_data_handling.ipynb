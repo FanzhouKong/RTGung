{
 "cells": [
  {
   "cell_type": "code",
   "execution_count": 1,
   "id": "b0d83617",
   "metadata": {},
   "outputs": [
    {
     "name": "stderr",
     "output_type": "stream",
     "text": [
      "<frozen importlib._bootstrap>:228: RuntimeWarning: scipy._lib.messagestream.MessageStream size changed, may indicate binary incompatibility. Expected 56 from C header, got 64 from PyObject\n"
     ]
    },
    {
     "name": "stdout",
     "output_type": "stream",
     "text": [
      "i am updated!\n"
     ]
    }
   ],
   "source": [
    "import numpy as np\n",
    "import pandas as pd\n",
    "import sklearn.ensemble\n",
    "\n",
    "import toolsets.data_prep as data_prep\n",
    "from sklearn.ensemble import RandomForestClassifier\n",
    "import cleanlab\n",
    "from sklearn.preprocessing import StandardScaler\n",
    "import random\n",
    "import seaborn as sns\n",
    "from sklearn.linear_model import LogisticRegression\n",
    "from sklearn.model_selection import cross_val_predict, cross_validate\n",
    "from cleanlab.filter import find_label_issues\n",
    "%load_ext autoreload\n",
    "%autoreload 2"
   ]
  },
  {
   "cell_type": "markdown",
   "source": [
    "# initialize the dataset"
   ],
   "metadata": {
    "collapsed": false
   }
  },
  {
   "cell_type": "code",
   "execution_count": 2,
   "id": "aa919a26",
   "metadata": {},
   "outputs": [],
   "source": [
    "descriptors = pd.read_csv(\"data/multiRT/MultiRT_hilic_descriptors.csv\", low_memory=False)\n",
    "# descriptors_objects = descriptors.select_dtypes(include=['object'])\n"
   ]
  },
  {
   "cell_type": "code",
   "execution_count": 36,
   "outputs": [
    {
     "name": "stdout",
     "output_type": "stream",
     "text": [
      "AATS7dv\n",
      "AATS8dv\n",
      "AATS7d\n",
      "AATS8d\n",
      "AATS7s\n",
      "AATS8s\n",
      "AATS7Z\n",
      "AATS8Z\n",
      "AATS7m\n",
      "AATS8m\n",
      "AATS7v\n",
      "AATS8v\n",
      "AATS7se\n",
      "AATS8se\n",
      "AATS7pe\n",
      "AATS8pe\n",
      "AATS7are\n",
      "AATS8are\n",
      "AATS7p\n",
      "AATS8p\n",
      "AATS7i\n",
      "AATS8i\n",
      "AATSC7c\n",
      "AATSC8c\n",
      "AATSC7dv\n",
      "AATSC8dv\n",
      "AATSC7d\n",
      "AATSC8d\n",
      "AATSC7s\n",
      "AATSC8s\n",
      "AATSC7Z\n",
      "AATSC8Z\n",
      "AATSC7m\n",
      "AATSC8m\n",
      "AATSC7v\n",
      "AATSC8v\n",
      "AATSC7se\n",
      "AATSC8se\n",
      "AATSC7pe\n",
      "AATSC8pe\n",
      "AATSC7are\n",
      "AATSC8are\n",
      "AATSC7p\n",
      "AATSC8p\n",
      "AATSC7i\n",
      "AATSC8i\n",
      "MATS7c\n",
      "MATS8c\n",
      "MATS7dv\n",
      "MATS8dv\n",
      "MATS7d\n",
      "MATS8d\n",
      "MATS7s\n",
      "MATS8s\n",
      "MATS7Z\n",
      "MATS8Z\n",
      "MATS7m\n",
      "MATS8m\n",
      "MATS7v\n",
      "MATS8v\n",
      "MATS7se\n",
      "MATS8se\n",
      "MATS7pe\n",
      "MATS8pe\n",
      "MATS7are\n",
      "MATS8are\n",
      "MATS7p\n",
      "MATS8p\n",
      "MATS7i\n",
      "MATS8i\n",
      "GATS7c\n",
      "GATS8c\n",
      "GATS7dv\n",
      "GATS8dv\n",
      "GATS7d\n",
      "GATS8d\n",
      "GATS7s\n",
      "GATS8s\n",
      "GATS7Z\n",
      "GATS8Z\n",
      "GATS7m\n",
      "GATS8m\n",
      "GATS7v\n",
      "GATS8v\n",
      "GATS7se\n",
      "GATS8se\n",
      "GATS7pe\n",
      "GATS8pe\n",
      "GATS7are\n",
      "GATS8are\n",
      "GATS7p\n",
      "GATS8p\n",
      "GATS7i\n",
      "GATS8i\n",
      "AXp-7d\n",
      "AXp-7dv\n",
      "SpAbs_Dt\n",
      "SpMax_Dt\n",
      "SpDiam_Dt\n",
      "SpAD_Dt\n",
      "SpMAD_Dt\n",
      "LogEE_Dt\n",
      "SM1_Dt\n",
      "VE1_Dt\n",
      "VE2_Dt\n",
      "VE3_Dt\n",
      "VR1_Dt\n",
      "VR2_Dt\n",
      "VR3_Dt\n",
      "DetourIndex\n",
      "MAXsLi\n",
      "MAXssBe\n",
      "MAXssssBe\n",
      "MAXssBH\n",
      "MAXsssB\n",
      "MAXssssB\n",
      "MAXsCH3\n",
      "MAXdCH2\n",
      "MAXssCH2\n",
      "MAXtCH\n",
      "MAXdsCH\n",
      "MAXaaCH\n",
      "MAXsssCH\n",
      "MAXddC\n",
      "MAXtsC\n",
      "MAXdssC\n",
      "MAXaasC\n",
      "MAXaaaC\n",
      "MAXssssC\n",
      "MAXsNH3\n",
      "MAXsNH2\n",
      "MAXssNH2\n",
      "MAXdNH\n",
      "MAXssNH\n",
      "MAXaaNH\n",
      "MAXtN\n",
      "MAXsssNH\n",
      "MAXdsN\n",
      "MAXaaN\n",
      "MAXsssN\n",
      "MAXddsN\n",
      "MAXaasN\n",
      "MAXssssN\n",
      "MAXsOH\n",
      "MAXdO\n",
      "MAXssO\n",
      "MAXaaO\n",
      "MAXsF\n",
      "MAXsSiH3\n",
      "MAXssSiH2\n",
      "MAXsssSiH\n",
      "MAXssssSi\n",
      "MAXsPH2\n",
      "MAXssPH\n",
      "MAXsssP\n",
      "MAXdsssP\n",
      "MAXsssssP\n",
      "MAXsSH\n",
      "MAXdS\n",
      "MAXssS\n",
      "MAXaaS\n",
      "MAXdssS\n",
      "MAXddssS\n",
      "MAXsCl\n",
      "MAXsGeH3\n",
      "MAXssGeH2\n",
      "MAXsssGeH\n",
      "MAXssssGe\n",
      "MAXsAsH2\n",
      "MAXssAsH\n",
      "MAXsssAs\n",
      "MAXsssdAs\n",
      "MAXsssssAs\n",
      "MAXsSeH\n",
      "MAXdSe\n",
      "MAXssSe\n",
      "MAXaaSe\n",
      "MAXdssSe\n",
      "MAXddssSe\n",
      "MAXsBr\n",
      "MAXsSnH3\n",
      "MAXssSnH2\n",
      "MAXsssSnH\n",
      "MAXssssSn\n",
      "MAXsI\n",
      "MAXsPbH3\n",
      "MAXssPbH2\n",
      "MAXsssPbH\n",
      "MAXssssPb\n",
      "MINsLi\n",
      "MINssBe\n",
      "MINssssBe\n",
      "MINssBH\n",
      "MINsssB\n",
      "MINssssB\n",
      "MINsCH3\n",
      "MINdCH2\n",
      "MINssCH2\n",
      "MINtCH\n",
      "MINdsCH\n",
      "MINaaCH\n",
      "MINsssCH\n",
      "MINddC\n",
      "MINtsC\n",
      "MINdssC\n",
      "MINaasC\n",
      "MINaaaC\n",
      "MINssssC\n",
      "MINsNH3\n",
      "MINsNH2\n",
      "MINssNH2\n",
      "MINdNH\n",
      "MINssNH\n",
      "MINaaNH\n",
      "MINtN\n",
      "MINsssNH\n",
      "MINdsN\n",
      "MINaaN\n",
      "MINsssN\n",
      "MINddsN\n",
      "MINaasN\n",
      "MINssssN\n",
      "MINsOH\n",
      "MINdO\n",
      "MINssO\n",
      "MINaaO\n",
      "MINsF\n",
      "MINsSiH3\n",
      "MINssSiH2\n",
      "MINsssSiH\n",
      "MINssssSi\n",
      "MINsPH2\n",
      "MINssPH\n",
      "MINsssP\n",
      "MINdsssP\n",
      "MINsssssP\n",
      "MINsSH\n",
      "MINdS\n",
      "MINssS\n",
      "MINaaS\n",
      "MINdssS\n",
      "MINddssS\n",
      "MINsCl\n",
      "MINsGeH3\n",
      "MINssGeH2\n",
      "MINsssGeH\n",
      "MINssssGe\n",
      "MINsAsH2\n",
      "MINssAsH\n",
      "MINsssAs\n",
      "MINsssdAs\n",
      "MINsssssAs\n",
      "MINsSeH\n",
      "MINdSe\n",
      "MINssSe\n",
      "MINaaSe\n",
      "MINdssSe\n",
      "MINddssSe\n",
      "MINsBr\n",
      "MINsSnH3\n",
      "MINssSnH2\n",
      "MINsssSnH\n",
      "MINssssSn\n",
      "MINsI\n",
      "MINsPbH3\n",
      "MINssPbH2\n",
      "MINsssPbH\n",
      "MINssssPb\n",
      "MDEC-11\n",
      "MDEC-12\n",
      "MDEC-13\n",
      "MDEC-14\n",
      "MDEC-22\n",
      "MDEC-23\n",
      "MDEC-24\n",
      "MDEC-33\n",
      "MDEC-34\n",
      "MDEC-44\n",
      "MDEO-11\n",
      "MDEO-12\n",
      "MDEO-22\n",
      "MDEN-11\n",
      "MDEN-12\n",
      "MDEN-13\n",
      "MDEN-22\n",
      "MDEN-23\n",
      "MDEN-33\n"
     ]
    }
   ],
   "source": [
    "# for i in descriptors_objects.columns:\n",
    "#     print(i)"
   ],
   "metadata": {
    "collapsed": false,
    "pycharm": {
     "name": "#%%\n"
    }
   }
  },
  {
   "cell_type": "code",
   "execution_count": 3,
   "outputs": [],
   "source": [
    "combined_data = pd.read_csv(\"data/multiRT/Combined dataset.csv\")\n",
    "hilic = combined_data.loc[combined_data['Column']=='HILIC']\n",
    "hilic.reset_index(inplace=True, drop=True)\n",
    "data = pd.concat([hilic, descriptors],axis =1)\n",
    "data = data_prep.dataset_prep(data)"
   ],
   "metadata": {
    "collapsed": false,
    "pycharm": {
     "name": "#%%\n"
    }
   }
  },
  {
   "cell_type": "code",
   "execution_count": 4,
   "outputs": [],
   "source": [
    "train, test = data_prep.make_train_test(data)"
   ],
   "metadata": {
    "collapsed": false,
    "pycharm": {
     "name": "#%%\n"
    }
   }
  },
  {
   "cell_type": "code",
   "execution_count": 71,
   "outputs": [
    {
     "data": {
      "text/plain": "  Organic_modifier   pH       Buffer  retention_time        ABC      ABCGG  \\\n1     Acetonitrile  3.0  Acetic acid       12.321429  14.008885  10.537147   \n2     Acetonitrile  3.0  Formic acid        1.857143  14.008885  10.537147   \n3     Acetonitrile  5.0  Acetic acid        1.850000  14.008885  10.537147   \n4     Acetonitrile  5.0  Formic acid        1.851429  14.008885  10.537147   \n5     Acetonitrile  6.7  Formic acid        1.930000  14.008885  10.537147   \n\n   nAcid  nBase    SpAbs_A  SpMax_A  ...      SRW10     TSRW10          MW  \\\n1      0      0  23.372976  2.54742  ...  10.190582  51.083298  218.073165   \n2      0      0  23.372976  2.54742  ...  10.190582  51.083298  218.073165   \n3      0      0  23.372976  2.54742  ...  10.190582  51.083298  218.073165   \n4      0      0  23.372976  2.54742  ...  10.190582  51.083298  218.073165   \n5      0      0  23.372976  2.54742  ...  10.190582  51.083298  218.073165   \n\n        AMW  WPath  WPol  Zagreb1  Zagreb2  mZagreb1  mZagreb2  \n1  8.076784    428    33    100.0    125.0  4.027778  3.583333  \n2  8.076784    428    33    100.0    125.0  4.027778  3.583333  \n3  8.076784    428    33    100.0    125.0  4.027778  3.583333  \n4  8.076784    428    33    100.0    125.0  4.027778  3.583333  \n5  8.076784    428    33    100.0    125.0  4.027778  3.583333  \n\n[5 rows x 1617 columns]",
      "text/html": "<div>\n<style scoped>\n    .dataframe tbody tr th:only-of-type {\n        vertical-align: middle;\n    }\n\n    .dataframe tbody tr th {\n        vertical-align: top;\n    }\n\n    .dataframe thead th {\n        text-align: right;\n    }\n</style>\n<table border=\"1\" class=\"dataframe\">\n  <thead>\n    <tr style=\"text-align: right;\">\n      <th></th>\n      <th>Organic_modifier</th>\n      <th>pH</th>\n      <th>Buffer</th>\n      <th>retention_time</th>\n      <th>ABC</th>\n      <th>ABCGG</th>\n      <th>nAcid</th>\n      <th>nBase</th>\n      <th>SpAbs_A</th>\n      <th>SpMax_A</th>\n      <th>...</th>\n      <th>SRW10</th>\n      <th>TSRW10</th>\n      <th>MW</th>\n      <th>AMW</th>\n      <th>WPath</th>\n      <th>WPol</th>\n      <th>Zagreb1</th>\n      <th>Zagreb2</th>\n      <th>mZagreb1</th>\n      <th>mZagreb2</th>\n    </tr>\n  </thead>\n  <tbody>\n    <tr>\n      <th>1</th>\n      <td>Acetonitrile</td>\n      <td>3.0</td>\n      <td>Acetic acid</td>\n      <td>12.321429</td>\n      <td>14.008885</td>\n      <td>10.537147</td>\n      <td>0</td>\n      <td>0</td>\n      <td>23.372976</td>\n      <td>2.54742</td>\n      <td>...</td>\n      <td>10.190582</td>\n      <td>51.083298</td>\n      <td>218.073165</td>\n      <td>8.076784</td>\n      <td>428</td>\n      <td>33</td>\n      <td>100.0</td>\n      <td>125.0</td>\n      <td>4.027778</td>\n      <td>3.583333</td>\n    </tr>\n    <tr>\n      <th>2</th>\n      <td>Acetonitrile</td>\n      <td>3.0</td>\n      <td>Formic acid</td>\n      <td>1.857143</td>\n      <td>14.008885</td>\n      <td>10.537147</td>\n      <td>0</td>\n      <td>0</td>\n      <td>23.372976</td>\n      <td>2.54742</td>\n      <td>...</td>\n      <td>10.190582</td>\n      <td>51.083298</td>\n      <td>218.073165</td>\n      <td>8.076784</td>\n      <td>428</td>\n      <td>33</td>\n      <td>100.0</td>\n      <td>125.0</td>\n      <td>4.027778</td>\n      <td>3.583333</td>\n    </tr>\n    <tr>\n      <th>3</th>\n      <td>Acetonitrile</td>\n      <td>5.0</td>\n      <td>Acetic acid</td>\n      <td>1.850000</td>\n      <td>14.008885</td>\n      <td>10.537147</td>\n      <td>0</td>\n      <td>0</td>\n      <td>23.372976</td>\n      <td>2.54742</td>\n      <td>...</td>\n      <td>10.190582</td>\n      <td>51.083298</td>\n      <td>218.073165</td>\n      <td>8.076784</td>\n      <td>428</td>\n      <td>33</td>\n      <td>100.0</td>\n      <td>125.0</td>\n      <td>4.027778</td>\n      <td>3.583333</td>\n    </tr>\n    <tr>\n      <th>4</th>\n      <td>Acetonitrile</td>\n      <td>5.0</td>\n      <td>Formic acid</td>\n      <td>1.851429</td>\n      <td>14.008885</td>\n      <td>10.537147</td>\n      <td>0</td>\n      <td>0</td>\n      <td>23.372976</td>\n      <td>2.54742</td>\n      <td>...</td>\n      <td>10.190582</td>\n      <td>51.083298</td>\n      <td>218.073165</td>\n      <td>8.076784</td>\n      <td>428</td>\n      <td>33</td>\n      <td>100.0</td>\n      <td>125.0</td>\n      <td>4.027778</td>\n      <td>3.583333</td>\n    </tr>\n    <tr>\n      <th>5</th>\n      <td>Acetonitrile</td>\n      <td>6.7</td>\n      <td>Formic acid</td>\n      <td>1.930000</td>\n      <td>14.008885</td>\n      <td>10.537147</td>\n      <td>0</td>\n      <td>0</td>\n      <td>23.372976</td>\n      <td>2.54742</td>\n      <td>...</td>\n      <td>10.190582</td>\n      <td>51.083298</td>\n      <td>218.073165</td>\n      <td>8.076784</td>\n      <td>428</td>\n      <td>33</td>\n      <td>100.0</td>\n      <td>125.0</td>\n      <td>4.027778</td>\n      <td>3.583333</td>\n    </tr>\n  </tbody>\n</table>\n<p>5 rows × 1617 columns</p>\n</div>"
     },
     "execution_count": 71,
     "metadata": {},
     "output_type": "execute_result"
    }
   ],
   "source": [
    "train.head()"
   ],
   "metadata": {
    "collapsed": false,
    "pycharm": {
     "name": "#%%\n"
    }
   }
  },
  {
   "cell_type": "markdown",
   "source": [],
   "metadata": {
    "collapsed": false
   }
  },
  {
   "cell_type": "markdown",
   "source": [
    "# binning the retention time"
   ],
   "metadata": {
    "collapsed": false
   }
  },
  {
   "cell_type": "code",
   "execution_count": null,
   "outputs": [],
   "source": [
    "# feel free to change the parameter min_diff, as it indicate the minimum difference between each bins"
   ],
   "metadata": {
    "collapsed": false,
    "pycharm": {
     "name": "#%%\n"
    }
   }
  },
  {
   "cell_type": "code",
   "execution_count": 5,
   "outputs": [
    {
     "ename": "NameError",
     "evalue": "name 'ContinuousOptimalBinning' is not defined",
     "output_type": "error",
     "traceback": [
      "\u001B[0;31m---------------------------------------------------------------------------\u001B[0m",
      "\u001B[0;31mNameError\u001B[0m                                 Traceback (most recent call last)",
      "Input \u001B[0;32mIn [5]\u001B[0m, in \u001B[0;36m<module>\u001B[0;34m\u001B[0m\n\u001B[0;32m----> 1\u001B[0m train_bin \u001B[38;5;241m=\u001B[39m \u001B[43mdata_prep\u001B[49m\u001B[38;5;241;43m.\u001B[39;49m\u001B[43mbin_retention_time\u001B[49m\u001B[43m(\u001B[49m\u001B[43mtrain\u001B[49m\u001B[43m,\u001B[49m\u001B[38;5;124;43m'\u001B[39;49m\u001B[38;5;124;43mretention_time\u001B[39;49m\u001B[38;5;124;43m'\u001B[39;49m\u001B[43m,\u001B[49m\u001B[43mvariable\u001B[49m\u001B[43m \u001B[49m\u001B[38;5;241;43m=\u001B[39;49m\u001B[43m \u001B[49m\u001B[38;5;124;43m'\u001B[39;49m\u001B[38;5;124;43mretention_time\u001B[39;49m\u001B[38;5;124;43m'\u001B[39;49m\u001B[43m,\u001B[49m\u001B[43m \u001B[49m\u001B[43mbin_method\u001B[49m\u001B[43m \u001B[49m\u001B[38;5;241;43m=\u001B[39;49m\u001B[43m \u001B[49m\u001B[38;5;124;43m\"\u001B[39;49m\u001B[38;5;124;43mcart\u001B[39;49m\u001B[38;5;124;43m\"\u001B[39;49m\u001B[43m,\u001B[49m\u001B[43m \u001B[49m\u001B[43mmin_diff\u001B[49m\u001B[38;5;241;43m=\u001B[39;49m\u001B[38;5;241;43m0.5\u001B[39;49m\u001B[43m)\u001B[49m\n",
      "File \u001B[0;32m~/Documents/GitHub/RT_analysis/toolsets/data_prep.py:60\u001B[0m, in \u001B[0;36mbin_retention_time\u001B[0;34m(data_raw, basis, variable, bin_method, min_diff)\u001B[0m\n\u001B[1;32m     58\u001B[0m y \u001B[38;5;241m=\u001B[39m data[basis]\u001B[38;5;241m.\u001B[39mvalues\n\u001B[1;32m     59\u001B[0m \u001B[38;5;66;03m# print(min_diff)\u001B[39;00m\n\u001B[0;32m---> 60\u001B[0m optb \u001B[38;5;241m=\u001B[39m \u001B[43mContinuousOptimalBinning\u001B[49m(name\u001B[38;5;241m=\u001B[39mvariable, dtype\u001B[38;5;241m=\u001B[39m\u001B[38;5;124m\"\u001B[39m\u001B[38;5;124mnumerical\u001B[39m\u001B[38;5;124m\"\u001B[39m, prebinning_method \u001B[38;5;241m=\u001B[39m bin_method, monotonic_trend\u001B[38;5;241m=\u001B[39m\u001B[38;5;124m\"\u001B[39m\u001B[38;5;124mauto_asc_desc\u001B[39m\u001B[38;5;124m\"\u001B[39m, min_mean_diff\u001B[38;5;241m=\u001B[39mmin_diff)\n\u001B[1;32m     61\u001B[0m optb\u001B[38;5;241m.\u001B[39mfit(x, y)\n\u001B[1;32m     62\u001B[0m binning_table \u001B[38;5;241m=\u001B[39m optb\u001B[38;5;241m.\u001B[39mbinning_table\n",
      "\u001B[0;31mNameError\u001B[0m: name 'ContinuousOptimalBinning' is not defined"
     ]
    }
   ],
   "source": [
    "train_bin = data_prep.bin_retention_time(train,'retention_time',variable = 'retention_time', bin_method = \"cart\", min_diff=0.5)\n"
   ],
   "metadata": {
    "collapsed": false,
    "pycharm": {
     "name": "#%%\n"
    }
   }
  },
  {
   "cell_type": "markdown",
   "source": [
    "# identify the mislabeled data in both train and test set"
   ],
   "metadata": {
    "collapsed": false
   }
  },
  {
   "cell_type": "code",
   "execution_count": 5,
   "outputs": [],
   "source": [
    "from sklearn import svm\n",
    "from sklearn.ensemble import RandomForestClassifier\n",
    "import lightgbm as lgb"
   ],
   "metadata": {
    "collapsed": false,
    "pycharm": {
     "name": "#%%\n"
    }
   }
  },
  {
   "cell_type": "code",
   "execution_count": 398,
   "id": "78c6a73f",
   "metadata": {},
   "outputs": [],
   "source": []
  },
  {
   "cell_type": "code",
   "execution_count": 6,
   "id": "debc0f17",
   "metadata": {},
   "outputs": [],
   "source": [
    "clf = RandomForestClassifier()\n",
    "# clf = lgb.LGBMClassifier()\n",
    "\n",
    "#Create a svm Classifier\n",
    "# clf = svm.SVC(kernel='rbf') # rbf Kernel\n"
   ]
  },
  {
   "cell_type": "code",
   "execution_count": 21,
   "outputs": [
    {
     "data": {
      "text/plain": "(836, 1621)"
     },
     "execution_count": 21,
     "metadata": {},
     "output_type": "execute_result"
    }
   ],
   "source": [
    "data_bin.shape"
   ],
   "metadata": {
    "collapsed": false,
    "pycharm": {
     "name": "#%%\n"
    }
   }
  },
  {
   "cell_type": "code",
   "execution_count": 22,
   "outputs": [
    {
     "data": {
      "text/plain": "(836, 1620)"
     },
     "execution_count": 22,
     "metadata": {},
     "output_type": "execute_result"
    }
   ],
   "source": [
    "data.shape"
   ],
   "metadata": {
    "collapsed": false,
    "pycharm": {
     "name": "#%%\n"
    }
   }
  },
  {
   "cell_type": "code",
   "execution_count": 387,
   "outputs": [],
   "source": [
    "import lightgbm as lgb"
   ],
   "metadata": {
    "collapsed": false,
    "pycharm": {
     "name": "#%%\n"
    }
   }
  },
  {
   "cell_type": "markdown",
   "source": [],
   "metadata": {
    "collapsed": false
   }
  },
  {
   "cell_type": "code",
   "execution_count": 18,
   "outputs": [
    {
     "name": "stdout",
     "output_type": "stream",
     "text": [
      "retention_time_cat\n"
     ]
    },
    {
     "name": "stderr",
     "output_type": "stream",
     "text": [
      "<frozen importlib._bootstrap>:228: RuntimeWarning: scipy._lib.messagestream.MessageStream size changed, may indicate binary incompatibility. Expected 56 from C header, got 64 from PyObject\n",
      "<frozen importlib._bootstrap>:228: RuntimeWarning: scipy._lib.messagestream.MessageStream size changed, may indicate binary incompatibility. Expected 56 from C header, got 64 from PyObject\n",
      "<frozen importlib._bootstrap>:228: RuntimeWarning: scipy._lib.messagestream.MessageStream size changed, may indicate binary incompatibility. Expected 56 from C header, got 64 from PyObject\n",
      "<frozen importlib._bootstrap>:228: RuntimeWarning: scipy._lib.messagestream.MessageStream size changed, may indicate binary incompatibility. Expected 56 from C header, got 64 from PyObject\n",
      "<frozen importlib._bootstrap>:228: RuntimeWarning: scipy._lib.messagestream.MessageStream size changed, may indicate binary incompatibility. Expected 56 from C header, got 64 from PyObject\n",
      "<frozen importlib._bootstrap>:228: RuntimeWarning: scipy._lib.messagestream.MessageStream size changed, may indicate binary incompatibility. Expected 56 from C header, got 64 from PyObject\n",
      "<frozen importlib._bootstrap>:228: RuntimeWarning: scipy._lib.messagestream.MessageStream size changed, may indicate binary incompatibility. Expected 56 from C header, got 64 from PyObject\n",
      "<frozen importlib._bootstrap>:228: RuntimeWarning: scipy._lib.messagestream.MessageStream size changed, may indicate binary incompatibility. Expected 56 from C header, got 64 from PyObject\n",
      "<frozen importlib._bootstrap>:228: RuntimeWarning: scipy._lib.messagestream.MessageStream size changed, may indicate binary incompatibility. Expected 56 from C header, got 64 from PyObject\n",
      "<frozen importlib._bootstrap>:228: RuntimeWarning: scipy._lib.messagestream.MessageStream size changed, may indicate binary incompatibility. Expected 56 from C header, got 64 from PyObject\n",
      "<frozen importlib._bootstrap>:228: RuntimeWarning: scipy._lib.messagestream.MessageStream size changed, may indicate binary incompatibility. Expected 56 from C header, got 64 from PyObject\n",
      "<frozen importlib._bootstrap>:228: RuntimeWarning: scipy._lib.messagestream.MessageStream size changed, may indicate binary incompatibility. Expected 56 from C header, got 64 from PyObject\n",
      "<frozen importlib._bootstrap>:228: RuntimeWarning: scipy._lib.messagestream.MessageStream size changed, may indicate binary incompatibility. Expected 56 from C header, got 64 from PyObject\n",
      "<frozen importlib._bootstrap>:228: RuntimeWarning: scipy._lib.messagestream.MessageStream size changed, may indicate binary incompatibility. Expected 56 from C header, got 64 from PyObject\n",
      "<frozen importlib._bootstrap>:228: RuntimeWarning: scipy._lib.messagestream.MessageStream size changed, may indicate binary incompatibility. Expected 56 from C header, got 64 from PyObject\n",
      "<frozen importlib._bootstrap>:228: RuntimeWarning: scipy._lib.messagestream.MessageStream size changed, may indicate binary incompatibility. Expected 56 from C header, got 64 from PyObject\n"
     ]
    },
    {
     "name": "stdout",
     "output_type": "stream",
     "text": [
      "Cleanlab found 71 potential label errors.\n"
     ]
    }
   ],
   "source": [
    "data_confirmed, data_suspicious = data_prep.mislabeled_handling(data_bin, clf)"
   ],
   "metadata": {
    "collapsed": false,
    "pycharm": {
     "name": "#%%\n"
    }
   }
  },
  {
   "cell_type": "code",
   "execution_count": 20,
   "outputs": [
    {
     "data": {
      "text/plain": "        Compound_name Column Organic_modifier   pH       Buffer  \\\n1     1-hydroxypyrene  HILIC     Acetonitrile  3.0  Acetic acid   \n12      1-Nitropyrene  HILIC     Acetonitrile  2.7  Formic acid   \n13      1-Nitropyrene  HILIC     Acetonitrile  3.0  Acetic acid   \n14      1-Nitropyrene  HILIC     Acetonitrile  3.0  Formic acid   \n44   2-naphthoic acid  HILIC     Acetonitrile  6.7  Formic acid   \n..                ...    ...              ...  ...          ...   \n736    Sulfamethazine  HILIC     Acetonitrile  5.0  Formic acid   \n737    Sulfamethazine  HILIC     Acetonitrile  6.7  Formic acid   \n738    Sulfamethazine  HILIC         Methanol  2.7  Formic acid   \n740    Sulfamethazine  HILIC         Methanol  3.0  Formic acid   \n811      Trimethoprim  HILIC         Methanol  3.0  Acetic acid   \n\n                                      SMILES  retention_time  \\\n1              c1cc2ccc3ccc(c4ccc(c1)c2c34)O       12.321429   \n12       c1cc2ccc3ccc(c4ccc(c1)c2c34)N(=O)=O        2.373333   \n13       c1cc2ccc3ccc(c4ccc(c1)c2c34)N(=O)=O        2.338000   \n14       c1cc2ccc3ccc(c4ccc(c1)c2c34)N(=O)=O        2.226667   \n44                    c1ccc2cc(ccc2c1)C(=O)O        2.295714   \n..                                       ...             ...   \n736      Cc1cc(C)nc(n1)NS(=O)(=O)c1ccc(cc1)N        2.480000   \n737      Cc1cc(C)nc(n1)NS(=O)(=O)c1ccc(cc1)N        1.990000   \n738      Cc1cc(C)nc(n1)NS(=O)(=O)c1ccc(cc1)N        1.877143   \n740      Cc1cc(C)nc(n1)NS(=O)(=O)c1ccc(cc1)N        2.295714   \n811  COc1cc(Cc2c[nH]c(=N)[nH]c2=N)cc(c1OC)OC        6.164286   \n\n    retention_time_cat        ABC      ABCGG  ...      SRW10     TSRW10  \\\n1                    4  14.008885  10.537147  ...  10.190582  51.083298   \n12                   1  15.492048  11.735103  ...  10.272116  53.528456   \n13                   1  15.492048  11.735103  ...  10.272116  53.528456   \n14                   0  15.492048  11.735103  ...  10.272116  53.528456   \n44                   1  10.037394   8.562783  ...   9.407468  44.347861   \n..                 ...        ...        ...  ...        ...        ...   \n736                  1  14.726533  12.491650  ...   9.824498  52.353339   \n737                  0  14.726533  12.491650  ...   9.824498  52.353339   \n738                  0  14.726533  12.491650  ...   9.824498  52.353339   \n740                  1  14.726533  12.491650  ...   9.824498  52.353339   \n811                  4  15.653808  13.530766  ...   9.882519  54.636160   \n\n             MW       AMW  WPath  WPol  Zagreb1  Zagreb2  mZagreb1  mZagreb2  \n1    218.073165  8.076784    428    33    100.0    125.0  4.027778  3.583333  \n12   247.063329  8.823690    596    37    110.0    137.0  5.138889  4.027778  \n13   247.063329  8.823690    596    37    110.0    137.0  5.138889  4.027778  \n14   247.063329  8.823690    596    37    110.0    137.0  5.138889  4.027778  \n44   172.052429  8.192973    238    18     66.0     76.0  4.194444  2.888889  \n..          ...       ...    ...   ...      ...      ...       ...       ...  \n736  278.083747  8.426780    722    27     98.0    111.0  7.618056  4.041667  \n737  278.083747  8.426780    722    27     98.0    111.0  7.618056  4.041667  \n738  278.083747  8.426780    722    27     98.0    111.0  7.618056  4.041667  \n740  278.083747  8.426780    722    27     98.0    111.0  7.618056  4.041667  \n811  290.137890  7.439433    946    33    104.0    121.0  8.027778  4.916667  \n\n[71 rows x 1621 columns]",
      "text/html": "<div>\n<style scoped>\n    .dataframe tbody tr th:only-of-type {\n        vertical-align: middle;\n    }\n\n    .dataframe tbody tr th {\n        vertical-align: top;\n    }\n\n    .dataframe thead th {\n        text-align: right;\n    }\n</style>\n<table border=\"1\" class=\"dataframe\">\n  <thead>\n    <tr style=\"text-align: right;\">\n      <th></th>\n      <th>Compound_name</th>\n      <th>Column</th>\n      <th>Organic_modifier</th>\n      <th>pH</th>\n      <th>Buffer</th>\n      <th>SMILES</th>\n      <th>retention_time</th>\n      <th>retention_time_cat</th>\n      <th>ABC</th>\n      <th>ABCGG</th>\n      <th>...</th>\n      <th>SRW10</th>\n      <th>TSRW10</th>\n      <th>MW</th>\n      <th>AMW</th>\n      <th>WPath</th>\n      <th>WPol</th>\n      <th>Zagreb1</th>\n      <th>Zagreb2</th>\n      <th>mZagreb1</th>\n      <th>mZagreb2</th>\n    </tr>\n  </thead>\n  <tbody>\n    <tr>\n      <th>1</th>\n      <td>1-hydroxypyrene</td>\n      <td>HILIC</td>\n      <td>Acetonitrile</td>\n      <td>3.0</td>\n      <td>Acetic acid</td>\n      <td>c1cc2ccc3ccc(c4ccc(c1)c2c34)O</td>\n      <td>12.321429</td>\n      <td>4</td>\n      <td>14.008885</td>\n      <td>10.537147</td>\n      <td>...</td>\n      <td>10.190582</td>\n      <td>51.083298</td>\n      <td>218.073165</td>\n      <td>8.076784</td>\n      <td>428</td>\n      <td>33</td>\n      <td>100.0</td>\n      <td>125.0</td>\n      <td>4.027778</td>\n      <td>3.583333</td>\n    </tr>\n    <tr>\n      <th>12</th>\n      <td>1-Nitropyrene</td>\n      <td>HILIC</td>\n      <td>Acetonitrile</td>\n      <td>2.7</td>\n      <td>Formic acid</td>\n      <td>c1cc2ccc3ccc(c4ccc(c1)c2c34)N(=O)=O</td>\n      <td>2.373333</td>\n      <td>1</td>\n      <td>15.492048</td>\n      <td>11.735103</td>\n      <td>...</td>\n      <td>10.272116</td>\n      <td>53.528456</td>\n      <td>247.063329</td>\n      <td>8.823690</td>\n      <td>596</td>\n      <td>37</td>\n      <td>110.0</td>\n      <td>137.0</td>\n      <td>5.138889</td>\n      <td>4.027778</td>\n    </tr>\n    <tr>\n      <th>13</th>\n      <td>1-Nitropyrene</td>\n      <td>HILIC</td>\n      <td>Acetonitrile</td>\n      <td>3.0</td>\n      <td>Acetic acid</td>\n      <td>c1cc2ccc3ccc(c4ccc(c1)c2c34)N(=O)=O</td>\n      <td>2.338000</td>\n      <td>1</td>\n      <td>15.492048</td>\n      <td>11.735103</td>\n      <td>...</td>\n      <td>10.272116</td>\n      <td>53.528456</td>\n      <td>247.063329</td>\n      <td>8.823690</td>\n      <td>596</td>\n      <td>37</td>\n      <td>110.0</td>\n      <td>137.0</td>\n      <td>5.138889</td>\n      <td>4.027778</td>\n    </tr>\n    <tr>\n      <th>14</th>\n      <td>1-Nitropyrene</td>\n      <td>HILIC</td>\n      <td>Acetonitrile</td>\n      <td>3.0</td>\n      <td>Formic acid</td>\n      <td>c1cc2ccc3ccc(c4ccc(c1)c2c34)N(=O)=O</td>\n      <td>2.226667</td>\n      <td>0</td>\n      <td>15.492048</td>\n      <td>11.735103</td>\n      <td>...</td>\n      <td>10.272116</td>\n      <td>53.528456</td>\n      <td>247.063329</td>\n      <td>8.823690</td>\n      <td>596</td>\n      <td>37</td>\n      <td>110.0</td>\n      <td>137.0</td>\n      <td>5.138889</td>\n      <td>4.027778</td>\n    </tr>\n    <tr>\n      <th>44</th>\n      <td>2-naphthoic acid</td>\n      <td>HILIC</td>\n      <td>Acetonitrile</td>\n      <td>6.7</td>\n      <td>Formic acid</td>\n      <td>c1ccc2cc(ccc2c1)C(=O)O</td>\n      <td>2.295714</td>\n      <td>1</td>\n      <td>10.037394</td>\n      <td>8.562783</td>\n      <td>...</td>\n      <td>9.407468</td>\n      <td>44.347861</td>\n      <td>172.052429</td>\n      <td>8.192973</td>\n      <td>238</td>\n      <td>18</td>\n      <td>66.0</td>\n      <td>76.0</td>\n      <td>4.194444</td>\n      <td>2.888889</td>\n    </tr>\n    <tr>\n      <th>...</th>\n      <td>...</td>\n      <td>...</td>\n      <td>...</td>\n      <td>...</td>\n      <td>...</td>\n      <td>...</td>\n      <td>...</td>\n      <td>...</td>\n      <td>...</td>\n      <td>...</td>\n      <td>...</td>\n      <td>...</td>\n      <td>...</td>\n      <td>...</td>\n      <td>...</td>\n      <td>...</td>\n      <td>...</td>\n      <td>...</td>\n      <td>...</td>\n      <td>...</td>\n      <td>...</td>\n    </tr>\n    <tr>\n      <th>736</th>\n      <td>Sulfamethazine</td>\n      <td>HILIC</td>\n      <td>Acetonitrile</td>\n      <td>5.0</td>\n      <td>Formic acid</td>\n      <td>Cc1cc(C)nc(n1)NS(=O)(=O)c1ccc(cc1)N</td>\n      <td>2.480000</td>\n      <td>1</td>\n      <td>14.726533</td>\n      <td>12.491650</td>\n      <td>...</td>\n      <td>9.824498</td>\n      <td>52.353339</td>\n      <td>278.083747</td>\n      <td>8.426780</td>\n      <td>722</td>\n      <td>27</td>\n      <td>98.0</td>\n      <td>111.0</td>\n      <td>7.618056</td>\n      <td>4.041667</td>\n    </tr>\n    <tr>\n      <th>737</th>\n      <td>Sulfamethazine</td>\n      <td>HILIC</td>\n      <td>Acetonitrile</td>\n      <td>6.7</td>\n      <td>Formic acid</td>\n      <td>Cc1cc(C)nc(n1)NS(=O)(=O)c1ccc(cc1)N</td>\n      <td>1.990000</td>\n      <td>0</td>\n      <td>14.726533</td>\n      <td>12.491650</td>\n      <td>...</td>\n      <td>9.824498</td>\n      <td>52.353339</td>\n      <td>278.083747</td>\n      <td>8.426780</td>\n      <td>722</td>\n      <td>27</td>\n      <td>98.0</td>\n      <td>111.0</td>\n      <td>7.618056</td>\n      <td>4.041667</td>\n    </tr>\n    <tr>\n      <th>738</th>\n      <td>Sulfamethazine</td>\n      <td>HILIC</td>\n      <td>Methanol</td>\n      <td>2.7</td>\n      <td>Formic acid</td>\n      <td>Cc1cc(C)nc(n1)NS(=O)(=O)c1ccc(cc1)N</td>\n      <td>1.877143</td>\n      <td>0</td>\n      <td>14.726533</td>\n      <td>12.491650</td>\n      <td>...</td>\n      <td>9.824498</td>\n      <td>52.353339</td>\n      <td>278.083747</td>\n      <td>8.426780</td>\n      <td>722</td>\n      <td>27</td>\n      <td>98.0</td>\n      <td>111.0</td>\n      <td>7.618056</td>\n      <td>4.041667</td>\n    </tr>\n    <tr>\n      <th>740</th>\n      <td>Sulfamethazine</td>\n      <td>HILIC</td>\n      <td>Methanol</td>\n      <td>3.0</td>\n      <td>Formic acid</td>\n      <td>Cc1cc(C)nc(n1)NS(=O)(=O)c1ccc(cc1)N</td>\n      <td>2.295714</td>\n      <td>1</td>\n      <td>14.726533</td>\n      <td>12.491650</td>\n      <td>...</td>\n      <td>9.824498</td>\n      <td>52.353339</td>\n      <td>278.083747</td>\n      <td>8.426780</td>\n      <td>722</td>\n      <td>27</td>\n      <td>98.0</td>\n      <td>111.0</td>\n      <td>7.618056</td>\n      <td>4.041667</td>\n    </tr>\n    <tr>\n      <th>811</th>\n      <td>Trimethoprim</td>\n      <td>HILIC</td>\n      <td>Methanol</td>\n      <td>3.0</td>\n      <td>Acetic acid</td>\n      <td>COc1cc(Cc2c[nH]c(=N)[nH]c2=N)cc(c1OC)OC</td>\n      <td>6.164286</td>\n      <td>4</td>\n      <td>15.653808</td>\n      <td>13.530766</td>\n      <td>...</td>\n      <td>9.882519</td>\n      <td>54.636160</td>\n      <td>290.137890</td>\n      <td>7.439433</td>\n      <td>946</td>\n      <td>33</td>\n      <td>104.0</td>\n      <td>121.0</td>\n      <td>8.027778</td>\n      <td>4.916667</td>\n    </tr>\n  </tbody>\n</table>\n<p>71 rows × 1621 columns</p>\n</div>"
     },
     "execution_count": 20,
     "metadata": {},
     "output_type": "execute_result"
    }
   ],
   "source": [
    "data_suspicious"
   ],
   "metadata": {
    "collapsed": false,
    "pycharm": {
     "name": "#%%\n"
    }
   }
  },
  {
   "cell_type": "code",
   "execution_count": 23,
   "outputs": [
    {
     "data": {
      "text/plain": "      Compound_name Column Organic_modifier   pH       Buffer  \\\n0   1-hydroxypyrene  HILIC     Acetonitrile  2.7  Formic acid   \n2   1-hydroxypyrene  HILIC     Acetonitrile  3.0  Formic acid   \n3   1-hydroxypyrene  HILIC     Acetonitrile  5.0  Acetic acid   \n4   1-hydroxypyrene  HILIC     Acetonitrile  5.0  Formic acid   \n5   1-hydroxypyrene  HILIC     Acetonitrile  6.7  Formic acid   \n6   1-hydroxypyrene  HILIC         Methanol  2.7  Formic acid   \n7   1-hydroxypyrene  HILIC         Methanol  3.0  Acetic acid   \n8   1-hydroxypyrene  HILIC         Methanol  3.0  Formic acid   \n9   1-hydroxypyrene  HILIC         Methanol  5.0  Acetic acid   \n10  1-hydroxypyrene  HILIC         Methanol  5.0  Formic acid   \n11  1-hydroxypyrene  HILIC         Methanol  6.7  Formic acid   \n\n                           SMILES  retention_time retention_time_cat  \\\n0   c1cc2ccc3ccc(c4ccc(c1)c2c34)O        1.822857                  0   \n2   c1cc2ccc3ccc(c4ccc(c1)c2c34)O        1.857143                  0   \n3   c1cc2ccc3ccc(c4ccc(c1)c2c34)O        1.850000                  0   \n4   c1cc2ccc3ccc(c4ccc(c1)c2c34)O        1.851429                  0   \n5   c1cc2ccc3ccc(c4ccc(c1)c2c34)O        1.930000                  0   \n6   c1cc2ccc3ccc(c4ccc(c1)c2c34)O        1.794286                  0   \n7   c1cc2ccc3ccc(c4ccc(c1)c2c34)O        1.545714                  0   \n8   c1cc2ccc3ccc(c4ccc(c1)c2c34)O        1.790000                  0   \n9   c1cc2ccc3ccc(c4ccc(c1)c2c34)O        1.534286                  0   \n10  c1cc2ccc3ccc(c4ccc(c1)c2c34)O        1.792857                  0   \n11  c1cc2ccc3ccc(c4ccc(c1)c2c34)O        1.810000                  0   \n\n          ABC      ABCGG  ...      SRW10     TSRW10          MW       AMW  \\\n0   14.008885  10.537147  ...  10.190582  51.083298  218.073165  8.076784   \n2   14.008885  10.537147  ...  10.190582  51.083298  218.073165  8.076784   \n3   14.008885  10.537147  ...  10.190582  51.083298  218.073165  8.076784   \n4   14.008885  10.537147  ...  10.190582  51.083298  218.073165  8.076784   \n5   14.008885  10.537147  ...  10.190582  51.083298  218.073165  8.076784   \n6   14.008885  10.537147  ...  10.190582  51.083298  218.073165  8.076784   \n7   14.008885  10.537147  ...  10.190582  51.083298  218.073165  8.076784   \n8   14.008885  10.537147  ...  10.190582  51.083298  218.073165  8.076784   \n9   14.008885  10.537147  ...  10.190582  51.083298  218.073165  8.076784   \n10  14.008885  10.537147  ...  10.190582  51.083298  218.073165  8.076784   \n11  14.008885  10.537147  ...  10.190582  51.083298  218.073165  8.076784   \n\n    WPath  WPol  Zagreb1  Zagreb2  mZagreb1  mZagreb2  \n0     428    33    100.0    125.0  4.027778  3.583333  \n2     428    33    100.0    125.0  4.027778  3.583333  \n3     428    33    100.0    125.0  4.027778  3.583333  \n4     428    33    100.0    125.0  4.027778  3.583333  \n5     428    33    100.0    125.0  4.027778  3.583333  \n6     428    33    100.0    125.0  4.027778  3.583333  \n7     428    33    100.0    125.0  4.027778  3.583333  \n8     428    33    100.0    125.0  4.027778  3.583333  \n9     428    33    100.0    125.0  4.027778  3.583333  \n10    428    33    100.0    125.0  4.027778  3.583333  \n11    428    33    100.0    125.0  4.027778  3.583333  \n\n[11 rows x 1621 columns]",
      "text/html": "<div>\n<style scoped>\n    .dataframe tbody tr th:only-of-type {\n        vertical-align: middle;\n    }\n\n    .dataframe tbody tr th {\n        vertical-align: top;\n    }\n\n    .dataframe thead th {\n        text-align: right;\n    }\n</style>\n<table border=\"1\" class=\"dataframe\">\n  <thead>\n    <tr style=\"text-align: right;\">\n      <th></th>\n      <th>Compound_name</th>\n      <th>Column</th>\n      <th>Organic_modifier</th>\n      <th>pH</th>\n      <th>Buffer</th>\n      <th>SMILES</th>\n      <th>retention_time</th>\n      <th>retention_time_cat</th>\n      <th>ABC</th>\n      <th>ABCGG</th>\n      <th>...</th>\n      <th>SRW10</th>\n      <th>TSRW10</th>\n      <th>MW</th>\n      <th>AMW</th>\n      <th>WPath</th>\n      <th>WPol</th>\n      <th>Zagreb1</th>\n      <th>Zagreb2</th>\n      <th>mZagreb1</th>\n      <th>mZagreb2</th>\n    </tr>\n  </thead>\n  <tbody>\n    <tr>\n      <th>0</th>\n      <td>1-hydroxypyrene</td>\n      <td>HILIC</td>\n      <td>Acetonitrile</td>\n      <td>2.7</td>\n      <td>Formic acid</td>\n      <td>c1cc2ccc3ccc(c4ccc(c1)c2c34)O</td>\n      <td>1.822857</td>\n      <td>0</td>\n      <td>14.008885</td>\n      <td>10.537147</td>\n      <td>...</td>\n      <td>10.190582</td>\n      <td>51.083298</td>\n      <td>218.073165</td>\n      <td>8.076784</td>\n      <td>428</td>\n      <td>33</td>\n      <td>100.0</td>\n      <td>125.0</td>\n      <td>4.027778</td>\n      <td>3.583333</td>\n    </tr>\n    <tr>\n      <th>2</th>\n      <td>1-hydroxypyrene</td>\n      <td>HILIC</td>\n      <td>Acetonitrile</td>\n      <td>3.0</td>\n      <td>Formic acid</td>\n      <td>c1cc2ccc3ccc(c4ccc(c1)c2c34)O</td>\n      <td>1.857143</td>\n      <td>0</td>\n      <td>14.008885</td>\n      <td>10.537147</td>\n      <td>...</td>\n      <td>10.190582</td>\n      <td>51.083298</td>\n      <td>218.073165</td>\n      <td>8.076784</td>\n      <td>428</td>\n      <td>33</td>\n      <td>100.0</td>\n      <td>125.0</td>\n      <td>4.027778</td>\n      <td>3.583333</td>\n    </tr>\n    <tr>\n      <th>3</th>\n      <td>1-hydroxypyrene</td>\n      <td>HILIC</td>\n      <td>Acetonitrile</td>\n      <td>5.0</td>\n      <td>Acetic acid</td>\n      <td>c1cc2ccc3ccc(c4ccc(c1)c2c34)O</td>\n      <td>1.850000</td>\n      <td>0</td>\n      <td>14.008885</td>\n      <td>10.537147</td>\n      <td>...</td>\n      <td>10.190582</td>\n      <td>51.083298</td>\n      <td>218.073165</td>\n      <td>8.076784</td>\n      <td>428</td>\n      <td>33</td>\n      <td>100.0</td>\n      <td>125.0</td>\n      <td>4.027778</td>\n      <td>3.583333</td>\n    </tr>\n    <tr>\n      <th>4</th>\n      <td>1-hydroxypyrene</td>\n      <td>HILIC</td>\n      <td>Acetonitrile</td>\n      <td>5.0</td>\n      <td>Formic acid</td>\n      <td>c1cc2ccc3ccc(c4ccc(c1)c2c34)O</td>\n      <td>1.851429</td>\n      <td>0</td>\n      <td>14.008885</td>\n      <td>10.537147</td>\n      <td>...</td>\n      <td>10.190582</td>\n      <td>51.083298</td>\n      <td>218.073165</td>\n      <td>8.076784</td>\n      <td>428</td>\n      <td>33</td>\n      <td>100.0</td>\n      <td>125.0</td>\n      <td>4.027778</td>\n      <td>3.583333</td>\n    </tr>\n    <tr>\n      <th>5</th>\n      <td>1-hydroxypyrene</td>\n      <td>HILIC</td>\n      <td>Acetonitrile</td>\n      <td>6.7</td>\n      <td>Formic acid</td>\n      <td>c1cc2ccc3ccc(c4ccc(c1)c2c34)O</td>\n      <td>1.930000</td>\n      <td>0</td>\n      <td>14.008885</td>\n      <td>10.537147</td>\n      <td>...</td>\n      <td>10.190582</td>\n      <td>51.083298</td>\n      <td>218.073165</td>\n      <td>8.076784</td>\n      <td>428</td>\n      <td>33</td>\n      <td>100.0</td>\n      <td>125.0</td>\n      <td>4.027778</td>\n      <td>3.583333</td>\n    </tr>\n    <tr>\n      <th>6</th>\n      <td>1-hydroxypyrene</td>\n      <td>HILIC</td>\n      <td>Methanol</td>\n      <td>2.7</td>\n      <td>Formic acid</td>\n      <td>c1cc2ccc3ccc(c4ccc(c1)c2c34)O</td>\n      <td>1.794286</td>\n      <td>0</td>\n      <td>14.008885</td>\n      <td>10.537147</td>\n      <td>...</td>\n      <td>10.190582</td>\n      <td>51.083298</td>\n      <td>218.073165</td>\n      <td>8.076784</td>\n      <td>428</td>\n      <td>33</td>\n      <td>100.0</td>\n      <td>125.0</td>\n      <td>4.027778</td>\n      <td>3.583333</td>\n    </tr>\n    <tr>\n      <th>7</th>\n      <td>1-hydroxypyrene</td>\n      <td>HILIC</td>\n      <td>Methanol</td>\n      <td>3.0</td>\n      <td>Acetic acid</td>\n      <td>c1cc2ccc3ccc(c4ccc(c1)c2c34)O</td>\n      <td>1.545714</td>\n      <td>0</td>\n      <td>14.008885</td>\n      <td>10.537147</td>\n      <td>...</td>\n      <td>10.190582</td>\n      <td>51.083298</td>\n      <td>218.073165</td>\n      <td>8.076784</td>\n      <td>428</td>\n      <td>33</td>\n      <td>100.0</td>\n      <td>125.0</td>\n      <td>4.027778</td>\n      <td>3.583333</td>\n    </tr>\n    <tr>\n      <th>8</th>\n      <td>1-hydroxypyrene</td>\n      <td>HILIC</td>\n      <td>Methanol</td>\n      <td>3.0</td>\n      <td>Formic acid</td>\n      <td>c1cc2ccc3ccc(c4ccc(c1)c2c34)O</td>\n      <td>1.790000</td>\n      <td>0</td>\n      <td>14.008885</td>\n      <td>10.537147</td>\n      <td>...</td>\n      <td>10.190582</td>\n      <td>51.083298</td>\n      <td>218.073165</td>\n      <td>8.076784</td>\n      <td>428</td>\n      <td>33</td>\n      <td>100.0</td>\n      <td>125.0</td>\n      <td>4.027778</td>\n      <td>3.583333</td>\n    </tr>\n    <tr>\n      <th>9</th>\n      <td>1-hydroxypyrene</td>\n      <td>HILIC</td>\n      <td>Methanol</td>\n      <td>5.0</td>\n      <td>Acetic acid</td>\n      <td>c1cc2ccc3ccc(c4ccc(c1)c2c34)O</td>\n      <td>1.534286</td>\n      <td>0</td>\n      <td>14.008885</td>\n      <td>10.537147</td>\n      <td>...</td>\n      <td>10.190582</td>\n      <td>51.083298</td>\n      <td>218.073165</td>\n      <td>8.076784</td>\n      <td>428</td>\n      <td>33</td>\n      <td>100.0</td>\n      <td>125.0</td>\n      <td>4.027778</td>\n      <td>3.583333</td>\n    </tr>\n    <tr>\n      <th>10</th>\n      <td>1-hydroxypyrene</td>\n      <td>HILIC</td>\n      <td>Methanol</td>\n      <td>5.0</td>\n      <td>Formic acid</td>\n      <td>c1cc2ccc3ccc(c4ccc(c1)c2c34)O</td>\n      <td>1.792857</td>\n      <td>0</td>\n      <td>14.008885</td>\n      <td>10.537147</td>\n      <td>...</td>\n      <td>10.190582</td>\n      <td>51.083298</td>\n      <td>218.073165</td>\n      <td>8.076784</td>\n      <td>428</td>\n      <td>33</td>\n      <td>100.0</td>\n      <td>125.0</td>\n      <td>4.027778</td>\n      <td>3.583333</td>\n    </tr>\n    <tr>\n      <th>11</th>\n      <td>1-hydroxypyrene</td>\n      <td>HILIC</td>\n      <td>Methanol</td>\n      <td>6.7</td>\n      <td>Formic acid</td>\n      <td>c1cc2ccc3ccc(c4ccc(c1)c2c34)O</td>\n      <td>1.810000</td>\n      <td>0</td>\n      <td>14.008885</td>\n      <td>10.537147</td>\n      <td>...</td>\n      <td>10.190582</td>\n      <td>51.083298</td>\n      <td>218.073165</td>\n      <td>8.076784</td>\n      <td>428</td>\n      <td>33</td>\n      <td>100.0</td>\n      <td>125.0</td>\n      <td>4.027778</td>\n      <td>3.583333</td>\n    </tr>\n  </tbody>\n</table>\n<p>11 rows × 1621 columns</p>\n</div>"
     },
     "execution_count": 23,
     "metadata": {},
     "output_type": "execute_result"
    }
   ],
   "source": [
    "data_confirmed.loc[data_confirmed['Compound_name']=='1-hydroxypyrene']"
   ],
   "metadata": {
    "collapsed": false,
    "pycharm": {
     "name": "#%%\n"
    }
   }
  },
  {
   "cell_type": "code",
   "execution_count": 13,
   "outputs": [
    {
     "data": {
      "text/plain": "          Compound_name Column Organic_modifier   pH       Buffer  \\\n1       1-hydroxypyrene  HILIC     Acetonitrile  3.0  Acetic acid   \n3       1-hydroxypyrene  HILIC     Acetonitrile  5.0  Acetic acid   \n11      1-hydroxypyrene  HILIC         Methanol  6.7  Formic acid   \n44     2-naphthoic acid  HILIC     Acetonitrile  6.7  Formic acid   \n46     2-naphthoic acid  HILIC         Methanol  3.0  Acetic acid   \n..                  ...    ...              ...  ...          ...   \n794         Trifluralin  HILIC     Acetonitrile  3.0  Formic acid   \n823  Triphenylphosphate  HILIC         Methanol  3.0  Acetic acid   \n825  Triphenylphosphate  HILIC         Methanol  5.0  Acetic acid   \n832           Valsartan  HILIC         Methanol  2.7  Formic acid   \n833           Valsartan  HILIC         Methanol  3.0  Formic acid   \n\n                                                SMILES  retention_time  \\\n1                        c1cc2ccc3ccc(c4ccc(c1)c2c34)O       12.321429   \n3                        c1cc2ccc3ccc(c4ccc(c1)c2c34)O        1.850000   \n11                       c1cc2ccc3ccc(c4ccc(c1)c2c34)O        1.810000   \n44                              c1ccc2cc(ccc2c1)C(=O)O        2.295714   \n46                              c1ccc2cc(ccc2c1)C(=O)O        1.824286   \n..                                                 ...             ...   \n794        CCCN(CCC)c1c(cc(cc1N(=O)=O)C(F)(F)F)N(=O)=O        1.846667   \n823               c1ccc(cc1)OP(=O)(Oc1ccccc1)Oc1ccccc1        1.824286   \n825               c1ccc(cc1)OP(=O)(Oc1ccccc1)Oc1ccccc1        1.798571   \n832  CCCCC(=O)N(Cc1ccc(cc1)c1ccccc1c1n[nH]nn1)[C@@H...        1.808571   \n833  CCCCC(=O)N(Cc1ccc(cc1)c1ccccc1c1n[nH]nn1)[C@@H...        1.790000   \n\n    retention_time_cat        ABC      ABCGG  ...      SRW10     TSRW10  \\\n1                    2  14.008885  10.537147  ...  10.190582  51.083298   \n3                    1  14.008885  10.537147  ...  10.190582  51.083298   \n11                   1  14.008885  10.537147  ...  10.190582  51.083298   \n44                   2  10.037394   8.562783  ...   9.407468  44.347861   \n46                   1  10.037394   8.562783  ...   9.407468  44.347861   \n..                 ...        ...        ...  ...        ...        ...   \n794                  1  16.913961  16.006091  ...  10.041814  57.146400   \n823                  1  17.836588  14.286218  ...   9.843260  56.915029   \n825                  0  17.836588  14.286218  ...   9.843260  56.915029   \n832                  1  24.305499  20.006308  ...  10.252700  80.792385   \n833                  0  24.305499  20.006308  ...  10.252700  80.792385   \n\n             MW       AMW  WPath  WPol  Zagreb1  Zagreb2   mZagreb1  mZagreb2  \n1    218.073165  8.076784    428    33    100.0    125.0   4.027778  3.583333  \n3    218.073165  8.076784    428    33    100.0    125.0   4.027778  3.583333  \n11   218.073165  8.076784    428    33    100.0    125.0   4.027778  3.583333  \n44   172.052429  8.192973    238    18     66.0     76.0   4.194444  2.888889  \n46   172.052429  8.192973    238    18     66.0     76.0   4.194444  2.888889  \n..          ...       ...    ...   ...      ...      ...        ...       ...  \n794  335.109291  8.592546   1082    37    112.0    129.0  11.340278  5.222222  \n823  326.070796  8.580810   1204    30    116.0    130.0   5.895833  5.125000  \n825  326.070796  8.580810   1204    30    116.0    130.0   5.895833  5.125000  \n832  435.227040  7.134870   3122    49    160.0    186.0  11.111111  7.277778  \n833  435.227040  7.134870   3122    49    160.0    186.0  11.111111  7.277778  \n\n[90 rows x 1334 columns]",
      "text/html": "<div>\n<style scoped>\n    .dataframe tbody tr th:only-of-type {\n        vertical-align: middle;\n    }\n\n    .dataframe tbody tr th {\n        vertical-align: top;\n    }\n\n    .dataframe thead th {\n        text-align: right;\n    }\n</style>\n<table border=\"1\" class=\"dataframe\">\n  <thead>\n    <tr style=\"text-align: right;\">\n      <th></th>\n      <th>Compound_name</th>\n      <th>Column</th>\n      <th>Organic_modifier</th>\n      <th>pH</th>\n      <th>Buffer</th>\n      <th>SMILES</th>\n      <th>retention_time</th>\n      <th>retention_time_cat</th>\n      <th>ABC</th>\n      <th>ABCGG</th>\n      <th>...</th>\n      <th>SRW10</th>\n      <th>TSRW10</th>\n      <th>MW</th>\n      <th>AMW</th>\n      <th>WPath</th>\n      <th>WPol</th>\n      <th>Zagreb1</th>\n      <th>Zagreb2</th>\n      <th>mZagreb1</th>\n      <th>mZagreb2</th>\n    </tr>\n  </thead>\n  <tbody>\n    <tr>\n      <th>1</th>\n      <td>1-hydroxypyrene</td>\n      <td>HILIC</td>\n      <td>Acetonitrile</td>\n      <td>3.0</td>\n      <td>Acetic acid</td>\n      <td>c1cc2ccc3ccc(c4ccc(c1)c2c34)O</td>\n      <td>12.321429</td>\n      <td>2</td>\n      <td>14.008885</td>\n      <td>10.537147</td>\n      <td>...</td>\n      <td>10.190582</td>\n      <td>51.083298</td>\n      <td>218.073165</td>\n      <td>8.076784</td>\n      <td>428</td>\n      <td>33</td>\n      <td>100.0</td>\n      <td>125.0</td>\n      <td>4.027778</td>\n      <td>3.583333</td>\n    </tr>\n    <tr>\n      <th>3</th>\n      <td>1-hydroxypyrene</td>\n      <td>HILIC</td>\n      <td>Acetonitrile</td>\n      <td>5.0</td>\n      <td>Acetic acid</td>\n      <td>c1cc2ccc3ccc(c4ccc(c1)c2c34)O</td>\n      <td>1.850000</td>\n      <td>1</td>\n      <td>14.008885</td>\n      <td>10.537147</td>\n      <td>...</td>\n      <td>10.190582</td>\n      <td>51.083298</td>\n      <td>218.073165</td>\n      <td>8.076784</td>\n      <td>428</td>\n      <td>33</td>\n      <td>100.0</td>\n      <td>125.0</td>\n      <td>4.027778</td>\n      <td>3.583333</td>\n    </tr>\n    <tr>\n      <th>11</th>\n      <td>1-hydroxypyrene</td>\n      <td>HILIC</td>\n      <td>Methanol</td>\n      <td>6.7</td>\n      <td>Formic acid</td>\n      <td>c1cc2ccc3ccc(c4ccc(c1)c2c34)O</td>\n      <td>1.810000</td>\n      <td>1</td>\n      <td>14.008885</td>\n      <td>10.537147</td>\n      <td>...</td>\n      <td>10.190582</td>\n      <td>51.083298</td>\n      <td>218.073165</td>\n      <td>8.076784</td>\n      <td>428</td>\n      <td>33</td>\n      <td>100.0</td>\n      <td>125.0</td>\n      <td>4.027778</td>\n      <td>3.583333</td>\n    </tr>\n    <tr>\n      <th>44</th>\n      <td>2-naphthoic acid</td>\n      <td>HILIC</td>\n      <td>Acetonitrile</td>\n      <td>6.7</td>\n      <td>Formic acid</td>\n      <td>c1ccc2cc(ccc2c1)C(=O)O</td>\n      <td>2.295714</td>\n      <td>2</td>\n      <td>10.037394</td>\n      <td>8.562783</td>\n      <td>...</td>\n      <td>9.407468</td>\n      <td>44.347861</td>\n      <td>172.052429</td>\n      <td>8.192973</td>\n      <td>238</td>\n      <td>18</td>\n      <td>66.0</td>\n      <td>76.0</td>\n      <td>4.194444</td>\n      <td>2.888889</td>\n    </tr>\n    <tr>\n      <th>46</th>\n      <td>2-naphthoic acid</td>\n      <td>HILIC</td>\n      <td>Methanol</td>\n      <td>3.0</td>\n      <td>Acetic acid</td>\n      <td>c1ccc2cc(ccc2c1)C(=O)O</td>\n      <td>1.824286</td>\n      <td>1</td>\n      <td>10.037394</td>\n      <td>8.562783</td>\n      <td>...</td>\n      <td>9.407468</td>\n      <td>44.347861</td>\n      <td>172.052429</td>\n      <td>8.192973</td>\n      <td>238</td>\n      <td>18</td>\n      <td>66.0</td>\n      <td>76.0</td>\n      <td>4.194444</td>\n      <td>2.888889</td>\n    </tr>\n    <tr>\n      <th>...</th>\n      <td>...</td>\n      <td>...</td>\n      <td>...</td>\n      <td>...</td>\n      <td>...</td>\n      <td>...</td>\n      <td>...</td>\n      <td>...</td>\n      <td>...</td>\n      <td>...</td>\n      <td>...</td>\n      <td>...</td>\n      <td>...</td>\n      <td>...</td>\n      <td>...</td>\n      <td>...</td>\n      <td>...</td>\n      <td>...</td>\n      <td>...</td>\n      <td>...</td>\n      <td>...</td>\n    </tr>\n    <tr>\n      <th>794</th>\n      <td>Trifluralin</td>\n      <td>HILIC</td>\n      <td>Acetonitrile</td>\n      <td>3.0</td>\n      <td>Formic acid</td>\n      <td>CCCN(CCC)c1c(cc(cc1N(=O)=O)C(F)(F)F)N(=O)=O</td>\n      <td>1.846667</td>\n      <td>1</td>\n      <td>16.913961</td>\n      <td>16.006091</td>\n      <td>...</td>\n      <td>10.041814</td>\n      <td>57.146400</td>\n      <td>335.109291</td>\n      <td>8.592546</td>\n      <td>1082</td>\n      <td>37</td>\n      <td>112.0</td>\n      <td>129.0</td>\n      <td>11.340278</td>\n      <td>5.222222</td>\n    </tr>\n    <tr>\n      <th>823</th>\n      <td>Triphenylphosphate</td>\n      <td>HILIC</td>\n      <td>Methanol</td>\n      <td>3.0</td>\n      <td>Acetic acid</td>\n      <td>c1ccc(cc1)OP(=O)(Oc1ccccc1)Oc1ccccc1</td>\n      <td>1.824286</td>\n      <td>1</td>\n      <td>17.836588</td>\n      <td>14.286218</td>\n      <td>...</td>\n      <td>9.843260</td>\n      <td>56.915029</td>\n      <td>326.070796</td>\n      <td>8.580810</td>\n      <td>1204</td>\n      <td>30</td>\n      <td>116.0</td>\n      <td>130.0</td>\n      <td>5.895833</td>\n      <td>5.125000</td>\n    </tr>\n    <tr>\n      <th>825</th>\n      <td>Triphenylphosphate</td>\n      <td>HILIC</td>\n      <td>Methanol</td>\n      <td>5.0</td>\n      <td>Acetic acid</td>\n      <td>c1ccc(cc1)OP(=O)(Oc1ccccc1)Oc1ccccc1</td>\n      <td>1.798571</td>\n      <td>0</td>\n      <td>17.836588</td>\n      <td>14.286218</td>\n      <td>...</td>\n      <td>9.843260</td>\n      <td>56.915029</td>\n      <td>326.070796</td>\n      <td>8.580810</td>\n      <td>1204</td>\n      <td>30</td>\n      <td>116.0</td>\n      <td>130.0</td>\n      <td>5.895833</td>\n      <td>5.125000</td>\n    </tr>\n    <tr>\n      <th>832</th>\n      <td>Valsartan</td>\n      <td>HILIC</td>\n      <td>Methanol</td>\n      <td>2.7</td>\n      <td>Formic acid</td>\n      <td>CCCCC(=O)N(Cc1ccc(cc1)c1ccccc1c1n[nH]nn1)[C@@H...</td>\n      <td>1.808571</td>\n      <td>1</td>\n      <td>24.305499</td>\n      <td>20.006308</td>\n      <td>...</td>\n      <td>10.252700</td>\n      <td>80.792385</td>\n      <td>435.227040</td>\n      <td>7.134870</td>\n      <td>3122</td>\n      <td>49</td>\n      <td>160.0</td>\n      <td>186.0</td>\n      <td>11.111111</td>\n      <td>7.277778</td>\n    </tr>\n    <tr>\n      <th>833</th>\n      <td>Valsartan</td>\n      <td>HILIC</td>\n      <td>Methanol</td>\n      <td>3.0</td>\n      <td>Formic acid</td>\n      <td>CCCCC(=O)N(Cc1ccc(cc1)c1ccccc1c1n[nH]nn1)[C@@H...</td>\n      <td>1.790000</td>\n      <td>0</td>\n      <td>24.305499</td>\n      <td>20.006308</td>\n      <td>...</td>\n      <td>10.252700</td>\n      <td>80.792385</td>\n      <td>435.227040</td>\n      <td>7.134870</td>\n      <td>3122</td>\n      <td>49</td>\n      <td>160.0</td>\n      <td>186.0</td>\n      <td>11.111111</td>\n      <td>7.277778</td>\n    </tr>\n  </tbody>\n</table>\n<p>90 rows × 1334 columns</p>\n</div>"
     },
     "execution_count": 13,
     "metadata": {},
     "output_type": "execute_result"
    }
   ],
   "source": [
    "data_suspicious"
   ],
   "metadata": {
    "collapsed": false,
    "pycharm": {
     "name": "#%%\n"
    }
   }
  },
  {
   "cell_type": "code",
   "execution_count": 9,
   "outputs": [
    {
     "data": {
      "text/plain": "       Compound_name Column Organic_modifier   pH       Buffer  \\\n0    1-hydroxypyrene  HILIC     Acetonitrile  2.7  Formic acid   \n1    1-hydroxypyrene  HILIC     Acetonitrile  3.0  Acetic acid   \n2    1-hydroxypyrene  HILIC     Acetonitrile  3.0  Formic acid   \n4    1-hydroxypyrene  HILIC     Acetonitrile  5.0  Formic acid   \n5    1-hydroxypyrene  HILIC     Acetonitrile  6.7  Formic acid   \n..               ...    ...              ...  ...          ...   \n829        Valsartan  HILIC     Acetonitrile  3.0  Formic acid   \n832        Valsartan  HILIC         Methanol  2.7  Formic acid   \n833        Valsartan  HILIC         Methanol  3.0  Formic acid   \n834        Valsartan  HILIC         Methanol  5.0  Acetic acid   \n835        Valsartan  HILIC         Methanol  5.0  Formic acid   \n\n                                                SMILES  retention_time  \\\n0                        c1cc2ccc3ccc(c4ccc(c1)c2c34)O        1.822857   \n1                        c1cc2ccc3ccc(c4ccc(c1)c2c34)O       12.321429   \n2                        c1cc2ccc3ccc(c4ccc(c1)c2c34)O        1.857143   \n4                        c1cc2ccc3ccc(c4ccc(c1)c2c34)O        1.851429   \n5                        c1cc2ccc3ccc(c4ccc(c1)c2c34)O        1.930000   \n..                                                 ...             ...   \n829  CCCCC(=O)N(Cc1ccc(cc1)c1ccccc1c1n[nH]nn1)[C@@H...        1.910000   \n832  CCCCC(=O)N(Cc1ccc(cc1)c1ccccc1c1n[nH]nn1)[C@@H...        1.808571   \n833  CCCCC(=O)N(Cc1ccc(cc1)c1ccccc1c1n[nH]nn1)[C@@H...        1.790000   \n834  CCCCC(=O)N(Cc1ccc(cc1)c1ccccc1c1n[nH]nn1)[C@@H...        1.433333   \n835  CCCCC(=O)N(Cc1ccc(cc1)c1ccccc1c1n[nH]nn1)[C@@H...        1.463333   \n\n    retention_time_cat        ABC      ABCGG  ...      SRW10     TSRW10  \\\n0                    1  14.008885  10.537147  ...  10.190582  51.083298   \n1                    4  14.008885  10.537147  ...  10.190582  51.083298   \n2                    1  14.008885  10.537147  ...  10.190582  51.083298   \n4                    1  14.008885  10.537147  ...  10.190582  51.083298   \n5                    1  14.008885  10.537147  ...  10.190582  51.083298   \n..                 ...        ...        ...  ...        ...        ...   \n829                  1  24.305499  20.006308  ...  10.252700  80.792385   \n832                  1  24.305499  20.006308  ...  10.252700  80.792385   \n833                  1  24.305499  20.006308  ...  10.252700  80.792385   \n834                  0  24.305499  20.006308  ...  10.252700  80.792385   \n835                  0  24.305499  20.006308  ...  10.252700  80.792385   \n\n             MW       AMW  WPath  WPol  Zagreb1  Zagreb2   mZagreb1  mZagreb2  \n0    218.073165  8.076784    428    33    100.0    125.0   4.027778  3.583333  \n1    218.073165  8.076784    428    33    100.0    125.0   4.027778  3.583333  \n2    218.073165  8.076784    428    33    100.0    125.0   4.027778  3.583333  \n4    218.073165  8.076784    428    33    100.0    125.0   4.027778  3.583333  \n5    218.073165  8.076784    428    33    100.0    125.0   4.027778  3.583333  \n..          ...       ...    ...   ...      ...      ...        ...       ...  \n829  435.227040  7.134870   3122    49    160.0    186.0  11.111111  7.277778  \n832  435.227040  7.134870   3122    49    160.0    186.0  11.111111  7.277778  \n833  435.227040  7.134870   3122    49    160.0    186.0  11.111111  7.277778  \n834  435.227040  7.134870   3122    49    160.0    186.0  11.111111  7.277778  \n835  435.227040  7.134870   3122    49    160.0    186.0  11.111111  7.277778  \n\n[760 rows x 1334 columns]",
      "text/html": "<div>\n<style scoped>\n    .dataframe tbody tr th:only-of-type {\n        vertical-align: middle;\n    }\n\n    .dataframe tbody tr th {\n        vertical-align: top;\n    }\n\n    .dataframe thead th {\n        text-align: right;\n    }\n</style>\n<table border=\"1\" class=\"dataframe\">\n  <thead>\n    <tr style=\"text-align: right;\">\n      <th></th>\n      <th>Compound_name</th>\n      <th>Column</th>\n      <th>Organic_modifier</th>\n      <th>pH</th>\n      <th>Buffer</th>\n      <th>SMILES</th>\n      <th>retention_time</th>\n      <th>retention_time_cat</th>\n      <th>ABC</th>\n      <th>ABCGG</th>\n      <th>...</th>\n      <th>SRW10</th>\n      <th>TSRW10</th>\n      <th>MW</th>\n      <th>AMW</th>\n      <th>WPath</th>\n      <th>WPol</th>\n      <th>Zagreb1</th>\n      <th>Zagreb2</th>\n      <th>mZagreb1</th>\n      <th>mZagreb2</th>\n    </tr>\n  </thead>\n  <tbody>\n    <tr>\n      <th>0</th>\n      <td>1-hydroxypyrene</td>\n      <td>HILIC</td>\n      <td>Acetonitrile</td>\n      <td>2.7</td>\n      <td>Formic acid</td>\n      <td>c1cc2ccc3ccc(c4ccc(c1)c2c34)O</td>\n      <td>1.822857</td>\n      <td>1</td>\n      <td>14.008885</td>\n      <td>10.537147</td>\n      <td>...</td>\n      <td>10.190582</td>\n      <td>51.083298</td>\n      <td>218.073165</td>\n      <td>8.076784</td>\n      <td>428</td>\n      <td>33</td>\n      <td>100.0</td>\n      <td>125.0</td>\n      <td>4.027778</td>\n      <td>3.583333</td>\n    </tr>\n    <tr>\n      <th>1</th>\n      <td>1-hydroxypyrene</td>\n      <td>HILIC</td>\n      <td>Acetonitrile</td>\n      <td>3.0</td>\n      <td>Acetic acid</td>\n      <td>c1cc2ccc3ccc(c4ccc(c1)c2c34)O</td>\n      <td>12.321429</td>\n      <td>4</td>\n      <td>14.008885</td>\n      <td>10.537147</td>\n      <td>...</td>\n      <td>10.190582</td>\n      <td>51.083298</td>\n      <td>218.073165</td>\n      <td>8.076784</td>\n      <td>428</td>\n      <td>33</td>\n      <td>100.0</td>\n      <td>125.0</td>\n      <td>4.027778</td>\n      <td>3.583333</td>\n    </tr>\n    <tr>\n      <th>2</th>\n      <td>1-hydroxypyrene</td>\n      <td>HILIC</td>\n      <td>Acetonitrile</td>\n      <td>3.0</td>\n      <td>Formic acid</td>\n      <td>c1cc2ccc3ccc(c4ccc(c1)c2c34)O</td>\n      <td>1.857143</td>\n      <td>1</td>\n      <td>14.008885</td>\n      <td>10.537147</td>\n      <td>...</td>\n      <td>10.190582</td>\n      <td>51.083298</td>\n      <td>218.073165</td>\n      <td>8.076784</td>\n      <td>428</td>\n      <td>33</td>\n      <td>100.0</td>\n      <td>125.0</td>\n      <td>4.027778</td>\n      <td>3.583333</td>\n    </tr>\n    <tr>\n      <th>4</th>\n      <td>1-hydroxypyrene</td>\n      <td>HILIC</td>\n      <td>Acetonitrile</td>\n      <td>5.0</td>\n      <td>Formic acid</td>\n      <td>c1cc2ccc3ccc(c4ccc(c1)c2c34)O</td>\n      <td>1.851429</td>\n      <td>1</td>\n      <td>14.008885</td>\n      <td>10.537147</td>\n      <td>...</td>\n      <td>10.190582</td>\n      <td>51.083298</td>\n      <td>218.073165</td>\n      <td>8.076784</td>\n      <td>428</td>\n      <td>33</td>\n      <td>100.0</td>\n      <td>125.0</td>\n      <td>4.027778</td>\n      <td>3.583333</td>\n    </tr>\n    <tr>\n      <th>5</th>\n      <td>1-hydroxypyrene</td>\n      <td>HILIC</td>\n      <td>Acetonitrile</td>\n      <td>6.7</td>\n      <td>Formic acid</td>\n      <td>c1cc2ccc3ccc(c4ccc(c1)c2c34)O</td>\n      <td>1.930000</td>\n      <td>1</td>\n      <td>14.008885</td>\n      <td>10.537147</td>\n      <td>...</td>\n      <td>10.190582</td>\n      <td>51.083298</td>\n      <td>218.073165</td>\n      <td>8.076784</td>\n      <td>428</td>\n      <td>33</td>\n      <td>100.0</td>\n      <td>125.0</td>\n      <td>4.027778</td>\n      <td>3.583333</td>\n    </tr>\n    <tr>\n      <th>...</th>\n      <td>...</td>\n      <td>...</td>\n      <td>...</td>\n      <td>...</td>\n      <td>...</td>\n      <td>...</td>\n      <td>...</td>\n      <td>...</td>\n      <td>...</td>\n      <td>...</td>\n      <td>...</td>\n      <td>...</td>\n      <td>...</td>\n      <td>...</td>\n      <td>...</td>\n      <td>...</td>\n      <td>...</td>\n      <td>...</td>\n      <td>...</td>\n      <td>...</td>\n      <td>...</td>\n    </tr>\n    <tr>\n      <th>829</th>\n      <td>Valsartan</td>\n      <td>HILIC</td>\n      <td>Acetonitrile</td>\n      <td>3.0</td>\n      <td>Formic acid</td>\n      <td>CCCCC(=O)N(Cc1ccc(cc1)c1ccccc1c1n[nH]nn1)[C@@H...</td>\n      <td>1.910000</td>\n      <td>1</td>\n      <td>24.305499</td>\n      <td>20.006308</td>\n      <td>...</td>\n      <td>10.252700</td>\n      <td>80.792385</td>\n      <td>435.227040</td>\n      <td>7.134870</td>\n      <td>3122</td>\n      <td>49</td>\n      <td>160.0</td>\n      <td>186.0</td>\n      <td>11.111111</td>\n      <td>7.277778</td>\n    </tr>\n    <tr>\n      <th>832</th>\n      <td>Valsartan</td>\n      <td>HILIC</td>\n      <td>Methanol</td>\n      <td>2.7</td>\n      <td>Formic acid</td>\n      <td>CCCCC(=O)N(Cc1ccc(cc1)c1ccccc1c1n[nH]nn1)[C@@H...</td>\n      <td>1.808571</td>\n      <td>1</td>\n      <td>24.305499</td>\n      <td>20.006308</td>\n      <td>...</td>\n      <td>10.252700</td>\n      <td>80.792385</td>\n      <td>435.227040</td>\n      <td>7.134870</td>\n      <td>3122</td>\n      <td>49</td>\n      <td>160.0</td>\n      <td>186.0</td>\n      <td>11.111111</td>\n      <td>7.277778</td>\n    </tr>\n    <tr>\n      <th>833</th>\n      <td>Valsartan</td>\n      <td>HILIC</td>\n      <td>Methanol</td>\n      <td>3.0</td>\n      <td>Formic acid</td>\n      <td>CCCCC(=O)N(Cc1ccc(cc1)c1ccccc1c1n[nH]nn1)[C@@H...</td>\n      <td>1.790000</td>\n      <td>1</td>\n      <td>24.305499</td>\n      <td>20.006308</td>\n      <td>...</td>\n      <td>10.252700</td>\n      <td>80.792385</td>\n      <td>435.227040</td>\n      <td>7.134870</td>\n      <td>3122</td>\n      <td>49</td>\n      <td>160.0</td>\n      <td>186.0</td>\n      <td>11.111111</td>\n      <td>7.277778</td>\n    </tr>\n    <tr>\n      <th>834</th>\n      <td>Valsartan</td>\n      <td>HILIC</td>\n      <td>Methanol</td>\n      <td>5.0</td>\n      <td>Acetic acid</td>\n      <td>CCCCC(=O)N(Cc1ccc(cc1)c1ccccc1c1n[nH]nn1)[C@@H...</td>\n      <td>1.433333</td>\n      <td>0</td>\n      <td>24.305499</td>\n      <td>20.006308</td>\n      <td>...</td>\n      <td>10.252700</td>\n      <td>80.792385</td>\n      <td>435.227040</td>\n      <td>7.134870</td>\n      <td>3122</td>\n      <td>49</td>\n      <td>160.0</td>\n      <td>186.0</td>\n      <td>11.111111</td>\n      <td>7.277778</td>\n    </tr>\n    <tr>\n      <th>835</th>\n      <td>Valsartan</td>\n      <td>HILIC</td>\n      <td>Methanol</td>\n      <td>5.0</td>\n      <td>Formic acid</td>\n      <td>CCCCC(=O)N(Cc1ccc(cc1)c1ccccc1c1n[nH]nn1)[C@@H...</td>\n      <td>1.463333</td>\n      <td>0</td>\n      <td>24.305499</td>\n      <td>20.006308</td>\n      <td>...</td>\n      <td>10.252700</td>\n      <td>80.792385</td>\n      <td>435.227040</td>\n      <td>7.134870</td>\n      <td>3122</td>\n      <td>49</td>\n      <td>160.0</td>\n      <td>186.0</td>\n      <td>11.111111</td>\n      <td>7.277778</td>\n    </tr>\n  </tbody>\n</table>\n<p>760 rows × 1334 columns</p>\n</div>"
     },
     "execution_count": 9,
     "metadata": {},
     "output_type": "execute_result"
    }
   ],
   "source": [
    "data_confirmed"
   ],
   "metadata": {
    "collapsed": false,
    "pycharm": {
     "name": "#%%\n"
    }
   }
  },
  {
   "cell_type": "code",
   "execution_count": 24,
   "outputs": [],
   "source": [
    "data_confirmed = data_confirmed.drop(['retention_time_cat'], axis = 1)"
   ],
   "metadata": {
    "collapsed": false,
    "pycharm": {
     "name": "#%%\n"
    }
   }
  },
  {
   "cell_type": "code",
   "execution_count": 40,
   "outputs": [
    {
     "data": {
      "text/plain": "       Compound_name Column Organic_modifier   pH       Buffer  \\\n0    1-hydroxypyrene  HILIC     Acetonitrile  2.7  Formic acid   \n1    1-hydroxypyrene  HILIC     Acetonitrile  3.0  Acetic acid   \n2    1-hydroxypyrene  HILIC     Acetonitrile  3.0  Formic acid   \n3    1-hydroxypyrene  HILIC     Acetonitrile  5.0  Acetic acid   \n4    1-hydroxypyrene  HILIC     Acetonitrile  5.0  Formic acid   \n..               ...    ...              ...  ...          ...   \n831        Valsartan  HILIC     Acetonitrile  5.0  Formic acid   \n832        Valsartan  HILIC         Methanol  2.7  Formic acid   \n833        Valsartan  HILIC         Methanol  3.0  Formic acid   \n834        Valsartan  HILIC         Methanol  5.0  Acetic acid   \n835        Valsartan  HILIC         Methanol  5.0  Formic acid   \n\n                                                SMILES  retention_time  \\\n0                        c1cc2ccc3ccc(c4ccc(c1)c2c34)O        1.822857   \n1                        c1cc2ccc3ccc(c4ccc(c1)c2c34)O       12.321429   \n2                        c1cc2ccc3ccc(c4ccc(c1)c2c34)O        1.857143   \n3                        c1cc2ccc3ccc(c4ccc(c1)c2c34)O        1.850000   \n4                        c1cc2ccc3ccc(c4ccc(c1)c2c34)O        1.851429   \n..                                                 ...             ...   \n831  CCCCC(=O)N(Cc1ccc(cc1)c1ccccc1c1n[nH]nn1)[C@@H...        3.177143   \n832  CCCCC(=O)N(Cc1ccc(cc1)c1ccccc1c1n[nH]nn1)[C@@H...        1.808571   \n833  CCCCC(=O)N(Cc1ccc(cc1)c1ccccc1c1n[nH]nn1)[C@@H...        1.790000   \n834  CCCCC(=O)N(Cc1ccc(cc1)c1ccccc1c1n[nH]nn1)[C@@H...        1.433333   \n835  CCCCC(=O)N(Cc1ccc(cc1)c1ccccc1c1n[nH]nn1)[C@@H...        1.463333   \n\n           ABC      ABCGG  nAcid  ...      SRW10     TSRW10          MW  \\\n0    14.008885  10.537147      0  ...  10.190582  51.083298  218.073165   \n1    14.008885  10.537147      0  ...  10.190582  51.083298  218.073165   \n2    14.008885  10.537147      0  ...  10.190582  51.083298  218.073165   \n3    14.008885  10.537147      0  ...  10.190582  51.083298  218.073165   \n4    14.008885  10.537147      0  ...  10.190582  51.083298  218.073165   \n..         ...        ...    ...  ...        ...        ...         ...   \n831  24.305499  20.006308      3  ...  10.252700  80.792385  435.227040   \n832  24.305499  20.006308      3  ...  10.252700  80.792385  435.227040   \n833  24.305499  20.006308      3  ...  10.252700  80.792385  435.227040   \n834  24.305499  20.006308      3  ...  10.252700  80.792385  435.227040   \n835  24.305499  20.006308      3  ...  10.252700  80.792385  435.227040   \n\n          AMW  WPath  WPol  Zagreb1  Zagreb2   mZagreb1  mZagreb2  \n0    8.076784    428    33    100.0    125.0   4.027778  3.583333  \n1    8.076784    428    33    100.0    125.0   4.027778  3.583333  \n2    8.076784    428    33    100.0    125.0   4.027778  3.583333  \n3    8.076784    428    33    100.0    125.0   4.027778  3.583333  \n4    8.076784    428    33    100.0    125.0   4.027778  3.583333  \n..        ...    ...   ...      ...      ...        ...       ...  \n831  7.134870   3122    49    160.0    186.0  11.111111  7.277778  \n832  7.134870   3122    49    160.0    186.0  11.111111  7.277778  \n833  7.134870   3122    49    160.0    186.0  11.111111  7.277778  \n834  7.134870   3122    49    160.0    186.0  11.111111  7.277778  \n835  7.134870   3122    49    160.0    186.0  11.111111  7.277778  \n\n[836 rows x 1620 columns]",
      "text/html": "<div>\n<style scoped>\n    .dataframe tbody tr th:only-of-type {\n        vertical-align: middle;\n    }\n\n    .dataframe tbody tr th {\n        vertical-align: top;\n    }\n\n    .dataframe thead th {\n        text-align: right;\n    }\n</style>\n<table border=\"1\" class=\"dataframe\">\n  <thead>\n    <tr style=\"text-align: right;\">\n      <th></th>\n      <th>Compound_name</th>\n      <th>Column</th>\n      <th>Organic_modifier</th>\n      <th>pH</th>\n      <th>Buffer</th>\n      <th>SMILES</th>\n      <th>retention_time</th>\n      <th>ABC</th>\n      <th>ABCGG</th>\n      <th>nAcid</th>\n      <th>...</th>\n      <th>SRW10</th>\n      <th>TSRW10</th>\n      <th>MW</th>\n      <th>AMW</th>\n      <th>WPath</th>\n      <th>WPol</th>\n      <th>Zagreb1</th>\n      <th>Zagreb2</th>\n      <th>mZagreb1</th>\n      <th>mZagreb2</th>\n    </tr>\n  </thead>\n  <tbody>\n    <tr>\n      <th>0</th>\n      <td>1-hydroxypyrene</td>\n      <td>HILIC</td>\n      <td>Acetonitrile</td>\n      <td>2.7</td>\n      <td>Formic acid</td>\n      <td>c1cc2ccc3ccc(c4ccc(c1)c2c34)O</td>\n      <td>1.822857</td>\n      <td>14.008885</td>\n      <td>10.537147</td>\n      <td>0</td>\n      <td>...</td>\n      <td>10.190582</td>\n      <td>51.083298</td>\n      <td>218.073165</td>\n      <td>8.076784</td>\n      <td>428</td>\n      <td>33</td>\n      <td>100.0</td>\n      <td>125.0</td>\n      <td>4.027778</td>\n      <td>3.583333</td>\n    </tr>\n    <tr>\n      <th>1</th>\n      <td>1-hydroxypyrene</td>\n      <td>HILIC</td>\n      <td>Acetonitrile</td>\n      <td>3.0</td>\n      <td>Acetic acid</td>\n      <td>c1cc2ccc3ccc(c4ccc(c1)c2c34)O</td>\n      <td>12.321429</td>\n      <td>14.008885</td>\n      <td>10.537147</td>\n      <td>0</td>\n      <td>...</td>\n      <td>10.190582</td>\n      <td>51.083298</td>\n      <td>218.073165</td>\n      <td>8.076784</td>\n      <td>428</td>\n      <td>33</td>\n      <td>100.0</td>\n      <td>125.0</td>\n      <td>4.027778</td>\n      <td>3.583333</td>\n    </tr>\n    <tr>\n      <th>2</th>\n      <td>1-hydroxypyrene</td>\n      <td>HILIC</td>\n      <td>Acetonitrile</td>\n      <td>3.0</td>\n      <td>Formic acid</td>\n      <td>c1cc2ccc3ccc(c4ccc(c1)c2c34)O</td>\n      <td>1.857143</td>\n      <td>14.008885</td>\n      <td>10.537147</td>\n      <td>0</td>\n      <td>...</td>\n      <td>10.190582</td>\n      <td>51.083298</td>\n      <td>218.073165</td>\n      <td>8.076784</td>\n      <td>428</td>\n      <td>33</td>\n      <td>100.0</td>\n      <td>125.0</td>\n      <td>4.027778</td>\n      <td>3.583333</td>\n    </tr>\n    <tr>\n      <th>3</th>\n      <td>1-hydroxypyrene</td>\n      <td>HILIC</td>\n      <td>Acetonitrile</td>\n      <td>5.0</td>\n      <td>Acetic acid</td>\n      <td>c1cc2ccc3ccc(c4ccc(c1)c2c34)O</td>\n      <td>1.850000</td>\n      <td>14.008885</td>\n      <td>10.537147</td>\n      <td>0</td>\n      <td>...</td>\n      <td>10.190582</td>\n      <td>51.083298</td>\n      <td>218.073165</td>\n      <td>8.076784</td>\n      <td>428</td>\n      <td>33</td>\n      <td>100.0</td>\n      <td>125.0</td>\n      <td>4.027778</td>\n      <td>3.583333</td>\n    </tr>\n    <tr>\n      <th>4</th>\n      <td>1-hydroxypyrene</td>\n      <td>HILIC</td>\n      <td>Acetonitrile</td>\n      <td>5.0</td>\n      <td>Formic acid</td>\n      <td>c1cc2ccc3ccc(c4ccc(c1)c2c34)O</td>\n      <td>1.851429</td>\n      <td>14.008885</td>\n      <td>10.537147</td>\n      <td>0</td>\n      <td>...</td>\n      <td>10.190582</td>\n      <td>51.083298</td>\n      <td>218.073165</td>\n      <td>8.076784</td>\n      <td>428</td>\n      <td>33</td>\n      <td>100.0</td>\n      <td>125.0</td>\n      <td>4.027778</td>\n      <td>3.583333</td>\n    </tr>\n    <tr>\n      <th>...</th>\n      <td>...</td>\n      <td>...</td>\n      <td>...</td>\n      <td>...</td>\n      <td>...</td>\n      <td>...</td>\n      <td>...</td>\n      <td>...</td>\n      <td>...</td>\n      <td>...</td>\n      <td>...</td>\n      <td>...</td>\n      <td>...</td>\n      <td>...</td>\n      <td>...</td>\n      <td>...</td>\n      <td>...</td>\n      <td>...</td>\n      <td>...</td>\n      <td>...</td>\n      <td>...</td>\n    </tr>\n    <tr>\n      <th>831</th>\n      <td>Valsartan</td>\n      <td>HILIC</td>\n      <td>Acetonitrile</td>\n      <td>5.0</td>\n      <td>Formic acid</td>\n      <td>CCCCC(=O)N(Cc1ccc(cc1)c1ccccc1c1n[nH]nn1)[C@@H...</td>\n      <td>3.177143</td>\n      <td>24.305499</td>\n      <td>20.006308</td>\n      <td>3</td>\n      <td>...</td>\n      <td>10.252700</td>\n      <td>80.792385</td>\n      <td>435.227040</td>\n      <td>7.134870</td>\n      <td>3122</td>\n      <td>49</td>\n      <td>160.0</td>\n      <td>186.0</td>\n      <td>11.111111</td>\n      <td>7.277778</td>\n    </tr>\n    <tr>\n      <th>832</th>\n      <td>Valsartan</td>\n      <td>HILIC</td>\n      <td>Methanol</td>\n      <td>2.7</td>\n      <td>Formic acid</td>\n      <td>CCCCC(=O)N(Cc1ccc(cc1)c1ccccc1c1n[nH]nn1)[C@@H...</td>\n      <td>1.808571</td>\n      <td>24.305499</td>\n      <td>20.006308</td>\n      <td>3</td>\n      <td>...</td>\n      <td>10.252700</td>\n      <td>80.792385</td>\n      <td>435.227040</td>\n      <td>7.134870</td>\n      <td>3122</td>\n      <td>49</td>\n      <td>160.0</td>\n      <td>186.0</td>\n      <td>11.111111</td>\n      <td>7.277778</td>\n    </tr>\n    <tr>\n      <th>833</th>\n      <td>Valsartan</td>\n      <td>HILIC</td>\n      <td>Methanol</td>\n      <td>3.0</td>\n      <td>Formic acid</td>\n      <td>CCCCC(=O)N(Cc1ccc(cc1)c1ccccc1c1n[nH]nn1)[C@@H...</td>\n      <td>1.790000</td>\n      <td>24.305499</td>\n      <td>20.006308</td>\n      <td>3</td>\n      <td>...</td>\n      <td>10.252700</td>\n      <td>80.792385</td>\n      <td>435.227040</td>\n      <td>7.134870</td>\n      <td>3122</td>\n      <td>49</td>\n      <td>160.0</td>\n      <td>186.0</td>\n      <td>11.111111</td>\n      <td>7.277778</td>\n    </tr>\n    <tr>\n      <th>834</th>\n      <td>Valsartan</td>\n      <td>HILIC</td>\n      <td>Methanol</td>\n      <td>5.0</td>\n      <td>Acetic acid</td>\n      <td>CCCCC(=O)N(Cc1ccc(cc1)c1ccccc1c1n[nH]nn1)[C@@H...</td>\n      <td>1.433333</td>\n      <td>24.305499</td>\n      <td>20.006308</td>\n      <td>3</td>\n      <td>...</td>\n      <td>10.252700</td>\n      <td>80.792385</td>\n      <td>435.227040</td>\n      <td>7.134870</td>\n      <td>3122</td>\n      <td>49</td>\n      <td>160.0</td>\n      <td>186.0</td>\n      <td>11.111111</td>\n      <td>7.277778</td>\n    </tr>\n    <tr>\n      <th>835</th>\n      <td>Valsartan</td>\n      <td>HILIC</td>\n      <td>Methanol</td>\n      <td>5.0</td>\n      <td>Formic acid</td>\n      <td>CCCCC(=O)N(Cc1ccc(cc1)c1ccccc1c1n[nH]nn1)[C@@H...</td>\n      <td>1.463333</td>\n      <td>24.305499</td>\n      <td>20.006308</td>\n      <td>3</td>\n      <td>...</td>\n      <td>10.252700</td>\n      <td>80.792385</td>\n      <td>435.227040</td>\n      <td>7.134870</td>\n      <td>3122</td>\n      <td>49</td>\n      <td>160.0</td>\n      <td>186.0</td>\n      <td>11.111111</td>\n      <td>7.277778</td>\n    </tr>\n  </tbody>\n</table>\n<p>836 rows × 1620 columns</p>\n</div>"
     },
     "execution_count": 40,
     "metadata": {},
     "output_type": "execute_result"
    }
   ],
   "source": [
    "data"
   ],
   "metadata": {
    "collapsed": false,
    "pycharm": {
     "name": "#%%\n"
    }
   }
  },
  {
   "cell_type": "code",
   "execution_count": 41,
   "outputs": [
    {
     "data": {
      "text/plain": "       Compound_name Column Organic_modifier   pH       Buffer  \\\n0    1-hydroxypyrene  HILIC     Acetonitrile  2.7  Formic acid   \n2    1-hydroxypyrene  HILIC     Acetonitrile  3.0  Formic acid   \n3    1-hydroxypyrene  HILIC     Acetonitrile  5.0  Acetic acid   \n4    1-hydroxypyrene  HILIC     Acetonitrile  5.0  Formic acid   \n5    1-hydroxypyrene  HILIC     Acetonitrile  6.7  Formic acid   \n..               ...    ...              ...  ...          ...   \n831        Valsartan  HILIC     Acetonitrile  5.0  Formic acid   \n832        Valsartan  HILIC         Methanol  2.7  Formic acid   \n833        Valsartan  HILIC         Methanol  3.0  Formic acid   \n834        Valsartan  HILIC         Methanol  5.0  Acetic acid   \n835        Valsartan  HILIC         Methanol  5.0  Formic acid   \n\n                                                SMILES  retention_time  \\\n0                        c1cc2ccc3ccc(c4ccc(c1)c2c34)O        1.822857   \n2                        c1cc2ccc3ccc(c4ccc(c1)c2c34)O        1.857143   \n3                        c1cc2ccc3ccc(c4ccc(c1)c2c34)O        1.850000   \n4                        c1cc2ccc3ccc(c4ccc(c1)c2c34)O        1.851429   \n5                        c1cc2ccc3ccc(c4ccc(c1)c2c34)O        1.930000   \n..                                                 ...             ...   \n831  CCCCC(=O)N(Cc1ccc(cc1)c1ccccc1c1n[nH]nn1)[C@@H...        3.177143   \n832  CCCCC(=O)N(Cc1ccc(cc1)c1ccccc1c1n[nH]nn1)[C@@H...        1.808571   \n833  CCCCC(=O)N(Cc1ccc(cc1)c1ccccc1c1n[nH]nn1)[C@@H...        1.790000   \n834  CCCCC(=O)N(Cc1ccc(cc1)c1ccccc1c1n[nH]nn1)[C@@H...        1.433333   \n835  CCCCC(=O)N(Cc1ccc(cc1)c1ccccc1c1n[nH]nn1)[C@@H...        1.463333   \n\n           ABC      ABCGG  nAcid  ...     TSRW10          MW       AMW  WPath  \\\n0    14.008885  10.537147      0  ...  51.083298  218.073165  8.076784    428   \n2    14.008885  10.537147      0  ...  51.083298  218.073165  8.076784    428   \n3    14.008885  10.537147      0  ...  51.083298  218.073165  8.076784    428   \n4    14.008885  10.537147      0  ...  51.083298  218.073165  8.076784    428   \n5    14.008885  10.537147      0  ...  51.083298  218.073165  8.076784    428   \n..         ...        ...    ...  ...        ...         ...       ...    ...   \n831  24.305499  20.006308      3  ...  80.792385  435.227040  7.134870   3122   \n832  24.305499  20.006308      3  ...  80.792385  435.227040  7.134870   3122   \n833  24.305499  20.006308      3  ...  80.792385  435.227040  7.134870   3122   \n834  24.305499  20.006308      3  ...  80.792385  435.227040  7.134870   3122   \n835  24.305499  20.006308      3  ...  80.792385  435.227040  7.134870   3122   \n\n     WPol  Zagreb1  Zagreb2   mZagreb1  mZagreb2  split_index  \n0      33    100.0    125.0   4.027778  3.583333            1  \n2      33    100.0    125.0   4.027778  3.583333            2  \n3      33    100.0    125.0   4.027778  3.583333            1  \n4      33    100.0    125.0   4.027778  3.583333            2  \n5      33    100.0    125.0   4.027778  3.583333            1  \n..    ...      ...      ...        ...       ...          ...  \n831    49    160.0    186.0  11.111111  7.277778            1  \n832    49    160.0    186.0  11.111111  7.277778            2  \n833    49    160.0    186.0  11.111111  7.277778            1  \n834    49    160.0    186.0  11.111111  7.277778            1  \n835    49    160.0    186.0  11.111111  7.277778            1  \n\n[765 rows x 1621 columns]",
      "text/html": "<div>\n<style scoped>\n    .dataframe tbody tr th:only-of-type {\n        vertical-align: middle;\n    }\n\n    .dataframe tbody tr th {\n        vertical-align: top;\n    }\n\n    .dataframe thead th {\n        text-align: right;\n    }\n</style>\n<table border=\"1\" class=\"dataframe\">\n  <thead>\n    <tr style=\"text-align: right;\">\n      <th></th>\n      <th>Compound_name</th>\n      <th>Column</th>\n      <th>Organic_modifier</th>\n      <th>pH</th>\n      <th>Buffer</th>\n      <th>SMILES</th>\n      <th>retention_time</th>\n      <th>ABC</th>\n      <th>ABCGG</th>\n      <th>nAcid</th>\n      <th>...</th>\n      <th>TSRW10</th>\n      <th>MW</th>\n      <th>AMW</th>\n      <th>WPath</th>\n      <th>WPol</th>\n      <th>Zagreb1</th>\n      <th>Zagreb2</th>\n      <th>mZagreb1</th>\n      <th>mZagreb2</th>\n      <th>split_index</th>\n    </tr>\n  </thead>\n  <tbody>\n    <tr>\n      <th>0</th>\n      <td>1-hydroxypyrene</td>\n      <td>HILIC</td>\n      <td>Acetonitrile</td>\n      <td>2.7</td>\n      <td>Formic acid</td>\n      <td>c1cc2ccc3ccc(c4ccc(c1)c2c34)O</td>\n      <td>1.822857</td>\n      <td>14.008885</td>\n      <td>10.537147</td>\n      <td>0</td>\n      <td>...</td>\n      <td>51.083298</td>\n      <td>218.073165</td>\n      <td>8.076784</td>\n      <td>428</td>\n      <td>33</td>\n      <td>100.0</td>\n      <td>125.0</td>\n      <td>4.027778</td>\n      <td>3.583333</td>\n      <td>1</td>\n    </tr>\n    <tr>\n      <th>2</th>\n      <td>1-hydroxypyrene</td>\n      <td>HILIC</td>\n      <td>Acetonitrile</td>\n      <td>3.0</td>\n      <td>Formic acid</td>\n      <td>c1cc2ccc3ccc(c4ccc(c1)c2c34)O</td>\n      <td>1.857143</td>\n      <td>14.008885</td>\n      <td>10.537147</td>\n      <td>0</td>\n      <td>...</td>\n      <td>51.083298</td>\n      <td>218.073165</td>\n      <td>8.076784</td>\n      <td>428</td>\n      <td>33</td>\n      <td>100.0</td>\n      <td>125.0</td>\n      <td>4.027778</td>\n      <td>3.583333</td>\n      <td>2</td>\n    </tr>\n    <tr>\n      <th>3</th>\n      <td>1-hydroxypyrene</td>\n      <td>HILIC</td>\n      <td>Acetonitrile</td>\n      <td>5.0</td>\n      <td>Acetic acid</td>\n      <td>c1cc2ccc3ccc(c4ccc(c1)c2c34)O</td>\n      <td>1.850000</td>\n      <td>14.008885</td>\n      <td>10.537147</td>\n      <td>0</td>\n      <td>...</td>\n      <td>51.083298</td>\n      <td>218.073165</td>\n      <td>8.076784</td>\n      <td>428</td>\n      <td>33</td>\n      <td>100.0</td>\n      <td>125.0</td>\n      <td>4.027778</td>\n      <td>3.583333</td>\n      <td>1</td>\n    </tr>\n    <tr>\n      <th>4</th>\n      <td>1-hydroxypyrene</td>\n      <td>HILIC</td>\n      <td>Acetonitrile</td>\n      <td>5.0</td>\n      <td>Formic acid</td>\n      <td>c1cc2ccc3ccc(c4ccc(c1)c2c34)O</td>\n      <td>1.851429</td>\n      <td>14.008885</td>\n      <td>10.537147</td>\n      <td>0</td>\n      <td>...</td>\n      <td>51.083298</td>\n      <td>218.073165</td>\n      <td>8.076784</td>\n      <td>428</td>\n      <td>33</td>\n      <td>100.0</td>\n      <td>125.0</td>\n      <td>4.027778</td>\n      <td>3.583333</td>\n      <td>2</td>\n    </tr>\n    <tr>\n      <th>5</th>\n      <td>1-hydroxypyrene</td>\n      <td>HILIC</td>\n      <td>Acetonitrile</td>\n      <td>6.7</td>\n      <td>Formic acid</td>\n      <td>c1cc2ccc3ccc(c4ccc(c1)c2c34)O</td>\n      <td>1.930000</td>\n      <td>14.008885</td>\n      <td>10.537147</td>\n      <td>0</td>\n      <td>...</td>\n      <td>51.083298</td>\n      <td>218.073165</td>\n      <td>8.076784</td>\n      <td>428</td>\n      <td>33</td>\n      <td>100.0</td>\n      <td>125.0</td>\n      <td>4.027778</td>\n      <td>3.583333</td>\n      <td>1</td>\n    </tr>\n    <tr>\n      <th>...</th>\n      <td>...</td>\n      <td>...</td>\n      <td>...</td>\n      <td>...</td>\n      <td>...</td>\n      <td>...</td>\n      <td>...</td>\n      <td>...</td>\n      <td>...</td>\n      <td>...</td>\n      <td>...</td>\n      <td>...</td>\n      <td>...</td>\n      <td>...</td>\n      <td>...</td>\n      <td>...</td>\n      <td>...</td>\n      <td>...</td>\n      <td>...</td>\n      <td>...</td>\n      <td>...</td>\n    </tr>\n    <tr>\n      <th>831</th>\n      <td>Valsartan</td>\n      <td>HILIC</td>\n      <td>Acetonitrile</td>\n      <td>5.0</td>\n      <td>Formic acid</td>\n      <td>CCCCC(=O)N(Cc1ccc(cc1)c1ccccc1c1n[nH]nn1)[C@@H...</td>\n      <td>3.177143</td>\n      <td>24.305499</td>\n      <td>20.006308</td>\n      <td>3</td>\n      <td>...</td>\n      <td>80.792385</td>\n      <td>435.227040</td>\n      <td>7.134870</td>\n      <td>3122</td>\n      <td>49</td>\n      <td>160.0</td>\n      <td>186.0</td>\n      <td>11.111111</td>\n      <td>7.277778</td>\n      <td>1</td>\n    </tr>\n    <tr>\n      <th>832</th>\n      <td>Valsartan</td>\n      <td>HILIC</td>\n      <td>Methanol</td>\n      <td>2.7</td>\n      <td>Formic acid</td>\n      <td>CCCCC(=O)N(Cc1ccc(cc1)c1ccccc1c1n[nH]nn1)[C@@H...</td>\n      <td>1.808571</td>\n      <td>24.305499</td>\n      <td>20.006308</td>\n      <td>3</td>\n      <td>...</td>\n      <td>80.792385</td>\n      <td>435.227040</td>\n      <td>7.134870</td>\n      <td>3122</td>\n      <td>49</td>\n      <td>160.0</td>\n      <td>186.0</td>\n      <td>11.111111</td>\n      <td>7.277778</td>\n      <td>2</td>\n    </tr>\n    <tr>\n      <th>833</th>\n      <td>Valsartan</td>\n      <td>HILIC</td>\n      <td>Methanol</td>\n      <td>3.0</td>\n      <td>Formic acid</td>\n      <td>CCCCC(=O)N(Cc1ccc(cc1)c1ccccc1c1n[nH]nn1)[C@@H...</td>\n      <td>1.790000</td>\n      <td>24.305499</td>\n      <td>20.006308</td>\n      <td>3</td>\n      <td>...</td>\n      <td>80.792385</td>\n      <td>435.227040</td>\n      <td>7.134870</td>\n      <td>3122</td>\n      <td>49</td>\n      <td>160.0</td>\n      <td>186.0</td>\n      <td>11.111111</td>\n      <td>7.277778</td>\n      <td>1</td>\n    </tr>\n    <tr>\n      <th>834</th>\n      <td>Valsartan</td>\n      <td>HILIC</td>\n      <td>Methanol</td>\n      <td>5.0</td>\n      <td>Acetic acid</td>\n      <td>CCCCC(=O)N(Cc1ccc(cc1)c1ccccc1c1n[nH]nn1)[C@@H...</td>\n      <td>1.433333</td>\n      <td>24.305499</td>\n      <td>20.006308</td>\n      <td>3</td>\n      <td>...</td>\n      <td>80.792385</td>\n      <td>435.227040</td>\n      <td>7.134870</td>\n      <td>3122</td>\n      <td>49</td>\n      <td>160.0</td>\n      <td>186.0</td>\n      <td>11.111111</td>\n      <td>7.277778</td>\n      <td>1</td>\n    </tr>\n    <tr>\n      <th>835</th>\n      <td>Valsartan</td>\n      <td>HILIC</td>\n      <td>Methanol</td>\n      <td>5.0</td>\n      <td>Formic acid</td>\n      <td>CCCCC(=O)N(Cc1ccc(cc1)c1ccccc1c1n[nH]nn1)[C@@H...</td>\n      <td>1.463333</td>\n      <td>24.305499</td>\n      <td>20.006308</td>\n      <td>3</td>\n      <td>...</td>\n      <td>80.792385</td>\n      <td>435.227040</td>\n      <td>7.134870</td>\n      <td>3122</td>\n      <td>49</td>\n      <td>160.0</td>\n      <td>186.0</td>\n      <td>11.111111</td>\n      <td>7.277778</td>\n      <td>1</td>\n    </tr>\n  </tbody>\n</table>\n<p>765 rows × 1621 columns</p>\n</div>"
     },
     "execution_count": 41,
     "metadata": {},
     "output_type": "execute_result"
    }
   ],
   "source": [
    "data_confirmed"
   ],
   "metadata": {
    "collapsed": false,
    "pycharm": {
     "name": "#%%\n"
    }
   }
  },
  {
   "cell_type": "code",
   "execution_count": 528,
   "outputs": [
    {
     "data": {
      "text/plain": "(836, 1333)"
     },
     "execution_count": 528,
     "metadata": {},
     "output_type": "execute_result"
    }
   ],
   "source": [
    "data.shape"
   ],
   "metadata": {
    "collapsed": false,
    "pycharm": {
     "name": "#%%\n"
    }
   }
  },
  {
   "cell_type": "code",
   "execution_count": 25,
   "outputs": [],
   "source": [
    "data.to_csv(\"data/MultiRT/hilic_data_raw.csv\", index = False)"
   ],
   "metadata": {
    "collapsed": false,
    "pycharm": {
     "name": "#%%\n"
    }
   }
  },
  {
   "cell_type": "code",
   "execution_count": 26,
   "outputs": [],
   "source": [
    "data_confirmed.to_csv(\"data/MultiRT/hilic_data_confirmed.csv\", index = False)"
   ],
   "metadata": {
    "collapsed": false,
    "pycharm": {
     "name": "#%%\n"
    }
   }
  },
  {
   "cell_type": "code",
   "execution_count": 48,
   "outputs": [],
   "source": [
    "# train, test = data_prep.make_train_test(data_confirmed)\n",
    "train, test = data_prep.make_train_test(data)"
   ],
   "metadata": {
    "collapsed": false,
    "pycharm": {
     "name": "#%%\n"
    }
   }
  },
  {
   "cell_type": "code",
   "execution_count": 50,
   "outputs": [],
   "source": [
    "train=train.drop(['Compound_name'], axis = 1)\n",
    "test = test.drop(['Compound_name'], axis = 1)"
   ],
   "metadata": {
    "collapsed": false,
    "pycharm": {
     "name": "#%%\n"
    }
   }
  },
  {
   "cell_type": "code",
   "execution_count": 51,
   "outputs": [
    {
     "name": "stderr",
     "output_type": "stream",
     "text": [
      "Beginning AutoGluon training ...\n",
      "AutoGluon will save models to \"models/HILIC_raw/\"\n",
      "AutoGluon Version:  0.4.1b20220404\n",
      "Python Version:     3.9.10\n",
      "Operating System:   Darwin\n",
      "Train Data Rows:    667\n",
      "Train Data Columns: 1617\n",
      "Label Column: retention_time\n",
      "Preprocessing data ...\n",
      "AutoGluon infers your prediction problem is: 'regression' (because dtype of label-column == float and many unique label-values observed).\n",
      "\tLabel info (max, min, mean, stddev): (12.321428571428571, 1.0871428571428572, 2.62195, 1.68452)\n",
      "\tIf 'regression' is not the correct problem_type, please manually specify the problem_type parameter during predictor init (You may specify problem_type as one of: ['binary', 'multiclass', 'regression'])\n",
      "Using Feature Generators to preprocess the data ...\n",
      "Fitting AutoMLPipelineFeatureGenerator...\n",
      "\tAvailable Memory:                    5105.88 MB\n",
      "\tTrain Data (Original)  Memory Usage: 26.18 MB (0.5% of available memory)\n",
      "\tInferring data type of each feature based on column values. Set feature_metadata_in to manually specify special dtypes of the features.\n",
      "\tStage 1 Generators:\n",
      "\t\tFitting AsTypeFeatureGenerator...\n",
      "\t\t\tNote: Converting 68 features to boolean dtype as they only contain 2 unique values.\n",
      "\tStage 2 Generators:\n",
      "\t\tFitting FillNaFeatureGenerator...\n",
      "\tStage 3 Generators:\n",
      "\t\tFitting IdentityFeatureGenerator...\n",
      "\t\tFitting CategoryFeatureGenerator...\n",
      "\t\t\tFitting CategoryMemoryMinimizeFeatureGenerator...\n",
      "\tStage 4 Generators:\n",
      "\t\tFitting DropUniqueFeatureGenerator...\n",
      "\tUseless Original Features (Count: 292): ['Column', 'nBridgehead', 'nB', 'nBr', 'nI', 'SpAbs_Dt', 'SpMax_Dt', 'SpDiam_Dt', 'SpAD_Dt', 'SpMAD_Dt', 'LogEE_Dt', 'SM1_Dt', 'VE1_Dt', 'VE2_Dt', 'VE3_Dt', 'VR1_Dt', 'VR2_Dt', 'VR3_Dt', 'DetourIndex', 'NsLi', 'NssBe', 'NssssBe', 'NssBH', 'NsssB', 'NssssB', 'NddC', 'NsNH3', 'NssNH2', 'NsssNH', 'NssssN', 'NaaO', 'NsSiH3', 'NssSiH2', 'NsssSiH', 'NssssSi', 'NsPH2', 'NssPH', 'NsssP', 'NsssssP', 'NsGeH3', 'NssGeH2', 'NsssGeH', 'NssssGe', 'NsAsH2', 'NssAsH', 'NsssAs', 'NsssdAs', 'NsssssAs', 'NsSeH', 'NdSe', 'NssSe', 'NaaSe', 'NdssSe', 'NddssSe', 'NsBr', 'NsSnH3', 'NssSnH2', 'NsssSnH', 'NssssSn', 'NsI', 'NsPbH3', 'NssPbH2', 'NsssPbH', 'NssssPb', 'SsLi', 'SssBe', 'SssssBe', 'SssBH', 'SsssB', 'SssssB', 'SddC', 'SsNH3', 'SssNH2', 'SsssNH', 'SssssN', 'SaaO', 'SsSiH3', 'SssSiH2', 'SsssSiH', 'SssssSi', 'SsPH2', 'SssPH', 'SsssP', 'SsssssP', 'SsGeH3', 'SssGeH2', 'SsssGeH', 'SssssGe', 'SsAsH2', 'SssAsH', 'SsssAs', 'SsssdAs', 'SsssssAs', 'SsSeH', 'SdSe', 'SssSe', 'SaaSe', 'SdssSe', 'SddssSe', 'SsBr', 'SsSnH3', 'SssSnH2', 'SsssSnH', 'SssssSn', 'SsI', 'SsPbH3', 'SssPbH2', 'SsssPbH', 'SssssPb', 'MAXsLi', 'MAXssBe', 'MAXssssBe', 'MAXssBH', 'MAXsssB', 'MAXssssB', 'MAXddC', 'MAXsNH3', 'MAXssNH2', 'MAXsssNH', 'MAXssssN', 'MAXaaO', 'MAXsSiH3', 'MAXssSiH2', 'MAXsssSiH', 'MAXssssSi', 'MAXsPH2', 'MAXssPH', 'MAXsssP', 'MAXsssssP', 'MAXsGeH3', 'MAXssGeH2', 'MAXsssGeH', 'MAXssssGe', 'MAXsAsH2', 'MAXssAsH', 'MAXsssAs', 'MAXsssdAs', 'MAXsssssAs', 'MAXsSeH', 'MAXdSe', 'MAXssSe', 'MAXaaSe', 'MAXdssSe', 'MAXddssSe', 'MAXsBr', 'MAXsSnH3', 'MAXssSnH2', 'MAXsssSnH', 'MAXssssSn', 'MAXsI', 'MAXsPbH3', 'MAXssPbH2', 'MAXsssPbH', 'MAXssssPb', 'MINsLi', 'MINssBe', 'MINssssBe', 'MINssBH', 'MINsssB', 'MINssssB', 'MINddC', 'MINsNH3', 'MINssNH2', 'MINsssNH', 'MINssssN', 'MINaaO', 'MINsSiH3', 'MINssSiH2', 'MINsssSiH', 'MINssssSi', 'MINsPH2', 'MINssPH', 'MINsssP', 'MINsssssP', 'MINsGeH3', 'MINssGeH2', 'MINsssGeH', 'MINssssGe', 'MINsAsH2', 'MINssAsH', 'MINsssAs', 'MINsssdAs', 'MINsssssAs', 'MINsSeH', 'MINdSe', 'MINssSe', 'MINaaSe', 'MINdssSe', 'MINddssSe', 'MINsBr', 'MINsSnH3', 'MINssSnH2', 'MINsssSnH', 'MINssssSn', 'MINsI', 'MINsPbH3', 'MINssPbH2', 'MINsssPbH', 'MINssssPb', 'ETA_dPsi_B', 'SMR_VSA8', 'SlogP_VSA9', 'n4Ring', 'n8Ring', 'n9Ring', 'n10Ring', 'n11Ring', 'n12Ring', 'nG12Ring', 'n3HRing', 'n4HRing', 'n8HRing', 'n9HRing', 'n10HRing', 'n11HRing', 'n12HRing', 'nG12HRing', 'n3aRing', 'n4aRing', 'n7aRing', 'n8aRing', 'n9aRing', 'n10aRing', 'n11aRing', 'n12aRing', 'nG12aRing', 'n3aHRing', 'n4aHRing', 'n7aHRing', 'n8aHRing', 'n9aHRing', 'n10aHRing', 'n11aHRing', 'n12aHRing', 'nG12aHRing', 'n4ARing', 'n8ARing', 'n9ARing', 'n10ARing', 'n11ARing', 'n12ARing', 'nG12ARing', 'n3AHRing', 'n4AHRing', 'n8AHRing', 'n9AHRing', 'n10AHRing', 'n11AHRing', 'n12AHRing', 'nG12AHRing', 'n4FRing', 'n5FRing', 'n6FRing', 'n7FRing', 'n8FRing', 'n11FRing', 'n12FRing', 'n4FHRing', 'n5FHRing', 'n6FHRing', 'n7FHRing', 'n8FHRing', 'n11FHRing', 'n12FHRing', 'n4FaRing', 'n5FaRing', 'n6FaRing', 'n7FaRing', 'n8FaRing', 'n11FaRing', 'n12FaRing', 'n4FaHRing', 'n5FaHRing', 'n6FaHRing', 'n7FaHRing', 'n8FaHRing', 'n11FaHRing', 'n12FaHRing', 'n4FARing', 'n5FARing', 'n6FARing', 'n7FARing', 'n8FARing', 'n11FARing', 'n12FARing', 'n4FAHRing', 'n5FAHRing', 'n6FAHRing', 'n7FAHRing', 'n8FAHRing', 'n11FAHRing', 'n12FAHRing']\n",
      "\t\tThese features carry no predictive signal and should be manually investigated.\n",
      "\t\tThis is typically a feature which has the same value for all rows.\n",
      "\t\tThese features do not need to be present at inference time.\n",
      "\tTypes of features in original data (raw dtype, special dtypes):\n",
      "\t\t('bool', [])   :    2 | ['Lipinski', 'GhoseFilter']\n",
      "\t\t('float', [])  : 1003 | ['pH', 'ABC', 'ABCGG', 'SpAbs_A', 'SpMax_A', ...]\n",
      "\t\t('int', [])    :  135 | ['nAcid', 'nBase', 'nAromAtom', 'nAromBond', 'nAtom', ...]\n",
      "\t\t('object', []) :  185 | ['Organic_modifier', 'Buffer', 'AATS7dv', 'AATS8dv', 'AATS7d', ...]\n",
      "\tTypes of features in processed data (raw dtype, special dtypes):\n",
      "\t\t('category', [])  : 173 | ['AATS7dv', 'AATS8dv', 'AATS7d', 'AATS8d', 'AATS7s', ...]\n",
      "\t\t('float', [])     : 994 | ['pH', 'ABC', 'ABCGG', 'SpAbs_A', 'SpMax_A', ...]\n",
      "\t\t('int', [])       :  90 | ['nAcid', 'nBase', 'nAromAtom', 'nAromBond', 'nAtom', ...]\n",
      "\t\t('int', ['bool']) :  68 | ['Organic_modifier', 'Buffer', 'nSpiro', 'nP', 'nBondsT', ...]\n",
      "\t1.3s = Fit runtime\n",
      "\t1325 features in original data used to generate 1325 features in processed data.\n",
      "\tTrain Data (Processed) Memory Usage: 6.04 MB (0.1% of available memory)\n",
      "Data preprocessing and feature engineering runtime = 1.5s ...\n",
      "AutoGluon will gauge predictive performance using evaluation metric: 'root_mean_squared_error'\n",
      "\tTo change this, specify the eval_metric parameter of Predictor()\n",
      "Automatically generating train/validation split with holdout_frac=0.2, Train Rows: 533, Val Rows: 134\n",
      "Fitting 11 L1 models ...\n",
      "Fitting model: KNeighborsUnif ...\n",
      "\t-1.3215\t = Validation score   (root_mean_squared_error)\n",
      "\t0.07s\t = Training   runtime\n",
      "\t0.03s\t = Validation runtime\n",
      "Fitting model: KNeighborsDist ...\n",
      "\t-1.3947\t = Validation score   (root_mean_squared_error)\n",
      "\t0.07s\t = Training   runtime\n",
      "\t0.03s\t = Validation runtime\n",
      "Fitting model: LightGBMXT ...\n",
      "\t-1.1358\t = Validation score   (root_mean_squared_error)\n",
      "\t6.19s\t = Training   runtime\n",
      "\t0.02s\t = Validation runtime\n",
      "Fitting model: LightGBM ...\n",
      "\t-1.1559\t = Validation score   (root_mean_squared_error)\n",
      "\t7.14s\t = Training   runtime\n",
      "\t0.02s\t = Validation runtime\n",
      "Fitting model: RandomForestMSE ...\n",
      "\t-1.1351\t = Validation score   (root_mean_squared_error)\n",
      "\t5.42s\t = Training   runtime\n",
      "\t0.03s\t = Validation runtime\n",
      "Fitting model: CatBoost ...\n",
      "\tWarning: Exception caused CatBoost to fail during training (ImportError)... Skipping this model.\n",
      "\t\t`import catboost` failed.A quick tip is to install via `pip install catboost`.\n",
      "Fitting model: ExtraTreesMSE ...\n",
      "\t-1.1325\t = Validation score   (root_mean_squared_error)\n",
      "\t1.88s\t = Training   runtime\n",
      "\t0.03s\t = Validation runtime\n",
      "Fitting model: NeuralNetFastAI ...\n",
      "\t-1.1972\t = Validation score   (root_mean_squared_error)\n",
      "\t4.0s\t = Training   runtime\n",
      "\t0.2s\t = Validation runtime\n",
      "Fitting model: XGBoost ...\n",
      "\t-1.1372\t = Validation score   (root_mean_squared_error)\n",
      "\t9.41s\t = Training   runtime\n",
      "\t0.02s\t = Validation runtime\n",
      "Fitting model: NeuralNetTorch ...\n",
      "\t-1.3592\t = Validation score   (root_mean_squared_error)\n",
      "\t12.09s\t = Training   runtime\n",
      "\t0.15s\t = Validation runtime\n",
      "Fitting model: LightGBMLarge ...\n",
      "\t-1.1397\t = Validation score   (root_mean_squared_error)\n",
      "\t24.43s\t = Training   runtime\n",
      "\t0.02s\t = Validation runtime\n",
      "Fitting model: WeightedEnsemble_L2 ...\n",
      "\t-1.0798\t = Validation score   (root_mean_squared_error)\n",
      "\t0.08s\t = Training   runtime\n",
      "\t0.0s\t = Validation runtime\n",
      "AutoGluon training complete, total runtime = 73.88s ... Best model: \"WeightedEnsemble_L2\"\n",
      "TabularPredictor saved. To load, use: predictor = TabularPredictor.load(\"models/HILIC_raw/\")\n",
      "/opt/homebrew/Caskroom/miniforge/base/envs/tensorflow/lib/python3.9/site-packages/autogluon/core/utils/plots.py:138: UserWarning: AutoGluon summary plots cannot be created because bokeh is not installed. To see plots, please do: \"pip install bokeh==2.0.1\"\n",
      "  warnings.warn('AutoGluon summary plots cannot be created because bokeh is not installed. To see plots, please do: \"pip install bokeh==2.0.1\"')\n"
     ]
    },
    {
     "name": "stdout",
     "output_type": "stream",
     "text": [
      "*** Summary of fit() ***\n",
      "Estimated performance of each model:\n",
      "                  model  score_val  pred_time_val   fit_time  pred_time_val_marginal  fit_time_marginal  stack_level  can_infer  fit_order\n",
      "0   WeightedEnsemble_L2  -1.079834       0.330810  27.064460                0.000160           0.083903            2       True         11\n",
      "1         ExtraTreesMSE  -1.132459       0.032976   1.878898                0.032976           1.878898            1       True          6\n",
      "2       RandomForestMSE  -1.135128       0.034463   5.423200                0.034463           5.423200            1       True          5\n",
      "3            LightGBMXT  -1.135841       0.019551   6.193750                0.019551           6.193750            1       True          3\n",
      "4               XGBoost  -1.137191       0.015271   9.406955                0.015271           9.406955            1       True          8\n",
      "5         LightGBMLarge  -1.139702       0.019687  24.433261                0.019687          24.433261            1       True         10\n",
      "6              LightGBM  -1.155884       0.019880   7.139039                0.019880           7.139039            1       True          4\n",
      "7       NeuralNetFastAI  -1.197165       0.195532   4.003074                0.195532           4.003074            1       True          7\n",
      "8        KNeighborsUnif  -1.321520       0.028184   0.068396                0.028184           0.068396            1       True          1\n",
      "9        NeuralNetTorch  -1.359172       0.145043  12.092598                0.145043          12.092598            1       True          9\n",
      "10       KNeighborsDist  -1.394730       0.032856   0.074680                0.032856           0.074680            1       True          2\n",
      "Number of models trained: 11\n",
      "Types of models trained:\n",
      "{'KNNModel', 'XTModel', 'XGBoostModel', 'LGBModel', 'WeightedEnsembleModel', 'RFModel', 'TabularNeuralNetTorchModel', 'NNFastAiTabularModel'}\n",
      "Bagging used: False \n",
      "Multi-layer stack-ensembling used: False \n",
      "Feature Metadata (Processed):\n",
      "(raw dtype, special dtypes):\n",
      "('category', [])  : 173 | ['AATS7dv', 'AATS8dv', 'AATS7d', 'AATS8d', 'AATS7s', ...]\n",
      "('float', [])     : 994 | ['pH', 'ABC', 'ABCGG', 'SpAbs_A', 'SpMax_A', ...]\n",
      "('int', [])       :  90 | ['nAcid', 'nBase', 'nAromAtom', 'nAromBond', 'nAtom', ...]\n",
      "('int', ['bool']) :  68 | ['Organic_modifier', 'Buffer', 'nSpiro', 'nP', 'nBondsT', ...]\n",
      "*** End of fit() summary ***\n",
      "{'model_types': {'KNeighborsUnif': 'KNNModel', 'KNeighborsDist': 'KNNModel', 'LightGBMXT': 'LGBModel', 'LightGBM': 'LGBModel', 'RandomForestMSE': 'RFModel', 'ExtraTreesMSE': 'XTModel', 'NeuralNetFastAI': 'NNFastAiTabularModel', 'XGBoost': 'XGBoostModel', 'NeuralNetTorch': 'TabularNeuralNetTorchModel', 'LightGBMLarge': 'LGBModel', 'WeightedEnsemble_L2': 'WeightedEnsembleModel'}, 'model_performance': {'KNeighborsUnif': -1.3215197253628757, 'KNeighborsDist': -1.394730195586414, 'LightGBMXT': -1.135840668807717, 'LightGBM': -1.155883827749542, 'RandomForestMSE': -1.1351281416966768, 'ExtraTreesMSE': -1.1324586820794509, 'NeuralNetFastAI': -1.1971645392771117, 'XGBoost': -1.137191231691657, 'NeuralNetTorch': -1.3591721170842863, 'LightGBMLarge': -1.1397024135075313, 'WeightedEnsemble_L2': -1.0798338398336593}, 'model_best': 'WeightedEnsemble_L2', 'model_paths': {'KNeighborsUnif': 'models/HILIC_raw/models/KNeighborsUnif/', 'KNeighborsDist': 'models/HILIC_raw/models/KNeighborsDist/', 'LightGBMXT': 'models/HILIC_raw/models/LightGBMXT/', 'LightGBM': 'models/HILIC_raw/models/LightGBM/', 'RandomForestMSE': 'models/HILIC_raw/models/RandomForestMSE/', 'ExtraTreesMSE': 'models/HILIC_raw/models/ExtraTreesMSE/', 'NeuralNetFastAI': 'models/HILIC_raw/models/NeuralNetFastAI/', 'XGBoost': 'models/HILIC_raw/models/XGBoost/', 'NeuralNetTorch': 'models/HILIC_raw/models/NeuralNetTorch/', 'LightGBMLarge': 'models/HILIC_raw/models/LightGBMLarge/', 'WeightedEnsemble_L2': 'models/HILIC_raw/models/WeightedEnsemble_L2/'}, 'model_fit_times': {'KNeighborsUnif': 0.06839609146118164, 'KNeighborsDist': 0.07468008995056152, 'LightGBMXT': 6.193749666213989, 'LightGBM': 7.139039039611816, 'RandomForestMSE': 5.423199892044067, 'ExtraTreesMSE': 1.8788981437683105, 'NeuralNetFastAI': 4.0030739307403564, 'XGBoost': 9.406955003738403, 'NeuralNetTorch': 12.092597961425781, 'LightGBMLarge': 24.433261156082153, 'WeightedEnsemble_L2': 0.08390283584594727}, 'model_pred_times': {'KNeighborsUnif': 0.028183937072753906, 'KNeighborsDist': 0.03285622596740723, 'LightGBMXT': 0.01955127716064453, 'LightGBM': 0.019879817962646484, 'RandomForestMSE': 0.03446340560913086, 'ExtraTreesMSE': 0.03297591209411621, 'NeuralNetFastAI': 0.19553184509277344, 'XGBoost': 0.01527094841003418, 'NeuralNetTorch': 0.14504313468933105, 'LightGBMLarge': 0.01968693733215332, 'WeightedEnsemble_L2': 0.00015997886657714844}, 'num_bag_folds': 0, 'max_stack_level': 2, 'model_hyperparams': {'KNeighborsUnif': {'weights': 'uniform'}, 'KNeighborsDist': {'weights': 'distance'}, 'LightGBMXT': {'learning_rate': 0.05, 'extra_trees': True}, 'LightGBM': {'learning_rate': 0.05}, 'RandomForestMSE': {'n_estimators': 300, 'n_jobs': -1, 'random_state': 0, 'bootstrap': True, 'criterion': 'squared_error'}, 'ExtraTreesMSE': {'n_estimators': 300, 'n_jobs': -1, 'random_state': 0, 'bootstrap': True, 'criterion': 'squared_error'}, 'NeuralNetFastAI': {'layers': None, 'emb_drop': 0.1, 'ps': 0.1, 'bs': 'auto', 'lr': 0.01, 'epochs': 'auto', 'early.stopping.min_delta': 0.0001, 'early.stopping.patience': 20, 'smoothing': 0.0}, 'XGBoost': {'n_estimators': 10000, 'learning_rate': 0.1, 'n_jobs': -1, 'proc.max_category_levels': 100, 'objective': 'reg:squarederror', 'booster': 'gbtree'}, 'NeuralNetTorch': {'num_epochs': 500, 'epochs_wo_improve': 20, 'activation': 'relu', 'embedding_size_factor': 1.0, 'embed_exponent': 0.56, 'max_embedding_dim': 100, 'y_range': None, 'y_range_extend': 0.05, 'dropout_prob': 0.1, 'optimizer': 'adam', 'learning_rate': 0.0003, 'weight_decay': 1e-06, 'proc.embed_min_categories': 4, 'proc.impute_strategy': 'median', 'proc.max_category_levels': 100, 'proc.skew_threshold': 0.99, 'use_ngram_features': False, 'num_layers': 4, 'hidden_size': 128, 'max_batch_size': 512, 'use_batchnorm': False, 'loss_function': 'auto'}, 'LightGBMLarge': {'learning_rate': 0.03, 'num_leaves': 128, 'feature_fraction': 0.9, 'min_data_in_leaf': 5}, 'WeightedEnsemble_L2': {'use_orig_features': False, 'max_base_models': 25, 'max_base_models_per_type': 5, 'save_bag_folds': True}}, 'leaderboard':                   model  score_val  pred_time_val   fit_time  \\\n",
      "0   WeightedEnsemble_L2  -1.079834       0.330810  27.064460   \n",
      "1         ExtraTreesMSE  -1.132459       0.032976   1.878898   \n",
      "2       RandomForestMSE  -1.135128       0.034463   5.423200   \n",
      "3            LightGBMXT  -1.135841       0.019551   6.193750   \n",
      "4               XGBoost  -1.137191       0.015271   9.406955   \n",
      "5         LightGBMLarge  -1.139702       0.019687  24.433261   \n",
      "6              LightGBM  -1.155884       0.019880   7.139039   \n",
      "7       NeuralNetFastAI  -1.197165       0.195532   4.003074   \n",
      "8        KNeighborsUnif  -1.321520       0.028184   0.068396   \n",
      "9        NeuralNetTorch  -1.359172       0.145043  12.092598   \n",
      "10       KNeighborsDist  -1.394730       0.032856   0.074680   \n",
      "\n",
      "    pred_time_val_marginal  fit_time_marginal  stack_level  can_infer  \\\n",
      "0                 0.000160           0.083903            2       True   \n",
      "1                 0.032976           1.878898            1       True   \n",
      "2                 0.034463           5.423200            1       True   \n",
      "3                 0.019551           6.193750            1       True   \n",
      "4                 0.015271           9.406955            1       True   \n",
      "5                 0.019687          24.433261            1       True   \n",
      "6                 0.019880           7.139039            1       True   \n",
      "7                 0.195532           4.003074            1       True   \n",
      "8                 0.028184           0.068396            1       True   \n",
      "9                 0.145043          12.092598            1       True   \n",
      "10                0.032856           0.074680            1       True   \n",
      "\n",
      "    fit_order  \n",
      "0          11  \n",
      "1           6  \n",
      "2           5  \n",
      "3           3  \n",
      "4           8  \n",
      "5          10  \n",
      "6           4  \n",
      "7           7  \n",
      "8           1  \n",
      "9           9  \n",
      "10          2  }\n"
     ]
    },
    {
     "name": "stderr",
     "output_type": "stream",
     "text": [
      "Evaluation: root_mean_squared_error on test data: -0.5294628732344341\n",
      "\tNote: Scores are always higher_is_better. This metric score can be multiplied by -1 to get the metric value.\n",
      "Evaluations on test data:\n",
      "{\n",
      "    \"root_mean_squared_error\": -0.5294628732344341,\n",
      "    \"mean_squared_error\": -0.2803309341336624,\n",
      "    \"mean_absolute_error\": -0.2804686811866699,\n",
      "    \"r2\": 0.8665305813310178,\n",
      "    \"pearsonr\": 0.9369099346873608,\n",
      "    \"median_absolute_error\": -0.09694033622741705\n",
      "}\n"
     ]
    }
   ],
   "source": [
    "\n",
    "from autogluon.tabular import TabularDataset, TabularPredictor\n",
    "label = 'retention_time'\n",
    "save_path =('models/HILIC_raw')\n",
    "predictor = TabularPredictor(label=label, path=save_path).fit(train)\n",
    "results = predictor.fit_summary(show_plot=True)\n",
    "print(results)\n",
    "y_test = test[label]\n",
    "x_test = test.drop([label], axis=1)\n",
    "# predictor = TabularPredictor.load(save_path)\n",
    "y_pred = predictor.predict(x_test)\n",
    "perf = predictor.evaluate_predictions(y_true=y_test, y_pred=y_pred, auxiliary_metrics=True)"
   ],
   "metadata": {
    "collapsed": false,
    "pycharm": {
     "name": "#%%\n"
    }
   }
  },
  {
   "cell_type": "code",
   "execution_count": 46,
   "outputs": [
    {
     "name": "stderr",
     "output_type": "stream",
     "text": [
      "These features in provided data are not utilized by the predictor and will be ignored: ['Column', 'nBridgehead', 'nB', 'nBr', 'nI', 'SpAbs_Dt', 'SpMax_Dt', 'SpDiam_Dt', 'SpAD_Dt', 'SpMAD_Dt', 'LogEE_Dt', 'SM1_Dt', 'VE1_Dt', 'VE2_Dt', 'VE3_Dt', 'VR1_Dt', 'VR2_Dt', 'VR3_Dt', 'DetourIndex', 'NsLi', 'NssBe', 'NssssBe', 'NssBH', 'NsssB', 'NssssB', 'NddC', 'NsNH3', 'NssNH2', 'NsssNH', 'NssssN', 'NaaO', 'NsSiH3', 'NssSiH2', 'NsssSiH', 'NssssSi', 'NsPH2', 'NssPH', 'NsssP', 'NsssssP', 'NsGeH3', 'NssGeH2', 'NsssGeH', 'NssssGe', 'NsAsH2', 'NssAsH', 'NsssAs', 'NsssdAs', 'NsssssAs', 'NsSeH', 'NdSe', 'NssSe', 'NaaSe', 'NdssSe', 'NddssSe', 'NsBr', 'NsSnH3', 'NssSnH2', 'NsssSnH', 'NssssSn', 'NsI', 'NsPbH3', 'NssPbH2', 'NsssPbH', 'NssssPb', 'SsLi', 'SssBe', 'SssssBe', 'SssBH', 'SsssB', 'SssssB', 'SddC', 'SsNH3', 'SssNH2', 'SsssNH', 'SssssN', 'SaaO', 'SsSiH3', 'SssSiH2', 'SsssSiH', 'SssssSi', 'SsPH2', 'SssPH', 'SsssP', 'SsssssP', 'SsGeH3', 'SssGeH2', 'SsssGeH', 'SssssGe', 'SsAsH2', 'SssAsH', 'SsssAs', 'SsssdAs', 'SsssssAs', 'SsSeH', 'SdSe', 'SssSe', 'SaaSe', 'SdssSe', 'SddssSe', 'SsBr', 'SsSnH3', 'SssSnH2', 'SsssSnH', 'SssssSn', 'SsI', 'SsPbH3', 'SssPbH2', 'SsssPbH', 'SssssPb', 'MAXsLi', 'MAXssBe', 'MAXssssBe', 'MAXssBH', 'MAXsssB', 'MAXssssB', 'MAXddC', 'MAXsNH3', 'MAXssNH2', 'MAXsssNH', 'MAXssssN', 'MAXaaO', 'MAXsSiH3', 'MAXssSiH2', 'MAXsssSiH', 'MAXssssSi', 'MAXsPH2', 'MAXssPH', 'MAXsssP', 'MAXsssssP', 'MAXsGeH3', 'MAXssGeH2', 'MAXsssGeH', 'MAXssssGe', 'MAXsAsH2', 'MAXssAsH', 'MAXsssAs', 'MAXsssdAs', 'MAXsssssAs', 'MAXsSeH', 'MAXdSe', 'MAXssSe', 'MAXaaSe', 'MAXdssSe', 'MAXddssSe', 'MAXsBr', 'MAXsSnH3', 'MAXssSnH2', 'MAXsssSnH', 'MAXssssSn', 'MAXsI', 'MAXsPbH3', 'MAXssPbH2', 'MAXsssPbH', 'MAXssssPb', 'MINsLi', 'MINssBe', 'MINssssBe', 'MINssBH', 'MINsssB', 'MINssssB', 'MINddC', 'MINsNH3', 'MINssNH2', 'MINsssNH', 'MINssssN', 'MINaaO', 'MINsSiH3', 'MINssSiH2', 'MINsssSiH', 'MINssssSi', 'MINsPH2', 'MINssPH', 'MINsssP', 'MINsssssP', 'MINsGeH3', 'MINssGeH2', 'MINsssGeH', 'MINssssGe', 'MINsAsH2', 'MINssAsH', 'MINsssAs', 'MINsssdAs', 'MINsssssAs', 'MINsSeH', 'MINdSe', 'MINssSe', 'MINaaSe', 'MINdssSe', 'MINddssSe', 'MINsBr', 'MINsSnH3', 'MINssSnH2', 'MINsssSnH', 'MINssssSn', 'MINsI', 'MINsPbH3', 'MINssPbH2', 'MINsssPbH', 'MINssssPb', 'ETA_dPsi_B', 'SMR_VSA8', 'SlogP_VSA9', 'n4Ring', 'n8Ring', 'n9Ring', 'n10Ring', 'n11Ring', 'n12Ring', 'nG12Ring', 'n3HRing', 'n4HRing', 'n8HRing', 'n9HRing', 'n10HRing', 'n11HRing', 'n12HRing', 'nG12HRing', 'n3aRing', 'n4aRing', 'n7aRing', 'n8aRing', 'n9aRing', 'n10aRing', 'n11aRing', 'n12aRing', 'nG12aRing', 'n3aHRing', 'n4aHRing', 'n7aHRing', 'n8aHRing', 'n9aHRing', 'n10aHRing', 'n11aHRing', 'n12aHRing', 'nG12aHRing', 'n4ARing', 'n8ARing', 'n9ARing', 'n10ARing', 'n11ARing', 'n12ARing', 'nG12ARing', 'n3AHRing', 'n4AHRing', 'n8AHRing', 'n9AHRing', 'n10AHRing', 'n11AHRing', 'n12AHRing', 'nG12AHRing', 'n4FRing', 'n5FRing', 'n6FRing', 'n7FRing', 'n8FRing', 'n11FRing', 'n12FRing', 'n4FHRing', 'n5FHRing', 'n6FHRing', 'n7FHRing', 'n8FHRing', 'n11FHRing', 'n12FHRing', 'n4FaRing', 'n5FaRing', 'n6FaRing', 'n7FaRing', 'n8FaRing', 'n11FaRing', 'n12FaRing', 'n4FaHRing', 'n5FaHRing', 'n6FaHRing', 'n7FaHRing', 'n8FaHRing', 'n11FaHRing', 'n12FaHRing', 'n4FARing', 'n5FARing', 'n6FARing', 'n7FARing', 'n8FARing', 'n11FARing', 'n12FARing', 'n4FAHRing', 'n5FAHRing', 'n6FAHRing', 'n7FAHRing', 'n8FAHRing', 'n11FAHRing', 'n12FAHRing']\n",
      "Computing feature importance via permutation shuffling for 1326 features using 150 rows with 3 shuffle sets...\n",
      "\t1109.42s\t= Expected runtime (369.81s per shuffle set)\n",
      "\t163.16s\t= Actual runtime (Completed 3 of 3 shuffle sets)\n"
     ]
    }
   ],
   "source": [
    "feature_importance = predictor.feature_importance(test)\n"
   ],
   "metadata": {
    "collapsed": false,
    "pycharm": {
     "name": "#%%\n"
    }
   }
  },
  {
   "cell_type": "code",
   "execution_count": 47,
   "outputs": [
    {
     "data": {
      "text/plain": "                  importance    stddev   p_value  n  p99_high   p99_low\nOrganic_modifier    0.473443  0.111115  0.008935  3  1.110142 -0.163255\nPEOE_VSA1           0.462869  0.085717  0.005620  3  0.954039 -0.028302\npH                  0.212769  0.098166  0.032099  3  0.775273 -0.349735\nPEOE_VSA8           0.159452  0.033986  0.007404  3  0.354197 -0.035293\nAATS4Z              0.096087  0.035927  0.021788  3  0.301950 -0.109777",
      "text/html": "<div>\n<style scoped>\n    .dataframe tbody tr th:only-of-type {\n        vertical-align: middle;\n    }\n\n    .dataframe tbody tr th {\n        vertical-align: top;\n    }\n\n    .dataframe thead th {\n        text-align: right;\n    }\n</style>\n<table border=\"1\" class=\"dataframe\">\n  <thead>\n    <tr style=\"text-align: right;\">\n      <th></th>\n      <th>importance</th>\n      <th>stddev</th>\n      <th>p_value</th>\n      <th>n</th>\n      <th>p99_high</th>\n      <th>p99_low</th>\n    </tr>\n  </thead>\n  <tbody>\n    <tr>\n      <th>Organic_modifier</th>\n      <td>0.473443</td>\n      <td>0.111115</td>\n      <td>0.008935</td>\n      <td>3</td>\n      <td>1.110142</td>\n      <td>-0.163255</td>\n    </tr>\n    <tr>\n      <th>PEOE_VSA1</th>\n      <td>0.462869</td>\n      <td>0.085717</td>\n      <td>0.005620</td>\n      <td>3</td>\n      <td>0.954039</td>\n      <td>-0.028302</td>\n    </tr>\n    <tr>\n      <th>pH</th>\n      <td>0.212769</td>\n      <td>0.098166</td>\n      <td>0.032099</td>\n      <td>3</td>\n      <td>0.775273</td>\n      <td>-0.349735</td>\n    </tr>\n    <tr>\n      <th>PEOE_VSA8</th>\n      <td>0.159452</td>\n      <td>0.033986</td>\n      <td>0.007404</td>\n      <td>3</td>\n      <td>0.354197</td>\n      <td>-0.035293</td>\n    </tr>\n    <tr>\n      <th>AATS4Z</th>\n      <td>0.096087</td>\n      <td>0.035927</td>\n      <td>0.021788</td>\n      <td>3</td>\n      <td>0.301950</td>\n      <td>-0.109777</td>\n    </tr>\n  </tbody>\n</table>\n</div>"
     },
     "execution_count": 47,
     "metadata": {},
     "output_type": "execute_result"
    }
   ],
   "source": [
    "feature_importance.head()"
   ],
   "metadata": {
    "collapsed": false,
    "pycharm": {
     "name": "#%%\n"
    }
   }
  },
  {
   "cell_type": "code",
   "execution_count": 544,
   "outputs": [],
   "source": [
    "x_train, y_train = data_prep.make_x_y(train)"
   ],
   "metadata": {
    "collapsed": false,
    "pycharm": {
     "name": "#%%\n"
    }
   }
  },
  {
   "cell_type": "code",
   "execution_count": 545,
   "outputs": [
    {
     "data": {
      "text/plain": "638"
     },
     "execution_count": 545,
     "metadata": {},
     "output_type": "execute_result"
    }
   ],
   "source": [
    "len(train)"
   ],
   "metadata": {
    "collapsed": false,
    "pycharm": {
     "name": "#%%\n"
    }
   }
  },
  {
   "cell_type": "code",
   "execution_count": 546,
   "outputs": [
    {
     "data": {
      "text/plain": "638"
     },
     "execution_count": 546,
     "metadata": {},
     "output_type": "execute_result"
    }
   ],
   "source": [
    "len(y_train)"
   ],
   "metadata": {
    "collapsed": false,
    "pycharm": {
     "name": "#%%\n"
    }
   }
  },
  {
   "cell_type": "code",
   "execution_count": 547,
   "outputs": [
    {
     "data": {
      "text/plain": "0      1.822857\n3      1.850000\n5      1.930000\n6      1.794286\n7      1.545714\n         ...   \n828    1.898571\n830    2.718333\n831    3.177143\n833    1.790000\n834    1.433333\nName: retention_time, Length: 638, dtype: float64"
     },
     "execution_count": 547,
     "metadata": {},
     "output_type": "execute_result"
    }
   ],
   "source": [
    "y_train"
   ],
   "metadata": {
    "collapsed": false,
    "pycharm": {
     "name": "#%%\n"
    }
   }
  },
  {
   "cell_type": "markdown",
   "source": [
    "# reproduce results from cleanlab website, now deprecated, only for debug usage"
   ],
   "metadata": {
    "collapsed": false
   }
  },
  {
   "cell_type": "code",
   "execution_count": 113,
   "outputs": [],
   "source": [
    "# from sklearn.datasets import fetch_openml\n",
    "#\n",
    "# data = fetch_openml(\"credit-g\")  # get the credit data from OpenML\n",
    "# X_raw = data.data  # features (pandas DataFrame)\n",
    "# y_raw = data.target  # labels (pandas Series)\n",
    "# import pandas as pd\n",
    "# from sklearn.preprocessing import StandardScaler\n",
    "#\n",
    "# cat_features = X_raw.select_dtypes(\"category\").columns\n",
    "# X_encoded = pd.get_dummies(X_raw, columns=cat_features, drop_first=True)\n",
    "#\n",
    "# num_features = X_raw.select_dtypes(\"float64\").columns\n",
    "# scaler = StandardScaler()\n",
    "# X_scaled = X_encoded.copy()\n",
    "# X_scaled[num_features] = scaler.fit_transform(X_encoded[num_features])\n",
    "#\n",
    "# y_encode = y_raw.map({\"bad\": 0, \"good\": 1})  # encode labels as integers\n",
    "#\n",
    "# clf = RandomForestClassifier()\n",
    "# num_crossval_folds = 3  # for efficiency; values like 5 or 10 will generally work better\n",
    "# pred_probs = cross_val_predict(\n",
    "#     clf,\n",
    "#     X_scaled,\n",
    "#     y,\n",
    "#     cv=num_crossval_folds,\n",
    "#     method=\"predict_proba\",\n",
    "# )\n",
    "# ranked_label_issues = find_label_issues(\n",
    "#     labels=y, pred_probs=pred_probs, return_indices_ranked_by=\"self_confidence\"\n",
    "# )\n",
    "# ranked_label_issues\n",
    "#\n",
    "# print(f\"Cleanlab found {len(ranked_label_issues)} potential label errors.\")"
   ],
   "metadata": {
    "collapsed": false,
    "pycharm": {
     "name": "#%%\n"
    }
   }
  }
 ],
 "metadata": {
  "kernelspec": {
   "name": "tensorflow",
   "language": "python",
   "display_name": "Python 3.9 (tensorflow)"
  },
  "language_info": {
   "codemirror_mode": {
    "name": "ipython",
    "version": 3
   },
   "file_extension": ".py",
   "mimetype": "text/x-python",
   "name": "python",
   "nbconvert_exporter": "python",
   "pygments_lexer": "ipython3",
   "version": "3.9.12"
  }
 },
 "nbformat": 4,
 "nbformat_minor": 5
}