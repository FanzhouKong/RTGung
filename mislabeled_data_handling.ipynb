{
 "cells": [
  {
   "cell_type": "code",
<<<<<<< Updated upstream
   "execution_count": 96,
   "metadata": {
    "collapsed": true
   },
=======
   "execution_count": 1,
   "id": "b0d83617",
   "metadata": {},
>>>>>>> Stashed changes
   "outputs": [
    {
     "name": "stderr",
     "output_type": "stream",
     "text": [
      "<frozen importlib._bootstrap>:228: RuntimeWarning: scipy._lib.messagestream.MessageStream size changed, may indicate binary incompatibility. Expected 56 from C header, got 64 from PyObject\n"
     ]
    },
    {
     "name": "stdout",
     "output_type": "stream",
     "text": [
      "i am updated!\n"
     ]
    }
   ],
   "source": [
    "import pandas as pd\n",
    "import numpy as np\n",
    "import random\n",
    "import toolsets.data_prep as data_prep\n",
    "%load_ext autoreload\n",
    "%autoreload 2\n",
    "descriptors = pd.read_csv(\"data/multiRT/MultiRT_hilic_descriptors.csv\", low_memory=False)\n",
    "descriptors = descriptors.select_dtypes(exclude=['object'])"
   ]
  },
  {
   "cell_type": "code",
<<<<<<< Updated upstream
   "execution_count": 89,
   "outputs": [],
   "source": [
    "combined_data = pd.read_csv(\"data/multiRT/Combined dataset.csv\")\n",
    "hilic = combined_data.loc[combined_data['Column']=='HILIC']\n",
    "hilic.reset_index(inplace=True, drop=True)\n",
    "# hilic=data_prep.dataset_prep(hilic)\n",
    "# hilic = data_prep.make_split_index(hilic)"
=======
   "execution_count": 34,
   "id": "aa919a26",
   "metadata": {},
   "outputs": [],
   "source": [
    "descriptors = pd.read_csv(\"data/multiRT/MultiRT_hilic_descriptors.csv\", low_memory=False)\n",
    "descriptors_objects = descriptors.select_dtypes(include=['object'])\n"
   ]
  },
  {
   "cell_type": "code",
   "execution_count": 36,
   "outputs": [
    {
     "name": "stdout",
     "output_type": "stream",
     "text": [
      "AATS7dv\n",
      "AATS8dv\n",
      "AATS7d\n",
      "AATS8d\n",
      "AATS7s\n",
      "AATS8s\n",
      "AATS7Z\n",
      "AATS8Z\n",
      "AATS7m\n",
      "AATS8m\n",
      "AATS7v\n",
      "AATS8v\n",
      "AATS7se\n",
      "AATS8se\n",
      "AATS7pe\n",
      "AATS8pe\n",
      "AATS7are\n",
      "AATS8are\n",
      "AATS7p\n",
      "AATS8p\n",
      "AATS7i\n",
      "AATS8i\n",
      "AATSC7c\n",
      "AATSC8c\n",
      "AATSC7dv\n",
      "AATSC8dv\n",
      "AATSC7d\n",
      "AATSC8d\n",
      "AATSC7s\n",
      "AATSC8s\n",
      "AATSC7Z\n",
      "AATSC8Z\n",
      "AATSC7m\n",
      "AATSC8m\n",
      "AATSC7v\n",
      "AATSC8v\n",
      "AATSC7se\n",
      "AATSC8se\n",
      "AATSC7pe\n",
      "AATSC8pe\n",
      "AATSC7are\n",
      "AATSC8are\n",
      "AATSC7p\n",
      "AATSC8p\n",
      "AATSC7i\n",
      "AATSC8i\n",
      "MATS7c\n",
      "MATS8c\n",
      "MATS7dv\n",
      "MATS8dv\n",
      "MATS7d\n",
      "MATS8d\n",
      "MATS7s\n",
      "MATS8s\n",
      "MATS7Z\n",
      "MATS8Z\n",
      "MATS7m\n",
      "MATS8m\n",
      "MATS7v\n",
      "MATS8v\n",
      "MATS7se\n",
      "MATS8se\n",
      "MATS7pe\n",
      "MATS8pe\n",
      "MATS7are\n",
      "MATS8are\n",
      "MATS7p\n",
      "MATS8p\n",
      "MATS7i\n",
      "MATS8i\n",
      "GATS7c\n",
      "GATS8c\n",
      "GATS7dv\n",
      "GATS8dv\n",
      "GATS7d\n",
      "GATS8d\n",
      "GATS7s\n",
      "GATS8s\n",
      "GATS7Z\n",
      "GATS8Z\n",
      "GATS7m\n",
      "GATS8m\n",
      "GATS7v\n",
      "GATS8v\n",
      "GATS7se\n",
      "GATS8se\n",
      "GATS7pe\n",
      "GATS8pe\n",
      "GATS7are\n",
      "GATS8are\n",
      "GATS7p\n",
      "GATS8p\n",
      "GATS7i\n",
      "GATS8i\n",
      "AXp-7d\n",
      "AXp-7dv\n",
      "SpAbs_Dt\n",
      "SpMax_Dt\n",
      "SpDiam_Dt\n",
      "SpAD_Dt\n",
      "SpMAD_Dt\n",
      "LogEE_Dt\n",
      "SM1_Dt\n",
      "VE1_Dt\n",
      "VE2_Dt\n",
      "VE3_Dt\n",
      "VR1_Dt\n",
      "VR2_Dt\n",
      "VR3_Dt\n",
      "DetourIndex\n",
      "MAXsLi\n",
      "MAXssBe\n",
      "MAXssssBe\n",
      "MAXssBH\n",
      "MAXsssB\n",
      "MAXssssB\n",
      "MAXsCH3\n",
      "MAXdCH2\n",
      "MAXssCH2\n",
      "MAXtCH\n",
      "MAXdsCH\n",
      "MAXaaCH\n",
      "MAXsssCH\n",
      "MAXddC\n",
      "MAXtsC\n",
      "MAXdssC\n",
      "MAXaasC\n",
      "MAXaaaC\n",
      "MAXssssC\n",
      "MAXsNH3\n",
      "MAXsNH2\n",
      "MAXssNH2\n",
      "MAXdNH\n",
      "MAXssNH\n",
      "MAXaaNH\n",
      "MAXtN\n",
      "MAXsssNH\n",
      "MAXdsN\n",
      "MAXaaN\n",
      "MAXsssN\n",
      "MAXddsN\n",
      "MAXaasN\n",
      "MAXssssN\n",
      "MAXsOH\n",
      "MAXdO\n",
      "MAXssO\n",
      "MAXaaO\n",
      "MAXsF\n",
      "MAXsSiH3\n",
      "MAXssSiH2\n",
      "MAXsssSiH\n",
      "MAXssssSi\n",
      "MAXsPH2\n",
      "MAXssPH\n",
      "MAXsssP\n",
      "MAXdsssP\n",
      "MAXsssssP\n",
      "MAXsSH\n",
      "MAXdS\n",
      "MAXssS\n",
      "MAXaaS\n",
      "MAXdssS\n",
      "MAXddssS\n",
      "MAXsCl\n",
      "MAXsGeH3\n",
      "MAXssGeH2\n",
      "MAXsssGeH\n",
      "MAXssssGe\n",
      "MAXsAsH2\n",
      "MAXssAsH\n",
      "MAXsssAs\n",
      "MAXsssdAs\n",
      "MAXsssssAs\n",
      "MAXsSeH\n",
      "MAXdSe\n",
      "MAXssSe\n",
      "MAXaaSe\n",
      "MAXdssSe\n",
      "MAXddssSe\n",
      "MAXsBr\n",
      "MAXsSnH3\n",
      "MAXssSnH2\n",
      "MAXsssSnH\n",
      "MAXssssSn\n",
      "MAXsI\n",
      "MAXsPbH3\n",
      "MAXssPbH2\n",
      "MAXsssPbH\n",
      "MAXssssPb\n",
      "MINsLi\n",
      "MINssBe\n",
      "MINssssBe\n",
      "MINssBH\n",
      "MINsssB\n",
      "MINssssB\n",
      "MINsCH3\n",
      "MINdCH2\n",
      "MINssCH2\n",
      "MINtCH\n",
      "MINdsCH\n",
      "MINaaCH\n",
      "MINsssCH\n",
      "MINddC\n",
      "MINtsC\n",
      "MINdssC\n",
      "MINaasC\n",
      "MINaaaC\n",
      "MINssssC\n",
      "MINsNH3\n",
      "MINsNH2\n",
      "MINssNH2\n",
      "MINdNH\n",
      "MINssNH\n",
      "MINaaNH\n",
      "MINtN\n",
      "MINsssNH\n",
      "MINdsN\n",
      "MINaaN\n",
      "MINsssN\n",
      "MINddsN\n",
      "MINaasN\n",
      "MINssssN\n",
      "MINsOH\n",
      "MINdO\n",
      "MINssO\n",
      "MINaaO\n",
      "MINsF\n",
      "MINsSiH3\n",
      "MINssSiH2\n",
      "MINsssSiH\n",
      "MINssssSi\n",
      "MINsPH2\n",
      "MINssPH\n",
      "MINsssP\n",
      "MINdsssP\n",
      "MINsssssP\n",
      "MINsSH\n",
      "MINdS\n",
      "MINssS\n",
      "MINaaS\n",
      "MINdssS\n",
      "MINddssS\n",
      "MINsCl\n",
      "MINsGeH3\n",
      "MINssGeH2\n",
      "MINsssGeH\n",
      "MINssssGe\n",
      "MINsAsH2\n",
      "MINssAsH\n",
      "MINsssAs\n",
      "MINsssdAs\n",
      "MINsssssAs\n",
      "MINsSeH\n",
      "MINdSe\n",
      "MINssSe\n",
      "MINaaSe\n",
      "MINdssSe\n",
      "MINddssSe\n",
      "MINsBr\n",
      "MINsSnH3\n",
      "MINssSnH2\n",
      "MINsssSnH\n",
      "MINssssSn\n",
      "MINsI\n",
      "MINsPbH3\n",
      "MINssPbH2\n",
      "MINsssPbH\n",
      "MINssssPb\n",
      "MDEC-11\n",
      "MDEC-12\n",
      "MDEC-13\n",
      "MDEC-14\n",
      "MDEC-22\n",
      "MDEC-23\n",
      "MDEC-24\n",
      "MDEC-33\n",
      "MDEC-34\n",
      "MDEC-44\n",
      "MDEO-11\n",
      "MDEO-12\n",
      "MDEO-22\n",
      "MDEN-11\n",
      "MDEN-12\n",
      "MDEN-13\n",
      "MDEN-22\n",
      "MDEN-23\n",
      "MDEN-33\n"
     ]
    }
   ],
   "source": [
    "for i in descriptors_objects.columns:\n",
    "    print(i)\n",
    "# df['a'] = df['a'].astype(float, errors = 'raise')"
   ],
   "metadata": {
    "collapsed": false,
    "pycharm": {
     "name": "#%%\n"
    }
   }
  },
  {
   "cell_type": "code",
   "execution_count": null,
   "outputs": [],
   "source": [
    "combined_data = pd.read_csv(\"data/multiRT/Combined dataset.csv\")\n",
    "hilic = combined_data.loc[combined_data['Column']=='HILIC']\n",
    "hilic.reset_index(inplace=True, drop=True)\n",
    "data = pd.concat([hilic, descriptors],axis =1)\n",
    "data = data_prep.dataset_prep(data)"
   ],
   "metadata": {
    "collapsed": false,
    "pycharm": {
     "name": "#%%\n"
    }
   }
  },
  {
   "cell_type": "code",
   "execution_count": 38,
   "outputs": [],
   "source": [
    "train, test = data_prep.make_train_test(data_confirmed)"
   ],
   "metadata": {
    "collapsed": false,
    "pycharm": {
     "name": "#%%\n"
    }
   }
  },
  {
   "cell_type": "code",
   "execution_count": 39,
   "outputs": [
    {
     "data": {
      "text/plain": "     Compound_name Column Organic_modifier   pH       Buffer  retention_time  \\\n0  1-hydroxypyrene  HILIC     Acetonitrile  2.7  Formic acid        1.822857   \n3  1-hydroxypyrene  HILIC     Acetonitrile  5.0  Acetic acid        1.850000   \n5  1-hydroxypyrene  HILIC     Acetonitrile  6.7  Formic acid        1.930000   \n6  1-hydroxypyrene  HILIC         Methanol  2.7  Formic acid        1.794286   \n7  1-hydroxypyrene  HILIC         Methanol  3.0  Acetic acid        1.545714   \n\n         ABC      ABCGG  nAcid  nBase  ...      SRW10     TSRW10          MW  \\\n0  14.008885  10.537147      0      0  ...  10.190582  51.083298  218.073165   \n3  14.008885  10.537147      0      0  ...  10.190582  51.083298  218.073165   \n5  14.008885  10.537147      0      0  ...  10.190582  51.083298  218.073165   \n6  14.008885  10.537147      0      0  ...  10.190582  51.083298  218.073165   \n7  14.008885  10.537147      0      0  ...  10.190582  51.083298  218.073165   \n\n        AMW  WPath  WPol  Zagreb1  Zagreb2  mZagreb1  mZagreb2  \n0  8.076784    428    33    100.0    125.0  4.027778  3.583333  \n3  8.076784    428    33    100.0    125.0  4.027778  3.583333  \n5  8.076784    428    33    100.0    125.0  4.027778  3.583333  \n6  8.076784    428    33    100.0    125.0  4.027778  3.583333  \n7  8.076784    428    33    100.0    125.0  4.027778  3.583333  \n\n[5 rows x 1619 columns]",
      "text/html": "<div>\n<style scoped>\n    .dataframe tbody tr th:only-of-type {\n        vertical-align: middle;\n    }\n\n    .dataframe tbody tr th {\n        vertical-align: top;\n    }\n\n    .dataframe thead th {\n        text-align: right;\n    }\n</style>\n<table border=\"1\" class=\"dataframe\">\n  <thead>\n    <tr style=\"text-align: right;\">\n      <th></th>\n      <th>Compound_name</th>\n      <th>Column</th>\n      <th>Organic_modifier</th>\n      <th>pH</th>\n      <th>Buffer</th>\n      <th>retention_time</th>\n      <th>ABC</th>\n      <th>ABCGG</th>\n      <th>nAcid</th>\n      <th>nBase</th>\n      <th>...</th>\n      <th>SRW10</th>\n      <th>TSRW10</th>\n      <th>MW</th>\n      <th>AMW</th>\n      <th>WPath</th>\n      <th>WPol</th>\n      <th>Zagreb1</th>\n      <th>Zagreb2</th>\n      <th>mZagreb1</th>\n      <th>mZagreb2</th>\n    </tr>\n  </thead>\n  <tbody>\n    <tr>\n      <th>0</th>\n      <td>1-hydroxypyrene</td>\n      <td>HILIC</td>\n      <td>Acetonitrile</td>\n      <td>2.7</td>\n      <td>Formic acid</td>\n      <td>1.822857</td>\n      <td>14.008885</td>\n      <td>10.537147</td>\n      <td>0</td>\n      <td>0</td>\n      <td>...</td>\n      <td>10.190582</td>\n      <td>51.083298</td>\n      <td>218.073165</td>\n      <td>8.076784</td>\n      <td>428</td>\n      <td>33</td>\n      <td>100.0</td>\n      <td>125.0</td>\n      <td>4.027778</td>\n      <td>3.583333</td>\n    </tr>\n    <tr>\n      <th>3</th>\n      <td>1-hydroxypyrene</td>\n      <td>HILIC</td>\n      <td>Acetonitrile</td>\n      <td>5.0</td>\n      <td>Acetic acid</td>\n      <td>1.850000</td>\n      <td>14.008885</td>\n      <td>10.537147</td>\n      <td>0</td>\n      <td>0</td>\n      <td>...</td>\n      <td>10.190582</td>\n      <td>51.083298</td>\n      <td>218.073165</td>\n      <td>8.076784</td>\n      <td>428</td>\n      <td>33</td>\n      <td>100.0</td>\n      <td>125.0</td>\n      <td>4.027778</td>\n      <td>3.583333</td>\n    </tr>\n    <tr>\n      <th>5</th>\n      <td>1-hydroxypyrene</td>\n      <td>HILIC</td>\n      <td>Acetonitrile</td>\n      <td>6.7</td>\n      <td>Formic acid</td>\n      <td>1.930000</td>\n      <td>14.008885</td>\n      <td>10.537147</td>\n      <td>0</td>\n      <td>0</td>\n      <td>...</td>\n      <td>10.190582</td>\n      <td>51.083298</td>\n      <td>218.073165</td>\n      <td>8.076784</td>\n      <td>428</td>\n      <td>33</td>\n      <td>100.0</td>\n      <td>125.0</td>\n      <td>4.027778</td>\n      <td>3.583333</td>\n    </tr>\n    <tr>\n      <th>6</th>\n      <td>1-hydroxypyrene</td>\n      <td>HILIC</td>\n      <td>Methanol</td>\n      <td>2.7</td>\n      <td>Formic acid</td>\n      <td>1.794286</td>\n      <td>14.008885</td>\n      <td>10.537147</td>\n      <td>0</td>\n      <td>0</td>\n      <td>...</td>\n      <td>10.190582</td>\n      <td>51.083298</td>\n      <td>218.073165</td>\n      <td>8.076784</td>\n      <td>428</td>\n      <td>33</td>\n      <td>100.0</td>\n      <td>125.0</td>\n      <td>4.027778</td>\n      <td>3.583333</td>\n    </tr>\n    <tr>\n      <th>7</th>\n      <td>1-hydroxypyrene</td>\n      <td>HILIC</td>\n      <td>Methanol</td>\n      <td>3.0</td>\n      <td>Acetic acid</td>\n      <td>1.545714</td>\n      <td>14.008885</td>\n      <td>10.537147</td>\n      <td>0</td>\n      <td>0</td>\n      <td>...</td>\n      <td>10.190582</td>\n      <td>51.083298</td>\n      <td>218.073165</td>\n      <td>8.076784</td>\n      <td>428</td>\n      <td>33</td>\n      <td>100.0</td>\n      <td>125.0</td>\n      <td>4.027778</td>\n      <td>3.583333</td>\n    </tr>\n  </tbody>\n</table>\n<p>5 rows × 1619 columns</p>\n</div>"
     },
     "execution_count": 39,
     "metadata": {},
     "output_type": "execute_result"
    }
   ],
   "source": [
    "train.head()"
   ],
   "metadata": {
    "collapsed": false,
    "pycharm": {
     "name": "#%%\n"
    }
   }
  },
  {
   "cell_type": "markdown",
   "source": [],
   "metadata": {
    "collapsed": false
   }
  },
  {
   "cell_type": "markdown",
   "source": [
    "# binning the retention time"
   ],
   "metadata": {
    "collapsed": false
   }
  },
  {
   "cell_type": "code",
   "execution_count": null,
   "outputs": [],
   "source": [
    "# feel free to change the parameter min_diff, as it indicate the minimum difference between each bins"
>>>>>>> Stashed changes
   ],
   "metadata": {
    "collapsed": false,
    "pycharm": {
     "name": "#%%\n"
    }
   }
  },
  {
   "cell_type": "code",
<<<<<<< Updated upstream
   "execution_count": 103,
   "outputs": [],
   "source": [
    "data = pd.concat([hilic, descriptors],axis =1)"
=======
   "execution_count": 17,
   "outputs": [
    {
     "data": {
      "text/plain": "<Figure size 432x288 with 2 Axes>",
      "image/png": "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\n"
     },
     "metadata": {
      "needs_background": "light"
     },
     "output_type": "display_data"
    },
    {
     "name": "stdout",
     "output_type": "stream",
     "text": [
      "the distinct rt intervals are ['(-inf, 2.27)' '[2.27, 2.70)' '[2.70, 3.44)' '[3.44, 4.58)' '[4.58, inf)']\n"
     ]
    }
   ],
   "source": [
    "data_bin = data_prep.bin_retention_time(data,'retention_time',variable = 'retention_time', bin_method = \"cart\", min_diff=0.5)\n"
>>>>>>> Stashed changes
   ],
   "metadata": {
    "collapsed": false,
    "pycharm": {
     "name": "#%%\n"
    }
   }
  },
  {
   "cell_type": "code",
<<<<<<< Updated upstream
   "execution_count": 104,
=======
   "execution_count": 5,
>>>>>>> Stashed changes
   "outputs": [],
   "source": [
    "data = data_prep.dataset_prep(data)"
   ],
   "metadata": {
    "collapsed": false,
    "pycharm": {
     "name": "#%%\n"
    }
   }
  },
  {
   "cell_type": "code",
<<<<<<< Updated upstream
   "execution_count": 105,
   "outputs": [],
   "source": [
    "train, test = data_prep.make_train_test(data, 0.8,0.2)"
=======
   "execution_count": 398,
   "id": "78c6a73f",
   "metadata": {},
   "outputs": [],
   "source": []
  },
  {
   "cell_type": "code",
   "execution_count": 6,
   "id": "debc0f17",
   "metadata": {},
   "outputs": [],
   "source": [
    "clf = RandomForestClassifier()\n",
    "# clf = lgb.LGBMClassifier()\n",
    "\n",
    "#Create a svm Classifier\n",
    "# clf = svm.SVC(kernel='rbf') # rbf Kernel\n"
   ]
  },
  {
   "cell_type": "code",
   "execution_count": 21,
   "outputs": [
    {
     "data": {
      "text/plain": "(836, 1621)"
     },
     "execution_count": 21,
     "metadata": {},
     "output_type": "execute_result"
    }
   ],
   "source": [
    "data_bin.shape"
   ],
   "metadata": {
    "collapsed": false,
    "pycharm": {
     "name": "#%%\n"
    }
   }
  },
  {
   "cell_type": "code",
   "execution_count": 22,
   "outputs": [
    {
     "data": {
      "text/plain": "(836, 1620)"
     },
     "execution_count": 22,
     "metadata": {},
     "output_type": "execute_result"
    }
   ],
   "source": [
    "data.shape"
   ],
   "metadata": {
    "collapsed": false,
    "pycharm": {
     "name": "#%%\n"
    }
   }
  },
  {
   "cell_type": "code",
   "execution_count": 387,
   "outputs": [],
   "source": [
    "import lightgbm as lgb"
>>>>>>> Stashed changes
   ],
   "metadata": {
    "collapsed": false,
    "pycharm": {
     "name": "#%%\n"
    }
   }
  },
  {
   "cell_type": "code",
<<<<<<< Updated upstream
   "execution_count": 154,
=======
   "execution_count": 18,
>>>>>>> Stashed changes
   "outputs": [
    {
     "name": "stdout",
     "output_type": "stream",
     "text": [
<<<<<<< Updated upstream
      "i am updated!\n"
=======
      "retention_time_cat\n"
     ]
    },
    {
     "name": "stderr",
     "output_type": "stream",
     "text": [
      "<frozen importlib._bootstrap>:228: RuntimeWarning: scipy._lib.messagestream.MessageStream size changed, may indicate binary incompatibility. Expected 56 from C header, got 64 from PyObject\n",
      "<frozen importlib._bootstrap>:228: RuntimeWarning: scipy._lib.messagestream.MessageStream size changed, may indicate binary incompatibility. Expected 56 from C header, got 64 from PyObject\n",
      "<frozen importlib._bootstrap>:228: RuntimeWarning: scipy._lib.messagestream.MessageStream size changed, may indicate binary incompatibility. Expected 56 from C header, got 64 from PyObject\n",
      "<frozen importlib._bootstrap>:228: RuntimeWarning: scipy._lib.messagestream.MessageStream size changed, may indicate binary incompatibility. Expected 56 from C header, got 64 from PyObject\n",
      "<frozen importlib._bootstrap>:228: RuntimeWarning: scipy._lib.messagestream.MessageStream size changed, may indicate binary incompatibility. Expected 56 from C header, got 64 from PyObject\n",
      "<frozen importlib._bootstrap>:228: RuntimeWarning: scipy._lib.messagestream.MessageStream size changed, may indicate binary incompatibility. Expected 56 from C header, got 64 from PyObject\n",
      "<frozen importlib._bootstrap>:228: RuntimeWarning: scipy._lib.messagestream.MessageStream size changed, may indicate binary incompatibility. Expected 56 from C header, got 64 from PyObject\n",
      "<frozen importlib._bootstrap>:228: RuntimeWarning: scipy._lib.messagestream.MessageStream size changed, may indicate binary incompatibility. Expected 56 from C header, got 64 from PyObject\n",
      "<frozen importlib._bootstrap>:228: RuntimeWarning: scipy._lib.messagestream.MessageStream size changed, may indicate binary incompatibility. Expected 56 from C header, got 64 from PyObject\n",
      "<frozen importlib._bootstrap>:228: RuntimeWarning: scipy._lib.messagestream.MessageStream size changed, may indicate binary incompatibility. Expected 56 from C header, got 64 from PyObject\n",
      "<frozen importlib._bootstrap>:228: RuntimeWarning: scipy._lib.messagestream.MessageStream size changed, may indicate binary incompatibility. Expected 56 from C header, got 64 from PyObject\n",
      "<frozen importlib._bootstrap>:228: RuntimeWarning: scipy._lib.messagestream.MessageStream size changed, may indicate binary incompatibility. Expected 56 from C header, got 64 from PyObject\n",
      "<frozen importlib._bootstrap>:228: RuntimeWarning: scipy._lib.messagestream.MessageStream size changed, may indicate binary incompatibility. Expected 56 from C header, got 64 from PyObject\n",
      "<frozen importlib._bootstrap>:228: RuntimeWarning: scipy._lib.messagestream.MessageStream size changed, may indicate binary incompatibility. Expected 56 from C header, got 64 from PyObject\n",
      "<frozen importlib._bootstrap>:228: RuntimeWarning: scipy._lib.messagestream.MessageStream size changed, may indicate binary incompatibility. Expected 56 from C header, got 64 from PyObject\n",
      "<frozen importlib._bootstrap>:228: RuntimeWarning: scipy._lib.messagestream.MessageStream size changed, may indicate binary incompatibility. Expected 56 from C header, got 64 from PyObject\n"
     ]
    },
    {
     "name": "stdout",
     "output_type": "stream",
     "text": [
      "Cleanlab found 71 potential label errors.\n"
>>>>>>> Stashed changes
     ]
    }
   ],
   "source": [
    "x_train, y_train = data_prep.make_x_y(train)\n",
    "x_test, y_test = data_prep.make_x_y(test)"
   ],
   "metadata": {
    "collapsed": false,
    "pycharm": {
     "name": "#%%\n"
    }
   }
  },
  {
<<<<<<< Updated upstream
   "cell_type": "markdown",
=======
   "cell_type": "code",
   "execution_count": 20,
   "outputs": [
    {
     "data": {
      "text/plain": "        Compound_name Column Organic_modifier   pH       Buffer  \\\n1     1-hydroxypyrene  HILIC     Acetonitrile  3.0  Acetic acid   \n12      1-Nitropyrene  HILIC     Acetonitrile  2.7  Formic acid   \n13      1-Nitropyrene  HILIC     Acetonitrile  3.0  Acetic acid   \n14      1-Nitropyrene  HILIC     Acetonitrile  3.0  Formic acid   \n44   2-naphthoic acid  HILIC     Acetonitrile  6.7  Formic acid   \n..                ...    ...              ...  ...          ...   \n736    Sulfamethazine  HILIC     Acetonitrile  5.0  Formic acid   \n737    Sulfamethazine  HILIC     Acetonitrile  6.7  Formic acid   \n738    Sulfamethazine  HILIC         Methanol  2.7  Formic acid   \n740    Sulfamethazine  HILIC         Methanol  3.0  Formic acid   \n811      Trimethoprim  HILIC         Methanol  3.0  Acetic acid   \n\n                                      SMILES  retention_time  \\\n1              c1cc2ccc3ccc(c4ccc(c1)c2c34)O       12.321429   \n12       c1cc2ccc3ccc(c4ccc(c1)c2c34)N(=O)=O        2.373333   \n13       c1cc2ccc3ccc(c4ccc(c1)c2c34)N(=O)=O        2.338000   \n14       c1cc2ccc3ccc(c4ccc(c1)c2c34)N(=O)=O        2.226667   \n44                    c1ccc2cc(ccc2c1)C(=O)O        2.295714   \n..                                       ...             ...   \n736      Cc1cc(C)nc(n1)NS(=O)(=O)c1ccc(cc1)N        2.480000   \n737      Cc1cc(C)nc(n1)NS(=O)(=O)c1ccc(cc1)N        1.990000   \n738      Cc1cc(C)nc(n1)NS(=O)(=O)c1ccc(cc1)N        1.877143   \n740      Cc1cc(C)nc(n1)NS(=O)(=O)c1ccc(cc1)N        2.295714   \n811  COc1cc(Cc2c[nH]c(=N)[nH]c2=N)cc(c1OC)OC        6.164286   \n\n    retention_time_cat        ABC      ABCGG  ...      SRW10     TSRW10  \\\n1                    4  14.008885  10.537147  ...  10.190582  51.083298   \n12                   1  15.492048  11.735103  ...  10.272116  53.528456   \n13                   1  15.492048  11.735103  ...  10.272116  53.528456   \n14                   0  15.492048  11.735103  ...  10.272116  53.528456   \n44                   1  10.037394   8.562783  ...   9.407468  44.347861   \n..                 ...        ...        ...  ...        ...        ...   \n736                  1  14.726533  12.491650  ...   9.824498  52.353339   \n737                  0  14.726533  12.491650  ...   9.824498  52.353339   \n738                  0  14.726533  12.491650  ...   9.824498  52.353339   \n740                  1  14.726533  12.491650  ...   9.824498  52.353339   \n811                  4  15.653808  13.530766  ...   9.882519  54.636160   \n\n             MW       AMW  WPath  WPol  Zagreb1  Zagreb2  mZagreb1  mZagreb2  \n1    218.073165  8.076784    428    33    100.0    125.0  4.027778  3.583333  \n12   247.063329  8.823690    596    37    110.0    137.0  5.138889  4.027778  \n13   247.063329  8.823690    596    37    110.0    137.0  5.138889  4.027778  \n14   247.063329  8.823690    596    37    110.0    137.0  5.138889  4.027778  \n44   172.052429  8.192973    238    18     66.0     76.0  4.194444  2.888889  \n..          ...       ...    ...   ...      ...      ...       ...       ...  \n736  278.083747  8.426780    722    27     98.0    111.0  7.618056  4.041667  \n737  278.083747  8.426780    722    27     98.0    111.0  7.618056  4.041667  \n738  278.083747  8.426780    722    27     98.0    111.0  7.618056  4.041667  \n740  278.083747  8.426780    722    27     98.0    111.0  7.618056  4.041667  \n811  290.137890  7.439433    946    33    104.0    121.0  8.027778  4.916667  \n\n[71 rows x 1621 columns]",
      "text/html": "<div>\n<style scoped>\n    .dataframe tbody tr th:only-of-type {\n        vertical-align: middle;\n    }\n\n    .dataframe tbody tr th {\n        vertical-align: top;\n    }\n\n    .dataframe thead th {\n        text-align: right;\n    }\n</style>\n<table border=\"1\" class=\"dataframe\">\n  <thead>\n    <tr style=\"text-align: right;\">\n      <th></th>\n      <th>Compound_name</th>\n      <th>Column</th>\n      <th>Organic_modifier</th>\n      <th>pH</th>\n      <th>Buffer</th>\n      <th>SMILES</th>\n      <th>retention_time</th>\n      <th>retention_time_cat</th>\n      <th>ABC</th>\n      <th>ABCGG</th>\n      <th>...</th>\n      <th>SRW10</th>\n      <th>TSRW10</th>\n      <th>MW</th>\n      <th>AMW</th>\n      <th>WPath</th>\n      <th>WPol</th>\n      <th>Zagreb1</th>\n      <th>Zagreb2</th>\n      <th>mZagreb1</th>\n      <th>mZagreb2</th>\n    </tr>\n  </thead>\n  <tbody>\n    <tr>\n      <th>1</th>\n      <td>1-hydroxypyrene</td>\n      <td>HILIC</td>\n      <td>Acetonitrile</td>\n      <td>3.0</td>\n      <td>Acetic acid</td>\n      <td>c1cc2ccc3ccc(c4ccc(c1)c2c34)O</td>\n      <td>12.321429</td>\n      <td>4</td>\n      <td>14.008885</td>\n      <td>10.537147</td>\n      <td>...</td>\n      <td>10.190582</td>\n      <td>51.083298</td>\n      <td>218.073165</td>\n      <td>8.076784</td>\n      <td>428</td>\n      <td>33</td>\n      <td>100.0</td>\n      <td>125.0</td>\n      <td>4.027778</td>\n      <td>3.583333</td>\n    </tr>\n    <tr>\n      <th>12</th>\n      <td>1-Nitropyrene</td>\n      <td>HILIC</td>\n      <td>Acetonitrile</td>\n      <td>2.7</td>\n      <td>Formic acid</td>\n      <td>c1cc2ccc3ccc(c4ccc(c1)c2c34)N(=O)=O</td>\n      <td>2.373333</td>\n      <td>1</td>\n      <td>15.492048</td>\n      <td>11.735103</td>\n      <td>...</td>\n      <td>10.272116</td>\n      <td>53.528456</td>\n      <td>247.063329</td>\n      <td>8.823690</td>\n      <td>596</td>\n      <td>37</td>\n      <td>110.0</td>\n      <td>137.0</td>\n      <td>5.138889</td>\n      <td>4.027778</td>\n    </tr>\n    <tr>\n      <th>13</th>\n      <td>1-Nitropyrene</td>\n      <td>HILIC</td>\n      <td>Acetonitrile</td>\n      <td>3.0</td>\n      <td>Acetic acid</td>\n      <td>c1cc2ccc3ccc(c4ccc(c1)c2c34)N(=O)=O</td>\n      <td>2.338000</td>\n      <td>1</td>\n      <td>15.492048</td>\n      <td>11.735103</td>\n      <td>...</td>\n      <td>10.272116</td>\n      <td>53.528456</td>\n      <td>247.063329</td>\n      <td>8.823690</td>\n      <td>596</td>\n      <td>37</td>\n      <td>110.0</td>\n      <td>137.0</td>\n      <td>5.138889</td>\n      <td>4.027778</td>\n    </tr>\n    <tr>\n      <th>14</th>\n      <td>1-Nitropyrene</td>\n      <td>HILIC</td>\n      <td>Acetonitrile</td>\n      <td>3.0</td>\n      <td>Formic acid</td>\n      <td>c1cc2ccc3ccc(c4ccc(c1)c2c34)N(=O)=O</td>\n      <td>2.226667</td>\n      <td>0</td>\n      <td>15.492048</td>\n      <td>11.735103</td>\n      <td>...</td>\n      <td>10.272116</td>\n      <td>53.528456</td>\n      <td>247.063329</td>\n      <td>8.823690</td>\n      <td>596</td>\n      <td>37</td>\n      <td>110.0</td>\n      <td>137.0</td>\n      <td>5.138889</td>\n      <td>4.027778</td>\n    </tr>\n    <tr>\n      <th>44</th>\n      <td>2-naphthoic acid</td>\n      <td>HILIC</td>\n      <td>Acetonitrile</td>\n      <td>6.7</td>\n      <td>Formic acid</td>\n      <td>c1ccc2cc(ccc2c1)C(=O)O</td>\n      <td>2.295714</td>\n      <td>1</td>\n      <td>10.037394</td>\n      <td>8.562783</td>\n      <td>...</td>\n      <td>9.407468</td>\n      <td>44.347861</td>\n      <td>172.052429</td>\n      <td>8.192973</td>\n      <td>238</td>\n      <td>18</td>\n      <td>66.0</td>\n      <td>76.0</td>\n      <td>4.194444</td>\n      <td>2.888889</td>\n    </tr>\n    <tr>\n      <th>...</th>\n      <td>...</td>\n      <td>...</td>\n      <td>...</td>\n      <td>...</td>\n      <td>...</td>\n      <td>...</td>\n      <td>...</td>\n      <td>...</td>\n      <td>...</td>\n      <td>...</td>\n      <td>...</td>\n      <td>...</td>\n      <td>...</td>\n      <td>...</td>\n      <td>...</td>\n      <td>...</td>\n      <td>...</td>\n      <td>...</td>\n      <td>...</td>\n      <td>...</td>\n      <td>...</td>\n    </tr>\n    <tr>\n      <th>736</th>\n      <td>Sulfamethazine</td>\n      <td>HILIC</td>\n      <td>Acetonitrile</td>\n      <td>5.0</td>\n      <td>Formic acid</td>\n      <td>Cc1cc(C)nc(n1)NS(=O)(=O)c1ccc(cc1)N</td>\n      <td>2.480000</td>\n      <td>1</td>\n      <td>14.726533</td>\n      <td>12.491650</td>\n      <td>...</td>\n      <td>9.824498</td>\n      <td>52.353339</td>\n      <td>278.083747</td>\n      <td>8.426780</td>\n      <td>722</td>\n      <td>27</td>\n      <td>98.0</td>\n      <td>111.0</td>\n      <td>7.618056</td>\n      <td>4.041667</td>\n    </tr>\n    <tr>\n      <th>737</th>\n      <td>Sulfamethazine</td>\n      <td>HILIC</td>\n      <td>Acetonitrile</td>\n      <td>6.7</td>\n      <td>Formic acid</td>\n      <td>Cc1cc(C)nc(n1)NS(=O)(=O)c1ccc(cc1)N</td>\n      <td>1.990000</td>\n      <td>0</td>\n      <td>14.726533</td>\n      <td>12.491650</td>\n      <td>...</td>\n      <td>9.824498</td>\n      <td>52.353339</td>\n      <td>278.083747</td>\n      <td>8.426780</td>\n      <td>722</td>\n      <td>27</td>\n      <td>98.0</td>\n      <td>111.0</td>\n      <td>7.618056</td>\n      <td>4.041667</td>\n    </tr>\n    <tr>\n      <th>738</th>\n      <td>Sulfamethazine</td>\n      <td>HILIC</td>\n      <td>Methanol</td>\n      <td>2.7</td>\n      <td>Formic acid</td>\n      <td>Cc1cc(C)nc(n1)NS(=O)(=O)c1ccc(cc1)N</td>\n      <td>1.877143</td>\n      <td>0</td>\n      <td>14.726533</td>\n      <td>12.491650</td>\n      <td>...</td>\n      <td>9.824498</td>\n      <td>52.353339</td>\n      <td>278.083747</td>\n      <td>8.426780</td>\n      <td>722</td>\n      <td>27</td>\n      <td>98.0</td>\n      <td>111.0</td>\n      <td>7.618056</td>\n      <td>4.041667</td>\n    </tr>\n    <tr>\n      <th>740</th>\n      <td>Sulfamethazine</td>\n      <td>HILIC</td>\n      <td>Methanol</td>\n      <td>3.0</td>\n      <td>Formic acid</td>\n      <td>Cc1cc(C)nc(n1)NS(=O)(=O)c1ccc(cc1)N</td>\n      <td>2.295714</td>\n      <td>1</td>\n      <td>14.726533</td>\n      <td>12.491650</td>\n      <td>...</td>\n      <td>9.824498</td>\n      <td>52.353339</td>\n      <td>278.083747</td>\n      <td>8.426780</td>\n      <td>722</td>\n      <td>27</td>\n      <td>98.0</td>\n      <td>111.0</td>\n      <td>7.618056</td>\n      <td>4.041667</td>\n    </tr>\n    <tr>\n      <th>811</th>\n      <td>Trimethoprim</td>\n      <td>HILIC</td>\n      <td>Methanol</td>\n      <td>3.0</td>\n      <td>Acetic acid</td>\n      <td>COc1cc(Cc2c[nH]c(=N)[nH]c2=N)cc(c1OC)OC</td>\n      <td>6.164286</td>\n      <td>4</td>\n      <td>15.653808</td>\n      <td>13.530766</td>\n      <td>...</td>\n      <td>9.882519</td>\n      <td>54.636160</td>\n      <td>290.137890</td>\n      <td>7.439433</td>\n      <td>946</td>\n      <td>33</td>\n      <td>104.0</td>\n      <td>121.0</td>\n      <td>8.027778</td>\n      <td>4.916667</td>\n    </tr>\n  </tbody>\n</table>\n<p>71 rows × 1621 columns</p>\n</div>"
     },
     "execution_count": 20,
     "metadata": {},
     "output_type": "execute_result"
    }
   ],
>>>>>>> Stashed changes
   "source": [
    "# start of reproducing clean lab code"
   ],
   "metadata": {
    "collapsed": false,
    "pycharm": {
     "name": "#%% md\n"
    }
   }
  },
  {
   "cell_type": "code",
<<<<<<< Updated upstream
   "execution_count": 16,
=======
   "execution_count": 23,
   "outputs": [
    {
     "data": {
      "text/plain": "      Compound_name Column Organic_modifier   pH       Buffer  \\\n0   1-hydroxypyrene  HILIC     Acetonitrile  2.7  Formic acid   \n2   1-hydroxypyrene  HILIC     Acetonitrile  3.0  Formic acid   \n3   1-hydroxypyrene  HILIC     Acetonitrile  5.0  Acetic acid   \n4   1-hydroxypyrene  HILIC     Acetonitrile  5.0  Formic acid   \n5   1-hydroxypyrene  HILIC     Acetonitrile  6.7  Formic acid   \n6   1-hydroxypyrene  HILIC         Methanol  2.7  Formic acid   \n7   1-hydroxypyrene  HILIC         Methanol  3.0  Acetic acid   \n8   1-hydroxypyrene  HILIC         Methanol  3.0  Formic acid   \n9   1-hydroxypyrene  HILIC         Methanol  5.0  Acetic acid   \n10  1-hydroxypyrene  HILIC         Methanol  5.0  Formic acid   \n11  1-hydroxypyrene  HILIC         Methanol  6.7  Formic acid   \n\n                           SMILES  retention_time retention_time_cat  \\\n0   c1cc2ccc3ccc(c4ccc(c1)c2c34)O        1.822857                  0   \n2   c1cc2ccc3ccc(c4ccc(c1)c2c34)O        1.857143                  0   \n3   c1cc2ccc3ccc(c4ccc(c1)c2c34)O        1.850000                  0   \n4   c1cc2ccc3ccc(c4ccc(c1)c2c34)O        1.851429                  0   \n5   c1cc2ccc3ccc(c4ccc(c1)c2c34)O        1.930000                  0   \n6   c1cc2ccc3ccc(c4ccc(c1)c2c34)O        1.794286                  0   \n7   c1cc2ccc3ccc(c4ccc(c1)c2c34)O        1.545714                  0   \n8   c1cc2ccc3ccc(c4ccc(c1)c2c34)O        1.790000                  0   \n9   c1cc2ccc3ccc(c4ccc(c1)c2c34)O        1.534286                  0   \n10  c1cc2ccc3ccc(c4ccc(c1)c2c34)O        1.792857                  0   \n11  c1cc2ccc3ccc(c4ccc(c1)c2c34)O        1.810000                  0   \n\n          ABC      ABCGG  ...      SRW10     TSRW10          MW       AMW  \\\n0   14.008885  10.537147  ...  10.190582  51.083298  218.073165  8.076784   \n2   14.008885  10.537147  ...  10.190582  51.083298  218.073165  8.076784   \n3   14.008885  10.537147  ...  10.190582  51.083298  218.073165  8.076784   \n4   14.008885  10.537147  ...  10.190582  51.083298  218.073165  8.076784   \n5   14.008885  10.537147  ...  10.190582  51.083298  218.073165  8.076784   \n6   14.008885  10.537147  ...  10.190582  51.083298  218.073165  8.076784   \n7   14.008885  10.537147  ...  10.190582  51.083298  218.073165  8.076784   \n8   14.008885  10.537147  ...  10.190582  51.083298  218.073165  8.076784   \n9   14.008885  10.537147  ...  10.190582  51.083298  218.073165  8.076784   \n10  14.008885  10.537147  ...  10.190582  51.083298  218.073165  8.076784   \n11  14.008885  10.537147  ...  10.190582  51.083298  218.073165  8.076784   \n\n    WPath  WPol  Zagreb1  Zagreb2  mZagreb1  mZagreb2  \n0     428    33    100.0    125.0  4.027778  3.583333  \n2     428    33    100.0    125.0  4.027778  3.583333  \n3     428    33    100.0    125.0  4.027778  3.583333  \n4     428    33    100.0    125.0  4.027778  3.583333  \n5     428    33    100.0    125.0  4.027778  3.583333  \n6     428    33    100.0    125.0  4.027778  3.583333  \n7     428    33    100.0    125.0  4.027778  3.583333  \n8     428    33    100.0    125.0  4.027778  3.583333  \n9     428    33    100.0    125.0  4.027778  3.583333  \n10    428    33    100.0    125.0  4.027778  3.583333  \n11    428    33    100.0    125.0  4.027778  3.583333  \n\n[11 rows x 1621 columns]",
      "text/html": "<div>\n<style scoped>\n    .dataframe tbody tr th:only-of-type {\n        vertical-align: middle;\n    }\n\n    .dataframe tbody tr th {\n        vertical-align: top;\n    }\n\n    .dataframe thead th {\n        text-align: right;\n    }\n</style>\n<table border=\"1\" class=\"dataframe\">\n  <thead>\n    <tr style=\"text-align: right;\">\n      <th></th>\n      <th>Compound_name</th>\n      <th>Column</th>\n      <th>Organic_modifier</th>\n      <th>pH</th>\n      <th>Buffer</th>\n      <th>SMILES</th>\n      <th>retention_time</th>\n      <th>retention_time_cat</th>\n      <th>ABC</th>\n      <th>ABCGG</th>\n      <th>...</th>\n      <th>SRW10</th>\n      <th>TSRW10</th>\n      <th>MW</th>\n      <th>AMW</th>\n      <th>WPath</th>\n      <th>WPol</th>\n      <th>Zagreb1</th>\n      <th>Zagreb2</th>\n      <th>mZagreb1</th>\n      <th>mZagreb2</th>\n    </tr>\n  </thead>\n  <tbody>\n    <tr>\n      <th>0</th>\n      <td>1-hydroxypyrene</td>\n      <td>HILIC</td>\n      <td>Acetonitrile</td>\n      <td>2.7</td>\n      <td>Formic acid</td>\n      <td>c1cc2ccc3ccc(c4ccc(c1)c2c34)O</td>\n      <td>1.822857</td>\n      <td>0</td>\n      <td>14.008885</td>\n      <td>10.537147</td>\n      <td>...</td>\n      <td>10.190582</td>\n      <td>51.083298</td>\n      <td>218.073165</td>\n      <td>8.076784</td>\n      <td>428</td>\n      <td>33</td>\n      <td>100.0</td>\n      <td>125.0</td>\n      <td>4.027778</td>\n      <td>3.583333</td>\n    </tr>\n    <tr>\n      <th>2</th>\n      <td>1-hydroxypyrene</td>\n      <td>HILIC</td>\n      <td>Acetonitrile</td>\n      <td>3.0</td>\n      <td>Formic acid</td>\n      <td>c1cc2ccc3ccc(c4ccc(c1)c2c34)O</td>\n      <td>1.857143</td>\n      <td>0</td>\n      <td>14.008885</td>\n      <td>10.537147</td>\n      <td>...</td>\n      <td>10.190582</td>\n      <td>51.083298</td>\n      <td>218.073165</td>\n      <td>8.076784</td>\n      <td>428</td>\n      <td>33</td>\n      <td>100.0</td>\n      <td>125.0</td>\n      <td>4.027778</td>\n      <td>3.583333</td>\n    </tr>\n    <tr>\n      <th>3</th>\n      <td>1-hydroxypyrene</td>\n      <td>HILIC</td>\n      <td>Acetonitrile</td>\n      <td>5.0</td>\n      <td>Acetic acid</td>\n      <td>c1cc2ccc3ccc(c4ccc(c1)c2c34)O</td>\n      <td>1.850000</td>\n      <td>0</td>\n      <td>14.008885</td>\n      <td>10.537147</td>\n      <td>...</td>\n      <td>10.190582</td>\n      <td>51.083298</td>\n      <td>218.073165</td>\n      <td>8.076784</td>\n      <td>428</td>\n      <td>33</td>\n      <td>100.0</td>\n      <td>125.0</td>\n      <td>4.027778</td>\n      <td>3.583333</td>\n    </tr>\n    <tr>\n      <th>4</th>\n      <td>1-hydroxypyrene</td>\n      <td>HILIC</td>\n      <td>Acetonitrile</td>\n      <td>5.0</td>\n      <td>Formic acid</td>\n      <td>c1cc2ccc3ccc(c4ccc(c1)c2c34)O</td>\n      <td>1.851429</td>\n      <td>0</td>\n      <td>14.008885</td>\n      <td>10.537147</td>\n      <td>...</td>\n      <td>10.190582</td>\n      <td>51.083298</td>\n      <td>218.073165</td>\n      <td>8.076784</td>\n      <td>428</td>\n      <td>33</td>\n      <td>100.0</td>\n      <td>125.0</td>\n      <td>4.027778</td>\n      <td>3.583333</td>\n    </tr>\n    <tr>\n      <th>5</th>\n      <td>1-hydroxypyrene</td>\n      <td>HILIC</td>\n      <td>Acetonitrile</td>\n      <td>6.7</td>\n      <td>Formic acid</td>\n      <td>c1cc2ccc3ccc(c4ccc(c1)c2c34)O</td>\n      <td>1.930000</td>\n      <td>0</td>\n      <td>14.008885</td>\n      <td>10.537147</td>\n      <td>...</td>\n      <td>10.190582</td>\n      <td>51.083298</td>\n      <td>218.073165</td>\n      <td>8.076784</td>\n      <td>428</td>\n      <td>33</td>\n      <td>100.0</td>\n      <td>125.0</td>\n      <td>4.027778</td>\n      <td>3.583333</td>\n    </tr>\n    <tr>\n      <th>6</th>\n      <td>1-hydroxypyrene</td>\n      <td>HILIC</td>\n      <td>Methanol</td>\n      <td>2.7</td>\n      <td>Formic acid</td>\n      <td>c1cc2ccc3ccc(c4ccc(c1)c2c34)O</td>\n      <td>1.794286</td>\n      <td>0</td>\n      <td>14.008885</td>\n      <td>10.537147</td>\n      <td>...</td>\n      <td>10.190582</td>\n      <td>51.083298</td>\n      <td>218.073165</td>\n      <td>8.076784</td>\n      <td>428</td>\n      <td>33</td>\n      <td>100.0</td>\n      <td>125.0</td>\n      <td>4.027778</td>\n      <td>3.583333</td>\n    </tr>\n    <tr>\n      <th>7</th>\n      <td>1-hydroxypyrene</td>\n      <td>HILIC</td>\n      <td>Methanol</td>\n      <td>3.0</td>\n      <td>Acetic acid</td>\n      <td>c1cc2ccc3ccc(c4ccc(c1)c2c34)O</td>\n      <td>1.545714</td>\n      <td>0</td>\n      <td>14.008885</td>\n      <td>10.537147</td>\n      <td>...</td>\n      <td>10.190582</td>\n      <td>51.083298</td>\n      <td>218.073165</td>\n      <td>8.076784</td>\n      <td>428</td>\n      <td>33</td>\n      <td>100.0</td>\n      <td>125.0</td>\n      <td>4.027778</td>\n      <td>3.583333</td>\n    </tr>\n    <tr>\n      <th>8</th>\n      <td>1-hydroxypyrene</td>\n      <td>HILIC</td>\n      <td>Methanol</td>\n      <td>3.0</td>\n      <td>Formic acid</td>\n      <td>c1cc2ccc3ccc(c4ccc(c1)c2c34)O</td>\n      <td>1.790000</td>\n      <td>0</td>\n      <td>14.008885</td>\n      <td>10.537147</td>\n      <td>...</td>\n      <td>10.190582</td>\n      <td>51.083298</td>\n      <td>218.073165</td>\n      <td>8.076784</td>\n      <td>428</td>\n      <td>33</td>\n      <td>100.0</td>\n      <td>125.0</td>\n      <td>4.027778</td>\n      <td>3.583333</td>\n    </tr>\n    <tr>\n      <th>9</th>\n      <td>1-hydroxypyrene</td>\n      <td>HILIC</td>\n      <td>Methanol</td>\n      <td>5.0</td>\n      <td>Acetic acid</td>\n      <td>c1cc2ccc3ccc(c4ccc(c1)c2c34)O</td>\n      <td>1.534286</td>\n      <td>0</td>\n      <td>14.008885</td>\n      <td>10.537147</td>\n      <td>...</td>\n      <td>10.190582</td>\n      <td>51.083298</td>\n      <td>218.073165</td>\n      <td>8.076784</td>\n      <td>428</td>\n      <td>33</td>\n      <td>100.0</td>\n      <td>125.0</td>\n      <td>4.027778</td>\n      <td>3.583333</td>\n    </tr>\n    <tr>\n      <th>10</th>\n      <td>1-hydroxypyrene</td>\n      <td>HILIC</td>\n      <td>Methanol</td>\n      <td>5.0</td>\n      <td>Formic acid</td>\n      <td>c1cc2ccc3ccc(c4ccc(c1)c2c34)O</td>\n      <td>1.792857</td>\n      <td>0</td>\n      <td>14.008885</td>\n      <td>10.537147</td>\n      <td>...</td>\n      <td>10.190582</td>\n      <td>51.083298</td>\n      <td>218.073165</td>\n      <td>8.076784</td>\n      <td>428</td>\n      <td>33</td>\n      <td>100.0</td>\n      <td>125.0</td>\n      <td>4.027778</td>\n      <td>3.583333</td>\n    </tr>\n    <tr>\n      <th>11</th>\n      <td>1-hydroxypyrene</td>\n      <td>HILIC</td>\n      <td>Methanol</td>\n      <td>6.7</td>\n      <td>Formic acid</td>\n      <td>c1cc2ccc3ccc(c4ccc(c1)c2c34)O</td>\n      <td>1.810000</td>\n      <td>0</td>\n      <td>14.008885</td>\n      <td>10.537147</td>\n      <td>...</td>\n      <td>10.190582</td>\n      <td>51.083298</td>\n      <td>218.073165</td>\n      <td>8.076784</td>\n      <td>428</td>\n      <td>33</td>\n      <td>100.0</td>\n      <td>125.0</td>\n      <td>4.027778</td>\n      <td>3.583333</td>\n    </tr>\n  </tbody>\n</table>\n<p>11 rows × 1621 columns</p>\n</div>"
     },
     "execution_count": 23,
     "metadata": {},
     "output_type": "execute_result"
    }
   ],
   "source": [
    "data_confirmed.loc[data_confirmed['Compound_name']=='1-hydroxypyrene']"
   ],
   "metadata": {
    "collapsed": false,
    "pycharm": {
     "name": "#%%\n"
    }
   }
  },
  {
   "cell_type": "code",
   "execution_count": 13,
   "outputs": [
    {
     "data": {
      "text/plain": "          Compound_name Column Organic_modifier   pH       Buffer  \\\n1       1-hydroxypyrene  HILIC     Acetonitrile  3.0  Acetic acid   \n3       1-hydroxypyrene  HILIC     Acetonitrile  5.0  Acetic acid   \n11      1-hydroxypyrene  HILIC         Methanol  6.7  Formic acid   \n44     2-naphthoic acid  HILIC     Acetonitrile  6.7  Formic acid   \n46     2-naphthoic acid  HILIC         Methanol  3.0  Acetic acid   \n..                  ...    ...              ...  ...          ...   \n794         Trifluralin  HILIC     Acetonitrile  3.0  Formic acid   \n823  Triphenylphosphate  HILIC         Methanol  3.0  Acetic acid   \n825  Triphenylphosphate  HILIC         Methanol  5.0  Acetic acid   \n832           Valsartan  HILIC         Methanol  2.7  Formic acid   \n833           Valsartan  HILIC         Methanol  3.0  Formic acid   \n\n                                                SMILES  retention_time  \\\n1                        c1cc2ccc3ccc(c4ccc(c1)c2c34)O       12.321429   \n3                        c1cc2ccc3ccc(c4ccc(c1)c2c34)O        1.850000   \n11                       c1cc2ccc3ccc(c4ccc(c1)c2c34)O        1.810000   \n44                              c1ccc2cc(ccc2c1)C(=O)O        2.295714   \n46                              c1ccc2cc(ccc2c1)C(=O)O        1.824286   \n..                                                 ...             ...   \n794        CCCN(CCC)c1c(cc(cc1N(=O)=O)C(F)(F)F)N(=O)=O        1.846667   \n823               c1ccc(cc1)OP(=O)(Oc1ccccc1)Oc1ccccc1        1.824286   \n825               c1ccc(cc1)OP(=O)(Oc1ccccc1)Oc1ccccc1        1.798571   \n832  CCCCC(=O)N(Cc1ccc(cc1)c1ccccc1c1n[nH]nn1)[C@@H...        1.808571   \n833  CCCCC(=O)N(Cc1ccc(cc1)c1ccccc1c1n[nH]nn1)[C@@H...        1.790000   \n\n    retention_time_cat        ABC      ABCGG  ...      SRW10     TSRW10  \\\n1                    2  14.008885  10.537147  ...  10.190582  51.083298   \n3                    1  14.008885  10.537147  ...  10.190582  51.083298   \n11                   1  14.008885  10.537147  ...  10.190582  51.083298   \n44                   2  10.037394   8.562783  ...   9.407468  44.347861   \n46                   1  10.037394   8.562783  ...   9.407468  44.347861   \n..                 ...        ...        ...  ...        ...        ...   \n794                  1  16.913961  16.006091  ...  10.041814  57.146400   \n823                  1  17.836588  14.286218  ...   9.843260  56.915029   \n825                  0  17.836588  14.286218  ...   9.843260  56.915029   \n832                  1  24.305499  20.006308  ...  10.252700  80.792385   \n833                  0  24.305499  20.006308  ...  10.252700  80.792385   \n\n             MW       AMW  WPath  WPol  Zagreb1  Zagreb2   mZagreb1  mZagreb2  \n1    218.073165  8.076784    428    33    100.0    125.0   4.027778  3.583333  \n3    218.073165  8.076784    428    33    100.0    125.0   4.027778  3.583333  \n11   218.073165  8.076784    428    33    100.0    125.0   4.027778  3.583333  \n44   172.052429  8.192973    238    18     66.0     76.0   4.194444  2.888889  \n46   172.052429  8.192973    238    18     66.0     76.0   4.194444  2.888889  \n..          ...       ...    ...   ...      ...      ...        ...       ...  \n794  335.109291  8.592546   1082    37    112.0    129.0  11.340278  5.222222  \n823  326.070796  8.580810   1204    30    116.0    130.0   5.895833  5.125000  \n825  326.070796  8.580810   1204    30    116.0    130.0   5.895833  5.125000  \n832  435.227040  7.134870   3122    49    160.0    186.0  11.111111  7.277778  \n833  435.227040  7.134870   3122    49    160.0    186.0  11.111111  7.277778  \n\n[90 rows x 1334 columns]",
      "text/html": "<div>\n<style scoped>\n    .dataframe tbody tr th:only-of-type {\n        vertical-align: middle;\n    }\n\n    .dataframe tbody tr th {\n        vertical-align: top;\n    }\n\n    .dataframe thead th {\n        text-align: right;\n    }\n</style>\n<table border=\"1\" class=\"dataframe\">\n  <thead>\n    <tr style=\"text-align: right;\">\n      <th></th>\n      <th>Compound_name</th>\n      <th>Column</th>\n      <th>Organic_modifier</th>\n      <th>pH</th>\n      <th>Buffer</th>\n      <th>SMILES</th>\n      <th>retention_time</th>\n      <th>retention_time_cat</th>\n      <th>ABC</th>\n      <th>ABCGG</th>\n      <th>...</th>\n      <th>SRW10</th>\n      <th>TSRW10</th>\n      <th>MW</th>\n      <th>AMW</th>\n      <th>WPath</th>\n      <th>WPol</th>\n      <th>Zagreb1</th>\n      <th>Zagreb2</th>\n      <th>mZagreb1</th>\n      <th>mZagreb2</th>\n    </tr>\n  </thead>\n  <tbody>\n    <tr>\n      <th>1</th>\n      <td>1-hydroxypyrene</td>\n      <td>HILIC</td>\n      <td>Acetonitrile</td>\n      <td>3.0</td>\n      <td>Acetic acid</td>\n      <td>c1cc2ccc3ccc(c4ccc(c1)c2c34)O</td>\n      <td>12.321429</td>\n      <td>2</td>\n      <td>14.008885</td>\n      <td>10.537147</td>\n      <td>...</td>\n      <td>10.190582</td>\n      <td>51.083298</td>\n      <td>218.073165</td>\n      <td>8.076784</td>\n      <td>428</td>\n      <td>33</td>\n      <td>100.0</td>\n      <td>125.0</td>\n      <td>4.027778</td>\n      <td>3.583333</td>\n    </tr>\n    <tr>\n      <th>3</th>\n      <td>1-hydroxypyrene</td>\n      <td>HILIC</td>\n      <td>Acetonitrile</td>\n      <td>5.0</td>\n      <td>Acetic acid</td>\n      <td>c1cc2ccc3ccc(c4ccc(c1)c2c34)O</td>\n      <td>1.850000</td>\n      <td>1</td>\n      <td>14.008885</td>\n      <td>10.537147</td>\n      <td>...</td>\n      <td>10.190582</td>\n      <td>51.083298</td>\n      <td>218.073165</td>\n      <td>8.076784</td>\n      <td>428</td>\n      <td>33</td>\n      <td>100.0</td>\n      <td>125.0</td>\n      <td>4.027778</td>\n      <td>3.583333</td>\n    </tr>\n    <tr>\n      <th>11</th>\n      <td>1-hydroxypyrene</td>\n      <td>HILIC</td>\n      <td>Methanol</td>\n      <td>6.7</td>\n      <td>Formic acid</td>\n      <td>c1cc2ccc3ccc(c4ccc(c1)c2c34)O</td>\n      <td>1.810000</td>\n      <td>1</td>\n      <td>14.008885</td>\n      <td>10.537147</td>\n      <td>...</td>\n      <td>10.190582</td>\n      <td>51.083298</td>\n      <td>218.073165</td>\n      <td>8.076784</td>\n      <td>428</td>\n      <td>33</td>\n      <td>100.0</td>\n      <td>125.0</td>\n      <td>4.027778</td>\n      <td>3.583333</td>\n    </tr>\n    <tr>\n      <th>44</th>\n      <td>2-naphthoic acid</td>\n      <td>HILIC</td>\n      <td>Acetonitrile</td>\n      <td>6.7</td>\n      <td>Formic acid</td>\n      <td>c1ccc2cc(ccc2c1)C(=O)O</td>\n      <td>2.295714</td>\n      <td>2</td>\n      <td>10.037394</td>\n      <td>8.562783</td>\n      <td>...</td>\n      <td>9.407468</td>\n      <td>44.347861</td>\n      <td>172.052429</td>\n      <td>8.192973</td>\n      <td>238</td>\n      <td>18</td>\n      <td>66.0</td>\n      <td>76.0</td>\n      <td>4.194444</td>\n      <td>2.888889</td>\n    </tr>\n    <tr>\n      <th>46</th>\n      <td>2-naphthoic acid</td>\n      <td>HILIC</td>\n      <td>Methanol</td>\n      <td>3.0</td>\n      <td>Acetic acid</td>\n      <td>c1ccc2cc(ccc2c1)C(=O)O</td>\n      <td>1.824286</td>\n      <td>1</td>\n      <td>10.037394</td>\n      <td>8.562783</td>\n      <td>...</td>\n      <td>9.407468</td>\n      <td>44.347861</td>\n      <td>172.052429</td>\n      <td>8.192973</td>\n      <td>238</td>\n      <td>18</td>\n      <td>66.0</td>\n      <td>76.0</td>\n      <td>4.194444</td>\n      <td>2.888889</td>\n    </tr>\n    <tr>\n      <th>...</th>\n      <td>...</td>\n      <td>...</td>\n      <td>...</td>\n      <td>...</td>\n      <td>...</td>\n      <td>...</td>\n      <td>...</td>\n      <td>...</td>\n      <td>...</td>\n      <td>...</td>\n      <td>...</td>\n      <td>...</td>\n      <td>...</td>\n      <td>...</td>\n      <td>...</td>\n      <td>...</td>\n      <td>...</td>\n      <td>...</td>\n      <td>...</td>\n      <td>...</td>\n      <td>...</td>\n    </tr>\n    <tr>\n      <th>794</th>\n      <td>Trifluralin</td>\n      <td>HILIC</td>\n      <td>Acetonitrile</td>\n      <td>3.0</td>\n      <td>Formic acid</td>\n      <td>CCCN(CCC)c1c(cc(cc1N(=O)=O)C(F)(F)F)N(=O)=O</td>\n      <td>1.846667</td>\n      <td>1</td>\n      <td>16.913961</td>\n      <td>16.006091</td>\n      <td>...</td>\n      <td>10.041814</td>\n      <td>57.146400</td>\n      <td>335.109291</td>\n      <td>8.592546</td>\n      <td>1082</td>\n      <td>37</td>\n      <td>112.0</td>\n      <td>129.0</td>\n      <td>11.340278</td>\n      <td>5.222222</td>\n    </tr>\n    <tr>\n      <th>823</th>\n      <td>Triphenylphosphate</td>\n      <td>HILIC</td>\n      <td>Methanol</td>\n      <td>3.0</td>\n      <td>Acetic acid</td>\n      <td>c1ccc(cc1)OP(=O)(Oc1ccccc1)Oc1ccccc1</td>\n      <td>1.824286</td>\n      <td>1</td>\n      <td>17.836588</td>\n      <td>14.286218</td>\n      <td>...</td>\n      <td>9.843260</td>\n      <td>56.915029</td>\n      <td>326.070796</td>\n      <td>8.580810</td>\n      <td>1204</td>\n      <td>30</td>\n      <td>116.0</td>\n      <td>130.0</td>\n      <td>5.895833</td>\n      <td>5.125000</td>\n    </tr>\n    <tr>\n      <th>825</th>\n      <td>Triphenylphosphate</td>\n      <td>HILIC</td>\n      <td>Methanol</td>\n      <td>5.0</td>\n      <td>Acetic acid</td>\n      <td>c1ccc(cc1)OP(=O)(Oc1ccccc1)Oc1ccccc1</td>\n      <td>1.798571</td>\n      <td>0</td>\n      <td>17.836588</td>\n      <td>14.286218</td>\n      <td>...</td>\n      <td>9.843260</td>\n      <td>56.915029</td>\n      <td>326.070796</td>\n      <td>8.580810</td>\n      <td>1204</td>\n      <td>30</td>\n      <td>116.0</td>\n      <td>130.0</td>\n      <td>5.895833</td>\n      <td>5.125000</td>\n    </tr>\n    <tr>\n      <th>832</th>\n      <td>Valsartan</td>\n      <td>HILIC</td>\n      <td>Methanol</td>\n      <td>2.7</td>\n      <td>Formic acid</td>\n      <td>CCCCC(=O)N(Cc1ccc(cc1)c1ccccc1c1n[nH]nn1)[C@@H...</td>\n      <td>1.808571</td>\n      <td>1</td>\n      <td>24.305499</td>\n      <td>20.006308</td>\n      <td>...</td>\n      <td>10.252700</td>\n      <td>80.792385</td>\n      <td>435.227040</td>\n      <td>7.134870</td>\n      <td>3122</td>\n      <td>49</td>\n      <td>160.0</td>\n      <td>186.0</td>\n      <td>11.111111</td>\n      <td>7.277778</td>\n    </tr>\n    <tr>\n      <th>833</th>\n      <td>Valsartan</td>\n      <td>HILIC</td>\n      <td>Methanol</td>\n      <td>3.0</td>\n      <td>Formic acid</td>\n      <td>CCCCC(=O)N(Cc1ccc(cc1)c1ccccc1c1n[nH]nn1)[C@@H...</td>\n      <td>1.790000</td>\n      <td>0</td>\n      <td>24.305499</td>\n      <td>20.006308</td>\n      <td>...</td>\n      <td>10.252700</td>\n      <td>80.792385</td>\n      <td>435.227040</td>\n      <td>7.134870</td>\n      <td>3122</td>\n      <td>49</td>\n      <td>160.0</td>\n      <td>186.0</td>\n      <td>11.111111</td>\n      <td>7.277778</td>\n    </tr>\n  </tbody>\n</table>\n<p>90 rows × 1334 columns</p>\n</div>"
     },
     "execution_count": 13,
     "metadata": {},
     "output_type": "execute_result"
    }
   ],
   "source": [
    "data_suspicious"
   ],
   "metadata": {
    "collapsed": false,
    "pycharm": {
     "name": "#%%\n"
    }
   }
  },
  {
   "cell_type": "code",
   "execution_count": 9,
   "outputs": [
    {
     "data": {
      "text/plain": "       Compound_name Column Organic_modifier   pH       Buffer  \\\n0    1-hydroxypyrene  HILIC     Acetonitrile  2.7  Formic acid   \n1    1-hydroxypyrene  HILIC     Acetonitrile  3.0  Acetic acid   \n2    1-hydroxypyrene  HILIC     Acetonitrile  3.0  Formic acid   \n4    1-hydroxypyrene  HILIC     Acetonitrile  5.0  Formic acid   \n5    1-hydroxypyrene  HILIC     Acetonitrile  6.7  Formic acid   \n..               ...    ...              ...  ...          ...   \n829        Valsartan  HILIC     Acetonitrile  3.0  Formic acid   \n832        Valsartan  HILIC         Methanol  2.7  Formic acid   \n833        Valsartan  HILIC         Methanol  3.0  Formic acid   \n834        Valsartan  HILIC         Methanol  5.0  Acetic acid   \n835        Valsartan  HILIC         Methanol  5.0  Formic acid   \n\n                                                SMILES  retention_time  \\\n0                        c1cc2ccc3ccc(c4ccc(c1)c2c34)O        1.822857   \n1                        c1cc2ccc3ccc(c4ccc(c1)c2c34)O       12.321429   \n2                        c1cc2ccc3ccc(c4ccc(c1)c2c34)O        1.857143   \n4                        c1cc2ccc3ccc(c4ccc(c1)c2c34)O        1.851429   \n5                        c1cc2ccc3ccc(c4ccc(c1)c2c34)O        1.930000   \n..                                                 ...             ...   \n829  CCCCC(=O)N(Cc1ccc(cc1)c1ccccc1c1n[nH]nn1)[C@@H...        1.910000   \n832  CCCCC(=O)N(Cc1ccc(cc1)c1ccccc1c1n[nH]nn1)[C@@H...        1.808571   \n833  CCCCC(=O)N(Cc1ccc(cc1)c1ccccc1c1n[nH]nn1)[C@@H...        1.790000   \n834  CCCCC(=O)N(Cc1ccc(cc1)c1ccccc1c1n[nH]nn1)[C@@H...        1.433333   \n835  CCCCC(=O)N(Cc1ccc(cc1)c1ccccc1c1n[nH]nn1)[C@@H...        1.463333   \n\n    retention_time_cat        ABC      ABCGG  ...      SRW10     TSRW10  \\\n0                    1  14.008885  10.537147  ...  10.190582  51.083298   \n1                    4  14.008885  10.537147  ...  10.190582  51.083298   \n2                    1  14.008885  10.537147  ...  10.190582  51.083298   \n4                    1  14.008885  10.537147  ...  10.190582  51.083298   \n5                    1  14.008885  10.537147  ...  10.190582  51.083298   \n..                 ...        ...        ...  ...        ...        ...   \n829                  1  24.305499  20.006308  ...  10.252700  80.792385   \n832                  1  24.305499  20.006308  ...  10.252700  80.792385   \n833                  1  24.305499  20.006308  ...  10.252700  80.792385   \n834                  0  24.305499  20.006308  ...  10.252700  80.792385   \n835                  0  24.305499  20.006308  ...  10.252700  80.792385   \n\n             MW       AMW  WPath  WPol  Zagreb1  Zagreb2   mZagreb1  mZagreb2  \n0    218.073165  8.076784    428    33    100.0    125.0   4.027778  3.583333  \n1    218.073165  8.076784    428    33    100.0    125.0   4.027778  3.583333  \n2    218.073165  8.076784    428    33    100.0    125.0   4.027778  3.583333  \n4    218.073165  8.076784    428    33    100.0    125.0   4.027778  3.583333  \n5    218.073165  8.076784    428    33    100.0    125.0   4.027778  3.583333  \n..          ...       ...    ...   ...      ...      ...        ...       ...  \n829  435.227040  7.134870   3122    49    160.0    186.0  11.111111  7.277778  \n832  435.227040  7.134870   3122    49    160.0    186.0  11.111111  7.277778  \n833  435.227040  7.134870   3122    49    160.0    186.0  11.111111  7.277778  \n834  435.227040  7.134870   3122    49    160.0    186.0  11.111111  7.277778  \n835  435.227040  7.134870   3122    49    160.0    186.0  11.111111  7.277778  \n\n[760 rows x 1334 columns]",
      "text/html": "<div>\n<style scoped>\n    .dataframe tbody tr th:only-of-type {\n        vertical-align: middle;\n    }\n\n    .dataframe tbody tr th {\n        vertical-align: top;\n    }\n\n    .dataframe thead th {\n        text-align: right;\n    }\n</style>\n<table border=\"1\" class=\"dataframe\">\n  <thead>\n    <tr style=\"text-align: right;\">\n      <th></th>\n      <th>Compound_name</th>\n      <th>Column</th>\n      <th>Organic_modifier</th>\n      <th>pH</th>\n      <th>Buffer</th>\n      <th>SMILES</th>\n      <th>retention_time</th>\n      <th>retention_time_cat</th>\n      <th>ABC</th>\n      <th>ABCGG</th>\n      <th>...</th>\n      <th>SRW10</th>\n      <th>TSRW10</th>\n      <th>MW</th>\n      <th>AMW</th>\n      <th>WPath</th>\n      <th>WPol</th>\n      <th>Zagreb1</th>\n      <th>Zagreb2</th>\n      <th>mZagreb1</th>\n      <th>mZagreb2</th>\n    </tr>\n  </thead>\n  <tbody>\n    <tr>\n      <th>0</th>\n      <td>1-hydroxypyrene</td>\n      <td>HILIC</td>\n      <td>Acetonitrile</td>\n      <td>2.7</td>\n      <td>Formic acid</td>\n      <td>c1cc2ccc3ccc(c4ccc(c1)c2c34)O</td>\n      <td>1.822857</td>\n      <td>1</td>\n      <td>14.008885</td>\n      <td>10.537147</td>\n      <td>...</td>\n      <td>10.190582</td>\n      <td>51.083298</td>\n      <td>218.073165</td>\n      <td>8.076784</td>\n      <td>428</td>\n      <td>33</td>\n      <td>100.0</td>\n      <td>125.0</td>\n      <td>4.027778</td>\n      <td>3.583333</td>\n    </tr>\n    <tr>\n      <th>1</th>\n      <td>1-hydroxypyrene</td>\n      <td>HILIC</td>\n      <td>Acetonitrile</td>\n      <td>3.0</td>\n      <td>Acetic acid</td>\n      <td>c1cc2ccc3ccc(c4ccc(c1)c2c34)O</td>\n      <td>12.321429</td>\n      <td>4</td>\n      <td>14.008885</td>\n      <td>10.537147</td>\n      <td>...</td>\n      <td>10.190582</td>\n      <td>51.083298</td>\n      <td>218.073165</td>\n      <td>8.076784</td>\n      <td>428</td>\n      <td>33</td>\n      <td>100.0</td>\n      <td>125.0</td>\n      <td>4.027778</td>\n      <td>3.583333</td>\n    </tr>\n    <tr>\n      <th>2</th>\n      <td>1-hydroxypyrene</td>\n      <td>HILIC</td>\n      <td>Acetonitrile</td>\n      <td>3.0</td>\n      <td>Formic acid</td>\n      <td>c1cc2ccc3ccc(c4ccc(c1)c2c34)O</td>\n      <td>1.857143</td>\n      <td>1</td>\n      <td>14.008885</td>\n      <td>10.537147</td>\n      <td>...</td>\n      <td>10.190582</td>\n      <td>51.083298</td>\n      <td>218.073165</td>\n      <td>8.076784</td>\n      <td>428</td>\n      <td>33</td>\n      <td>100.0</td>\n      <td>125.0</td>\n      <td>4.027778</td>\n      <td>3.583333</td>\n    </tr>\n    <tr>\n      <th>4</th>\n      <td>1-hydroxypyrene</td>\n      <td>HILIC</td>\n      <td>Acetonitrile</td>\n      <td>5.0</td>\n      <td>Formic acid</td>\n      <td>c1cc2ccc3ccc(c4ccc(c1)c2c34)O</td>\n      <td>1.851429</td>\n      <td>1</td>\n      <td>14.008885</td>\n      <td>10.537147</td>\n      <td>...</td>\n      <td>10.190582</td>\n      <td>51.083298</td>\n      <td>218.073165</td>\n      <td>8.076784</td>\n      <td>428</td>\n      <td>33</td>\n      <td>100.0</td>\n      <td>125.0</td>\n      <td>4.027778</td>\n      <td>3.583333</td>\n    </tr>\n    <tr>\n      <th>5</th>\n      <td>1-hydroxypyrene</td>\n      <td>HILIC</td>\n      <td>Acetonitrile</td>\n      <td>6.7</td>\n      <td>Formic acid</td>\n      <td>c1cc2ccc3ccc(c4ccc(c1)c2c34)O</td>\n      <td>1.930000</td>\n      <td>1</td>\n      <td>14.008885</td>\n      <td>10.537147</td>\n      <td>...</td>\n      <td>10.190582</td>\n      <td>51.083298</td>\n      <td>218.073165</td>\n      <td>8.076784</td>\n      <td>428</td>\n      <td>33</td>\n      <td>100.0</td>\n      <td>125.0</td>\n      <td>4.027778</td>\n      <td>3.583333</td>\n    </tr>\n    <tr>\n      <th>...</th>\n      <td>...</td>\n      <td>...</td>\n      <td>...</td>\n      <td>...</td>\n      <td>...</td>\n      <td>...</td>\n      <td>...</td>\n      <td>...</td>\n      <td>...</td>\n      <td>...</td>\n      <td>...</td>\n      <td>...</td>\n      <td>...</td>\n      <td>...</td>\n      <td>...</td>\n      <td>...</td>\n      <td>...</td>\n      <td>...</td>\n      <td>...</td>\n      <td>...</td>\n      <td>...</td>\n    </tr>\n    <tr>\n      <th>829</th>\n      <td>Valsartan</td>\n      <td>HILIC</td>\n      <td>Acetonitrile</td>\n      <td>3.0</td>\n      <td>Formic acid</td>\n      <td>CCCCC(=O)N(Cc1ccc(cc1)c1ccccc1c1n[nH]nn1)[C@@H...</td>\n      <td>1.910000</td>\n      <td>1</td>\n      <td>24.305499</td>\n      <td>20.006308</td>\n      <td>...</td>\n      <td>10.252700</td>\n      <td>80.792385</td>\n      <td>435.227040</td>\n      <td>7.134870</td>\n      <td>3122</td>\n      <td>49</td>\n      <td>160.0</td>\n      <td>186.0</td>\n      <td>11.111111</td>\n      <td>7.277778</td>\n    </tr>\n    <tr>\n      <th>832</th>\n      <td>Valsartan</td>\n      <td>HILIC</td>\n      <td>Methanol</td>\n      <td>2.7</td>\n      <td>Formic acid</td>\n      <td>CCCCC(=O)N(Cc1ccc(cc1)c1ccccc1c1n[nH]nn1)[C@@H...</td>\n      <td>1.808571</td>\n      <td>1</td>\n      <td>24.305499</td>\n      <td>20.006308</td>\n      <td>...</td>\n      <td>10.252700</td>\n      <td>80.792385</td>\n      <td>435.227040</td>\n      <td>7.134870</td>\n      <td>3122</td>\n      <td>49</td>\n      <td>160.0</td>\n      <td>186.0</td>\n      <td>11.111111</td>\n      <td>7.277778</td>\n    </tr>\n    <tr>\n      <th>833</th>\n      <td>Valsartan</td>\n      <td>HILIC</td>\n      <td>Methanol</td>\n      <td>3.0</td>\n      <td>Formic acid</td>\n      <td>CCCCC(=O)N(Cc1ccc(cc1)c1ccccc1c1n[nH]nn1)[C@@H...</td>\n      <td>1.790000</td>\n      <td>1</td>\n      <td>24.305499</td>\n      <td>20.006308</td>\n      <td>...</td>\n      <td>10.252700</td>\n      <td>80.792385</td>\n      <td>435.227040</td>\n      <td>7.134870</td>\n      <td>3122</td>\n      <td>49</td>\n      <td>160.0</td>\n      <td>186.0</td>\n      <td>11.111111</td>\n      <td>7.277778</td>\n    </tr>\n    <tr>\n      <th>834</th>\n      <td>Valsartan</td>\n      <td>HILIC</td>\n      <td>Methanol</td>\n      <td>5.0</td>\n      <td>Acetic acid</td>\n      <td>CCCCC(=O)N(Cc1ccc(cc1)c1ccccc1c1n[nH]nn1)[C@@H...</td>\n      <td>1.433333</td>\n      <td>0</td>\n      <td>24.305499</td>\n      <td>20.006308</td>\n      <td>...</td>\n      <td>10.252700</td>\n      <td>80.792385</td>\n      <td>435.227040</td>\n      <td>7.134870</td>\n      <td>3122</td>\n      <td>49</td>\n      <td>160.0</td>\n      <td>186.0</td>\n      <td>11.111111</td>\n      <td>7.277778</td>\n    </tr>\n    <tr>\n      <th>835</th>\n      <td>Valsartan</td>\n      <td>HILIC</td>\n      <td>Methanol</td>\n      <td>5.0</td>\n      <td>Formic acid</td>\n      <td>CCCCC(=O)N(Cc1ccc(cc1)c1ccccc1c1n[nH]nn1)[C@@H...</td>\n      <td>1.463333</td>\n      <td>0</td>\n      <td>24.305499</td>\n      <td>20.006308</td>\n      <td>...</td>\n      <td>10.252700</td>\n      <td>80.792385</td>\n      <td>435.227040</td>\n      <td>7.134870</td>\n      <td>3122</td>\n      <td>49</td>\n      <td>160.0</td>\n      <td>186.0</td>\n      <td>11.111111</td>\n      <td>7.277778</td>\n    </tr>\n  </tbody>\n</table>\n<p>760 rows × 1334 columns</p>\n</div>"
     },
     "execution_count": 9,
     "metadata": {},
     "output_type": "execute_result"
    }
   ],
   "source": [
    "data_confirmed"
   ],
   "metadata": {
    "collapsed": false,
    "pycharm": {
     "name": "#%%\n"
    }
   }
  },
  {
   "cell_type": "code",
   "execution_count": 24,
>>>>>>> Stashed changes
   "outputs": [],
   "source": [
    "SEED = 123456\n",
    "np.random.seed(SEED)\n",
    "random.seed(SEED)"
   ],
   "metadata": {
    "collapsed": false,
    "pycharm": {
     "name": "#%%\n"
    }
   }
  },
  {
   "cell_type": "code",
<<<<<<< Updated upstream
   "execution_count": 17,
   "outputs": [
    {
     "name": "stderr",
     "output_type": "stream",
     "text": [
      "<frozen importlib._bootstrap>:228: RuntimeWarning: scipy._lib.messagestream.MessageStream size changed, may indicate binary incompatibility. Expected 56 from C header, got 64 from PyObject\n"
     ]
    }
   ],
   "source": [
    "from sklearn.datasets import fetch_openml\n",
    "\n",
    "data = fetch_openml(\"credit-g\")  # get the credit data from OpenML\n",
    "X_raw = data.data  # features (pandas DataFrame)\n",
    "y_raw = data.target  # labels (pandas Series)"
=======
   "execution_count": 40,
   "outputs": [
    {
     "data": {
      "text/plain": "       Compound_name Column Organic_modifier   pH       Buffer  \\\n0    1-hydroxypyrene  HILIC     Acetonitrile  2.7  Formic acid   \n1    1-hydroxypyrene  HILIC     Acetonitrile  3.0  Acetic acid   \n2    1-hydroxypyrene  HILIC     Acetonitrile  3.0  Formic acid   \n3    1-hydroxypyrene  HILIC     Acetonitrile  5.0  Acetic acid   \n4    1-hydroxypyrene  HILIC     Acetonitrile  5.0  Formic acid   \n..               ...    ...              ...  ...          ...   \n831        Valsartan  HILIC     Acetonitrile  5.0  Formic acid   \n832        Valsartan  HILIC         Methanol  2.7  Formic acid   \n833        Valsartan  HILIC         Methanol  3.0  Formic acid   \n834        Valsartan  HILIC         Methanol  5.0  Acetic acid   \n835        Valsartan  HILIC         Methanol  5.0  Formic acid   \n\n                                                SMILES  retention_time  \\\n0                        c1cc2ccc3ccc(c4ccc(c1)c2c34)O        1.822857   \n1                        c1cc2ccc3ccc(c4ccc(c1)c2c34)O       12.321429   \n2                        c1cc2ccc3ccc(c4ccc(c1)c2c34)O        1.857143   \n3                        c1cc2ccc3ccc(c4ccc(c1)c2c34)O        1.850000   \n4                        c1cc2ccc3ccc(c4ccc(c1)c2c34)O        1.851429   \n..                                                 ...             ...   \n831  CCCCC(=O)N(Cc1ccc(cc1)c1ccccc1c1n[nH]nn1)[C@@H...        3.177143   \n832  CCCCC(=O)N(Cc1ccc(cc1)c1ccccc1c1n[nH]nn1)[C@@H...        1.808571   \n833  CCCCC(=O)N(Cc1ccc(cc1)c1ccccc1c1n[nH]nn1)[C@@H...        1.790000   \n834  CCCCC(=O)N(Cc1ccc(cc1)c1ccccc1c1n[nH]nn1)[C@@H...        1.433333   \n835  CCCCC(=O)N(Cc1ccc(cc1)c1ccccc1c1n[nH]nn1)[C@@H...        1.463333   \n\n           ABC      ABCGG  nAcid  ...      SRW10     TSRW10          MW  \\\n0    14.008885  10.537147      0  ...  10.190582  51.083298  218.073165   \n1    14.008885  10.537147      0  ...  10.190582  51.083298  218.073165   \n2    14.008885  10.537147      0  ...  10.190582  51.083298  218.073165   \n3    14.008885  10.537147      0  ...  10.190582  51.083298  218.073165   \n4    14.008885  10.537147      0  ...  10.190582  51.083298  218.073165   \n..         ...        ...    ...  ...        ...        ...         ...   \n831  24.305499  20.006308      3  ...  10.252700  80.792385  435.227040   \n832  24.305499  20.006308      3  ...  10.252700  80.792385  435.227040   \n833  24.305499  20.006308      3  ...  10.252700  80.792385  435.227040   \n834  24.305499  20.006308      3  ...  10.252700  80.792385  435.227040   \n835  24.305499  20.006308      3  ...  10.252700  80.792385  435.227040   \n\n          AMW  WPath  WPol  Zagreb1  Zagreb2   mZagreb1  mZagreb2  \n0    8.076784    428    33    100.0    125.0   4.027778  3.583333  \n1    8.076784    428    33    100.0    125.0   4.027778  3.583333  \n2    8.076784    428    33    100.0    125.0   4.027778  3.583333  \n3    8.076784    428    33    100.0    125.0   4.027778  3.583333  \n4    8.076784    428    33    100.0    125.0   4.027778  3.583333  \n..        ...    ...   ...      ...      ...        ...       ...  \n831  7.134870   3122    49    160.0    186.0  11.111111  7.277778  \n832  7.134870   3122    49    160.0    186.0  11.111111  7.277778  \n833  7.134870   3122    49    160.0    186.0  11.111111  7.277778  \n834  7.134870   3122    49    160.0    186.0  11.111111  7.277778  \n835  7.134870   3122    49    160.0    186.0  11.111111  7.277778  \n\n[836 rows x 1620 columns]",
      "text/html": "<div>\n<style scoped>\n    .dataframe tbody tr th:only-of-type {\n        vertical-align: middle;\n    }\n\n    .dataframe tbody tr th {\n        vertical-align: top;\n    }\n\n    .dataframe thead th {\n        text-align: right;\n    }\n</style>\n<table border=\"1\" class=\"dataframe\">\n  <thead>\n    <tr style=\"text-align: right;\">\n      <th></th>\n      <th>Compound_name</th>\n      <th>Column</th>\n      <th>Organic_modifier</th>\n      <th>pH</th>\n      <th>Buffer</th>\n      <th>SMILES</th>\n      <th>retention_time</th>\n      <th>ABC</th>\n      <th>ABCGG</th>\n      <th>nAcid</th>\n      <th>...</th>\n      <th>SRW10</th>\n      <th>TSRW10</th>\n      <th>MW</th>\n      <th>AMW</th>\n      <th>WPath</th>\n      <th>WPol</th>\n      <th>Zagreb1</th>\n      <th>Zagreb2</th>\n      <th>mZagreb1</th>\n      <th>mZagreb2</th>\n    </tr>\n  </thead>\n  <tbody>\n    <tr>\n      <th>0</th>\n      <td>1-hydroxypyrene</td>\n      <td>HILIC</td>\n      <td>Acetonitrile</td>\n      <td>2.7</td>\n      <td>Formic acid</td>\n      <td>c1cc2ccc3ccc(c4ccc(c1)c2c34)O</td>\n      <td>1.822857</td>\n      <td>14.008885</td>\n      <td>10.537147</td>\n      <td>0</td>\n      <td>...</td>\n      <td>10.190582</td>\n      <td>51.083298</td>\n      <td>218.073165</td>\n      <td>8.076784</td>\n      <td>428</td>\n      <td>33</td>\n      <td>100.0</td>\n      <td>125.0</td>\n      <td>4.027778</td>\n      <td>3.583333</td>\n    </tr>\n    <tr>\n      <th>1</th>\n      <td>1-hydroxypyrene</td>\n      <td>HILIC</td>\n      <td>Acetonitrile</td>\n      <td>3.0</td>\n      <td>Acetic acid</td>\n      <td>c1cc2ccc3ccc(c4ccc(c1)c2c34)O</td>\n      <td>12.321429</td>\n      <td>14.008885</td>\n      <td>10.537147</td>\n      <td>0</td>\n      <td>...</td>\n      <td>10.190582</td>\n      <td>51.083298</td>\n      <td>218.073165</td>\n      <td>8.076784</td>\n      <td>428</td>\n      <td>33</td>\n      <td>100.0</td>\n      <td>125.0</td>\n      <td>4.027778</td>\n      <td>3.583333</td>\n    </tr>\n    <tr>\n      <th>2</th>\n      <td>1-hydroxypyrene</td>\n      <td>HILIC</td>\n      <td>Acetonitrile</td>\n      <td>3.0</td>\n      <td>Formic acid</td>\n      <td>c1cc2ccc3ccc(c4ccc(c1)c2c34)O</td>\n      <td>1.857143</td>\n      <td>14.008885</td>\n      <td>10.537147</td>\n      <td>0</td>\n      <td>...</td>\n      <td>10.190582</td>\n      <td>51.083298</td>\n      <td>218.073165</td>\n      <td>8.076784</td>\n      <td>428</td>\n      <td>33</td>\n      <td>100.0</td>\n      <td>125.0</td>\n      <td>4.027778</td>\n      <td>3.583333</td>\n    </tr>\n    <tr>\n      <th>3</th>\n      <td>1-hydroxypyrene</td>\n      <td>HILIC</td>\n      <td>Acetonitrile</td>\n      <td>5.0</td>\n      <td>Acetic acid</td>\n      <td>c1cc2ccc3ccc(c4ccc(c1)c2c34)O</td>\n      <td>1.850000</td>\n      <td>14.008885</td>\n      <td>10.537147</td>\n      <td>0</td>\n      <td>...</td>\n      <td>10.190582</td>\n      <td>51.083298</td>\n      <td>218.073165</td>\n      <td>8.076784</td>\n      <td>428</td>\n      <td>33</td>\n      <td>100.0</td>\n      <td>125.0</td>\n      <td>4.027778</td>\n      <td>3.583333</td>\n    </tr>\n    <tr>\n      <th>4</th>\n      <td>1-hydroxypyrene</td>\n      <td>HILIC</td>\n      <td>Acetonitrile</td>\n      <td>5.0</td>\n      <td>Formic acid</td>\n      <td>c1cc2ccc3ccc(c4ccc(c1)c2c34)O</td>\n      <td>1.851429</td>\n      <td>14.008885</td>\n      <td>10.537147</td>\n      <td>0</td>\n      <td>...</td>\n      <td>10.190582</td>\n      <td>51.083298</td>\n      <td>218.073165</td>\n      <td>8.076784</td>\n      <td>428</td>\n      <td>33</td>\n      <td>100.0</td>\n      <td>125.0</td>\n      <td>4.027778</td>\n      <td>3.583333</td>\n    </tr>\n    <tr>\n      <th>...</th>\n      <td>...</td>\n      <td>...</td>\n      <td>...</td>\n      <td>...</td>\n      <td>...</td>\n      <td>...</td>\n      <td>...</td>\n      <td>...</td>\n      <td>...</td>\n      <td>...</td>\n      <td>...</td>\n      <td>...</td>\n      <td>...</td>\n      <td>...</td>\n      <td>...</td>\n      <td>...</td>\n      <td>...</td>\n      <td>...</td>\n      <td>...</td>\n      <td>...</td>\n      <td>...</td>\n    </tr>\n    <tr>\n      <th>831</th>\n      <td>Valsartan</td>\n      <td>HILIC</td>\n      <td>Acetonitrile</td>\n      <td>5.0</td>\n      <td>Formic acid</td>\n      <td>CCCCC(=O)N(Cc1ccc(cc1)c1ccccc1c1n[nH]nn1)[C@@H...</td>\n      <td>3.177143</td>\n      <td>24.305499</td>\n      <td>20.006308</td>\n      <td>3</td>\n      <td>...</td>\n      <td>10.252700</td>\n      <td>80.792385</td>\n      <td>435.227040</td>\n      <td>7.134870</td>\n      <td>3122</td>\n      <td>49</td>\n      <td>160.0</td>\n      <td>186.0</td>\n      <td>11.111111</td>\n      <td>7.277778</td>\n    </tr>\n    <tr>\n      <th>832</th>\n      <td>Valsartan</td>\n      <td>HILIC</td>\n      <td>Methanol</td>\n      <td>2.7</td>\n      <td>Formic acid</td>\n      <td>CCCCC(=O)N(Cc1ccc(cc1)c1ccccc1c1n[nH]nn1)[C@@H...</td>\n      <td>1.808571</td>\n      <td>24.305499</td>\n      <td>20.006308</td>\n      <td>3</td>\n      <td>...</td>\n      <td>10.252700</td>\n      <td>80.792385</td>\n      <td>435.227040</td>\n      <td>7.134870</td>\n      <td>3122</td>\n      <td>49</td>\n      <td>160.0</td>\n      <td>186.0</td>\n      <td>11.111111</td>\n      <td>7.277778</td>\n    </tr>\n    <tr>\n      <th>833</th>\n      <td>Valsartan</td>\n      <td>HILIC</td>\n      <td>Methanol</td>\n      <td>3.0</td>\n      <td>Formic acid</td>\n      <td>CCCCC(=O)N(Cc1ccc(cc1)c1ccccc1c1n[nH]nn1)[C@@H...</td>\n      <td>1.790000</td>\n      <td>24.305499</td>\n      <td>20.006308</td>\n      <td>3</td>\n      <td>...</td>\n      <td>10.252700</td>\n      <td>80.792385</td>\n      <td>435.227040</td>\n      <td>7.134870</td>\n      <td>3122</td>\n      <td>49</td>\n      <td>160.0</td>\n      <td>186.0</td>\n      <td>11.111111</td>\n      <td>7.277778</td>\n    </tr>\n    <tr>\n      <th>834</th>\n      <td>Valsartan</td>\n      <td>HILIC</td>\n      <td>Methanol</td>\n      <td>5.0</td>\n      <td>Acetic acid</td>\n      <td>CCCCC(=O)N(Cc1ccc(cc1)c1ccccc1c1n[nH]nn1)[C@@H...</td>\n      <td>1.433333</td>\n      <td>24.305499</td>\n      <td>20.006308</td>\n      <td>3</td>\n      <td>...</td>\n      <td>10.252700</td>\n      <td>80.792385</td>\n      <td>435.227040</td>\n      <td>7.134870</td>\n      <td>3122</td>\n      <td>49</td>\n      <td>160.0</td>\n      <td>186.0</td>\n      <td>11.111111</td>\n      <td>7.277778</td>\n    </tr>\n    <tr>\n      <th>835</th>\n      <td>Valsartan</td>\n      <td>HILIC</td>\n      <td>Methanol</td>\n      <td>5.0</td>\n      <td>Formic acid</td>\n      <td>CCCCC(=O)N(Cc1ccc(cc1)c1ccccc1c1n[nH]nn1)[C@@H...</td>\n      <td>1.463333</td>\n      <td>24.305499</td>\n      <td>20.006308</td>\n      <td>3</td>\n      <td>...</td>\n      <td>10.252700</td>\n      <td>80.792385</td>\n      <td>435.227040</td>\n      <td>7.134870</td>\n      <td>3122</td>\n      <td>49</td>\n      <td>160.0</td>\n      <td>186.0</td>\n      <td>11.111111</td>\n      <td>7.277778</td>\n    </tr>\n  </tbody>\n</table>\n<p>836 rows × 1620 columns</p>\n</div>"
     },
     "execution_count": 40,
     "metadata": {},
     "output_type": "execute_result"
    }
   ],
   "source": [
    "data"
   ],
   "metadata": {
    "collapsed": false,
    "pycharm": {
     "name": "#%%\n"
    }
   }
  },
  {
   "cell_type": "code",
   "execution_count": 41,
   "outputs": [
    {
     "data": {
      "text/plain": "       Compound_name Column Organic_modifier   pH       Buffer  \\\n0    1-hydroxypyrene  HILIC     Acetonitrile  2.7  Formic acid   \n2    1-hydroxypyrene  HILIC     Acetonitrile  3.0  Formic acid   \n3    1-hydroxypyrene  HILIC     Acetonitrile  5.0  Acetic acid   \n4    1-hydroxypyrene  HILIC     Acetonitrile  5.0  Formic acid   \n5    1-hydroxypyrene  HILIC     Acetonitrile  6.7  Formic acid   \n..               ...    ...              ...  ...          ...   \n831        Valsartan  HILIC     Acetonitrile  5.0  Formic acid   \n832        Valsartan  HILIC         Methanol  2.7  Formic acid   \n833        Valsartan  HILIC         Methanol  3.0  Formic acid   \n834        Valsartan  HILIC         Methanol  5.0  Acetic acid   \n835        Valsartan  HILIC         Methanol  5.0  Formic acid   \n\n                                                SMILES  retention_time  \\\n0                        c1cc2ccc3ccc(c4ccc(c1)c2c34)O        1.822857   \n2                        c1cc2ccc3ccc(c4ccc(c1)c2c34)O        1.857143   \n3                        c1cc2ccc3ccc(c4ccc(c1)c2c34)O        1.850000   \n4                        c1cc2ccc3ccc(c4ccc(c1)c2c34)O        1.851429   \n5                        c1cc2ccc3ccc(c4ccc(c1)c2c34)O        1.930000   \n..                                                 ...             ...   \n831  CCCCC(=O)N(Cc1ccc(cc1)c1ccccc1c1n[nH]nn1)[C@@H...        3.177143   \n832  CCCCC(=O)N(Cc1ccc(cc1)c1ccccc1c1n[nH]nn1)[C@@H...        1.808571   \n833  CCCCC(=O)N(Cc1ccc(cc1)c1ccccc1c1n[nH]nn1)[C@@H...        1.790000   \n834  CCCCC(=O)N(Cc1ccc(cc1)c1ccccc1c1n[nH]nn1)[C@@H...        1.433333   \n835  CCCCC(=O)N(Cc1ccc(cc1)c1ccccc1c1n[nH]nn1)[C@@H...        1.463333   \n\n           ABC      ABCGG  nAcid  ...     TSRW10          MW       AMW  WPath  \\\n0    14.008885  10.537147      0  ...  51.083298  218.073165  8.076784    428   \n2    14.008885  10.537147      0  ...  51.083298  218.073165  8.076784    428   \n3    14.008885  10.537147      0  ...  51.083298  218.073165  8.076784    428   \n4    14.008885  10.537147      0  ...  51.083298  218.073165  8.076784    428   \n5    14.008885  10.537147      0  ...  51.083298  218.073165  8.076784    428   \n..         ...        ...    ...  ...        ...         ...       ...    ...   \n831  24.305499  20.006308      3  ...  80.792385  435.227040  7.134870   3122   \n832  24.305499  20.006308      3  ...  80.792385  435.227040  7.134870   3122   \n833  24.305499  20.006308      3  ...  80.792385  435.227040  7.134870   3122   \n834  24.305499  20.006308      3  ...  80.792385  435.227040  7.134870   3122   \n835  24.305499  20.006308      3  ...  80.792385  435.227040  7.134870   3122   \n\n     WPol  Zagreb1  Zagreb2   mZagreb1  mZagreb2  split_index  \n0      33    100.0    125.0   4.027778  3.583333            1  \n2      33    100.0    125.0   4.027778  3.583333            2  \n3      33    100.0    125.0   4.027778  3.583333            1  \n4      33    100.0    125.0   4.027778  3.583333            2  \n5      33    100.0    125.0   4.027778  3.583333            1  \n..    ...      ...      ...        ...       ...          ...  \n831    49    160.0    186.0  11.111111  7.277778            1  \n832    49    160.0    186.0  11.111111  7.277778            2  \n833    49    160.0    186.0  11.111111  7.277778            1  \n834    49    160.0    186.0  11.111111  7.277778            1  \n835    49    160.0    186.0  11.111111  7.277778            1  \n\n[765 rows x 1621 columns]",
      "text/html": "<div>\n<style scoped>\n    .dataframe tbody tr th:only-of-type {\n        vertical-align: middle;\n    }\n\n    .dataframe tbody tr th {\n        vertical-align: top;\n    }\n\n    .dataframe thead th {\n        text-align: right;\n    }\n</style>\n<table border=\"1\" class=\"dataframe\">\n  <thead>\n    <tr style=\"text-align: right;\">\n      <th></th>\n      <th>Compound_name</th>\n      <th>Column</th>\n      <th>Organic_modifier</th>\n      <th>pH</th>\n      <th>Buffer</th>\n      <th>SMILES</th>\n      <th>retention_time</th>\n      <th>ABC</th>\n      <th>ABCGG</th>\n      <th>nAcid</th>\n      <th>...</th>\n      <th>TSRW10</th>\n      <th>MW</th>\n      <th>AMW</th>\n      <th>WPath</th>\n      <th>WPol</th>\n      <th>Zagreb1</th>\n      <th>Zagreb2</th>\n      <th>mZagreb1</th>\n      <th>mZagreb2</th>\n      <th>split_index</th>\n    </tr>\n  </thead>\n  <tbody>\n    <tr>\n      <th>0</th>\n      <td>1-hydroxypyrene</td>\n      <td>HILIC</td>\n      <td>Acetonitrile</td>\n      <td>2.7</td>\n      <td>Formic acid</td>\n      <td>c1cc2ccc3ccc(c4ccc(c1)c2c34)O</td>\n      <td>1.822857</td>\n      <td>14.008885</td>\n      <td>10.537147</td>\n      <td>0</td>\n      <td>...</td>\n      <td>51.083298</td>\n      <td>218.073165</td>\n      <td>8.076784</td>\n      <td>428</td>\n      <td>33</td>\n      <td>100.0</td>\n      <td>125.0</td>\n      <td>4.027778</td>\n      <td>3.583333</td>\n      <td>1</td>\n    </tr>\n    <tr>\n      <th>2</th>\n      <td>1-hydroxypyrene</td>\n      <td>HILIC</td>\n      <td>Acetonitrile</td>\n      <td>3.0</td>\n      <td>Formic acid</td>\n      <td>c1cc2ccc3ccc(c4ccc(c1)c2c34)O</td>\n      <td>1.857143</td>\n      <td>14.008885</td>\n      <td>10.537147</td>\n      <td>0</td>\n      <td>...</td>\n      <td>51.083298</td>\n      <td>218.073165</td>\n      <td>8.076784</td>\n      <td>428</td>\n      <td>33</td>\n      <td>100.0</td>\n      <td>125.0</td>\n      <td>4.027778</td>\n      <td>3.583333</td>\n      <td>2</td>\n    </tr>\n    <tr>\n      <th>3</th>\n      <td>1-hydroxypyrene</td>\n      <td>HILIC</td>\n      <td>Acetonitrile</td>\n      <td>5.0</td>\n      <td>Acetic acid</td>\n      <td>c1cc2ccc3ccc(c4ccc(c1)c2c34)O</td>\n      <td>1.850000</td>\n      <td>14.008885</td>\n      <td>10.537147</td>\n      <td>0</td>\n      <td>...</td>\n      <td>51.083298</td>\n      <td>218.073165</td>\n      <td>8.076784</td>\n      <td>428</td>\n      <td>33</td>\n      <td>100.0</td>\n      <td>125.0</td>\n      <td>4.027778</td>\n      <td>3.583333</td>\n      <td>1</td>\n    </tr>\n    <tr>\n      <th>4</th>\n      <td>1-hydroxypyrene</td>\n      <td>HILIC</td>\n      <td>Acetonitrile</td>\n      <td>5.0</td>\n      <td>Formic acid</td>\n      <td>c1cc2ccc3ccc(c4ccc(c1)c2c34)O</td>\n      <td>1.851429</td>\n      <td>14.008885</td>\n      <td>10.537147</td>\n      <td>0</td>\n      <td>...</td>\n      <td>51.083298</td>\n      <td>218.073165</td>\n      <td>8.076784</td>\n      <td>428</td>\n      <td>33</td>\n      <td>100.0</td>\n      <td>125.0</td>\n      <td>4.027778</td>\n      <td>3.583333</td>\n      <td>2</td>\n    </tr>\n    <tr>\n      <th>5</th>\n      <td>1-hydroxypyrene</td>\n      <td>HILIC</td>\n      <td>Acetonitrile</td>\n      <td>6.7</td>\n      <td>Formic acid</td>\n      <td>c1cc2ccc3ccc(c4ccc(c1)c2c34)O</td>\n      <td>1.930000</td>\n      <td>14.008885</td>\n      <td>10.537147</td>\n      <td>0</td>\n      <td>...</td>\n      <td>51.083298</td>\n      <td>218.073165</td>\n      <td>8.076784</td>\n      <td>428</td>\n      <td>33</td>\n      <td>100.0</td>\n      <td>125.0</td>\n      <td>4.027778</td>\n      <td>3.583333</td>\n      <td>1</td>\n    </tr>\n    <tr>\n      <th>...</th>\n      <td>...</td>\n      <td>...</td>\n      <td>...</td>\n      <td>...</td>\n      <td>...</td>\n      <td>...</td>\n      <td>...</td>\n      <td>...</td>\n      <td>...</td>\n      <td>...</td>\n      <td>...</td>\n      <td>...</td>\n      <td>...</td>\n      <td>...</td>\n      <td>...</td>\n      <td>...</td>\n      <td>...</td>\n      <td>...</td>\n      <td>...</td>\n      <td>...</td>\n      <td>...</td>\n    </tr>\n    <tr>\n      <th>831</th>\n      <td>Valsartan</td>\n      <td>HILIC</td>\n      <td>Acetonitrile</td>\n      <td>5.0</td>\n      <td>Formic acid</td>\n      <td>CCCCC(=O)N(Cc1ccc(cc1)c1ccccc1c1n[nH]nn1)[C@@H...</td>\n      <td>3.177143</td>\n      <td>24.305499</td>\n      <td>20.006308</td>\n      <td>3</td>\n      <td>...</td>\n      <td>80.792385</td>\n      <td>435.227040</td>\n      <td>7.134870</td>\n      <td>3122</td>\n      <td>49</td>\n      <td>160.0</td>\n      <td>186.0</td>\n      <td>11.111111</td>\n      <td>7.277778</td>\n      <td>1</td>\n    </tr>\n    <tr>\n      <th>832</th>\n      <td>Valsartan</td>\n      <td>HILIC</td>\n      <td>Methanol</td>\n      <td>2.7</td>\n      <td>Formic acid</td>\n      <td>CCCCC(=O)N(Cc1ccc(cc1)c1ccccc1c1n[nH]nn1)[C@@H...</td>\n      <td>1.808571</td>\n      <td>24.305499</td>\n      <td>20.006308</td>\n      <td>3</td>\n      <td>...</td>\n      <td>80.792385</td>\n      <td>435.227040</td>\n      <td>7.134870</td>\n      <td>3122</td>\n      <td>49</td>\n      <td>160.0</td>\n      <td>186.0</td>\n      <td>11.111111</td>\n      <td>7.277778</td>\n      <td>2</td>\n    </tr>\n    <tr>\n      <th>833</th>\n      <td>Valsartan</td>\n      <td>HILIC</td>\n      <td>Methanol</td>\n      <td>3.0</td>\n      <td>Formic acid</td>\n      <td>CCCCC(=O)N(Cc1ccc(cc1)c1ccccc1c1n[nH]nn1)[C@@H...</td>\n      <td>1.790000</td>\n      <td>24.305499</td>\n      <td>20.006308</td>\n      <td>3</td>\n      <td>...</td>\n      <td>80.792385</td>\n      <td>435.227040</td>\n      <td>7.134870</td>\n      <td>3122</td>\n      <td>49</td>\n      <td>160.0</td>\n      <td>186.0</td>\n      <td>11.111111</td>\n      <td>7.277778</td>\n      <td>1</td>\n    </tr>\n    <tr>\n      <th>834</th>\n      <td>Valsartan</td>\n      <td>HILIC</td>\n      <td>Methanol</td>\n      <td>5.0</td>\n      <td>Acetic acid</td>\n      <td>CCCCC(=O)N(Cc1ccc(cc1)c1ccccc1c1n[nH]nn1)[C@@H...</td>\n      <td>1.433333</td>\n      <td>24.305499</td>\n      <td>20.006308</td>\n      <td>3</td>\n      <td>...</td>\n      <td>80.792385</td>\n      <td>435.227040</td>\n      <td>7.134870</td>\n      <td>3122</td>\n      <td>49</td>\n      <td>160.0</td>\n      <td>186.0</td>\n      <td>11.111111</td>\n      <td>7.277778</td>\n      <td>1</td>\n    </tr>\n    <tr>\n      <th>835</th>\n      <td>Valsartan</td>\n      <td>HILIC</td>\n      <td>Methanol</td>\n      <td>5.0</td>\n      <td>Formic acid</td>\n      <td>CCCCC(=O)N(Cc1ccc(cc1)c1ccccc1c1n[nH]nn1)[C@@H...</td>\n      <td>1.463333</td>\n      <td>24.305499</td>\n      <td>20.006308</td>\n      <td>3</td>\n      <td>...</td>\n      <td>80.792385</td>\n      <td>435.227040</td>\n      <td>7.134870</td>\n      <td>3122</td>\n      <td>49</td>\n      <td>160.0</td>\n      <td>186.0</td>\n      <td>11.111111</td>\n      <td>7.277778</td>\n      <td>1</td>\n    </tr>\n  </tbody>\n</table>\n<p>765 rows × 1621 columns</p>\n</div>"
     },
     "execution_count": 41,
     "metadata": {},
     "output_type": "execute_result"
    }
   ],
   "source": [
    "data_confirmed"
>>>>>>> Stashed changes
   ],
   "metadata": {
    "collapsed": false,
    "pycharm": {
     "name": "#%%\n"
    }
   }
  },
  {
   "cell_type": "code",
   "execution_count": 135,
   "outputs": [
    {
     "data": {
      "text/plain": "0      good\n1       bad\n2      good\n3      good\n4       bad\n       ... \n995    good\n996    good\n997    good\n998     bad\n999    good\nName: class, Length: 1000, dtype: category\nCategories (2, object): ['good', 'bad']"
     },
     "execution_count": 135,
     "metadata": {},
     "output_type": "execute_result"
    }
   ],
   "source": [
    "(y_raw)"
   ],
   "metadata": {
    "collapsed": false,
    "pycharm": {
     "name": "#%%\n"
    }
   }
  },
  {
   "cell_type": "code",
<<<<<<< Updated upstream
   "execution_count": 72,
=======
   "execution_count": 25,
>>>>>>> Stashed changes
   "outputs": [],
   "source": [
    "from sklearn.preprocessing import StandardScaler"
   ],
   "metadata": {
    "collapsed": false,
    "pycharm": {
     "name": "#%%\n"
    }
   }
  },
  {
   "cell_type": "code",
<<<<<<< Updated upstream
   "execution_count": 79,
   "outputs": [],
   "source": [
    "cat_features = X_raw.select_dtypes(\"category\").columns\n",
    "X_encoded = pd.get_dummies(X_raw, columns=cat_features, drop_first=True)"
=======
   "execution_count": 26,
   "outputs": [],
   "source": [
    "data_confirmed.to_csv(\"data/MultiRT/hilic_data_confirmed.csv\", index = False)"
   ],
   "metadata": {
    "collapsed": false,
    "pycharm": {
     "name": "#%%\n"
    }
   }
  },
  {
   "cell_type": "code",
   "execution_count": 48,
   "outputs": [],
   "source": [
    "# train, test = data_prep.make_train_test(data_confirmed)\n",
    "train, test = data_prep.make_train_test(data)"
   ],
   "metadata": {
    "collapsed": false,
    "pycharm": {
     "name": "#%%\n"
    }
   }
  },
  {
   "cell_type": "code",
   "execution_count": 50,
   "outputs": [],
   "source": [
    "train=train.drop(['Compound_name'], axis = 1)\n",
    "test = test.drop(['Compound_name'], axis = 1)"
   ],
   "metadata": {
    "collapsed": false,
    "pycharm": {
     "name": "#%%\n"
    }
   }
  },
  {
   "cell_type": "code",
   "execution_count": 51,
   "outputs": [
    {
     "name": "stderr",
     "output_type": "stream",
     "text": [
      "Beginning AutoGluon training ...\n",
      "AutoGluon will save models to \"models/HILIC_raw/\"\n",
      "AutoGluon Version:  0.4.1b20220404\n",
      "Python Version:     3.9.10\n",
      "Operating System:   Darwin\n",
      "Train Data Rows:    667\n",
      "Train Data Columns: 1617\n",
      "Label Column: retention_time\n",
      "Preprocessing data ...\n",
      "AutoGluon infers your prediction problem is: 'regression' (because dtype of label-column == float and many unique label-values observed).\n",
      "\tLabel info (max, min, mean, stddev): (12.321428571428571, 1.0871428571428572, 2.62195, 1.68452)\n",
      "\tIf 'regression' is not the correct problem_type, please manually specify the problem_type parameter during predictor init (You may specify problem_type as one of: ['binary', 'multiclass', 'regression'])\n",
      "Using Feature Generators to preprocess the data ...\n",
      "Fitting AutoMLPipelineFeatureGenerator...\n",
      "\tAvailable Memory:                    5105.88 MB\n",
      "\tTrain Data (Original)  Memory Usage: 26.18 MB (0.5% of available memory)\n",
      "\tInferring data type of each feature based on column values. Set feature_metadata_in to manually specify special dtypes of the features.\n",
      "\tStage 1 Generators:\n",
      "\t\tFitting AsTypeFeatureGenerator...\n",
      "\t\t\tNote: Converting 68 features to boolean dtype as they only contain 2 unique values.\n",
      "\tStage 2 Generators:\n",
      "\t\tFitting FillNaFeatureGenerator...\n",
      "\tStage 3 Generators:\n",
      "\t\tFitting IdentityFeatureGenerator...\n",
      "\t\tFitting CategoryFeatureGenerator...\n",
      "\t\t\tFitting CategoryMemoryMinimizeFeatureGenerator...\n",
      "\tStage 4 Generators:\n",
      "\t\tFitting DropUniqueFeatureGenerator...\n",
      "\tUseless Original Features (Count: 292): ['Column', 'nBridgehead', 'nB', 'nBr', 'nI', 'SpAbs_Dt', 'SpMax_Dt', 'SpDiam_Dt', 'SpAD_Dt', 'SpMAD_Dt', 'LogEE_Dt', 'SM1_Dt', 'VE1_Dt', 'VE2_Dt', 'VE3_Dt', 'VR1_Dt', 'VR2_Dt', 'VR3_Dt', 'DetourIndex', 'NsLi', 'NssBe', 'NssssBe', 'NssBH', 'NsssB', 'NssssB', 'NddC', 'NsNH3', 'NssNH2', 'NsssNH', 'NssssN', 'NaaO', 'NsSiH3', 'NssSiH2', 'NsssSiH', 'NssssSi', 'NsPH2', 'NssPH', 'NsssP', 'NsssssP', 'NsGeH3', 'NssGeH2', 'NsssGeH', 'NssssGe', 'NsAsH2', 'NssAsH', 'NsssAs', 'NsssdAs', 'NsssssAs', 'NsSeH', 'NdSe', 'NssSe', 'NaaSe', 'NdssSe', 'NddssSe', 'NsBr', 'NsSnH3', 'NssSnH2', 'NsssSnH', 'NssssSn', 'NsI', 'NsPbH3', 'NssPbH2', 'NsssPbH', 'NssssPb', 'SsLi', 'SssBe', 'SssssBe', 'SssBH', 'SsssB', 'SssssB', 'SddC', 'SsNH3', 'SssNH2', 'SsssNH', 'SssssN', 'SaaO', 'SsSiH3', 'SssSiH2', 'SsssSiH', 'SssssSi', 'SsPH2', 'SssPH', 'SsssP', 'SsssssP', 'SsGeH3', 'SssGeH2', 'SsssGeH', 'SssssGe', 'SsAsH2', 'SssAsH', 'SsssAs', 'SsssdAs', 'SsssssAs', 'SsSeH', 'SdSe', 'SssSe', 'SaaSe', 'SdssSe', 'SddssSe', 'SsBr', 'SsSnH3', 'SssSnH2', 'SsssSnH', 'SssssSn', 'SsI', 'SsPbH3', 'SssPbH2', 'SsssPbH', 'SssssPb', 'MAXsLi', 'MAXssBe', 'MAXssssBe', 'MAXssBH', 'MAXsssB', 'MAXssssB', 'MAXddC', 'MAXsNH3', 'MAXssNH2', 'MAXsssNH', 'MAXssssN', 'MAXaaO', 'MAXsSiH3', 'MAXssSiH2', 'MAXsssSiH', 'MAXssssSi', 'MAXsPH2', 'MAXssPH', 'MAXsssP', 'MAXsssssP', 'MAXsGeH3', 'MAXssGeH2', 'MAXsssGeH', 'MAXssssGe', 'MAXsAsH2', 'MAXssAsH', 'MAXsssAs', 'MAXsssdAs', 'MAXsssssAs', 'MAXsSeH', 'MAXdSe', 'MAXssSe', 'MAXaaSe', 'MAXdssSe', 'MAXddssSe', 'MAXsBr', 'MAXsSnH3', 'MAXssSnH2', 'MAXsssSnH', 'MAXssssSn', 'MAXsI', 'MAXsPbH3', 'MAXssPbH2', 'MAXsssPbH', 'MAXssssPb', 'MINsLi', 'MINssBe', 'MINssssBe', 'MINssBH', 'MINsssB', 'MINssssB', 'MINddC', 'MINsNH3', 'MINssNH2', 'MINsssNH', 'MINssssN', 'MINaaO', 'MINsSiH3', 'MINssSiH2', 'MINsssSiH', 'MINssssSi', 'MINsPH2', 'MINssPH', 'MINsssP', 'MINsssssP', 'MINsGeH3', 'MINssGeH2', 'MINsssGeH', 'MINssssGe', 'MINsAsH2', 'MINssAsH', 'MINsssAs', 'MINsssdAs', 'MINsssssAs', 'MINsSeH', 'MINdSe', 'MINssSe', 'MINaaSe', 'MINdssSe', 'MINddssSe', 'MINsBr', 'MINsSnH3', 'MINssSnH2', 'MINsssSnH', 'MINssssSn', 'MINsI', 'MINsPbH3', 'MINssPbH2', 'MINsssPbH', 'MINssssPb', 'ETA_dPsi_B', 'SMR_VSA8', 'SlogP_VSA9', 'n4Ring', 'n8Ring', 'n9Ring', 'n10Ring', 'n11Ring', 'n12Ring', 'nG12Ring', 'n3HRing', 'n4HRing', 'n8HRing', 'n9HRing', 'n10HRing', 'n11HRing', 'n12HRing', 'nG12HRing', 'n3aRing', 'n4aRing', 'n7aRing', 'n8aRing', 'n9aRing', 'n10aRing', 'n11aRing', 'n12aRing', 'nG12aRing', 'n3aHRing', 'n4aHRing', 'n7aHRing', 'n8aHRing', 'n9aHRing', 'n10aHRing', 'n11aHRing', 'n12aHRing', 'nG12aHRing', 'n4ARing', 'n8ARing', 'n9ARing', 'n10ARing', 'n11ARing', 'n12ARing', 'nG12ARing', 'n3AHRing', 'n4AHRing', 'n8AHRing', 'n9AHRing', 'n10AHRing', 'n11AHRing', 'n12AHRing', 'nG12AHRing', 'n4FRing', 'n5FRing', 'n6FRing', 'n7FRing', 'n8FRing', 'n11FRing', 'n12FRing', 'n4FHRing', 'n5FHRing', 'n6FHRing', 'n7FHRing', 'n8FHRing', 'n11FHRing', 'n12FHRing', 'n4FaRing', 'n5FaRing', 'n6FaRing', 'n7FaRing', 'n8FaRing', 'n11FaRing', 'n12FaRing', 'n4FaHRing', 'n5FaHRing', 'n6FaHRing', 'n7FaHRing', 'n8FaHRing', 'n11FaHRing', 'n12FaHRing', 'n4FARing', 'n5FARing', 'n6FARing', 'n7FARing', 'n8FARing', 'n11FARing', 'n12FARing', 'n4FAHRing', 'n5FAHRing', 'n6FAHRing', 'n7FAHRing', 'n8FAHRing', 'n11FAHRing', 'n12FAHRing']\n",
      "\t\tThese features carry no predictive signal and should be manually investigated.\n",
      "\t\tThis is typically a feature which has the same value for all rows.\n",
      "\t\tThese features do not need to be present at inference time.\n",
      "\tTypes of features in original data (raw dtype, special dtypes):\n",
      "\t\t('bool', [])   :    2 | ['Lipinski', 'GhoseFilter']\n",
      "\t\t('float', [])  : 1003 | ['pH', 'ABC', 'ABCGG', 'SpAbs_A', 'SpMax_A', ...]\n",
      "\t\t('int', [])    :  135 | ['nAcid', 'nBase', 'nAromAtom', 'nAromBond', 'nAtom', ...]\n",
      "\t\t('object', []) :  185 | ['Organic_modifier', 'Buffer', 'AATS7dv', 'AATS8dv', 'AATS7d', ...]\n",
      "\tTypes of features in processed data (raw dtype, special dtypes):\n",
      "\t\t('category', [])  : 173 | ['AATS7dv', 'AATS8dv', 'AATS7d', 'AATS8d', 'AATS7s', ...]\n",
      "\t\t('float', [])     : 994 | ['pH', 'ABC', 'ABCGG', 'SpAbs_A', 'SpMax_A', ...]\n",
      "\t\t('int', [])       :  90 | ['nAcid', 'nBase', 'nAromAtom', 'nAromBond', 'nAtom', ...]\n",
      "\t\t('int', ['bool']) :  68 | ['Organic_modifier', 'Buffer', 'nSpiro', 'nP', 'nBondsT', ...]\n",
      "\t1.3s = Fit runtime\n",
      "\t1325 features in original data used to generate 1325 features in processed data.\n",
      "\tTrain Data (Processed) Memory Usage: 6.04 MB (0.1% of available memory)\n",
      "Data preprocessing and feature engineering runtime = 1.5s ...\n",
      "AutoGluon will gauge predictive performance using evaluation metric: 'root_mean_squared_error'\n",
      "\tTo change this, specify the eval_metric parameter of Predictor()\n",
      "Automatically generating train/validation split with holdout_frac=0.2, Train Rows: 533, Val Rows: 134\n",
      "Fitting 11 L1 models ...\n",
      "Fitting model: KNeighborsUnif ...\n",
      "\t-1.3215\t = Validation score   (root_mean_squared_error)\n",
      "\t0.07s\t = Training   runtime\n",
      "\t0.03s\t = Validation runtime\n",
      "Fitting model: KNeighborsDist ...\n",
      "\t-1.3947\t = Validation score   (root_mean_squared_error)\n",
      "\t0.07s\t = Training   runtime\n",
      "\t0.03s\t = Validation runtime\n",
      "Fitting model: LightGBMXT ...\n",
      "\t-1.1358\t = Validation score   (root_mean_squared_error)\n",
      "\t6.19s\t = Training   runtime\n",
      "\t0.02s\t = Validation runtime\n",
      "Fitting model: LightGBM ...\n",
      "\t-1.1559\t = Validation score   (root_mean_squared_error)\n",
      "\t7.14s\t = Training   runtime\n",
      "\t0.02s\t = Validation runtime\n",
      "Fitting model: RandomForestMSE ...\n",
      "\t-1.1351\t = Validation score   (root_mean_squared_error)\n",
      "\t5.42s\t = Training   runtime\n",
      "\t0.03s\t = Validation runtime\n",
      "Fitting model: CatBoost ...\n",
      "\tWarning: Exception caused CatBoost to fail during training (ImportError)... Skipping this model.\n",
      "\t\t`import catboost` failed.A quick tip is to install via `pip install catboost`.\n",
      "Fitting model: ExtraTreesMSE ...\n",
      "\t-1.1325\t = Validation score   (root_mean_squared_error)\n",
      "\t1.88s\t = Training   runtime\n",
      "\t0.03s\t = Validation runtime\n",
      "Fitting model: NeuralNetFastAI ...\n",
      "\t-1.1972\t = Validation score   (root_mean_squared_error)\n",
      "\t4.0s\t = Training   runtime\n",
      "\t0.2s\t = Validation runtime\n",
      "Fitting model: XGBoost ...\n",
      "\t-1.1372\t = Validation score   (root_mean_squared_error)\n",
      "\t9.41s\t = Training   runtime\n",
      "\t0.02s\t = Validation runtime\n",
      "Fitting model: NeuralNetTorch ...\n",
      "\t-1.3592\t = Validation score   (root_mean_squared_error)\n",
      "\t12.09s\t = Training   runtime\n",
      "\t0.15s\t = Validation runtime\n",
      "Fitting model: LightGBMLarge ...\n",
      "\t-1.1397\t = Validation score   (root_mean_squared_error)\n",
      "\t24.43s\t = Training   runtime\n",
      "\t0.02s\t = Validation runtime\n",
      "Fitting model: WeightedEnsemble_L2 ...\n",
      "\t-1.0798\t = Validation score   (root_mean_squared_error)\n",
      "\t0.08s\t = Training   runtime\n",
      "\t0.0s\t = Validation runtime\n",
      "AutoGluon training complete, total runtime = 73.88s ... Best model: \"WeightedEnsemble_L2\"\n",
      "TabularPredictor saved. To load, use: predictor = TabularPredictor.load(\"models/HILIC_raw/\")\n",
      "/opt/homebrew/Caskroom/miniforge/base/envs/tensorflow/lib/python3.9/site-packages/autogluon/core/utils/plots.py:138: UserWarning: AutoGluon summary plots cannot be created because bokeh is not installed. To see plots, please do: \"pip install bokeh==2.0.1\"\n",
      "  warnings.warn('AutoGluon summary plots cannot be created because bokeh is not installed. To see plots, please do: \"pip install bokeh==2.0.1\"')\n"
     ]
    },
    {
     "name": "stdout",
     "output_type": "stream",
     "text": [
      "*** Summary of fit() ***\n",
      "Estimated performance of each model:\n",
      "                  model  score_val  pred_time_val   fit_time  pred_time_val_marginal  fit_time_marginal  stack_level  can_infer  fit_order\n",
      "0   WeightedEnsemble_L2  -1.079834       0.330810  27.064460                0.000160           0.083903            2       True         11\n",
      "1         ExtraTreesMSE  -1.132459       0.032976   1.878898                0.032976           1.878898            1       True          6\n",
      "2       RandomForestMSE  -1.135128       0.034463   5.423200                0.034463           5.423200            1       True          5\n",
      "3            LightGBMXT  -1.135841       0.019551   6.193750                0.019551           6.193750            1       True          3\n",
      "4               XGBoost  -1.137191       0.015271   9.406955                0.015271           9.406955            1       True          8\n",
      "5         LightGBMLarge  -1.139702       0.019687  24.433261                0.019687          24.433261            1       True         10\n",
      "6              LightGBM  -1.155884       0.019880   7.139039                0.019880           7.139039            1       True          4\n",
      "7       NeuralNetFastAI  -1.197165       0.195532   4.003074                0.195532           4.003074            1       True          7\n",
      "8        KNeighborsUnif  -1.321520       0.028184   0.068396                0.028184           0.068396            1       True          1\n",
      "9        NeuralNetTorch  -1.359172       0.145043  12.092598                0.145043          12.092598            1       True          9\n",
      "10       KNeighborsDist  -1.394730       0.032856   0.074680                0.032856           0.074680            1       True          2\n",
      "Number of models trained: 11\n",
      "Types of models trained:\n",
      "{'KNNModel', 'XTModel', 'XGBoostModel', 'LGBModel', 'WeightedEnsembleModel', 'RFModel', 'TabularNeuralNetTorchModel', 'NNFastAiTabularModel'}\n",
      "Bagging used: False \n",
      "Multi-layer stack-ensembling used: False \n",
      "Feature Metadata (Processed):\n",
      "(raw dtype, special dtypes):\n",
      "('category', [])  : 173 | ['AATS7dv', 'AATS8dv', 'AATS7d', 'AATS8d', 'AATS7s', ...]\n",
      "('float', [])     : 994 | ['pH', 'ABC', 'ABCGG', 'SpAbs_A', 'SpMax_A', ...]\n",
      "('int', [])       :  90 | ['nAcid', 'nBase', 'nAromAtom', 'nAromBond', 'nAtom', ...]\n",
      "('int', ['bool']) :  68 | ['Organic_modifier', 'Buffer', 'nSpiro', 'nP', 'nBondsT', ...]\n",
      "*** End of fit() summary ***\n",
      "{'model_types': {'KNeighborsUnif': 'KNNModel', 'KNeighborsDist': 'KNNModel', 'LightGBMXT': 'LGBModel', 'LightGBM': 'LGBModel', 'RandomForestMSE': 'RFModel', 'ExtraTreesMSE': 'XTModel', 'NeuralNetFastAI': 'NNFastAiTabularModel', 'XGBoost': 'XGBoostModel', 'NeuralNetTorch': 'TabularNeuralNetTorchModel', 'LightGBMLarge': 'LGBModel', 'WeightedEnsemble_L2': 'WeightedEnsembleModel'}, 'model_performance': {'KNeighborsUnif': -1.3215197253628757, 'KNeighborsDist': -1.394730195586414, 'LightGBMXT': -1.135840668807717, 'LightGBM': -1.155883827749542, 'RandomForestMSE': -1.1351281416966768, 'ExtraTreesMSE': -1.1324586820794509, 'NeuralNetFastAI': -1.1971645392771117, 'XGBoost': -1.137191231691657, 'NeuralNetTorch': -1.3591721170842863, 'LightGBMLarge': -1.1397024135075313, 'WeightedEnsemble_L2': -1.0798338398336593}, 'model_best': 'WeightedEnsemble_L2', 'model_paths': {'KNeighborsUnif': 'models/HILIC_raw/models/KNeighborsUnif/', 'KNeighborsDist': 'models/HILIC_raw/models/KNeighborsDist/', 'LightGBMXT': 'models/HILIC_raw/models/LightGBMXT/', 'LightGBM': 'models/HILIC_raw/models/LightGBM/', 'RandomForestMSE': 'models/HILIC_raw/models/RandomForestMSE/', 'ExtraTreesMSE': 'models/HILIC_raw/models/ExtraTreesMSE/', 'NeuralNetFastAI': 'models/HILIC_raw/models/NeuralNetFastAI/', 'XGBoost': 'models/HILIC_raw/models/XGBoost/', 'NeuralNetTorch': 'models/HILIC_raw/models/NeuralNetTorch/', 'LightGBMLarge': 'models/HILIC_raw/models/LightGBMLarge/', 'WeightedEnsemble_L2': 'models/HILIC_raw/models/WeightedEnsemble_L2/'}, 'model_fit_times': {'KNeighborsUnif': 0.06839609146118164, 'KNeighborsDist': 0.07468008995056152, 'LightGBMXT': 6.193749666213989, 'LightGBM': 7.139039039611816, 'RandomForestMSE': 5.423199892044067, 'ExtraTreesMSE': 1.8788981437683105, 'NeuralNetFastAI': 4.0030739307403564, 'XGBoost': 9.406955003738403, 'NeuralNetTorch': 12.092597961425781, 'LightGBMLarge': 24.433261156082153, 'WeightedEnsemble_L2': 0.08390283584594727}, 'model_pred_times': {'KNeighborsUnif': 0.028183937072753906, 'KNeighborsDist': 0.03285622596740723, 'LightGBMXT': 0.01955127716064453, 'LightGBM': 0.019879817962646484, 'RandomForestMSE': 0.03446340560913086, 'ExtraTreesMSE': 0.03297591209411621, 'NeuralNetFastAI': 0.19553184509277344, 'XGBoost': 0.01527094841003418, 'NeuralNetTorch': 0.14504313468933105, 'LightGBMLarge': 0.01968693733215332, 'WeightedEnsemble_L2': 0.00015997886657714844}, 'num_bag_folds': 0, 'max_stack_level': 2, 'model_hyperparams': {'KNeighborsUnif': {'weights': 'uniform'}, 'KNeighborsDist': {'weights': 'distance'}, 'LightGBMXT': {'learning_rate': 0.05, 'extra_trees': True}, 'LightGBM': {'learning_rate': 0.05}, 'RandomForestMSE': {'n_estimators': 300, 'n_jobs': -1, 'random_state': 0, 'bootstrap': True, 'criterion': 'squared_error'}, 'ExtraTreesMSE': {'n_estimators': 300, 'n_jobs': -1, 'random_state': 0, 'bootstrap': True, 'criterion': 'squared_error'}, 'NeuralNetFastAI': {'layers': None, 'emb_drop': 0.1, 'ps': 0.1, 'bs': 'auto', 'lr': 0.01, 'epochs': 'auto', 'early.stopping.min_delta': 0.0001, 'early.stopping.patience': 20, 'smoothing': 0.0}, 'XGBoost': {'n_estimators': 10000, 'learning_rate': 0.1, 'n_jobs': -1, 'proc.max_category_levels': 100, 'objective': 'reg:squarederror', 'booster': 'gbtree'}, 'NeuralNetTorch': {'num_epochs': 500, 'epochs_wo_improve': 20, 'activation': 'relu', 'embedding_size_factor': 1.0, 'embed_exponent': 0.56, 'max_embedding_dim': 100, 'y_range': None, 'y_range_extend': 0.05, 'dropout_prob': 0.1, 'optimizer': 'adam', 'learning_rate': 0.0003, 'weight_decay': 1e-06, 'proc.embed_min_categories': 4, 'proc.impute_strategy': 'median', 'proc.max_category_levels': 100, 'proc.skew_threshold': 0.99, 'use_ngram_features': False, 'num_layers': 4, 'hidden_size': 128, 'max_batch_size': 512, 'use_batchnorm': False, 'loss_function': 'auto'}, 'LightGBMLarge': {'learning_rate': 0.03, 'num_leaves': 128, 'feature_fraction': 0.9, 'min_data_in_leaf': 5}, 'WeightedEnsemble_L2': {'use_orig_features': False, 'max_base_models': 25, 'max_base_models_per_type': 5, 'save_bag_folds': True}}, 'leaderboard':                   model  score_val  pred_time_val   fit_time  \\\n",
      "0   WeightedEnsemble_L2  -1.079834       0.330810  27.064460   \n",
      "1         ExtraTreesMSE  -1.132459       0.032976   1.878898   \n",
      "2       RandomForestMSE  -1.135128       0.034463   5.423200   \n",
      "3            LightGBMXT  -1.135841       0.019551   6.193750   \n",
      "4               XGBoost  -1.137191       0.015271   9.406955   \n",
      "5         LightGBMLarge  -1.139702       0.019687  24.433261   \n",
      "6              LightGBM  -1.155884       0.019880   7.139039   \n",
      "7       NeuralNetFastAI  -1.197165       0.195532   4.003074   \n",
      "8        KNeighborsUnif  -1.321520       0.028184   0.068396   \n",
      "9        NeuralNetTorch  -1.359172       0.145043  12.092598   \n",
      "10       KNeighborsDist  -1.394730       0.032856   0.074680   \n",
      "\n",
      "    pred_time_val_marginal  fit_time_marginal  stack_level  can_infer  \\\n",
      "0                 0.000160           0.083903            2       True   \n",
      "1                 0.032976           1.878898            1       True   \n",
      "2                 0.034463           5.423200            1       True   \n",
      "3                 0.019551           6.193750            1       True   \n",
      "4                 0.015271           9.406955            1       True   \n",
      "5                 0.019687          24.433261            1       True   \n",
      "6                 0.019880           7.139039            1       True   \n",
      "7                 0.195532           4.003074            1       True   \n",
      "8                 0.028184           0.068396            1       True   \n",
      "9                 0.145043          12.092598            1       True   \n",
      "10                0.032856           0.074680            1       True   \n",
      "\n",
      "    fit_order  \n",
      "0          11  \n",
      "1           6  \n",
      "2           5  \n",
      "3           3  \n",
      "4           8  \n",
      "5          10  \n",
      "6           4  \n",
      "7           7  \n",
      "8           1  \n",
      "9           9  \n",
      "10          2  }\n"
     ]
    },
    {
     "name": "stderr",
     "output_type": "stream",
     "text": [
      "Evaluation: root_mean_squared_error on test data: -0.5294628732344341\n",
      "\tNote: Scores are always higher_is_better. This metric score can be multiplied by -1 to get the metric value.\n",
      "Evaluations on test data:\n",
      "{\n",
      "    \"root_mean_squared_error\": -0.5294628732344341,\n",
      "    \"mean_squared_error\": -0.2803309341336624,\n",
      "    \"mean_absolute_error\": -0.2804686811866699,\n",
      "    \"r2\": 0.8665305813310178,\n",
      "    \"pearsonr\": 0.9369099346873608,\n",
      "    \"median_absolute_error\": -0.09694033622741705\n",
      "}\n"
     ]
    }
   ],
   "source": [
    "\n",
    "from autogluon.tabular import TabularDataset, TabularPredictor\n",
    "label = 'retention_time'\n",
    "save_path =('models/HILIC_raw')\n",
    "predictor = TabularPredictor(label=label, path=save_path).fit(train)\n",
    "results = predictor.fit_summary(show_plot=True)\n",
    "print(results)\n",
    "y_test = test[label]\n",
    "x_test = test.drop([label], axis=1)\n",
    "# predictor = TabularPredictor.load(save_path)\n",
    "y_pred = predictor.predict(x_test)\n",
    "perf = predictor.evaluate_predictions(y_true=y_test, y_pred=y_pred, auxiliary_metrics=True)"
>>>>>>> Stashed changes
   ],
   "metadata": {
    "collapsed": false,
    "pycharm": {
     "name": "#%%\n"
    }
   }
  },
  {
   "cell_type": "code",
<<<<<<< Updated upstream
   "execution_count": 81,
=======
   "execution_count": 46,
   "outputs": [
    {
     "name": "stderr",
     "output_type": "stream",
     "text": [
      "These features in provided data are not utilized by the predictor and will be ignored: ['Column', 'nBridgehead', 'nB', 'nBr', 'nI', 'SpAbs_Dt', 'SpMax_Dt', 'SpDiam_Dt', 'SpAD_Dt', 'SpMAD_Dt', 'LogEE_Dt', 'SM1_Dt', 'VE1_Dt', 'VE2_Dt', 'VE3_Dt', 'VR1_Dt', 'VR2_Dt', 'VR3_Dt', 'DetourIndex', 'NsLi', 'NssBe', 'NssssBe', 'NssBH', 'NsssB', 'NssssB', 'NddC', 'NsNH3', 'NssNH2', 'NsssNH', 'NssssN', 'NaaO', 'NsSiH3', 'NssSiH2', 'NsssSiH', 'NssssSi', 'NsPH2', 'NssPH', 'NsssP', 'NsssssP', 'NsGeH3', 'NssGeH2', 'NsssGeH', 'NssssGe', 'NsAsH2', 'NssAsH', 'NsssAs', 'NsssdAs', 'NsssssAs', 'NsSeH', 'NdSe', 'NssSe', 'NaaSe', 'NdssSe', 'NddssSe', 'NsBr', 'NsSnH3', 'NssSnH2', 'NsssSnH', 'NssssSn', 'NsI', 'NsPbH3', 'NssPbH2', 'NsssPbH', 'NssssPb', 'SsLi', 'SssBe', 'SssssBe', 'SssBH', 'SsssB', 'SssssB', 'SddC', 'SsNH3', 'SssNH2', 'SsssNH', 'SssssN', 'SaaO', 'SsSiH3', 'SssSiH2', 'SsssSiH', 'SssssSi', 'SsPH2', 'SssPH', 'SsssP', 'SsssssP', 'SsGeH3', 'SssGeH2', 'SsssGeH', 'SssssGe', 'SsAsH2', 'SssAsH', 'SsssAs', 'SsssdAs', 'SsssssAs', 'SsSeH', 'SdSe', 'SssSe', 'SaaSe', 'SdssSe', 'SddssSe', 'SsBr', 'SsSnH3', 'SssSnH2', 'SsssSnH', 'SssssSn', 'SsI', 'SsPbH3', 'SssPbH2', 'SsssPbH', 'SssssPb', 'MAXsLi', 'MAXssBe', 'MAXssssBe', 'MAXssBH', 'MAXsssB', 'MAXssssB', 'MAXddC', 'MAXsNH3', 'MAXssNH2', 'MAXsssNH', 'MAXssssN', 'MAXaaO', 'MAXsSiH3', 'MAXssSiH2', 'MAXsssSiH', 'MAXssssSi', 'MAXsPH2', 'MAXssPH', 'MAXsssP', 'MAXsssssP', 'MAXsGeH3', 'MAXssGeH2', 'MAXsssGeH', 'MAXssssGe', 'MAXsAsH2', 'MAXssAsH', 'MAXsssAs', 'MAXsssdAs', 'MAXsssssAs', 'MAXsSeH', 'MAXdSe', 'MAXssSe', 'MAXaaSe', 'MAXdssSe', 'MAXddssSe', 'MAXsBr', 'MAXsSnH3', 'MAXssSnH2', 'MAXsssSnH', 'MAXssssSn', 'MAXsI', 'MAXsPbH3', 'MAXssPbH2', 'MAXsssPbH', 'MAXssssPb', 'MINsLi', 'MINssBe', 'MINssssBe', 'MINssBH', 'MINsssB', 'MINssssB', 'MINddC', 'MINsNH3', 'MINssNH2', 'MINsssNH', 'MINssssN', 'MINaaO', 'MINsSiH3', 'MINssSiH2', 'MINsssSiH', 'MINssssSi', 'MINsPH2', 'MINssPH', 'MINsssP', 'MINsssssP', 'MINsGeH3', 'MINssGeH2', 'MINsssGeH', 'MINssssGe', 'MINsAsH2', 'MINssAsH', 'MINsssAs', 'MINsssdAs', 'MINsssssAs', 'MINsSeH', 'MINdSe', 'MINssSe', 'MINaaSe', 'MINdssSe', 'MINddssSe', 'MINsBr', 'MINsSnH3', 'MINssSnH2', 'MINsssSnH', 'MINssssSn', 'MINsI', 'MINsPbH3', 'MINssPbH2', 'MINsssPbH', 'MINssssPb', 'ETA_dPsi_B', 'SMR_VSA8', 'SlogP_VSA9', 'n4Ring', 'n8Ring', 'n9Ring', 'n10Ring', 'n11Ring', 'n12Ring', 'nG12Ring', 'n3HRing', 'n4HRing', 'n8HRing', 'n9HRing', 'n10HRing', 'n11HRing', 'n12HRing', 'nG12HRing', 'n3aRing', 'n4aRing', 'n7aRing', 'n8aRing', 'n9aRing', 'n10aRing', 'n11aRing', 'n12aRing', 'nG12aRing', 'n3aHRing', 'n4aHRing', 'n7aHRing', 'n8aHRing', 'n9aHRing', 'n10aHRing', 'n11aHRing', 'n12aHRing', 'nG12aHRing', 'n4ARing', 'n8ARing', 'n9ARing', 'n10ARing', 'n11ARing', 'n12ARing', 'nG12ARing', 'n3AHRing', 'n4AHRing', 'n8AHRing', 'n9AHRing', 'n10AHRing', 'n11AHRing', 'n12AHRing', 'nG12AHRing', 'n4FRing', 'n5FRing', 'n6FRing', 'n7FRing', 'n8FRing', 'n11FRing', 'n12FRing', 'n4FHRing', 'n5FHRing', 'n6FHRing', 'n7FHRing', 'n8FHRing', 'n11FHRing', 'n12FHRing', 'n4FaRing', 'n5FaRing', 'n6FaRing', 'n7FaRing', 'n8FaRing', 'n11FaRing', 'n12FaRing', 'n4FaHRing', 'n5FaHRing', 'n6FaHRing', 'n7FaHRing', 'n8FaHRing', 'n11FaHRing', 'n12FaHRing', 'n4FARing', 'n5FARing', 'n6FARing', 'n7FARing', 'n8FARing', 'n11FARing', 'n12FARing', 'n4FAHRing', 'n5FAHRing', 'n6FAHRing', 'n7FAHRing', 'n8FAHRing', 'n11FAHRing', 'n12FAHRing']\n",
      "Computing feature importance via permutation shuffling for 1326 features using 150 rows with 3 shuffle sets...\n",
      "\t1109.42s\t= Expected runtime (369.81s per shuffle set)\n",
      "\t163.16s\t= Actual runtime (Completed 3 of 3 shuffle sets)\n"
     ]
    }
   ],
   "source": [
    "feature_importance = predictor.feature_importance(test)\n"
   ],
   "metadata": {
    "collapsed": false,
    "pycharm": {
     "name": "#%%\n"
    }
   }
  },
  {
   "cell_type": "code",
   "execution_count": 47,
   "outputs": [
    {
     "data": {
      "text/plain": "                  importance    stddev   p_value  n  p99_high   p99_low\nOrganic_modifier    0.473443  0.111115  0.008935  3  1.110142 -0.163255\nPEOE_VSA1           0.462869  0.085717  0.005620  3  0.954039 -0.028302\npH                  0.212769  0.098166  0.032099  3  0.775273 -0.349735\nPEOE_VSA8           0.159452  0.033986  0.007404  3  0.354197 -0.035293\nAATS4Z              0.096087  0.035927  0.021788  3  0.301950 -0.109777",
      "text/html": "<div>\n<style scoped>\n    .dataframe tbody tr th:only-of-type {\n        vertical-align: middle;\n    }\n\n    .dataframe tbody tr th {\n        vertical-align: top;\n    }\n\n    .dataframe thead th {\n        text-align: right;\n    }\n</style>\n<table border=\"1\" class=\"dataframe\">\n  <thead>\n    <tr style=\"text-align: right;\">\n      <th></th>\n      <th>importance</th>\n      <th>stddev</th>\n      <th>p_value</th>\n      <th>n</th>\n      <th>p99_high</th>\n      <th>p99_low</th>\n    </tr>\n  </thead>\n  <tbody>\n    <tr>\n      <th>Organic_modifier</th>\n      <td>0.473443</td>\n      <td>0.111115</td>\n      <td>0.008935</td>\n      <td>3</td>\n      <td>1.110142</td>\n      <td>-0.163255</td>\n    </tr>\n    <tr>\n      <th>PEOE_VSA1</th>\n      <td>0.462869</td>\n      <td>0.085717</td>\n      <td>0.005620</td>\n      <td>3</td>\n      <td>0.954039</td>\n      <td>-0.028302</td>\n    </tr>\n    <tr>\n      <th>pH</th>\n      <td>0.212769</td>\n      <td>0.098166</td>\n      <td>0.032099</td>\n      <td>3</td>\n      <td>0.775273</td>\n      <td>-0.349735</td>\n    </tr>\n    <tr>\n      <th>PEOE_VSA8</th>\n      <td>0.159452</td>\n      <td>0.033986</td>\n      <td>0.007404</td>\n      <td>3</td>\n      <td>0.354197</td>\n      <td>-0.035293</td>\n    </tr>\n    <tr>\n      <th>AATS4Z</th>\n      <td>0.096087</td>\n      <td>0.035927</td>\n      <td>0.021788</td>\n      <td>3</td>\n      <td>0.301950</td>\n      <td>-0.109777</td>\n    </tr>\n  </tbody>\n</table>\n</div>"
     },
     "execution_count": 47,
     "metadata": {},
     "output_type": "execute_result"
    }
   ],
   "source": [
    "feature_importance.head()"
   ],
   "metadata": {
    "collapsed": false,
    "pycharm": {
     "name": "#%%\n"
    }
   }
  },
  {
   "cell_type": "code",
   "execution_count": 544,
>>>>>>> Stashed changes
   "outputs": [],
   "source": [
    "num_features = X_raw.select_dtypes(\"float64\").columns\n",
    "scaler = StandardScaler()\n",
    "X_scaled = X_encoded.copy()\n",
    "X_scaled[num_features] = scaler.fit_transform(X_encoded[num_features])\n",
    "\n",
    "y = y_raw.map({\"bad\": 0, \"good\": 1})  # encode labels as integers"
   ],
   "metadata": {
    "collapsed": false,
    "pycharm": {
     "name": "#%%\n"
    }
   }
  },
  {
   "cell_type": "code",
   "execution_count": 130,
   "outputs": [
    {
     "data": {
      "text/plain": "0      1\n1      0\n2      1\n3      1\n4      0\n      ..\n995    1\n996    1\n997    1\n998    0\n999    1\nName: class, Length: 1000, dtype: category\nCategories (2, int64): [1, 0]"
     },
     "execution_count": 130,
     "metadata": {},
     "output_type": "execute_result"
    }
   ],
   "source": [
    "y"
   ],
   "metadata": {
    "collapsed": false,
    "pycharm": {
     "name": "#%%\n"
    }
   }
  },
  {
   "cell_type": "code",
   "execution_count": 86,
   "outputs": [
    {
     "data": {
      "text/plain": "0       6.0\n1      48.0\n2      12.0\n3      42.0\n4      24.0\n       ... \n995    12.0\n996    30.0\n997    12.0\n998    45.0\n999    45.0\nName: duration, Length: 1000, dtype: float64"
     },
     "execution_count": 86,
     "metadata": {},
     "output_type": "execute_result"
    }
   ],
   "source": [
    "X_raw['duration']"
   ],
   "metadata": {
    "collapsed": false,
    "pycharm": {
     "name": "#%%\n"
    }
   }
  },
  {
   "cell_type": "code",
   "execution_count": null,
   "outputs": [],
   "source": [
    "from sklearn.linear_model import LogisticRegression\n",
    "\n",
    "clf = LogisticRegression()\n",
    "from sklearn.model_selection import cross_val_predict\n",
    "\n",
    "num_crossval_folds = 3  # for efficiency; values like 5 or 10 will generally work better\n",
    "pred_probs = cross_val_predict(\n",
    "    clf,\n",
    "    X_scaled,\n",
    "    y,\n",
    "    cv=num_crossval_folds,\n",
    "    method=\"predict_proba\",\n",
    ")"
   ],
   "metadata": {
    "collapsed": false,
    "pycharm": {
     "name": "#%%\n"
    }
   }
  }
 ],
 "metadata": {
  "kernelspec": {
   "name": "tensorflow",
   "language": "python",
   "display_name": "Python 3.9 (tensorflow)"
  },
  "language_info": {
   "codemirror_mode": {
    "name": "ipython",
    "version": 2
   },
   "file_extension": ".py",
   "mimetype": "text/x-python",
   "name": "python",
   "nbconvert_exporter": "python",
   "pygments_lexer": "ipython2",
   "version": "2.7.6"
  }
 },
 "nbformat": 4,
 "nbformat_minor": 0
}