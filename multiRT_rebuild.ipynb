{
 "cells": [
  {
   "cell_type": "code",
   "execution_count": 49,
   "metadata": {
    "collapsed": true
   },
   "outputs": [
    {
     "name": "stdout",
     "output_type": "stream",
     "text": [
      "Hi I am compiled version of the rt prediction using autogluon and mordred descriptor calculator\n",
      "the usage is auto_rt_pred_with_autogluon(data, ignore_3d_label, savepath)\n",
      "the data is a dataframe with columns smiles, retention_time, and split split_index (1 training, 2 test)\n",
      "this function will returns a model\n"
     ]
    }
   ],
   "source": [
    "import toolsets.auto_rt_pred as auto_fit"
   ]
  },
  {
   "cell_type": "code",
   "execution_count": 1,
   "outputs": [],
   "source": [
    "import numpy as np\n",
    "import pandas as pd\n",
    "%load_ext autoreload\n",
    "%autoreload 2"
   ],
   "metadata": {
    "collapsed": false,
    "pycharm": {
     "name": "#%%\n"
    }
   }
  },
  {
   "cell_type": "code",
   "execution_count": 5,
   "outputs": [],
   "source": [
    "import random\n",
    "nums = np.random.choice([0, 1], size=10, p=[.1, .9])"
   ],
   "metadata": {
    "collapsed": false,
    "pycharm": {
     "name": "#%%\n"
    }
   }
  },
  {
   "cell_type": "code",
   "execution_count": 7,
   "outputs": [],
   "source": [
    "test_data = pd.read_csv(\"data/multiRT/Combined dataset.csv\")"
   ],
   "metadata": {
    "collapsed": false,
    "pycharm": {
     "name": "#%%\n"
    }
   }
  },
  {
   "cell_type": "code",
   "execution_count": 16,
   "outputs": [],
   "source": [
    "data_hilic = test_data.loc[test_data['Column']=='HILIC']"
   ],
   "metadata": {
    "collapsed": false,
    "pycharm": {
     "name": "#%%\n"
    }
   }
  },
  {
   "cell_type": "code",
   "execution_count": 33,
   "outputs": [
    {
     "data": {
      "text/plain": "      Compound_name Column Organic_modifier   pH       Buffer  \\\n22  1-hydroxypyrene  HILIC     Acetonitrile  2.7  Formic acid   \n23  1-hydroxypyrene  HILIC     Acetonitrile  3.0  Acetic acid   \n24  1-hydroxypyrene  HILIC     Acetonitrile  3.0  Formic acid   \n25  1-hydroxypyrene  HILIC     Acetonitrile  5.0  Acetic acid   \n26  1-hydroxypyrene  HILIC     Acetonitrile  5.0  Formic acid   \n\n                           SMILES         RT  labels  \n22  c1cc2ccc3ccc(c4ccc(c1)c2c34)O   1.822857       1  \n23  c1cc2ccc3ccc(c4ccc(c1)c2c34)O  12.321429       1  \n24  c1cc2ccc3ccc(c4ccc(c1)c2c34)O   1.857143       1  \n25  c1cc2ccc3ccc(c4ccc(c1)c2c34)O   1.850000       1  \n26  c1cc2ccc3ccc(c4ccc(c1)c2c34)O   1.851429       1  ",
      "text/html": "<div>\n<style scoped>\n    .dataframe tbody tr th:only-of-type {\n        vertical-align: middle;\n    }\n\n    .dataframe tbody tr th {\n        vertical-align: top;\n    }\n\n    .dataframe thead th {\n        text-align: right;\n    }\n</style>\n<table border=\"1\" class=\"dataframe\">\n  <thead>\n    <tr style=\"text-align: right;\">\n      <th></th>\n      <th>Compound_name</th>\n      <th>Column</th>\n      <th>Organic_modifier</th>\n      <th>pH</th>\n      <th>Buffer</th>\n      <th>SMILES</th>\n      <th>RT</th>\n      <th>labels</th>\n    </tr>\n  </thead>\n  <tbody>\n    <tr>\n      <th>22</th>\n      <td>1-hydroxypyrene</td>\n      <td>HILIC</td>\n      <td>Acetonitrile</td>\n      <td>2.7</td>\n      <td>Formic acid</td>\n      <td>c1cc2ccc3ccc(c4ccc(c1)c2c34)O</td>\n      <td>1.822857</td>\n      <td>1</td>\n    </tr>\n    <tr>\n      <th>23</th>\n      <td>1-hydroxypyrene</td>\n      <td>HILIC</td>\n      <td>Acetonitrile</td>\n      <td>3.0</td>\n      <td>Acetic acid</td>\n      <td>c1cc2ccc3ccc(c4ccc(c1)c2c34)O</td>\n      <td>12.321429</td>\n      <td>1</td>\n    </tr>\n    <tr>\n      <th>24</th>\n      <td>1-hydroxypyrene</td>\n      <td>HILIC</td>\n      <td>Acetonitrile</td>\n      <td>3.0</td>\n      <td>Formic acid</td>\n      <td>c1cc2ccc3ccc(c4ccc(c1)c2c34)O</td>\n      <td>1.857143</td>\n      <td>1</td>\n    </tr>\n    <tr>\n      <th>25</th>\n      <td>1-hydroxypyrene</td>\n      <td>HILIC</td>\n      <td>Acetonitrile</td>\n      <td>5.0</td>\n      <td>Acetic acid</td>\n      <td>c1cc2ccc3ccc(c4ccc(c1)c2c34)O</td>\n      <td>1.850000</td>\n      <td>1</td>\n    </tr>\n    <tr>\n      <th>26</th>\n      <td>1-hydroxypyrene</td>\n      <td>HILIC</td>\n      <td>Acetonitrile</td>\n      <td>5.0</td>\n      <td>Formic acid</td>\n      <td>c1cc2ccc3ccc(c4ccc(c1)c2c34)O</td>\n      <td>1.851429</td>\n      <td>1</td>\n    </tr>\n  </tbody>\n</table>\n</div>"
     },
     "execution_count": 33,
     "metadata": {},
     "output_type": "execute_result"
    }
   ],
   "source": [
    "data_hilic.head()"
   ],
   "metadata": {
    "collapsed": false,
    "pycharm": {
     "name": "#%%\n"
    }
   }
  },
  {
   "cell_type": "code",
   "execution_count": 42,
   "outputs": [],
   "source": [
    "idx = np.where((data_hilic['Organic_modifier']=='Acetonitrile') & (data_hilic['Buffer']=='Formic acid')& (data_hilic['pH']==5))"
   ],
   "metadata": {
    "collapsed": false,
    "pycharm": {
     "name": "#%%\n"
    }
   }
  },
  {
   "cell_type": "code",
   "execution_count": 43,
   "outputs": [
    {
     "data": {
      "text/plain": "(array([  4,  16,  31,  43,  55,  66,  75,  85,  97, 109, 121, 133, 155,\n        167, 177, 188, 199, 211, 221, 233, 245, 257, 269, 281, 293, 304,\n        315, 326, 337, 349, 361, 373, 384, 394, 404, 414, 426, 436, 447,\n        459, 471, 483, 495, 507, 519, 531, 543, 554, 563, 575, 587, 599,\n        611, 623, 635, 647, 659, 671, 682, 694, 706, 717, 724, 736, 748,\n        760, 772, 784, 796, 808, 820, 831]),)"
     },
     "execution_count": 43,
     "metadata": {},
     "output_type": "execute_result"
    }
   ],
   "source": [
    "idx\n"
   ],
   "metadata": {
    "collapsed": false,
    "pycharm": {
     "name": "#%%\n"
    }
   }
  },
  {
   "cell_type": "code",
   "execution_count": 46,
   "outputs": [
    {
     "data": {
      "text/plain": "    Compound_name Column Organic_modifier   pH       Buffer  \\\n58  1-Nitropyrene  HILIC     Acetonitrile  2.7  Formic acid   \n59  1-Nitropyrene  HILIC     Acetonitrile  3.0  Acetic acid   \n60  1-Nitropyrene  HILIC     Acetonitrile  3.0  Formic acid   \n61  1-Nitropyrene  HILIC     Acetonitrile  5.0  Acetic acid   \n62  1-Nitropyrene  HILIC     Acetonitrile  5.0  Formic acid   \n63  1-Nitropyrene  HILIC     Acetonitrile  6.7  Formic acid   \n64  1-Nitropyrene  HILIC         Methanol  2.7  Formic acid   \n65  1-Nitropyrene  HILIC         Methanol  3.0  Acetic acid   \n66  1-Nitropyrene  HILIC         Methanol  3.0  Formic acid   \n67  1-Nitropyrene  HILIC         Methanol  5.0  Acetic acid   \n68  1-Nitropyrene  HILIC         Methanol  5.0  Formic acid   \n69  1-Nitropyrene  HILIC         Methanol  6.7  Formic acid   \n\n                                 SMILES        RT  labels  \n58  c1cc2ccc3ccc(c4ccc(c1)c2c34)N(=O)=O  2.373333       1  \n59  c1cc2ccc3ccc(c4ccc(c1)c2c34)N(=O)=O  2.338000       0  \n60  c1cc2ccc3ccc(c4ccc(c1)c2c34)N(=O)=O  2.226667       1  \n61  c1cc2ccc3ccc(c4ccc(c1)c2c34)N(=O)=O  2.221429       1  \n62  c1cc2ccc3ccc(c4ccc(c1)c2c34)N(=O)=O  2.176667       1  \n63  c1cc2ccc3ccc(c4ccc(c1)c2c34)N(=O)=O  2.185000       1  \n64  c1cc2ccc3ccc(c4ccc(c1)c2c34)N(=O)=O  1.804286       1  \n65  c1cc2ccc3ccc(c4ccc(c1)c2c34)N(=O)=O  1.852857       1  \n66  c1cc2ccc3ccc(c4ccc(c1)c2c34)N(=O)=O  1.810000       1  \n67  c1cc2ccc3ccc(c4ccc(c1)c2c34)N(=O)=O  1.810000       1  \n68  c1cc2ccc3ccc(c4ccc(c1)c2c34)N(=O)=O  1.807143       1  \n69  c1cc2ccc3ccc(c4ccc(c1)c2c34)N(=O)=O  1.934286       1  ",
      "text/html": "<div>\n<style scoped>\n    .dataframe tbody tr th:only-of-type {\n        vertical-align: middle;\n    }\n\n    .dataframe tbody tr th {\n        vertical-align: top;\n    }\n\n    .dataframe thead th {\n        text-align: right;\n    }\n</style>\n<table border=\"1\" class=\"dataframe\">\n  <thead>\n    <tr style=\"text-align: right;\">\n      <th></th>\n      <th>Compound_name</th>\n      <th>Column</th>\n      <th>Organic_modifier</th>\n      <th>pH</th>\n      <th>Buffer</th>\n      <th>SMILES</th>\n      <th>RT</th>\n      <th>labels</th>\n    </tr>\n  </thead>\n  <tbody>\n    <tr>\n      <th>58</th>\n      <td>1-Nitropyrene</td>\n      <td>HILIC</td>\n      <td>Acetonitrile</td>\n      <td>2.7</td>\n      <td>Formic acid</td>\n      <td>c1cc2ccc3ccc(c4ccc(c1)c2c34)N(=O)=O</td>\n      <td>2.373333</td>\n      <td>1</td>\n    </tr>\n    <tr>\n      <th>59</th>\n      <td>1-Nitropyrene</td>\n      <td>HILIC</td>\n      <td>Acetonitrile</td>\n      <td>3.0</td>\n      <td>Acetic acid</td>\n      <td>c1cc2ccc3ccc(c4ccc(c1)c2c34)N(=O)=O</td>\n      <td>2.338000</td>\n      <td>0</td>\n    </tr>\n    <tr>\n      <th>60</th>\n      <td>1-Nitropyrene</td>\n      <td>HILIC</td>\n      <td>Acetonitrile</td>\n      <td>3.0</td>\n      <td>Formic acid</td>\n      <td>c1cc2ccc3ccc(c4ccc(c1)c2c34)N(=O)=O</td>\n      <td>2.226667</td>\n      <td>1</td>\n    </tr>\n    <tr>\n      <th>61</th>\n      <td>1-Nitropyrene</td>\n      <td>HILIC</td>\n      <td>Acetonitrile</td>\n      <td>5.0</td>\n      <td>Acetic acid</td>\n      <td>c1cc2ccc3ccc(c4ccc(c1)c2c34)N(=O)=O</td>\n      <td>2.221429</td>\n      <td>1</td>\n    </tr>\n    <tr>\n      <th>62</th>\n      <td>1-Nitropyrene</td>\n      <td>HILIC</td>\n      <td>Acetonitrile</td>\n      <td>5.0</td>\n      <td>Formic acid</td>\n      <td>c1cc2ccc3ccc(c4ccc(c1)c2c34)N(=O)=O</td>\n      <td>2.176667</td>\n      <td>1</td>\n    </tr>\n    <tr>\n      <th>63</th>\n      <td>1-Nitropyrene</td>\n      <td>HILIC</td>\n      <td>Acetonitrile</td>\n      <td>6.7</td>\n      <td>Formic acid</td>\n      <td>c1cc2ccc3ccc(c4ccc(c1)c2c34)N(=O)=O</td>\n      <td>2.185000</td>\n      <td>1</td>\n    </tr>\n    <tr>\n      <th>64</th>\n      <td>1-Nitropyrene</td>\n      <td>HILIC</td>\n      <td>Methanol</td>\n      <td>2.7</td>\n      <td>Formic acid</td>\n      <td>c1cc2ccc3ccc(c4ccc(c1)c2c34)N(=O)=O</td>\n      <td>1.804286</td>\n      <td>1</td>\n    </tr>\n    <tr>\n      <th>65</th>\n      <td>1-Nitropyrene</td>\n      <td>HILIC</td>\n      <td>Methanol</td>\n      <td>3.0</td>\n      <td>Acetic acid</td>\n      <td>c1cc2ccc3ccc(c4ccc(c1)c2c34)N(=O)=O</td>\n      <td>1.852857</td>\n      <td>1</td>\n    </tr>\n    <tr>\n      <th>66</th>\n      <td>1-Nitropyrene</td>\n      <td>HILIC</td>\n      <td>Methanol</td>\n      <td>3.0</td>\n      <td>Formic acid</td>\n      <td>c1cc2ccc3ccc(c4ccc(c1)c2c34)N(=O)=O</td>\n      <td>1.810000</td>\n      <td>1</td>\n    </tr>\n    <tr>\n      <th>67</th>\n      <td>1-Nitropyrene</td>\n      <td>HILIC</td>\n      <td>Methanol</td>\n      <td>5.0</td>\n      <td>Acetic acid</td>\n      <td>c1cc2ccc3ccc(c4ccc(c1)c2c34)N(=O)=O</td>\n      <td>1.810000</td>\n      <td>1</td>\n    </tr>\n    <tr>\n      <th>68</th>\n      <td>1-Nitropyrene</td>\n      <td>HILIC</td>\n      <td>Methanol</td>\n      <td>5.0</td>\n      <td>Formic acid</td>\n      <td>c1cc2ccc3ccc(c4ccc(c1)c2c34)N(=O)=O</td>\n      <td>1.807143</td>\n      <td>1</td>\n    </tr>\n    <tr>\n      <th>69</th>\n      <td>1-Nitropyrene</td>\n      <td>HILIC</td>\n      <td>Methanol</td>\n      <td>6.7</td>\n      <td>Formic acid</td>\n      <td>c1cc2ccc3ccc(c4ccc(c1)c2c34)N(=O)=O</td>\n      <td>1.934286</td>\n      <td>1</td>\n    </tr>\n  </tbody>\n</table>\n</div>"
     },
     "execution_count": 46,
     "metadata": {},
     "output_type": "execute_result"
    }
   ],
   "source": [
    "data_hilic.loc[data_hilic['Compound_name']=='1-Nitropyrene']"
   ],
   "metadata": {
    "collapsed": false,
    "pycharm": {
     "name": "#%%\n"
    }
   }
  },
  {
   "cell_type": "code",
   "execution_count": 45,
   "outputs": [
    {
     "data": {
      "text/plain": "           Compound_name Column Organic_modifier   pH       Buffer  \\\n26       1-hydroxypyrene  HILIC     Acetonitrile  5.0  Formic acid   \n62         1-Nitropyrene  HILIC     Acetonitrile  5.0  Formic acid   \n143     1H-Benzotriazole  HILIC     Acetonitrile  5.0  Formic acid   \n206     2-naphthoic acid  HILIC     Acetonitrile  5.0  Formic acid   \n250      4-Chloroaniline  HILIC     Acetonitrile  5.0  Formic acid   \n...                  ...    ...              ...  ...          ...   \n2802  Triethyl phosphate  HILIC     Acetonitrile  5.0  Formic acid   \n2843         Trifluralin  HILIC     Acetonitrile  5.0  Formic acid   \n2881        Trimethoprim  HILIC     Acetonitrile  5.0  Formic acid   \n2923  Triphenylphosphate  HILIC     Acetonitrile  5.0  Formic acid   \n2956           Valsartan  HILIC     Acetonitrile  5.0  Formic acid   \n\n                                                 SMILES        RT  labels  \n26                        c1cc2ccc3ccc(c4ccc(c1)c2c34)O  1.851429       1  \n62                  c1cc2ccc3ccc(c4ccc(c1)c2c34)N(=O)=O  2.176667       1  \n143                                  c1ccc2c(c1)nn[nH]2  2.031429       1  \n206                              c1ccc2cc(ccc2c1)C(=O)O  1.910000       1  \n250                                       c1cc(ccc1Cl)N  1.907143       1  \n...                                                 ...       ...     ...  \n2802                                   CCOP(=O)(OCC)OCC  2.288571       0  \n2843        CCCN(CCC)c1c(cc(cc1N(=O)=O)C(F)(F)F)N(=O)=O  1.831667       1  \n2881            COc1cc(Cc2c[nH]c(=N)[nH]c2=N)cc(c1OC)OC  6.387143       1  \n2923               c1ccc(cc1)OP(=O)(Oc1ccccc1)Oc1ccccc1  1.820000       1  \n2956  CCCCC(=O)N(Cc1ccc(cc1)c1ccccc1c1n[nH]nn1)[C@@H...  3.177143       1  \n\n[72 rows x 8 columns]",
      "text/html": "<div>\n<style scoped>\n    .dataframe tbody tr th:only-of-type {\n        vertical-align: middle;\n    }\n\n    .dataframe tbody tr th {\n        vertical-align: top;\n    }\n\n    .dataframe thead th {\n        text-align: right;\n    }\n</style>\n<table border=\"1\" class=\"dataframe\">\n  <thead>\n    <tr style=\"text-align: right;\">\n      <th></th>\n      <th>Compound_name</th>\n      <th>Column</th>\n      <th>Organic_modifier</th>\n      <th>pH</th>\n      <th>Buffer</th>\n      <th>SMILES</th>\n      <th>RT</th>\n      <th>labels</th>\n    </tr>\n  </thead>\n  <tbody>\n    <tr>\n      <th>26</th>\n      <td>1-hydroxypyrene</td>\n      <td>HILIC</td>\n      <td>Acetonitrile</td>\n      <td>5.0</td>\n      <td>Formic acid</td>\n      <td>c1cc2ccc3ccc(c4ccc(c1)c2c34)O</td>\n      <td>1.851429</td>\n      <td>1</td>\n    </tr>\n    <tr>\n      <th>62</th>\n      <td>1-Nitropyrene</td>\n      <td>HILIC</td>\n      <td>Acetonitrile</td>\n      <td>5.0</td>\n      <td>Formic acid</td>\n      <td>c1cc2ccc3ccc(c4ccc(c1)c2c34)N(=O)=O</td>\n      <td>2.176667</td>\n      <td>1</td>\n    </tr>\n    <tr>\n      <th>143</th>\n      <td>1H-Benzotriazole</td>\n      <td>HILIC</td>\n      <td>Acetonitrile</td>\n      <td>5.0</td>\n      <td>Formic acid</td>\n      <td>c1ccc2c(c1)nn[nH]2</td>\n      <td>2.031429</td>\n      <td>1</td>\n    </tr>\n    <tr>\n      <th>206</th>\n      <td>2-naphthoic acid</td>\n      <td>HILIC</td>\n      <td>Acetonitrile</td>\n      <td>5.0</td>\n      <td>Formic acid</td>\n      <td>c1ccc2cc(ccc2c1)C(=O)O</td>\n      <td>1.910000</td>\n      <td>1</td>\n    </tr>\n    <tr>\n      <th>250</th>\n      <td>4-Chloroaniline</td>\n      <td>HILIC</td>\n      <td>Acetonitrile</td>\n      <td>5.0</td>\n      <td>Formic acid</td>\n      <td>c1cc(ccc1Cl)N</td>\n      <td>1.907143</td>\n      <td>1</td>\n    </tr>\n    <tr>\n      <th>...</th>\n      <td>...</td>\n      <td>...</td>\n      <td>...</td>\n      <td>...</td>\n      <td>...</td>\n      <td>...</td>\n      <td>...</td>\n      <td>...</td>\n    </tr>\n    <tr>\n      <th>2802</th>\n      <td>Triethyl phosphate</td>\n      <td>HILIC</td>\n      <td>Acetonitrile</td>\n      <td>5.0</td>\n      <td>Formic acid</td>\n      <td>CCOP(=O)(OCC)OCC</td>\n      <td>2.288571</td>\n      <td>0</td>\n    </tr>\n    <tr>\n      <th>2843</th>\n      <td>Trifluralin</td>\n      <td>HILIC</td>\n      <td>Acetonitrile</td>\n      <td>5.0</td>\n      <td>Formic acid</td>\n      <td>CCCN(CCC)c1c(cc(cc1N(=O)=O)C(F)(F)F)N(=O)=O</td>\n      <td>1.831667</td>\n      <td>1</td>\n    </tr>\n    <tr>\n      <th>2881</th>\n      <td>Trimethoprim</td>\n      <td>HILIC</td>\n      <td>Acetonitrile</td>\n      <td>5.0</td>\n      <td>Formic acid</td>\n      <td>COc1cc(Cc2c[nH]c(=N)[nH]c2=N)cc(c1OC)OC</td>\n      <td>6.387143</td>\n      <td>1</td>\n    </tr>\n    <tr>\n      <th>2923</th>\n      <td>Triphenylphosphate</td>\n      <td>HILIC</td>\n      <td>Acetonitrile</td>\n      <td>5.0</td>\n      <td>Formic acid</td>\n      <td>c1ccc(cc1)OP(=O)(Oc1ccccc1)Oc1ccccc1</td>\n      <td>1.820000</td>\n      <td>1</td>\n    </tr>\n    <tr>\n      <th>2956</th>\n      <td>Valsartan</td>\n      <td>HILIC</td>\n      <td>Acetonitrile</td>\n      <td>5.0</td>\n      <td>Formic acid</td>\n      <td>CCCCC(=O)N(Cc1ccc(cc1)c1ccccc1c1n[nH]nn1)[C@@H...</td>\n      <td>3.177143</td>\n      <td>1</td>\n    </tr>\n  </tbody>\n</table>\n<p>72 rows × 8 columns</p>\n</div>"
     },
     "execution_count": 45,
     "metadata": {},
     "output_type": "execute_result"
    }
   ],
   "source": [
    "data_subset"
   ],
   "metadata": {
    "collapsed": false,
    "pycharm": {
     "name": "#%%\n"
    }
   }
  },
  {
   "cell_type": "code",
   "execution_count": 19,
   "outputs": [
    {
     "data": {
      "text/plain": "5.0    286\n3.0    270\n2.7    146\n6.7    134\nName: pH, dtype: int64"
     },
     "execution_count": 19,
     "metadata": {},
     "output_type": "execute_result"
    }
   ],
   "source": [
    "data_hilic['pH'].value_counts()"
   ],
   "metadata": {
    "collapsed": false,
    "pycharm": {
     "name": "#%%\n"
    }
   }
  },
  {
   "cell_type": "code",
   "execution_count": 10,
   "outputs": [],
   "source": [
    "nums = np.random.choice([1, 2], size=len(test_data), p=[0.8, 0.2])"
   ],
   "metadata": {
    "collapsed": false,
    "pycharm": {
     "name": "#%%\n"
    }
   }
  },
  {
   "cell_type": "code",
   "execution_count": 11,
   "outputs": [],
   "source": [
    "test_data['labels']=nums"
   ],
   "metadata": {
    "collapsed": false,
    "pycharm": {
     "name": "#%%\n"
    }
   }
  },
  {
   "cell_type": "code",
   "execution_count": 13,
   "outputs": [
    {
     "data": {
      "text/plain": "1    2663\n0     298\nName: labels, dtype: int64"
     },
     "execution_count": 13,
     "metadata": {},
     "output_type": "execute_result"
    }
   ],
   "source": [
    "test_data['labels'].value_counts()"
   ],
   "metadata": {
    "collapsed": false,
    "pycharm": {
     "name": "#%%\n"
    }
   }
  }
 ],
 "metadata": {
  "kernelspec": {
   "name": "tensorflow",
   "language": "python",
   "display_name": "Python 3.9 (tensorflow)"
  },
  "language_info": {
   "codemirror_mode": {
    "name": "ipython",
    "version": 2
   },
   "file_extension": ".py",
   "mimetype": "text/x-python",
   "name": "python",
   "nbconvert_exporter": "python",
   "pygments_lexer": "ipython2",
   "version": "2.7.6"
  }
 },
 "nbformat": 4,
 "nbformat_minor": 0
}