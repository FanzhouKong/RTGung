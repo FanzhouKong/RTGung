{
 "cells": [
  {
   "cell_type": "code",
   "execution_count": 5,
   "metadata": {
    "collapsed": true,
    "pycharm": {
     "name": "#%%\n"
    }
   },
   "outputs": [],
   "source": [
    "import numpy as np\n",
    "from rdkit import Chem\n",
    "from rdkit.Chem import Draw\n",
    "from sklearn.utils import class_weight\n",
    "from scipy.sparse import csr_matrix\n",
    "import tensorflow as tf\n",
    "# import tensorflow.keras as K\n",
    "\n",
    "import kgcn\n",
    "import kgcn.data_util\n",
    "import kgcn.core\n",
    "import kgcn.layers\n",
    "from kgcn.data_util import dense_to_sparse\n",
    "from kgcn.preprocessing import chem\n",
    "from kgcn.preprocessing.utils import create_adjancy_matrix, create_feature_matrix\n",
    "from kgcn.default_model import DefaultModel\n",
    "from kgcn.gcn import get_default_config"
   ]
  },
  {
   "cell_type": "code",
   "execution_count": 56,
   "outputs": [],
   "source": [
    "labels = [[0,1],[1,0], [1,0], [0,1], [1,0], [0,1], [0,1], [0,1], [1,0], [1,0], [0,1], [1,0], [1,0], [1,0], [0,1],\n",
    "          [0,1], [1,0], [0,1], [0,1],[1,0], [1,0], [1,0], [1,0], [1,0], [0,1], [1,0], [0,1], [1,0], [1,0], [0,1]]\n",
    "smiles = ['COC1=CC(OC)=C(C=C1)N(CC(=O)NCCSC1=CC=CC=C1)S(=O)(=O)C1=CC=CC=C1',\n",
    "          'FC1=C(SCC(=O)NC(=O)C2=C(Br)C=CC=C2)C=CC=C1',\n",
    "          'O=C(CCC1=CC=CC=C1)NC1=CC2=C3N(CCCC3=C1)C(=O)CC2',\n",
    "          'COC1=NC=C(NC(=O)\\C=C\\C2=CC=CC(=C2)C(F)(F)F)C=C1',\n",
    "          'NC(=O)C1CCN(CC(O)COCC2=C(Cl)C=CC=C2)CC1',\n",
    "          'CCOC1=C(NC(=O)COC(=O)C2=C(C)OC(C)=C2)C=CC=C1',\n",
    "          'COC1=C(Cl)SC=C1C(=O)NC1=C(OC)C=CC(OC)=C1',\n",
    "          'CC(C)N1CNC(NC2=NC3=C(O2)C=CC=C3)=NC1',\n",
    "          'NS(=O)(=O)C1=CC=C(NC(=O)COC(=O)C2=CC=CO2)C=C1',\n",
    "          'CS(=O)(=O)CC1=CC=C(C=C1)C(=O)N1CCN(CC1)C(=O)C1=CC=CS1',\n",
    "          'CCOC(=O)C1=CN=C2C=CC(C)=CC2=C1N(C)CC1=CC=CC=C1',\n",
    "          'CNC(=S)NC1=CC=CC(=C1)C(=O)OC',\n",
    "          'CC(NC(=O)CSC1=NNC=N1)C1=C(Cl)C=C(Cl)C=C1',\n",
    "          'FC1=CC(F)=C(C=C1)S(=O)(=O)NC1=CC=CC=C1C(=O)NN1CCOCC1',\n",
    "          'COC1=CC=C(C(OC)=C1C(=O)NC(=O)NC1=C(C)C=CC=C1C)[N+]([O-])=O',\n",
    "          r'COC1=CC(\\C=N\\NC(=O)C2=CC=CC3=C2C=CC=C3)=CC(OC)=C1O',\n",
    "          'COC1=C(CC(=O)NC2=NC(C)=CC=C2)C=CC=C1',\n",
    "          'CC1=NN(C(C)=C1C(=O)OC1=CC=CC=C1)C1=CC=CC=C1',\n",
    "          r'CCN(CC)C1=CC(O)=C(\\C=N\\NC(=O)C2=CC3=C(NC=N3)C=C2)C=C1',\n",
    "          r'N(\\N=C\\C1=CC=CN=C1)C1=NC=CC=C1',\n",
    "          'CC(C)N1CCN(CC1)C1=NC=C(C=C1)S(=O)(=O)N1CCOCC1',\n",
    "          'CCCCOC1=C(Cl)C=C(CSC(N)=N)C=C1',\n",
    "          'C=CCNC(=O)C(=O)NC1=CC2=C3N(CCCC3=C1)C(=O)CC2',\n",
    "          'C(N1CCN(CC1)C1=NC2=C(C=CC=C2)N=C1)C1=CC=CC=C1',\n",
    "          'CC1=CC(Cl)=C(C=C1)C1=NC(=NO1)C1=CC=NC=C1',\n",
    "          'O=C(CNC(=O)C1=CC=CC=C1)NCC1=NC2=C(N1)C=CC=C2',\n",
    "          'CC1=CC=CC(OCCSC2=NC3=C(N)N=CNC3=N2)=C1',\n",
    "          'CC1=CC2=C(NC3=C2CCN2C(=O)OC(C)(C)C32C)C=C1',\n",
    "          'CN1CCC(CC1)NC1=CC=C(Cl)C=C1',\n",
    "          'CC1=CC=CC(=C1)C(=O)NC1=C(C(O)=O)C2=C(CCCC2)S1']\n",
    "mol_obj_list = [Chem.MolFromSmiles(s) for s in smiles]\n",
    "labels = np.array(labels, dtype=np.float16)\n",
    "# Draw.MolsToGridImage(mol_obj_list, molsPerRow=6, subImgSize=(180, 180))"
   ],
   "metadata": {
    "collapsed": false,
    "pycharm": {
     "name": "#%%\n"
    }
   }
  },
  {
   "cell_type": "code",
   "execution_count": 69,
   "outputs": [
    {
     "ename": "ModuleNotFoundError",
     "evalue": "No module named 'dgl'",
     "output_type": "error",
     "traceback": [
      "\u001B[0;31m---------------------------------------------------------------------------\u001B[0m",
      "\u001B[0;31mModuleNotFoundError\u001B[0m                       Traceback (most recent call last)",
      "Input \u001B[0;32mIn [69]\u001B[0m, in \u001B[0;36m<cell line: 1>\u001B[0;34m()\u001B[0m\n\u001B[0;32m----> 1\u001B[0m \u001B[38;5;28;01mfrom\u001B[39;00m \u001B[38;5;21;01mfingerprints\u001B[39;00m\u001B[38;5;21;01m.\u001B[39;00m\u001B[38;5;21;01minfofunction\u001B[39;00m \u001B[38;5;28;01mimport\u001B[39;00m smi2infomax\n",
      "File \u001B[0;32m~/Documents/GitHub/RT_analysis/fingerprints/infofunction.py:8\u001B[0m, in \u001B[0;36m<module>\u001B[0;34m\u001B[0m\n\u001B[1;32m      1\u001B[0m \u001B[38;5;66;03m# -*- coding: utf-8 -*-\u001B[39;00m\n\u001B[1;32m      2\u001B[0m \u001B[38;5;124;03m\"\"\"\u001B[39;00m\n\u001B[1;32m      3\u001B[0m \u001B[38;5;124;03mCreated on Wed Jul  6 09:41:31 2022\u001B[39;00m\n\u001B[1;32m      4\u001B[0m \n\u001B[1;32m      5\u001B[0m \u001B[38;5;124;03m@author: Study\u001B[39;00m\n\u001B[1;32m      6\u001B[0m \u001B[38;5;124;03m\"\"\"\u001B[39;00m\n\u001B[0;32m----> 8\u001B[0m \u001B[38;5;28;01mimport\u001B[39;00m \u001B[38;5;21;01mdgl\u001B[39;00m\n\u001B[1;32m      9\u001B[0m \u001B[38;5;28;01mfrom\u001B[39;00m \u001B[38;5;21;01mcollections\u001B[39;00m \u001B[38;5;28;01mimport\u001B[39;00m defaultdict\n\u001B[1;32m     10\u001B[0m \u001B[38;5;28;01mfrom\u001B[39;00m \u001B[38;5;21;01mdgl\u001B[39;00m\u001B[38;5;21;01m.\u001B[39;00m\u001B[38;5;21;01mnn\u001B[39;00m\u001B[38;5;21;01m.\u001B[39;00m\u001B[38;5;21;01mpytorch\u001B[39;00m\u001B[38;5;21;01m.\u001B[39;00m\u001B[38;5;21;01mglob\u001B[39;00m \u001B[38;5;28;01mimport\u001B[39;00m AvgPooling\n",
      "\u001B[0;31mModuleNotFoundError\u001B[0m: No module named 'dgl'"
     ]
    }
   ],
   "source": [
    "from fingerprints.infofunction import smi2infomax"
   ],
   "metadata": {
    "collapsed": false,
    "pycharm": {
     "name": "#%%\n"
    }
   }
  },
  {
   "cell_type": "code",
   "execution_count": 52,
   "outputs": [],
   "source": [
    "# labels = labels[:, 0]"
   ],
   "metadata": {
    "collapsed": false,
    "pycharm": {
     "name": "#%%\n"
    }
   }
  },
  {
   "cell_type": "code",
   "execution_count": 57,
   "outputs": [
    {
     "name": "stderr",
     "output_type": "stream",
     "text": [
      "/var/folders/sq/fc0hszxn0q1_1cc187d_zjm80000gn/T/ipykernel_47087/3930189822.py:32: VisibleDeprecationWarning: Creating an ndarray from ragged nested sequences (which is a list-or-tuple of lists-or-tuples-or ndarrays with different lengths or shapes) is deprecated. If you meant to do this, you must specify 'dtype=object' when creating the ndarray.\n",
      "  \"adj\": np.asarray(adj_list),\n"
     ]
    }
   ],
   "source": [
    "mask_labels = np.zeros_like(labels, dtype=np.float16)\n",
    "atom_num_limit = 50\n",
    "\n",
    "mol_list = []\n",
    "adj_list = []\n",
    "feature_list = []\n",
    "mol_name_list = []\n",
    "label_data_list = []\n",
    "label_mask_list = []\n",
    "\n",
    "for i, mol in enumerate(mol_obj_list):\n",
    "    Chem.SanitizeMol(mol, sanitizeOps=Chem.SANITIZE_ADJUSTHS)\n",
    "    mol_list.append(mol)\n",
    "    name = f\"index_{str(i)}\"\n",
    "    mol_name_list.append(name)\n",
    "    adj = create_adjancy_matrix(mol)\n",
    "    feature = create_feature_matrix(mol, atom_num_limit)\n",
    "\n",
    "    adj_list.append(dense_to_sparse(adj))\n",
    "    feature_list.append(feature)\n",
    "    label_data_list.append(labels[i])\n",
    "    label_mask_list.append(mask_labels[i])\n",
    "    # compute class weight\n",
    "    label_int = np.argmax(label_data_list\n",
    "                          , axis=1\n",
    "                          )\n",
    "    cw = class_weight.compute_class_weight(class_weight=\"balanced\",\n",
    "                                            classes=np.unique(label_int),y = label_int)\n",
    "\n",
    "# This dictionary is used as an input of kGCN\n",
    "obj = {\"feature\": np.asarray(feature_list),\n",
    "       \"adj\": np.asarray(adj_list),\n",
    "       \"label\": np.asarray(label_data_list),\n",
    "       \"mask_label\": np.asarray(label_mask_list),\n",
    "       \"label_dim\": labels.shape[1],\n",
    "       \"label_sparse\": csr_matrix(np.asarray(label_data_list).astype(float)),\n",
    "       \"mask_label_sparse\": csr_matrix(np.asarray(label_mask_list).astype(float)),\n",
    "       \"max_node_num\": atom_num_limit,\n",
    "       \"mol_info\": {\"obj_list\": mol_list,\n",
    "                    \"name_list\": mol_name_list},\n",
    "       \"class_weight\": cw\n",
    "       }"
   ],
   "metadata": {
    "collapsed": false,
    "pycharm": {
     "name": "#%%\n"
    }
   }
  },
  {
   "cell_type": "code",
   "execution_count": 65,
   "outputs": [
    {
     "data": {
      "text/plain": "[array([0., 1.], dtype=float16),\n array([1., 0.], dtype=float16),\n array([1., 0.], dtype=float16),\n array([0., 1.], dtype=float16),\n array([1., 0.], dtype=float16),\n array([0., 1.], dtype=float16),\n array([0., 1.], dtype=float16),\n array([0., 1.], dtype=float16),\n array([1., 0.], dtype=float16),\n array([1., 0.], dtype=float16),\n array([0., 1.], dtype=float16),\n array([1., 0.], dtype=float16),\n array([1., 0.], dtype=float16),\n array([1., 0.], dtype=float16),\n array([0., 1.], dtype=float16),\n array([0., 1.], dtype=float16),\n array([1., 0.], dtype=float16),\n array([0., 1.], dtype=float16),\n array([0., 1.], dtype=float16),\n array([1., 0.], dtype=float16),\n array([1., 0.], dtype=float16),\n array([1., 0.], dtype=float16),\n array([1., 0.], dtype=float16),\n array([1., 0.], dtype=float16),\n array([0., 1.], dtype=float16),\n array([1., 0.], dtype=float16),\n array([0., 1.], dtype=float16),\n array([1., 0.], dtype=float16),\n array([1., 0.], dtype=float16),\n array([0., 1.], dtype=float16)]"
     },
     "execution_count": 65,
     "metadata": {},
     "output_type": "execute_result"
    }
   ],
   "source": [
    "label_data_list"
   ],
   "metadata": {
    "collapsed": false,
    "pycharm": {
     "name": "#%%\n"
    }
   }
  },
  {
   "cell_type": "code",
   "execution_count": 20,
   "outputs": [],
   "source": [
    "class NNModel(DefaultModel):\n",
    "    def build_placeholders(self, info, config, batch_size, **kwargs):\n",
    "        # input data types (placeholders) of this neural network\n",
    "        return self.get_placeholders(info, config, batch_size,\n",
    "            ['adjs','nodes','labels','mask','dropout_rate',\n",
    "            'enabled_node_nums','is_train','features'], **kwargs)\n",
    "\n",
    "    def build_model(self, placeholders, info, config, batch_size, **kwargs):\n",
    "        adj_channel_num = info.adj_channel_num\n",
    "        embedding_dim = config[\"embedding_dim\"]\n",
    "        in_adjs = placeholders[\"adjs\"]\n",
    "        features = placeholders[\"features\"]\n",
    "        in_nodes = placeholders[\"nodes\"]\n",
    "        labels = placeholders[\"labels\"]\n",
    "        mask=placeholders[\"mask\"]\n",
    "        enabled_node_nums = placeholders[\"enabled_node_nums\"]\n",
    "        dropout_rate = placeholders[\"dropout_rate\"]\n",
    "\n",
    "        layer = features\n",
    "        in_dim = info.feature_dim\n",
    "        # layer: batch_size x graph_node_num x dim\n",
    "        # 1\n",
    "        layer = kgcn.layers.GraphConv(\n",
    "            128,\n",
    "            adj_channel_num\n",
    "            )(layer, adj=in_adjs)\n",
    "        layer = kgcn.layers.GraphBatchNormalization()(\n",
    "            layer,\n",
    "            max_node_num=info.graph_node_num,\n",
    "            enabled_node_nums=enabled_node_nums\n",
    "            )\n",
    "        layer = tf.nn.relu(layer)\n",
    "        layer = K.layers.Dropout(dropout_rate)(layer)\n",
    "        # 2\n",
    "        layer = kgcn.layers.GraphDense(128)(layer)\n",
    "        layer = kgcn.layers.GraphBatchNormalization()(\n",
    "            layer,\n",
    "            max_node_num=info.graph_node_num,\n",
    "            enabled_node_nums=enabled_node_nums\n",
    "            )\n",
    "        layer = kgcn.layers.GraphGather()(layer)\n",
    "        layer = tf.nn.tanh(layer)\n",
    "        # 3\n",
    "        layer = K.layers.Dense(128)(layer)\n",
    "        layer = K.layers.BatchNormalization()(layer)\n",
    "        layer = tf.nn.relu(layer)\n",
    "        logits=K.layers.Dense(info.label_dim)(layer)\n",
    "        # compute prediction\n",
    "        predictions = tf.nn.softmax(logits)\n",
    "        # compute loss\n",
    "        labels = tf.cast(labels,dtype=tf.float32)\n",
    "        cw = info['class_weight']\n",
    "        w = tf.reduce_sum(cw * labels, axis=1)\n",
    "        unweighted_cost = tf.nn.softmax_cross_entropy_with_logits(labels=labels,logits=logits)\n",
    "        weighted_cost = unweighted_cost * w\n",
    "        loss_to_minimize = tf.reduce_sum(weighted_cost)\n",
    "        # compute correct count\n",
    "        metrics = {}\n",
    "        correct_count = mask*tf.cast(tf.equal(tf.argmax(predictions,1), tf.argmax(labels,1)),tf.float32)\n",
    "        metrics[\"correct_count\"] = tf.reduce_sum(correct_count)\n",
    "        return logits, predictions, loss_to_minimize, loss_to_minimize, metrics"
   ],
   "metadata": {
    "collapsed": false,
    "pycharm": {
     "name": "#%%\n"
    }
   }
  },
  {
   "cell_type": "code",
   "execution_count": 21,
   "outputs": [
    {
     "name": "stdout",
     "output_type": "stream",
     "text": [
      "[OK] checking #graphs\n",
      "The number of graphs                   =30\n",
      "Dimension of a feature                 =81\n",
      "The maximum number of nodes in a graph =50\n",
      "The number of nodes in all graphs      =None\n",
      "Dimension of a label                   =2\n",
      "The number of adj. matrices in a graph =1\n",
      "\n"
     ]
    }
   ],
   "source": [
    "config = {\n",
    "    \"with_feature\": True,\n",
    "    \"with_node_embedding\": False,\n",
    "    \"normalize_adj_flag\":True,\n",
    "    \"split_adj_flag\":False,\n",
    "    \"shuffle_data\":False\n",
    "}\n",
    "train_data, info = kgcn.data_util.build_data(config, obj)"
   ],
   "metadata": {
    "collapsed": false,
    "pycharm": {
     "name": "#%%\n"
    }
   }
  },
  {
   "cell_type": "code",
   "execution_count": 22,
   "outputs": [
    {
     "name": "stderr",
     "output_type": "stream",
     "text": [
      "2022-07-14 18:58:14.852676: I tensorflow/core/common_runtime/pluggable_device/pluggable_device_factory.cc:305] Could not identify NUMA node of platform GPU ID 0, defaulting to 0. Your kernel may not have been built with NUMA support.\n",
      "2022-07-14 18:58:14.852761: I tensorflow/core/common_runtime/pluggable_device/pluggable_device_factory.cc:271] Created TensorFlow device (/job:localhost/replica:0/task:0/device:GPU:0 with 0 MB memory) -> physical PluggableDevice (device: 0, name: METAL, pci bus id: <undefined>)\n"
     ]
    }
   ],
   "source": [
    "sess=tf.compat.v1.Session()\n",
    "config = {\n",
    "    \"learning_rate\": 0.01,\n",
    "    \"batch_size\": 100,\n",
    "    \"param\": None,\n",
    "    \"retrain\": None,\n",
    "    \"save_model_path\": \"model\",\n",
    "    \"epoch\": 5,\n",
    "    \"profile\": None,\n",
    "    \"dropout_rate\": 0.,\n",
    "    \"task\": \"classification\",\n",
    "    \"save_interval\": 2,\n",
    "    \"embedding_dim\": 4\n",
    "}\n",
    "model = kgcn.core.CoreModel(sess, config, info)\n",
    "nn = NNModel()\n",
    "model.build(nn)"
   ],
   "metadata": {
    "collapsed": false,
    "pycharm": {
     "name": "#%%\n"
    }
   }
  },
  {
   "cell_type": "code",
   "execution_count": 23,
   "outputs": [
    {
     "name": "stderr",
     "output_type": "stream",
     "text": [
      "2022-07-14 18:58:29.447760: W tensorflow/core/platform/profile_utils/cpu_utils.cc:128] Failed to get CPU frequency: 0 Hz\n",
      "2022-07-14 18:58:29.451300: I tensorflow/core/grappler/optimizers/custom_graph_optimizer_registry.cc:112] Plugin optimizer for device_type GPU is enabled.\n"
     ]
    },
    {
     "name": "stdout",
     "output_type": "stream",
     "text": [
      "#train data =  30\n"
     ]
    },
    {
     "name": "stderr",
     "output_type": "stream",
     "text": [
      "2022-07-14 18:58:30.216073: I tensorflow/core/grappler/optimizers/custom_graph_optimizer_registry.cc:112] Plugin optimizer for device_type GPU is enabled.\n",
      "2022-07-14 18:58:30.256252: I tensorflow/core/grappler/optimizers/custom_graph_optimizer_registry.cc:112] Plugin optimizer for device_type GPU is enabled.\n"
     ]
    },
    {
     "name": "stdout",
     "output_type": "stream",
     "text": [
      "INFO:tensorflow:model/model.00000.ckpt is not in all_model_checkpoint_paths. Manually adding it.\n"
     ]
    },
    {
     "name": "stderr",
     "output_type": "stream",
     "text": [
      "2022-07-14 18:58:38.315171: I tensorflow/core/grappler/optimizers/custom_graph_optimizer_registry.cc:112] Plugin optimizer for device_type GPU is enabled.\n"
     ]
    },
    {
     "name": "stdout",
     "output_type": "stream",
     "text": [
      "epoch 0, training cost 1.50941 (acc=0.566667), validation cost 0 (acc=0) (count=0) ([SAVE] model/model.00000.ckpt) \n",
      "[SAVE]  model/model.best.ckpt\n",
      "INFO:tensorflow:model/model.best.ckpt is not in all_model_checkpoint_paths. Manually adding it.\n"
     ]
    },
    {
     "name": "stderr",
     "output_type": "stream",
     "text": [
      "2022-07-14 18:58:39.300658: I tensorflow/core/grappler/optimizers/custom_graph_optimizer_registry.cc:112] Plugin optimizer for device_type GPU is enabled.\n"
     ]
    },
    {
     "name": "stdout",
     "output_type": "stream",
     "text": [
      "epoch 1, training cost 1.55244 (acc=0.433333), validation cost 0 (acc=0) (count=0) \n",
      "INFO:tensorflow:model/model.00002.ckpt is not in all_model_checkpoint_paths. Manually adding it.\n"
     ]
    },
    {
     "name": "stderr",
     "output_type": "stream",
     "text": [
      "2022-07-14 18:58:39.728797: I tensorflow/core/grappler/optimizers/custom_graph_optimizer_registry.cc:112] Plugin optimizer for device_type GPU is enabled.\n"
     ]
    },
    {
     "name": "stdout",
     "output_type": "stream",
     "text": [
      "epoch 2, training cost 2.10685 (acc=0.566667), validation cost 0 (acc=0) (count=0) ([SAVE] model/model.00002.ckpt) \n"
     ]
    },
    {
     "name": "stderr",
     "output_type": "stream",
     "text": [
      "2022-07-14 18:58:40.484099: I tensorflow/core/grappler/optimizers/custom_graph_optimizer_registry.cc:112] Plugin optimizer for device_type GPU is enabled.\n"
     ]
    },
    {
     "name": "stdout",
     "output_type": "stream",
     "text": [
      "epoch 3, training cost 1.0347 (acc=0.566667), validation cost 0 (acc=0) (count=0) \n",
      "INFO:tensorflow:model/model.00004.ckpt is not in all_model_checkpoint_paths. Manually adding it.\n"
     ]
    },
    {
     "name": "stderr",
     "output_type": "stream",
     "text": [
      "2022-07-14 18:58:40.885772: I tensorflow/core/grappler/optimizers/custom_graph_optimizer_registry.cc:112] Plugin optimizer for device_type GPU is enabled.\n"
     ]
    },
    {
     "name": "stdout",
     "output_type": "stream",
     "text": [
      "epoch 4, training cost 0.989067 (acc=0.433333), validation cost 0 (acc=0) (count=0) ([SAVE] model/model.00004.ckpt) \n",
      "[RESTORE]  model/model.best.ckpt\n",
      "INFO:tensorflow:Restoring parameters from model/model.best.ckpt\n",
      "[SAVE]  model/model.last.ckpt\n",
      "INFO:tensorflow:model/model.last.ckpt is not in all_model_checkpoint_paths. Manually adding it.\n"
     ]
    },
    {
     "name": "stderr",
     "output_type": "stream",
     "text": [
      "2022-07-14 18:58:41.561880: I tensorflow/core/grappler/optimizers/custom_graph_optimizer_registry.cc:112] Plugin optimizer for device_type GPU is enabled.\n"
     ]
    },
    {
     "data": {
      "text/plain": "[{'epoch': 0,\n  'validation_cost': 0,\n  'training_cost': 1.5094098409016927,\n  'save_path': 'model/model.00000.ckpt',\n  'validation_accuracy': 0,\n  'training_correct_count': 17.0,\n  'training_accuracy': 0.5666666666666667},\n {'epoch': 1,\n  'validation_cost': 0,\n  'training_cost': 1.5524372100830077,\n  'save_path': None,\n  'validation_accuracy': 0,\n  'training_correct_count': 13.0,\n  'training_accuracy': 0.43333333333333335},\n {'epoch': 2,\n  'validation_cost': 0,\n  'training_cost': 2.106853485107422,\n  'save_path': 'model/model.00002.ckpt',\n  'validation_accuracy': 0,\n  'training_correct_count': 17.0,\n  'training_accuracy': 0.5666666666666667},\n {'epoch': 3,\n  'validation_cost': 0,\n  'training_cost': 1.0346997578938801,\n  'save_path': None,\n  'validation_accuracy': 0,\n  'training_correct_count': 17.0,\n  'training_accuracy': 0.5666666666666667},\n {'epoch': 4,\n  'validation_cost': 0,\n  'training_cost': 0.9890669504801433,\n  'save_path': 'model/model.00004.ckpt',\n  'validation_accuracy': 0,\n  'training_correct_count': 13.0,\n  'training_accuracy': 0.43333333333333335}]"
     },
     "execution_count": 23,
     "metadata": {},
     "output_type": "execute_result"
    }
   ],
   "source": [
    "model.fit(train_data)"
   ],
   "metadata": {
    "collapsed": false,
    "pycharm": {
     "name": "#%%\n"
    }
   }
  },
  {
   "cell_type": "code",
   "execution_count": 24,
   "outputs": [
    {
     "name": "stderr",
     "output_type": "stream",
     "text": [
      "2022-07-14 18:59:04.257927: I tensorflow/core/grappler/optimizers/custom_graph_optimizer_registry.cc:112] Plugin optimizer for device_type GPU is enabled.\n",
      "2022-07-14 18:59:04.297676: I tensorflow/core/grappler/optimizers/custom_graph_optimizer_registry.cc:112] Plugin optimizer for device_type GPU is enabled.\n"
     ]
    },
    {
     "name": "stdout",
     "output_type": "stream",
     "text": [
      "[array([0.04835534, 0.95164466], dtype=float32), array([0.06273767, 0.9372624 ], dtype=float32), array([0.05210143, 0.9478985 ], dtype=float32), array([0.055229  , 0.94477093], dtype=float32), array([0.03595885, 0.9640412 ], dtype=float32), array([0.03963828, 0.9603617 ], dtype=float32), array([0.03573409, 0.9642659 ], dtype=float32), array([0.03900567, 0.96099436], dtype=float32), array([0.04662781, 0.95337224], dtype=float32), array([0.04493654, 0.95506346], dtype=float32), array([0.05113424, 0.9488658 ], dtype=float32), array([0.05443053, 0.94556946], dtype=float32), array([0.04048838, 0.95951164], dtype=float32), array([0.03727497, 0.962725  ], dtype=float32), array([0.02980658, 0.97019345], dtype=float32), array([0.04865111, 0.95134884], dtype=float32), array([0.06055751, 0.9394425 ], dtype=float32), array([0.06278741, 0.9372125 ], dtype=float32), array([0.04400392, 0.95599604], dtype=float32), array([0.06848184, 0.9315182 ], dtype=float32), array([0.0218982, 0.9781018], dtype=float32), array([0.05516042, 0.9448396 ], dtype=float32), array([0.03953662, 0.96046335], dtype=float32), array([0.05520687, 0.9447932 ], dtype=float32), array([0.04714681, 0.9528532 ], dtype=float32), array([0.05766264, 0.9423374 ], dtype=float32), array([0.03839279, 0.96160716], dtype=float32), array([0.03717034, 0.96282965], dtype=float32), array([0.05547471, 0.94452536], dtype=float32), array([0.05024178, 0.9497582 ], dtype=float32)]\n"
     ]
    }
   ],
   "source": [
    "train_y=model.pred(train_data)\n",
    "print(train_y)\n"
   ],
   "metadata": {
    "collapsed": false,
    "pycharm": {
     "name": "#%%\n"
    }
   }
  },
  {
   "cell_type": "code",
   "execution_count": 67,
   "outputs": [
    {
     "data": {
      "text/plain": "1.00000004"
     },
     "execution_count": 67,
     "metadata": {},
     "output_type": "execute_result"
    }
   ],
   "source": [
    "0.05766264+0.9423374"
   ],
   "metadata": {
    "collapsed": false,
    "pycharm": {
     "name": "#%%\n"
    }
   }
  }
 ],
 "metadata": {
  "kernelspec": {
   "name": "tensorflow",
   "language": "python",
   "display_name": "Python 3.9 (tensorflow)"
  },
  "language_info": {
   "codemirror_mode": {
    "name": "ipython",
    "version": 2
   },
   "file_extension": ".py",
   "mimetype": "text/x-python",
   "name": "python",
   "nbconvert_exporter": "python",
   "pygments_lexer": "ipython2",
   "version": "2.7.6"
  }
 },
 "nbformat": 4,
 "nbformat_minor": 0
}